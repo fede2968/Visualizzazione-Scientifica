{
 "cells": [
  {
   "cell_type": "markdown",
   "id": "8054e8ff",
   "metadata": {},
   "source": [
    "# Analisi delle password comuni\n",
    "\n",
    "In questo notebook viene svolta un analisi basata su un dataset contenente le **password più comuni** in circolazione, con l’obiettivo di comprendere meglio le loro caratteristiche strutturali.  Questa analisi aiuta a evidenziare pattern ricorrenti, lunghezze tipiche e la composizione in termini di lettere, cifre e simboli.\n",
    "\n",
    "## Struttura del del dataset: `common_passwords`\n",
    "\n",
    "Il dataset è composto da un elenco di password comuni (ordinate in maniera decrescente in base alla diffusione), accompagnate da metriche utili alla loro classificazione. I principali campi sono:\n",
    "\n",
    "- **`password`**: la stringa testuale della password \n",
    "- **`length`**: lunghezza complessiva della password (conteggio totale dei caratteri)\n",
    "- **`num_chars`**: numero di **lettere** presenti nella password, indipendentemente dal fatto che siano minuscole o maiuscole.\n",
    "- **`num_upper`**: numero di **lettere maiuscole** \n",
    "- **`num_lower`**: numero di **lettere minuscole**\n",
    "- **`num_digits`**: numero di **cifre numeriche**\n"
   ]
  },
  {
   "cell_type": "code",
   "execution_count": 61,
   "id": "fab3da99",
   "metadata": {},
   "outputs": [],
   "source": [
    "import pandas as pd\n",
    "import plotly.express as px\n",
    "import plotly.graph_objects as go\n",
    "import matplotlib.pyplot as plt\n",
    "import numpy as np\n",
    "df = pd.read_csv(\"common_passwords.csv\")\n"
   ]
  },
  {
   "cell_type": "markdown",
   "id": "7dc393d2",
   "metadata": {},
   "source": [
    "### Distribuzione delle lunghezze delle password più comuni\n",
    "\n",
    "Il grafico mostra la distribuzione delle password in base alla loro lunghezza, con lo scopo di identificare  le lunghezze più comuni tra le password più diffuse. I dati vengono aggregati per lunghezza e visualizzati sotto forma di grafico a barre, con:\n",
    "- l’asse X che rappresenta il numero di caratteri delle password;\n",
    "- l’asse Y che indica il numero di occorrenze per ciascuna lunghezza.\n",
    "\n",
    "Ogni barra è colorata in base alla sua altezza (valore assoluto) utilizzando una scala cromatica, mentre sopra ciascuna barra è visualizzato il valore esatto. \n",
    "\n",
    "\n"
   ]
  },
  {
   "cell_type": "code",
   "execution_count": 62,
   "id": "2308e11a",
   "metadata": {},
   "outputs": [
    {
     "data": {
      "application/vnd.plotly.v1+json": {
       "config": {
        "plotlyServerURL": "https://plot.ly"
       },
       "data": [
        {
         "cliponaxis": false,
         "hovertemplate": "Lunghezza=%{x}<br>Conteggio=%{y}<br>text=%{text}<br>color=%{marker.color}<extra></extra>",
         "legendgroup": "",
         "marker": {
          "color": {
           "bdata": "AwAqA4cDaAzrBpsL2wBeABwAFQACAAEAAQA=",
           "dtype": "i2"
          },
          "coloraxis": "coloraxis",
          "pattern": {
           "shape": ""
          }
         },
         "name": "",
         "orientation": "v",
         "showlegend": false,
         "text": {
          "bdata": "AAAAAAAACEAAAAAAAFCJQAAAAAAAOIxAAAAAAADQqEAAAAAAAKybQAAAAAAANqdAAAAAAABga0AAAAAAAIBXQAAAAAAAADxAAAAAAAAANUAAAAAAAAAAQAAAAAAAAPA/AAAAAAAA8D8=",
          "dtype": "f8"
         },
         "textfont": {
          "size": 14
         },
         "textposition": "outside",
         "type": "bar",
         "x": {
          "bdata": "AwQFBgcICQoLDA0PEA==",
          "dtype": "i1"
         },
         "xaxis": "x",
         "y": {
          "bdata": "AwAqA4cDaAzrBpsL2wBeABwAFQACAAEAAQA=",
          "dtype": "i2"
         },
         "yaxis": "y"
        }
       ],
       "layout": {
        "barmode": "relative",
        "coloraxis": {
         "colorbar": {
          "title": {
           "text": "color"
          }
         },
         "colorscale": [
          [
           0,
           "rgb(247,251,255)"
          ],
          [
           0.125,
           "rgb(222,235,247)"
          ],
          [
           0.25,
           "rgb(198,219,239)"
          ],
          [
           0.375,
           "rgb(158,202,225)"
          ],
          [
           0.5,
           "rgb(107,174,214)"
          ],
          [
           0.625,
           "rgb(66,146,198)"
          ],
          [
           0.75,
           "rgb(33,113,181)"
          ],
          [
           0.875,
           "rgb(8,81,156)"
          ],
          [
           1,
           "rgb(8,48,107)"
          ]
         ],
         "showscale": false
        },
        "font": {
         "color": "white",
         "family": "Segoe UI",
         "size": 26
        },
        "height": 495,
        "legend": {
         "tracegroupgap": 0
        },
        "margin": {
         "b": 60,
         "l": 60,
         "r": 60,
         "t": 80
        },
        "paper_bgcolor": "#050b18",
        "plot_bgcolor": "#050b18",
        "template": {
         "data": {
          "bar": [
           {
            "error_x": {
             "color": "#f2f5fa"
            },
            "error_y": {
             "color": "#f2f5fa"
            },
            "marker": {
             "line": {
              "color": "rgb(17,17,17)",
              "width": 0.5
             },
             "pattern": {
              "fillmode": "overlay",
              "size": 10,
              "solidity": 0.2
             }
            },
            "type": "bar"
           }
          ],
          "barpolar": [
           {
            "marker": {
             "line": {
              "color": "rgb(17,17,17)",
              "width": 0.5
             },
             "pattern": {
              "fillmode": "overlay",
              "size": 10,
              "solidity": 0.2
             }
            },
            "type": "barpolar"
           }
          ],
          "carpet": [
           {
            "aaxis": {
             "endlinecolor": "#A2B1C6",
             "gridcolor": "#506784",
             "linecolor": "#506784",
             "minorgridcolor": "#506784",
             "startlinecolor": "#A2B1C6"
            },
            "baxis": {
             "endlinecolor": "#A2B1C6",
             "gridcolor": "#506784",
             "linecolor": "#506784",
             "minorgridcolor": "#506784",
             "startlinecolor": "#A2B1C6"
            },
            "type": "carpet"
           }
          ],
          "choropleth": [
           {
            "colorbar": {
             "outlinewidth": 0,
             "ticks": ""
            },
            "type": "choropleth"
           }
          ],
          "contour": [
           {
            "colorbar": {
             "outlinewidth": 0,
             "ticks": ""
            },
            "colorscale": [
             [
              0,
              "#0d0887"
             ],
             [
              0.1111111111111111,
              "#46039f"
             ],
             [
              0.2222222222222222,
              "#7201a8"
             ],
             [
              0.3333333333333333,
              "#9c179e"
             ],
             [
              0.4444444444444444,
              "#bd3786"
             ],
             [
              0.5555555555555556,
              "#d8576b"
             ],
             [
              0.6666666666666666,
              "#ed7953"
             ],
             [
              0.7777777777777778,
              "#fb9f3a"
             ],
             [
              0.8888888888888888,
              "#fdca26"
             ],
             [
              1,
              "#f0f921"
             ]
            ],
            "type": "contour"
           }
          ],
          "contourcarpet": [
           {
            "colorbar": {
             "outlinewidth": 0,
             "ticks": ""
            },
            "type": "contourcarpet"
           }
          ],
          "heatmap": [
           {
            "colorbar": {
             "outlinewidth": 0,
             "ticks": ""
            },
            "colorscale": [
             [
              0,
              "#0d0887"
             ],
             [
              0.1111111111111111,
              "#46039f"
             ],
             [
              0.2222222222222222,
              "#7201a8"
             ],
             [
              0.3333333333333333,
              "#9c179e"
             ],
             [
              0.4444444444444444,
              "#bd3786"
             ],
             [
              0.5555555555555556,
              "#d8576b"
             ],
             [
              0.6666666666666666,
              "#ed7953"
             ],
             [
              0.7777777777777778,
              "#fb9f3a"
             ],
             [
              0.8888888888888888,
              "#fdca26"
             ],
             [
              1,
              "#f0f921"
             ]
            ],
            "type": "heatmap"
           }
          ],
          "histogram": [
           {
            "marker": {
             "pattern": {
              "fillmode": "overlay",
              "size": 10,
              "solidity": 0.2
             }
            },
            "type": "histogram"
           }
          ],
          "histogram2d": [
           {
            "colorbar": {
             "outlinewidth": 0,
             "ticks": ""
            },
            "colorscale": [
             [
              0,
              "#0d0887"
             ],
             [
              0.1111111111111111,
              "#46039f"
             ],
             [
              0.2222222222222222,
              "#7201a8"
             ],
             [
              0.3333333333333333,
              "#9c179e"
             ],
             [
              0.4444444444444444,
              "#bd3786"
             ],
             [
              0.5555555555555556,
              "#d8576b"
             ],
             [
              0.6666666666666666,
              "#ed7953"
             ],
             [
              0.7777777777777778,
              "#fb9f3a"
             ],
             [
              0.8888888888888888,
              "#fdca26"
             ],
             [
              1,
              "#f0f921"
             ]
            ],
            "type": "histogram2d"
           }
          ],
          "histogram2dcontour": [
           {
            "colorbar": {
             "outlinewidth": 0,
             "ticks": ""
            },
            "colorscale": [
             [
              0,
              "#0d0887"
             ],
             [
              0.1111111111111111,
              "#46039f"
             ],
             [
              0.2222222222222222,
              "#7201a8"
             ],
             [
              0.3333333333333333,
              "#9c179e"
             ],
             [
              0.4444444444444444,
              "#bd3786"
             ],
             [
              0.5555555555555556,
              "#d8576b"
             ],
             [
              0.6666666666666666,
              "#ed7953"
             ],
             [
              0.7777777777777778,
              "#fb9f3a"
             ],
             [
              0.8888888888888888,
              "#fdca26"
             ],
             [
              1,
              "#f0f921"
             ]
            ],
            "type": "histogram2dcontour"
           }
          ],
          "mesh3d": [
           {
            "colorbar": {
             "outlinewidth": 0,
             "ticks": ""
            },
            "type": "mesh3d"
           }
          ],
          "parcoords": [
           {
            "line": {
             "colorbar": {
              "outlinewidth": 0,
              "ticks": ""
             }
            },
            "type": "parcoords"
           }
          ],
          "pie": [
           {
            "automargin": true,
            "type": "pie"
           }
          ],
          "scatter": [
           {
            "marker": {
             "line": {
              "color": "#283442"
             }
            },
            "type": "scatter"
           }
          ],
          "scatter3d": [
           {
            "line": {
             "colorbar": {
              "outlinewidth": 0,
              "ticks": ""
             }
            },
            "marker": {
             "colorbar": {
              "outlinewidth": 0,
              "ticks": ""
             }
            },
            "type": "scatter3d"
           }
          ],
          "scattercarpet": [
           {
            "marker": {
             "colorbar": {
              "outlinewidth": 0,
              "ticks": ""
             }
            },
            "type": "scattercarpet"
           }
          ],
          "scattergeo": [
           {
            "marker": {
             "colorbar": {
              "outlinewidth": 0,
              "ticks": ""
             }
            },
            "type": "scattergeo"
           }
          ],
          "scattergl": [
           {
            "marker": {
             "line": {
              "color": "#283442"
             }
            },
            "type": "scattergl"
           }
          ],
          "scattermap": [
           {
            "marker": {
             "colorbar": {
              "outlinewidth": 0,
              "ticks": ""
             }
            },
            "type": "scattermap"
           }
          ],
          "scattermapbox": [
           {
            "marker": {
             "colorbar": {
              "outlinewidth": 0,
              "ticks": ""
             }
            },
            "type": "scattermapbox"
           }
          ],
          "scatterpolar": [
           {
            "marker": {
             "colorbar": {
              "outlinewidth": 0,
              "ticks": ""
             }
            },
            "type": "scatterpolar"
           }
          ],
          "scatterpolargl": [
           {
            "marker": {
             "colorbar": {
              "outlinewidth": 0,
              "ticks": ""
             }
            },
            "type": "scatterpolargl"
           }
          ],
          "scatterternary": [
           {
            "marker": {
             "colorbar": {
              "outlinewidth": 0,
              "ticks": ""
             }
            },
            "type": "scatterternary"
           }
          ],
          "surface": [
           {
            "colorbar": {
             "outlinewidth": 0,
             "ticks": ""
            },
            "colorscale": [
             [
              0,
              "#0d0887"
             ],
             [
              0.1111111111111111,
              "#46039f"
             ],
             [
              0.2222222222222222,
              "#7201a8"
             ],
             [
              0.3333333333333333,
              "#9c179e"
             ],
             [
              0.4444444444444444,
              "#bd3786"
             ],
             [
              0.5555555555555556,
              "#d8576b"
             ],
             [
              0.6666666666666666,
              "#ed7953"
             ],
             [
              0.7777777777777778,
              "#fb9f3a"
             ],
             [
              0.8888888888888888,
              "#fdca26"
             ],
             [
              1,
              "#f0f921"
             ]
            ],
            "type": "surface"
           }
          ],
          "table": [
           {
            "cells": {
             "fill": {
              "color": "#506784"
             },
             "line": {
              "color": "rgb(17,17,17)"
             }
            },
            "header": {
             "fill": {
              "color": "#2a3f5f"
             },
             "line": {
              "color": "rgb(17,17,17)"
             }
            },
            "type": "table"
           }
          ]
         },
         "layout": {
          "annotationdefaults": {
           "arrowcolor": "#f2f5fa",
           "arrowhead": 0,
           "arrowwidth": 1
          },
          "autotypenumbers": "strict",
          "coloraxis": {
           "colorbar": {
            "outlinewidth": 0,
            "ticks": ""
           }
          },
          "colorscale": {
           "diverging": [
            [
             0,
             "#8e0152"
            ],
            [
             0.1,
             "#c51b7d"
            ],
            [
             0.2,
             "#de77ae"
            ],
            [
             0.3,
             "#f1b6da"
            ],
            [
             0.4,
             "#fde0ef"
            ],
            [
             0.5,
             "#f7f7f7"
            ],
            [
             0.6,
             "#e6f5d0"
            ],
            [
             0.7,
             "#b8e186"
            ],
            [
             0.8,
             "#7fbc41"
            ],
            [
             0.9,
             "#4d9221"
            ],
            [
             1,
             "#276419"
            ]
           ],
           "sequential": [
            [
             0,
             "#0d0887"
            ],
            [
             0.1111111111111111,
             "#46039f"
            ],
            [
             0.2222222222222222,
             "#7201a8"
            ],
            [
             0.3333333333333333,
             "#9c179e"
            ],
            [
             0.4444444444444444,
             "#bd3786"
            ],
            [
             0.5555555555555556,
             "#d8576b"
            ],
            [
             0.6666666666666666,
             "#ed7953"
            ],
            [
             0.7777777777777778,
             "#fb9f3a"
            ],
            [
             0.8888888888888888,
             "#fdca26"
            ],
            [
             1,
             "#f0f921"
            ]
           ],
           "sequentialminus": [
            [
             0,
             "#0d0887"
            ],
            [
             0.1111111111111111,
             "#46039f"
            ],
            [
             0.2222222222222222,
             "#7201a8"
            ],
            [
             0.3333333333333333,
             "#9c179e"
            ],
            [
             0.4444444444444444,
             "#bd3786"
            ],
            [
             0.5555555555555556,
             "#d8576b"
            ],
            [
             0.6666666666666666,
             "#ed7953"
            ],
            [
             0.7777777777777778,
             "#fb9f3a"
            ],
            [
             0.8888888888888888,
             "#fdca26"
            ],
            [
             1,
             "#f0f921"
            ]
           ]
          },
          "colorway": [
           "#636efa",
           "#EF553B",
           "#00cc96",
           "#ab63fa",
           "#FFA15A",
           "#19d3f3",
           "#FF6692",
           "#B6E880",
           "#FF97FF",
           "#FECB52"
          ],
          "font": {
           "color": "#f2f5fa"
          },
          "geo": {
           "bgcolor": "rgb(17,17,17)",
           "lakecolor": "rgb(17,17,17)",
           "landcolor": "rgb(17,17,17)",
           "showlakes": true,
           "showland": true,
           "subunitcolor": "#506784"
          },
          "hoverlabel": {
           "align": "left"
          },
          "hovermode": "closest",
          "mapbox": {
           "style": "dark"
          },
          "paper_bgcolor": "rgb(17,17,17)",
          "plot_bgcolor": "rgb(17,17,17)",
          "polar": {
           "angularaxis": {
            "gridcolor": "#506784",
            "linecolor": "#506784",
            "ticks": ""
           },
           "bgcolor": "rgb(17,17,17)",
           "radialaxis": {
            "gridcolor": "#506784",
            "linecolor": "#506784",
            "ticks": ""
           }
          },
          "scene": {
           "xaxis": {
            "backgroundcolor": "rgb(17,17,17)",
            "gridcolor": "#506784",
            "gridwidth": 2,
            "linecolor": "#506784",
            "showbackground": true,
            "ticks": "",
            "zerolinecolor": "#C8D4E3"
           },
           "yaxis": {
            "backgroundcolor": "rgb(17,17,17)",
            "gridcolor": "#506784",
            "gridwidth": 2,
            "linecolor": "#506784",
            "showbackground": true,
            "ticks": "",
            "zerolinecolor": "#C8D4E3"
           },
           "zaxis": {
            "backgroundcolor": "rgb(17,17,17)",
            "gridcolor": "#506784",
            "gridwidth": 2,
            "linecolor": "#506784",
            "showbackground": true,
            "ticks": "",
            "zerolinecolor": "#C8D4E3"
           }
          },
          "shapedefaults": {
           "line": {
            "color": "#f2f5fa"
           }
          },
          "sliderdefaults": {
           "bgcolor": "#C8D4E3",
           "bordercolor": "rgb(17,17,17)",
           "borderwidth": 1,
           "tickwidth": 0
          },
          "ternary": {
           "aaxis": {
            "gridcolor": "#506784",
            "linecolor": "#506784",
            "ticks": ""
           },
           "baxis": {
            "gridcolor": "#506784",
            "linecolor": "#506784",
            "ticks": ""
           },
           "bgcolor": "rgb(17,17,17)",
           "caxis": {
            "gridcolor": "#506784",
            "linecolor": "#506784",
            "ticks": ""
           }
          },
          "title": {
           "x": 0.05
          },
          "updatemenudefaults": {
           "bgcolor": "#506784",
           "borderwidth": 0
          },
          "xaxis": {
           "automargin": true,
           "gridcolor": "#283442",
           "linecolor": "#506784",
           "ticks": "",
           "title": {
            "standoff": 15
           },
           "zerolinecolor": "#283442",
           "zerolinewidth": 2
          },
          "yaxis": {
           "automargin": true,
           "gridcolor": "#283442",
           "linecolor": "#506784",
           "ticks": "",
           "title": {
            "standoff": 15
           },
           "zerolinecolor": "#283442",
           "zerolinewidth": 2
          }
         }
        },
        "xaxis": {
         "anchor": "y",
         "domain": [
          0,
          1
         ],
         "dtick": 1,
         "tickmode": "linear",
         "title": {
          "text": "Lunghezza"
         }
        },
        "yaxis": {
         "anchor": "x",
         "domain": [
          0,
          1
         ],
         "title": {
          "text": "Conteggio"
         }
        }
       }
      }
     },
     "metadata": {},
     "output_type": "display_data"
    }
   ],
   "source": [
    "# calcolo della frequenza delle password in base alla loro lunghezza \n",
    "length_counts = df[\"length\"].value_counts().sort_index()\n",
    "# grafico a barre\n",
    "fig1 = px.bar(\n",
    "    x=length_counts.index,\n",
    "    y=length_counts.values,\n",
    "    labels={\"x\": \"Lunghezza\", \"y\": \"Conteggio\"},\n",
    "    text=length_counts.values,       # etichette sopra le barre\n",
    "    color=length_counts.values,        # colora in base all’altezza\n",
    "    color_continuous_scale=\"Blues\"   # gradiente di blu\n",
    ")\n",
    "# stile delle etichette sopra le barre\n",
    "fig1.update_traces(\n",
    "    textposition=\"outside\",   # testo sopra\n",
    "    textfont=dict(size=14),                \n",
    "    cliponaxis=False         # evita il taglio delle etichette\n",
    ")\n",
    "fig1.update_layout(\n",
    "    template=\"plotly_dark\",                  \n",
    "    height=495,                             \n",
    "    plot_bgcolor=\"#050b18\",                  \n",
    "    paper_bgcolor=\"#050b18\",              \n",
    "    font=dict(color=\"white\", family=\"Segoe UI\", size=26),  \n",
    "    coloraxis_showscale=False,             \n",
    "    margin=dict(l=60, r=60, t=80, b=60),   \n",
    "    xaxis=dict(\n",
    "        tickmode='linear',                  \n",
    "        dtick=1                            \n",
    "    )\n",
    ")\n",
    "fig1.show()\n"
   ]
  },
  {
   "cell_type": "markdown",
   "id": "744662aa",
   "metadata": {},
   "source": [
    "## Composizione media dei caratteri nelle password per lunghezza (Lettere / Numeri / Caratteri speciali)\n",
    "\n",
    "Il grafico che rappresenta la **composizione media** delle password in base alla loro lunghezza. Per ogni lunghezza, viene visualizzata la media di tre componenti:\n",
    "\n",
    "- **Lettere** (`num_chars`) – in blu scuro\n",
    "- **Cifre** (`num_digits`) – in bianco\n",
    "- **Simboli** (`num_special`) – in azzurro\n",
    "\n",
    "Ogni barra è suddivisa in segmenti colorati che indicano quanto, in media, ciascun tipo di carattere contribuisce alla composizione di una password con quella lunghezza.\n"
   ]
  },
  {
   "cell_type": "code",
   "execution_count": 63,
   "id": "fa8e5a45",
   "metadata": {},
   "outputs": [
    {
     "data": {
      "application/vnd.plotly.v1+json": {
       "config": {
        "plotlyServerURL": "https://plot.ly"
       },
       "data": [
        {
         "marker": {
          "color": "#42a5f5"
         },
         "name": "Maiuscole",
         "type": "bar",
         "x": {
          "bdata": "AwQFBgcICQoLDA0PEA==",
          "dtype": "i1"
         },
         "y": {
          "bdata": "AAAAAAAAAACqZ+zi9c+LPz0GRu+s8og/Bwk6vn1xoD/N4t3D39yYPwi/9VTSVZQ/2AVhF4RdoD9HfWejvrPBP9u2bdu2bbs/AAAAAAAAAAAAAAAAAADgPwAAAAAAAPA/AAAAAAAAAEA=",
          "dtype": "f8"
         }
        },
        {
         "marker": {
          "color": "#0d47a1"
         },
         "name": "Minuscole",
         "type": "bar",
         "x": {
          "bdata": "AwQFBgcICQoLDA0PEA==",
          "dtype": "i1"
         },
         "y": {
          "bdata": "AAAAAAAAAEDU8LcpRg0HQMbTgxmqGBNAspyB05gfFUAgYHV8KWMaQHEzMR8inBBAG4trLK6xHEAxuYKYXEEYQAAAAAAAACFAbtu2bdu2IUAAAAAAAAAmQAAAAAAAACRAAAAAAAAAJEA=",
          "dtype": "f8"
         }
        },
        {
         "marker": {
          "color": "#ffffff"
         },
         "name": "Cifre",
         "type": "bar",
         "x": {
          "bdata": "AwQFBgcICQoLDA0PEA==",
          "dtype": "i1"
         },
         "y": {
          "bdata": "AAAAAAAA8D+R7zGttqPxP3zmVeew8Mk/HpqVeJna5T++V6NC2SPYP6Ct8xwQnw5AucbiGotr/D/KFcTkCmIOQCVJkiRJkgJASZIkSZIkCUAAAAAAAAD4PwAAAAAAABBAAAAAAAAAEEA=",
          "dtype": "f8"
         }
        },
        {
         "marker": {
          "color": "#7E57C2"
         },
         "name": "Simboli",
         "type": "bar",
         "x": {
          "bdata": "AwQFBgcICQoLDA0PEA==",
          "dtype": "i1"
         },
         "y": {
          "bdata": "AAAAAAAAAABN7qswJzpkP6wFtJMRroY/DOHvvAfEcD8JD8jI+cBbPwAAAAAAAAAAQCsBrQS0kj8AAAAAAAAAAJIkSZIkSbI/AAAAAAAAAAAAAAAAAAAAAAAAAAAAAAAAAAAAAAAAAAA=",
          "dtype": "f8"
         }
        }
       ],
       "layout": {
        "barmode": "stack",
        "font": {
         "color": "white",
         "family": "Segoe UI",
         "size": 26
        },
        "paper_bgcolor": "#050b18",
        "plot_bgcolor": "#050b18",
        "template": {
         "data": {
          "bar": [
           {
            "error_x": {
             "color": "#f2f5fa"
            },
            "error_y": {
             "color": "#f2f5fa"
            },
            "marker": {
             "line": {
              "color": "rgb(17,17,17)",
              "width": 0.5
             },
             "pattern": {
              "fillmode": "overlay",
              "size": 10,
              "solidity": 0.2
             }
            },
            "type": "bar"
           }
          ],
          "barpolar": [
           {
            "marker": {
             "line": {
              "color": "rgb(17,17,17)",
              "width": 0.5
             },
             "pattern": {
              "fillmode": "overlay",
              "size": 10,
              "solidity": 0.2
             }
            },
            "type": "barpolar"
           }
          ],
          "carpet": [
           {
            "aaxis": {
             "endlinecolor": "#A2B1C6",
             "gridcolor": "#506784",
             "linecolor": "#506784",
             "minorgridcolor": "#506784",
             "startlinecolor": "#A2B1C6"
            },
            "baxis": {
             "endlinecolor": "#A2B1C6",
             "gridcolor": "#506784",
             "linecolor": "#506784",
             "minorgridcolor": "#506784",
             "startlinecolor": "#A2B1C6"
            },
            "type": "carpet"
           }
          ],
          "choropleth": [
           {
            "colorbar": {
             "outlinewidth": 0,
             "ticks": ""
            },
            "type": "choropleth"
           }
          ],
          "contour": [
           {
            "colorbar": {
             "outlinewidth": 0,
             "ticks": ""
            },
            "colorscale": [
             [
              0,
              "#0d0887"
             ],
             [
              0.1111111111111111,
              "#46039f"
             ],
             [
              0.2222222222222222,
              "#7201a8"
             ],
             [
              0.3333333333333333,
              "#9c179e"
             ],
             [
              0.4444444444444444,
              "#bd3786"
             ],
             [
              0.5555555555555556,
              "#d8576b"
             ],
             [
              0.6666666666666666,
              "#ed7953"
             ],
             [
              0.7777777777777778,
              "#fb9f3a"
             ],
             [
              0.8888888888888888,
              "#fdca26"
             ],
             [
              1,
              "#f0f921"
             ]
            ],
            "type": "contour"
           }
          ],
          "contourcarpet": [
           {
            "colorbar": {
             "outlinewidth": 0,
             "ticks": ""
            },
            "type": "contourcarpet"
           }
          ],
          "heatmap": [
           {
            "colorbar": {
             "outlinewidth": 0,
             "ticks": ""
            },
            "colorscale": [
             [
              0,
              "#0d0887"
             ],
             [
              0.1111111111111111,
              "#46039f"
             ],
             [
              0.2222222222222222,
              "#7201a8"
             ],
             [
              0.3333333333333333,
              "#9c179e"
             ],
             [
              0.4444444444444444,
              "#bd3786"
             ],
             [
              0.5555555555555556,
              "#d8576b"
             ],
             [
              0.6666666666666666,
              "#ed7953"
             ],
             [
              0.7777777777777778,
              "#fb9f3a"
             ],
             [
              0.8888888888888888,
              "#fdca26"
             ],
             [
              1,
              "#f0f921"
             ]
            ],
            "type": "heatmap"
           }
          ],
          "histogram": [
           {
            "marker": {
             "pattern": {
              "fillmode": "overlay",
              "size": 10,
              "solidity": 0.2
             }
            },
            "type": "histogram"
           }
          ],
          "histogram2d": [
           {
            "colorbar": {
             "outlinewidth": 0,
             "ticks": ""
            },
            "colorscale": [
             [
              0,
              "#0d0887"
             ],
             [
              0.1111111111111111,
              "#46039f"
             ],
             [
              0.2222222222222222,
              "#7201a8"
             ],
             [
              0.3333333333333333,
              "#9c179e"
             ],
             [
              0.4444444444444444,
              "#bd3786"
             ],
             [
              0.5555555555555556,
              "#d8576b"
             ],
             [
              0.6666666666666666,
              "#ed7953"
             ],
             [
              0.7777777777777778,
              "#fb9f3a"
             ],
             [
              0.8888888888888888,
              "#fdca26"
             ],
             [
              1,
              "#f0f921"
             ]
            ],
            "type": "histogram2d"
           }
          ],
          "histogram2dcontour": [
           {
            "colorbar": {
             "outlinewidth": 0,
             "ticks": ""
            },
            "colorscale": [
             [
              0,
              "#0d0887"
             ],
             [
              0.1111111111111111,
              "#46039f"
             ],
             [
              0.2222222222222222,
              "#7201a8"
             ],
             [
              0.3333333333333333,
              "#9c179e"
             ],
             [
              0.4444444444444444,
              "#bd3786"
             ],
             [
              0.5555555555555556,
              "#d8576b"
             ],
             [
              0.6666666666666666,
              "#ed7953"
             ],
             [
              0.7777777777777778,
              "#fb9f3a"
             ],
             [
              0.8888888888888888,
              "#fdca26"
             ],
             [
              1,
              "#f0f921"
             ]
            ],
            "type": "histogram2dcontour"
           }
          ],
          "mesh3d": [
           {
            "colorbar": {
             "outlinewidth": 0,
             "ticks": ""
            },
            "type": "mesh3d"
           }
          ],
          "parcoords": [
           {
            "line": {
             "colorbar": {
              "outlinewidth": 0,
              "ticks": ""
             }
            },
            "type": "parcoords"
           }
          ],
          "pie": [
           {
            "automargin": true,
            "type": "pie"
           }
          ],
          "scatter": [
           {
            "marker": {
             "line": {
              "color": "#283442"
             }
            },
            "type": "scatter"
           }
          ],
          "scatter3d": [
           {
            "line": {
             "colorbar": {
              "outlinewidth": 0,
              "ticks": ""
             }
            },
            "marker": {
             "colorbar": {
              "outlinewidth": 0,
              "ticks": ""
             }
            },
            "type": "scatter3d"
           }
          ],
          "scattercarpet": [
           {
            "marker": {
             "colorbar": {
              "outlinewidth": 0,
              "ticks": ""
             }
            },
            "type": "scattercarpet"
           }
          ],
          "scattergeo": [
           {
            "marker": {
             "colorbar": {
              "outlinewidth": 0,
              "ticks": ""
             }
            },
            "type": "scattergeo"
           }
          ],
          "scattergl": [
           {
            "marker": {
             "line": {
              "color": "#283442"
             }
            },
            "type": "scattergl"
           }
          ],
          "scattermap": [
           {
            "marker": {
             "colorbar": {
              "outlinewidth": 0,
              "ticks": ""
             }
            },
            "type": "scattermap"
           }
          ],
          "scattermapbox": [
           {
            "marker": {
             "colorbar": {
              "outlinewidth": 0,
              "ticks": ""
             }
            },
            "type": "scattermapbox"
           }
          ],
          "scatterpolar": [
           {
            "marker": {
             "colorbar": {
              "outlinewidth": 0,
              "ticks": ""
             }
            },
            "type": "scatterpolar"
           }
          ],
          "scatterpolargl": [
           {
            "marker": {
             "colorbar": {
              "outlinewidth": 0,
              "ticks": ""
             }
            },
            "type": "scatterpolargl"
           }
          ],
          "scatterternary": [
           {
            "marker": {
             "colorbar": {
              "outlinewidth": 0,
              "ticks": ""
             }
            },
            "type": "scatterternary"
           }
          ],
          "surface": [
           {
            "colorbar": {
             "outlinewidth": 0,
             "ticks": ""
            },
            "colorscale": [
             [
              0,
              "#0d0887"
             ],
             [
              0.1111111111111111,
              "#46039f"
             ],
             [
              0.2222222222222222,
              "#7201a8"
             ],
             [
              0.3333333333333333,
              "#9c179e"
             ],
             [
              0.4444444444444444,
              "#bd3786"
             ],
             [
              0.5555555555555556,
              "#d8576b"
             ],
             [
              0.6666666666666666,
              "#ed7953"
             ],
             [
              0.7777777777777778,
              "#fb9f3a"
             ],
             [
              0.8888888888888888,
              "#fdca26"
             ],
             [
              1,
              "#f0f921"
             ]
            ],
            "type": "surface"
           }
          ],
          "table": [
           {
            "cells": {
             "fill": {
              "color": "#506784"
             },
             "line": {
              "color": "rgb(17,17,17)"
             }
            },
            "header": {
             "fill": {
              "color": "#2a3f5f"
             },
             "line": {
              "color": "rgb(17,17,17)"
             }
            },
            "type": "table"
           }
          ]
         },
         "layout": {
          "annotationdefaults": {
           "arrowcolor": "#f2f5fa",
           "arrowhead": 0,
           "arrowwidth": 1
          },
          "autotypenumbers": "strict",
          "coloraxis": {
           "colorbar": {
            "outlinewidth": 0,
            "ticks": ""
           }
          },
          "colorscale": {
           "diverging": [
            [
             0,
             "#8e0152"
            ],
            [
             0.1,
             "#c51b7d"
            ],
            [
             0.2,
             "#de77ae"
            ],
            [
             0.3,
             "#f1b6da"
            ],
            [
             0.4,
             "#fde0ef"
            ],
            [
             0.5,
             "#f7f7f7"
            ],
            [
             0.6,
             "#e6f5d0"
            ],
            [
             0.7,
             "#b8e186"
            ],
            [
             0.8,
             "#7fbc41"
            ],
            [
             0.9,
             "#4d9221"
            ],
            [
             1,
             "#276419"
            ]
           ],
           "sequential": [
            [
             0,
             "#0d0887"
            ],
            [
             0.1111111111111111,
             "#46039f"
            ],
            [
             0.2222222222222222,
             "#7201a8"
            ],
            [
             0.3333333333333333,
             "#9c179e"
            ],
            [
             0.4444444444444444,
             "#bd3786"
            ],
            [
             0.5555555555555556,
             "#d8576b"
            ],
            [
             0.6666666666666666,
             "#ed7953"
            ],
            [
             0.7777777777777778,
             "#fb9f3a"
            ],
            [
             0.8888888888888888,
             "#fdca26"
            ],
            [
             1,
             "#f0f921"
            ]
           ],
           "sequentialminus": [
            [
             0,
             "#0d0887"
            ],
            [
             0.1111111111111111,
             "#46039f"
            ],
            [
             0.2222222222222222,
             "#7201a8"
            ],
            [
             0.3333333333333333,
             "#9c179e"
            ],
            [
             0.4444444444444444,
             "#bd3786"
            ],
            [
             0.5555555555555556,
             "#d8576b"
            ],
            [
             0.6666666666666666,
             "#ed7953"
            ],
            [
             0.7777777777777778,
             "#fb9f3a"
            ],
            [
             0.8888888888888888,
             "#fdca26"
            ],
            [
             1,
             "#f0f921"
            ]
           ]
          },
          "colorway": [
           "#636efa",
           "#EF553B",
           "#00cc96",
           "#ab63fa",
           "#FFA15A",
           "#19d3f3",
           "#FF6692",
           "#B6E880",
           "#FF97FF",
           "#FECB52"
          ],
          "font": {
           "color": "#f2f5fa"
          },
          "geo": {
           "bgcolor": "rgb(17,17,17)",
           "lakecolor": "rgb(17,17,17)",
           "landcolor": "rgb(17,17,17)",
           "showlakes": true,
           "showland": true,
           "subunitcolor": "#506784"
          },
          "hoverlabel": {
           "align": "left"
          },
          "hovermode": "closest",
          "mapbox": {
           "style": "dark"
          },
          "paper_bgcolor": "rgb(17,17,17)",
          "plot_bgcolor": "rgb(17,17,17)",
          "polar": {
           "angularaxis": {
            "gridcolor": "#506784",
            "linecolor": "#506784",
            "ticks": ""
           },
           "bgcolor": "rgb(17,17,17)",
           "radialaxis": {
            "gridcolor": "#506784",
            "linecolor": "#506784",
            "ticks": ""
           }
          },
          "scene": {
           "xaxis": {
            "backgroundcolor": "rgb(17,17,17)",
            "gridcolor": "#506784",
            "gridwidth": 2,
            "linecolor": "#506784",
            "showbackground": true,
            "ticks": "",
            "zerolinecolor": "#C8D4E3"
           },
           "yaxis": {
            "backgroundcolor": "rgb(17,17,17)",
            "gridcolor": "#506784",
            "gridwidth": 2,
            "linecolor": "#506784",
            "showbackground": true,
            "ticks": "",
            "zerolinecolor": "#C8D4E3"
           },
           "zaxis": {
            "backgroundcolor": "rgb(17,17,17)",
            "gridcolor": "#506784",
            "gridwidth": 2,
            "linecolor": "#506784",
            "showbackground": true,
            "ticks": "",
            "zerolinecolor": "#C8D4E3"
           }
          },
          "shapedefaults": {
           "line": {
            "color": "#f2f5fa"
           }
          },
          "sliderdefaults": {
           "bgcolor": "#C8D4E3",
           "bordercolor": "rgb(17,17,17)",
           "borderwidth": 1,
           "tickwidth": 0
          },
          "ternary": {
           "aaxis": {
            "gridcolor": "#506784",
            "linecolor": "#506784",
            "ticks": ""
           },
           "baxis": {
            "gridcolor": "#506784",
            "linecolor": "#506784",
            "ticks": ""
           },
           "bgcolor": "rgb(17,17,17)",
           "caxis": {
            "gridcolor": "#506784",
            "linecolor": "#506784",
            "ticks": ""
           }
          },
          "title": {
           "x": 0.05
          },
          "updatemenudefaults": {
           "bgcolor": "#506784",
           "borderwidth": 0
          },
          "xaxis": {
           "automargin": true,
           "gridcolor": "#283442",
           "linecolor": "#506784",
           "ticks": "",
           "title": {
            "standoff": 15
           },
           "zerolinecolor": "#283442",
           "zerolinewidth": 2
          },
          "yaxis": {
           "automargin": true,
           "gridcolor": "#283442",
           "linecolor": "#506784",
           "ticks": "",
           "title": {
            "standoff": 15
           },
           "zerolinecolor": "#283442",
           "zerolinewidth": 2
          }
         }
        },
        "title": {
         "font": {
          "color": "white",
          "family": "Segoe UI",
          "size": 28
         }
        },
        "xaxis": {
         "dtick": 1,
         "tickmode": "linear",
         "title": {
          "text": "Lunghezza"
         }
        }
       }
      }
     },
     "metadata": {},
     "output_type": "display_data"
    }
   ],
   "source": [
    "# Raggruppa le password per lunghezza e calcola la media dei caratteri di ciascun tipo (maiuscole, minuscole, numeri, simboli)\n",
    "df_bar = df.groupby(\"length\")[[\"num_upper\", \"num_lower\", \"num_digits\", \"num_special\"]].mean().reset_index()\n",
    "# Crea una nuova figura vuota\n",
    "fig = go.Figure()\n",
    "# aggiunta barre\n",
    "fig.add_trace(go.Bar(\n",
    "    name='Maiuscole',\n",
    "    x=df_bar[\"length\"],                \n",
    "    y=df_bar[\"num_upper\"],             \n",
    "    marker_color=\"#42a5f5\"             \n",
    "))\n",
    "fig.add_trace(go.Bar(\n",
    "    name='Minuscole',\n",
    "    x=df_bar[\"length\"],\n",
    "    y=df_bar[\"num_lower\"],\n",
    "    marker_color=\"#0d47a1\"             \n",
    "))\n",
    "fig.add_trace(go.Bar(\n",
    "    name='Cifre',\n",
    "    x=df_bar[\"length\"],\n",
    "    y=df_bar[\"num_digits\"],\n",
    "    marker_color=\"#ffffff\"             \n",
    "))\n",
    "fig.add_trace(go.Bar(\n",
    "    name='Simboli',\n",
    "    x=df_bar[\"length\"],\n",
    "    y=df_bar[\"num_special\"],\n",
    "    marker_color=\"#7E57C2\"             \n",
    "))\n",
    "# stile grafico\n",
    "fig.update_layout(\n",
    "    barmode='stack', # barre verticali\n",
    "    title_font=dict(\n",
    "        size=28, family=\"Segoe UI\", color=\"white\"\n",
    "    ),\n",
    "    xaxis_title=\"Lunghezza\",           \n",
    "    xaxis=dict(\n",
    "        tickmode=\"linear\",            \n",
    "        dtick=1\n",
    "    ),\n",
    "    template=\"plotly_dark\",            \n",
    "    plot_bgcolor=\"#050b18\",            \n",
    "    paper_bgcolor=\"#050b18\",          \n",
    "    font=dict(\n",
    "        color=\"white\", family=\"Segoe UI\", size=26\n",
    "    )\n",
    ")\n",
    "fig.show()\n"
   ]
  },
  {
   "cell_type": "markdown",
   "id": "4cd5bd6e",
   "metadata": {},
   "source": [
    "## Dieci password più comuni\n",
    "\n",
    "Questa sezione rappresenta le **10 password più utilizzate** attraverso una doppia visualizzazione:\n",
    "\n",
    " **Grafico radiale a barre**  \n",
    "Le lunghezze delle password sono rappresentate in modo circolare, con ogni barra corrispondente a una password, l'altezza che indica il numero di caratteri e un colore crescente di intensità per enfatizzare la posizione nella top 10. Sopra ogni barra è riportato il **ranking** e la password con relativa lunghezza (es. `#1 password (8)`), per facilitare l’interpretazione.\n",
    "\n",
    "**Tabella**  \n",
    "A fianco del grafico è presente una tabella che riepiloga la **posizione** (da 1 a 10), la **password** e la sua **lunghezza**. I colori delle righe della tabella sono **coerenti con il grafico radiale**, favorendo un’associazione visiva immediata tra le due rappresentazioni.\n"
   ]
  },
  {
   "cell_type": "code",
   "execution_count": 64,
   "id": "7dac657a",
   "metadata": {},
    },
    {
     "data": {
      "image/png": "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",
      "text/plain": [
       "<Figure size 2400x800 with 2 Axes>"
      ]
     },
     "metadata": {},
     "output_type": "display_data"
    }
   ],
   "source": [
    "# estrazione delle prime 10 password del dataset (sono già in ordine) e creazione di colonna di posizione (1–10)\n",
    "top10 = df.head(10).copy()\n",
    "top10[\"Posizione\"] = range(1, 11)\n",
    "bar_colors = [\n",
    "    \"#2196f3\", \"#1e88e5\", \"#1976d2\", \"#1565c0\", \"#0d47a1\",\n",
    "    \"#0c3c91\", \"#0b327f\", \"#092a6e\", \"#081f5a\", \"#06184a\"\n",
    "]\n",
    "# figura con 2 aree per radiale e tabella\n",
    "fig = plt.figure(figsize=(24, 8), facecolor='#050b18')\n",
    "gs = fig.add_gridspec(1, 2, width_ratios=[2.4, 2.6], wspace=0.25)\n",
    "# 1 GRAFICO RADIALE\n",
    "# calcolo degli angoli equidistanti nel cerchio per ciascuna barra\n",
    "angles = np.linspace(0, 2 * np.pi, len(top10), endpoint=False)\n",
    "radii = top10[\"length\"].values\n",
    "# etichette\n",
    "labels = top10[\"password\"].values\n",
    "# posizione numerica per etichetta \n",
    "positions = top10[\"Posizione\"].values\n",
    "# aggiunta alla figura del grafico\n",
    "ax_radial = fig.add_subplot(gs[0], polar=True, facecolor='#050b18')\n",
    "# barre circolari\n",
    "bars = ax_radial.bar(\n",
    "    angles,                  # angolo di ciascuna barra\n",
    "    radii,                   # raggio (lunghezza password)\n",
    "    width=0.5,               # larghezza angolare delle barre\n",
    "    color=bar_colors,        # colore \n",
    "    alpha=0.9,               # trasparenza\n",
    "    edgecolor=\"#0a0a1a\"      # bordo scuro\n",
    ")\n",
    "# aggiunta etichette con password + lunghezza sopra ogni barra\n",
    "for angle, radius, label, pos in zip(angles, radii, labels, positions):\n",
    "    ax_radial.text(\n",
    "        angle,\n",
    "        radius + 1.2,    # posizione testuale leggermente oltre la barra\n",
    "        f\"#{pos} {label} ({radius})\",  # es: \"#1 123456 (6)\"\n",
    "        ha='center', va='center',\n",
    "        color='white',\n",
    "        fontsize=13,\n",
    "        fontname='Segoe UI',\n",
    "        fontweight='bold'\n",
    "    )\n",
    "#  pulizia \n",
    "ax_radial.set_yticks([])\n",
    "ax_radial.set_xticks([])\n",
    "ax_radial.spines['polar'].set_visible(False)\n",
    "\n",
    "#2 TABELLA\n",
    "# nuovo sottografico \n",
    "ax_table = fig.add_subplot(gs[1])\n",
    "ax_table.axis('off')\n",
    "# costruzuione  tabella\n",
    "table_data = [[\"Posizione\", \"Password\", \"Lunghezza\"]] + list(top10[[\"Posizione\", \"password\", \"length\"]].values)\n",
    "table = ax_table.table(\n",
    "    cellText=table_data,\n",
    "    colLabels=None,             # niente header extra\n",
    "    cellLoc='left',             # allineamento testo\n",
    "    loc='center',               # posizione nel subplot\n",
    "    colWidths=[0.15, 0.30, 0.15]\n",
    ")\n",
    "table.auto_set_font_size(False)\n",
    "table.set_fontsize(16)\n",
    "table.scale(1.5, 1.6)\n",
    "header_color = \"#0f1c2f\"  \n",
    "# stile per riga 0 \n",
    "for i in range(3):\n",
    "    cell = table[(0, i)]\n",
    "    cell.set_facecolor(header_color)\n",
    "    cell.set_text_props(color='white', fontname='Segoe UI', weight='bold')\n",
    "# altre righe\n",
    "for row in range(1, 11):\n",
    "    for col in range(3):\n",
    "        cell = table[(row, col)]\n",
    "        cell.set_facecolor(bar_colors[row - 1])  # colore coerente con grafico radiale\n",
    "        cell.set_text_props(color='white', fontname='Segoe UI', weight='bold')\n",
    "plt.tight_layout()\n",
    "plt.show()\n"
   ]
  }
 ],
 "metadata": {
  "kernelspec": {
   "display_name": "Python 3",
   "language": "python",
   "name": "python3"
  },
  "language_info": {
   "codemirror_mode": {
    "name": "ipython",
    "version": 3
   },
   "file_extension": ".py",
   "mimetype": "text/x-python",
   "name": "python",
   "nbconvert_exporter": "python",
   "pygments_lexer": "ipython3",
   "version": "3.12.10"
  }
 },
 "nbformat": 4,
 "nbformat_minor": 5
}
