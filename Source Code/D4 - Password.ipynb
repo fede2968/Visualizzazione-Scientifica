{
 "cells": [
  {
   "cell_type": "markdown",
   "id": "8054e8ff",
   "metadata": {},
   "source": [
    "# Analisi delle password comuni\n",
    "\n",
    "In questo notebook viene svolta un analisi basata su un dataset contenente le **password più comuni** in circolazione, con l’obiettivo di comprendere meglio le loro caratteristiche strutturali.  Questa analisi aiuta a evidenziare pattern ricorrenti, lunghezze tipiche e la composizione in termini di lettere, cifre e simboli.\n",
    "\n",
    "## Struttura del del dataset: `common_passwords`\n",
    "\n",
    "Il dataset è composto da un elenco di password comuni (ordinate in maniera decrescente in base alla diffusione), accompagnate da metriche utili alla loro classificazione. I principali campi sono:\n",
    "\n",
    "- **`password`**: la stringa testuale della password \n",
    "- **`length`**: lunghezza complessiva della password (conteggio totale dei caratteri)\n",
    "- **`num_chars`**: numero di **lettere** presenti nella password, indipendentemente dal fatto che siano minuscole o maiuscole.\n",
    "- **`num_upper`**: numero di **lettere maiuscole** \n",
    "- **`num_lower`**: numero di **lettere minuscole**\n",
    "- **`num_digits`**: numero di **cifre numeriche**\n"
   ]
  },
  {
   "cell_type": "code",
   "execution_count": 61,
   "id": "fab3da99",
   "metadata": {},
   "outputs": [],
   "source": [
    "import pandas as pd\n",
    "import plotly.express as px\n",
    "import plotly.graph_objects as go\n",
    "import matplotlib.pyplot as plt\n",
    "import numpy as np\n",
    "df = pd.read_csv(\"common_passwords.csv\")\n"
   ]
  },
  {
   "cell_type": "markdown",
   "id": "7dc393d2",
   "metadata": {},
   "source": [
    "### Distribuzione delle lunghezze delle password più comuni\n",
    "\n",
    "Il grafico mostra la distribuzione delle password in base alla loro lunghezza, con lo scopo di identificare  le lunghezze più comuni tra le password più diffuse. I dati vengono aggregati per lunghezza e visualizzati sotto forma di grafico a barre, con:\n",
    "- l’asse X che rappresenta il numero di caratteri delle password;\n",
    "- l’asse Y che indica il numero di occorrenze per ciascuna lunghezza.\n",
    "\n",
    "Ogni barra è colorata in base alla sua altezza (valore assoluto) utilizzando una scala cromatica, mentre sopra ciascuna barra è visualizzato il valore esatto. \n",
    "\n",
    "\n"
   ]
  },
  {
   "cell_type": "code",
   "execution_count": 62,
   "id": "2308e11a",
   "metadata": {},
   "outputs": [
    {
     "data": {
      "application/vnd.plotly.v1+json": {
       "config": {
        "plotlyServerURL": "https://plot.ly"
       },
       "data": [
        {
         "cliponaxis": false,
         "hovertemplate": "Lunghezza=%{x}<br>Conteggio=%{y}<br>text=%{text}<br>color=%{marker.color}<extra></extra>",
         "legendgroup": "",
         "marker": {
          "color": {
           "bdata": "AwAqA4cDaAzrBpsL2wBeABwAFQACAAEAAQA=",
           "dtype": "i2"
          },
          "coloraxis": "coloraxis",
          "pattern": {
           "shape": ""
          }
         },
         "name": "",
         "orientation": "v",
         "showlegend": false,
         "text": {
          "bdata": "AAAAAAAACEAAAAAAAFCJQAAAAAAAOIxAAAAAAADQqEAAAAAAAKybQAAAAAAANqdAAAAAAABga0AAAAAAAIBXQAAAAAAAADxAAAAAAAAANUAAAAAAAAAAQAAAAAAAAPA/AAAAAAAA8D8=",
          "dtype": "f8"
         },
         "textfont": {
          "size": 14
         },
         "textposition": "outside",
         "type": "bar",
         "x": {
          "bdata": "AwQFBgcICQoLDA0PEA==",
          "dtype": "i1"
         },
         "xaxis": "x",
         "y": {
          "bdata": "AwAqA4cDaAzrBpsL2wBeABwAFQACAAEAAQA=",
          "dtype": "i2"
         },
         "yaxis": "y"
        }
       ],
       "layout": {
        "barmode": "relative",
        "coloraxis": {
         "colorbar": {
          "title": {
           "text": "color"
          }
         },
         "colorscale": [
          [
           0,
           "rgb(247,251,255)"
          ],
          [
           0.125,
           "rgb(222,235,247)"
          ],
          [
           0.25,
           "rgb(198,219,239)"
          ],
          [
           0.375,
           "rgb(158,202,225)"
          ],
          [
           0.5,
           "rgb(107,174,214)"
          ],
          [
           0.625,
           "rgb(66,146,198)"
          ],
          [
           0.75,
           "rgb(33,113,181)"
          ],
          [
           0.875,
           "rgb(8,81,156)"
          ],
          [
           1,
           "rgb(8,48,107)"
          ]
         ],
         "showscale": false
        },
        "font": {
         "color": "white",
         "family": "Segoe UI",
         "size": 26
        },
        "height": 495,
        "legend": {
         "tracegroupgap": 0
        },
        "margin": {
         "b": 60,
         "l": 60,
         "r": 60,
         "t": 80
        },
        "paper_bgcolor": "#050b18",
        "plot_bgcolor": "#050b18",
        "template": {
         "data": {
          "bar": [
           {
            "error_x": {
             "color": "#f2f5fa"
            },
            "error_y": {
             "color": "#f2f5fa"
            },
            "marker": {
             "line": {
              "color": "rgb(17,17,17)",
              "width": 0.5
             },
             "pattern": {
              "fillmode": "overlay",
              "size": 10,
              "solidity": 0.2
             }
            },
            "type": "bar"
           }
          ],
          "barpolar": [
           {
            "marker": {
             "line": {
              "color": "rgb(17,17,17)",
              "width": 0.5
             },
             "pattern": {
              "fillmode": "overlay",
              "size": 10,
              "solidity": 0.2
             }
            },
            "type": "barpolar"
           }
          ],
          "carpet": [
           {
            "aaxis": {
             "endlinecolor": "#A2B1C6",
             "gridcolor": "#506784",
             "linecolor": "#506784",
             "minorgridcolor": "#506784",
             "startlinecolor": "#A2B1C6"
            },
            "baxis": {
             "endlinecolor": "#A2B1C6",
             "gridcolor": "#506784",
             "linecolor": "#506784",
             "minorgridcolor": "#506784",
             "startlinecolor": "#A2B1C6"
            },
            "type": "carpet"
           }
          ],
          "choropleth": [
           {
            "colorbar": {
             "outlinewidth": 0,
             "ticks": ""
            },
            "type": "choropleth"
           }
          ],
          "contour": [
           {
            "colorbar": {
             "outlinewidth": 0,
             "ticks": ""
            },
            "colorscale": [
             [
              0,
              "#0d0887"
             ],
             [
              0.1111111111111111,
              "#46039f"
             ],
             [
              0.2222222222222222,
              "#7201a8"
             ],
             [
              0.3333333333333333,
              "#9c179e"
             ],
             [
              0.4444444444444444,
              "#bd3786"
             ],
             [
              0.5555555555555556,
              "#d8576b"
             ],
             [
              0.6666666666666666,
              "#ed7953"
             ],
             [
              0.7777777777777778,
              "#fb9f3a"
             ],
             [
              0.8888888888888888,
              "#fdca26"
             ],
             [
              1,
              "#f0f921"
             ]
            ],
            "type": "contour"
           }
          ],
          "contourcarpet": [
           {
            "colorbar": {
             "outlinewidth": 0,
             "ticks": ""
            },
            "type": "contourcarpet"
           }
          ],
          "heatmap": [
           {
            "colorbar": {
             "outlinewidth": 0,
             "ticks": ""
            },
            "colorscale": [
             [
              0,
              "#0d0887"
             ],
             [
              0.1111111111111111,
              "#46039f"
             ],
             [
              0.2222222222222222,
              "#7201a8"
             ],
             [
              0.3333333333333333,
              "#9c179e"
             ],
             [
              0.4444444444444444,
              "#bd3786"
             ],
             [
              0.5555555555555556,
              "#d8576b"
             ],
             [
              0.6666666666666666,
              "#ed7953"
             ],
             [
              0.7777777777777778,
              "#fb9f3a"
             ],
             [
              0.8888888888888888,
              "#fdca26"
             ],
             [
              1,
              "#f0f921"
             ]
            ],
            "type": "heatmap"
           }
          ],
          "histogram": [
           {
            "marker": {
             "pattern": {
              "fillmode": "overlay",
              "size": 10,
              "solidity": 0.2
             }
            },
            "type": "histogram"
           }
          ],
          "histogram2d": [
           {
            "colorbar": {
             "outlinewidth": 0,
             "ticks": ""
            },
            "colorscale": [
             [
              0,
              "#0d0887"
             ],
             [
              0.1111111111111111,
              "#46039f"
             ],
             [
              0.2222222222222222,
              "#7201a8"
             ],
             [
              0.3333333333333333,
              "#9c179e"
             ],
             [
              0.4444444444444444,
              "#bd3786"
             ],
             [
              0.5555555555555556,
              "#d8576b"
             ],
             [
              0.6666666666666666,
              "#ed7953"
             ],
             [
              0.7777777777777778,
              "#fb9f3a"
             ],
             [
              0.8888888888888888,
              "#fdca26"
             ],
             [
              1,
              "#f0f921"
             ]
            ],
            "type": "histogram2d"
           }
          ],
          "histogram2dcontour": [
           {
            "colorbar": {
             "outlinewidth": 0,
             "ticks": ""
            },
            "colorscale": [
             [
              0,
              "#0d0887"
             ],
             [
              0.1111111111111111,
              "#46039f"
             ],
             [
              0.2222222222222222,
              "#7201a8"
             ],
             [
              0.3333333333333333,
              "#9c179e"
             ],
             [
              0.4444444444444444,
              "#bd3786"
             ],
             [
              0.5555555555555556,
              "#d8576b"
             ],
             [
              0.6666666666666666,
              "#ed7953"
             ],
             [
              0.7777777777777778,
              "#fb9f3a"
             ],
             [
              0.8888888888888888,
              "#fdca26"
             ],
             [
              1,
              "#f0f921"
             ]
            ],
            "type": "histogram2dcontour"
           }
          ],
          "mesh3d": [
           {
            "colorbar": {
             "outlinewidth": 0,
             "ticks": ""
            },
            "type": "mesh3d"
           }
          ],
          "parcoords": [
           {
            "line": {
             "colorbar": {
              "outlinewidth": 0,
              "ticks": ""
             }
            },
            "type": "parcoords"
           }
          ],
          "pie": [
           {
            "automargin": true,
            "type": "pie"
           }
          ],
          "scatter": [
           {
            "marker": {
             "line": {
              "color": "#283442"
             }
            },
            "type": "scatter"
           }
          ],
          "scatter3d": [
           {
            "line": {
             "colorbar": {
              "outlinewidth": 0,
              "ticks": ""
             }
            },
            "marker": {
             "colorbar": {
              "outlinewidth": 0,
              "ticks": ""
             }
            },
            "type": "scatter3d"
           }
          ],
          "scattercarpet": [
           {
            "marker": {
             "colorbar": {
              "outlinewidth": 0,
              "ticks": ""
             }
            },
            "type": "scattercarpet"
           }
          ],
          "scattergeo": [
           {
            "marker": {
             "colorbar": {
              "outlinewidth": 0,
              "ticks": ""
             }
            },
            "type": "scattergeo"
           }
          ],
          "scattergl": [
           {
            "marker": {
             "line": {
              "color": "#283442"
             }
            },
            "type": "scattergl"
           }
          ],
          "scattermap": [
           {
            "marker": {
             "colorbar": {
              "outlinewidth": 0,
              "ticks": ""
             }
            },
            "type": "scattermap"
           }
          ],
          "scattermapbox": [
           {
            "marker": {
             "colorbar": {
              "outlinewidth": 0,
              "ticks": ""
             }
            },
            "type": "scattermapbox"
           }
          ],
          "scatterpolar": [
           {
            "marker": {
             "colorbar": {
              "outlinewidth": 0,
              "ticks": ""
             }
            },
            "type": "scatterpolar"
           }
          ],
          "scatterpolargl": [
           {
            "marker": {
             "colorbar": {
              "outlinewidth": 0,
              "ticks": ""
             }
            },
            "type": "scatterpolargl"
           }
          ],
          "scatterternary": [
           {
            "marker": {
             "colorbar": {
              "outlinewidth": 0,
              "ticks": ""
             }
            },
            "type": "scatterternary"
           }
          ],
          "surface": [
           {
            "colorbar": {
             "outlinewidth": 0,
             "ticks": ""
            },
            "colorscale": [
             [
              0,
              "#0d0887"
             ],
             [
              0.1111111111111111,
              "#46039f"
             ],
             [
              0.2222222222222222,
              "#7201a8"
             ],
             [
              0.3333333333333333,
              "#9c179e"
             ],
             [
              0.4444444444444444,
              "#bd3786"
             ],
             [
              0.5555555555555556,
              "#d8576b"
             ],
             [
              0.6666666666666666,
              "#ed7953"
             ],
             [
              0.7777777777777778,
              "#fb9f3a"
             ],
             [
              0.8888888888888888,
              "#fdca26"
             ],
             [
              1,
              "#f0f921"
             ]
            ],
            "type": "surface"
           }
          ],
          "table": [
           {
            "cells": {
             "fill": {
              "color": "#506784"
             },
             "line": {
              "color": "rgb(17,17,17)"
             }
            },
            "header": {
             "fill": {
              "color": "#2a3f5f"
             },
             "line": {
              "color": "rgb(17,17,17)"
             }
            },
            "type": "table"
           }
          ]
         },
         "layout": {
          "annotationdefaults": {
           "arrowcolor": "#f2f5fa",
           "arrowhead": 0,
           "arrowwidth": 1
          },
          "autotypenumbers": "strict",
          "coloraxis": {
           "colorbar": {
            "outlinewidth": 0,
            "ticks": ""
           }
          },
          "colorscale": {
           "diverging": [
            [
             0,
             "#8e0152"
            ],
            [
             0.1,
             "#c51b7d"
            ],
            [
             0.2,
             "#de77ae"
            ],
            [
             0.3,
             "#f1b6da"
            ],
            [
             0.4,
             "#fde0ef"
            ],
            [
             0.5,
             "#f7f7f7"
            ],
            [
             0.6,
             "#e6f5d0"
            ],
            [
             0.7,
             "#b8e186"
            ],
            [
             0.8,
             "#7fbc41"
            ],
            [
             0.9,
             "#4d9221"
            ],
            [
             1,
             "#276419"
            ]
           ],
           "sequential": [
            [
             0,
             "#0d0887"
            ],
            [
             0.1111111111111111,
             "#46039f"
            ],
            [
             0.2222222222222222,
             "#7201a8"
            ],
            [
             0.3333333333333333,
             "#9c179e"
            ],
            [
             0.4444444444444444,
             "#bd3786"
            ],
            [
             0.5555555555555556,
             "#d8576b"
            ],
            [
             0.6666666666666666,
             "#ed7953"
            ],
            [
             0.7777777777777778,
             "#fb9f3a"
            ],
            [
             0.8888888888888888,
             "#fdca26"
            ],
            [
             1,
             "#f0f921"
            ]
           ],
           "sequentialminus": [
            [
             0,
             "#0d0887"
            ],
            [
             0.1111111111111111,
             "#46039f"
            ],
            [
             0.2222222222222222,
             "#7201a8"
            ],
            [
             0.3333333333333333,
             "#9c179e"
            ],
            [
             0.4444444444444444,
             "#bd3786"
            ],
            [
             0.5555555555555556,
             "#d8576b"
            ],
            [
             0.6666666666666666,
             "#ed7953"
            ],
            [
             0.7777777777777778,
             "#fb9f3a"
            ],
            [
             0.8888888888888888,
             "#fdca26"
            ],
            [
             1,
             "#f0f921"
            ]
           ]
          },
          "colorway": [
           "#636efa",
           "#EF553B",
           "#00cc96",
           "#ab63fa",
           "#FFA15A",
           "#19d3f3",
           "#FF6692",
           "#B6E880",
           "#FF97FF",
           "#FECB52"
          ],
          "font": {
           "color": "#f2f5fa"
          },
          "geo": {
           "bgcolor": "rgb(17,17,17)",
           "lakecolor": "rgb(17,17,17)",
           "landcolor": "rgb(17,17,17)",
           "showlakes": true,
           "showland": true,
           "subunitcolor": "#506784"
          },
          "hoverlabel": {
           "align": "left"
          },
          "hovermode": "closest",
          "mapbox": {
           "style": "dark"
          },
          "paper_bgcolor": "rgb(17,17,17)",
          "plot_bgcolor": "rgb(17,17,17)",
          "polar": {
           "angularaxis": {
            "gridcolor": "#506784",
            "linecolor": "#506784",
            "ticks": ""
           },
           "bgcolor": "rgb(17,17,17)",
           "radialaxis": {
            "gridcolor": "#506784",
            "linecolor": "#506784",
            "ticks": ""
           }
          },
          "scene": {
           "xaxis": {
            "backgroundcolor": "rgb(17,17,17)",
            "gridcolor": "#506784",
            "gridwidth": 2,
            "linecolor": "#506784",
            "showbackground": true,
            "ticks": "",
            "zerolinecolor": "#C8D4E3"
           },
           "yaxis": {
            "backgroundcolor": "rgb(17,17,17)",
            "gridcolor": "#506784",
            "gridwidth": 2,
            "linecolor": "#506784",
            "showbackground": true,
            "ticks": "",
            "zerolinecolor": "#C8D4E3"
           },
           "zaxis": {
            "backgroundcolor": "rgb(17,17,17)",
            "gridcolor": "#506784",
            "gridwidth": 2,
            "linecolor": "#506784",
            "showbackground": true,
            "ticks": "",
            "zerolinecolor": "#C8D4E3"
           }
          },
          "shapedefaults": {
           "line": {
            "color": "#f2f5fa"
           }
          },
          "sliderdefaults": {
           "bgcolor": "#C8D4E3",
           "bordercolor": "rgb(17,17,17)",
           "borderwidth": 1,
           "tickwidth": 0
          },
          "ternary": {
           "aaxis": {
            "gridcolor": "#506784",
            "linecolor": "#506784",
            "ticks": ""
           },
           "baxis": {
            "gridcolor": "#506784",
            "linecolor": "#506784",
            "ticks": ""
           },
           "bgcolor": "rgb(17,17,17)",
           "caxis": {
            "gridcolor": "#506784",
            "linecolor": "#506784",
            "ticks": ""
           }
          },
          "title": {
           "x": 0.05
          },
          "updatemenudefaults": {
           "bgcolor": "#506784",
           "borderwidth": 0
          },
          "xaxis": {
           "automargin": true,
           "gridcolor": "#283442",
           "linecolor": "#506784",
           "ticks": "",
           "title": {
            "standoff": 15
           },
           "zerolinecolor": "#283442",
           "zerolinewidth": 2
          },
          "yaxis": {
           "automargin": true,
           "gridcolor": "#283442",
           "linecolor": "#506784",
           "ticks": "",
           "title": {
            "standoff": 15
           },
           "zerolinecolor": "#283442",
           "zerolinewidth": 2
          }
         }
        },
        "xaxis": {
         "anchor": "y",
         "domain": [
          0,
          1
         ],
         "dtick": 1,
         "tickmode": "linear",
         "title": {
          "text": "Lunghezza"
         }
        },
        "yaxis": {
         "anchor": "x",
         "domain": [
          0,
          1
         ],
         "title": {
          "text": "Conteggio"
         }
        }
       }
      }
     },
     "metadata": {},
     "output_type": "display_data"
    }
   ],
   "source": [
    "# calcolo della frequenza delle password in base alla loro lunghezza \n",
    "length_counts = df[\"length\"].value_counts().sort_index()\n",
    "# grafico a barre\n",
    "fig1 = px.bar(\n",
    "    x=length_counts.index,\n",
    "    y=length_counts.values,\n",
    "    labels={\"x\": \"Lunghezza\", \"y\": \"Conteggio\"},\n",
    "    text=length_counts.values,       # etichette sopra le barre\n",
    "    color=length_counts.values,        # colora in base all’altezza\n",
    "    color_continuous_scale=\"Blues\"   # gradiente di blu\n",
    ")\n",
    "# stile delle etichette sopra le barre\n",
    "fig1.update_traces(\n",
    "    textposition=\"outside\",   # testo sopra\n",
    "    textfont=dict(size=14),                \n",
    "    cliponaxis=False         # evita il taglio delle etichette\n",
    ")\n",
    "fig1.update_layout(\n",
    "    template=\"plotly_dark\",                  \n",
    "    height=495,                             \n",
    "    plot_bgcolor=\"#050b18\",                  \n",
    "    paper_bgcolor=\"#050b18\",              \n",
    "    font=dict(color=\"white\", family=\"Segoe UI\", size=26),  \n",
    "    coloraxis_showscale=False,             \n",
    "    margin=dict(l=60, r=60, t=80, b=60),   \n",
    "    xaxis=dict(\n",
    "        tickmode='linear',                  \n",
    "        dtick=1                            \n",
    "    )\n",
    ")\n",
    "fig1.show()\n"
   ]
  },
  {
   "cell_type": "markdown",
   "id": "744662aa",
   "metadata": {},
   "source": [
    "## Composizione media dei caratteri nelle password per lunghezza (Lettere / Numeri / Caratteri speciali)\n",
    "\n",
    "Il grafico che rappresenta la **composizione media** delle password in base alla loro lunghezza. Per ogni lunghezza, viene visualizzata la media di tre componenti:\n",
    "\n",
    "- **Lettere** (`num_chars`) – in blu scuro\n",
    "- **Cifre** (`num_digits`) – in bianco\n",
    "- **Simboli** (`num_special`) – in azzurro\n",
    "\n",
    "Ogni barra è suddivisa in segmenti colorati che indicano quanto, in media, ciascun tipo di carattere contribuisce alla composizione di una password con quella lunghezza.\n"
   ]
  },
  {
   "cell_type": "code",
   "execution_count": 63,
   "id": "fa8e5a45",
   "metadata": {},
   "outputs": [
    {
     "data": {
      "application/vnd.plotly.v1+json": {
       "config": {
        "plotlyServerURL": "https://plot.ly"
       },
       "data": [
        {
         "marker": {
          "color": "#42a5f5"
         },
         "name": "Maiuscole",
         "type": "bar",
         "x": {
          "bdata": "AwQFBgcICQoLDA0PEA==",
          "dtype": "i1"
         },
         "y": {
          "bdata": "AAAAAAAAAACqZ+zi9c+LPz0GRu+s8og/Bwk6vn1xoD/N4t3D39yYPwi/9VTSVZQ/2AVhF4RdoD9HfWejvrPBP9u2bdu2bbs/AAAAAAAAAAAAAAAAAADgPwAAAAAAAPA/AAAAAAAAAEA=",
          "dtype": "f8"
         }
        },
        {
         "marker": {
          "color": "#0d47a1"
         },
         "name": "Minuscole",
         "type": "bar",
         "x": {
          "bdata": "AwQFBgcICQoLDA0PEA==",
          "dtype": "i1"
         },
         "y": {
          "bdata": "AAAAAAAAAEDU8LcpRg0HQMbTgxmqGBNAspyB05gfFUAgYHV8KWMaQHEzMR8inBBAG4trLK6xHEAxuYKYXEEYQAAAAAAAACFAbtu2bdu2IUAAAAAAAAAmQAAAAAAAACRAAAAAAAAAJEA=",
          "dtype": "f8"
         }
        },
        {
         "marker": {
          "color": "#ffffff"
         },
         "name": "Cifre",
         "type": "bar",
         "x": {
          "bdata": "AwQFBgcICQoLDA0PEA==",
          "dtype": "i1"
         },
         "y": {
          "bdata": "AAAAAAAA8D+R7zGttqPxP3zmVeew8Mk/HpqVeJna5T++V6NC2SPYP6Ct8xwQnw5AucbiGotr/D/KFcTkCmIOQCVJkiRJkgJASZIkSZIkCUAAAAAAAAD4PwAAAAAAABBAAAAAAAAAEEA=",
          "dtype": "f8"
         }
        },
        {
         "marker": {
          "color": "#7E57C2"
         },
         "name": "Simboli",
         "type": "bar",
         "x": {
          "bdata": "AwQFBgcICQoLDA0PEA==",
          "dtype": "i1"
         },
         "y": {
          "bdata": "AAAAAAAAAABN7qswJzpkP6wFtJMRroY/DOHvvAfEcD8JD8jI+cBbPwAAAAAAAAAAQCsBrQS0kj8AAAAAAAAAAJIkSZIkSbI/AAAAAAAAAAAAAAAAAAAAAAAAAAAAAAAAAAAAAAAAAAA=",
          "dtype": "f8"
         }
        }
       ],
       "layout": {
        "barmode": "stack",
        "font": {
         "color": "white",
         "family": "Segoe UI",
         "size": 26
        },
        "paper_bgcolor": "#050b18",
        "plot_bgcolor": "#050b18",
        "template": {
         "data": {
          "bar": [
           {
            "error_x": {
             "color": "#f2f5fa"
            },
            "error_y": {
             "color": "#f2f5fa"
            },
            "marker": {
             "line": {
              "color": "rgb(17,17,17)",
              "width": 0.5
             },
             "pattern": {
              "fillmode": "overlay",
              "size": 10,
              "solidity": 0.2
             }
            },
            "type": "bar"
           }
          ],
          "barpolar": [
           {
            "marker": {
             "line": {
              "color": "rgb(17,17,17)",
              "width": 0.5
             },
             "pattern": {
              "fillmode": "overlay",
              "size": 10,
              "solidity": 0.2
             }
            },
            "type": "barpolar"
           }
          ],
          "carpet": [
           {
            "aaxis": {
             "endlinecolor": "#A2B1C6",
             "gridcolor": "#506784",
             "linecolor": "#506784",
             "minorgridcolor": "#506784",
             "startlinecolor": "#A2B1C6"
            },
            "baxis": {
             "endlinecolor": "#A2B1C6",
             "gridcolor": "#506784",
             "linecolor": "#506784",
             "minorgridcolor": "#506784",
             "startlinecolor": "#A2B1C6"
            },
            "type": "carpet"
           }
          ],
          "choropleth": [
           {
            "colorbar": {
             "outlinewidth": 0,
             "ticks": ""
            },
            "type": "choropleth"
           }
          ],
          "contour": [
           {
            "colorbar": {
             "outlinewidth": 0,
             "ticks": ""
            },
            "colorscale": [
             [
              0,
              "#0d0887"
             ],
             [
              0.1111111111111111,
              "#46039f"
             ],
             [
              0.2222222222222222,
              "#7201a8"
             ],
             [
              0.3333333333333333,
              "#9c179e"
             ],
             [
              0.4444444444444444,
              "#bd3786"
             ],
             [
              0.5555555555555556,
              "#d8576b"
             ],
             [
              0.6666666666666666,
              "#ed7953"
             ],
             [
              0.7777777777777778,
              "#fb9f3a"
             ],
             [
              0.8888888888888888,
              "#fdca26"
             ],
             [
              1,
              "#f0f921"
             ]
            ],
            "type": "contour"
           }
          ],
          "contourcarpet": [
           {
            "colorbar": {
             "outlinewidth": 0,
             "ticks": ""
            },
            "type": "contourcarpet"
           }
          ],
          "heatmap": [
           {
            "colorbar": {
             "outlinewidth": 0,
             "ticks": ""
            },
            "colorscale": [
             [
              0,
              "#0d0887"
             ],
             [
              0.1111111111111111,
              "#46039f"
             ],
             [
              0.2222222222222222,
              "#7201a8"
             ],
             [
              0.3333333333333333,
              "#9c179e"
             ],
             [
              0.4444444444444444,
              "#bd3786"
             ],
             [
              0.5555555555555556,
              "#d8576b"
             ],
             [
              0.6666666666666666,
              "#ed7953"
             ],
             [
              0.7777777777777778,
              "#fb9f3a"
             ],
             [
              0.8888888888888888,
              "#fdca26"
             ],
             [
              1,
              "#f0f921"
             ]
            ],
            "type": "heatmap"
           }
          ],
          "histogram": [
           {
            "marker": {
             "pattern": {
              "fillmode": "overlay",
              "size": 10,
              "solidity": 0.2
             }
            },
            "type": "histogram"
           }
          ],
          "histogram2d": [
           {
            "colorbar": {
             "outlinewidth": 0,
             "ticks": ""
            },
            "colorscale": [
             [
              0,
              "#0d0887"
             ],
             [
              0.1111111111111111,
              "#46039f"
             ],
             [
              0.2222222222222222,
              "#7201a8"
             ],
             [
              0.3333333333333333,
              "#9c179e"
             ],
             [
              0.4444444444444444,
              "#bd3786"
             ],
             [
              0.5555555555555556,
              "#d8576b"
             ],
             [
              0.6666666666666666,
              "#ed7953"
             ],
             [
              0.7777777777777778,
              "#fb9f3a"
             ],
             [
              0.8888888888888888,
              "#fdca26"
             ],
             [
              1,
              "#f0f921"
             ]
            ],
            "type": "histogram2d"
           }
          ],
          "histogram2dcontour": [
           {
            "colorbar": {
             "outlinewidth": 0,
             "ticks": ""
            },
            "colorscale": [
             [
              0,
              "#0d0887"
             ],
             [
              0.1111111111111111,
              "#46039f"
             ],
             [
              0.2222222222222222,
              "#7201a8"
             ],
             [
              0.3333333333333333,
              "#9c179e"
             ],
             [
              0.4444444444444444,
              "#bd3786"
             ],
             [
              0.5555555555555556,
              "#d8576b"
             ],
             [
              0.6666666666666666,
              "#ed7953"
             ],
             [
              0.7777777777777778,
              "#fb9f3a"
             ],
             [
              0.8888888888888888,
              "#fdca26"
             ],
             [
              1,
              "#f0f921"
             ]
            ],
            "type": "histogram2dcontour"
           }
          ],
          "mesh3d": [
           {
            "colorbar": {
             "outlinewidth": 0,
             "ticks": ""
            },
            "type": "mesh3d"
           }
          ],
          "parcoords": [
           {
            "line": {
             "colorbar": {
              "outlinewidth": 0,
              "ticks": ""
             }
            },
            "type": "parcoords"
           }
          ],
          "pie": [
           {
            "automargin": true,
            "type": "pie"
           }
          ],
          "scatter": [
           {
            "marker": {
             "line": {
              "color": "#283442"
             }
            },
            "type": "scatter"
           }
          ],
          "scatter3d": [
           {
            "line": {
             "colorbar": {
              "outlinewidth": 0,
              "ticks": ""
             }
            },
            "marker": {
             "colorbar": {
              "outlinewidth": 0,
              "ticks": ""
             }
            },
            "type": "scatter3d"
           }
          ],
          "scattercarpet": [
           {
            "marker": {
             "colorbar": {
              "outlinewidth": 0,
              "ticks": ""
             }
            },
            "type": "scattercarpet"
           }
          ],
          "scattergeo": [
           {
            "marker": {
             "colorbar": {
              "outlinewidth": 0,
              "ticks": ""
             }
            },
            "type": "scattergeo"
           }
          ],
          "scattergl": [
           {
            "marker": {
             "line": {
              "color": "#283442"
             }
            },
            "type": "scattergl"
           }
          ],
          "scattermap": [
           {
            "marker": {
             "colorbar": {
              "outlinewidth": 0,
              "ticks": ""
             }
            },
            "type": "scattermap"
           }
          ],
          "scattermapbox": [
           {
            "marker": {
             "colorbar": {
              "outlinewidth": 0,
              "ticks": ""
             }
            },
            "type": "scattermapbox"
           }
          ],
          "scatterpolar": [
           {
            "marker": {
             "colorbar": {
              "outlinewidth": 0,
              "ticks": ""
             }
            },
            "type": "scatterpolar"
           }
          ],
          "scatterpolargl": [
           {
            "marker": {
             "colorbar": {
              "outlinewidth": 0,
              "ticks": ""
             }
            },
            "type": "scatterpolargl"
           }
          ],
          "scatterternary": [
           {
            "marker": {
             "colorbar": {
              "outlinewidth": 0,
              "ticks": ""
             }
            },
            "type": "scatterternary"
           }
          ],
          "surface": [
           {
            "colorbar": {
             "outlinewidth": 0,
             "ticks": ""
            },
            "colorscale": [
             [
              0,
              "#0d0887"
             ],
             [
              0.1111111111111111,
              "#46039f"
             ],
             [
              0.2222222222222222,
              "#7201a8"
             ],
             [
              0.3333333333333333,
              "#9c179e"
             ],
             [
              0.4444444444444444,
              "#bd3786"
             ],
             [
              0.5555555555555556,
              "#d8576b"
             ],
             [
              0.6666666666666666,
              "#ed7953"
             ],
             [
              0.7777777777777778,
              "#fb9f3a"
             ],
             [
              0.8888888888888888,
              "#fdca26"
             ],
             [
              1,
              "#f0f921"
             ]
            ],
            "type": "surface"
           }
          ],
          "table": [
           {
            "cells": {
             "fill": {
              "color": "#506784"
             },
             "line": {
              "color": "rgb(17,17,17)"
             }
            },
            "header": {
             "fill": {
              "color": "#2a3f5f"
             },
             "line": {
              "color": "rgb(17,17,17)"
             }
            },
            "type": "table"
           }
          ]
         },
         "layout": {
          "annotationdefaults": {
           "arrowcolor": "#f2f5fa",
           "arrowhead": 0,
           "arrowwidth": 1
          },
          "autotypenumbers": "strict",
          "coloraxis": {
           "colorbar": {
            "outlinewidth": 0,
            "ticks": ""
           }
          },
          "colorscale": {
           "diverging": [
            [
             0,
             "#8e0152"
            ],
            [
             0.1,
             "#c51b7d"
            ],
            [
             0.2,
             "#de77ae"
            ],
            [
             0.3,
             "#f1b6da"
            ],
            [
             0.4,
             "#fde0ef"
            ],
            [
             0.5,
             "#f7f7f7"
            ],
            [
             0.6,
             "#e6f5d0"
            ],
            [
             0.7,
             "#b8e186"
            ],
            [
             0.8,
             "#7fbc41"
            ],
            [
             0.9,
             "#4d9221"
            ],
            [
             1,
             "#276419"
            ]
           ],
           "sequential": [
            [
             0,
             "#0d0887"
            ],
            [
             0.1111111111111111,
             "#46039f"
            ],
            [
             0.2222222222222222,
             "#7201a8"
            ],
            [
             0.3333333333333333,
             "#9c179e"
            ],
            [
             0.4444444444444444,
             "#bd3786"
            ],
            [
             0.5555555555555556,
             "#d8576b"
            ],
            [
             0.6666666666666666,
             "#ed7953"
            ],
            [
             0.7777777777777778,
             "#fb9f3a"
            ],
            [
             0.8888888888888888,
             "#fdca26"
            ],
            [
             1,
             "#f0f921"
            ]
           ],
           "sequentialminus": [
            [
             0,
             "#0d0887"
            ],
            [
             0.1111111111111111,
             "#46039f"
            ],
            [
             0.2222222222222222,
             "#7201a8"
            ],
            [
             0.3333333333333333,
             "#9c179e"
            ],
            [
             0.4444444444444444,
             "#bd3786"
            ],
            [
             0.5555555555555556,
             "#d8576b"
            ],
            [
             0.6666666666666666,
             "#ed7953"
            ],
            [
             0.7777777777777778,
             "#fb9f3a"
            ],
            [
             0.8888888888888888,
             "#fdca26"
            ],
            [
             1,
             "#f0f921"
            ]
           ]
          },
          "colorway": [
           "#636efa",
           "#EF553B",
           "#00cc96",
           "#ab63fa",
           "#FFA15A",
           "#19d3f3",
           "#FF6692",
           "#B6E880",
           "#FF97FF",
           "#FECB52"
          ],
          "font": {
           "color": "#f2f5fa"
          },
          "geo": {
           "bgcolor": "rgb(17,17,17)",
           "lakecolor": "rgb(17,17,17)",
           "landcolor": "rgb(17,17,17)",
           "showlakes": true,
           "showland": true,
           "subunitcolor": "#506784"
          },
          "hoverlabel": {
           "align": "left"
          },
          "hovermode": "closest",
          "mapbox": {
           "style": "dark"
          },
          "paper_bgcolor": "rgb(17,17,17)",
          "plot_bgcolor": "rgb(17,17,17)",
          "polar": {
           "angularaxis": {
            "gridcolor": "#506784",
            "linecolor": "#506784",
            "ticks": ""
           },
           "bgcolor": "rgb(17,17,17)",
           "radialaxis": {
            "gridcolor": "#506784",
            "linecolor": "#506784",
            "ticks": ""
           }
          },
          "scene": {
           "xaxis": {
            "backgroundcolor": "rgb(17,17,17)",
            "gridcolor": "#506784",
            "gridwidth": 2,
            "linecolor": "#506784",
            "showbackground": true,
            "ticks": "",
            "zerolinecolor": "#C8D4E3"
           },
           "yaxis": {
            "backgroundcolor": "rgb(17,17,17)",
            "gridcolor": "#506784",
            "gridwidth": 2,
            "linecolor": "#506784",
            "showbackground": true,
            "ticks": "",
            "zerolinecolor": "#C8D4E3"
           },
           "zaxis": {
            "backgroundcolor": "rgb(17,17,17)",
            "gridcolor": "#506784",
            "gridwidth": 2,
            "linecolor": "#506784",
            "showbackground": true,
            "ticks": "",
            "zerolinecolor": "#C8D4E3"
           }
          },
          "shapedefaults": {
           "line": {
            "color": "#f2f5fa"
           }
          },
          "sliderdefaults": {
           "bgcolor": "#C8D4E3",
           "bordercolor": "rgb(17,17,17)",
           "borderwidth": 1,
           "tickwidth": 0
          },
          "ternary": {
           "aaxis": {
            "gridcolor": "#506784",
            "linecolor": "#506784",
            "ticks": ""
           },
           "baxis": {
            "gridcolor": "#506784",
            "linecolor": "#506784",
            "ticks": ""
           },
           "bgcolor": "rgb(17,17,17)",
           "caxis": {
            "gridcolor": "#506784",
            "linecolor": "#506784",
            "ticks": ""
           }
          },
          "title": {
           "x": 0.05
          },
          "updatemenudefaults": {
           "bgcolor": "#506784",
           "borderwidth": 0
          },
          "xaxis": {
           "automargin": true,
           "gridcolor": "#283442",
           "linecolor": "#506784",
           "ticks": "",
           "title": {
            "standoff": 15
           },
           "zerolinecolor": "#283442",
           "zerolinewidth": 2
          },
          "yaxis": {
           "automargin": true,
           "gridcolor": "#283442",
           "linecolor": "#506784",
           "ticks": "",
           "title": {
            "standoff": 15
           },
           "zerolinecolor": "#283442",
           "zerolinewidth": 2
          }
         }
        },
        "title": {
         "font": {
          "color": "white",
          "family": "Segoe UI",
          "size": 28
         }
        },
        "xaxis": {
         "dtick": 1,
         "tickmode": "linear",
         "title": {
          "text": "Lunghezza"
         }
        }
       }
      }
     },
     "metadata": {},
     "output_type": "display_data"
    }
   ],
   "source": [
    "# Raggruppa le password per lunghezza e calcola la media dei caratteri di ciascun tipo (maiuscole, minuscole, numeri, simboli)\n",
    "df_bar = df.groupby(\"length\")[[\"num_upper\", \"num_lower\", \"num_digits\", \"num_special\"]].mean().reset_index()\n",
    "# Crea una nuova figura vuota\n",
    "fig = go.Figure()\n",
    "# aggiunta barre\n",
    "fig.add_trace(go.Bar(\n",
    "    name='Maiuscole',\n",
    "    x=df_bar[\"length\"],                \n",
    "    y=df_bar[\"num_upper\"],             \n",
    "    marker_color=\"#42a5f5\"             \n",
    "))\n",
    "fig.add_trace(go.Bar(\n",
    "    name='Minuscole',\n",
    "    x=df_bar[\"length\"],\n",
    "    y=df_bar[\"num_lower\"],\n",
    "    marker_color=\"#0d47a1\"             \n",
    "))\n",
    "fig.add_trace(go.Bar(\n",
    "    name='Cifre',\n",
    "    x=df_bar[\"length\"],\n",
    "    y=df_bar[\"num_digits\"],\n",
    "    marker_color=\"#ffffff\"             \n",
    "))\n",
    "fig.add_trace(go.Bar(\n",
    "    name='Simboli',\n",
    "    x=df_bar[\"length\"],\n",
    "    y=df_bar[\"num_special\"],\n",
    "    marker_color=\"#7E57C2\"             \n",
    "))\n",
    "# stile grafico\n",
    "fig.update_layout(\n",
    "    barmode='stack', # barre verticali\n",
    "    title_font=dict(\n",
    "        size=28, family=\"Segoe UI\", color=\"white\"\n",
    "    ),\n",
    "    xaxis_title=\"Lunghezza\",           \n",
    "    xaxis=dict(\n",
    "        tickmode=\"linear\",            \n",
    "        dtick=1\n",
    "    ),\n",
    "    template=\"plotly_dark\",            \n",
    "    plot_bgcolor=\"#050b18\",            \n",
    "    paper_bgcolor=\"#050b18\",          \n",
    "    font=dict(\n",
    "        color=\"white\", family=\"Segoe UI\", size=26\n",
    "    )\n",
    ")\n",
    "fig.show()\n"
   ]
  },
  {
   "cell_type": "markdown",
   "id": "4cd5bd6e",
   "metadata": {},
   "source": [
    "## Dieci password più comuni\n",
    "\n",
    "Questa sezione rappresenta le **10 password più utilizzate** attraverso una doppia visualizzazione:\n",
    "\n",
    " **Grafico radiale a barre**  \n",
    "Le lunghezze delle password sono rappresentate in modo circolare, con ogni barra corrispondente a una password, l'altezza che indica il numero di caratteri e un colore crescente di intensità per enfatizzare la posizione nella top 10. Sopra ogni barra è riportato il **ranking** e la password con relativa lunghezza (es. `#1 password (8)`), per facilitare l’interpretazione.\n",
    "\n",
    "**Tabella**  \n",
    "A fianco del grafico è presente una tabella che riepiloga la **posizione** (da 1 a 10), la **password** e la sua **lunghezza**. I colori delle righe della tabella sono **coerenti con il grafico radiale**, favorendo un’associazione visiva immediata tra le due rappresentazioni.\n"
   ]
  },
  {
   "cell_type": "code",
   "execution_count": 72,
   "id": "7dac657a",
   "metadata": {},
   "outputs": [
    {
     "data": {
      "image/png": "[encoded data removed]",
      "text/plain": [
       "<Figure size 2400x800 with 2 Axes>"
      ]
     },
     "metadata": {},
     "output_type": "display_data"
    }
   ],
   "source": [
    "# estrazione delle prime 10 password del dataset (sono già in ordine) e creazione di colonna di posizione (1–10)\n",
    "top10 = df.head(10).copy()\n",
    "top10[\"Posizione\"] = range(1, 11)\n",
    "bar_colors = [\n",
    "    \"#2196f3\", \"#1e88e5\", \"#1976d2\", \"#1565c0\", \"#0d47a1\",\n",
    "    \"#0c3c91\", \"#0b327f\", \"#092a6e\", \"#081f5a\", \"#06184a\"\n",
    "]\n",
    "# figura con 2 aree per radiale e tabella\n",
    "fig = plt.figure(figsize=(24, 8), facecolor='#050b18')\n",
    "gs = fig.add_gridspec(1, 2, width_ratios=[2.4, 2.6], wspace=0.25)\n",
    "# 1 GRAFICO RADIALE\n",
    "# calcolo degli angoli equidistanti nel cerchio per ciascuna barra\n",
    "angles = np.linspace(0, 2 * np.pi, len(top10), endpoint=False)\n",
    "radii = top10[\"length\"].values\n",
    "# etichette\n",
    "labels = top10[\"password\"].values\n",
    "# posizione numerica per etichetta \n",
    "positions = top10[\"Posizione\"].values\n",
    "# aggiunta alla figura del grafico\n",
    "ax_radial = fig.add_subplot(gs[0], polar=True, facecolor='#050b18')\n",
    "# barre circolari\n",
    "bars = ax_radial.bar(\n",
    "    angles,                  # angolo di ciascuna barra\n",
    "    radii,                   # raggio (lunghezza password)\n",
    "    width=0.5,               # larghezza angolare delle barre\n",
    "    color=bar_colors,        # colore \n",
    "    alpha=0.9,               # trasparenza\n",
    "    edgecolor=\"#0a0a1a\"      # bordo scuro\n",
    ")\n",
    "# aggiunta etichette con password + lunghezza sopra ogni barra\n",
    "for angle, radius, label, pos in zip(angles, radii, labels, positions):\n",
    "    ax_radial.text(\n",
    "        angle,\n",
    "        radius + 1.2,    # posizione testuale leggermente oltre la barra\n",
    "        f\"#{pos} {label} ({radius})\",  # es: \"#1 123456 (6)\"\n",
    "        ha='center', va='center',\n",
    "        color='white',\n",
    "        fontsize=13,\n",
    "        fontname='Segoe UI',\n",
    "        fontweight='bold'\n",
    "    )\n",
    "#  pulizia \n",
    "ax_radial.set_yticks([])\n",
    "ax_radial.set_xticks([])\n",
    "ax_radial.spines['polar'].set_visible(False)\n",
    "\n",
    "#2 TABELLA\n",
    "# nuovo sottografico \n",
    "ax_table = fig.add_subplot(gs[1])\n",
    "ax_table.axis('off')\n",
    "# costruzuione  tabella\n",
    "table_data = [[\"Posizione\", \"Password\", \"Lunghezza\"]] + list(top10[[\"Posizione\", \"password\", \"length\"]].values)\n",
    "table = ax_table.table(\n",
    "    cellText=table_data,\n",
    "    colLabels=None,             # niente header extra\n",
    "    cellLoc='left',             # allineamento testo\n",
    "    loc='center',               # posizione nel subplot\n",
    "    colWidths=[0.15, 0.30, 0.15]\n",
    ")\n",
    "table.auto_set_font_size(False)\n",
    "table.set_fontsize(16)\n",
    "table.scale(1.5, 1.6)\n",
    "header_color = \"#0f1c2f\"  \n",
    "# stile per riga 0 \n",
    "for i in range(3):\n",
    "    cell = table[(0, i)]\n",
    "    cell.set_facecolor(header_color)\n",
    "    cell.set_text_props(color='white', fontname='Segoe UI', weight='bold')\n",
    "# altre righe\n",
    "for row in range(1, 11):\n",
    "    for col in range(3):\n",
    "        cell = table[(row, col)]\n",
    "        cell.set_facecolor(bar_colors[row - 1])  # colore coerente con grafico radiale\n",
    "        cell.set_text_props(color='white', fontname='Segoe UI', weight='bold')\n",
    "\n",
    "plt.subplots_adjust(left=0.03, right=0.97, top=0.96, bottom=0.04)\n",
    "plt.show()\n",
    "\n"
   ]
  }
 ],
 "metadata": {
  "kernelspec": {
   "display_name": "Python 3",
   "language": "python",
   "name": "python3"
  },
  "language_info": {
   "codemirror_mode": {
    "name": "ipython",
    "version": 3
   },
   "file_extension": ".py",
   "mimetype": "text/x-python",
   "name": "python",
   "nbconvert_exporter": "python",
   "pygments_lexer": "ipython3",
   "version": "3.12.10"
  }
 },
 "nbformat": 4,
 "nbformat_minor": 5
}
