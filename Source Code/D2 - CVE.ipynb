{
 "cells": [
  {
   "cell_type": "markdown",
   "id": "2f5d6b0d",
   "metadata": {},
   "source": [
    "#  CVE & Vulnerabilities\n",
    "L'analisi esplora le vulnerabilità CVE, evidenziando pattern ricorrenti tra le categorie CWE più critiche e i vettori d’attacco più sfruttati. Il lavoro mette in luce i tipi di vulnerabilità che dominano il panorama tecnologico, l’obiettivo è identificare i punti di concentrazione delle vulnerabilità più gravi, evidenziando correlazioni tra categorie CWE, impatto CVSS e modalità di attacco.\n",
    "\n",
    "## Struttura del Dataset `cve`\n",
    "Il dataset si basa sullo standard CVE (Common Vulnerabilities and Exposures), una nomenclatura riconosciuta a livello mondiale per la **classificazione, tracciamento e analisi delle vulnerabilità di sicurezza informatica**. Ogni riga del dataset rappresenta una vulnerabilità informatica identificata ufficialmente e contiene informazioni tecniche, temporali e contestuali per permettere analisi e monitoraggi dettagliati. Il file include le seguenti colonne principali:\n",
    "\n",
    "- **`id`**: identificativo univoco della vulnerabilità nel formato CVE-YYYY-NNNN.\n",
    "- **`year`**: anno in cui la vulnerabilità è stata pubblicata o scoperta.\n",
    "- **`cvss_score`**: punteggio assegnato secondo lo standard CVSS (Common Vulnerability Scoring System), che va da 0 (nessun impatto) a 10 (massimo impatto).\n",
    "- **`severity`**: classificazione qualitativa della gravità (es. *Low, Medium, High, Critical*).\n",
    "- **`description`**: breve descrizione della vulnerabilità, utile per identificare il contesto e la natura dell’attacco.\n",
    "- **`attack_vector`**: modalità con cui la vulnerabilità può essere sfruttata (es. *Network, Local, Physical*).\n",
    "- **`vulnerable_product`** *(opzionale)*: prodotto o software affetto dalla vulnerabilità.\n",
    "\n"
   ]
  },
  {
   "cell_type": "code",
   "execution_count": 94,
   "id": "bee3d198",
   "metadata": {},
   "outputs": [],
   "source": [
    "import pandas as pd                        \n",
    "import plotly.graph_objects as go      \n",
    "import plotly.express as px                \n",
    "import re                                 \n",
    "df = pd.read_csv(\"cve.csv\")\n",
    "# converte la colonna 'pub_date' (data di pubblicazione) in formato datetime \n",
    "df['pub_date'] = pd.to_datetime(df['pub_date'], errors='coerce')\n",
    "# estrazione anno dalla data pubblicata --> nuova colonna 'year'\n",
    "df['year'] = df['pub_date'].dt.year\n",
    "# reimozione di tutte le righe che non hanno anno / punteggio CVSS validi\n",
    "df = df.dropna(subset=['year', 'cvss'])\n"
   ]
  },
  {
   "cell_type": "markdown",
   "id": "618c3657",
   "metadata": {},
   "source": [
    "### Distribuzione CVE per Gravità \n",
    "\n",
    "Questo grafico mostra l’**evoluzione del numero di vulnerabilità informatiche (CVE)** nel tempo, classificate secondo la scala di gravità **CVSS** in quattro categorie:\n",
    "\n",
    "- **Low (0–3.9)** – impatto limitato\n",
    "- **Medium (4–6.9)** – impatto moderato\n",
    "- **High (7–8.9)** – impatto elevato\n",
    "- **Critical (9–10)** – impatto massimo \n",
    "\n",
    "Ogni barra rappresenta un anno, suddiviso per gravità. La linea tratteggiata bianca mostra l’**incidenza percentuale delle CVE critiche** sul totale annuale.\n",
    "Questa visualizzazione consente di analizzare: l’**aumento complessivo del numero di vulnerabilità** nel tempo e Il **peso crescente delle vulnerabilità critiche** \n"
   ]
  },
  {
   "cell_type": "code",
   "execution_count": 95,
   "id": "bb4cf062",
   "metadata": {},
   "outputs": [
    {
     "data": {
      "application/vnd.plotly.v1+json": {
       "config": {
        "plotlyServerURL": "https://plot.ly"
       },
       "data": [
        {
         "hovertemplate": "Anno %{x}<br>Low: %{y}",
         "marker": {
          "color": "green"
         },
         "name": "Low (0–3.9)",
         "type": "bar",
         "x": {
          "bdata": "zwcAANAHAADRBwAA0gcAANMHAADUBwAA1QcAANYHAADXBwAA2AcAANkHAADaBwAA2wcAANwHAADdBwAA3gcAAN8HAADgBwAA4QcAAOIHAADjBwAA",
          "dtype": "i4"
         },
         "y": {
          "bdata": "AgADAAIADAAIAAcAHwAzAFwAnwCmAN0AugBzAaYBIQLUAQMC+wRmBnYG",
          "dtype": "i2"
         }
        },
        {
         "hovertemplate": "Anno %{x}<br>Medium: %{y}",
         "marker": {
          "color": "yellow"
         },
         "name": "Medium (4–6.9)",
         "type": "bar",
         "x": {
          "bdata": "zwcAANAHAADRBwAA0gcAANMHAADUBwAA1QcAANYHAADXBwAA2AcAANkHAADaBwAA2wcAANwHAADdBwAA3gcAAN8HAADgBwAA4QcAAOIHAADjBwAA",
          "dtype": "i4"
         },
         "y": {
          "bdata": "EwAFAA0AcwCUAFAAogCrAQYFHglDCRIHoAZLCUQJeRJRC9AKyB5hJIEk",
          "dtype": "i2"
         }
        },
        {
         "hovertemplate": "Anno %{x}<br>High: %{y}",
         "marker": {
          "color": "orange"
         },
         "name": "High (7–8.9)",
         "type": "bar",
         "x": {
          "bdata": "zwcAANAHAADRBwAA0gcAANMHAADUBwAA1QcAANYHAADXBwAA2AcAANkHAADaBwAA2wcAANwHAADdBwAA3gcAAN8HAADgBwAA4QcAAOIHAADjBwAA",
          "dtype": "i4"
         },
         "y": {
          "bdata": "EgAIAA8APgBDACcAiAAoAasCpQb3BXMDKwOrApkCkAPeA54DgQmuCfsJ",
          "dtype": "i2"
         }
        },
        {
         "hovertemplate": "Anno %{x}<br>Critical: %{y}",
         "marker": {
          "color": "crimson"
         },
         "name": "Critical (9–10)",
         "type": "bar",
         "x": {
          "bdata": "zwcAANAHAADRBwAA0gcAANMHAADUBwAA1QcAANYHAADXBwAA2AcAANkHAADaBwAA2wcAANwHAADdBwAA3gcAAN8HAADgBwAA4QcAAOIHAADjBwAA",
          "dtype": "i4"
         },
         "y": {
          "bdata": "BwACAAQAHAAWABUAGwBaAHYBHQNNA0kDvwK+ApkCfwJeA1wEYQWSBd4E",
          "dtype": "i2"
         }
        },
        {
         "hovertemplate": "%{y:.1f}% CVE critiche nel %{x}",
         "line": {
          "color": "white",
          "dash": "dash",
          "width": 2
         },
         "mode": "lines+markers",
         "name": "% Critiche",
         "type": "scatter",
         "x": {
          "bdata": "zwcAANAHAADRBwAA0gcAANMHAADUBwAA1QcAANYHAADXBwAA2AcAANkHAADaBwAA2wcAANwHAADdBwAA3gcAAN8HAADgBwAA4QcAAOIHAADjBwAA",
          "dtype": "i4"
         },
         "y": {
          "bdata": "576nFDfo1T8KWPXJJF+5P6Xv9W/iKMk/Y+lLSnQw9D/dFSj0FFHvPzM1F7vEPe8/ryci7R1M8j+EFPe1TBYJQC19CtnZ1iBA7E/hkFHGJkDWZ1eh1G0oQLq8rm0SLS1AyS2nK9oAKkBulFwbJdcmQISeaNT8qyVAqrpVENTqHEB6amGlp9YnQIDiRVySZy5A2IN6lc5hIkAI4ZA7GucgQLH3VVAWoh1A",
          "dtype": "f8"
         },
         "yaxis": "y2"
        }
       ],
       "layout": {
        "barmode": "stack",
        "font": {
         "color": "white",
         "family": "Segoe UI",
         "size": 28
        },
        "legend": {
         "font": {
          "color": "white",
          "family": "Segoe UI",
          "size": 20
         },
         "orientation": "h",
         "x": 0.01,
         "y": 1.1
        },
        "margin": {
         "b": 80,
         "l": 80,
         "r": 80,
         "t": 100
        },
        "paper_bgcolor": "#050b18",
        "plot_bgcolor": "#050b18",
        "template": {
         "data": {
          "bar": [
           {
            "error_x": {
             "color": "#f2f5fa"
            },
            "error_y": {
             "color": "#f2f5fa"
            },
            "marker": {
             "line": {
              "color": "rgb(17,17,17)",
              "width": 0.5
             },
             "pattern": {
              "fillmode": "overlay",
              "size": 10,
              "solidity": 0.2
             }
            },
            "type": "bar"
           }
          ],
          "barpolar": [
           {
            "marker": {
             "line": {
              "color": "rgb(17,17,17)",
              "width": 0.5
             },
             "pattern": {
              "fillmode": "overlay",
              "size": 10,
              "solidity": 0.2
             }
            },
            "type": "barpolar"
           }
          ],
          "carpet": [
           {
            "aaxis": {
             "endlinecolor": "#A2B1C6",
             "gridcolor": "#506784",
             "linecolor": "#506784",
             "minorgridcolor": "#506784",
             "startlinecolor": "#A2B1C6"
            },
            "baxis": {
             "endlinecolor": "#A2B1C6",
             "gridcolor": "#506784",
             "linecolor": "#506784",
             "minorgridcolor": "#506784",
             "startlinecolor": "#A2B1C6"
            },
            "type": "carpet"
           }
          ],
          "choropleth": [
           {
            "colorbar": {
             "outlinewidth": 0,
             "ticks": ""
            },
            "type": "choropleth"
           }
          ],
          "contour": [
           {
            "colorbar": {
             "outlinewidth": 0,
             "ticks": ""
            },
            "colorscale": [
             [
              0,
              "#0d0887"
             ],
             [
              0.1111111111111111,
              "#46039f"
             ],
             [
              0.2222222222222222,
              "#7201a8"
             ],
             [
              0.3333333333333333,
              "#9c179e"
             ],
             [
              0.4444444444444444,
              "#bd3786"
             ],
             [
              0.5555555555555556,
              "#d8576b"
             ],
             [
              0.6666666666666666,
              "#ed7953"
             ],
             [
              0.7777777777777778,
              "#fb9f3a"
             ],
             [
              0.8888888888888888,
              "#fdca26"
             ],
             [
              1,
              "#f0f921"
             ]
            ],
            "type": "contour"
           }
          ],
          "contourcarpet": [
           {
            "colorbar": {
             "outlinewidth": 0,
             "ticks": ""
            },
            "type": "contourcarpet"
           }
          ],
          "heatmap": [
           {
            "colorbar": {
             "outlinewidth": 0,
             "ticks": ""
            },
            "colorscale": [
             [
              0,
              "#0d0887"
             ],
             [
              0.1111111111111111,
              "#46039f"
             ],
             [
              0.2222222222222222,
              "#7201a8"
             ],
             [
              0.3333333333333333,
              "#9c179e"
             ],
             [
              0.4444444444444444,
              "#bd3786"
             ],
             [
              0.5555555555555556,
              "#d8576b"
             ],
             [
              0.6666666666666666,
              "#ed7953"
             ],
             [
              0.7777777777777778,
              "#fb9f3a"
             ],
             [
              0.8888888888888888,
              "#fdca26"
             ],
             [
              1,
              "#f0f921"
             ]
            ],
            "type": "heatmap"
           }
          ],
          "histogram": [
           {
            "marker": {
             "pattern": {
              "fillmode": "overlay",
              "size": 10,
              "solidity": 0.2
             }
            },
            "type": "histogram"
           }
          ],
          "histogram2d": [
           {
            "colorbar": {
             "outlinewidth": 0,
             "ticks": ""
            },
            "colorscale": [
             [
              0,
              "#0d0887"
             ],
             [
              0.1111111111111111,
              "#46039f"
             ],
             [
              0.2222222222222222,
              "#7201a8"
             ],
             [
              0.3333333333333333,
              "#9c179e"
             ],
             [
              0.4444444444444444,
              "#bd3786"
             ],
             [
              0.5555555555555556,
              "#d8576b"
             ],
             [
              0.6666666666666666,
              "#ed7953"
             ],
             [
              0.7777777777777778,
              "#fb9f3a"
             ],
             [
              0.8888888888888888,
              "#fdca26"
             ],
             [
              1,
              "#f0f921"
             ]
            ],
            "type": "histogram2d"
           }
          ],
          "histogram2dcontour": [
           {
            "colorbar": {
             "outlinewidth": 0,
             "ticks": ""
            },
            "colorscale": [
             [
              0,
              "#0d0887"
             ],
             [
              0.1111111111111111,
              "#46039f"
             ],
             [
              0.2222222222222222,
              "#7201a8"
             ],
             [
              0.3333333333333333,
              "#9c179e"
             ],
             [
              0.4444444444444444,
              "#bd3786"
             ],
             [
              0.5555555555555556,
              "#d8576b"
             ],
             [
              0.6666666666666666,
              "#ed7953"
             ],
             [
              0.7777777777777778,
              "#fb9f3a"
             ],
             [
              0.8888888888888888,
              "#fdca26"
             ],
             [
              1,
              "#f0f921"
             ]
            ],
            "type": "histogram2dcontour"
           }
          ],
          "mesh3d": [
           {
            "colorbar": {
             "outlinewidth": 0,
             "ticks": ""
            },
            "type": "mesh3d"
           }
          ],
          "parcoords": [
           {
            "line": {
             "colorbar": {
              "outlinewidth": 0,
              "ticks": ""
             }
            },
            "type": "parcoords"
           }
          ],
          "pie": [
           {
            "automargin": true,
            "type": "pie"
           }
          ],
          "scatter": [
           {
            "marker": {
             "line": {
              "color": "#283442"
             }
            },
            "type": "scatter"
           }
          ],
          "scatter3d": [
           {
            "line": {
             "colorbar": {
              "outlinewidth": 0,
              "ticks": ""
             }
            },
            "marker": {
             "colorbar": {
              "outlinewidth": 0,
              "ticks": ""
             }
            },
            "type": "scatter3d"
           }
          ],
          "scattercarpet": [
           {
            "marker": {
             "colorbar": {
              "outlinewidth": 0,
              "ticks": ""
             }
            },
            "type": "scattercarpet"
           }
          ],
          "scattergeo": [
           {
            "marker": {
             "colorbar": {
              "outlinewidth": 0,
              "ticks": ""
             }
            },
            "type": "scattergeo"
           }
          ],
          "scattergl": [
           {
            "marker": {
             "line": {
              "color": "#283442"
             }
            },
            "type": "scattergl"
           }
          ],
          "scattermap": [
           {
            "marker": {
             "colorbar": {
              "outlinewidth": 0,
              "ticks": ""
             }
            },
            "type": "scattermap"
           }
          ],
          "scattermapbox": [
           {
            "marker": {
             "colorbar": {
              "outlinewidth": 0,
              "ticks": ""
             }
            },
            "type": "scattermapbox"
           }
          ],
          "scatterpolar": [
           {
            "marker": {
             "colorbar": {
              "outlinewidth": 0,
              "ticks": ""
             }
            },
            "type": "scatterpolar"
           }
          ],
          "scatterpolargl": [
           {
            "marker": {
             "colorbar": {
              "outlinewidth": 0,
              "ticks": ""
             }
            },
            "type": "scatterpolargl"
           }
          ],
          "scatterternary": [
           {
            "marker": {
             "colorbar": {
              "outlinewidth": 0,
              "ticks": ""
             }
            },
            "type": "scatterternary"
           }
          ],
          "surface": [
           {
            "colorbar": {
             "outlinewidth": 0,
             "ticks": ""
            },
            "colorscale": [
             [
              0,
              "#0d0887"
             ],
             [
              0.1111111111111111,
              "#46039f"
             ],
             [
              0.2222222222222222,
              "#7201a8"
             ],
             [
              0.3333333333333333,
              "#9c179e"
             ],
             [
              0.4444444444444444,
              "#bd3786"
             ],
             [
              0.5555555555555556,
              "#d8576b"
             ],
             [
              0.6666666666666666,
              "#ed7953"
             ],
             [
              0.7777777777777778,
              "#fb9f3a"
             ],
             [
              0.8888888888888888,
              "#fdca26"
             ],
             [
              1,
              "#f0f921"
             ]
            ],
            "type": "surface"
           }
          ],
          "table": [
           {
            "cells": {
             "fill": {
              "color": "#506784"
             },
             "line": {
              "color": "rgb(17,17,17)"
             }
            },
            "header": {
             "fill": {
              "color": "#2a3f5f"
             },
             "line": {
              "color": "rgb(17,17,17)"
             }
            },
            "type": "table"
           }
          ]
         },
         "layout": {
          "annotationdefaults": {
           "arrowcolor": "#f2f5fa",
           "arrowhead": 0,
           "arrowwidth": 1
          },
          "autotypenumbers": "strict",
          "coloraxis": {
           "colorbar": {
            "outlinewidth": 0,
            "ticks": ""
           }
          },
          "colorscale": {
           "diverging": [
            [
             0,
             "#8e0152"
            ],
            [
             0.1,
             "#c51b7d"
            ],
            [
             0.2,
             "#de77ae"
            ],
            [
             0.3,
             "#f1b6da"
            ],
            [
             0.4,
             "#fde0ef"
            ],
            [
             0.5,
             "#f7f7f7"
            ],
            [
             0.6,
             "#e6f5d0"
            ],
            [
             0.7,
             "#b8e186"
            ],
            [
             0.8,
             "#7fbc41"
            ],
            [
             0.9,
             "#4d9221"
            ],
            [
             1,
             "#276419"
            ]
           ],
           "sequential": [
            [
             0,
             "#0d0887"
            ],
            [
             0.1111111111111111,
             "#46039f"
            ],
            [
             0.2222222222222222,
             "#7201a8"
            ],
            [
             0.3333333333333333,
             "#9c179e"
            ],
            [
             0.4444444444444444,
             "#bd3786"
            ],
            [
             0.5555555555555556,
             "#d8576b"
            ],
            [
             0.6666666666666666,
             "#ed7953"
            ],
            [
             0.7777777777777778,
             "#fb9f3a"
            ],
            [
             0.8888888888888888,
             "#fdca26"
            ],
            [
             1,
             "#f0f921"
            ]
           ],
           "sequentialminus": [
            [
             0,
             "#0d0887"
            ],
            [
             0.1111111111111111,
             "#46039f"
            ],
            [
             0.2222222222222222,
             "#7201a8"
            ],
            [
             0.3333333333333333,
             "#9c179e"
            ],
            [
             0.4444444444444444,
             "#bd3786"
            ],
            [
             0.5555555555555556,
             "#d8576b"
            ],
            [
             0.6666666666666666,
             "#ed7953"
            ],
            [
             0.7777777777777778,
             "#fb9f3a"
            ],
            [
             0.8888888888888888,
             "#fdca26"
            ],
            [
             1,
             "#f0f921"
            ]
           ]
          },
          "colorway": [
           "#636efa",
           "#EF553B",
           "#00cc96",
           "#ab63fa",
           "#FFA15A",
           "#19d3f3",
           "#FF6692",
           "#B6E880",
           "#FF97FF",
           "#FECB52"
          ],
          "font": {
           "color": "#f2f5fa"
          },
          "geo": {
           "bgcolor": "rgb(17,17,17)",
           "lakecolor": "rgb(17,17,17)",
           "landcolor": "rgb(17,17,17)",
           "showlakes": true,
           "showland": true,
           "subunitcolor": "#506784"
          },
          "hoverlabel": {
           "align": "left"
          },
          "hovermode": "closest",
          "mapbox": {
           "style": "dark"
          },
          "paper_bgcolor": "rgb(17,17,17)",
          "plot_bgcolor": "rgb(17,17,17)",
          "polar": {
           "angularaxis": {
            "gridcolor": "#506784",
            "linecolor": "#506784",
            "ticks": ""
           },
           "bgcolor": "rgb(17,17,17)",
           "radialaxis": {
            "gridcolor": "#506784",
            "linecolor": "#506784",
            "ticks": ""
           }
          },
          "scene": {
           "xaxis": {
            "backgroundcolor": "rgb(17,17,17)",
            "gridcolor": "#506784",
            "gridwidth": 2,
            "linecolor": "#506784",
            "showbackground": true,
            "ticks": "",
            "zerolinecolor": "#C8D4E3"
           },
           "yaxis": {
            "backgroundcolor": "rgb(17,17,17)",
            "gridcolor": "#506784",
            "gridwidth": 2,
            "linecolor": "#506784",
            "showbackground": true,
            "ticks": "",
            "zerolinecolor": "#C8D4E3"
           },
           "zaxis": {
            "backgroundcolor": "rgb(17,17,17)",
            "gridcolor": "#506784",
            "gridwidth": 2,
            "linecolor": "#506784",
            "showbackground": true,
            "ticks": "",
            "zerolinecolor": "#C8D4E3"
           }
          },
          "shapedefaults": {
           "line": {
            "color": "#f2f5fa"
           }
          },
          "sliderdefaults": {
           "bgcolor": "#C8D4E3",
           "bordercolor": "rgb(17,17,17)",
           "borderwidth": 1,
           "tickwidth": 0
          },
          "ternary": {
           "aaxis": {
            "gridcolor": "#506784",
            "linecolor": "#506784",
            "ticks": ""
           },
           "baxis": {
            "gridcolor": "#506784",
            "linecolor": "#506784",
            "ticks": ""
           },
           "bgcolor": "rgb(17,17,17)",
           "caxis": {
            "gridcolor": "#506784",
            "linecolor": "#506784",
            "ticks": ""
           }
          },
          "title": {
           "x": 0.05
          },
          "updatemenudefaults": {
           "bgcolor": "#506784",
           "borderwidth": 0
          },
          "xaxis": {
           "automargin": true,
           "gridcolor": "#283442",
           "linecolor": "#506784",
           "ticks": "",
           "title": {
            "standoff": 15
           },
           "zerolinecolor": "#283442",
           "zerolinewidth": 2
          },
          "yaxis": {
           "automargin": true,
           "gridcolor": "#283442",
           "linecolor": "#506784",
           "ticks": "",
           "title": {
            "standoff": 15
           },
           "zerolinecolor": "#283442",
           "zerolinewidth": 2
          }
         }
        },
        "xaxis": {
         "tickfont": {
          "color": "white"
         },
         "title": {
          "text": "Anno"
         }
        },
        "yaxis": {
         "tickfont": {
          "color": "white"
         },
         "title": {
          "text": "Numero di CVE"
         }
        },
        "yaxis2": {
         "overlaying": "y",
         "showgrid": false,
         "side": "right",
         "tickfont": {
          "color": "white"
         },
         "title": {
          "text": "% Critiche"
         }
        }
       }
      }
     },
     "metadata": {},
     "output_type": "display_data"
    }
   ],
   "source": [
    "#fasce di gravità CVSS\n",
    "bins = [0, 3.9, 6.9, 8.9, 10]\n",
    "labels = ['Low (0–3.9)', 'Medium (4–6.9)', 'High (7–8.9)', 'Critical (9–10)']\n",
    "df['cvss_bin'] = pd.cut(df['cvss'], bins=bins, labels=labels)\n",
    "# raggruppamento per anno e fascia\n",
    "cve_bins = (\n",
    "    df.groupby(['year', 'cvss_bin'], observed=True)\n",
    "      .size()\n",
    "      .unstack(fill_value=0)\n",
    "      .reset_index()\n",
    ")\n",
    "cve_bins['Totali'] = cve_bins.sum(axis=1)\n",
    "cve_bins['% Critiche'] = (cve_bins[\"Critical (9–10)\"] / cve_bins['Totali']) * 100\n",
    "# grafico con barre impilate + linea % critiche\n",
    "fig = go.Figure()\n",
    "fig.add_trace(go.Bar(\n",
    "    x=cve_bins['year'],\n",
    "    y=cve_bins[\"Low (0–3.9)\"],\n",
    "    name='Low (0–3.9)',\n",
    "    marker_color='green',\n",
    "    hovertemplate='Anno %{x}<br>Low: %{y}'\n",
    "))\n",
    "fig.add_trace(go.Bar(\n",
    "    x=cve_bins['year'],\n",
    "    y=cve_bins[\"Medium (4–6.9)\"],\n",
    "    name='Medium (4–6.9)',\n",
    "    marker_color='yellow',\n",
    "    hovertemplate='Anno %{x}<br>Medium: %{y}'\n",
    "))\n",
    "fig.add_trace(go.Bar(\n",
    "    x=cve_bins['year'],\n",
    "    y=cve_bins[\"High (7–8.9)\"],\n",
    "    name='High (7–8.9)',\n",
    "    marker_color='orange',\n",
    "    hovertemplate='Anno %{x}<br>High: %{y}'\n",
    "))\n",
    "fig.add_trace(go.Bar(\n",
    "    x=cve_bins['year'],\n",
    "    y=cve_bins[\"Critical (9–10)\"],\n",
    "    name='Critical (9–10)',\n",
    "    marker_color='crimson',\n",
    "    hovertemplate='Anno %{x}<br>Critical: %{y}'\n",
    "))\n",
    "fig.add_trace(go.Scatter(\n",
    "    x=cve_bins['year'],\n",
    "    y=cve_bins['% Critiche'],\n",
    "    name='% Critiche',\n",
    "    yaxis='y2',\n",
    "    mode='lines+markers',\n",
    "    line=dict(color='white', width=2, dash='dash'),\n",
    "    hovertemplate='%{y:.1f}% CVE critiche nel %{x}'\n",
    "))\n",
    "#stile\n",
    "fig.update_layout(\n",
    "    barmode='stack',\n",
    "    xaxis=dict(title=\"Anno\", tickfont=dict(color='white')),\n",
    "    yaxis=dict(title=\"Numero di CVE\", tickfont=dict(color='white')),\n",
    "    yaxis2=dict(\n",
    "        title=\"% Critiche\",\n",
    "        overlaying='y',\n",
    "        side='right',\n",
    "        showgrid=False,\n",
    "        tickfont=dict(color='white')\n",
    "    ),\n",
    "    template='plotly_dark',\n",
    "    plot_bgcolor='#050b18',\n",
    "    paper_bgcolor='#050b18',\n",
    "    legend=dict(\n",
    "        x=0.01, y=1.1,\n",
    "        orientation='h',\n",
    "        font=dict(family='Segoe UI', color='white', size=20)\n",
    "    ),\n",
    "    font=dict(family='Segoe UI', color='white', size=28),\n",
    "    margin=dict(l=80, r=80, t=100, b=80)\n",
    ")\n",
    "fig.show()"
   ]
  },
  {
   "cell_type": "markdown",
   "id": "381542c4",
   "metadata": {},
   "source": [
    "### Distribuzione Statica delle CVE per Livello di Gravità (CVSS)\n",
    "\n",
    "Questo grafico a barre mostra la **frequenza assoluta delle vulnerabilità  (CVE)** classificate secondo le fasce di rischio CVSS:\n",
    "\n",
    "- **Low (0–3.9)** – rischio basso\n",
    "- **Medium (4–6.9)** – rischio moderato\n",
    "- **High (7–8.9)** – rischio elevato\n",
    "- **Critical (9–10)** – rischio massimo\n",
    "\n",
    "Il grafico evidenzia Il carico complessivo di minacce in ciascuna classe, le barre rappresentano **il numero totale di CVE** per ciascuna fascia, offrendo una panoramica chiara della distribuzione della gravità delle vulnerabilità. "
   ]
  },
  {
   "cell_type": "code",
   "execution_count": 96,
   "id": "3068815a",
   "metadata": {},
   "outputs": [
    {
     "data": {
      "application/vnd.plotly.v1+json": {
       "config": {
        "plotlyServerURL": "https://plot.ly"
       },
       "data": [
        {
         "cliponaxis": false,
         "marker": {
          "color": [
           "green",
           "yellow",
           "orange",
           "red"
          ]
         },
         "text": {
          "bdata": "AAAAAACVvkAAAAAAoHbpQAAAAAAAeNFAAAAAAAAJx0A=",
          "dtype": "f8"
         },
         "textfont": {
          "color": "white",
          "size": 24
         },
         "textposition": "outside",
         "type": "bar",
         "x": [
          "Low (0–3.9)",
          "Medium (4–6.9)",
          "High (7–8.9)",
          "Critical (9–10)"
         ],
         "y": {
          "bdata": "lR4AALXLAADgRQAAEi4AAA==",
          "dtype": "i4"
         }
        }
       ],
       "layout": {
        "font": {
         "color": "white",
         "family": "Segoe UI",
         "size": 28
        },
        "paper_bgcolor": "#050b18",
        "plot_bgcolor": "#050b18",
        "template": {
         "data": {
          "bar": [
           {
            "error_x": {
             "color": "#f2f5fa"
            },
            "error_y": {
             "color": "#f2f5fa"
            },
            "marker": {
             "line": {
              "color": "rgb(17,17,17)",
              "width": 0.5
             },
             "pattern": {
              "fillmode": "overlay",
              "size": 10,
              "solidity": 0.2
             }
            },
            "type": "bar"
           }
          ],
          "barpolar": [
           {
            "marker": {
             "line": {
              "color": "rgb(17,17,17)",
              "width": 0.5
             },
             "pattern": {
              "fillmode": "overlay",
              "size": 10,
              "solidity": 0.2
             }
            },
            "type": "barpolar"
           }
          ],
          "carpet": [
           {
            "aaxis": {
             "endlinecolor": "#A2B1C6",
             "gridcolor": "#506784",
             "linecolor": "#506784",
             "minorgridcolor": "#506784",
             "startlinecolor": "#A2B1C6"
            },
            "baxis": {
             "endlinecolor": "#A2B1C6",
             "gridcolor": "#506784",
             "linecolor": "#506784",
             "minorgridcolor": "#506784",
             "startlinecolor": "#A2B1C6"
            },
            "type": "carpet"
           }
          ],
          "choropleth": [
           {
            "colorbar": {
             "outlinewidth": 0,
             "ticks": ""
            },
            "type": "choropleth"
           }
          ],
          "contour": [
           {
            "colorbar": {
             "outlinewidth": 0,
             "ticks": ""
            },
            "colorscale": [
             [
              0,
              "#0d0887"
             ],
             [
              0.1111111111111111,
              "#46039f"
             ],
             [
              0.2222222222222222,
              "#7201a8"
             ],
             [
              0.3333333333333333,
              "#9c179e"
             ],
             [
              0.4444444444444444,
              "#bd3786"
             ],
             [
              0.5555555555555556,
              "#d8576b"
             ],
             [
              0.6666666666666666,
              "#ed7953"
             ],
             [
              0.7777777777777778,
              "#fb9f3a"
             ],
             [
              0.8888888888888888,
              "#fdca26"
             ],
             [
              1,
              "#f0f921"
             ]
            ],
            "type": "contour"
           }
          ],
          "contourcarpet": [
           {
            "colorbar": {
             "outlinewidth": 0,
             "ticks": ""
            },
            "type": "contourcarpet"
           }
          ],
          "heatmap": [
           {
            "colorbar": {
             "outlinewidth": 0,
             "ticks": ""
            },
            "colorscale": [
             [
              0,
              "#0d0887"
             ],
             [
              0.1111111111111111,
              "#46039f"
             ],
             [
              0.2222222222222222,
              "#7201a8"
             ],
             [
              0.3333333333333333,
              "#9c179e"
             ],
             [
              0.4444444444444444,
              "#bd3786"
             ],
             [
              0.5555555555555556,
              "#d8576b"
             ],
             [
              0.6666666666666666,
              "#ed7953"
             ],
             [
              0.7777777777777778,
              "#fb9f3a"
             ],
             [
              0.8888888888888888,
              "#fdca26"
             ],
             [
              1,
              "#f0f921"
             ]
            ],
            "type": "heatmap"
           }
          ],
          "histogram": [
           {
            "marker": {
             "pattern": {
              "fillmode": "overlay",
              "size": 10,
              "solidity": 0.2
             }
            },
            "type": "histogram"
           }
          ],
          "histogram2d": [
           {
            "colorbar": {
             "outlinewidth": 0,
             "ticks": ""
            },
            "colorscale": [
             [
              0,
              "#0d0887"
             ],
             [
              0.1111111111111111,
              "#46039f"
             ],
             [
              0.2222222222222222,
              "#7201a8"
             ],
             [
              0.3333333333333333,
              "#9c179e"
             ],
             [
              0.4444444444444444,
              "#bd3786"
             ],
             [
              0.5555555555555556,
              "#d8576b"
             ],
             [
              0.6666666666666666,
              "#ed7953"
             ],
             [
              0.7777777777777778,
              "#fb9f3a"
             ],
             [
              0.8888888888888888,
              "#fdca26"
             ],
             [
              1,
              "#f0f921"
             ]
            ],
            "type": "histogram2d"
           }
          ],
          "histogram2dcontour": [
           {
            "colorbar": {
             "outlinewidth": 0,
             "ticks": ""
            },
            "colorscale": [
             [
              0,
              "#0d0887"
             ],
             [
              0.1111111111111111,
              "#46039f"
             ],
             [
              0.2222222222222222,
              "#7201a8"
             ],
             [
              0.3333333333333333,
              "#9c179e"
             ],
             [
              0.4444444444444444,
              "#bd3786"
             ],
             [
              0.5555555555555556,
              "#d8576b"
             ],
             [
              0.6666666666666666,
              "#ed7953"
             ],
             [
              0.7777777777777778,
              "#fb9f3a"
             ],
             [
              0.8888888888888888,
              "#fdca26"
             ],
             [
              1,
              "#f0f921"
             ]
            ],
            "type": "histogram2dcontour"
           }
          ],
          "mesh3d": [
           {
            "colorbar": {
             "outlinewidth": 0,
             "ticks": ""
            },
            "type": "mesh3d"
           }
          ],
          "parcoords": [
           {
            "line": {
             "colorbar": {
              "outlinewidth": 0,
              "ticks": ""
             }
            },
            "type": "parcoords"
           }
          ],
          "pie": [
           {
            "automargin": true,
            "type": "pie"
           }
          ],
          "scatter": [
           {
            "marker": {
             "line": {
              "color": "#283442"
             }
            },
            "type": "scatter"
           }
          ],
          "scatter3d": [
           {
            "line": {
             "colorbar": {
              "outlinewidth": 0,
              "ticks": ""
             }
            },
            "marker": {
             "colorbar": {
              "outlinewidth": 0,
              "ticks": ""
             }
            },
            "type": "scatter3d"
           }
          ],
          "scattercarpet": [
           {
            "marker": {
             "colorbar": {
              "outlinewidth": 0,
              "ticks": ""
             }
            },
            "type": "scattercarpet"
           }
          ],
          "scattergeo": [
           {
            "marker": {
             "colorbar": {
              "outlinewidth": 0,
              "ticks": ""
             }
            },
            "type": "scattergeo"
           }
          ],
          "scattergl": [
           {
            "marker": {
             "line": {
              "color": "#283442"
             }
            },
            "type": "scattergl"
           }
          ],
          "scattermap": [
           {
            "marker": {
             "colorbar": {
              "outlinewidth": 0,
              "ticks": ""
             }
            },
            "type": "scattermap"
           }
          ],
          "scattermapbox": [
           {
            "marker": {
             "colorbar": {
              "outlinewidth": 0,
              "ticks": ""
             }
            },
            "type": "scattermapbox"
           }
          ],
          "scatterpolar": [
           {
            "marker": {
             "colorbar": {
              "outlinewidth": 0,
              "ticks": ""
             }
            },
            "type": "scatterpolar"
           }
          ],
          "scatterpolargl": [
           {
            "marker": {
             "colorbar": {
              "outlinewidth": 0,
              "ticks": ""
             }
            },
            "type": "scatterpolargl"
           }
          ],
          "scatterternary": [
           {
            "marker": {
             "colorbar": {
              "outlinewidth": 0,
              "ticks": ""
             }
            },
            "type": "scatterternary"
           }
          ],
          "surface": [
           {
            "colorbar": {
             "outlinewidth": 0,
             "ticks": ""
            },
            "colorscale": [
             [
              0,
              "#0d0887"
             ],
             [
              0.1111111111111111,
              "#46039f"
             ],
             [
              0.2222222222222222,
              "#7201a8"
             ],
             [
              0.3333333333333333,
              "#9c179e"
             ],
             [
              0.4444444444444444,
              "#bd3786"
             ],
             [
              0.5555555555555556,
              "#d8576b"
             ],
             [
              0.6666666666666666,
              "#ed7953"
             ],
             [
              0.7777777777777778,
              "#fb9f3a"
             ],
             [
              0.8888888888888888,
              "#fdca26"
             ],
             [
              1,
              "#f0f921"
             ]
            ],
            "type": "surface"
           }
          ],
          "table": [
           {
            "cells": {
             "fill": {
              "color": "#506784"
             },
             "line": {
              "color": "rgb(17,17,17)"
             }
            },
            "header": {
             "fill": {
              "color": "#2a3f5f"
             },
             "line": {
              "color": "rgb(17,17,17)"
             }
            },
            "type": "table"
           }
          ]
         },
         "layout": {
          "annotationdefaults": {
           "arrowcolor": "#f2f5fa",
           "arrowhead": 0,
           "arrowwidth": 1
          },
          "autotypenumbers": "strict",
          "coloraxis": {
           "colorbar": {
            "outlinewidth": 0,
            "ticks": ""
           }
          },
          "colorscale": {
           "diverging": [
            [
             0,
             "#8e0152"
            ],
            [
             0.1,
             "#c51b7d"
            ],
            [
             0.2,
             "#de77ae"
            ],
            [
             0.3,
             "#f1b6da"
            ],
            [
             0.4,
             "#fde0ef"
            ],
            [
             0.5,
             "#f7f7f7"
            ],
            [
             0.6,
             "#e6f5d0"
            ],
            [
             0.7,
             "#b8e186"
            ],
            [
             0.8,
             "#7fbc41"
            ],
            [
             0.9,
             "#4d9221"
            ],
            [
             1,
             "#276419"
            ]
           ],
           "sequential": [
            [
             0,
             "#0d0887"
            ],
            [
             0.1111111111111111,
             "#46039f"
            ],
            [
             0.2222222222222222,
             "#7201a8"
            ],
            [
             0.3333333333333333,
             "#9c179e"
            ],
            [
             0.4444444444444444,
             "#bd3786"
            ],
            [
             0.5555555555555556,
             "#d8576b"
            ],
            [
             0.6666666666666666,
             "#ed7953"
            ],
            [
             0.7777777777777778,
             "#fb9f3a"
            ],
            [
             0.8888888888888888,
             "#fdca26"
            ],
            [
             1,
             "#f0f921"
            ]
           ],
           "sequentialminus": [
            [
             0,
             "#0d0887"
            ],
            [
             0.1111111111111111,
             "#46039f"
            ],
            [
             0.2222222222222222,
             "#7201a8"
            ],
            [
             0.3333333333333333,
             "#9c179e"
            ],
            [
             0.4444444444444444,
             "#bd3786"
            ],
            [
             0.5555555555555556,
             "#d8576b"
            ],
            [
             0.6666666666666666,
             "#ed7953"
            ],
            [
             0.7777777777777778,
             "#fb9f3a"
            ],
            [
             0.8888888888888888,
             "#fdca26"
            ],
            [
             1,
             "#f0f921"
            ]
           ]
          },
          "colorway": [
           "#636efa",
           "#EF553B",
           "#00cc96",
           "#ab63fa",
           "#FFA15A",
           "#19d3f3",
           "#FF6692",
           "#B6E880",
           "#FF97FF",
           "#FECB52"
          ],
          "font": {
           "color": "#f2f5fa"
          },
          "geo": {
           "bgcolor": "rgb(17,17,17)",
           "lakecolor": "rgb(17,17,17)",
           "landcolor": "rgb(17,17,17)",
           "showlakes": true,
           "showland": true,
           "subunitcolor": "#506784"
          },
          "hoverlabel": {
           "align": "left"
          },
          "hovermode": "closest",
          "mapbox": {
           "style": "dark"
          },
          "paper_bgcolor": "rgb(17,17,17)",
          "plot_bgcolor": "rgb(17,17,17)",
          "polar": {
           "angularaxis": {
            "gridcolor": "#506784",
            "linecolor": "#506784",
            "ticks": ""
           },
           "bgcolor": "rgb(17,17,17)",
           "radialaxis": {
            "gridcolor": "#506784",
            "linecolor": "#506784",
            "ticks": ""
           }
          },
          "scene": {
           "xaxis": {
            "backgroundcolor": "rgb(17,17,17)",
            "gridcolor": "#506784",
            "gridwidth": 2,
            "linecolor": "#506784",
            "showbackground": true,
            "ticks": "",
            "zerolinecolor": "#C8D4E3"
           },
           "yaxis": {
            "backgroundcolor": "rgb(17,17,17)",
            "gridcolor": "#506784",
            "gridwidth": 2,
            "linecolor": "#506784",
            "showbackground": true,
            "ticks": "",
            "zerolinecolor": "#C8D4E3"
           },
           "zaxis": {
            "backgroundcolor": "rgb(17,17,17)",
            "gridcolor": "#506784",
            "gridwidth": 2,
            "linecolor": "#506784",
            "showbackground": true,
            "ticks": "",
            "zerolinecolor": "#C8D4E3"
           }
          },
          "shapedefaults": {
           "line": {
            "color": "#f2f5fa"
           }
          },
          "sliderdefaults": {
           "bgcolor": "#C8D4E3",
           "bordercolor": "rgb(17,17,17)",
           "borderwidth": 1,
           "tickwidth": 0
          },
          "ternary": {
           "aaxis": {
            "gridcolor": "#506784",
            "linecolor": "#506784",
            "ticks": ""
           },
           "baxis": {
            "gridcolor": "#506784",
            "linecolor": "#506784",
            "ticks": ""
           },
           "bgcolor": "rgb(17,17,17)",
           "caxis": {
            "gridcolor": "#506784",
            "linecolor": "#506784",
            "ticks": ""
           }
          },
          "title": {
           "x": 0.05
          },
          "updatemenudefaults": {
           "bgcolor": "#506784",
           "borderwidth": 0
          },
          "xaxis": {
           "automargin": true,
           "gridcolor": "#283442",
           "linecolor": "#506784",
           "ticks": "",
           "title": {
            "standoff": 15
           },
           "zerolinecolor": "#283442",
           "zerolinewidth": 2
          },
          "yaxis": {
           "automargin": true,
           "gridcolor": "#283442",
           "linecolor": "#506784",
           "ticks": "",
           "title": {
            "standoff": 15
           },
           "zerolinecolor": "#283442",
           "zerolinewidth": 2
          }
         }
        },
        "xaxis": {
         "tickfont": {
          "color": "white",
          "family": "Segoe UI",
          "size": 28
         },
         "title": {
          "font": {
           "color": "white",
           "family": "Segoe UI",
           "size": 28
          },
          "text": "Livello di Rischio"
         }
        },
        "yaxis": {
         "range": [
          0,
          62578.799999999996
         ],
         "tickfont": {
          "color": "white",
          "family": "Segoe UI",
          "size": 28
         },
         "title": {
          "font": {
           "color": "white",
           "family": "Segoe UI",
           "size": 28
          },
          "text": "Numero di CVE"
         }
        }
       }
      }
     },
     "metadata": {},
     "output_type": "display_data"
    }
   ],
   "source": [
    "df = df.dropna(subset=['cvss'])\n",
    "bins = [0, 3.9, 6.9, 8.9, 10]\n",
    "labels = ['Low (0–3.9)', 'Medium (4–6.9)', 'High (7–8.9)', 'Critical (9–10)']\n",
    "df['cvss_level'] = pd.cut(df['cvss'], bins=bins, labels=labels, include_lowest=True)\n",
    "dist = df['cvss_level'].value_counts().sort_index()\n",
    "fig = go.Figure(data=[\n",
    "    go.Bar(\n",
    "        x=dist.index,\n",
    "        y=dist.values,\n",
    "        text=dist.values,\n",
    "        textposition='outside',\n",
    "        textfont=dict(size=24, color='white'),\n",
    "        marker_color=['green', 'yellow', 'orange', 'red'],\n",
    "        cliponaxis=False\n",
    "    )\n",
    "])\n",
    "fig.layout = go.Layout(\n",
    "    xaxis=dict(\n",
    "        title=\"Livello di Rischio\",\n",
    "        title_font=dict(size=28, family='Segoe UI', color='white'),\n",
    "        tickfont=dict(size=28, family='Segoe UI', color='white')\n",
    "    ),\n",
    "    yaxis=dict(\n",
    "        title=\"Numero di CVE\",\n",
    "        title_font=dict(size=28, family='Segoe UI', color='white'),\n",
    "        tickfont=dict(size=28, family='Segoe UI', color='white'),\n",
    "        range=[0, dist.max() * 1.2]\n",
    "    ),\n",
    "    template='plotly_dark',\n",
    "    plot_bgcolor='#050b18',\n",
    "    paper_bgcolor='#050b18',\n",
    "    font=dict(family='Segoe UI', size=28, color='white')\n",
    ")\n",
    "fig.show()"
   ]
  },
  {
   "cell_type": "markdown",
   "id": "9a413400",
   "metadata": {},
   "source": [
    "### **Top 10 Tipi di Vulnerabilità più Comuni (CWE)**\n",
    "\n",
    "Questo grafico mostra le **10 tipologie di vulnerabilità (CWE – Common Weakness Enumeration)** più frequenti. Ogni barra rappresenta un tipo di weakness specifica nel codice, nel design o nell’implementazione di un sistema, ordinata per numero di vulnerabilità note.\n",
    "Il grafico aiuta a Comprendere **quali tipologie di difetti ricorrono più spesso nei software**. Ogni barra orizzontale rappresenta un tipo specifico di CWE, La lunghezza della barra indica **quante volte** quel tipo di debolezza è stato associato a una CVE registrata.\n"
   ]
  },
  {
   "cell_type": "code",
   "execution_count": 100,
   "id": "795804dd",
   "metadata": {},
   "outputs": [
    {
     "data": {
      "application/vnd.plotly.v1+json": {
       "config": {
        "plotlyServerURL": "https://plot.ly"
       },
       "data": [
        {
         "hovertemplate": "Numero di CVE=%{x}<br>CWE=%{y}<br>color=%{marker.color}<extra></extra>",
         "legendgroup": "",
         "marker": {
          "color": {
           "bdata": "cwn5CZgL/wt+Fr4WyRnMHjMwODA=",
           "dtype": "i2"
          },
          "coloraxis": "coloraxis",
          "pattern": {
           "shape": ""
          }
         },
         "name": "",
         "orientation": "h",
         "showlegend": false,
         "textposition": "auto",
         "type": "bar",
         "x": {
          "bdata": "cwn5CZgL/wt+Fr4WyRnMHjMwODA=",
          "dtype": "i2"
         },
         "xaxis": "x",
         "y": [
          "CWE-94:  Improper Control of Generation of Code ('Code Injection')",
          "CWE-310:  Cryptographic Issues",
          "CWE-399:  Resource Management Errors",
          "CWE-22:  Improper Limitation of a Pathname to a Restricted Directory ('Path Traversal')",
          "CWE-89:  Improper Neutralization of Special Elements used in an SQL Command ('SQL Injection')",
          "CWE-264:  Permissions Privileges and Access Controls",
          "CWE-200:  Information Exposure",
          "CWE-20:  Improper Input Validation",
          "CWE-79:  Improper Neutralization of Input During Web Page Generation ('Cross-site Scripting')",
          "CWE-119:  Improper Restriction of Operations within the Bounds of a Memory Buffer"
         ],
         "yaxis": "y"
        }
       ],
       "layout": {
        "barmode": "relative",
        "coloraxis": {
         "colorbar": {
          "tickfont": {
           "color": "white",
           "family": "Segoe UI",
           "size": 14
          },
          "title": {
           "font": {
            "color": "white",
            "family": "Segoe UI",
            "size": 16
           },
           "text": "Frequenza"
          }
         },
         "colorscale": [
          [
           0,
           "rgb(247,251,255)"
          ],
          [
           0.125,
           "rgb(222,235,247)"
          ],
          [
           0.25,
           "rgb(198,219,239)"
          ],
          [
           0.375,
           "rgb(158,202,225)"
          ],
          [
           0.5,
           "rgb(107,174,214)"
          ],
          [
           0.625,
           "rgb(66,146,198)"
          ],
          [
           0.75,
           "rgb(33,113,181)"
          ],
          [
           0.875,
           "rgb(8,81,156)"
          ],
          [
           1,
           "rgb(8,48,107)"
          ]
         ]
        },
        "font": {
         "color": "white",
         "family": "Segoe UI",
         "size": 18
        },
        "legend": {
         "tracegroupgap": 0
        },
        "margin": {
         "t": 60
        },
        "paper_bgcolor": "#050b18",
        "plot_bgcolor": "#050b18",
        "template": {
         "data": {
          "bar": [
           {
            "error_x": {
             "color": "#f2f5fa"
            },
            "error_y": {
             "color": "#f2f5fa"
            },
            "marker": {
             "line": {
              "color": "rgb(17,17,17)",
              "width": 0.5
             },
             "pattern": {
              "fillmode": "overlay",
              "size": 10,
              "solidity": 0.2
             }
            },
            "type": "bar"
           }
          ],
          "barpolar": [
           {
            "marker": {
             "line": {
              "color": "rgb(17,17,17)",
              "width": 0.5
             },
             "pattern": {
              "fillmode": "overlay",
              "size": 10,
              "solidity": 0.2
             }
            },
            "type": "barpolar"
           }
          ],
          "carpet": [
           {
            "aaxis": {
             "endlinecolor": "#A2B1C6",
             "gridcolor": "#506784",
             "linecolor": "#506784",
             "minorgridcolor": "#506784",
             "startlinecolor": "#A2B1C6"
            },
            "baxis": {
             "endlinecolor": "#A2B1C6",
             "gridcolor": "#506784",
             "linecolor": "#506784",
             "minorgridcolor": "#506784",
             "startlinecolor": "#A2B1C6"
            },
            "type": "carpet"
           }
          ],
          "choropleth": [
           {
            "colorbar": {
             "outlinewidth": 0,
             "ticks": ""
            },
            "type": "choropleth"
           }
          ],
          "contour": [
           {
            "colorbar": {
             "outlinewidth": 0,
             "ticks": ""
            },
            "colorscale": [
             [
              0,
              "#0d0887"
             ],
             [
              0.1111111111111111,
              "#46039f"
             ],
             [
              0.2222222222222222,
              "#7201a8"
             ],
             [
              0.3333333333333333,
              "#9c179e"
             ],
             [
              0.4444444444444444,
              "#bd3786"
             ],
             [
              0.5555555555555556,
              "#d8576b"
             ],
             [
              0.6666666666666666,
              "#ed7953"
             ],
             [
              0.7777777777777778,
              "#fb9f3a"
             ],
             [
              0.8888888888888888,
              "#fdca26"
             ],
             [
              1,
              "#f0f921"
             ]
            ],
            "type": "contour"
           }
          ],
          "contourcarpet": [
           {
            "colorbar": {
             "outlinewidth": 0,
             "ticks": ""
            },
            "type": "contourcarpet"
           }
          ],
          "heatmap": [
           {
            "colorbar": {
             "outlinewidth": 0,
             "ticks": ""
            },
            "colorscale": [
             [
              0,
              "#0d0887"
             ],
             [
              0.1111111111111111,
              "#46039f"
             ],
             [
              0.2222222222222222,
              "#7201a8"
             ],
             [
              0.3333333333333333,
              "#9c179e"
             ],
             [
              0.4444444444444444,
              "#bd3786"
             ],
             [
              0.5555555555555556,
              "#d8576b"
             ],
             [
              0.6666666666666666,
              "#ed7953"
             ],
             [
              0.7777777777777778,
              "#fb9f3a"
             ],
             [
              0.8888888888888888,
              "#fdca26"
             ],
             [
              1,
              "#f0f921"
             ]
            ],
            "type": "heatmap"
           }
          ],
          "histogram": [
           {
            "marker": {
             "pattern": {
              "fillmode": "overlay",
              "size": 10,
              "solidity": 0.2
             }
            },
            "type": "histogram"
           }
          ],
          "histogram2d": [
           {
            "colorbar": {
             "outlinewidth": 0,
             "ticks": ""
            },
            "colorscale": [
             [
              0,
              "#0d0887"
             ],
             [
              0.1111111111111111,
              "#46039f"
             ],
             [
              0.2222222222222222,
              "#7201a8"
             ],
             [
              0.3333333333333333,
              "#9c179e"
             ],
             [
              0.4444444444444444,
              "#bd3786"
             ],
             [
              0.5555555555555556,
              "#d8576b"
             ],
             [
              0.6666666666666666,
              "#ed7953"
             ],
             [
              0.7777777777777778,
              "#fb9f3a"
             ],
             [
              0.8888888888888888,
              "#fdca26"
             ],
             [
              1,
              "#f0f921"
             ]
            ],
            "type": "histogram2d"
           }
          ],
          "histogram2dcontour": [
           {
            "colorbar": {
             "outlinewidth": 0,
             "ticks": ""
            },
            "colorscale": [
             [
              0,
              "#0d0887"
             ],
             [
              0.1111111111111111,
              "#46039f"
             ],
             [
              0.2222222222222222,
              "#7201a8"
             ],
             [
              0.3333333333333333,
              "#9c179e"
             ],
             [
              0.4444444444444444,
              "#bd3786"
             ],
             [
              0.5555555555555556,
              "#d8576b"
             ],
             [
              0.6666666666666666,
              "#ed7953"
             ],
             [
              0.7777777777777778,
              "#fb9f3a"
             ],
             [
              0.8888888888888888,
              "#fdca26"
             ],
             [
              1,
              "#f0f921"
             ]
            ],
            "type": "histogram2dcontour"
           }
          ],
          "mesh3d": [
           {
            "colorbar": {
             "outlinewidth": 0,
             "ticks": ""
            },
            "type": "mesh3d"
           }
          ],
          "parcoords": [
           {
            "line": {
             "colorbar": {
              "outlinewidth": 0,
              "ticks": ""
             }
            },
            "type": "parcoords"
           }
          ],
          "pie": [
           {
            "automargin": true,
            "type": "pie"
           }
          ],
          "scatter": [
           {
            "marker": {
             "line": {
              "color": "#283442"
             }
            },
            "type": "scatter"
           }
          ],
          "scatter3d": [
           {
            "line": {
             "colorbar": {
              "outlinewidth": 0,
              "ticks": ""
             }
            },
            "marker": {
             "colorbar": {
              "outlinewidth": 0,
              "ticks": ""
             }
            },
            "type": "scatter3d"
           }
          ],
          "scattercarpet": [
           {
            "marker": {
             "colorbar": {
              "outlinewidth": 0,
              "ticks": ""
             }
            },
            "type": "scattercarpet"
           }
          ],
          "scattergeo": [
           {
            "marker": {
             "colorbar": {
              "outlinewidth": 0,
              "ticks": ""
             }
            },
            "type": "scattergeo"
           }
          ],
          "scattergl": [
           {
            "marker": {
             "line": {
              "color": "#283442"
             }
            },
            "type": "scattergl"
           }
          ],
          "scattermap": [
           {
            "marker": {
             "colorbar": {
              "outlinewidth": 0,
              "ticks": ""
             }
            },
            "type": "scattermap"
           }
          ],
          "scattermapbox": [
           {
            "marker": {
             "colorbar": {
              "outlinewidth": 0,
              "ticks": ""
             }
            },
            "type": "scattermapbox"
           }
          ],
          "scatterpolar": [
           {
            "marker": {
             "colorbar": {
              "outlinewidth": 0,
              "ticks": ""
             }
            },
            "type": "scatterpolar"
           }
          ],
          "scatterpolargl": [
           {
            "marker": {
             "colorbar": {
              "outlinewidth": 0,
              "ticks": ""
             }
            },
            "type": "scatterpolargl"
           }
          ],
          "scatterternary": [
           {
            "marker": {
             "colorbar": {
              "outlinewidth": 0,
              "ticks": ""
             }
            },
            "type": "scatterternary"
           }
          ],
          "surface": [
           {
            "colorbar": {
             "outlinewidth": 0,
             "ticks": ""
            },
            "colorscale": [
             [
              0,
              "#0d0887"
             ],
             [
              0.1111111111111111,
              "#46039f"
             ],
             [
              0.2222222222222222,
              "#7201a8"
             ],
             [
              0.3333333333333333,
              "#9c179e"
             ],
             [
              0.4444444444444444,
              "#bd3786"
             ],
             [
              0.5555555555555556,
              "#d8576b"
             ],
             [
              0.6666666666666666,
              "#ed7953"
             ],
             [
              0.7777777777777778,
              "#fb9f3a"
             ],
             [
              0.8888888888888888,
              "#fdca26"
             ],
             [
              1,
              "#f0f921"
             ]
            ],
            "type": "surface"
           }
          ],
          "table": [
           {
            "cells": {
             "fill": {
              "color": "#506784"
             },
             "line": {
              "color": "rgb(17,17,17)"
             }
            },
            "header": {
             "fill": {
              "color": "#2a3f5f"
             },
             "line": {
              "color": "rgb(17,17,17)"
             }
            },
            "type": "table"
           }
          ]
         },
         "layout": {
          "annotationdefaults": {
           "arrowcolor": "#f2f5fa",
           "arrowhead": 0,
           "arrowwidth": 1
          },
          "autotypenumbers": "strict",
          "coloraxis": {
           "colorbar": {
            "outlinewidth": 0,
            "ticks": ""
           }
          },
          "colorscale": {
           "diverging": [
            [
             0,
             "#8e0152"
            ],
            [
             0.1,
             "#c51b7d"
            ],
            [
             0.2,
             "#de77ae"
            ],
            [
             0.3,
             "#f1b6da"
            ],
            [
             0.4,
             "#fde0ef"
            ],
            [
             0.5,
             "#f7f7f7"
            ],
            [
             0.6,
             "#e6f5d0"
            ],
            [
             0.7,
             "#b8e186"
            ],
            [
             0.8,
             "#7fbc41"
            ],
            [
             0.9,
             "#4d9221"
            ],
            [
             1,
             "#276419"
            ]
           ],
           "sequential": [
            [
             0,
             "#0d0887"
            ],
            [
             0.1111111111111111,
             "#46039f"
            ],
            [
             0.2222222222222222,
             "#7201a8"
            ],
            [
             0.3333333333333333,
             "#9c179e"
            ],
            [
             0.4444444444444444,
             "#bd3786"
            ],
            [
             0.5555555555555556,
             "#d8576b"
            ],
            [
             0.6666666666666666,
             "#ed7953"
            ],
            [
             0.7777777777777778,
             "#fb9f3a"
            ],
            [
             0.8888888888888888,
             "#fdca26"
            ],
            [
             1,
             "#f0f921"
            ]
           ],
           "sequentialminus": [
            [
             0,
             "#0d0887"
            ],
            [
             0.1111111111111111,
             "#46039f"
            ],
            [
             0.2222222222222222,
             "#7201a8"
            ],
            [
             0.3333333333333333,
             "#9c179e"
            ],
            [
             0.4444444444444444,
             "#bd3786"
            ],
            [
             0.5555555555555556,
             "#d8576b"
            ],
            [
             0.6666666666666666,
             "#ed7953"
            ],
            [
             0.7777777777777778,
             "#fb9f3a"
            ],
            [
             0.8888888888888888,
             "#fdca26"
            ],
            [
             1,
             "#f0f921"
            ]
           ]
          },
          "colorway": [
           "#636efa",
           "#EF553B",
           "#00cc96",
           "#ab63fa",
           "#FFA15A",
           "#19d3f3",
           "#FF6692",
           "#B6E880",
           "#FF97FF",
           "#FECB52"
          ],
          "font": {
           "color": "#f2f5fa"
          },
          "geo": {
           "bgcolor": "rgb(17,17,17)",
           "lakecolor": "rgb(17,17,17)",
           "landcolor": "rgb(17,17,17)",
           "showlakes": true,
           "showland": true,
           "subunitcolor": "#506784"
          },
          "hoverlabel": {
           "align": "left"
          },
          "hovermode": "closest",
          "mapbox": {
           "style": "dark"
          },
          "paper_bgcolor": "rgb(17,17,17)",
          "plot_bgcolor": "rgb(17,17,17)",
          "polar": {
           "angularaxis": {
            "gridcolor": "#506784",
            "linecolor": "#506784",
            "ticks": ""
           },
           "bgcolor": "rgb(17,17,17)",
           "radialaxis": {
            "gridcolor": "#506784",
            "linecolor": "#506784",
            "ticks": ""
           }
          },
          "scene": {
           "xaxis": {
            "backgroundcolor": "rgb(17,17,17)",
            "gridcolor": "#506784",
            "gridwidth": 2,
            "linecolor": "#506784",
            "showbackground": true,
            "ticks": "",
            "zerolinecolor": "#C8D4E3"
           },
           "yaxis": {
            "backgroundcolor": "rgb(17,17,17)",
            "gridcolor": "#506784",
            "gridwidth": 2,
            "linecolor": "#506784",
            "showbackground": true,
            "ticks": "",
            "zerolinecolor": "#C8D4E3"
           },
           "zaxis": {
            "backgroundcolor": "rgb(17,17,17)",
            "gridcolor": "#506784",
            "gridwidth": 2,
            "linecolor": "#506784",
            "showbackground": true,
            "ticks": "",
            "zerolinecolor": "#C8D4E3"
           }
          },
          "shapedefaults": {
           "line": {
            "color": "#f2f5fa"
           }
          },
          "sliderdefaults": {
           "bgcolor": "#C8D4E3",
           "bordercolor": "rgb(17,17,17)",
           "borderwidth": 1,
           "tickwidth": 0
          },
          "ternary": {
           "aaxis": {
            "gridcolor": "#506784",
            "linecolor": "#506784",
            "ticks": ""
           },
           "baxis": {
            "gridcolor": "#506784",
            "linecolor": "#506784",
            "ticks": ""
           },
           "bgcolor": "rgb(17,17,17)",
           "caxis": {
            "gridcolor": "#506784",
            "linecolor": "#506784",
            "ticks": ""
           }
          },
          "title": {
           "x": 0.05
          },
          "updatemenudefaults": {
           "bgcolor": "#506784",
           "borderwidth": 0
          },
          "xaxis": {
           "automargin": true,
           "gridcolor": "#283442",
           "linecolor": "#506784",
           "ticks": "",
           "title": {
            "standoff": 15
           },
           "zerolinecolor": "#283442",
           "zerolinewidth": 2
          },
          "yaxis": {
           "automargin": true,
           "gridcolor": "#283442",
           "linecolor": "#506784",
           "ticks": "",
           "title": {
            "standoff": 15
           },
           "zerolinecolor": "#283442",
           "zerolinewidth": 2
          }
         }
        },
        "xaxis": {
         "anchor": "y",
         "domain": [
          0,
          1
         ],
         "title": {
          "text": "Numero di CVE"
         }
        },
        "yaxis": {
         "anchor": "x",
         "domain": [
          0,
          1
         ],
         "title": {
          "text": "CWE"
         }
        }
       }
      }
     },
     "metadata": {},
     "output_type": "display_data"
    }
   ],
   "source": [
    "import pandas as pd\n",
    "\n",
    "# Assicurati che 'cvss' sia numerico\n",
    "df['cvss'] = pd.to_numeric(df['cvss'], errors='coerce')\n",
    "df = df.dropna(subset=['cvss', 'cwe_code', 'cwe_name'])\n",
    "\n",
    "# Trova le 10 CWE più frequenti per codice\n",
    "top_cwe_codes = df['cwe_code'].value_counts().nlargest(10).index\n",
    "df_top = df[df['cwe_code'].isin(top_cwe_codes)]\n",
    "\n",
    "# Frequenza per codice CWE\n",
    "freq = df_top['cwe_code'].value_counts().sort_values(ascending=True)\n",
    "\n",
    "# Crea un mapping codice -> nome (usando la prima occorrenza disponibile)\n",
    "code_to_name = df_top.drop_duplicates('cwe_code').set_index('cwe_code')['cwe_name'].to_dict()\n",
    "\n",
    "# Etichette asse Y del tipo \"CWE-89: SQL Injection\"\n",
    "labels_y = [f\"CWE-{code}: {code_to_name.get(code, '')}\" for code in freq.index]\n",
    "\n",
    "# Plot\n",
    "fig = px.bar(\n",
    "    x=freq.values,\n",
    "    y=labels_y,\n",
    "    orientation='h',\n",
    "    labels={\"x\": \"Numero di CVE\", \"y\": \"CWE\"},\n",
    "    template='plotly_dark',\n",
    "    color=freq.values,\n",
    "    color_continuous_scale='Blues'\n",
    ")\n",
    "\n",
    "fig.update_layout(\n",
    "    plot_bgcolor='#050b18',\n",
    "    paper_bgcolor='#050b18',\n",
    "    font=dict(family='Segoe UI', size=18, color='white'),\n",
    "    coloraxis_colorbar=dict(\n",
    "        title=dict(text=\"Frequenza\", font=dict(family='Segoe UI', size=16, color='white')),\n",
    "        tickfont=dict(family='Segoe UI', size=14, color='white')\n",
    "    )\n",
    ")\n",
    "\n",
    "fig.show()"
   ]
  },
  {
   "cell_type": "markdown",
   "id": "4f6965b8",
   "metadata": {},
   "source": [
    "### Distribuzione delle CWE nelle Vulnerabilità Critiche\n",
    "\n",
    "Questo grafico rappresenta le **CWE** più comuni, mappate rispetto alle vulnerabilità maggiormente critiche, cioè quelle con punteggio **CVSS pari o superiore a 9**. Quindi evidenzia **quali debolezze sono più spesso alla base delle CVE più gravi**. Nel grafico sono incluse solo le **8 categorie di CWE più frequenti**."
   ]
  },
  {
   "cell_type": "code",
   "execution_count": 98,
   "id": "eee91431",
   "metadata": {},
   "outputs": [
    {
     "data": {
      "application/vnd.plotly.v1+json": {
       "config": {
        "plotlyServerURL": "https://plot.ly"
       },
       "data": [
        {
         "domain": {
          "x": [
           0,
           0.5
          ]
         },
         "hole": 0.3,
         "labels": [
          "CWE-119: Out-of-Bounds",
          "CWE-20: Improper Input Validation",
          "CWE-264: Permission & Privilege Issues",
          "CWE-94: Improper Control of Generation of Code",
          "CWE-399: Resource Management Errors",
          "CWE-78: Command Injection",
          "CWE-189: Numeric Errors",
          "CWE-416: Use After Free"
         ],
         "marker": {
          "colors": [
           "#636efa",
           "#ef553b",
           "#00cc96",
           "#ab63fa",
           "#ffa15a",
           "#19d3f3",
           "#ff6692",
           "#b6e880"
          ]
         },
         "showlegend": false,
         "textfont": {
          "color": "white",
          "family": "Segoe UI",
          "size": 16
         },
         "textinfo": "percent+label",
         "type": "pie",
         "values": {
          "bdata": "hhIDBBQD2AI7AtUBrAEwAQ==",
          "dtype": "i2"
         }
        },
        {
         "cells": {
          "align": "left",
          "fill": {
           "color": [
            [
             "#636efa",
             "#ef553b",
             "#00cc96",
             "#ab63fa",
             "#ffa15a",
             "#19d3f3",
             "#ff6692",
             "#b6e880"
            ],
            [
             "#050b18",
             "#050b18",
             "#050b18",
             "#050b18",
             "#050b18",
             "#050b18",
             "#050b18",
             "#050b18"
            ],
            [
             "#050b18",
             "#050b18",
             "#050b18",
             "#050b18",
             "#050b18",
             "#050b18",
             "#050b18",
             "#050b18"
            ]
           ]
          },
          "font": {
           "color": "white",
           "family": "Segoe UI",
           "size": 20
          },
          "height": 38,
          "values": [
           [
            "<b>CWE-119</b>",
            "<b>CWE-20</b>",
            "<b>CWE-264</b>",
            "<b>CWE-94</b>",
            "<b>CWE-399</b>",
            "<b>CWE-78</b>",
            "<b>CWE-189</b>",
            "<b>CWE-416</b>"
           ],
           [
            "<b>Out-of-Bounds</b>",
            "<b>Improper Input Validation</b>",
            "<b>Permission & Privilege Issues</b>",
            "<b>Improper Control of Generation of Code</b>",
            "<b>Resource Management Errors</b>",
            "<b>Command Injection</b>",
            "<b>Numeric Errors</b>",
            "<b>Use After Free</b>"
           ],
           [
            "<b>9.6</b>",
            "<b>9.5</b>",
            "<b>9.5</b>",
            "<b>9.5</b>",
            "<b>9.5</b>",
            "<b>9.5</b>",
            "<b>9.5</b>",
            "<b>9.7</b>"
           ]
          ]
         },
         "columnwidth": [
          30,
          90,
          30
         ],
         "domain": {
          "x": [
           0.52,
           1
          ]
         },
         "header": {
          "align": "left",
          "fill": {
           "color": "#1e1e2f"
          },
          "font": {
           "color": "white",
           "family": "Segoe UI",
           "size": 18
          },
          "values": [
           "<b>CWE</b>",
           "<b>Nome CWE</b>",
           "<b>CVSS medio</b>"
          ]
         },
         "type": "table"
        }
       ],
       "layout": {
        "font": {
         "color": "white",
         "family": "Segoe UI",
         "size": 20
        },
        "height": 520,
        "margin": {
         "b": 20,
         "l": 20,
         "r": 20,
         "t": 40
        },
        "paper_bgcolor": "#050b18",
        "plot_bgcolor": "#050b18",
        "showlegend": false,
        "template": {
         "data": {
          "bar": [
           {
            "error_x": {
             "color": "#2a3f5f"
            },
            "error_y": {
             "color": "#2a3f5f"
            },
            "marker": {
             "line": {
              "color": "#E5ECF6",
              "width": 0.5
             },
             "pattern": {
              "fillmode": "overlay",
              "size": 10,
              "solidity": 0.2
             }
            },
            "type": "bar"
           }
          ],
          "barpolar": [
           {
            "marker": {
             "line": {
              "color": "#E5ECF6",
              "width": 0.5
             },
             "pattern": {
              "fillmode": "overlay",
              "size": 10,
              "solidity": 0.2
             }
            },
            "type": "barpolar"
           }
          ],
          "carpet": [
           {
            "aaxis": {
             "endlinecolor": "#2a3f5f",
             "gridcolor": "white",
             "linecolor": "white",
             "minorgridcolor": "white",
             "startlinecolor": "#2a3f5f"
            },
            "baxis": {
             "endlinecolor": "#2a3f5f",
             "gridcolor": "white",
             "linecolor": "white",
             "minorgridcolor": "white",
             "startlinecolor": "#2a3f5f"
            },
            "type": "carpet"
           }
          ],
          "choropleth": [
           {
            "colorbar": {
             "outlinewidth": 0,
             "ticks": ""
            },
            "type": "choropleth"
           }
          ],
          "contour": [
           {
            "colorbar": {
             "outlinewidth": 0,
             "ticks": ""
            },
            "colorscale": [
             [
              0,
              "#0d0887"
             ],
             [
              0.1111111111111111,
              "#46039f"
             ],
             [
              0.2222222222222222,
              "#7201a8"
             ],
             [
              0.3333333333333333,
              "#9c179e"
             ],
             [
              0.4444444444444444,
              "#bd3786"
             ],
             [
              0.5555555555555556,
              "#d8576b"
             ],
             [
              0.6666666666666666,
              "#ed7953"
             ],
             [
              0.7777777777777778,
              "#fb9f3a"
             ],
             [
              0.8888888888888888,
              "#fdca26"
             ],
             [
              1,
              "#f0f921"
             ]
            ],
            "type": "contour"
           }
          ],
          "contourcarpet": [
           {
            "colorbar": {
             "outlinewidth": 0,
             "ticks": ""
            },
            "type": "contourcarpet"
           }
          ],
          "heatmap": [
           {
            "colorbar": {
             "outlinewidth": 0,
             "ticks": ""
            },
            "colorscale": [
             [
              0,
              "#0d0887"
             ],
             [
              0.1111111111111111,
              "#46039f"
             ],
             [
              0.2222222222222222,
              "#7201a8"
             ],
             [
              0.3333333333333333,
              "#9c179e"
             ],
             [
              0.4444444444444444,
              "#bd3786"
             ],
             [
              0.5555555555555556,
              "#d8576b"
             ],
             [
              0.6666666666666666,
              "#ed7953"
             ],
             [
              0.7777777777777778,
              "#fb9f3a"
             ],
             [
              0.8888888888888888,
              "#fdca26"
             ],
             [
              1,
              "#f0f921"
             ]
            ],
            "type": "heatmap"
           }
          ],
          "histogram": [
           {
            "marker": {
             "pattern": {
              "fillmode": "overlay",
              "size": 10,
              "solidity": 0.2
             }
            },
            "type": "histogram"
           }
          ],
          "histogram2d": [
           {
            "colorbar": {
             "outlinewidth": 0,
             "ticks": ""
            },
            "colorscale": [
             [
              0,
              "#0d0887"
             ],
             [
              0.1111111111111111,
              "#46039f"
             ],
             [
              0.2222222222222222,
              "#7201a8"
             ],
             [
              0.3333333333333333,
              "#9c179e"
             ],
             [
              0.4444444444444444,
              "#bd3786"
             ],
             [
              0.5555555555555556,
              "#d8576b"
             ],
             [
              0.6666666666666666,
              "#ed7953"
             ],
             [
              0.7777777777777778,
              "#fb9f3a"
             ],
             [
              0.8888888888888888,
              "#fdca26"
             ],
             [
              1,
              "#f0f921"
             ]
            ],
            "type": "histogram2d"
           }
          ],
          "histogram2dcontour": [
           {
            "colorbar": {
             "outlinewidth": 0,
             "ticks": ""
            },
            "colorscale": [
             [
              0,
              "#0d0887"
             ],
             [
              0.1111111111111111,
              "#46039f"
             ],
             [
              0.2222222222222222,
              "#7201a8"
             ],
             [
              0.3333333333333333,
              "#9c179e"
             ],
             [
              0.4444444444444444,
              "#bd3786"
             ],
             [
              0.5555555555555556,
              "#d8576b"
             ],
             [
              0.6666666666666666,
              "#ed7953"
             ],
             [
              0.7777777777777778,
              "#fb9f3a"
             ],
             [
              0.8888888888888888,
              "#fdca26"
             ],
             [
              1,
              "#f0f921"
             ]
            ],
            "type": "histogram2dcontour"
           }
          ],
          "mesh3d": [
           {
            "colorbar": {
             "outlinewidth": 0,
             "ticks": ""
            },
            "type": "mesh3d"
           }
          ],
          "parcoords": [
           {
            "line": {
             "colorbar": {
              "outlinewidth": 0,
              "ticks": ""
             }
            },
            "type": "parcoords"
           }
          ],
          "pie": [
           {
            "automargin": true,
            "type": "pie"
           }
          ],
          "scatter": [
           {
            "fillpattern": {
             "fillmode": "overlay",
             "size": 10,
             "solidity": 0.2
            },
            "type": "scatter"
           }
          ],
          "scatter3d": [
           {
            "line": {
             "colorbar": {
              "outlinewidth": 0,
              "ticks": ""
             }
            },
            "marker": {
             "colorbar": {
              "outlinewidth": 0,
              "ticks": ""
             }
            },
            "type": "scatter3d"
           }
          ],
          "scattercarpet": [
           {
            "marker": {
             "colorbar": {
              "outlinewidth": 0,
              "ticks": ""
             }
            },
            "type": "scattercarpet"
           }
          ],
          "scattergeo": [
           {
            "marker": {
             "colorbar": {
              "outlinewidth": 0,
              "ticks": ""
             }
            },
            "type": "scattergeo"
           }
          ],
          "scattergl": [
           {
            "marker": {
             "colorbar": {
              "outlinewidth": 0,
              "ticks": ""
             }
            },
            "type": "scattergl"
           }
          ],
          "scattermap": [
           {
            "marker": {
             "colorbar": {
              "outlinewidth": 0,
              "ticks": ""
             }
            },
            "type": "scattermap"
           }
          ],
          "scattermapbox": [
           {
            "marker": {
             "colorbar": {
              "outlinewidth": 0,
              "ticks": ""
             }
            },
            "type": "scattermapbox"
           }
          ],
          "scatterpolar": [
           {
            "marker": {
             "colorbar": {
              "outlinewidth": 0,
              "ticks": ""
             }
            },
            "type": "scatterpolar"
           }
          ],
          "scatterpolargl": [
           {
            "marker": {
             "colorbar": {
              "outlinewidth": 0,
              "ticks": ""
             }
            },
            "type": "scatterpolargl"
           }
          ],
          "scatterternary": [
           {
            "marker": {
             "colorbar": {
              "outlinewidth": 0,
              "ticks": ""
             }
            },
            "type": "scatterternary"
           }
          ],
          "surface": [
           {
            "colorbar": {
             "outlinewidth": 0,
             "ticks": ""
            },
            "colorscale": [
             [
              0,
              "#0d0887"
             ],
             [
              0.1111111111111111,
              "#46039f"
             ],
             [
              0.2222222222222222,
              "#7201a8"
             ],
             [
              0.3333333333333333,
              "#9c179e"
             ],
             [
              0.4444444444444444,
              "#bd3786"
             ],
             [
              0.5555555555555556,
              "#d8576b"
             ],
             [
              0.6666666666666666,
              "#ed7953"
             ],
             [
              0.7777777777777778,
              "#fb9f3a"
             ],
             [
              0.8888888888888888,
              "#fdca26"
             ],
             [
              1,
              "#f0f921"
             ]
            ],
            "type": "surface"
           }
          ],
          "table": [
           {
            "cells": {
             "fill": {
              "color": "#EBF0F8"
             },
             "line": {
              "color": "white"
             }
            },
            "header": {
             "fill": {
              "color": "#C8D4E3"
             },
             "line": {
              "color": "white"
             }
            },
            "type": "table"
           }
          ]
         },
         "layout": {
          "annotationdefaults": {
           "arrowcolor": "#2a3f5f",
           "arrowhead": 0,
           "arrowwidth": 1
          },
          "autotypenumbers": "strict",
          "coloraxis": {
           "colorbar": {
            "outlinewidth": 0,
            "ticks": ""
           }
          },
          "colorscale": {
           "diverging": [
            [
             0,
             "#8e0152"
            ],
            [
             0.1,
             "#c51b7d"
            ],
            [
             0.2,
             "#de77ae"
            ],
            [
             0.3,
             "#f1b6da"
            ],
            [
             0.4,
             "#fde0ef"
            ],
            [
             0.5,
             "#f7f7f7"
            ],
            [
             0.6,
             "#e6f5d0"
            ],
            [
             0.7,
             "#b8e186"
            ],
            [
             0.8,
             "#7fbc41"
            ],
            [
             0.9,
             "#4d9221"
            ],
            [
             1,
             "#276419"
            ]
           ],
           "sequential": [
            [
             0,
             "#0d0887"
            ],
            [
             0.1111111111111111,
             "#46039f"
            ],
            [
             0.2222222222222222,
             "#7201a8"
            ],
            [
             0.3333333333333333,
             "#9c179e"
            ],
            [
             0.4444444444444444,
             "#bd3786"
            ],
            [
             0.5555555555555556,
             "#d8576b"
            ],
            [
             0.6666666666666666,
             "#ed7953"
            ],
            [
             0.7777777777777778,
             "#fb9f3a"
            ],
            [
             0.8888888888888888,
             "#fdca26"
            ],
            [
             1,
             "#f0f921"
            ]
           ],
           "sequentialminus": [
            [
             0,
             "#0d0887"
            ],
            [
             0.1111111111111111,
             "#46039f"
            ],
            [
             0.2222222222222222,
             "#7201a8"
            ],
            [
             0.3333333333333333,
             "#9c179e"
            ],
            [
             0.4444444444444444,
             "#bd3786"
            ],
            [
             0.5555555555555556,
             "#d8576b"
            ],
            [
             0.6666666666666666,
             "#ed7953"
            ],
            [
             0.7777777777777778,
             "#fb9f3a"
            ],
            [
             0.8888888888888888,
             "#fdca26"
            ],
            [
             1,
             "#f0f921"
            ]
           ]
          },
          "colorway": [
           "#636efa",
           "#EF553B",
           "#00cc96",
           "#ab63fa",
           "#FFA15A",
           "#19d3f3",
           "#FF6692",
           "#B6E880",
           "#FF97FF",
           "#FECB52"
          ],
          "font": {
           "color": "#2a3f5f"
          },
          "geo": {
           "bgcolor": "white",
           "lakecolor": "white",
           "landcolor": "#E5ECF6",
           "showlakes": true,
           "showland": true,
           "subunitcolor": "white"
          },
          "hoverlabel": {
           "align": "left"
          },
          "hovermode": "closest",
          "mapbox": {
           "style": "light"
          },
          "paper_bgcolor": "white",
          "plot_bgcolor": "#E5ECF6",
          "polar": {
           "angularaxis": {
            "gridcolor": "white",
            "linecolor": "white",
            "ticks": ""
           },
           "bgcolor": "#E5ECF6",
           "radialaxis": {
            "gridcolor": "white",
            "linecolor": "white",
            "ticks": ""
           }
          },
          "scene": {
           "xaxis": {
            "backgroundcolor": "#E5ECF6",
            "gridcolor": "white",
            "gridwidth": 2,
            "linecolor": "white",
            "showbackground": true,
            "ticks": "",
            "zerolinecolor": "white"
           },
           "yaxis": {
            "backgroundcolor": "#E5ECF6",
            "gridcolor": "white",
            "gridwidth": 2,
            "linecolor": "white",
            "showbackground": true,
            "ticks": "",
            "zerolinecolor": "white"
           },
           "zaxis": {
            "backgroundcolor": "#E5ECF6",
            "gridcolor": "white",
            "gridwidth": 2,
            "linecolor": "white",
            "showbackground": true,
            "ticks": "",
            "zerolinecolor": "white"
           }
          },
          "shapedefaults": {
           "line": {
            "color": "#2a3f5f"
           }
          },
          "ternary": {
           "aaxis": {
            "gridcolor": "white",
            "linecolor": "white",
            "ticks": ""
           },
           "baxis": {
            "gridcolor": "white",
            "linecolor": "white",
            "ticks": ""
           },
           "bgcolor": "#E5ECF6",
           "caxis": {
            "gridcolor": "white",
            "linecolor": "white",
            "ticks": ""
           }
          },
          "title": {
           "x": 0.05
          },
          "xaxis": {
           "automargin": true,
           "gridcolor": "white",
           "linecolor": "white",
           "ticks": "",
           "title": {
            "standoff": 15
           },
           "zerolinecolor": "white",
           "zerolinewidth": 2
          },
          "yaxis": {
           "automargin": true,
           "gridcolor": "white",
           "linecolor": "white",
           "ticks": "",
           "title": {
            "standoff": 15
           },
           "zerolinecolor": "white",
           "zerolinewidth": 2
          }
         }
        }
       }
      }
     },
     "metadata": {},
     "output_type": "display_data"
    }
   ],
   "source": [
    "# preproc\n",
    "df['pub_date'] = pd.to_datetime(df['pub_date'], errors='coerce')\n",
    "df['year'] = df['pub_date'].dt.year\n",
    "df = df.dropna(subset=['cvss', 'year', 'summary', 'cwe_code', 'cwe_name'])\n",
    "# CVE critiche\n",
    "crit = df[df['cvss'] >= 9].copy()\n",
    "top_cwe_codes = crit['cwe_code'].value_counts().nlargest(8).index\n",
    "crit_top = crit[crit['cwe_code'].isin(top_cwe_codes)]\n",
    "cwe_counts = crit_top['cwe_code'].value_counts()\n",
    "cwe_cvss_avg = crit_top.groupby('cwe_code')['cvss'].mean().round(1)\n",
    "def clean_cwe_name(code, name):\n",
    "    if code == 78: return \"Command Injection\"\n",
    "    if code == 264: return \"Permission & Privilege Issues\"\n",
    "    if code == 119: return \"Out-of-Bounds\"\n",
    "    name = re.sub(r\"\\s*\\(.*?\\)\", \"\", name)\n",
    "    name = re.sub(r\"^.*?:\\s*\", \"\", name)\n",
    "    return name.strip()\n",
    "code_to_name = {\n",
    "    code: clean_cwe_name(code, crit_top[crit_top['cwe_code'] == code]['cwe_name'].iloc[0])\n",
    "    for code in top_cwe_codes\n",
    "}\n",
    "labels = [f\"CWE-{code}\" for code in cwe_counts.index]\n",
    "cwe_names = [code_to_name[code] for code in cwe_counts.index]\n",
    "scores = [cwe_cvss_avg[code] for code in cwe_counts.index]\n",
    "colors_exact = [\n",
    "    '#636efa', '#ef553b', '#00cc96', '#ab63fa',\n",
    "    '#ffa15a', '#19d3f3', '#ff6692', '#b6e880'\n",
    "]\n",
    "# figura unica\n",
    "fig = go.Figure()\n",
    "# pie chart a sinistra\n",
    "fig.add_trace(go.Pie(\n",
    "    labels=[f\"{l}: {n}\" for l, n in zip(labels, cwe_names)],\n",
    "    values=cwe_counts.values,\n",
    "    hole=0.3,\n",
    "    domain=dict(x=[0, 0.5]),\n",
    "    marker=dict(colors=colors_exact),\n",
    "    textinfo='percent+label',\n",
    "    textfont=dict(size=16, family='Segoe UI', color='white'),\n",
    "    showlegend=False\n",
    "))\n",
    "# tab a destra\n",
    "fig.add_trace(go.Table(\n",
    "    domain=dict(x=[0.52, 1]),\n",
    "    columnwidth=[30, 90, 30],\n",
    "    header=dict(\n",
    "        values=[\"<b>CWE</b>\", \"<b>Nome CWE</b>\", \"<b>CVSS medio</b>\"],\n",
    "        fill_color=\"#1e1e2f\",\n",
    "        font=dict(color='white', size=18, family='Segoe UI'),\n",
    "        align=\"left\"\n",
    "    ),\n",
    "    cells=dict(\n",
    "        values=[\n",
    "            [f\"<b>{l}</b>\" for l in labels],\n",
    "            [f\"<b>{n}</b>\" for n in cwe_names],\n",
    "            [f\"<b>{s}</b>\" for s in scores]\n",
    "        ],\n",
    "        fill_color=[colors_exact, [\"#050b18\"]*8, [\"#050b18\"]*8],\n",
    "        font=dict(color='white', size=20, family='Segoe UI'),\n",
    "        height=38,\n",
    "        align=\"left\"\n",
    "    )\n",
    "))\n",
    "fig.update_layout(\n",
    "    height=520,\n",
    "    plot_bgcolor=\"#050b18\",\n",
    "    paper_bgcolor=\"#050b18\",\n",
    "    margin=dict(t=40, r=20, b=20, l=20),\n",
    "    font=dict(family=\"Segoe UI\", size=20, color=\"white\"),\n",
    "    showlegend=False\n",
    ")\n",
    "fig.show()"
   ]
  },
  {
   "cell_type": "markdown",
   "id": "234a3d9f",
   "metadata": {},
   "source": [
    "### **Top 3 CWE – andamento temporale**\n",
    "\n",
    "Questo grafico mostra l’evoluzione annuale delle **prime 3 vulnerabilità CWE (Common Weakness Enumeration)** in termini di numero di CVE rilevati, per ogni anno presente nel dataset.\n",
    "- Ogni **linea tratteggiata con marker circolare** rappresenta una specifica CWE tra le prime 3 più frequenti di un anno.\n",
    "- L’asse **X** indica l’**anno di pubblicazione** delle vulnerabilità.\n",
    "- L’asse **Y** mostra il **numero di CVE** associate a quella CWE nell’anno, considerando solamente le top 3 annuali.\n",
    "\n"
   ]
  },
  {
   "cell_type": "code",
   "execution_count": 99,
   "id": "8fabd10d",
   "metadata": {},
   "outputs": [
    {
     "data": {
      "image/png": "[encoded data removed]",
      "text/plain": [
       "<Figure size 2000x800 with 1 Axes>"
      ]
     },
     "metadata": {},
     "output_type": "display_data"
    }
   ],
   "source": [
    "\n",
    "import matplotlib.pyplot as plt\n",
    "# Estrazione top 3 CWE per anno come fatto in precedenza\n",
    "top3_per_year = (\n",
    "    df.groupby(['year', 'cwe_code', 'cwe_name'])\n",
    "      .size()\n",
    "      .reset_index(name='count')\n",
    "      .sort_values(['year', 'count'], ascending=[True, False])\n",
    "      .groupby('year')\n",
    "      .head(3)\n",
    ")\n",
    "\n",
    "# 🔁 Pivot in base ai codici CWE, mantenendo i nomi completi\n",
    "pivot_df = top3_per_year.pivot(index='year', columns='cwe_code', values='count')\n",
    "\n",
    "# 📚 Mappa codice → nome completo della CWE\n",
    "code_to_name = top3_per_year.set_index('cwe_code')['cwe_name'].to_dict()\n",
    "\n",
    "# 🎨 Stile grafico uguale\n",
    "plt.rcParams.update({\n",
    "    'axes.facecolor': '#050b18',\n",
    "    'figure.facecolor': '#050b18',\n",
    "    'savefig.facecolor': '#050b18',\n",
    "    'font.family': 'Segoe UI',\n",
    "    'axes.labelcolor': 'white',\n",
    "    'xtick.color': 'white',\n",
    "    'ytick.color': 'white',\n",
    "    'text.color': 'white',\n",
    "    'axes.edgecolor': 'white',\n",
    "    'legend.facecolor': '#050b18',\n",
    "})\n",
    "\n",
    "plt.figure(figsize=(20, 8))\n",
    "\n",
    "n = len(pivot_df.columns)\n",
    "offset = 0.2\n",
    "for i, cwe_code in enumerate(pivot_df.columns):\n",
    "    x = pivot_df.index + (i - n/2) * (offset / n)\n",
    "    plt.plot(\n",
    "        x,\n",
    "        pivot_df[cwe_code],\n",
    "        linestyle='--',\n",
    "        linewidth=0.75,\n",
    "        marker='o',\n",
    "        markersize=12,\n",
    "        label=code_to_name[cwe_code]\n",
    "    )\n",
    "\n",
    "plt.xticks(\n",
    "    pivot_df.index.astype(int),\n",
    "    rotation=0,\n",
    "    fontsize=18  # aumentiamo la dimensione dei tick X\n",
    ")\n",
    "plt.yticks(fontsize=18)  # aumentiamo la dimensione dei tick Y\n",
    "\n",
    "plt.xlabel(\"Anno\", fontsize=26, fontweight='bold')\n",
    "plt.ylabel(\"Numero di CVE \", fontsize=26, fontweight='bold')\n",
    "\n",
    "plt.grid(alpha=0.2)\n",
    "plt.legend(title=\"CWE\", fontsize=14, title_fontsize=16)\n",
    "plt.tight_layout()\n",
    "plt.show()"
   ]
  }
 ],
 "metadata": {
  "kernelspec": {
   "display_name": "Python 3",
   "language": "python",
   "name": "python3"
  },
  "language_info": {
   "codemirror_mode": {
    "name": "ipython",
    "version": 3
   },
   "file_extension": ".py",
   "mimetype": "text/x-python",
   "name": "python",
   "nbconvert_exporter": "python",
   "pygments_lexer": "ipython3",
   "version": "3.12.10"
  }
 },
 "nbformat": 4,
 "nbformat_minor": 5
}
