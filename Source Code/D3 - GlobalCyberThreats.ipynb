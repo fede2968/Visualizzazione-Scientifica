{
 "cells": [
  {
   "cell_type": "markdown",
   "id": "600d1dff",
   "metadata": {},
   "source": [
    "# Minacce Informatiche e Perdite Economiche Globali \n",
    "\n",
    "L'analisi si focalizza su dati riguardanti **minacce informatiche globali** e le **perdite economiche stimate** ad esse associate, nel periodo compreso tra il **2015 e il 2024**.  \n",
    "L’obiettivo è fornire una panoramica dell’impatto economico della criminalità informatica.\n",
    "\n",
    "### Struttura del dataset `Global_Cybersecurity_Threats_2015-2024`\n",
    "\n",
    "Il file CSV è organizzato con una riga per ogni osservazione (evento o aggregazione annuale), e presenta le seguenti colonne principali:\n",
    "\n",
    "- **`country`**: nome del paese a cui è attribuito l’impatto dell’attacco informatico.\n",
    "- **`year`**: anno dell’evento registrato (dal 2015 al 2024).\n",
    "- **`threat_type`**: tipologia di minaccia informatica coinvolta (es. *Malware, Ransomware, Phishing, Data Breach*, ecc.).\n",
    "- **`sector_affected`**: settore economico colpito (es. *Finance, Healthcare, Government*, ecc.).\n",
    "- **`financial_loss_(in_million_$)`**: stima economica della perdita subita a causa della minaccia, espressa in **milioni di dollari statunitensi (USD)**.\n",
    "- **`incident_count`** *(se presente)*: numero totale di incidenti segnalati per quella combinazione di anno/paese/tipo di attacco.\n"
   ]
  },
  {
   "cell_type": "code",
   "execution_count": 56,
   "id": "a35074b2",
   "metadata": {},
   "outputs": [],
   "source": [
    "import plotly.express as px          \n",
    "import pandas as pd                 \n",
    "import plotly.graph_objects as go\n",
    "df = pd.read_csv(\"Global_Cybersecurity_Threats_2015-2024.csv\")\n"
   ]
  },
  {
   "cell_type": "markdown",
   "id": "6d454830",
   "metadata": {},
   "source": [
    "### Evoluzione degli Attacchi per Settore Economico \n",
    "\n",
    "Questo grafico a barre impilate mostra **l’andamento temporale degli attacchi informatici**, suddivisi per **settore economico colpito**.  Ogni barra rappresenta un anno, mentre i segmenti colorati al suo interno indicano il numero di attacchi registrati per ciascun settore (ordinati in base al numero di attacchi).\n",
    "\n",
    "\n"
   ]
  },
  {
   "cell_type": "code",
   "execution_count": 57,
   "id": "cd12fdcb",
   "metadata": {},
   "outputs": [
    {
     "data": {
      "application/vnd.plotly.v1+json": {
       "config": {
        "plotlyServerURL": "https://plot.ly"
       },
       "data": [
        {
         "base": [
          0
         ],
         "marker": {
          "color": "#EF553B"
         },
         "name": "Education",
         "showlegend": true,
         "text": [
          "30"
         ],
         "textfont": {
          "color": "white",
          "family": "Segoe UI",
          "size": 24
         },
         "textposition": "inside",
         "type": "bar",
         "x": [
          2015
         ],
         "y": [
          30
         ]
        },
        {
         "base": [
          30
         ],
         "marker": {
          "color": "#AB63FA"
         },
         "name": "Healthcare",
         "showlegend": true,
         "text": [
          "36"
         ],
         "textfont": {
          "color": "white",
          "family": "Segoe UI",
          "size": 24
         },
         "textposition": "inside",
         "type": "bar",
         "x": [
          2015
         ],
         "y": [
          36
         ]
        },
        {
         "base": [
          66
         ],
         "marker": {
          "color": "#FF6692"
         },
         "name": "Telecommunications",
         "showlegend": true,
         "text": [
          "36"
         ],
         "textfont": {
          "color": "white",
          "family": "Segoe UI",
          "size": 24
         },
         "textposition": "inside",
         "type": "bar",
         "x": [
          2015
         ],
         "y": [
          36
         ]
        },
        {
         "base": [
          102
         ],
         "marker": {
          "color": "#00CC96"
         },
         "name": "Government",
         "showlegend": true,
         "text": [
          "37"
         ],
         "textfont": {
          "color": "white",
          "family": "Segoe UI",
          "size": 24
         },
         "textposition": "inside",
         "type": "bar",
         "x": [
          2015
         ],
         "y": [
          37
         ]
        },
        {
         "base": [
          139
         ],
         "marker": {
          "color": "#19D3F3"
         },
         "name": "Retail",
         "showlegend": true,
         "text": [
          "42"
         ],
         "textfont": {
          "color": "white",
          "family": "Segoe UI",
          "size": 24
         },
         "textposition": "inside",
         "type": "bar",
         "x": [
          2015
         ],
         "y": [
          42
         ]
        },
        {
         "base": [
          181
         ],
         "marker": {
          "color": "#636EFA"
         },
         "name": "Banking",
         "showlegend": true,
         "text": [
          "43"
         ],
         "textfont": {
          "color": "white",
          "family": "Segoe UI",
          "size": 24
         },
         "textposition": "inside",
         "type": "bar",
         "x": [
          2015
         ],
         "y": [
          43
         ]
        },
        {
         "base": [
          224
         ],
         "marker": {
          "color": "#FFA15A"
         },
         "name": "IT",
         "showlegend": true,
         "text": [
          "53"
         ],
         "textfont": {
          "color": "white",
          "family": "Segoe UI",
          "size": 24
         },
         "textposition": "inside",
         "type": "bar",
         "x": [
          2015
         ],
         "y": [
          53
         ]
        },
        {
         "base": [
          0
         ],
         "marker": {
          "color": "#636EFA"
         },
         "name": "Banking",
         "showlegend": false,
         "text": [
          "36"
         ],
         "textfont": {
          "color": "white",
          "family": "Segoe UI",
          "size": 24
         },
         "textposition": "inside",
         "type": "bar",
         "x": [
          2016
         ],
         "y": [
          36
         ]
        },
        {
         "base": [
          36
         ],
         "marker": {
          "color": "#FF6692"
         },
         "name": "Telecommunications",
         "showlegend": false,
         "text": [
          "38"
         ],
         "textfont": {
          "color": "white",
          "family": "Segoe UI",
          "size": 24
         },
         "textposition": "inside",
         "type": "bar",
         "x": [
          2016
         ],
         "y": [
          38
         ]
        },
        {
         "base": [
          74
         ],
         "marker": {
          "color": "#19D3F3"
         },
         "name": "Retail",
         "showlegend": false,
         "text": [
          "40"
         ],
         "textfont": {
          "color": "white",
          "family": "Segoe UI",
          "size": 24
         },
         "textposition": "inside",
         "type": "bar",
         "x": [
          2016
         ],
         "y": [
          40
         ]
        },
        {
         "base": [
          114
         ],
         "marker": {
          "color": "#00CC96"
         },
         "name": "Government",
         "showlegend": false,
         "text": [
          "41"
         ],
         "textfont": {
          "color": "white",
          "family": "Segoe UI",
          "size": 24
         },
         "textposition": "inside",
         "type": "bar",
         "x": [
          2016
         ],
         "y": [
          41
         ]
        },
        {
         "base": [
          155
         ],
         "marker": {
          "color": "#AB63FA"
         },
         "name": "Healthcare",
         "showlegend": false,
         "text": [
          "42"
         ],
         "textfont": {
          "color": "white",
          "family": "Segoe UI",
          "size": 24
         },
         "textposition": "inside",
         "type": "bar",
         "x": [
          2016
         ],
         "y": [
          42
         ]
        },
        {
         "base": [
          197
         ],
         "marker": {
          "color": "#EF553B"
         },
         "name": "Education",
         "showlegend": false,
         "text": [
          "42"
         ],
         "textfont": {
          "color": "white",
          "family": "Segoe UI",
          "size": 24
         },
         "textposition": "inside",
         "type": "bar",
         "x": [
          2016
         ],
         "y": [
          42
         ]
        },
        {
         "base": [
          239
         ],
         "marker": {
          "color": "#FFA15A"
         },
         "name": "IT",
         "showlegend": false,
         "text": [
          "46"
         ],
         "textfont": {
          "color": "white",
          "family": "Segoe UI",
          "size": 24
         },
         "textposition": "inside",
         "type": "bar",
         "x": [
          2016
         ],
         "y": [
          46
         ]
        },
        {
         "base": [
          0
         ],
         "marker": {
          "color": "#FF6692"
         },
         "name": "Telecommunications",
         "showlegend": false,
         "text": [
          "33"
         ],
         "textfont": {
          "color": "white",
          "family": "Segoe UI",
          "size": 24
         },
         "textposition": "inside",
         "type": "bar",
         "x": [
          2017
         ],
         "y": [
          33
         ]
        },
        {
         "base": [
          33
         ],
         "marker": {
          "color": "#19D3F3"
         },
         "name": "Retail",
         "showlegend": false,
         "text": [
          "40"
         ],
         "textfont": {
          "color": "white",
          "family": "Segoe UI",
          "size": 24
         },
         "textposition": "inside",
         "type": "bar",
         "x": [
          2017
         ],
         "y": [
          40
         ]
        },
        {
         "base": [
          73
         ],
         "marker": {
          "color": "#EF553B"
         },
         "name": "Education",
         "showlegend": false,
         "text": [
          "43"
         ],
         "textfont": {
          "color": "white",
          "family": "Segoe UI",
          "size": 24
         },
         "textposition": "inside",
         "type": "bar",
         "x": [
          2017
         ],
         "y": [
          43
         ]
        },
        {
         "base": [
          116
         ],
         "marker": {
          "color": "#636EFA"
         },
         "name": "Banking",
         "showlegend": false,
         "text": [
          "45"
         ],
         "textfont": {
          "color": "white",
          "family": "Segoe UI",
          "size": 24
         },
         "textposition": "inside",
         "type": "bar",
         "x": [
          2017
         ],
         "y": [
          45
         ]
        },
        {
         "base": [
          161
         ],
         "marker": {
          "color": "#00CC96"
         },
         "name": "Government",
         "showlegend": false,
         "text": [
          "46"
         ],
         "textfont": {
          "color": "white",
          "family": "Segoe UI",
          "size": 24
         },
         "textposition": "inside",
         "type": "bar",
         "x": [
          2017
         ],
         "y": [
          46
         ]
        },
        {
         "base": [
          207
         ],
         "marker": {
          "color": "#AB63FA"
         },
         "name": "Healthcare",
         "showlegend": false,
         "text": [
          "56"
         ],
         "textfont": {
          "color": "white",
          "family": "Segoe UI",
          "size": 24
         },
         "textposition": "inside",
         "type": "bar",
         "x": [
          2017
         ],
         "y": [
          56
         ]
        },
        {
         "base": [
          263
         ],
         "marker": {
          "color": "#FFA15A"
         },
         "name": "IT",
         "showlegend": false,
         "text": [
          "56"
         ],
         "textfont": {
          "color": "white",
          "family": "Segoe UI",
          "size": 24
         },
         "textposition": "inside",
         "type": "bar",
         "x": [
          2017
         ],
         "y": [
          56
         ]
        },
        {
         "base": [
          0
         ],
         "marker": {
          "color": "#FF6692"
         },
         "name": "Telecommunications",
         "showlegend": false,
         "text": [
          "34"
         ],
         "textfont": {
          "color": "white",
          "family": "Segoe UI",
          "size": 24
         },
         "textposition": "inside",
         "type": "bar",
         "x": [
          2018
         ],
         "y": [
          34
         ]
        },
        {
         "base": [
          34
         ],
         "marker": {
          "color": "#00CC96"
         },
         "name": "Government",
         "showlegend": false,
         "text": [
          "40"
         ],
         "textfont": {
          "color": "white",
          "family": "Segoe UI",
          "size": 24
         },
         "textposition": "inside",
         "type": "bar",
         "x": [
          2018
         ],
         "y": [
          40
         ]
        },
        {
         "base": [
          74
         ],
         "marker": {
          "color": "#FFA15A"
         },
         "name": "IT",
         "showlegend": false,
         "text": [
          "40"
         ],
         "textfont": {
          "color": "white",
          "family": "Segoe UI",
          "size": 24
         },
         "textposition": "inside",
         "type": "bar",
         "x": [
          2018
         ],
         "y": [
          40
         ]
        },
        {
         "base": [
          114
         ],
         "marker": {
          "color": "#19D3F3"
         },
         "name": "Retail",
         "showlegend": false,
         "text": [
          "41"
         ],
         "textfont": {
          "color": "white",
          "family": "Segoe UI",
          "size": 24
         },
         "textposition": "inside",
         "type": "bar",
         "x": [
          2018
         ],
         "y": [
          41
         ]
        },
        {
         "base": [
          155
         ],
         "marker": {
          "color": "#AB63FA"
         },
         "name": "Healthcare",
         "showlegend": false,
         "text": [
          "46"
         ],
         "textfont": {
          "color": "white",
          "family": "Segoe UI",
          "size": 24
         },
         "textposition": "inside",
         "type": "bar",
         "x": [
          2018
         ],
         "y": [
          46
         ]
        },
        {
         "base": [
          201
         ],
         "marker": {
          "color": "#636EFA"
         },
         "name": "Banking",
         "showlegend": false,
         "text": [
          "50"
         ],
         "textfont": {
          "color": "white",
          "family": "Segoe UI",
          "size": 24
         },
         "textposition": "inside",
         "type": "bar",
         "x": [
          2018
         ],
         "y": [
          50
         ]
        },
        {
         "base": [
          251
         ],
         "marker": {
          "color": "#EF553B"
         },
         "name": "Education",
         "showlegend": false,
         "text": [
          "59"
         ],
         "textfont": {
          "color": "white",
          "family": "Segoe UI",
          "size": 24
         },
         "textposition": "inside",
         "type": "bar",
         "x": [
          2018
         ],
         "y": [
          59
         ]
        },
        {
         "base": [
          0
         ],
         "marker": {
          "color": "#19D3F3"
         },
         "name": "Retail",
         "showlegend": false,
         "text": [
          "31"
         ],
         "textfont": {
          "color": "white",
          "family": "Segoe UI",
          "size": 24
         },
         "textposition": "inside",
         "type": "bar",
         "x": [
          2019
         ],
         "y": [
          31
         ]
        },
        {
         "base": [
          31
         ],
         "marker": {
          "color": "#AB63FA"
         },
         "name": "Healthcare",
         "showlegend": false,
         "text": [
          "32"
         ],
         "textfont": {
          "color": "white",
          "family": "Segoe UI",
          "size": 24
         },
         "textposition": "inside",
         "type": "bar",
         "x": [
          2019
         ],
         "y": [
          32
         ]
        },
        {
         "base": [
          63
         ],
         "marker": {
          "color": "#EF553B"
         },
         "name": "Education",
         "showlegend": false,
         "text": [
          "35"
         ],
         "textfont": {
          "color": "white",
          "family": "Segoe UI",
          "size": 24
         },
         "textposition": "inside",
         "type": "bar",
         "x": [
          2019
         ],
         "y": [
          35
         ]
        },
        {
         "base": [
          98
         ],
         "marker": {
          "color": "#00CC96"
         },
         "name": "Government",
         "showlegend": false,
         "text": [
          "39"
         ],
         "textfont": {
          "color": "white",
          "family": "Segoe UI",
          "size": 24
         },
         "textposition": "inside",
         "type": "bar",
         "x": [
          2019
         ],
         "y": [
          39
         ]
        },
        {
         "base": [
          137
         ],
         "marker": {
          "color": "#FFA15A"
         },
         "name": "IT",
         "showlegend": false,
         "text": [
          "40"
         ],
         "textfont": {
          "color": "white",
          "family": "Segoe UI",
          "size": 24
         },
         "textposition": "inside",
         "type": "bar",
         "x": [
          2019
         ],
         "y": [
          40
         ]
        },
        {
         "base": [
          177
         ],
         "marker": {
          "color": "#FF6692"
         },
         "name": "Telecommunications",
         "showlegend": false,
         "text": [
          "42"
         ],
         "textfont": {
          "color": "white",
          "family": "Segoe UI",
          "size": 24
         },
         "textposition": "inside",
         "type": "bar",
         "x": [
          2019
         ],
         "y": [
          42
         ]
        },
        {
         "base": [
          219
         ],
         "marker": {
          "color": "#636EFA"
         },
         "name": "Banking",
         "showlegend": false,
         "text": [
          "44"
         ],
         "textfont": {
          "color": "white",
          "family": "Segoe UI",
          "size": 24
         },
         "textposition": "inside",
         "type": "bar",
         "x": [
          2019
         ],
         "y": [
          44
         ]
        },
        {
         "base": [
          0
         ],
         "marker": {
          "color": "#00CC96"
         },
         "name": "Government",
         "showlegend": false,
         "text": [
          "38"
         ],
         "textfont": {
          "color": "white",
          "family": "Segoe UI",
          "size": 24
         },
         "textposition": "inside",
         "type": "bar",
         "x": [
          2020
         ],
         "y": [
          38
         ]
        },
        {
         "base": [
          38
         ],
         "marker": {
          "color": "#FF6692"
         },
         "name": "Telecommunications",
         "showlegend": false,
         "text": [
          "40"
         ],
         "textfont": {
          "color": "white",
          "family": "Segoe UI",
          "size": 24
         },
         "textposition": "inside",
         "type": "bar",
         "x": [
          2020
         ],
         "y": [
          40
         ]
        },
        {
         "base": [
          78
         ],
         "marker": {
          "color": "#EF553B"
         },
         "name": "Education",
         "showlegend": false,
         "text": [
          "43"
         ],
         "textfont": {
          "color": "white",
          "family": "Segoe UI",
          "size": 24
         },
         "textposition": "inside",
         "type": "bar",
         "x": [
          2020
         ],
         "y": [
          43
         ]
        },
        {
         "base": [
          121
         ],
         "marker": {
          "color": "#19D3F3"
         },
         "name": "Retail",
         "showlegend": false,
         "text": [
          "44"
         ],
         "textfont": {
          "color": "white",
          "family": "Segoe UI",
          "size": 24
         },
         "textposition": "inside",
         "type": "bar",
         "x": [
          2020
         ],
         "y": [
          44
         ]
        },
        {
         "base": [
          165
         ],
         "marker": {
          "color": "#FFA15A"
         },
         "name": "IT",
         "showlegend": false,
         "text": [
          "48"
         ],
         "textfont": {
          "color": "white",
          "family": "Segoe UI",
          "size": 24
         },
         "textposition": "inside",
         "type": "bar",
         "x": [
          2020
         ],
         "y": [
          48
         ]
        },
        {
         "base": [
          213
         ],
         "marker": {
          "color": "#AB63FA"
         },
         "name": "Healthcare",
         "showlegend": false,
         "text": [
          "50"
         ],
         "textfont": {
          "color": "white",
          "family": "Segoe UI",
          "size": 24
         },
         "textposition": "inside",
         "type": "bar",
         "x": [
          2020
         ],
         "y": [
          50
         ]
        },
        {
         "base": [
          263
         ],
         "marker": {
          "color": "#636EFA"
         },
         "name": "Banking",
         "showlegend": false,
         "text": [
          "52"
         ],
         "textfont": {
          "color": "white",
          "family": "Segoe UI",
          "size": 24
         },
         "textposition": "inside",
         "type": "bar",
         "x": [
          2020
         ],
         "y": [
          52
         ]
        },
        {
         "base": [
          0
         ],
         "marker": {
          "color": "#EF553B"
         },
         "name": "Education",
         "showlegend": false,
         "text": [
          "38"
         ],
         "textfont": {
          "color": "white",
          "family": "Segoe UI",
          "size": 24
         },
         "textposition": "inside",
         "type": "bar",
         "x": [
          2021
         ],
         "y": [
          38
         ]
        },
        {
         "base": [
          38
         ],
         "marker": {
          "color": "#FFA15A"
         },
         "name": "IT",
         "showlegend": false,
         "text": [
          "38"
         ],
         "textfont": {
          "color": "white",
          "family": "Segoe UI",
          "size": 24
         },
         "textposition": "inside",
         "type": "bar",
         "x": [
          2021
         ],
         "y": [
          38
         ]
        },
        {
         "base": [
          76
         ],
         "marker": {
          "color": "#00CC96"
         },
         "name": "Government",
         "showlegend": false,
         "text": [
          "39"
         ],
         "textfont": {
          "color": "white",
          "family": "Segoe UI",
          "size": 24
         },
         "textposition": "inside",
         "type": "bar",
         "x": [
          2021
         ],
         "y": [
          39
         ]
        },
        {
         "base": [
          115
         ],
         "marker": {
          "color": "#AB63FA"
         },
         "name": "Healthcare",
         "showlegend": false,
         "text": [
          "42"
         ],
         "textfont": {
          "color": "white",
          "family": "Segoe UI",
          "size": 24
         },
         "textposition": "inside",
         "type": "bar",
         "x": [
          2021
         ],
         "y": [
          42
         ]
        },
        {
         "base": [
          157
         ],
         "marker": {
          "color": "#19D3F3"
         },
         "name": "Retail",
         "showlegend": false,
         "text": [
          "42"
         ],
         "textfont": {
          "color": "white",
          "family": "Segoe UI",
          "size": 24
         },
         "textposition": "inside",
         "type": "bar",
         "x": [
          2021
         ],
         "y": [
          42
         ]
        },
        {
         "base": [
          199
         ],
         "marker": {
          "color": "#FF6692"
         },
         "name": "Telecommunications",
         "showlegend": false,
         "text": [
          "49"
         ],
         "textfont": {
          "color": "white",
          "family": "Segoe UI",
          "size": 24
         },
         "textposition": "inside",
         "type": "bar",
         "x": [
          2021
         ],
         "y": [
          49
         ]
        },
        {
         "base": [
          248
         ],
         "marker": {
          "color": "#636EFA"
         },
         "name": "Banking",
         "showlegend": false,
         "text": [
          "51"
         ],
         "textfont": {
          "color": "white",
          "family": "Segoe UI",
          "size": 24
         },
         "textposition": "inside",
         "type": "bar",
         "x": [
          2021
         ],
         "y": [
          51
         ]
        },
        {
         "base": [
          0
         ],
         "marker": {
          "color": "#00CC96"
         },
         "name": "Government",
         "showlegend": false,
         "text": [
          "35"
         ],
         "textfont": {
          "color": "white",
          "family": "Segoe UI",
          "size": 24
         },
         "textposition": "inside",
         "type": "bar",
         "x": [
          2022
         ],
         "y": [
          35
         ]
        },
        {
         "base": [
          35
         ],
         "marker": {
          "color": "#AB63FA"
         },
         "name": "Healthcare",
         "showlegend": false,
         "text": [
          "40"
         ],
         "textfont": {
          "color": "white",
          "family": "Segoe UI",
          "size": 24
         },
         "textposition": "inside",
         "type": "bar",
         "x": [
          2022
         ],
         "y": [
          40
         ]
        },
        {
         "base": [
          75
         ],
         "marker": {
          "color": "#636EFA"
         },
         "name": "Banking",
         "showlegend": false,
         "text": [
          "42"
         ],
         "textfont": {
          "color": "white",
          "family": "Segoe UI",
          "size": 24
         },
         "textposition": "inside",
         "type": "bar",
         "x": [
          2022
         ],
         "y": [
          42
         ]
        },
        {
         "base": [
          117
         ],
         "marker": {
          "color": "#FF6692"
         },
         "name": "Telecommunications",
         "showlegend": false,
         "text": [
          "46"
         ],
         "textfont": {
          "color": "white",
          "family": "Segoe UI",
          "size": 24
         },
         "textposition": "inside",
         "type": "bar",
         "x": [
          2022
         ],
         "y": [
          46
         ]
        },
        {
         "base": [
          163
         ],
         "marker": {
          "color": "#EF553B"
         },
         "name": "Education",
         "showlegend": false,
         "text": [
          "49"
         ],
         "textfont": {
          "color": "white",
          "family": "Segoe UI",
          "size": 24
         },
         "textposition": "inside",
         "type": "bar",
         "x": [
          2022
         ],
         "y": [
          49
         ]
        },
        {
         "base": [
          212
         ],
         "marker": {
          "color": "#19D3F3"
         },
         "name": "Retail",
         "showlegend": false,
         "text": [
          "49"
         ],
         "textfont": {
          "color": "white",
          "family": "Segoe UI",
          "size": 24
         },
         "textposition": "inside",
         "type": "bar",
         "x": [
          2022
         ],
         "y": [
          49
         ]
        },
        {
         "base": [
          261
         ],
         "marker": {
          "color": "#FFA15A"
         },
         "name": "IT",
         "showlegend": false,
         "text": [
          "57"
         ],
         "textfont": {
          "color": "white",
          "family": "Segoe UI",
          "size": 24
         },
         "textposition": "inside",
         "type": "bar",
         "x": [
          2022
         ],
         "y": [
          57
         ]
        },
        {
         "base": [
          0
         ],
         "marker": {
          "color": "#00CC96"
         },
         "name": "Government",
         "showlegend": false,
         "text": [
          "39"
         ],
         "textfont": {
          "color": "white",
          "family": "Segoe UI",
          "size": 24
         },
         "textposition": "inside",
         "type": "bar",
         "x": [
          2023
         ],
         "y": [
          39
         ]
        },
        {
         "base": [
          39
         ],
         "marker": {
          "color": "#EF553B"
         },
         "name": "Education",
         "showlegend": false,
         "text": [
          "42"
         ],
         "textfont": {
          "color": "white",
          "family": "Segoe UI",
          "size": 24
         },
         "textposition": "inside",
         "type": "bar",
         "x": [
          2023
         ],
         "y": [
          42
         ]
        },
        {
         "base": [
          81
         ],
         "marker": {
          "color": "#AB63FA"
         },
         "name": "Healthcare",
         "showlegend": false,
         "text": [
          "43"
         ],
         "textfont": {
          "color": "white",
          "family": "Segoe UI",
          "size": 24
         },
         "textposition": "inside",
         "type": "bar",
         "x": [
          2023
         ],
         "y": [
          43
         ]
        },
        {
         "base": [
          124
         ],
         "marker": {
          "color": "#FF6692"
         },
         "name": "Telecommunications",
         "showlegend": false,
         "text": [
          "43"
         ],
         "textfont": {
          "color": "white",
          "family": "Segoe UI",
          "size": 24
         },
         "textposition": "inside",
         "type": "bar",
         "x": [
          2023
         ],
         "y": [
          43
         ]
        },
        {
         "base": [
          167
         ],
         "marker": {
          "color": "#19D3F3"
         },
         "name": "Retail",
         "showlegend": false,
         "text": [
          "47"
         ],
         "textfont": {
          "color": "white",
          "family": "Segoe UI",
          "size": 24
         },
         "textposition": "inside",
         "type": "bar",
         "x": [
          2023
         ],
         "y": [
          47
         ]
        },
        {
         "base": [
          214
         ],
         "marker": {
          "color": "#636EFA"
         },
         "name": "Banking",
         "showlegend": false,
         "text": [
          "49"
         ],
         "textfont": {
          "color": "white",
          "family": "Segoe UI",
          "size": 24
         },
         "textposition": "inside",
         "type": "bar",
         "x": [
          2023
         ],
         "y": [
          49
         ]
        },
        {
         "base": [
          263
         ],
         "marker": {
          "color": "#FFA15A"
         },
         "name": "IT",
         "showlegend": false,
         "text": [
          "52"
         ],
         "textfont": {
          "color": "white",
          "family": "Segoe UI",
          "size": 24
         },
         "textposition": "inside",
         "type": "bar",
         "x": [
          2023
         ],
         "y": [
          52
         ]
        },
        {
         "base": [
          0
         ],
         "marker": {
          "color": "#636EFA"
         },
         "name": "Banking",
         "showlegend": false,
         "text": [
          "33"
         ],
         "textfont": {
          "color": "white",
          "family": "Segoe UI",
          "size": 24
         },
         "textposition": "inside",
         "type": "bar",
         "x": [
          2024
         ],
         "y": [
          33
         ]
        },
        {
         "base": [
          33
         ],
         "marker": {
          "color": "#EF553B"
         },
         "name": "Education",
         "showlegend": false,
         "text": [
          "38"
         ],
         "textfont": {
          "color": "white",
          "family": "Segoe UI",
          "size": 24
         },
         "textposition": "inside",
         "type": "bar",
         "x": [
          2024
         ],
         "y": [
          38
         ]
        },
        {
         "base": [
          71
         ],
         "marker": {
          "color": "#AB63FA"
         },
         "name": "Healthcare",
         "showlegend": false,
         "text": [
          "42"
         ],
         "textfont": {
          "color": "white",
          "family": "Segoe UI",
          "size": 24
         },
         "textposition": "inside",
         "type": "bar",
         "x": [
          2024
         ],
         "y": [
          42
         ]
        },
        {
         "base": [
          113
         ],
         "marker": {
          "color": "#FF6692"
         },
         "name": "Telecommunications",
         "showlegend": false,
         "text": [
          "42"
         ],
         "textfont": {
          "color": "white",
          "family": "Segoe UI",
          "size": 24
         },
         "textposition": "inside",
         "type": "bar",
         "x": [
          2024
         ],
         "y": [
          42
         ]
        },
        {
         "base": [
          155
         ],
         "marker": {
          "color": "#19D3F3"
         },
         "name": "Retail",
         "showlegend": false,
         "text": [
          "47"
         ],
         "textfont": {
          "color": "white",
          "family": "Segoe UI",
          "size": 24
         },
         "textposition": "inside",
         "type": "bar",
         "x": [
          2024
         ],
         "y": [
          47
         ]
        },
        {
         "base": [
          202
         ],
         "marker": {
          "color": "#FFA15A"
         },
         "name": "IT",
         "showlegend": false,
         "text": [
          "48"
         ],
         "textfont": {
          "color": "white",
          "family": "Segoe UI",
          "size": 24
         },
         "textposition": "inside",
         "type": "bar",
         "x": [
          2024
         ],
         "y": [
          48
         ]
        },
        {
         "base": [
          250
         ],
         "marker": {
          "color": "#00CC96"
         },
         "name": "Government",
         "showlegend": false,
         "text": [
          "49"
         ],
         "textfont": {
          "color": "white",
          "family": "Segoe UI",
          "size": 24
         },
         "textposition": "inside",
         "type": "bar",
         "x": [
          2024
         ],
         "y": [
          49
         ]
        }
       ],
       "layout": {
        "barmode": "stack",
        "font": {
         "color": "white",
         "family": "Segoe UI",
         "size": 28
        },
        "height": 550,
        "legend": {
         "font": {
          "color": "white",
          "family": "Segoe UI",
          "size": 18
         },
         "traceorder": "normal"
        },
        "paper_bgcolor": "#050b18",
        "plot_bgcolor": "#050b18",
        "template": {
         "data": {
          "bar": [
           {
            "error_x": {
             "color": "#f2f5fa"
            },
            "error_y": {
             "color": "#f2f5fa"
            },
            "marker": {
             "line": {
              "color": "rgb(17,17,17)",
              "width": 0.5
             },
             "pattern": {
              "fillmode": "overlay",
              "size": 10,
              "solidity": 0.2
             }
            },
            "type": "bar"
           }
          ],
          "barpolar": [
           {
            "marker": {
             "line": {
              "color": "rgb(17,17,17)",
              "width": 0.5
             },
             "pattern": {
              "fillmode": "overlay",
              "size": 10,
              "solidity": 0.2
             }
            },
            "type": "barpolar"
           }
          ],
          "carpet": [
           {
            "aaxis": {
             "endlinecolor": "#A2B1C6",
             "gridcolor": "#506784",
             "linecolor": "#506784",
             "minorgridcolor": "#506784",
             "startlinecolor": "#A2B1C6"
            },
            "baxis": {
             "endlinecolor": "#A2B1C6",
             "gridcolor": "#506784",
             "linecolor": "#506784",
             "minorgridcolor": "#506784",
             "startlinecolor": "#A2B1C6"
            },
            "type": "carpet"
           }
          ],
          "choropleth": [
           {
            "colorbar": {
             "outlinewidth": 0,
             "ticks": ""
            },
            "type": "choropleth"
           }
          ],
          "contour": [
           {
            "colorbar": {
             "outlinewidth": 0,
             "ticks": ""
            },
            "colorscale": [
             [
              0,
              "#0d0887"
             ],
             [
              0.1111111111111111,
              "#46039f"
             ],
             [
              0.2222222222222222,
              "#7201a8"
             ],
             [
              0.3333333333333333,
              "#9c179e"
             ],
             [
              0.4444444444444444,
              "#bd3786"
             ],
             [
              0.5555555555555556,
              "#d8576b"
             ],
             [
              0.6666666666666666,
              "#ed7953"
             ],
             [
              0.7777777777777778,
              "#fb9f3a"
             ],
             [
              0.8888888888888888,
              "#fdca26"
             ],
             [
              1,
              "#f0f921"
             ]
            ],
            "type": "contour"
           }
          ],
          "contourcarpet": [
           {
            "colorbar": {
             "outlinewidth": 0,
             "ticks": ""
            },
            "type": "contourcarpet"
           }
          ],
          "heatmap": [
           {
            "colorbar": {
             "outlinewidth": 0,
             "ticks": ""
            },
            "colorscale": [
             [
              0,
              "#0d0887"
             ],
             [
              0.1111111111111111,
              "#46039f"
             ],
             [
              0.2222222222222222,
              "#7201a8"
             ],
             [
              0.3333333333333333,
              "#9c179e"
             ],
             [
              0.4444444444444444,
              "#bd3786"
             ],
             [
              0.5555555555555556,
              "#d8576b"
             ],
             [
              0.6666666666666666,
              "#ed7953"
             ],
             [
              0.7777777777777778,
              "#fb9f3a"
             ],
             [
              0.8888888888888888,
              "#fdca26"
             ],
             [
              1,
              "#f0f921"
             ]
            ],
            "type": "heatmap"
           }
          ],
          "histogram": [
           {
            "marker": {
             "pattern": {
              "fillmode": "overlay",
              "size": 10,
              "solidity": 0.2
             }
            },
            "type": "histogram"
           }
          ],
          "histogram2d": [
           {
            "colorbar": {
             "outlinewidth": 0,
             "ticks": ""
            },
            "colorscale": [
             [
              0,
              "#0d0887"
             ],
             [
              0.1111111111111111,
              "#46039f"
             ],
             [
              0.2222222222222222,
              "#7201a8"
             ],
             [
              0.3333333333333333,
              "#9c179e"
             ],
             [
              0.4444444444444444,
              "#bd3786"
             ],
             [
              0.5555555555555556,
              "#d8576b"
             ],
             [
              0.6666666666666666,
              "#ed7953"
             ],
             [
              0.7777777777777778,
              "#fb9f3a"
             ],
             [
              0.8888888888888888,
              "#fdca26"
             ],
             [
              1,
              "#f0f921"
             ]
            ],
            "type": "histogram2d"
           }
          ],
          "histogram2dcontour": [
           {
            "colorbar": {
             "outlinewidth": 0,
             "ticks": ""
            },
            "colorscale": [
             [
              0,
              "#0d0887"
             ],
             [
              0.1111111111111111,
              "#46039f"
             ],
             [
              0.2222222222222222,
              "#7201a8"
             ],
             [
              0.3333333333333333,
              "#9c179e"
             ],
             [
              0.4444444444444444,
              "#bd3786"
             ],
             [
              0.5555555555555556,
              "#d8576b"
             ],
             [
              0.6666666666666666,
              "#ed7953"
             ],
             [
              0.7777777777777778,
              "#fb9f3a"
             ],
             [
              0.8888888888888888,
              "#fdca26"
             ],
             [
              1,
              "#f0f921"
             ]
            ],
            "type": "histogram2dcontour"
           }
          ],
          "mesh3d": [
           {
            "colorbar": {
             "outlinewidth": 0,
             "ticks": ""
            },
            "type": "mesh3d"
           }
          ],
          "parcoords": [
           {
            "line": {
             "colorbar": {
              "outlinewidth": 0,
              "ticks": ""
             }
            },
            "type": "parcoords"
           }
          ],
          "pie": [
           {
            "automargin": true,
            "type": "pie"
           }
          ],
          "scatter": [
           {
            "marker": {
             "line": {
              "color": "#283442"
             }
            },
            "type": "scatter"
           }
          ],
          "scatter3d": [
           {
            "line": {
             "colorbar": {
              "outlinewidth": 0,
              "ticks": ""
             }
            },
            "marker": {
             "colorbar": {
              "outlinewidth": 0,
              "ticks": ""
             }
            },
            "type": "scatter3d"
           }
          ],
          "scattercarpet": [
           {
            "marker": {
             "colorbar": {
              "outlinewidth": 0,
              "ticks": ""
             }
            },
            "type": "scattercarpet"
           }
          ],
          "scattergeo": [
           {
            "marker": {
             "colorbar": {
              "outlinewidth": 0,
              "ticks": ""
             }
            },
            "type": "scattergeo"
           }
          ],
          "scattergl": [
           {
            "marker": {
             "line": {
              "color": "#283442"
             }
            },
            "type": "scattergl"
           }
          ],
          "scattermap": [
           {
            "marker": {
             "colorbar": {
              "outlinewidth": 0,
              "ticks": ""
             }
            },
            "type": "scattermap"
           }
          ],
          "scattermapbox": [
           {
            "marker": {
             "colorbar": {
              "outlinewidth": 0,
              "ticks": ""
             }
            },
            "type": "scattermapbox"
           }
          ],
          "scatterpolar": [
           {
            "marker": {
             "colorbar": {
              "outlinewidth": 0,
              "ticks": ""
             }
            },
            "type": "scatterpolar"
           }
          ],
          "scatterpolargl": [
           {
            "marker": {
             "colorbar": {
              "outlinewidth": 0,
              "ticks": ""
             }
            },
            "type": "scatterpolargl"
           }
          ],
          "scatterternary": [
           {
            "marker": {
             "colorbar": {
              "outlinewidth": 0,
              "ticks": ""
             }
            },
            "type": "scatterternary"
           }
          ],
          "surface": [
           {
            "colorbar": {
             "outlinewidth": 0,
             "ticks": ""
            },
            "colorscale": [
             [
              0,
              "#0d0887"
             ],
             [
              0.1111111111111111,
              "#46039f"
             ],
             [
              0.2222222222222222,
              "#7201a8"
             ],
             [
              0.3333333333333333,
              "#9c179e"
             ],
             [
              0.4444444444444444,
              "#bd3786"
             ],
             [
              0.5555555555555556,
              "#d8576b"
             ],
             [
              0.6666666666666666,
              "#ed7953"
             ],
             [
              0.7777777777777778,
              "#fb9f3a"
             ],
             [
              0.8888888888888888,
              "#fdca26"
             ],
             [
              1,
              "#f0f921"
             ]
            ],
            "type": "surface"
           }
          ],
          "table": [
           {
            "cells": {
             "fill": {
              "color": "#506784"
             },
             "line": {
              "color": "rgb(17,17,17)"
             }
            },
            "header": {
             "fill": {
              "color": "#2a3f5f"
             },
             "line": {
              "color": "rgb(17,17,17)"
             }
            },
            "type": "table"
           }
          ]
         },
         "layout": {
          "annotationdefaults": {
           "arrowcolor": "#f2f5fa",
           "arrowhead": 0,
           "arrowwidth": 1
          },
          "autotypenumbers": "strict",
          "coloraxis": {
           "colorbar": {
            "outlinewidth": 0,
            "ticks": ""
           }
          },
          "colorscale": {
           "diverging": [
            [
             0,
             "#8e0152"
            ],
            [
             0.1,
             "#c51b7d"
            ],
            [
             0.2,
             "#de77ae"
            ],
            [
             0.3,
             "#f1b6da"
            ],
            [
             0.4,
             "#fde0ef"
            ],
            [
             0.5,
             "#f7f7f7"
            ],
            [
             0.6,
             "#e6f5d0"
            ],
            [
             0.7,
             "#b8e186"
            ],
            [
             0.8,
             "#7fbc41"
            ],
            [
             0.9,
             "#4d9221"
            ],
            [
             1,
             "#276419"
            ]
           ],
           "sequential": [
            [
             0,
             "#0d0887"
            ],
            [
             0.1111111111111111,
             "#46039f"
            ],
            [
             0.2222222222222222,
             "#7201a8"
            ],
            [
             0.3333333333333333,
             "#9c179e"
            ],
            [
             0.4444444444444444,
             "#bd3786"
            ],
            [
             0.5555555555555556,
             "#d8576b"
            ],
            [
             0.6666666666666666,
             "#ed7953"
            ],
            [
             0.7777777777777778,
             "#fb9f3a"
            ],
            [
             0.8888888888888888,
             "#fdca26"
            ],
            [
             1,
             "#f0f921"
            ]
           ],
           "sequentialminus": [
            [
             0,
             "#0d0887"
            ],
            [
             0.1111111111111111,
             "#46039f"
            ],
            [
             0.2222222222222222,
             "#7201a8"
            ],
            [
             0.3333333333333333,
             "#9c179e"
            ],
            [
             0.4444444444444444,
             "#bd3786"
            ],
            [
             0.5555555555555556,
             "#d8576b"
            ],
            [
             0.6666666666666666,
             "#ed7953"
            ],
            [
             0.7777777777777778,
             "#fb9f3a"
            ],
            [
             0.8888888888888888,
             "#fdca26"
            ],
            [
             1,
             "#f0f921"
            ]
           ]
          },
          "colorway": [
           "#636efa",
           "#EF553B",
           "#00cc96",
           "#ab63fa",
           "#FFA15A",
           "#19d3f3",
           "#FF6692",
           "#B6E880",
           "#FF97FF",
           "#FECB52"
          ],
          "font": {
           "color": "#f2f5fa"
          },
          "geo": {
           "bgcolor": "rgb(17,17,17)",
           "lakecolor": "rgb(17,17,17)",
           "landcolor": "rgb(17,17,17)",
           "showlakes": true,
           "showland": true,
           "subunitcolor": "#506784"
          },
          "hoverlabel": {
           "align": "left"
          },
          "hovermode": "closest",
          "mapbox": {
           "style": "dark"
          },
          "paper_bgcolor": "rgb(17,17,17)",
          "plot_bgcolor": "rgb(17,17,17)",
          "polar": {
           "angularaxis": {
            "gridcolor": "#506784",
            "linecolor": "#506784",
            "ticks": ""
           },
           "bgcolor": "rgb(17,17,17)",
           "radialaxis": {
            "gridcolor": "#506784",
            "linecolor": "#506784",
            "ticks": ""
           }
          },
          "scene": {
           "xaxis": {
            "backgroundcolor": "rgb(17,17,17)",
            "gridcolor": "#506784",
            "gridwidth": 2,
            "linecolor": "#506784",
            "showbackground": true,
            "ticks": "",
            "zerolinecolor": "#C8D4E3"
           },
           "yaxis": {
            "backgroundcolor": "rgb(17,17,17)",
            "gridcolor": "#506784",
            "gridwidth": 2,
            "linecolor": "#506784",
            "showbackground": true,
            "ticks": "",
            "zerolinecolor": "#C8D4E3"
           },
           "zaxis": {
            "backgroundcolor": "rgb(17,17,17)",
            "gridcolor": "#506784",
            "gridwidth": 2,
            "linecolor": "#506784",
            "showbackground": true,
            "ticks": "",
            "zerolinecolor": "#C8D4E3"
           }
          },
          "shapedefaults": {
           "line": {
            "color": "#f2f5fa"
           }
          },
          "sliderdefaults": {
           "bgcolor": "#C8D4E3",
           "bordercolor": "rgb(17,17,17)",
           "borderwidth": 1,
           "tickwidth": 0
          },
          "ternary": {
           "aaxis": {
            "gridcolor": "#506784",
            "linecolor": "#506784",
            "ticks": ""
           },
           "baxis": {
            "gridcolor": "#506784",
            "linecolor": "#506784",
            "ticks": ""
           },
           "bgcolor": "rgb(17,17,17)",
           "caxis": {
            "gridcolor": "#506784",
            "linecolor": "#506784",
            "ticks": ""
           }
          },
          "title": {
           "x": 0.05
          },
          "updatemenudefaults": {
           "bgcolor": "#506784",
           "borderwidth": 0
          },
          "xaxis": {
           "automargin": true,
           "gridcolor": "#283442",
           "linecolor": "#506784",
           "ticks": "",
           "title": {
            "standoff": 15
           },
           "zerolinecolor": "#283442",
           "zerolinewidth": 2
          },
          "yaxis": {
           "automargin": true,
           "gridcolor": "#283442",
           "linecolor": "#506784",
           "ticks": "",
           "title": {
            "standoff": 15
           },
           "zerolinecolor": "#283442",
           "zerolinewidth": 2
          }
         }
        },
        "width": 1780,
        "xaxis": {
         "tickfont": {
          "color": "white",
          "family": "Segoe UI",
          "size": 28
         },
         "title": {
          "font": {
           "color": "white",
           "family": "Segoe UI",
           "size": 32
          },
          "text": "Anno"
         }
        },
        "yaxis": {
         "tickfont": {
          "color": "white",
          "family": "Segoe UI",
          "size": 28
         },
         "title": {
          "font": {
           "color": "white",
           "family": "Segoe UI",
           "size": 32
          },
          "text": "Numero di attacchi"
         }
        }
       }
      }
     },
     "metadata": {},
     "output_type": "display_data"
    }
   ],
   "source": [
    "# raggruppamento dei dati per anno e settore\n",
    "grouped = df.groupby(['Year', 'Target Industry']).size().reset_index(name='Attacchi')\n",
    "\n",
    "# pivot (anno x settore)\n",
    "pivot = grouped.pivot(index='Year', columns='Target Industry', values='Attacchi').fillna(0)\n",
    "\n",
    "# Colori\n",
    "color_palette = px.colors.qualitative.Plotly\n",
    "industries = pivot.columns.tolist()\n",
    "color_map = {ind: color_palette[i % len(color_palette)] for i, ind in enumerate(industries)}\n",
    "fig = go.Figure()\n",
    "legend_shown = set()\n",
    "for year in pivot.index:\n",
    "    values = pivot.loc[year]\n",
    "    sorted_sectors = values.sort_values().index.tolist()\n",
    "    cumulative_base = 0\n",
    "    for sector in sorted_sectors:\n",
    "        val = values[sector]\n",
    "        if val == 0:\n",
    "            continue\n",
    "        fig.add_trace(go.Bar(\n",
    "            x=[year],\n",
    "            y=[val],\n",
    "            base=[cumulative_base],\n",
    "            name=sector,\n",
    "            marker_color=color_map[sector],\n",
    "            showlegend=sector not in legend_shown,\n",
    "            text=[val],\n",
    "            textposition='inside',\n",
    "            textfont=dict(\n",
    "                family='Segoe UI',\n",
    "                size=24,  \n",
    "                color='white'\n",
    "            )\n",
    "        ))\n",
    "        legend_shown.add(sector)\n",
    "        cumulative_base += val\n",
    "# stile \n",
    "fig.update_layout(\n",
    "    barmode='stack',\n",
    "    template='plotly_dark',\n",
    "    width=1780,   # larghezza figura (in pixel)\n",
    "    height=550,   # altezza figura (in pixel)\n",
    "    plot_bgcolor='#050b18',\n",
    "    paper_bgcolor='#050b18',\n",
    "    font=dict(\n",
    "        family='Segoe UI',\n",
    "        size=28,\n",
    "        color='white'\n",
    "    ),\n",
    "    xaxis=dict(\n",
    "        title=dict(text='Anno', font=dict(family='Segoe UI', size=32, color='white')),\n",
    "        tickfont=dict(family='Segoe UI', size=28, color='white')\n",
    "    ),\n",
    "    yaxis=dict(\n",
    "        title=dict(text='Numero di attacchi', font=dict(family='Segoe UI', size=32, color='white')),\n",
    "        tickfont=dict(family='Segoe UI', size=28, color='white')\n",
    "    ),\n",
    "    legend=dict(\n",
    "        font=dict(family='Segoe UI', size=18, color='white'),\n",
    "        traceorder='normal'\n",
    "    ),\n",
    ")\n",
    "fig.show()"
   ]
  },
  {
   "cell_type": "markdown",
   "id": "4aa14310",
   "metadata": {},
   "source": [
    "### Distribuzione degli Attacchi per Settore e Tipologia\n",
    "\n",
    "Questo grafico mostra **come si distribuiscono i diversi tipi di attacchi informatici all’interno di ciascun settore economico**. Ogni subplot rappresenta un **settore bersaglio**. All’interno di ogni riquadro, le barre indicano **quanti attacchi sono stati registrati** per ciascuna tipologia (es. *Ransomware, Data Breach, Phishing*, ecc.).\n",
    "\n",
    "\n"
   ]
  },
  {
   "cell_type": "code",
   "execution_count": 58,
   "id": "8ec44a6d",
   "metadata": {},
   "outputs": [
    {
     "data": {
      "application/vnd.plotly.v1+json": {
       "config": {
        "plotlyServerURL": "https://plot.ly"
       },
       "data": [
        {
         "hovertemplate": "Attack Type=%{x}<br>Target Industry=Banking<br>Count=%{y}<extra></extra>",
         "legendgroup": "DDoS",
         "marker": {
          "color": "#636efa",
          "pattern": {
           "shape": ""
          }
         },
         "name": "DDoS",
         "orientation": "v",
         "showlegend": true,
         "textposition": "auto",
         "type": "bar",
         "x": [
          "DDoS"
         ],
         "xaxis": "x4",
         "y": {
          "bdata": "Rw==",
          "dtype": "i1"
         },
         "yaxis": "y4"
        },
        {
         "hovertemplate": "Attack Type=%{x}<br>Target Industry=Education<br>Count=%{y}<extra></extra>",
         "legendgroup": "DDoS",
         "marker": {
          "color": "#636efa",
          "pattern": {
           "shape": ""
          }
         },
         "name": "DDoS",
         "orientation": "v",
         "showlegend": false,
         "textposition": "auto",
         "type": "bar",
         "x": [
          "DDoS"
         ],
         "xaxis": "x5",
         "y": {
          "bdata": "SQ==",
          "dtype": "i1"
         },
         "yaxis": "y5"
        },
        {
         "hovertemplate": "Attack Type=%{x}<br>Target Industry=Government<br>Count=%{y}<extra></extra>",
         "legendgroup": "DDoS",
         "marker": {
          "color": "#636efa",
          "pattern": {
           "shape": ""
          }
         },
         "name": "DDoS",
         "orientation": "v",
         "showlegend": false,
         "textposition": "auto",
         "type": "bar",
         "x": [
          "DDoS"
         ],
         "xaxis": "x6",
         "y": {
          "bdata": "Rw==",
          "dtype": "i1"
         },
         "yaxis": "y6"
        },
        {
         "hovertemplate": "Attack Type=%{x}<br>Target Industry=Healthcare<br>Count=%{y}<extra></extra>",
         "legendgroup": "DDoS",
         "marker": {
          "color": "#636efa",
          "pattern": {
           "shape": ""
          }
         },
         "name": "DDoS",
         "orientation": "v",
         "showlegend": false,
         "textposition": "auto",
         "type": "bar",
         "x": [
          "DDoS"
         ],
         "xaxis": "x",
         "y": {
          "bdata": "Tg==",
          "dtype": "i1"
         },
         "yaxis": "y"
        },
        {
         "hovertemplate": "Attack Type=%{x}<br>Target Industry=IT<br>Count=%{y}<extra></extra>",
         "legendgroup": "DDoS",
         "marker": {
          "color": "#636efa",
          "pattern": {
           "shape": ""
          }
         },
         "name": "DDoS",
         "orientation": "v",
         "showlegend": false,
         "textposition": "auto",
         "type": "bar",
         "x": [
          "DDoS"
         ],
         "xaxis": "x2",
         "y": {
          "bdata": "Ww==",
          "dtype": "i1"
         },
         "yaxis": "y2"
        },
        {
         "hovertemplate": "Attack Type=%{x}<br>Target Industry=Retail<br>Count=%{y}<extra></extra>",
         "legendgroup": "DDoS",
         "marker": {
          "color": "#636efa",
          "pattern": {
           "shape": ""
          }
         },
         "name": "DDoS",
         "orientation": "v",
         "showlegend": false,
         "textposition": "auto",
         "type": "bar",
         "x": [
          "DDoS"
         ],
         "xaxis": "x3",
         "y": {
          "bdata": "Pg==",
          "dtype": "i1"
         },
         "yaxis": "y3"
        },
        {
         "hovertemplate": "Attack Type=%{x}<br>Target Industry=Banking<br>Count=%{y}<extra></extra>",
         "legendgroup": "Malware",
         "marker": {
          "color": "#EF553B",
          "pattern": {
           "shape": ""
          }
         },
         "name": "Malware",
         "orientation": "v",
         "showlegend": true,
         "textposition": "auto",
         "type": "bar",
         "x": [
          "Malware"
         ],
         "xaxis": "x4",
         "y": {
          "bdata": "PQ==",
          "dtype": "i1"
         },
         "yaxis": "y4"
        },
        {
         "hovertemplate": "Attack Type=%{x}<br>Target Industry=Education<br>Count=%{y}<extra></extra>",
         "legendgroup": "Malware",
         "marker": {
          "color": "#EF553B",
          "pattern": {
           "shape": ""
          }
         },
         "name": "Malware",
         "orientation": "v",
         "showlegend": false,
         "textposition": "auto",
         "type": "bar",
         "x": [
          "Malware"
         ],
         "xaxis": "x5",
         "y": {
          "bdata": "Rg==",
          "dtype": "i1"
         },
         "yaxis": "y5"
        },
        {
         "hovertemplate": "Attack Type=%{x}<br>Target Industry=Government<br>Count=%{y}<extra></extra>",
         "legendgroup": "Malware",
         "marker": {
          "color": "#EF553B",
          "pattern": {
           "shape": ""
          }
         },
         "name": "Malware",
         "orientation": "v",
         "showlegend": false,
         "textposition": "auto",
         "type": "bar",
         "x": [
          "Malware"
         ],
         "xaxis": "x6",
         "y": {
          "bdata": "QA==",
          "dtype": "i1"
         },
         "yaxis": "y6"
        },
        {
         "hovertemplate": "Attack Type=%{x}<br>Target Industry=Healthcare<br>Count=%{y}<extra></extra>",
         "legendgroup": "Malware",
         "marker": {
          "color": "#EF553B",
          "pattern": {
           "shape": ""
          }
         },
         "name": "Malware",
         "orientation": "v",
         "showlegend": false,
         "textposition": "auto",
         "type": "bar",
         "x": [
          "Malware"
         ],
         "xaxis": "x",
         "y": {
          "bdata": "UQ==",
          "dtype": "i1"
         },
         "yaxis": "y"
        },
        {
         "hovertemplate": "Attack Type=%{x}<br>Target Industry=IT<br>Count=%{y}<extra></extra>",
         "legendgroup": "Malware",
         "marker": {
          "color": "#EF553B",
          "pattern": {
           "shape": ""
          }
         },
         "name": "Malware",
         "orientation": "v",
         "showlegend": false,
         "textposition": "auto",
         "type": "bar",
         "x": [
          "Malware"
         ],
         "xaxis": "x2",
         "y": {
          "bdata": "Qw==",
          "dtype": "i1"
         },
         "yaxis": "y2"
        },
        {
         "hovertemplate": "Attack Type=%{x}<br>Target Industry=Retail<br>Count=%{y}<extra></extra>",
         "legendgroup": "Malware",
         "marker": {
          "color": "#EF553B",
          "pattern": {
           "shape": ""
          }
         },
         "name": "Malware",
         "orientation": "v",
         "showlegend": false,
         "textposition": "auto",
         "type": "bar",
         "x": [
          "Malware"
         ],
         "xaxis": "x3",
         "y": {
          "bdata": "RA==",
          "dtype": "i1"
         },
         "yaxis": "y3"
        },
        {
         "hovertemplate": "Attack Type=%{x}<br>Target Industry=Banking<br>Count=%{y}<extra></extra>",
         "legendgroup": "Man-in-the-Middle",
         "marker": {
          "color": "#00cc96",
          "pattern": {
           "shape": ""
          }
         },
         "name": "Man-in-the-Middle",
         "orientation": "v",
         "showlegend": true,
         "textposition": "auto",
         "type": "bar",
         "x": [
          "Man-in-the-Middle"
         ],
         "xaxis": "x4",
         "y": {
          "bdata": "TQ==",
          "dtype": "i1"
         },
         "yaxis": "y4"
        },
        {
         "hovertemplate": "Attack Type=%{x}<br>Target Industry=Education<br>Count=%{y}<extra></extra>",
         "legendgroup": "Man-in-the-Middle",
         "marker": {
          "color": "#00cc96",
          "pattern": {
           "shape": ""
          }
         },
         "name": "Man-in-the-Middle",
         "orientation": "v",
         "showlegend": false,
         "textposition": "auto",
         "type": "bar",
         "x": [
          "Man-in-the-Middle"
         ],
         "xaxis": "x5",
         "y": {
          "bdata": "QQ==",
          "dtype": "i1"
         },
         "yaxis": "y5"
        },
        {
         "hovertemplate": "Attack Type=%{x}<br>Target Industry=Government<br>Count=%{y}<extra></extra>",
         "legendgroup": "Man-in-the-Middle",
         "marker": {
          "color": "#00cc96",
          "pattern": {
           "shape": ""
          }
         },
         "name": "Man-in-the-Middle",
         "orientation": "v",
         "showlegend": false,
         "textposition": "auto",
         "type": "bar",
         "x": [
          "Man-in-the-Middle"
         ],
         "xaxis": "x6",
         "y": {
          "bdata": "NQ==",
          "dtype": "i1"
         },
         "yaxis": "y6"
        },
        {
         "hovertemplate": "Attack Type=%{x}<br>Target Industry=Healthcare<br>Count=%{y}<extra></extra>",
         "legendgroup": "Man-in-the-Middle",
         "marker": {
          "color": "#00cc96",
          "pattern": {
           "shape": ""
          }
         },
         "name": "Man-in-the-Middle",
         "orientation": "v",
         "showlegend": false,
         "textposition": "auto",
         "type": "bar",
         "x": [
          "Man-in-the-Middle"
         ],
         "xaxis": "x",
         "y": {
          "bdata": "Og==",
          "dtype": "i1"
         },
         "yaxis": "y"
        },
        {
         "hovertemplate": "Attack Type=%{x}<br>Target Industry=IT<br>Count=%{y}<extra></extra>",
         "legendgroup": "Man-in-the-Middle",
         "marker": {
          "color": "#00cc96",
          "pattern": {
           "shape": ""
          }
         },
         "name": "Man-in-the-Middle",
         "orientation": "v",
         "showlegend": false,
         "textposition": "auto",
         "type": "bar",
         "x": [
          "Man-in-the-Middle"
         ],
         "xaxis": "x2",
         "y": {
          "bdata": "UA==",
          "dtype": "i1"
         },
         "yaxis": "y2"
        },
        {
         "hovertemplate": "Attack Type=%{x}<br>Target Industry=Retail<br>Count=%{y}<extra></extra>",
         "legendgroup": "Man-in-the-Middle",
         "marker": {
          "color": "#00cc96",
          "pattern": {
           "shape": ""
          }
         },
         "name": "Man-in-the-Middle",
         "orientation": "v",
         "showlegend": false,
         "textposition": "auto",
         "type": "bar",
         "x": [
          "Man-in-the-Middle"
         ],
         "xaxis": "x3",
         "y": {
          "bdata": "Rg==",
          "dtype": "i1"
         },
         "yaxis": "y3"
        },
        {
         "hovertemplate": "Attack Type=%{x}<br>Target Industry=Banking<br>Count=%{y}<extra></extra>",
         "legendgroup": "Phishing",
         "marker": {
          "color": "#ab63fa",
          "pattern": {
           "shape": ""
          }
         },
         "name": "Phishing",
         "orientation": "v",
         "showlegend": true,
         "textposition": "auto",
         "type": "bar",
         "x": [
          "Phishing"
         ],
         "xaxis": "x4",
         "y": {
          "bdata": "YA==",
          "dtype": "i1"
         },
         "yaxis": "y4"
        },
        {
         "hovertemplate": "Attack Type=%{x}<br>Target Industry=Education<br>Count=%{y}<extra></extra>",
         "legendgroup": "Phishing",
         "marker": {
          "color": "#ab63fa",
          "pattern": {
           "shape": ""
          }
         },
         "name": "Phishing",
         "orientation": "v",
         "showlegend": false,
         "textposition": "auto",
         "type": "bar",
         "x": [
          "Phishing"
         ],
         "xaxis": "x5",
         "y": {
          "bdata": "SQ==",
          "dtype": "i1"
         },
         "yaxis": "y5"
        },
        {
         "hovertemplate": "Attack Type=%{x}<br>Target Industry=Government<br>Count=%{y}<extra></extra>",
         "legendgroup": "Phishing",
         "marker": {
          "color": "#ab63fa",
          "pattern": {
           "shape": ""
          }
         },
         "name": "Phishing",
         "orientation": "v",
         "showlegend": false,
         "textposition": "auto",
         "type": "bar",
         "x": [
          "Phishing"
         ],
         "xaxis": "x6",
         "y": {
          "bdata": "RA==",
          "dtype": "i1"
         },
         "yaxis": "y6"
        },
        {
         "hovertemplate": "Attack Type=%{x}<br>Target Industry=Healthcare<br>Count=%{y}<extra></extra>",
         "legendgroup": "Phishing",
         "marker": {
          "color": "#ab63fa",
          "pattern": {
           "shape": ""
          }
         },
         "name": "Phishing",
         "orientation": "v",
         "showlegend": false,
         "textposition": "auto",
         "type": "bar",
         "x": [
          "Phishing"
         ],
         "xaxis": "x",
         "y": {
          "bdata": "Pw==",
          "dtype": "i1"
         },
         "yaxis": "y"
        },
        {
         "hovertemplate": "Attack Type=%{x}<br>Target Industry=IT<br>Count=%{y}<extra></extra>",
         "legendgroup": "Phishing",
         "marker": {
          "color": "#ab63fa",
          "pattern": {
           "shape": ""
          }
         },
         "name": "Phishing",
         "orientation": "v",
         "showlegend": false,
         "textposition": "auto",
         "type": "bar",
         "x": [
          "Phishing"
         ],
         "xaxis": "x2",
         "y": {
          "bdata": "WQ==",
          "dtype": "i1"
         },
         "yaxis": "y2"
        },
        {
         "hovertemplate": "Attack Type=%{x}<br>Target Industry=Retail<br>Count=%{y}<extra></extra>",
         "legendgroup": "Phishing",
         "marker": {
          "color": "#ab63fa",
          "pattern": {
           "shape": ""
          }
         },
         "name": "Phishing",
         "orientation": "v",
         "showlegend": false,
         "textposition": "auto",
         "type": "bar",
         "x": [
          "Phishing"
         ],
         "xaxis": "x3",
         "y": {
          "bdata": "WQ==",
          "dtype": "i1"
         },
         "yaxis": "y3"
        },
        {
         "hovertemplate": "Attack Type=%{x}<br>Target Industry=Banking<br>Count=%{y}<extra></extra>",
         "legendgroup": "Ransomware",
         "marker": {
          "color": "#FFA15A",
          "pattern": {
           "shape": ""
          }
         },
         "name": "Ransomware",
         "orientation": "v",
         "showlegend": true,
         "textposition": "auto",
         "type": "bar",
         "x": [
          "Ransomware"
         ],
         "xaxis": "x4",
         "y": {
          "bdata": "RQ==",
          "dtype": "i1"
         },
         "yaxis": "y4"
        },
        {
         "hovertemplate": "Attack Type=%{x}<br>Target Industry=Education<br>Count=%{y}<extra></extra>",
         "legendgroup": "Ransomware",
         "marker": {
          "color": "#FFA15A",
          "pattern": {
           "shape": ""
          }
         },
         "name": "Ransomware",
         "orientation": "v",
         "showlegend": false,
         "textposition": "auto",
         "type": "bar",
         "x": [
          "Ransomware"
         ],
         "xaxis": "x5",
         "y": {
          "bdata": "Rw==",
          "dtype": "i1"
         },
         "yaxis": "y5"
        },
        {
         "hovertemplate": "Attack Type=%{x}<br>Target Industry=Government<br>Count=%{y}<extra></extra>",
         "legendgroup": "Ransomware",
         "marker": {
          "color": "#FFA15A",
          "pattern": {
           "shape": ""
          }
         },
         "name": "Ransomware",
         "orientation": "v",
         "showlegend": false,
         "textposition": "auto",
         "type": "bar",
         "x": [
          "Ransomware"
         ],
         "xaxis": "x6",
         "y": {
          "bdata": "SA==",
          "dtype": "i1"
         },
         "yaxis": "y6"
        },
        {
         "hovertemplate": "Attack Type=%{x}<br>Target Industry=Healthcare<br>Count=%{y}<extra></extra>",
         "legendgroup": "Ransomware",
         "marker": {
          "color": "#FFA15A",
          "pattern": {
           "shape": ""
          }
         },
         "name": "Ransomware",
         "orientation": "v",
         "showlegend": false,
         "textposition": "auto",
         "type": "bar",
         "x": [
          "Ransomware"
         ],
         "xaxis": "x",
         "y": {
          "bdata": "TQ==",
          "dtype": "i1"
         },
         "yaxis": "y"
        },
        {
         "hovertemplate": "Attack Type=%{x}<br>Target Industry=IT<br>Count=%{y}<extra></extra>",
         "legendgroup": "Ransomware",
         "marker": {
          "color": "#FFA15A",
          "pattern": {
           "shape": ""
          }
         },
         "name": "Ransomware",
         "orientation": "v",
         "showlegend": false,
         "textposition": "auto",
         "type": "bar",
         "x": [
          "Ransomware"
         ],
         "xaxis": "x2",
         "y": {
          "bdata": "Sg==",
          "dtype": "i1"
         },
         "yaxis": "y2"
        },
        {
         "hovertemplate": "Attack Type=%{x}<br>Target Industry=Retail<br>Count=%{y}<extra></extra>",
         "legendgroup": "Ransomware",
         "marker": {
          "color": "#FFA15A",
          "pattern": {
           "shape": ""
          }
         },
         "name": "Ransomware",
         "orientation": "v",
         "showlegend": false,
         "textposition": "auto",
         "type": "bar",
         "x": [
          "Ransomware"
         ],
         "xaxis": "x3",
         "y": {
          "bdata": "Rw==",
          "dtype": "i1"
         },
         "yaxis": "y3"
        },
        {
         "hovertemplate": "Attack Type=%{x}<br>Target Industry=Banking<br>Count=%{y}<extra></extra>",
         "legendgroup": "SQL Injection",
         "marker": {
          "color": "#19d3f3",
          "pattern": {
           "shape": ""
          }
         },
         "name": "SQL Injection",
         "orientation": "v",
         "showlegend": true,
         "textposition": "auto",
         "type": "bar",
         "x": [
          "SQL Injection"
         ],
         "xaxis": "x4",
         "y": {
          "bdata": "Rw==",
          "dtype": "i1"
         },
         "yaxis": "y4"
        },
        {
         "hovertemplate": "Attack Type=%{x}<br>Target Industry=Education<br>Count=%{y}<extra></extra>",
         "legendgroup": "SQL Injection",
         "marker": {
          "color": "#19d3f3",
          "pattern": {
           "shape": ""
          }
         },
         "name": "SQL Injection",
         "orientation": "v",
         "showlegend": false,
         "textposition": "auto",
         "type": "bar",
         "x": [
          "SQL Injection"
         ],
         "xaxis": "x5",
         "y": {
          "bdata": "Qw==",
          "dtype": "i1"
         },
         "yaxis": "y5"
        },
        {
         "hovertemplate": "Attack Type=%{x}<br>Target Industry=Government<br>Count=%{y}<extra></extra>",
         "legendgroup": "SQL Injection",
         "marker": {
          "color": "#19d3f3",
          "pattern": {
           "shape": ""
          }
         },
         "name": "SQL Injection",
         "orientation": "v",
         "showlegend": false,
         "textposition": "auto",
         "type": "bar",
         "x": [
          "SQL Injection"
         ],
         "xaxis": "x6",
         "y": {
          "bdata": "Sw==",
          "dtype": "i1"
         },
         "yaxis": "y6"
        },
        {
         "hovertemplate": "Attack Type=%{x}<br>Target Industry=Healthcare<br>Count=%{y}<extra></extra>",
         "legendgroup": "SQL Injection",
         "marker": {
          "color": "#19d3f3",
          "pattern": {
           "shape": ""
          }
         },
         "name": "SQL Injection",
         "orientation": "v",
         "showlegend": false,
         "textposition": "auto",
         "type": "bar",
         "x": [
          "SQL Injection"
         ],
         "xaxis": "x",
         "y": {
          "bdata": "SA==",
          "dtype": "i1"
         },
         "yaxis": "y"
        },
        {
         "hovertemplate": "Attack Type=%{x}<br>Target Industry=IT<br>Count=%{y}<extra></extra>",
         "legendgroup": "SQL Injection",
         "marker": {
          "color": "#19d3f3",
          "pattern": {
           "shape": ""
          }
         },
         "name": "SQL Injection",
         "orientation": "v",
         "showlegend": false,
         "textposition": "auto",
         "type": "bar",
         "x": [
          "SQL Injection"
         ],
         "xaxis": "x2",
         "y": {
          "bdata": "TQ==",
          "dtype": "i1"
         },
         "yaxis": "y2"
        },
        {
         "hovertemplate": "Attack Type=%{x}<br>Target Industry=Retail<br>Count=%{y}<extra></extra>",
         "legendgroup": "SQL Injection",
         "marker": {
          "color": "#19d3f3",
          "pattern": {
           "shape": ""
          }
         },
         "name": "SQL Injection",
         "orientation": "v",
         "showlegend": false,
         "textposition": "auto",
         "type": "bar",
         "x": [
          "SQL Injection"
         ],
         "xaxis": "x3",
         "y": {
          "bdata": "Pw==",
          "dtype": "i1"
         },
         "yaxis": "y3"
        }
       ],
       "layout": {
        "annotations": [
         {
          "font": {
           "color": "white",
           "family": "Segoe UI",
           "size": 22
          },
          "showarrow": false,
          "text": "Healthcare",
          "x": 0.1433333333333333,
          "xanchor": "center",
          "xref": "paper",
          "y": 0.415,
          "yanchor": "bottom",
          "yref": "paper"
         },
         {
          "font": {
           "color": "white",
           "family": "Segoe UI",
           "size": 22
          },
          "showarrow": false,
          "text": "IT",
          "x": 0.5,
          "xanchor": "center",
          "xref": "paper",
          "y": 0.415,
          "yanchor": "bottom",
          "yref": "paper"
         },
         {
          "font": {
           "color": "white",
           "family": "Segoe UI",
           "size": 22
          },
          "showarrow": false,
          "text": "Retail",
          "x": 0.8566666666666666,
          "xanchor": "center",
          "xref": "paper",
          "y": 0.415,
          "yanchor": "bottom",
          "yref": "paper"
         },
         {
          "font": {
           "color": "white",
           "family": "Segoe UI",
           "size": 22
          },
          "showarrow": false,
          "text": "Banking",
          "x": 0.1433333333333333,
          "xanchor": "center",
          "xref": "paper",
          "y": 1,
          "yanchor": "bottom",
          "yref": "paper"
         },
         {
          "font": {
           "color": "white",
           "family": "Segoe UI",
           "size": 22
          },
          "showarrow": false,
          "text": "Education",
          "x": 0.5,
          "xanchor": "center",
          "xref": "paper",
          "y": 1,
          "yanchor": "bottom",
          "yref": "paper"
         },
         {
          "font": {
           "color": "white",
           "family": "Segoe UI",
           "size": 22
          },
          "showarrow": false,
          "text": "Government",
          "x": 0.8566666666666666,
          "xanchor": "center",
          "xref": "paper",
          "y": 1,
          "yanchor": "bottom",
          "yref": "paper"
         }
        ],
        "barmode": "relative",
        "font": {
         "color": "white",
         "family": "Segoe UI",
         "size": 22
        },
        "height": 1000,
        "legend": {
         "font": {
          "color": "white",
          "family": "Segoe UI",
          "size": 20
         },
         "title": {
          "text": "Attack Type"
         },
         "tracegroupgap": 0
        },
        "margin": {
         "t": 60
        },
        "paper_bgcolor": "#050b18",
        "plot_bgcolor": "#050b18",
        "template": {
         "data": {
          "bar": [
           {
            "error_x": {
             "color": "#f2f5fa"
            },
            "error_y": {
             "color": "#f2f5fa"
            },
            "marker": {
             "line": {
              "color": "rgb(17,17,17)",
              "width": 0.5
             },
             "pattern": {
              "fillmode": "overlay",
              "size": 10,
              "solidity": 0.2
             }
            },
            "type": "bar"
           }
          ],
          "barpolar": [
           {
            "marker": {
             "line": {
              "color": "rgb(17,17,17)",
              "width": 0.5
             },
             "pattern": {
              "fillmode": "overlay",
              "size": 10,
              "solidity": 0.2
             }
            },
            "type": "barpolar"
           }
          ],
          "carpet": [
           {
            "aaxis": {
             "endlinecolor": "#A2B1C6",
             "gridcolor": "#506784",
             "linecolor": "#506784",
             "minorgridcolor": "#506784",
             "startlinecolor": "#A2B1C6"
            },
            "baxis": {
             "endlinecolor": "#A2B1C6",
             "gridcolor": "#506784",
             "linecolor": "#506784",
             "minorgridcolor": "#506784",
             "startlinecolor": "#A2B1C6"
            },
            "type": "carpet"
           }
          ],
          "choropleth": [
           {
            "colorbar": {
             "outlinewidth": 0,
             "ticks": ""
            },
            "type": "choropleth"
           }
          ],
          "contour": [
           {
            "colorbar": {
             "outlinewidth": 0,
             "ticks": ""
            },
            "colorscale": [
             [
              0,
              "#0d0887"
             ],
             [
              0.1111111111111111,
              "#46039f"
             ],
             [
              0.2222222222222222,
              "#7201a8"
             ],
             [
              0.3333333333333333,
              "#9c179e"
             ],
             [
              0.4444444444444444,
              "#bd3786"
             ],
             [
              0.5555555555555556,
              "#d8576b"
             ],
             [
              0.6666666666666666,
              "#ed7953"
             ],
             [
              0.7777777777777778,
              "#fb9f3a"
             ],
             [
              0.8888888888888888,
              "#fdca26"
             ],
             [
              1,
              "#f0f921"
             ]
            ],
            "type": "contour"
           }
          ],
          "contourcarpet": [
           {
            "colorbar": {
             "outlinewidth": 0,
             "ticks": ""
            },
            "type": "contourcarpet"
           }
          ],
          "heatmap": [
           {
            "colorbar": {
             "outlinewidth": 0,
             "ticks": ""
            },
            "colorscale": [
             [
              0,
              "#0d0887"
             ],
             [
              0.1111111111111111,
              "#46039f"
             ],
             [
              0.2222222222222222,
              "#7201a8"
             ],
             [
              0.3333333333333333,
              "#9c179e"
             ],
             [
              0.4444444444444444,
              "#bd3786"
             ],
             [
              0.5555555555555556,
              "#d8576b"
             ],
             [
              0.6666666666666666,
              "#ed7953"
             ],
             [
              0.7777777777777778,
              "#fb9f3a"
             ],
             [
              0.8888888888888888,
              "#fdca26"
             ],
             [
              1,
              "#f0f921"
             ]
            ],
            "type": "heatmap"
           }
          ],
          "histogram": [
           {
            "marker": {
             "pattern": {
              "fillmode": "overlay",
              "size": 10,
              "solidity": 0.2
             }
            },
            "type": "histogram"
           }
          ],
          "histogram2d": [
           {
            "colorbar": {
             "outlinewidth": 0,
             "ticks": ""
            },
            "colorscale": [
             [
              0,
              "#0d0887"
             ],
             [
              0.1111111111111111,
              "#46039f"
             ],
             [
              0.2222222222222222,
              "#7201a8"
             ],
             [
              0.3333333333333333,
              "#9c179e"
             ],
             [
              0.4444444444444444,
              "#bd3786"
             ],
             [
              0.5555555555555556,
              "#d8576b"
             ],
             [
              0.6666666666666666,
              "#ed7953"
             ],
             [
              0.7777777777777778,
              "#fb9f3a"
             ],
             [
              0.8888888888888888,
              "#fdca26"
             ],
             [
              1,
              "#f0f921"
             ]
            ],
            "type": "histogram2d"
           }
          ],
          "histogram2dcontour": [
           {
            "colorbar": {
             "outlinewidth": 0,
             "ticks": ""
            },
            "colorscale": [
             [
              0,
              "#0d0887"
             ],
             [
              0.1111111111111111,
              "#46039f"
             ],
             [
              0.2222222222222222,
              "#7201a8"
             ],
             [
              0.3333333333333333,
              "#9c179e"
             ],
             [
              0.4444444444444444,
              "#bd3786"
             ],
             [
              0.5555555555555556,
              "#d8576b"
             ],
             [
              0.6666666666666666,
              "#ed7953"
             ],
             [
              0.7777777777777778,
              "#fb9f3a"
             ],
             [
              0.8888888888888888,
              "#fdca26"
             ],
             [
              1,
              "#f0f921"
             ]
            ],
            "type": "histogram2dcontour"
           }
          ],
          "mesh3d": [
           {
            "colorbar": {
             "outlinewidth": 0,
             "ticks": ""
            },
            "type": "mesh3d"
           }
          ],
          "parcoords": [
           {
            "line": {
             "colorbar": {
              "outlinewidth": 0,
              "ticks": ""
             }
            },
            "type": "parcoords"
           }
          ],
          "pie": [
           {
            "automargin": true,
            "type": "pie"
           }
          ],
          "scatter": [
           {
            "marker": {
             "line": {
              "color": "#283442"
             }
            },
            "type": "scatter"
           }
          ],
          "scatter3d": [
           {
            "line": {
             "colorbar": {
              "outlinewidth": 0,
              "ticks": ""
             }
            },
            "marker": {
             "colorbar": {
              "outlinewidth": 0,
              "ticks": ""
             }
            },
            "type": "scatter3d"
           }
          ],
          "scattercarpet": [
           {
            "marker": {
             "colorbar": {
              "outlinewidth": 0,
              "ticks": ""
             }
            },
            "type": "scattercarpet"
           }
          ],
          "scattergeo": [
           {
            "marker": {
             "colorbar": {
              "outlinewidth": 0,
              "ticks": ""
             }
            },
            "type": "scattergeo"
           }
          ],
          "scattergl": [
           {
            "marker": {
             "line": {
              "color": "#283442"
             }
            },
            "type": "scattergl"
           }
          ],
          "scattermap": [
           {
            "marker": {
             "colorbar": {
              "outlinewidth": 0,
              "ticks": ""
             }
            },
            "type": "scattermap"
           }
          ],
          "scattermapbox": [
           {
            "marker": {
             "colorbar": {
              "outlinewidth": 0,
              "ticks": ""
             }
            },
            "type": "scattermapbox"
           }
          ],
          "scatterpolar": [
           {
            "marker": {
             "colorbar": {
              "outlinewidth": 0,
              "ticks": ""
             }
            },
            "type": "scatterpolar"
           }
          ],
          "scatterpolargl": [
           {
            "marker": {
             "colorbar": {
              "outlinewidth": 0,
              "ticks": ""
             }
            },
            "type": "scatterpolargl"
           }
          ],
          "scatterternary": [
           {
            "marker": {
             "colorbar": {
              "outlinewidth": 0,
              "ticks": ""
             }
            },
            "type": "scatterternary"
           }
          ],
          "surface": [
           {
            "colorbar": {
             "outlinewidth": 0,
             "ticks": ""
            },
            "colorscale": [
             [
              0,
              "#0d0887"
             ],
             [
              0.1111111111111111,
              "#46039f"
             ],
             [
              0.2222222222222222,
              "#7201a8"
             ],
             [
              0.3333333333333333,
              "#9c179e"
             ],
             [
              0.4444444444444444,
              "#bd3786"
             ],
             [
              0.5555555555555556,
              "#d8576b"
             ],
             [
              0.6666666666666666,
              "#ed7953"
             ],
             [
              0.7777777777777778,
              "#fb9f3a"
             ],
             [
              0.8888888888888888,
              "#fdca26"
             ],
             [
              1,
              "#f0f921"
             ]
            ],
            "type": "surface"
           }
          ],
          "table": [
           {
            "cells": {
             "fill": {
              "color": "#506784"
             },
             "line": {
              "color": "rgb(17,17,17)"
             }
            },
            "header": {
             "fill": {
              "color": "#2a3f5f"
             },
             "line": {
              "color": "rgb(17,17,17)"
             }
            },
            "type": "table"
           }
          ]
         },
         "layout": {
          "annotationdefaults": {
           "arrowcolor": "#f2f5fa",
           "arrowhead": 0,
           "arrowwidth": 1
          },
          "autotypenumbers": "strict",
          "coloraxis": {
           "colorbar": {
            "outlinewidth": 0,
            "ticks": ""
           }
          },
          "colorscale": {
           "diverging": [
            [
             0,
             "#8e0152"
            ],
            [
             0.1,
             "#c51b7d"
            ],
            [
             0.2,
             "#de77ae"
            ],
            [
             0.3,
             "#f1b6da"
            ],
            [
             0.4,
             "#fde0ef"
            ],
            [
             0.5,
             "#f7f7f7"
            ],
            [
             0.6,
             "#e6f5d0"
            ],
            [
             0.7,
             "#b8e186"
            ],
            [
             0.8,
             "#7fbc41"
            ],
            [
             0.9,
             "#4d9221"
            ],
            [
             1,
             "#276419"
            ]
           ],
           "sequential": [
            [
             0,
             "#0d0887"
            ],
            [
             0.1111111111111111,
             "#46039f"
            ],
            [
             0.2222222222222222,
             "#7201a8"
            ],
            [
             0.3333333333333333,
             "#9c179e"
            ],
            [
             0.4444444444444444,
             "#bd3786"
            ],
            [
             0.5555555555555556,
             "#d8576b"
            ],
            [
             0.6666666666666666,
             "#ed7953"
            ],
            [
             0.7777777777777778,
             "#fb9f3a"
            ],
            [
             0.8888888888888888,
             "#fdca26"
            ],
            [
             1,
             "#f0f921"
            ]
           ],
           "sequentialminus": [
            [
             0,
             "#0d0887"
            ],
            [
             0.1111111111111111,
             "#46039f"
            ],
            [
             0.2222222222222222,
             "#7201a8"
            ],
            [
             0.3333333333333333,
             "#9c179e"
            ],
            [
             0.4444444444444444,
             "#bd3786"
            ],
            [
             0.5555555555555556,
             "#d8576b"
            ],
            [
             0.6666666666666666,
             "#ed7953"
            ],
            [
             0.7777777777777778,
             "#fb9f3a"
            ],
            [
             0.8888888888888888,
             "#fdca26"
            ],
            [
             1,
             "#f0f921"
            ]
           ]
          },
          "colorway": [
           "#636efa",
           "#EF553B",
           "#00cc96",
           "#ab63fa",
           "#FFA15A",
           "#19d3f3",
           "#FF6692",
           "#B6E880",
           "#FF97FF",
           "#FECB52"
          ],
          "font": {
           "color": "#f2f5fa"
          },
          "geo": {
           "bgcolor": "rgb(17,17,17)",
           "lakecolor": "rgb(17,17,17)",
           "landcolor": "rgb(17,17,17)",
           "showlakes": true,
           "showland": true,
           "subunitcolor": "#506784"
          },
          "hoverlabel": {
           "align": "left"
          },
          "hovermode": "closest",
          "mapbox": {
           "style": "dark"
          },
          "paper_bgcolor": "rgb(17,17,17)",
          "plot_bgcolor": "rgb(17,17,17)",
          "polar": {
           "angularaxis": {
            "gridcolor": "#506784",
            "linecolor": "#506784",
            "ticks": ""
           },
           "bgcolor": "rgb(17,17,17)",
           "radialaxis": {
            "gridcolor": "#506784",
            "linecolor": "#506784",
            "ticks": ""
           }
          },
          "scene": {
           "xaxis": {
            "backgroundcolor": "rgb(17,17,17)",
            "gridcolor": "#506784",
            "gridwidth": 2,
            "linecolor": "#506784",
            "showbackground": true,
            "ticks": "",
            "zerolinecolor": "#C8D4E3"
           },
           "yaxis": {
            "backgroundcolor": "rgb(17,17,17)",
            "gridcolor": "#506784",
            "gridwidth": 2,
            "linecolor": "#506784",
            "showbackground": true,
            "ticks": "",
            "zerolinecolor": "#C8D4E3"
           },
           "zaxis": {
            "backgroundcolor": "rgb(17,17,17)",
            "gridcolor": "#506784",
            "gridwidth": 2,
            "linecolor": "#506784",
            "showbackground": true,
            "ticks": "",
            "zerolinecolor": "#C8D4E3"
           }
          },
          "shapedefaults": {
           "line": {
            "color": "#f2f5fa"
           }
          },
          "sliderdefaults": {
           "bgcolor": "#C8D4E3",
           "bordercolor": "rgb(17,17,17)",
           "borderwidth": 1,
           "tickwidth": 0
          },
          "ternary": {
           "aaxis": {
            "gridcolor": "#506784",
            "linecolor": "#506784",
            "ticks": ""
           },
           "baxis": {
            "gridcolor": "#506784",
            "linecolor": "#506784",
            "ticks": ""
           },
           "bgcolor": "rgb(17,17,17)",
           "caxis": {
            "gridcolor": "#506784",
            "linecolor": "#506784",
            "ticks": ""
           }
          },
          "title": {
           "x": 0.05
          },
          "updatemenudefaults": {
           "bgcolor": "#506784",
           "borderwidth": 0
          },
          "xaxis": {
           "automargin": true,
           "gridcolor": "#283442",
           "linecolor": "#506784",
           "ticks": "",
           "title": {
            "standoff": 15
           },
           "zerolinecolor": "#283442",
           "zerolinewidth": 2
          },
          "yaxis": {
           "automargin": true,
           "gridcolor": "#283442",
           "linecolor": "#506784",
           "ticks": "",
           "title": {
            "standoff": 15
           },
           "zerolinecolor": "#283442",
           "zerolinewidth": 2
          }
         }
        },
        "width": 1800,
        "xaxis": {
         "anchor": "y",
         "categoryarray": [
          "DDoS",
          "Malware",
          "Man-in-the-Middle",
          "Phishing",
          "Ransomware",
          "SQL Injection"
         ],
         "categoryorder": "array",
         "domain": [
          0,
          0.2866666666666666
         ],
         "showticklabels": false,
         "title": {}
        },
        "xaxis2": {
         "anchor": "y2",
         "categoryarray": [
          "DDoS",
          "Malware",
          "Man-in-the-Middle",
          "Phishing",
          "Ransomware",
          "SQL Injection"
         ],
         "categoryorder": "array",
         "domain": [
          0.35666666666666663,
          0.6433333333333333
         ],
         "matches": "x",
         "showticklabels": false,
         "title": {}
        },
        "xaxis3": {
         "anchor": "y3",
         "categoryarray": [
          "DDoS",
          "Malware",
          "Man-in-the-Middle",
          "Phishing",
          "Ransomware",
          "SQL Injection"
         ],
         "categoryorder": "array",
         "domain": [
          0.7133333333333333,
          0.9999999999999999
         ],
         "matches": "x",
         "showticklabels": false,
         "title": {}
        },
        "xaxis4": {
         "anchor": "y4",
         "domain": [
          0,
          0.2866666666666666
         ],
         "matches": "x",
         "showticklabels": false,
         "title": {}
        },
        "xaxis5": {
         "anchor": "y5",
         "domain": [
          0.35666666666666663,
          0.6433333333333333
         ],
         "matches": "x",
         "showticklabels": false,
         "title": {}
        },
        "xaxis6": {
         "anchor": "y6",
         "domain": [
          0.7133333333333333,
          0.9999999999999999
         ],
         "matches": "x",
         "showticklabels": false,
         "title": {}
        },
        "yaxis": {
         "anchor": "x",
         "domain": [
          0,
          0.415
         ],
         "showticklabels": true,
         "title": {}
        },
        "yaxis2": {
         "anchor": "x2",
         "domain": [
          0,
          0.415
         ],
         "matches": "y",
         "showticklabels": true,
         "title": {}
        },
        "yaxis3": {
         "anchor": "x3",
         "domain": [
          0,
          0.415
         ],
         "matches": "y",
         "showticklabels": true,
         "title": {}
        },
        "yaxis4": {
         "anchor": "x4",
         "domain": [
          0.585,
          1
         ],
         "matches": "y",
         "showticklabels": true,
         "title": {}
        },
        "yaxis5": {
         "anchor": "x5",
         "domain": [
          0.585,
          1
         ],
         "matches": "y",
         "showticklabels": true,
         "title": {}
        },
        "yaxis6": {
         "anchor": "x6",
         "domain": [
          0.585,
          1
         ],
         "matches": "y",
         "showticklabels": true,
         "title": {}
        }
       }
      }
     },
     "metadata": {},
     "output_type": "display_data"
    }
   ],
   "source": [
    "import plotly.express as px\n",
    "# rimozione del settore \"Telecommunications\"\n",
    "df = df[df['Target Industry'] != 'Telecommunications']\n",
    "# raggruppamento per settore e attacco\n",
    "grouped = (\n",
    "    df.groupby(['Target Industry', 'Attack Type'])\n",
    "    .size()\n",
    "    .reset_index(name='Count')\n",
    ")\n",
    "# grafico a barre\n",
    "fig = px.bar(\n",
    "    grouped,\n",
    "    x=\"Attack Type\",\n",
    "    y=\"Count\",\n",
    "    color=\"Attack Type\",\n",
    "    facet_col=\"Target Industry\",\n",
    "    facet_col_wrap=3,\n",
    "    facet_col_spacing=0.07,\n",
    "    facet_row_spacing=0.17,\n",
    "    title=\"\",\n",
    "    template=\"plotly_dark\"\n",
    ")\n",
    "fig.update_layout(\n",
    "    paper_bgcolor='#050b18',\n",
    "    plot_bgcolor='#050b18',\n",
    "    height=1000,\n",
    "    width=1800,\n",
    "    font=dict(family='Segoe UI', color='white', size=22),\n",
    "    legend=dict(\n",
    "        font=dict(family='Segoe UI', size=20, color='white')\n",
    "    )\n",
    ")\n",
    "\n",
    "# aggiornamento dei titoli dei facet \n",
    "fig.for_each_annotation(lambda a: a.update(\n",
    "    text=a.text.split(\"=\")[-1],\n",
    "    font=dict(family='Segoe UI', size=22, color='white')\n",
    "))\n",
    "# rimpzione titoli e tick delle assi X e Y\n",
    "fig.update_xaxes(\n",
    "    showticklabels=False,\n",
    "    title=None\n",
    ")\n",
    "fig.update_yaxes(\n",
    "    showticklabels=True,  \n",
    "    title=None\n",
    ")\n",
    "fig.show()"
   ]
  },
  {
   "cell_type": "markdown",
   "id": "13cdde9c",
   "metadata": {},
   "source": [
    "### Tipo di Attacco Dominante per Anno \n",
    "\n",
    "Questo grafico mette in evidenza, per ciascun anno tra il 2015 e il 2024, **la tipologia di attacco informatico che ha registrato il maggior numero di incidenti** a livello globale. Ogni barra rappresenta un anno, e mostra:\n",
    "\n",
    "- **Il numero totale di incidenti** legati al tipo di attacco più frequente in quell'anno.\n",
    "- Il **nome dell’attacco dominante** visualizzato come etichetta sopra ogni barra.\n",
    "\n",
    "\n",
    "\n"
   ]
  },
  {
   "cell_type": "code",
   "execution_count": 59,
   "id": "2460ebd6",
   "metadata": {},
   "outputs": [
    {
     "data": {
      "application/vnd.plotly.v1+json": {
       "config": {
        "plotlyServerURL": "https://plot.ly"
       },
       "data": [
        {
         "cliponaxis": false,
         "hovertemplate": "Attack Type=%{text}<br>Year=%{x}<br>Incident Count=%{y}<extra></extra>",
         "legendgroup": "Malware",
         "marker": {
          "color": "#636EFA",
          "pattern": {
           "shape": ""
          }
         },
         "name": "Malware",
         "orientation": "v",
         "showlegend": true,
         "text": [
          "Malware",
          "Malware",
          "Malware"
         ],
         "textfont": {
          "color": "white",
          "family": "Segoe UI",
          "size": 28
         },
         "textposition": "outside",
         "type": "bar",
         "x": {
          "bdata": "3wfmB+cH",
          "dtype": "i2"
         },
         "xaxis": "x",
         "y": {
          "bdata": "LTYw",
          "dtype": "i1"
         },
         "yaxis": "y"
        },
        {
         "cliponaxis": false,
         "hovertemplate": "Attack Type=%{text}<br>Year=%{x}<br>Incident Count=%{y}<extra></extra>",
         "legendgroup": "Phishing",
         "marker": {
          "color": "#EF553B",
          "pattern": {
           "shape": ""
          }
         },
         "name": "Phishing",
         "orientation": "v",
         "showlegend": true,
         "text": [
          "Phishing",
          "Phishing",
          "Phishing",
          "Phishing",
          "Phishing"
         ],
         "textfont": {
          "color": "white",
          "family": "Segoe UI",
          "size": 28
         },
         "textposition": "outside",
         "type": "bar",
         "x": {
          "bdata": "4AfhB+MH5AfoBw==",
          "dtype": "i2"
         },
         "xaxis": "x",
         "y": {
          "bdata": "MzsoOTY=",
          "dtype": "i1"
         },
         "yaxis": "y"
        },
        {
         "cliponaxis": false,
         "hovertemplate": "Attack Type=%{text}<br>Year=%{x}<br>Incident Count=%{y}<extra></extra>",
         "legendgroup": "SQL Injection",
         "marker": {
          "color": "#00CC96",
          "pattern": {
           "shape": ""
          }
         },
         "name": "SQL Injection",
         "orientation": "v",
         "showlegend": true,
         "text": [
          "SQL Injection"
         ],
         "textfont": {
          "color": "white",
          "family": "Segoe UI",
          "size": 28
         },
         "textposition": "outside",
         "type": "bar",
         "x": {
          "bdata": "4gc=",
          "dtype": "i2"
         },
         "xaxis": "x",
         "y": {
          "bdata": "Mw==",
          "dtype": "i1"
         },
         "yaxis": "y"
        },
        {
         "cliponaxis": false,
         "hovertemplate": "Attack Type=%{text}<br>Year=%{x}<br>Incident Count=%{y}<extra></extra>",
         "legendgroup": "Ransomware",
         "marker": {
          "color": "#AB63FA",
          "pattern": {
           "shape": ""
          }
         },
         "name": "Ransomware",
         "orientation": "v",
         "showlegend": true,
         "text": [
          "Ransomware"
         ],
         "textfont": {
          "color": "white",
          "family": "Segoe UI",
          "size": 28
         },
         "textposition": "outside",
         "type": "bar",
         "x": {
          "bdata": "5Qc=",
          "dtype": "i2"
         },
         "xaxis": "x",
         "y": {
          "bdata": "MA==",
          "dtype": "i1"
         },
         "yaxis": "y"
        }
       ],
       "layout": {
        "barmode": "relative",
        "font": {
         "color": "white",
         "family": "Segoe UI",
         "size": 30
        },
        "height": 550,
        "legend": {
         "font": {
          "color": "white",
          "family": "Segoe UI",
          "size": 26
         },
         "title": {
          "text": ""
         },
         "tracegroupgap": 0
        },
        "margin": {
         "t": 60
        },
        "paper_bgcolor": "#050b18",
        "plot_bgcolor": "#050b18",
        "template": {
         "data": {
          "bar": [
           {
            "error_x": {
             "color": "#2a3f5f"
            },
            "error_y": {
             "color": "#2a3f5f"
            },
            "marker": {
             "line": {
              "color": "#E5ECF6",
              "width": 0.5
             },
             "pattern": {
              "fillmode": "overlay",
              "size": 10,
              "solidity": 0.2
             }
            },
            "type": "bar"
           }
          ],
          "barpolar": [
           {
            "marker": {
             "line": {
              "color": "#E5ECF6",
              "width": 0.5
             },
             "pattern": {
              "fillmode": "overlay",
              "size": 10,
              "solidity": 0.2
             }
            },
            "type": "barpolar"
           }
          ],
          "carpet": [
           {
            "aaxis": {
             "endlinecolor": "#2a3f5f",
             "gridcolor": "white",
             "linecolor": "white",
             "minorgridcolor": "white",
             "startlinecolor": "#2a3f5f"
            },
            "baxis": {
             "endlinecolor": "#2a3f5f",
             "gridcolor": "white",
             "linecolor": "white",
             "minorgridcolor": "white",
             "startlinecolor": "#2a3f5f"
            },
            "type": "carpet"
           }
          ],
          "choropleth": [
           {
            "colorbar": {
             "outlinewidth": 0,
             "ticks": ""
            },
            "type": "choropleth"
           }
          ],
          "contour": [
           {
            "colorbar": {
             "outlinewidth": 0,
             "ticks": ""
            },
            "colorscale": [
             [
              0,
              "#0d0887"
             ],
             [
              0.1111111111111111,
              "#46039f"
             ],
             [
              0.2222222222222222,
              "#7201a8"
             ],
             [
              0.3333333333333333,
              "#9c179e"
             ],
             [
              0.4444444444444444,
              "#bd3786"
             ],
             [
              0.5555555555555556,
              "#d8576b"
             ],
             [
              0.6666666666666666,
              "#ed7953"
             ],
             [
              0.7777777777777778,
              "#fb9f3a"
             ],
             [
              0.8888888888888888,
              "#fdca26"
             ],
             [
              1,
              "#f0f921"
             ]
            ],
            "type": "contour"
           }
          ],
          "contourcarpet": [
           {
            "colorbar": {
             "outlinewidth": 0,
             "ticks": ""
            },
            "type": "contourcarpet"
           }
          ],
          "heatmap": [
           {
            "colorbar": {
             "outlinewidth": 0,
             "ticks": ""
            },
            "colorscale": [
             [
              0,
              "#0d0887"
             ],
             [
              0.1111111111111111,
              "#46039f"
             ],
             [
              0.2222222222222222,
              "#7201a8"
             ],
             [
              0.3333333333333333,
              "#9c179e"
             ],
             [
              0.4444444444444444,
              "#bd3786"
             ],
             [
              0.5555555555555556,
              "#d8576b"
             ],
             [
              0.6666666666666666,
              "#ed7953"
             ],
             [
              0.7777777777777778,
              "#fb9f3a"
             ],
             [
              0.8888888888888888,
              "#fdca26"
             ],
             [
              1,
              "#f0f921"
             ]
            ],
            "type": "heatmap"
           }
          ],
          "histogram": [
           {
            "marker": {
             "pattern": {
              "fillmode": "overlay",
              "size": 10,
              "solidity": 0.2
             }
            },
            "type": "histogram"
           }
          ],
          "histogram2d": [
           {
            "colorbar": {
             "outlinewidth": 0,
             "ticks": ""
            },
            "colorscale": [
             [
              0,
              "#0d0887"
             ],
             [
              0.1111111111111111,
              "#46039f"
             ],
             [
              0.2222222222222222,
              "#7201a8"
             ],
             [
              0.3333333333333333,
              "#9c179e"
             ],
             [
              0.4444444444444444,
              "#bd3786"
             ],
             [
              0.5555555555555556,
              "#d8576b"
             ],
             [
              0.6666666666666666,
              "#ed7953"
             ],
             [
              0.7777777777777778,
              "#fb9f3a"
             ],
             [
              0.8888888888888888,
              "#fdca26"
             ],
             [
              1,
              "#f0f921"
             ]
            ],
            "type": "histogram2d"
           }
          ],
          "histogram2dcontour": [
           {
            "colorbar": {
             "outlinewidth": 0,
             "ticks": ""
            },
            "colorscale": [
             [
              0,
              "#0d0887"
             ],
             [
              0.1111111111111111,
              "#46039f"
             ],
             [
              0.2222222222222222,
              "#7201a8"
             ],
             [
              0.3333333333333333,
              "#9c179e"
             ],
             [
              0.4444444444444444,
              "#bd3786"
             ],
             [
              0.5555555555555556,
              "#d8576b"
             ],
             [
              0.6666666666666666,
              "#ed7953"
             ],
             [
              0.7777777777777778,
              "#fb9f3a"
             ],
             [
              0.8888888888888888,
              "#fdca26"
             ],
             [
              1,
              "#f0f921"
             ]
            ],
            "type": "histogram2dcontour"
           }
          ],
          "mesh3d": [
           {
            "colorbar": {
             "outlinewidth": 0,
             "ticks": ""
            },
            "type": "mesh3d"
           }
          ],
          "parcoords": [
           {
            "line": {
             "colorbar": {
              "outlinewidth": 0,
              "ticks": ""
             }
            },
            "type": "parcoords"
           }
          ],
          "pie": [
           {
            "automargin": true,
            "type": "pie"
           }
          ],
          "scatter": [
           {
            "fillpattern": {
             "fillmode": "overlay",
             "size": 10,
             "solidity": 0.2
            },
            "type": "scatter"
           }
          ],
          "scatter3d": [
           {
            "line": {
             "colorbar": {
              "outlinewidth": 0,
              "ticks": ""
             }
            },
            "marker": {
             "colorbar": {
              "outlinewidth": 0,
              "ticks": ""
             }
            },
            "type": "scatter3d"
           }
          ],
          "scattercarpet": [
           {
            "marker": {
             "colorbar": {
              "outlinewidth": 0,
              "ticks": ""
             }
            },
            "type": "scattercarpet"
           }
          ],
          "scattergeo": [
           {
            "marker": {
             "colorbar": {
              "outlinewidth": 0,
              "ticks": ""
             }
            },
            "type": "scattergeo"
           }
          ],
          "scattergl": [
           {
            "marker": {
             "colorbar": {
              "outlinewidth": 0,
              "ticks": ""
             }
            },
            "type": "scattergl"
           }
          ],
          "scattermap": [
           {
            "marker": {
             "colorbar": {
              "outlinewidth": 0,
              "ticks": ""
             }
            },
            "type": "scattermap"
           }
          ],
          "scattermapbox": [
           {
            "marker": {
             "colorbar": {
              "outlinewidth": 0,
              "ticks": ""
             }
            },
            "type": "scattermapbox"
           }
          ],
          "scatterpolar": [
           {
            "marker": {
             "colorbar": {
              "outlinewidth": 0,
              "ticks": ""
             }
            },
            "type": "scatterpolar"
           }
          ],
          "scatterpolargl": [
           {
            "marker": {
             "colorbar": {
              "outlinewidth": 0,
              "ticks": ""
             }
            },
            "type": "scatterpolargl"
           }
          ],
          "scatterternary": [
           {
            "marker": {
             "colorbar": {
              "outlinewidth": 0,
              "ticks": ""
             }
            },
            "type": "scatterternary"
           }
          ],
          "surface": [
           {
            "colorbar": {
             "outlinewidth": 0,
             "ticks": ""
            },
            "colorscale": [
             [
              0,
              "#0d0887"
             ],
             [
              0.1111111111111111,
              "#46039f"
             ],
             [
              0.2222222222222222,
              "#7201a8"
             ],
             [
              0.3333333333333333,
              "#9c179e"
             ],
             [
              0.4444444444444444,
              "#bd3786"
             ],
             [
              0.5555555555555556,
              "#d8576b"
             ],
             [
              0.6666666666666666,
              "#ed7953"
             ],
             [
              0.7777777777777778,
              "#fb9f3a"
             ],
             [
              0.8888888888888888,
              "#fdca26"
             ],
             [
              1,
              "#f0f921"
             ]
            ],
            "type": "surface"
           }
          ],
          "table": [
           {
            "cells": {
             "fill": {
              "color": "#EBF0F8"
             },
             "line": {
              "color": "white"
             }
            },
            "header": {
             "fill": {
              "color": "#C8D4E3"
             },
             "line": {
              "color": "white"
             }
            },
            "type": "table"
           }
          ]
         },
         "layout": {
          "annotationdefaults": {
           "arrowcolor": "#2a3f5f",
           "arrowhead": 0,
           "arrowwidth": 1
          },
          "autotypenumbers": "strict",
          "coloraxis": {
           "colorbar": {
            "outlinewidth": 0,
            "ticks": ""
           }
          },
          "colorscale": {
           "diverging": [
            [
             0,
             "#8e0152"
            ],
            [
             0.1,
             "#c51b7d"
            ],
            [
             0.2,
             "#de77ae"
            ],
            [
             0.3,
             "#f1b6da"
            ],
            [
             0.4,
             "#fde0ef"
            ],
            [
             0.5,
             "#f7f7f7"
            ],
            [
             0.6,
             "#e6f5d0"
            ],
            [
             0.7,
             "#b8e186"
            ],
            [
             0.8,
             "#7fbc41"
            ],
            [
             0.9,
             "#4d9221"
            ],
            [
             1,
             "#276419"
            ]
           ],
           "sequential": [
            [
             0,
             "#0d0887"
            ],
            [
             0.1111111111111111,
             "#46039f"
            ],
            [
             0.2222222222222222,
             "#7201a8"
            ],
            [
             0.3333333333333333,
             "#9c179e"
            ],
            [
             0.4444444444444444,
             "#bd3786"
            ],
            [
             0.5555555555555556,
             "#d8576b"
            ],
            [
             0.6666666666666666,
             "#ed7953"
            ],
            [
             0.7777777777777778,
             "#fb9f3a"
            ],
            [
             0.8888888888888888,
             "#fdca26"
            ],
            [
             1,
             "#f0f921"
            ]
           ],
           "sequentialminus": [
            [
             0,
             "#0d0887"
            ],
            [
             0.1111111111111111,
             "#46039f"
            ],
            [
             0.2222222222222222,
             "#7201a8"
            ],
            [
             0.3333333333333333,
             "#9c179e"
            ],
            [
             0.4444444444444444,
             "#bd3786"
            ],
            [
             0.5555555555555556,
             "#d8576b"
            ],
            [
             0.6666666666666666,
             "#ed7953"
            ],
            [
             0.7777777777777778,
             "#fb9f3a"
            ],
            [
             0.8888888888888888,
             "#fdca26"
            ],
            [
             1,
             "#f0f921"
            ]
           ]
          },
          "colorway": [
           "#636efa",
           "#EF553B",
           "#00cc96",
           "#ab63fa",
           "#FFA15A",
           "#19d3f3",
           "#FF6692",
           "#B6E880",
           "#FF97FF",
           "#FECB52"
          ],
          "font": {
           "color": "#2a3f5f"
          },
          "geo": {
           "bgcolor": "white",
           "lakecolor": "white",
           "landcolor": "#E5ECF6",
           "showlakes": true,
           "showland": true,
           "subunitcolor": "white"
          },
          "hoverlabel": {
           "align": "left"
          },
          "hovermode": "closest",
          "mapbox": {
           "style": "light"
          },
          "paper_bgcolor": "white",
          "plot_bgcolor": "#E5ECF6",
          "polar": {
           "angularaxis": {
            "gridcolor": "white",
            "linecolor": "white",
            "ticks": ""
           },
           "bgcolor": "#E5ECF6",
           "radialaxis": {
            "gridcolor": "white",
            "linecolor": "white",
            "ticks": ""
           }
          },
          "scene": {
           "xaxis": {
            "backgroundcolor": "#E5ECF6",
            "gridcolor": "white",
            "gridwidth": 2,
            "linecolor": "white",
            "showbackground": true,
            "ticks": "",
            "zerolinecolor": "white"
           },
           "yaxis": {
            "backgroundcolor": "#E5ECF6",
            "gridcolor": "white",
            "gridwidth": 2,
            "linecolor": "white",
            "showbackground": true,
            "ticks": "",
            "zerolinecolor": "white"
           },
           "zaxis": {
            "backgroundcolor": "#E5ECF6",
            "gridcolor": "white",
            "gridwidth": 2,
            "linecolor": "white",
            "showbackground": true,
            "ticks": "",
            "zerolinecolor": "white"
           }
          },
          "shapedefaults": {
           "line": {
            "color": "#2a3f5f"
           }
          },
          "ternary": {
           "aaxis": {
            "gridcolor": "white",
            "linecolor": "white",
            "ticks": ""
           },
           "baxis": {
            "gridcolor": "white",
            "linecolor": "white",
            "ticks": ""
           },
           "bgcolor": "#E5ECF6",
           "caxis": {
            "gridcolor": "white",
            "linecolor": "white",
            "ticks": ""
           }
          },
          "title": {
           "x": 0.05
          },
          "xaxis": {
           "automargin": true,
           "gridcolor": "white",
           "linecolor": "white",
           "ticks": "",
           "title": {
            "standoff": 15
           },
           "zerolinecolor": "white",
           "zerolinewidth": 2
          },
          "yaxis": {
           "automargin": true,
           "gridcolor": "white",
           "linecolor": "white",
           "ticks": "",
           "title": {
            "standoff": 15
           },
           "zerolinecolor": "white",
           "zerolinewidth": 2
          }
         }
        },
        "title": {},
        "width": 1780,
        "xaxis": {
         "anchor": "y",
         "domain": [
          0,
          1
         ],
         "showticklabels": true,
         "tickmode": "array",
         "ticktext": [
          "2015",
          "2016",
          "2017",
          "2018",
          "2019",
          "2020",
          "2021",
          "2022",
          "2023",
          "2024"
         ],
         "tickvals": {
          "bdata": "3wfgB+EH4gfjB+QH5QfmB+cH6Ac=",
          "dtype": "i2"
         },
         "title": {}
        },
        "yaxis": {
         "anchor": "x",
         "domain": [
          0,
          1
         ],
         "gridcolor": "rgba(255,255,255,0.15)",
         "gridwidth": 1,
         "showgrid": true,
         "tickfont": {
          "color": "white",
          "family": "Segoe UI",
          "size": 28
         },
         "title": {
          "font": {
           "color": "white",
           "family": "Segoe UI",
           "size": 32
          },
          "text": "Numero di incidenti"
         },
         "zeroline": false
        }
       }
      }
     },
     "metadata": {},
     "output_type": "display_data"
    }
   ],
   "source": [
    "# estrazione top Attack Type per ogni anno\n",
    "top_attack_per_year = (\n",
    "    df.groupby([\"Year\", \"Attack Type\"])\n",
    "      .size()\n",
    "      .reset_index(name=\"Incident Count\")\n",
    "      .sort_values([\"Year\", \"Incident Count\"], ascending=[True, False])\n",
    "      .drop_duplicates(subset=\"Year\", keep=\"first\")\n",
    "      .sort_values(\"Year\")\n",
    ")\n",
    "# colori in base ai tipi di attacco\n",
    "attack_types = top_attack_per_year[\"Attack Type\"].unique().tolist()\n",
    "custom_colors = {\n",
    "    attack_types[i]: px.colors.qualitative.Plotly[i % len(px.colors.qualitative.Plotly)]\n",
    "    for i in range(len(attack_types))\n",
    "}\n",
    "#grafico a barre\n",
    "\n",
    "fig = px.bar(\n",
    "    top_attack_per_year,\n",
    "    x=\"Year\",\n",
    "    y=\"Incident Count\",\n",
    "    color=\"Attack Type\",\n",
    "    text=\"Attack Type\",\n",
    "    color_discrete_map=custom_colors  # qui usiamo i colori personalizzati\n",
    ")\n",
    "fig.update_traces(\n",
    "    textposition='outside',\n",
    "    textfont=dict(size=28, family='Segoe UI', color='white')\n",
    ")\n",
    "fig.update_layout(\n",
    "    width=1780,    \n",
    "    height=550,   \n",
    "    paper_bgcolor='#050b18',\n",
    "    plot_bgcolor='#050b18',\n",
    "    font=dict(family='Segoe UI', color='white', size=30),\n",
    "\n",
    "    xaxis=dict(\n",
    "        title=None,\n",
    "        showticklabels=True,  # mostra tutti gli anni\n",
    "        tickmode='array',\n",
    "        tickvals=top_attack_per_year[\"Year\"],\n",
    "        ticktext=top_attack_per_year[\"Year\"].astype(str)\n",
    "    ),\n",
    "    yaxis=dict(\n",
    "        title=dict(text='Numero di incidenti', font=dict(family='Segoe UI', size=32, color='white')),\n",
    "        tickfont=dict(family='Segoe UI', size=28, color='white'),\n",
    "        showgrid=True, gridcolor='rgba(255,255,255,0.15)', gridwidth=1, zeroline=False\n",
    "    ),\n",
    "    legend=dict(title='', font=dict(family='Segoe UI', size=26, color='white')),\n",
    "    title=None\n",
    ")\n",
    "fig.update_traces(\n",
    "    textposition='outside',\n",
    "    textfont=dict(size=28, family='Segoe UI', color='white'),\n",
    "    cliponaxis=False\n",
    ")\n",
    "fig.show()\n"
   ]
  }
 ],
 "metadata": {
  "kernelspec": {
   "display_name": "Python 3",
   "language": "python",
   "name": "python3"
  },
  "language_info": {
   "codemirror_mode": {
    "name": "ipython",
    "version": 3
   },
   "file_extension": ".py",
   "mimetype": "text/x-python",
   "name": "python",
   "nbconvert_exporter": "python",
   "pygments_lexer": "ipython3",
   "version": "3.12.10"
  }
 },
 "nbformat": 4,
 "nbformat_minor": 5
}
