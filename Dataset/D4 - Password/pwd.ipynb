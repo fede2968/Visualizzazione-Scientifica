{
 "cells": [
  {
   "cell_type": "code",
   "execution_count": null,
   "id": "adbcb43b",
   "metadata": {},
   "outputs": [
    {
     "data": {
      "application/vnd.plotly.v1+json": {
       "config": {
        "plotlyServerURL": "https://plot.ly"
       },
       "data": [
        {
         "bingroup": "x",
         "hovertemplate": "length=%{x}<br>count=%{y}<extra></extra>",
         "legendgroup": "",
         "marker": {
          "color": "deepskyblue",
          "opacity": 0.85,
          "pattern": {
           "shape": ""
          }
         },
         "name": "",
         "nbinsx": 20,
         "orientation": "v",
         "showlegend": false,
         "type": "histogram",
         "x": {
          "bdata": "BggIBgkFBAYHBgYNBggGBwYGBgYKBgcKBwYFCAgHBgYGBgYGCAYIBwYGBgYGBgYGCAgGBAcGBgYGBggHBgYHCAgHBgQGBggGBwYEBAYGBgYIBgYGBgQGBAYHBgcGBwkGBgcGBgcIBQYHBgcGBwgGBgYGCAcGBAYKBwgHBgUGBgcIBgYHCAYHBgYIBwYEBgYHBgYHBwYGCAYIBgcGBwYGBgYHBgYGCQcGBgcIBgYIBgYGBgcGBgUHBgYGBgcGBgQGBggHBwYHBgcGBgYGBgYGBgYGCAYGBwYGBgcHBQYIBgYHBgUGBQYGBggHCAcGBgcGBgcIBgUGBwYIBwgHCAgGBgYHBwcGBgUGBwYHBwcEBgcIBgYIBgQFBAYHBgUGBgcGBggIBQgGBgQHBgYFCAgJBgYGCQYICQYEBAUICAcHBwYEBAYGCAgJBAYHBgYGBgYIBgcHBgcGBAkGBggGBwYGCAYHBwYHBgYGBAYIBgcGBwcGCAYIBwoGBwYIBQYECAQHBgcGBAYHBgYIBgYGBAUGBgYIBgYIBAgGBQoIBwYFBwYGBgYFBgYFBggEBwgHBgQHBggIBggEBggEBgYIBQYGBgUGBAYGBggGBAYGBQgEBAgGCAYIBwYGCAgFBAUJBwYGCAYIBQYFCAYGBwYHBgcGBgYGBwgGBwcIBAgHBwYGBggGBwcECAkICAYHBwcGBgYGCAYHBAgGCAYGBwcGCQYIBAYGBwUGBgYGBggHBwkGBgcFCAUGCAYEBgcGBggECAYHBgYGBwYEBwgGBAgIBgYGBggFBgUHBgoHBgQHBgYECAcGBggGBgUECQgGCAcEBQcGCAcHBgYGBgYGBgcIBggGBggGBgQIBQYEBgYFBgYHBgQEBwcIBgQFBggHBggGBQUGBQQKBgUGBwgIBAYGBggEBwcIBgYGBAYGBggICAUKBwYGCgcIBwcLBgYHBAcHBQQHBQUIBggHBwcGCAcGBwYGBAcIBAYIBgYEBgcFBgcIBAgHBwcIBgYGCAYGCQUGBwcIBggEBwYEBggFBQYHBggGCAgGCAgHBggIBAgFBgUGCAYIBgYFBwQHBAcIBgYGBAcFBgYHBQcHBgYIBgYFBwYGBwQIBgcIBwUHCAgHBQQEBwYGBgYHBgYGBgYEBwUGCAcGBwcIBgYHBggICAcFCAcGBgkHCAcFBwUICAYGBgYECAgGCAcGCAYGBwYGBgQGBgYGBgcGBgYGCQoHBgYEBwYIBQgFBggJBgUECAYGBgcICAYGBgYGCAkFBAcGBgQGBwQGBQcGBQgIBAcHBgYIBwYIBgUGBgkECAcGCgcEBgYFBgUEBwYECAcGCAYIBgcJBwYGBwYGBQYGBgQHBwgIBAoFBAYHBwgGCAYEBgcIBwUGBwcHBgYIBgcECAcFBggGBwgEBAgECQYGCAYIBggGBgYGCAYGBgYHBggICAUIBwsFBAYFBwYIBgYGBQUGBAYHBgQFBggFBQYIBgcHCggGCAYHCAcIBwcIBAYIBQYHBgYICAYEBQgGCAYGBgYEBgYGBgYIBQgEBwcFBgYGBgYGBQYHBgYGCQcICAcGBQYGBwYIBgYHCAYIBAcFBwcEBgQIBQcGBQcGCAgEBQcGCAcGBwQGCwYFBgUGBQcIBgcGCAYHBwcIBQcFBgYGDAcGBAcIBwYGBgcGBggHBQUGBgYGCQUHBwcGBgYGBgYGBgQHCAYGBgYHBgYGBwYGBgUHCAQGCAYFCQcGBgYHBgUGBggHBgYJBwcGCQUHBwgFBQgIBAYHCAgFBgYFBQcGBggGCAUHBwYEBwgHBgUHBgYGBggGBggHBwcHBwYGBggICAgGBgcHBgYFBQUHBgYICAcJCAgGCwgFBgYGBgYFBQYHCAYICAQHBQYGCAgGBgYGBgYGCAYGCAcHBwcICAUKBggIBgYFBAYGBwYGBgYIBgYHBgYGBgcIBgcGCAcIBgYGBQUEBAYGBQwHBgUGBggIBQoHCAcGBgYHBQYIBwgHBgYGCAYGBwYIBgUHBgcHBgcHCAYGCAYGCAYHBQYHBgUGCAcIBggGBgQJBwYGBQgGBggHBgcFBwUHBgYHBgQJCAUFBgcGBgYFBgQGBggIBgcHCAYFBgcHCQYGBgQGBgYGBwMIBgcIBgYGBwgGBggGBQYIBgYGBQYIBwYJCAQGBAgHBwYFBQUGBwUHBgYGBwgFBgYIBgYGBgYGBggHBgcGBwYFBAYIBggGBwcMBgUFBQgGBgkHBgYGBgYIBwYGBwYFBwYGCAYIBQUGBQcFBgcGBQcGBwgGBwcIBgYHBwYGCAYJBAYGBgUIBwYIBgYFBAYGBggIBAcGCAoHBgQFBwgHBwgGBgcGBwQGBwYGBgcHCAYFCAcGBgcGBAUHBAYGBAUICAUFCAYGBgYHBQgGBwgJBQYIBwYHBgYHCAcIBQgHCAgJBgcGBgYGBAYIBwYGBgUECAgGCAUGBQUIBggGCAYGBwQIBQcGBwgIBggFBwYFCAgHBgQGBQcHBggGBwUGCAQIBwYHBgcHBggGBgcIBgUFCAYGBgcGBQYHBgYGBgUGBwYECAQHBgYGBwcIBgcGCAcIBggGCQYGCAYHBQYGCAcGBwYFBgYFBggEBggGBgYFCAYIBQgGBggHBggICAUHBwUIBgcGBAYGBgkHBgYHBgcHBgcEBgYIBwYGBQgHCAQEBwYGBQYIBwYGBwYHBgYEDAQGBwgGBwYHBgcGBwcIBAUGBgUIBgcGBgYGBgQGBwgFBgcHBgUGBAkGBwgGCAsGBgYGBwcJBgYHCAcGBQUEBwUIBggHBwcHCAYHBwYGBwYHBAcIBAcFBQQHBwYGBwYFBgQJCQcGCAcGBwcHCAgHCAYEBgcGBgkEBQQHBwkKBgUHBQgGBwYIBwgGCAQGBgcGCAUGBggGBAcHBAcIBQgIBgYGBAYFBgYHBAYFBQcGCAgIBgYHCAUPBwgGBwYGBgUGCAgHBggFBwYGBgYFCAYHBgYHBgcGCQcHBgcHCQkGBgYGBAYGBQgFBgYGBgYIBggIBAgHBwUHBwcHBQgFBQYGBAcGBggGBwYGBwYECAYGCAYGBgYFBQcGBwcFBwQICAcIBggHCAYGBAUGCgYGBAYEBgUICAQFCAgHBgcGBgQHBggGBgYEBAYGBgcGBggICAYIBgcGCQQGCAcIBwYIBwYIBwcFBQYICAYGBggLBwgGBgQEBwYIBgcFCAYGBgYICAUEBgYICAcGCAYIBQYGBQQHBQcGBwcGBwgGBQYICAgHCAYHBggGBwcHBwYGBAgHCAcGCAYHBgYJBQgGBggHBgQHCAYGBAYHBQgGBwUJBwgGBwgEBQYIBgUEBgYGBgYGBgUHBgUFCAcGBgYMBAgICQYEBgUGBgcFBggFCAUEBgcGCAcGBgUGBggLCAYHBwYHCAgHBwcIBgYFCAYHCAYGCAgHBQcGCQYGBwgIBggICAcGBwYIBgYGBgYIBQYGBQgGBgYECAgGBggGBggFBwYIBgYMBgcFCAYGBgQIBQgGBgYGBgYFBAUGCwgJBQYIBQcJBAkGBQgGBgYGBggHBgYHCAcHBggFBgYGCAYGBgcGBgYHCAQFBQgFBAgEBwcIBAgHCAYHBgcECAcGCAYICgUHBwYICAYGBAQGBQYHBwgGCAUIBQgGBgYFBwgGBQYIBAYFBwcGCAgHBgYGBgYHDAYEBgYGCAYFBQgGBgYIBgcGCAQGCAYGBQYEBggGBgUIBQgHBwcJCAgIBgUGBwYFBgQICAcHBwYHCQgIBgcGBgQFBgcIBAgGCgQGBgYHBgUGBgcGBAYGBgYGCAYIBgcFBgUHCAgGCgcGBQYICAYGBgUGBggGBgcICAYHBAgFBgUHBQgHBggGBgcIBQgGBQkHBgYFCAcGBwcIBQcGBggGBwUICAYGCgQGCQYGBgYIBwYIBAYIBwYIBgYICAYIBggGCQgGBQcICAgECAYGCAQGCAYICAYHCAQFBQYHCAYHCAYHBgcHBQoFBwcIBwgHBgYGBwcEBgYFBgYICAYGBggGCAoGBgcHBgYICAQIBgcIBgcGBAQHBQcICAcGBwYGBgYFCAUEBQcGBAcIBQYFBgYICAQIBAYHBwYGCQgGBAgGBwkFBgYGBggGCAYHBwcGCAgIBQYEBggGCQcJCAQHCAYGBwYGBwYGBQcGBgUFBggECAQHBgYGBAUGBggHBgYHBgYGCAgGBQQJBggFBwcGBAcKBggIBggGBgYHBgUGCgQICAcFCAcHBwcIBQgHBQYGBgYIBAYFBggIBgYGBQgGBwYIBgQGBgYEBwYICAgHBgcHBgYIBAYIBggHBgQEBggGCAYGBgUICAQGBgoGCAcHBwgIBgQGBQcHBgYIBwYHCAYIBgUIBwYGCAYGCAYGBAQJCAUIBQcIBQYHBwgEBgcGBgYGBgUIBQUGBgcGCAUICAgGCAYIBggHBAUHCAYIBgUGBgcFBQcGCAgEBAYJCQYHBgYNBgkGBgYFCAgHBwYECAQGBgYGCAYFBgYGBQYGBgYICAYGBwcIBwQFBgYHBgYHCAYGBgcGBwYICAYHCAUHBAcFBgUECAUJBgYEBAgFBgYGBwYGBgYGCAYHBwgGBwgHBwcFBgcGBgYGBAYEBgcICAQHBggHBwYJCAYEBwYFBwQGCAYGBgYHBgYGBwYGBwYEBwYGBgYJBAcIBQgGBggGBggEBwgICAYJBwgGBAcGBwYFBgcICQYGBggGBQYIBgUGBAYIBwYHBwYFBgcGCAcEBgkEBgkGBAYGBwgHBAYECAUIBwgECAgGBgkICAYGBggHBwYIBgYGCAcGBgcGBgQIBgYEBgYIBwYHBggGBwgFBAQJBgYKBggGCAcGCAUFBAYGCAcGBgYHBgcEBgcGCQYGBQYFBwcFBwUHBwgHBgYGCAYGBggIBwcGBwcEBgUEBgcHBgcHBwYEBAgIBwUIBwQHCAgIBgYIBwcFBQYICAYHCAcEBgUICQcFBwQGBwcGBgQIBAcGBQYFCAYGBgYGCAYGBgcGBwcIBgYHBQgKBgoHBAcIBgUIBAcGCAcGBgcHBAgGBgUGCAcGCAgGBgoGBwYHBgQIBwYGBAcGBwgFCAgHCQcIBwgECAcIBgYGCAgEBgcIBQYIBgcHBwgHBgQGBgYGCAYGCAYHBgYEBAgJBgYFCAcGCwYICAQGBgcHBQYIBwQHBwYHBgUGBggIBgYHBggFCAQFCQcEBAQHBgYGCAcFBgQIBwYIBQYGCAUHBQgHBgQGBgYGBgcGBwgGBgcICQQHBAgIBgYGBAcGBAgGBAgIBgcGBgQGBggIBwYKBgYHBgcIBwUHCAQGBgQGBgcECAgECAYHBgYIBwcIBwcIBgYGBQYHBQUIBAYICAgIBgcIBAcIBgYGBgcFBgYHBwQJBQgEBgYGBgcEBgYHBgYGBAcIBgQHBwcKBAgGCAgJBgcGBgUHBgcIBQUFBgYKBgQHBgkECAYECAYFBwQGCQgGBwUFBQYGCAcGBgYICQQIBwYEBQgICAgFCAcGBgcICAYICAgGBwgGBwgFBQgGCAgGBQYIBAgHBgUICAUEBQgFBAUGBQYGBwUIBwYGBAgHBgUJBgYFBgYGBwgFBgcGCAcHCAYGBgYGCAUGBQkLBwgKBgcJCgUHBwYEBgYFBwgIBgUGBggIBQYHBwQHCQkGBgcIBwYGCAYGBAgIBAgJBgUEBgQHBgYECggGBQcGCAgGBwYEBwcGBQYFBwcECAUGCAUHBwQECQYGBQYHBAQGBQYHBwkHBQYIBQwFBwYFBgUGCAgGBgQGBgYGBQcHBgcIBgYHBgYHBgYGBgQICAUICAQFBQYIBggFBwYGBAcDBQkFBwYGBgcEBgYHBgkIBgQHBAgFBgYHCAgIBQYGCQYGBQgIBAUGBwcJBgUGBQYHBAUIBwQIBAgIBQgICAcEBwQFCAUGBgQIBwcHBAkICAgIBgYEBwYIBgUJBQYGBgcEBAYHCAgIBgUGBgcGBgQICAgGCQUIBggGCAYGBgYHBgcHBwYEBgcMBAQIBQQGCAcGBwgGBwYJBgQIBwYHBQYGBgQGBgYHBgYEBgcECAgFBwkJBwcIBgcHBggFBAcHCgYIBgYEBgQHBQUGBgQEBAkEBAcHBAUGBwYGBAYIBwQHBQQHBAUIBQgIBwcICgcECAgEBAgIBAQIBwYIBgYHBQQFBggIBAYGBwYIBAUFBgcGBgUECAcFBgUIBgcGCAUIBgYICAgICAQGBgQGBgYEBAgKCAUGBQYIBQYFBAQFBwgGBgYGCQcHBwYGBwQFCQgGBgQECQgICAgGBAkKBgcIBQYICAYEBwYGBwQGBwQHDAgGCAQHBAcIBwYKCAYFBgUHBgcIBgYGBggEBAQECAgFBAQEBwcIBwcGBgYIBgoEEAcHBgkGBgYHBwYGBgUFBwUHBgUIBAYGCAQHBAYICAcEBggHCAYGBwYGCgYHBggICAYFBAUHCAgEBAQICAgICAYFBQQGBAQHBgQHBAcHBggIBwQGCAcEBgQGBQcHBwYGBgUGCAoEBwcICAgICAQFBgYGBgQFCAcGBwgGBgUICQUGCwUFBgQFBwcGBgQGBwUMBwUEBgUIBwYGBQgIBwoGBggIBAYGCAkGBgYGCAgHBggHCAgEBgcHBgcGBgQHBQgGBQYEBQYEBgcGBggGBgYECAgGBwQGBAcHBgcICAYGCAQHBwQJBggGBgkGBAgIBgsGCAgICAYGBggHBAYFBwYEBQUFBAQGBAQEBggHCAcHCAYFBwcGBgYGCAQIBggHBgQHCAgGBAYECAgICAQFBwQGCQgJBwUHBAgFBAYHBgUGBgYHCAYHBgoEBgcFBgYGBgcFCAcEBgYIBgcIBwYGBgUIBQYGBwQHCAgFCAgGBgQIBAcIBQYGBAYHBAcGBgUIBwcIBwkFBwcHCAcEBQgHBgUHBAQGCAUGDAcIBwYHCAUHBwcHBgcHCAUIBgUGBgUHBAQGCAgKCAgICAgECgYHBQgHCQgFBgYFBAUIBQYGBQYEBwgGCAQFBAYGBAYFBAYICAgEBQcHBwgIBwcEBQQFCAQIBwgEBgYHBgcICQgFBgUECAQICAgICAQFBQgIBwQEBgYICAcFBwYGBQgGBwYGBwgIBgYJCAcHBAgFBQgGBwcGBgYGBgYIBgQFBAgICAgIBggEBggGBgcGBgYGBggFBwYIBQcECAgICAQGBQQHBgUHBAUEBQYGBAgHCAgIBgYIBwYIBgYGBAQFBggGBgQIBgQEBwgEBQYGBgQICAcFBggIBwYHBAcGCAgGCAgEBQgHBgUHCAcGCAcGCAYHBAYFBAQICAcIBggEBgcICAYGCQYICAcHCAUGBgUHBwYICAgIBgQJBggGBwYHBQYHBwYIBAUGCAcEBQgGBgQFCAgHBAYIBAQGBwgIBwYIBwcHBggIBgkGBgcGBwgGCAcJBAUEBAYEBggICAcEBgQICAUGCQkHCgYGBwYGCAYHCAgFBgkIBQQGBgYFBAQHBAYECAUICAcEBAgEBgcGBwYFBQYEBgQIBwUGBwYHBwQEBgYFBwYFBgYGBgYGBggJCAgICQYKCAYHBgUGBgYFCAcGCAcGCAgIBgcHBgQJBgcGBgcFCAgECAYIBgcEBgYIBgYEBggGBQcGCAgGCAcIBgcGBwYIBwUIBwcGCAYGBAgGBgcFBQoGBwQGCAYGBAcEBwgICAYGCwYGBgcHBwYHBgYGBQcJBgcIBwYGBggGBggMBQgGBgkGBwgEBwcHBwQGCAgHBgYHBggICAgFBgYHBgcGBwcGBgcHBgcFBgYGBggIBgQJCAYEBAgICAgICAUFCAkHBgYGBAYIBQgGCAYECAYGBwYGBwgHBAYIBwcGBgYHCAgGBQUGCAkHBgUGCAYIBgQICAUIBAYHCAYGBgcGBQcFBggECQUGCAgICAgIBwYHCAUJBQgEBgYIBwgGCAcGBQYJBgcHCAcFBgUIBgcGCAgIBggHBgQJBAYIBgQECAgICAoGBwQIBgYGBQcHCAgGCAYGCAYGBQYHBggECAYEBwgICAgICAYECAYHBgcGBQYHBQYFBgkGCAUGBQgICAUHBwQHBwYGBgYIBgcKBgYHBggJBwYHBgYFCAYGBgQGBwUIBgcHBgYFBgcGBwYGBgYGCQYIBAgIBggICAgICAgECAYEBwgHBAcHBwUICAYHBgcHBwUEBwYHBgYHBQQGBQcGBAcICAcIBggGBgUHBgYFBwgFBgYFBwcEBwcFBgcHBgoGBggECAYHBAYICAgICAgIBgYICAUIBwYICAYHBgUGBgYGBwcGBAgGBgcGBwQHBwYICAYGBwQGBwYICQgGBgYJCAcGBwsIBwYFBwUFBggEBAcHBAYHBgQGBAcGBQYGCAcGBgcEBgQICAgICAYKBgQHBwYIBAYFBgYHBgcHCAUFCQYIBAgICAgHBgcEBgYHCgYFBQgGBgcICAgFBwUFCAYHCAYHBgcHCAgJBAcGBwUGBwcHBgcGCAgECAYICAgEBggJCAYICAgICAgIBwgICAgICAgIBggIBgYGBQgHBgYIBQYGCAYGBgcHBgcIBgYICAYGBwgFBwgIBgYFBAcHCAQHBgUHBgUIBgYECAgHCAcGBggGCAgIBgUGCAYKBwsKBgYGCAgIBAgGBAoEBAQICAgICAgICAQGCAQGBgYIBwkHBwgLBgYIBggFBwcHBQgIBgcEBwcHBwYGBwcGBgYGBwcIBwUEBgUJBggGBQYGBwcGBQwGCAcICAcFCQcGBQQGBgcHBwgHBwcGCAUEBgYIBwYHCAgGBwUECAgICAgECAgECAgGCQgGCAgICAgICAgFCAYIBwkGBQcEBQYHBwYFBwcJBgUKBgUGBAYGCAgFBgQICAgIBwYGBQQIBwYGBwYIBwYIBwcGBggHBgYGBgYECAgICAQICAgICAgICAgICAgICAgICAcGBAcGBwgIBggGBgQGBwgICQUIBQUIBQcIBgUGBgYHBgcHBwkHBwYGCAgFBgYHBgYGBwUFCAcIBwYICgkGCAgICAgICAgIBQgICAgGCAQICAgECAYICAgICAgICAgICAcMCAgFBgcHBwYICAgGBwcGBwYHBQkIBAcHBQoICAUHCQkFBAcHBgkIBwcGBgQGBgUHBwcGBgQGBgYJCAcHCAUHBAUFCAcGBQgHBwcFBwgIBgcFBwcGCAcHBwUGBgYGBwYECAQIBgYICAgIBAgICAgICAgICAcECAgIBAQICAgICAgICAgICAgICAgGBQgGCAgHCAYHBgYIBwcIBAYHBwcIBggIBgcGBwYHBwcICAgIBwYGBgUGBQYHCAQIBAcGBQYFBwYGBgYFBQUHBggIBQgFBQgFBgYICAcIBgkIBgYICAYHBwYIBAYICAgGBgYGBggICAYICAgICAgICAgIBggIBwgECAgICAgIBggGBAgHBQkIBgUGBgUIBQYGBgUGBgUGBQkGBwULBgYGBggGCAcHBgYFBwYGBQYGBggHBwkFBAcFCAgIBAUIBgcFBwgIBwcGBwcICAcHBggECAgGBgYGBgYHBAYGCAgICAgICAgECAgICAgICAYIBggECAQICAgICAgICAgGCAgGCAYFCQcIBAYIBggICAcJBgYIBQcFBgcGBgcIBwYGCAQIBwQICAcGBAgIBgUFBgQHBQgHCAQKBgYEBwcGBgQHCQkHCQYHBgcIBAYFCAUGBgcIBwgGBgYHBgcHCAgHBgcHCAYICAgICAgICAQICAgICAgICAgGCAgIBggICAgICAgICAgICAgICAgECAYIBgYGBggGBgYGBgkHBggJBwUECAcGBgcHCAYGBQYHBgUHCQYGBgcGBAQGCAcECAYIBgUGCAYGCAcIBwgHCAcGBQUGCAcIBQgGBgcIBwQGDAQFCAYGCAcICAYHBgUIBAYFBgYHBwYGCQUGBgYFBwgHBgYFBgQGCAgICAgICAgIBAgICAgICAgIBwgECAgICAgICAgICAgICAkICAUECAQICAgGCAgGCAgICAgICAcICAgGBggGCAYEBQgIBwUHBwYHBwcHBQcGBAUHBgQHBgYFBgUFCAsECAUFBQQGCAcGCAYFBgUHBwQFBggKBwYGCAcIBwcLBAcIBwgHBgYIBwYHBQYGBAcGBwYIBwcIBgYICAcIBwcEBgYHBgUJCgQGCAgECAgICAgICAgGCAgICAgGCAYLCAgICAgICAQIBAgICAgICAgICAgICAcEBgcGBgoECAQFCAUGCAcHBgcGCggIBgYGCAUHBQYGBgYICAgHBggGCAYFBQgGCAgIBgUGBQYGBQcIBQcIBQoIBwYICAgHBQgGBwcICAQFBgYGBQkGBwgHBwUHBgYFBwUJBQkGBQYIBgcKBgUGCAgICAgICAgICAgHCAgICAgICAgICAQEBgYGBAQIBAgICAgICAgICAgICAgIBgcGCAgGBgYIBQgICAcFBgcGCAcGCAYGCAQIBgYGCAYHBgYGBQQICAgHCQYICAgJBgcGCAcGCAkGBwYGBgcFBgYHBQUFCwcIBgYIBgYHBgcGBggGBgYIBwcHCQcGCAUFCAYIBgQHBggGBAYIBQUFBggHBwcFBQYFBgYEBwQICAgICAgICAgICAYICAgICAgICAgECAQGCAgICAgICAgICAgICAcHBgQECAgIBAgICAgEBAgICAgICAgICAgICAgGBAYGBQcICAcKBQYFCAcIBwgHBgYFCAgGBQYGBQoGBggHBgUGBAYFBggGBgYGBwcHCggGBQUGBwQFBgcIBAgICAUIBgUKCAYHBwgICAUFBAYGCAkHCAgEBwYGBQQGBwgHBgYGBQUGBwYHBAQGCAgICAgICAgICAgICAgICAgICAgICAgICAgICAgHCAgICAgICAgGCAgICAgICAgICAgICAgICAgICAgICAgICAgIBwcGCAcHBQYGCQcGBgwICgYFBQQECAgGBgYHCAcLCAYHBgkJBgcEBgcIBAgIBwQDBwQFBgQFCAQIBwcHBAcIBgQHBwYHBwYHBwcGBwoHBwcFCAYFBgYFBggHBgYGCAYIBQQJBgcGBwcGBgYIBwgGBggHBgYGCAgICAgICAgICAgICAgICAgICAgICAgIBAgICAgICAgICAgHCAgICAgIBggICAYIBAgIBggICAQICAgICAgICAgICAgICAgICggICAUHBgQGBgcFBwgICAUHCAoGCAcHCAgFBggEBgQFBgYJBgQHBQgKBQgICAcHCAgIBwcKBwgGBwgLBgYHCAcIBAYHBwgHBAgFBgYFBgYKBggIBgYGCAgGBggIBQgHCAcJCAgGBwYIBggGCAgGBgcIBAYHBwgFBQYGBggJBQgICAgIBwgHBwYKBggJCAgICAcICAgICAgICAgICAgICAgICAgIBggICAgICAgICAgICAgICAgICAgICAgICAgICAgIBwgICAgICAgICAQIBAgICAgICAgICAgICAgICAYIBwYICQcGCAcGBwgHBwUIBgYICAgGBggICAcHBgYGCAcICAQEBgoHBgYGCAYIBQYIBggIBwcGCAcFBgYIBwcEBAgICAUHBgUGBgkHBwYFBwcIBQYHBgcIBQcGBQcFBQgGCAoGBggGBgYGBAgGBQYHBwkGCQYIBAcFCAgICAgICAgICAgICAgICAgICAgICAgICAgICAgICAgICAgIBwgICAgICAgICAgICAgICAgICAgICAgICQgHCgoICAYICAgICAQECAgICAgICAgICAgECAgICAgICAgICAgICAgHCQcGBgQICAcIBgYIBQYFCAcGBgYJBggIBQYIBggFBgcGBQcIBwcIBAcFCAcICAcIBwgHBggJBwcGBgcGBgYGBgcGCAcGBgUIBggGCAgIBwcHBgUHBgYEBQgHCAgHBgYGBAcICAYHCAYHBgcHCAkGBgcECAQHBgUHBQcGBAUGBgYGBAQGCAgICAgICAgICAgICAgICAgICAgICAgICAgICggICAgICAgICAgGBAgIBAgICAgICAgICAgICAgICAQGBwwKBwQICAgICAgECAgIBgYIBAgICAgICAgICAgICAgICAgICAgICAgICAgGCAgICAgICAgJCAYGBAcIBgUFCAYHCAcICQUIBgcFBgcGBgcECAgIBwgGBwYFCAgHCAUIBgUIBwgGBwgIBggFCAYHBAYGBgUHBQUFBgYIBwYGBgYIBgcHBgQGBwYGBQcGBQcGCQUIBAYEBgUICAYEBQgGCAcHCAYFBQgFBgYFBwYGCAgHBQgGBgcGBgYGBQQGBwYHBggGBAoHBgcGBggGBgcIBAYICAgICAgICAgECAgICAgICAgICAgICAgICAgICAgICAgICAgICAgICAwICAgICAgICAgICAgICAgICAgICAgHCAgICQoKCAgICAgIBAYECAgECAgICAgICAgICAgICAgICAgICAgICAgICAgICAgICAgICAgICAgIBAgICAgICAcGCAoGBgcFBgcHBwkGCAUEBAgECAcGBwYIBggGBAYFBgYHBwcIBwgICAcICAYGBgYGBwUIBAgGCAgGBwwIBwYGBggKBAYGBggJBgYHCAYGBQgGBgUGBggHBgcGBwYHBggHBggGCAYECAQFBggGBwcICAgGCAcHBQYGBgUHCAgHBgYHCAcGBQgHBgcFBwYIBggICAgICAgICAgICAgICAgICAgICAgICAgICAgICAgICAgICAgICAgICAgICAgICAgICAgICAgICAgICAgICAgICAgICAgICAgICAgICAgICAgHCwYECAQICAgICAQICAgECAgICAgICAgICAgICAgICAgICAgICAgICAgICAgICAgICAYGBgYGBwcGBwgHCAYHBgYIBgQFBQUIBggGCAcIBQcHBwcIBAYGBwYFBgYHBgcGBQQHCAcEBgQIBggEBgkICAYGCAcIBgYFBgYGBQYIBQYIBgQHBwYECQYHBwcHBgcGBgcEBwUGBAkGBwcGBAYHBggICAgICAUGBAYHBgcGBgQGBgUFCAgJCQUHBwYHBwkGBwcIBgYGCAUEBQYICAgICAgICAgICAgICAgICAgICAgICAgICAgICAgICAgFCAgICAgICAgICAgICAgICAgICAgICAcICAgICAgICAgICAgICAgICAgICAgICAgICAgICAQGCAYHCAgICAQIBggICAgICAgEBAQHCAgICAgICAgICAgICAgICAgICAgICAgICAgICAgEBgQHBgYGBwgICAYFBAYFBgcGBwYFCAcGBwUGBgYHBgYGBAgGBggMBwcGBQcICgYGBgcEBggJBAYGBwYGBwYHBgcIBggICAYHBgYGBQgHBQUICAcHBwUHBwYHBwYLBggFBwgFCQYLBgYGCwUGBgQGBgUGBwgLBwgJCQgEBggFBQ==",
          "dtype": "i1"
         },
         "xaxis": "x",
         "yaxis": "y"
        }
       ],
       "layout": {
        "barmode": "relative",
        "font": {
         "color": "white"
        },
        "legend": {
         "tracegroupgap": 0
        },
        "paper_bgcolor": "#050b18",
        "plot_bgcolor": "#050b18",
        "template": {
         "data": {
          "bar": [
           {
            "error_x": {
             "color": "#f2f5fa"
            },
            "error_y": {
             "color": "#f2f5fa"
            },
            "marker": {
             "line": {
              "color": "rgb(17,17,17)",
              "width": 0.5
             },
             "pattern": {
              "fillmode": "overlay",
              "size": 10,
              "solidity": 0.2
             }
            },
            "type": "bar"
           }
          ],
          "barpolar": [
           {
            "marker": {
             "line": {
              "color": "rgb(17,17,17)",
              "width": 0.5
             },
             "pattern": {
              "fillmode": "overlay",
              "size": 10,
              "solidity": 0.2
             }
            },
            "type": "barpolar"
           }
          ],
          "carpet": [
           {
            "aaxis": {
             "endlinecolor": "#A2B1C6",
             "gridcolor": "#506784",
             "linecolor": "#506784",
             "minorgridcolor": "#506784",
             "startlinecolor": "#A2B1C6"
            },
            "baxis": {
             "endlinecolor": "#A2B1C6",
             "gridcolor": "#506784",
             "linecolor": "#506784",
             "minorgridcolor": "#506784",
             "startlinecolor": "#A2B1C6"
            },
            "type": "carpet"
           }
          ],
          "choropleth": [
           {
            "colorbar": {
             "outlinewidth": 0,
             "ticks": ""
            },
            "type": "choropleth"
           }
          ],
          "contour": [
           {
            "colorbar": {
             "outlinewidth": 0,
             "ticks": ""
            },
            "colorscale": [
             [
              0,
              "#0d0887"
             ],
             [
              0.1111111111111111,
              "#46039f"
             ],
             [
              0.2222222222222222,
              "#7201a8"
             ],
             [
              0.3333333333333333,
              "#9c179e"
             ],
             [
              0.4444444444444444,
              "#bd3786"
             ],
             [
              0.5555555555555556,
              "#d8576b"
             ],
             [
              0.6666666666666666,
              "#ed7953"
             ],
             [
              0.7777777777777778,
              "#fb9f3a"
             ],
             [
              0.8888888888888888,
              "#fdca26"
             ],
             [
              1,
              "#f0f921"
             ]
            ],
            "type": "contour"
           }
          ],
          "contourcarpet": [
           {
            "colorbar": {
             "outlinewidth": 0,
             "ticks": ""
            },
            "type": "contourcarpet"
           }
          ],
          "heatmap": [
           {
            "colorbar": {
             "outlinewidth": 0,
             "ticks": ""
            },
            "colorscale": [
             [
              0,
              "#0d0887"
             ],
             [
              0.1111111111111111,
              "#46039f"
             ],
             [
              0.2222222222222222,
              "#7201a8"
             ],
             [
              0.3333333333333333,
              "#9c179e"
             ],
             [
              0.4444444444444444,
              "#bd3786"
             ],
             [
              0.5555555555555556,
              "#d8576b"
             ],
             [
              0.6666666666666666,
              "#ed7953"
             ],
             [
              0.7777777777777778,
              "#fb9f3a"
             ],
             [
              0.8888888888888888,
              "#fdca26"
             ],
             [
              1,
              "#f0f921"
             ]
            ],
            "type": "heatmap"
           }
          ],
          "histogram": [
           {
            "marker": {
             "pattern": {
              "fillmode": "overlay",
              "size": 10,
              "solidity": 0.2
             }
            },
            "type": "histogram"
           }
          ],
          "histogram2d": [
           {
            "colorbar": {
             "outlinewidth": 0,
             "ticks": ""
            },
            "colorscale": [
             [
              0,
              "#0d0887"
             ],
             [
              0.1111111111111111,
              "#46039f"
             ],
             [
              0.2222222222222222,
              "#7201a8"
             ],
             [
              0.3333333333333333,
              "#9c179e"
             ],
             [
              0.4444444444444444,
              "#bd3786"
             ],
             [
              0.5555555555555556,
              "#d8576b"
             ],
             [
              0.6666666666666666,
              "#ed7953"
             ],
             [
              0.7777777777777778,
              "#fb9f3a"
             ],
             [
              0.8888888888888888,
              "#fdca26"
             ],
             [
              1,
              "#f0f921"
             ]
            ],
            "type": "histogram2d"
           }
          ],
          "histogram2dcontour": [
           {
            "colorbar": {
             "outlinewidth": 0,
             "ticks": ""
            },
            "colorscale": [
             [
              0,
              "#0d0887"
             ],
             [
              0.1111111111111111,
              "#46039f"
             ],
             [
              0.2222222222222222,
              "#7201a8"
             ],
             [
              0.3333333333333333,
              "#9c179e"
             ],
             [
              0.4444444444444444,
              "#bd3786"
             ],
             [
              0.5555555555555556,
              "#d8576b"
             ],
             [
              0.6666666666666666,
              "#ed7953"
             ],
             [
              0.7777777777777778,
              "#fb9f3a"
             ],
             [
              0.8888888888888888,
              "#fdca26"
             ],
             [
              1,
              "#f0f921"
             ]
            ],
            "type": "histogram2dcontour"
           }
          ],
          "mesh3d": [
           {
            "colorbar": {
             "outlinewidth": 0,
             "ticks": ""
            },
            "type": "mesh3d"
           }
          ],
          "parcoords": [
           {
            "line": {
             "colorbar": {
              "outlinewidth": 0,
              "ticks": ""
             }
            },
            "type": "parcoords"
           }
          ],
          "pie": [
           {
            "automargin": true,
            "type": "pie"
           }
          ],
          "scatter": [
           {
            "marker": {
             "line": {
              "color": "#283442"
             }
            },
            "type": "scatter"
           }
          ],
          "scatter3d": [
           {
            "line": {
             "colorbar": {
              "outlinewidth": 0,
              "ticks": ""
             }
            },
            "marker": {
             "colorbar": {
              "outlinewidth": 0,
              "ticks": ""
             }
            },
            "type": "scatter3d"
           }
          ],
          "scattercarpet": [
           {
            "marker": {
             "colorbar": {
              "outlinewidth": 0,
              "ticks": ""
             }
            },
            "type": "scattercarpet"
           }
          ],
          "scattergeo": [
           {
            "marker": {
             "colorbar": {
              "outlinewidth": 0,
              "ticks": ""
             }
            },
            "type": "scattergeo"
           }
          ],
          "scattergl": [
           {
            "marker": {
             "line": {
              "color": "#283442"
             }
            },
            "type": "scattergl"
           }
          ],
          "scattermap": [
           {
            "marker": {
             "colorbar": {
              "outlinewidth": 0,
              "ticks": ""
             }
            },
            "type": "scattermap"
           }
          ],
          "scattermapbox": [
           {
            "marker": {
             "colorbar": {
              "outlinewidth": 0,
              "ticks": ""
             }
            },
            "type": "scattermapbox"
           }
          ],
          "scatterpolar": [
           {
            "marker": {
             "colorbar": {
              "outlinewidth": 0,
              "ticks": ""
             }
            },
            "type": "scatterpolar"
           }
          ],
          "scatterpolargl": [
           {
            "marker": {
             "colorbar": {
              "outlinewidth": 0,
              "ticks": ""
             }
            },
            "type": "scatterpolargl"
           }
          ],
          "scatterternary": [
           {
            "marker": {
             "colorbar": {
              "outlinewidth": 0,
              "ticks": ""
             }
            },
            "type": "scatterternary"
           }
          ],
          "surface": [
           {
            "colorbar": {
             "outlinewidth": 0,
             "ticks": ""
            },
            "colorscale": [
             [
              0,
              "#0d0887"
             ],
             [
              0.1111111111111111,
              "#46039f"
             ],
             [
              0.2222222222222222,
              "#7201a8"
             ],
             [
              0.3333333333333333,
              "#9c179e"
             ],
             [
              0.4444444444444444,
              "#bd3786"
             ],
             [
              0.5555555555555556,
              "#d8576b"
             ],
             [
              0.6666666666666666,
              "#ed7953"
             ],
             [
              0.7777777777777778,
              "#fb9f3a"
             ],
             [
              0.8888888888888888,
              "#fdca26"
             ],
             [
              1,
              "#f0f921"
             ]
            ],
            "type": "surface"
           }
          ],
          "table": [
           {
            "cells": {
             "fill": {
              "color": "#506784"
             },
             "line": {
              "color": "rgb(17,17,17)"
             }
            },
            "header": {
             "fill": {
              "color": "#2a3f5f"
             },
             "line": {
              "color": "rgb(17,17,17)"
             }
            },
            "type": "table"
           }
          ]
         },
         "layout": {
          "annotationdefaults": {
           "arrowcolor": "#f2f5fa",
           "arrowhead": 0,
           "arrowwidth": 1
          },
          "autotypenumbers": "strict",
          "coloraxis": {
           "colorbar": {
            "outlinewidth": 0,
            "ticks": ""
           }
          },
          "colorscale": {
           "diverging": [
            [
             0,
             "#8e0152"
            ],
            [
             0.1,
             "#c51b7d"
            ],
            [
             0.2,
             "#de77ae"
            ],
            [
             0.3,
             "#f1b6da"
            ],
            [
             0.4,
             "#fde0ef"
            ],
            [
             0.5,
             "#f7f7f7"
            ],
            [
             0.6,
             "#e6f5d0"
            ],
            [
             0.7,
             "#b8e186"
            ],
            [
             0.8,
             "#7fbc41"
            ],
            [
             0.9,
             "#4d9221"
            ],
            [
             1,
             "#276419"
            ]
           ],
           "sequential": [
            [
             0,
             "#0d0887"
            ],
            [
             0.1111111111111111,
             "#46039f"
            ],
            [
             0.2222222222222222,
             "#7201a8"
            ],
            [
             0.3333333333333333,
             "#9c179e"
            ],
            [
             0.4444444444444444,
             "#bd3786"
            ],
            [
             0.5555555555555556,
             "#d8576b"
            ],
            [
             0.6666666666666666,
             "#ed7953"
            ],
            [
             0.7777777777777778,
             "#fb9f3a"
            ],
            [
             0.8888888888888888,
             "#fdca26"
            ],
            [
             1,
             "#f0f921"
            ]
           ],
           "sequentialminus": [
            [
             0,
             "#0d0887"
            ],
            [
             0.1111111111111111,
             "#46039f"
            ],
            [
             0.2222222222222222,
             "#7201a8"
            ],
            [
             0.3333333333333333,
             "#9c179e"
            ],
            [
             0.4444444444444444,
             "#bd3786"
            ],
            [
             0.5555555555555556,
             "#d8576b"
            ],
            [
             0.6666666666666666,
             "#ed7953"
            ],
            [
             0.7777777777777778,
             "#fb9f3a"
            ],
            [
             0.8888888888888888,
             "#fdca26"
            ],
            [
             1,
             "#f0f921"
            ]
           ]
          },
          "colorway": [
           "#636efa",
           "#EF553B",
           "#00cc96",
           "#ab63fa",
           "#FFA15A",
           "#19d3f3",
           "#FF6692",
           "#B6E880",
           "#FF97FF",
           "#FECB52"
          ],
          "font": {
           "color": "#f2f5fa"
          },
          "geo": {
           "bgcolor": "rgb(17,17,17)",
           "lakecolor": "rgb(17,17,17)",
           "landcolor": "rgb(17,17,17)",
           "showlakes": true,
           "showland": true,
           "subunitcolor": "#506784"
          },
          "hoverlabel": {
           "align": "left"
          },
          "hovermode": "closest",
          "mapbox": {
           "style": "dark"
          },
          "paper_bgcolor": "rgb(17,17,17)",
          "plot_bgcolor": "rgb(17,17,17)",
          "polar": {
           "angularaxis": {
            "gridcolor": "#506784",
            "linecolor": "#506784",
            "ticks": ""
           },
           "bgcolor": "rgb(17,17,17)",
           "radialaxis": {
            "gridcolor": "#506784",
            "linecolor": "#506784",
            "ticks": ""
           }
          },
          "scene": {
           "xaxis": {
            "backgroundcolor": "rgb(17,17,17)",
            "gridcolor": "#506784",
            "gridwidth": 2,
            "linecolor": "#506784",
            "showbackground": true,
            "ticks": "",
            "zerolinecolor": "#C8D4E3"
           },
           "yaxis": {
            "backgroundcolor": "rgb(17,17,17)",
            "gridcolor": "#506784",
            "gridwidth": 2,
            "linecolor": "#506784",
            "showbackground": true,
            "ticks": "",
            "zerolinecolor": "#C8D4E3"
           },
           "zaxis": {
            "backgroundcolor": "rgb(17,17,17)",
            "gridcolor": "#506784",
            "gridwidth": 2,
            "linecolor": "#506784",
            "showbackground": true,
            "ticks": "",
            "zerolinecolor": "#C8D4E3"
           }
          },
          "shapedefaults": {
           "line": {
            "color": "#f2f5fa"
           }
          },
          "sliderdefaults": {
           "bgcolor": "#C8D4E3",
           "bordercolor": "rgb(17,17,17)",
           "borderwidth": 1,
           "tickwidth": 0
          },
          "ternary": {
           "aaxis": {
            "gridcolor": "#506784",
            "linecolor": "#506784",
            "ticks": ""
           },
           "baxis": {
            "gridcolor": "#506784",
            "linecolor": "#506784",
            "ticks": ""
           },
           "bgcolor": "rgb(17,17,17)",
           "caxis": {
            "gridcolor": "#506784",
            "linecolor": "#506784",
            "ticks": ""
           }
          },
          "title": {
           "x": 0.05
          },
          "updatemenudefaults": {
           "bgcolor": "#506784",
           "borderwidth": 0
          },
          "xaxis": {
           "automargin": true,
           "gridcolor": "#283442",
           "linecolor": "#506784",
           "ticks": "",
           "title": {
            "standoff": 15
           },
           "zerolinecolor": "#283442",
           "zerolinewidth": 2
          },
          "yaxis": {
           "automargin": true,
           "gridcolor": "#283442",
           "linecolor": "#506784",
           "ticks": "",
           "title": {
            "standoff": 15
           },
           "zerolinecolor": "#283442",
           "zerolinewidth": 2
          }
         }
        },
        "title": {
         "text": "🔐 Distribuzione della Lunghezza delle Password"
        },
        "xaxis": {
         "anchor": "y",
         "domain": [
          0,
          1
         ],
         "title": {
          "text": "Lunghezza"
         }
        },
        "yaxis": {
         "anchor": "x",
         "domain": [
          0,
          1
         ],
         "title": {
          "text": "Frequenza"
         }
        }
       }
      }
     },
     "metadata": {},
     "output_type": "display_data"
    },
    {
     "data": {
      "application/vnd.plotly.v1+json": {
       "config": {
        "plotlyServerURL": "https://plot.ly"
       },
       "data": [
        {
         "marker": {
          "color": "lightskyblue"
         },
         "name": "Lettere",
         "type": "bar",
         "x": {
          "bdata": "AwQFBgcICQoLDA0PEA==",
          "dtype": "i1"
         },
         "y": {
          "bdata": "AAAAAAAAAEA83ZofFikHQMl2+28jJRNAxBD+zntAFUADPjlcBnwaQDAphvF3sBBAJ02aNGnSHEAb9Z2N+s4YQG7btm3bNiFAbtu2bdu2IUAAAAAAAAAnQAAAAAAAACZAAAAAAAAAKEA=",
          "dtype": "f8"
         }
        },
        {
         "marker": {
          "color": "royalblue"
         },
         "name": "Cifre",
         "type": "bar",
         "x": {
          "bdata": "AwQFBgcICQoLDA0PEA==",
          "dtype": "i1"
         },
         "y": {
          "bdata": "AAAAAAAA8D+R7zGttqPxP3zmVeew8Mk/HpqVeJna5T++V6NC2SPYP6Ct8xwQnw5AucbiGotr/D/KFcTkCmIOQCVJkiRJkgJASZIkSZIkCUAAAAAAAAD4PwAAAAAAABBAAAAAAAAAEEA=",
          "dtype": "f8"
         }
        },
        {
         "marker": {
          "color": "mediumblue"
         },
         "name": "Speciali",
         "type": "bar",
         "x": {
          "bdata": "AwQFBgcICQoLDA0PEA==",
          "dtype": "i1"
         },
         "y": {
          "bdata": "AAAAAAAAAABN7qswJzpkP6wFtJMRroY/DOHvvAfEcD8JD8jI+cBbPwAAAAAAAAAAQCsBrQS0kj8AAAAAAAAAAJIkSZIkSbI/AAAAAAAAAAAAAAAAAAAAAAAAAAAAAAAAAAAAAAAAAAA=",
          "dtype": "f8"
         }
        }
       ],
       "layout": {
        "barmode": "stack",
        "font": {
         "color": "white"
        },
        "paper_bgcolor": "#050b18",
        "plot_bgcolor": "#050b18",
        "template": {
         "data": {
          "bar": [
           {
            "error_x": {
             "color": "#f2f5fa"
            },
            "error_y": {
             "color": "#f2f5fa"
            },
            "marker": {
             "line": {
              "color": "rgb(17,17,17)",
              "width": 0.5
             },
             "pattern": {
              "fillmode": "overlay",
              "size": 10,
              "solidity": 0.2
             }
            },
            "type": "bar"
           }
          ],
          "barpolar": [
           {
            "marker": {
             "line": {
              "color": "rgb(17,17,17)",
              "width": 0.5
             },
             "pattern": {
              "fillmode": "overlay",
              "size": 10,
              "solidity": 0.2
             }
            },
            "type": "barpolar"
           }
          ],
          "carpet": [
           {
            "aaxis": {
             "endlinecolor": "#A2B1C6",
             "gridcolor": "#506784",
             "linecolor": "#506784",
             "minorgridcolor": "#506784",
             "startlinecolor": "#A2B1C6"
            },
            "baxis": {
             "endlinecolor": "#A2B1C6",
             "gridcolor": "#506784",
             "linecolor": "#506784",
             "minorgridcolor": "#506784",
             "startlinecolor": "#A2B1C6"
            },
            "type": "carpet"
           }
          ],
          "choropleth": [
           {
            "colorbar": {
             "outlinewidth": 0,
             "ticks": ""
            },
            "type": "choropleth"
           }
          ],
          "contour": [
           {
            "colorbar": {
             "outlinewidth": 0,
             "ticks": ""
            },
            "colorscale": [
             [
              0,
              "#0d0887"
             ],
             [
              0.1111111111111111,
              "#46039f"
             ],
             [
              0.2222222222222222,
              "#7201a8"
             ],
             [
              0.3333333333333333,
              "#9c179e"
             ],
             [
              0.4444444444444444,
              "#bd3786"
             ],
             [
              0.5555555555555556,
              "#d8576b"
             ],
             [
              0.6666666666666666,
              "#ed7953"
             ],
             [
              0.7777777777777778,
              "#fb9f3a"
             ],
             [
              0.8888888888888888,
              "#fdca26"
             ],
             [
              1,
              "#f0f921"
             ]
            ],
            "type": "contour"
           }
          ],
          "contourcarpet": [
           {
            "colorbar": {
             "outlinewidth": 0,
             "ticks": ""
            },
            "type": "contourcarpet"
           }
          ],
          "heatmap": [
           {
            "colorbar": {
             "outlinewidth": 0,
             "ticks": ""
            },
            "colorscale": [
             [
              0,
              "#0d0887"
             ],
             [
              0.1111111111111111,
              "#46039f"
             ],
             [
              0.2222222222222222,
              "#7201a8"
             ],
             [
              0.3333333333333333,
              "#9c179e"
             ],
             [
              0.4444444444444444,
              "#bd3786"
             ],
             [
              0.5555555555555556,
              "#d8576b"
             ],
             [
              0.6666666666666666,
              "#ed7953"
             ],
             [
              0.7777777777777778,
              "#fb9f3a"
             ],
             [
              0.8888888888888888,
              "#fdca26"
             ],
             [
              1,
              "#f0f921"
             ]
            ],
            "type": "heatmap"
           }
          ],
          "histogram": [
           {
            "marker": {
             "pattern": {
              "fillmode": "overlay",
              "size": 10,
              "solidity": 0.2
             }
            },
            "type": "histogram"
           }
          ],
          "histogram2d": [
           {
            "colorbar": {
             "outlinewidth": 0,
             "ticks": ""
            },
            "colorscale": [
             [
              0,
              "#0d0887"
             ],
             [
              0.1111111111111111,
              "#46039f"
             ],
             [
              0.2222222222222222,
              "#7201a8"
             ],
             [
              0.3333333333333333,
              "#9c179e"
             ],
             [
              0.4444444444444444,
              "#bd3786"
             ],
             [
              0.5555555555555556,
              "#d8576b"
             ],
             [
              0.6666666666666666,
              "#ed7953"
             ],
             [
              0.7777777777777778,
              "#fb9f3a"
             ],
             [
              0.8888888888888888,
              "#fdca26"
             ],
             [
              1,
              "#f0f921"
             ]
            ],
            "type": "histogram2d"
           }
          ],
          "histogram2dcontour": [
           {
            "colorbar": {
             "outlinewidth": 0,
             "ticks": ""
            },
            "colorscale": [
             [
              0,
              "#0d0887"
             ],
             [
              0.1111111111111111,
              "#46039f"
             ],
             [
              0.2222222222222222,
              "#7201a8"
             ],
             [
              0.3333333333333333,
              "#9c179e"
             ],
             [
              0.4444444444444444,
              "#bd3786"
             ],
             [
              0.5555555555555556,
              "#d8576b"
             ],
             [
              0.6666666666666666,
              "#ed7953"
             ],
             [
              0.7777777777777778,
              "#fb9f3a"
             ],
             [
              0.8888888888888888,
              "#fdca26"
             ],
             [
              1,
              "#f0f921"
             ]
            ],
            "type": "histogram2dcontour"
           }
          ],
          "mesh3d": [
           {
            "colorbar": {
             "outlinewidth": 0,
             "ticks": ""
            },
            "type": "mesh3d"
           }
          ],
          "parcoords": [
           {
            "line": {
             "colorbar": {
              "outlinewidth": 0,
              "ticks": ""
             }
            },
            "type": "parcoords"
           }
          ],
          "pie": [
           {
            "automargin": true,
            "type": "pie"
           }
          ],
          "scatter": [
           {
            "marker": {
             "line": {
              "color": "#283442"
             }
            },
            "type": "scatter"
           }
          ],
          "scatter3d": [
           {
            "line": {
             "colorbar": {
              "outlinewidth": 0,
              "ticks": ""
             }
            },
            "marker": {
             "colorbar": {
              "outlinewidth": 0,
              "ticks": ""
             }
            },
            "type": "scatter3d"
           }
          ],
          "scattercarpet": [
           {
            "marker": {
             "colorbar": {
              "outlinewidth": 0,
              "ticks": ""
             }
            },
            "type": "scattercarpet"
           }
          ],
          "scattergeo": [
           {
            "marker": {
             "colorbar": {
              "outlinewidth": 0,
              "ticks": ""
             }
            },
            "type": "scattergeo"
           }
          ],
          "scattergl": [
           {
            "marker": {
             "line": {
              "color": "#283442"
             }
            },
            "type": "scattergl"
           }
          ],
          "scattermap": [
           {
            "marker": {
             "colorbar": {
              "outlinewidth": 0,
              "ticks": ""
             }
            },
            "type": "scattermap"
           }
          ],
          "scattermapbox": [
           {
            "marker": {
             "colorbar": {
              "outlinewidth": 0,
              "ticks": ""
             }
            },
            "type": "scattermapbox"
           }
          ],
          "scatterpolar": [
           {
            "marker": {
             "colorbar": {
              "outlinewidth": 0,
              "ticks": ""
             }
            },
            "type": "scatterpolar"
           }
          ],
          "scatterpolargl": [
           {
            "marker": {
             "colorbar": {
              "outlinewidth": 0,
              "ticks": ""
             }
            },
            "type": "scatterpolargl"
           }
          ],
          "scatterternary": [
           {
            "marker": {
             "colorbar": {
              "outlinewidth": 0,
              "ticks": ""
             }
            },
            "type": "scatterternary"
           }
          ],
          "surface": [
           {
            "colorbar": {
             "outlinewidth": 0,
             "ticks": ""
            },
            "colorscale": [
             [
              0,
              "#0d0887"
             ],
             [
              0.1111111111111111,
              "#46039f"
             ],
             [
              0.2222222222222222,
              "#7201a8"
             ],
             [
              0.3333333333333333,
              "#9c179e"
             ],
             [
              0.4444444444444444,
              "#bd3786"
             ],
             [
              0.5555555555555556,
              "#d8576b"
             ],
             [
              0.6666666666666666,
              "#ed7953"
             ],
             [
              0.7777777777777778,
              "#fb9f3a"
             ],
             [
              0.8888888888888888,
              "#fdca26"
             ],
             [
              1,
              "#f0f921"
             ]
            ],
            "type": "surface"
           }
          ],
          "table": [
           {
            "cells": {
             "fill": {
              "color": "#506784"
             },
             "line": {
              "color": "rgb(17,17,17)"
             }
            },
            "header": {
             "fill": {
              "color": "#2a3f5f"
             },
             "line": {
              "color": "rgb(17,17,17)"
             }
            },
            "type": "table"
           }
          ]
         },
         "layout": {
          "annotationdefaults": {
           "arrowcolor": "#f2f5fa",
           "arrowhead": 0,
           "arrowwidth": 1
          },
          "autotypenumbers": "strict",
          "coloraxis": {
           "colorbar": {
            "outlinewidth": 0,
            "ticks": ""
           }
          },
          "colorscale": {
           "diverging": [
            [
             0,
             "#8e0152"
            ],
            [
             0.1,
             "#c51b7d"
            ],
            [
             0.2,
             "#de77ae"
            ],
            [
             0.3,
             "#f1b6da"
            ],
            [
             0.4,
             "#fde0ef"
            ],
            [
             0.5,
             "#f7f7f7"
            ],
            [
             0.6,
             "#e6f5d0"
            ],
            [
             0.7,
             "#b8e186"
            ],
            [
             0.8,
             "#7fbc41"
            ],
            [
             0.9,
             "#4d9221"
            ],
            [
             1,
             "#276419"
            ]
           ],
           "sequential": [
            [
             0,
             "#0d0887"
            ],
            [
             0.1111111111111111,
             "#46039f"
            ],
            [
             0.2222222222222222,
             "#7201a8"
            ],
            [
             0.3333333333333333,
             "#9c179e"
            ],
            [
             0.4444444444444444,
             "#bd3786"
            ],
            [
             0.5555555555555556,
             "#d8576b"
            ],
            [
             0.6666666666666666,
             "#ed7953"
            ],
            [
             0.7777777777777778,
             "#fb9f3a"
            ],
            [
             0.8888888888888888,
             "#fdca26"
            ],
            [
             1,
             "#f0f921"
            ]
           ],
           "sequentialminus": [
            [
             0,
             "#0d0887"
            ],
            [
             0.1111111111111111,
             "#46039f"
            ],
            [
             0.2222222222222222,
             "#7201a8"
            ],
            [
             0.3333333333333333,
             "#9c179e"
            ],
            [
             0.4444444444444444,
             "#bd3786"
            ],
            [
             0.5555555555555556,
             "#d8576b"
            ],
            [
             0.6666666666666666,
             "#ed7953"
            ],
            [
             0.7777777777777778,
             "#fb9f3a"
            ],
            [
             0.8888888888888888,
             "#fdca26"
            ],
            [
             1,
             "#f0f921"
            ]
           ]
          },
          "colorway": [
           "#636efa",
           "#EF553B",
           "#00cc96",
           "#ab63fa",
           "#FFA15A",
           "#19d3f3",
           "#FF6692",
           "#B6E880",
           "#FF97FF",
           "#FECB52"
          ],
          "font": {
           "color": "#f2f5fa"
          },
          "geo": {
           "bgcolor": "rgb(17,17,17)",
           "lakecolor": "rgb(17,17,17)",
           "landcolor": "rgb(17,17,17)",
           "showlakes": true,
           "showland": true,
           "subunitcolor": "#506784"
          },
          "hoverlabel": {
           "align": "left"
          },
          "hovermode": "closest",
          "mapbox": {
           "style": "dark"
          },
          "paper_bgcolor": "rgb(17,17,17)",
          "plot_bgcolor": "rgb(17,17,17)",
          "polar": {
           "angularaxis": {
            "gridcolor": "#506784",
            "linecolor": "#506784",
            "ticks": ""
           },
           "bgcolor": "rgb(17,17,17)",
           "radialaxis": {
            "gridcolor": "#506784",
            "linecolor": "#506784",
            "ticks": ""
           }
          },
          "scene": {
           "xaxis": {
            "backgroundcolor": "rgb(17,17,17)",
            "gridcolor": "#506784",
            "gridwidth": 2,
            "linecolor": "#506784",
            "showbackground": true,
            "ticks": "",
            "zerolinecolor": "#C8D4E3"
           },
           "yaxis": {
            "backgroundcolor": "rgb(17,17,17)",
            "gridcolor": "#506784",
            "gridwidth": 2,
            "linecolor": "#506784",
            "showbackground": true,
            "ticks": "",
            "zerolinecolor": "#C8D4E3"
           },
           "zaxis": {
            "backgroundcolor": "rgb(17,17,17)",
            "gridcolor": "#506784",
            "gridwidth": 2,
            "linecolor": "#506784",
            "showbackground": true,
            "ticks": "",
            "zerolinecolor": "#C8D4E3"
           }
          },
          "shapedefaults": {
           "line": {
            "color": "#f2f5fa"
           }
          },
          "sliderdefaults": {
           "bgcolor": "#C8D4E3",
           "bordercolor": "rgb(17,17,17)",
           "borderwidth": 1,
           "tickwidth": 0
          },
          "ternary": {
           "aaxis": {
            "gridcolor": "#506784",
            "linecolor": "#506784",
            "ticks": ""
           },
           "baxis": {
            "gridcolor": "#506784",
            "linecolor": "#506784",
            "ticks": ""
           },
           "bgcolor": "rgb(17,17,17)",
           "caxis": {
            "gridcolor": "#506784",
            "linecolor": "#506784",
            "ticks": ""
           }
          },
          "title": {
           "x": 0.05
          },
          "updatemenudefaults": {
           "bgcolor": "#506784",
           "borderwidth": 0
          },
          "xaxis": {
           "automargin": true,
           "gridcolor": "#283442",
           "linecolor": "#506784",
           "ticks": "",
           "title": {
            "standoff": 15
           },
           "zerolinecolor": "#283442",
           "zerolinewidth": 2
          },
          "yaxis": {
           "automargin": true,
           "gridcolor": "#283442",
           "linecolor": "#506784",
           "ticks": "",
           "title": {
            "standoff": 15
           },
           "zerolinecolor": "#283442",
           "zerolinewidth": 2
          }
         }
        },
        "title": {
         "text": "🧱 Composizione media dei caratteri per lunghezza"
        },
        "xaxis": {
         "title": {
          "text": "Lunghezza della password"
         }
        },
        "yaxis": {
         "title": {
          "text": "Conteggio medio per tipo"
         }
        }
       }
      }
     },
     "metadata": {},
     "output_type": "display_data"
    },
    {
     "data": {
      "application/vnd.plotly.v1+json": {
       "config": {
        "plotlyServerURL": "https://plot.ly"
       },
       "data": [
        {
         "hovertemplate": "length=%{x}<br>num_chars=%{y}<extra></extra>",
         "legendgroup": "",
         "marker": {
          "color": "cyan",
          "opacity": 0.4,
          "symbol": "circle"
         },
         "mode": "markers",
         "name": "",
         "showlegend": false,
         "type": "scattergl",
         "x": {
          "bdata": "BggIBgkFBAYHBgYNBggGBwYGBgYKBgcKBwYFCAgHBgYGBgYGCAYIBwYGBgYGBgYGCAgGBAcGBgYGBggHBgYHCAgHBgQGBggGBwYEBAYGBgYIBgYGBgQGBAYHBgcGBwkGBgcGBgcIBQYHBgcGBwgGBgYGCAcGBAYKBwgHBgUGBgcIBgYHCAYHBgYIBwYEBgYHBgYHBwYGCAYIBgcGBwYGBgYHBgYGCQcGBgcIBgYIBgYGBgcGBgUHBgYGBgcGBgQGBggHBwYHBgcGBgYGBgYGBgYGCAYGBwYGBgcHBQYIBgYHBgUGBQYGBggHCAcGBgcGBgcIBgUGBwYIBwgHCAgGBgYHBwcGBgUGBwYHBwcEBgcIBgYIBgQFBAYHBgUGBgcGBggIBQgGBgQHBgYFCAgJBgYGCQYICQYEBAUICAcHBwYEBAYGCAgJBAYHBgYGBgYIBgcHBgcGBAkGBggGBwYGCAYHBwYHBgYGBAYIBgcGBwcGCAYIBwoGBwYIBQYECAQHBgcGBAYHBgYIBgYGBAUGBgYIBgYIBAgGBQoIBwYFBwYGBgYFBgYFBggEBwgHBgQHBggIBggEBggEBgYIBQYGBgUGBAYGBggGBAYGBQgEBAgGCAYIBwYGCAgFBAUJBwYGCAYIBQYFCAYGBwYHBgcGBgYGBwgGBwcIBAgHBwYGBggGBwcECAkICAYHBwcGBgYGCAYHBAgGCAYGBwcGCQYIBAYGBwUGBgYGBggHBwkGBgcFCAUGCAYEBgcGBggECAYHBgYGBwYEBwgGBAgIBgYGBggFBgUHBgoHBgQHBgYECAcGBggGBgUECQgGCAcEBQcGCAcHBgYGBgYGBgcIBggGBggGBgQIBQYEBgYFBgYHBgQEBwcIBgQFBggHBggGBQUGBQQKBgUGBwgIBAYGBggEBwcIBgYGBAYGBggICAUKBwYGCgcIBwcLBgYHBAcHBQQHBQUIBggHBwcGCAcGBwYGBAcIBAYIBgYEBgcFBgcIBAgHBwcIBgYGCAYGCQUGBwcIBggEBwYEBggFBQYHBggGCAgGCAgHBggIBAgFBgUGCAYIBgYFBwQHBAcIBgYGBAcFBgYHBQcHBgYIBgYFBwYGBwQIBgcIBwUHCAgHBQQEBwYGBgYHBgYGBgYEBwUGCAcGBwcIBgYHBggICAcFCAcGBgkHCAcFBwUICAYGBgYECAgGCAcGCAYGBwYGBgQGBgYGBgcGBgYGCQoHBgYEBwYIBQgFBggJBgUECAYGBgcICAYGBgYGCAkFBAcGBgQGBwQGBQcGBQgIBAcHBgYIBwYIBgUGBgkECAcGCgcEBgYFBgUEBwYECAcGCAYIBgcJBwYGBwYGBQYGBgQHBwgIBAoFBAYHBwgGCAYEBgcIBwUGBwcHBgYIBgcECAcFBggGBwgEBAgECQYGCAYIBggGBgYGCAYGBgYHBggICAUIBwsFBAYFBwYIBgYGBQUGBAYHBgQFBggFBQYIBgcHCggGCAYHCAcIBwcIBAYIBQYHBgYICAYEBQgGCAYGBgYEBgYGBgYIBQgEBwcFBgYGBgYGBQYHBgYGCQcICAcGBQYGBwYIBgYHCAYIBAcFBwcEBgQIBQcGBQcGCAgEBQcGCAcGBwQGCwYFBgUGBQcIBgcGCAYHBwcIBQcFBgYGDAcGBAcIBwYGBgcGBggHBQUGBgYGCQUHBwcGBgYGBgYGBgQHCAYGBgYHBgYGBwYGBgUHCAQGCAYFCQcGBgYHBgUGBggHBgYJBwcGCQUHBwgFBQgIBAYHCAgFBgYFBQcGBggGCAUHBwYEBwgHBgUHBgYGBggGBggHBwcHBwYGBggICAgGBgcHBgYFBQUHBgYICAcJCAgGCwgFBgYGBgYFBQYHCAYICAQHBQYGCAgGBgYGBgYGCAYGCAcHBwcICAUKBggIBgYFBAYGBwYGBgYIBgYHBgYGBgcIBgcGCAcIBgYGBQUEBAYGBQwHBgUGBggIBQoHCAcGBgYHBQYIBwgHBgYGCAYGBwYIBgUHBgcHBgcHCAYGCAYGCAYHBQYHBgUGCAcIBggGBgQJBwYGBQgGBggHBgcFBwUHBgYHBgQJCAUFBgcGBgYFBgQGBggIBgcHCAYFBgcHCQYGBgQGBgYGBwMIBgcIBgYGBwgGBggGBQYIBgYGBQYIBwYJCAQGBAgHBwYFBQUGBwUHBgYGBwgFBgYIBgYGBgYGBggHBgcGBwYFBAYIBggGBwcMBgUFBQgGBgkHBgYGBgYIBwYGBwYFBwYGCAYIBQUGBQcFBgcGBQcGBwgGBwcIBgYHBwYGCAYJBAYGBgUIBwYIBgYFBAYGBggIBAcGCAoHBgQFBwgHBwgGBgcGBwQGBwYGBgcHCAYFCAcGBgcGBAUHBAYGBAUICAUFCAYGBgYHBQgGBwgJBQYIBwYHBgYHCAcIBQgHCAgJBgcGBgYGBAYIBwYGBgUECAgGCAUGBQUIBggGCAYGBwQIBQcGBwgIBggFBwYFCAgHBgQGBQcHBggGBwUGCAQIBwYHBgcHBggGBgcIBgUFCAYGBgcGBQYHBgYGBgUGBwYECAQHBgYGBwcIBgcGCAcIBggGCQYGCAYHBQYGCAcGBwYFBgYFBggEBggGBgYFCAYIBQgGBggHBggICAUHBwUIBgcGBAYGBgkHBgYHBgcHBgcEBgYIBwYGBQgHCAQEBwYGBQYIBwYGBwYHBgYEDAQGBwgGBwYHBgcGBwcIBAUGBgUIBgcGBgYGBgQGBwgFBgcHBgUGBAkGBwgGCAsGBgYGBwcJBgYHCAcGBQUEBwUIBggHBwcHCAYHBwYGBwYHBAcIBAcFBQQHBwYGBwYFBgQJCQcGCAcGBwcHCAgHCAYEBgcGBgkEBQQHBwkKBgUHBQgGBwYIBwgGCAQGBgcGCAUGBggGBAcHBAcIBQgIBgYGBAYFBgYHBAYFBQcGCAgIBgYHCAUPBwgGBwYGBgUGCAgHBggFBwYGBgYFCAYHBgYHBgcGCQcHBgcHCQkGBgYGBAYGBQgFBgYGBgYIBggIBAgHBwUHBwcHBQgFBQYGBAcGBggGBwYGBwYECAYGCAYGBgYFBQcGBwcFBwQICAcIBggHCAYGBAUGCgYGBAYEBgUICAQFCAgHBgcGBgQHBggGBgYEBAYGBgcGBggICAYIBgcGCQQGCAcIBwYIBwYIBwcFBQYICAYGBggLBwgGBgQEBwYIBgcFCAYGBgYICAUEBgYICAcGCAYIBQYGBQQHBQcGBwcGBwgGBQYICAgHCAYHBggGBwcHBwYGBAgHCAcGCAYHBgYJBQgGBggHBgQHCAYGBAYHBQgGBwUJBwgGBwgEBQYIBgUEBgYGBgYGBgUHBgUFCAcGBgYMBAgICQYEBgUGBgcFBggFCAUEBgcGCAcGBgUGBggLCAYHBwYHCAgHBwcIBgYFCAYHCAYGCAgHBQcGCQYGBwgIBggICAcGBwYIBgYGBgYIBQYGBQgGBgYECAgGBggGBggFBwYIBgYMBgcFCAYGBgQIBQgGBgYGBgYFBAUGCwgJBQYIBQcJBAkGBQgGBgYGBggHBgYHCAcHBggFBgYGCAYGBgcGBgYHCAQFBQgFBAgEBwcIBAgHCAYHBgcECAcGCAYICgUHBwYICAYGBAQGBQYHBwgGCAUIBQgGBgYFBwgGBQYIBAYFBwcGCAgHBgYGBgYHDAYEBgYGCAYFBQgGBgYIBgcGCAQGCAYGBQYEBggGBgUIBQgHBwcJCAgIBgUGBwYFBgQICAcHBwYHCQgIBgcGBgQFBgcIBAgGCgQGBgYHBgUGBgcGBAYGBgYGCAYIBgcFBgUHCAgGCgcGBQYICAYGBgUGBggGBgcICAYHBAgFBgUHBQgHBggGBgcIBQgGBQkHBgYFCAcGBwcIBQcGBggGBwUICAYGCgQGCQYGBgYIBwYIBAYIBwYIBgYICAYIBggGCQgGBQcICAgECAYGCAQGCAYICAYHCAQFBQYHCAYHCAYHBgcHBQoFBwcIBwgHBgYGBwcEBgYFBgYICAYGBggGCAoGBgcHBgYICAQIBgcIBgcGBAQHBQcICAcGBwYGBgYFCAUEBQcGBAcIBQYFBgYICAQIBAYHBwYGCQgGBAgGBwkFBgYGBggGCAYHBwcGCAgIBQYEBggGCQcJCAQHCAYGBwYGBwYGBQcGBgUFBggECAQHBgYGBAUGBggHBgYHBgYGCAgGBQQJBggFBwcGBAcKBggIBggGBgYHBgUGCgQICAcFCAcHBwcIBQgHBQYGBgYIBAYFBggIBgYGBQgGBwYIBgQGBgYEBwYICAgHBgcHBgYIBAYIBggHBgQEBggGCAYGBgUICAQGBgoGCAcHBwgIBgQGBQcHBgYIBwYHCAYIBgUIBwYGCAYGCAYGBAQJCAUIBQcIBQYHBwgEBgcGBgYGBgUIBQUGBgcGCAUICAgGCAYIBggHBAUHCAYIBgUGBgcFBQcGCAgEBAYJCQYHBgYNBgkGBgYFCAgHBwYECAQGBgYGCAYFBgYGBQYGBgYICAYGBwcIBwQFBgYHBgYHCAYGBgcGBwYICAYHCAUHBAcFBgUECAUJBgYEBAgFBgYGBwYGBgYGCAYHBwgGBwgHBwcFBgcGBgYGBAYEBgcICAQHBggHBwYJCAYEBwYFBwQGCAYGBgYHBgYGBwYGBwYEBwYGBgYJBAcIBQgGBggGBggEBwgICAYJBwgGBAcGBwYFBgcICQYGBggGBQYIBgUGBAYIBwYHBwYFBgcGCAcEBgkEBgkGBAYGBwgHBAYECAUIBwgECAgGBgkICAYGBggHBwYIBgYGCAcGBgcGBgQIBgYEBgYIBwYHBggGBwgFBAQJBgYKBggGCAcGCAUFBAYGCAcGBgYHBgcEBgcGCQYGBQYFBwcFBwUHBwgHBgYGCAYGBggIBwcGBwcEBgUEBgcHBgcHBwYEBAgIBwUIBwQHCAgIBgYIBwcFBQYICAYHCAcEBgUICQcFBwQGBwcGBgQIBAcGBQYFCAYGBgYGCAYGBgcGBwcIBgYHBQgKBgoHBAcIBgUIBAcGCAcGBgcHBAgGBgUGCAcGCAgGBgoGBwYHBgQIBwYGBAcGBwgFCAgHCQcIBwgECAcIBgYGCAgEBgcIBQYIBgcHBwgHBgQGBgYGCAYGCAYHBgYEBAgJBgYFCAcGCwYICAQGBgcHBQYIBwQHBwYHBgUGBggIBgYHBggFCAQFCQcEBAQHBgYGCAcFBgQIBwYIBQYGCAUHBQgHBgQGBgYGBgcGBwgGBgcICQQHBAgIBgYGBAcGBAgGBAgIBgcGBgQGBggIBwYKBgYHBgcIBwUHCAQGBgQGBgcECAgECAYHBgYIBwcIBwcIBgYGBQYHBQUIBAYICAgIBgcIBAcIBgYGBgcFBgYHBwQJBQgEBgYGBgcEBgYHBgYGBAcIBgQHBwcKBAgGCAgJBgcGBgUHBgcIBQUFBgYKBgQHBgkECAYECAYFBwQGCQgGBwUFBQYGCAcGBgYICQQIBwYEBQgICAgFCAcGBgcICAYICAgGBwgGBwgFBQgGCAgGBQYIBAgHBgUICAUEBQgFBAUGBQYGBwUIBwYGBAgHBgUJBgYFBgYGBwgFBgcGCAcHCAYGBgYGCAUGBQkLBwgKBgcJCgUHBwYEBgYFBwgIBgUGBggIBQYHBwQHCQkGBgcIBwYGCAYGBAgIBAgJBgUEBgQHBgYECggGBQcGCAgGBwYEBwcGBQYFBwcECAUGCAUHBwQECQYGBQYHBAQGBQYHBwkHBQYIBQwFBwYFBgUGCAgGBgQGBgYGBQcHBgcIBgYHBgYHBgYGBgQICAUICAQFBQYIBggFBwYGBAcDBQkFBwYGBgcEBgYHBgkIBgQHBAgFBgYHCAgIBQYGCQYGBQgIBAUGBwcJBgUGBQYHBAUIBwQIBAgIBQgICAcEBwQFCAUGBgQIBwcHBAkICAgIBgYEBwYIBgUJBQYGBgcEBAYHCAgIBgUGBgcGBgQICAgGCQUIBggGCAYGBgYHBgcHBwYEBgcMBAQIBQQGCAcGBwgGBwYJBgQIBwYHBQYGBgQGBgYHBgYEBgcECAgFBwkJBwcIBgcHBggFBAcHCgYIBgYEBgQHBQUGBgQEBAkEBAcHBAUGBwYGBAYIBwQHBQQHBAUIBQgIBwcICgcECAgEBAgIBAQIBwYIBgYHBQQFBggIBAYGBwYIBAUFBgcGBgUECAcFBgUIBgcGCAUIBgYICAgICAQGBgQGBgYEBAgKCAUGBQYIBQYFBAQFBwgGBgYGCQcHBwYGBwQFCQgGBgQECQgICAgGBAkKBgcIBQYICAYEBwYGBwQGBwQHDAgGCAQHBAcIBwYKCAYFBgUHBgcIBgYGBggEBAQECAgFBAQEBwcIBwcGBgYIBgoEEAcHBgkGBgYHBwYGBgUFBwUHBgUIBAYGCAQHBAYICAcEBggHCAYGBwYGCgYHBggICAYFBAUHCAgEBAQICAgICAYFBQQGBAQHBgQHBAcHBggIBwQGCAcEBgQGBQcHBwYGBgUGCAoEBwcICAgICAQFBgYGBgQFCAcGBwgGBgUICQUGCwUFBgQFBwcGBgQGBwUMBwUEBgUIBwYGBQgIBwoGBggIBAYGCAkGBgYGCAgHBggHCAgEBgcHBgcGBgQHBQgGBQYEBQYEBgcGBggGBgYECAgGBwQGBAcHBgcICAYGCAQHBwQJBggGBgkGBAgIBgsGCAgICAYGBggHBAYFBwYEBQUFBAQGBAQEBggHCAcHCAYFBwcGBgYGCAQIBggHBgQHCAgGBAYECAgICAQFBwQGCQgJBwUHBAgFBAYHBgUGBgYHCAYHBgoEBgcFBgYGBgcFCAcEBgYIBgcIBwYGBgUIBQYGBwQHCAgFCAgGBgQIBAcIBQYGBAYHBAcGBgUIBwcIBwkFBwcHCAcEBQgHBgUHBAQGCAUGDAcIBwYHCAUHBwcHBgcHCAUIBgUGBgUHBAQGCAgKCAgICAgECgYHBQgHCQgFBgYFBAUIBQYGBQYEBwgGCAQFBAYGBAYFBAYICAgEBQcHBwgIBwcEBQQFCAQIBwgEBgYHBgcICQgFBgUECAQICAgICAQFBQgIBwQEBgYICAcFBwYGBQgGBwYGBwgIBgYJCAcHBAgFBQgGBwcGBgYGBgYIBgQFBAgICAgIBggEBggGBgcGBgYGBggFBwYIBQcECAgICAQGBQQHBgUHBAUEBQYGBAgHCAgIBgYIBwYIBgYGBAQFBggGBgQIBgQEBwgEBQYGBgQICAcFBggIBwYHBAcGCAgGCAgEBQgHBgUHCAcGCAcGCAYHBAYFBAQICAcIBggEBgcICAYGCQYICAcHCAUGBgUHBwYICAgIBgQJBggGBwYHBQYHBwYIBAUGCAcEBQgGBgQFCAgHBAYIBAQGBwgIBwYIBwcHBggIBgkGBgcGBwgGCAcJBAUEBAYEBggICAcEBgQICAUGCQkHCgYGBwYGCAYHCAgFBgkIBQQGBgYFBAQHBAYECAUICAcEBAgEBgcGBwYFBQYEBgQIBwUGBwYHBwQEBgYFBwYFBgYGBgYGBggJCAgICQYKCAYHBgUGBgYFCAcGCAcGCAgIBgcHBgQJBgcGBgcFCAgECAYIBgcEBgYIBgYEBggGBQcGCAgGCAcIBgcGBwYIBwUIBwcGCAYGBAgGBgcFBQoGBwQGCAYGBAcEBwgICAYGCwYGBgcHBwYHBgYGBQcJBgcIBwYGBggGBggMBQgGBgkGBwgEBwcHBwQGCAgHBgYHBggICAgFBgYHBgcGBwcGBgcHBgcFBgYGBggIBgQJCAYEBAgICAgICAUFCAkHBgYGBAYIBQgGCAYECAYGBwYGBwgHBAYIBwcGBgYHCAgGBQUGCAkHBgUGCAYIBgQICAUIBAYHCAYGBgcGBQcFBggECQUGCAgICAgIBwYHCAUJBQgEBgYIBwgGCAcGBQYJBgcHCAcFBgUIBgcGCAgIBggHBgQJBAYIBgQECAgICAoGBwQIBgYGBQcHCAgGCAYGCAYGBQYHBggECAYEBwgICAgICAYECAYHBgcGBQYHBQYFBgkGCAUGBQgICAUHBwQHBwYGBgYIBgcKBgYHBggJBwYHBgYFCAYGBgQGBwUIBgcHBgYFBgcGBwYGBgYGCQYIBAgIBggICAgICAgECAYEBwgHBAcHBwUICAYHBgcHBwUEBwYHBgYHBQQGBQcGBAcICAcIBggGBgUHBgYFBwgFBgYFBwcEBwcFBgcHBgoGBggECAYHBAYICAgICAgIBgYICAUIBwYICAYHBgUGBgYGBwcGBAgGBgcGBwQHBwYICAYGBwQGBwYICQgGBgYJCAcGBwsIBwYFBwUFBggEBAcHBAYHBgQGBAcGBQYGCAcGBgcEBgQICAgICAYKBgQHBwYIBAYFBgYHBgcHCAUFCQYIBAgICAgHBgcEBgYHCgYFBQgGBgcICAgFBwUFCAYHCAYHBgcHCAgJBAcGBwUGBwcHBgcGCAgECAYICAgEBggJCAYICAgICAgIBwgICAgICAgIBggIBgYGBQgHBgYIBQYGCAYGBgcHBgcIBgYICAYGBwgFBwgIBgYFBAcHCAQHBgUHBgUIBgYECAgHCAcGBggGCAgIBgUGCAYKBwsKBgYGCAgIBAgGBAoEBAQICAgICAgICAQGCAQGBgYIBwkHBwgLBgYIBggFBwcHBQgIBgcEBwcHBwYGBwcGBgYGBwcIBwUEBgUJBggGBQYGBwcGBQwGCAcICAcFCQcGBQQGBgcHBwgHBwcGCAUEBgYIBwYHCAgGBwUECAgICAgECAgECAgGCQgGCAgICAgICAgFCAYIBwkGBQcEBQYHBwYFBwcJBgUKBgUGBAYGCAgFBgQICAgIBwYGBQQIBwYGBwYIBwYIBwcGBggHBgYGBgYECAgICAQICAgICAgICAgICAgICAgICAcGBAcGBwgIBggGBgQGBwgICQUIBQUIBQcIBgUGBgYHBgcHBwkHBwYGCAgFBgYHBgYGBwUFCAcIBwYICgkGCAgICAgICAgIBQgICAgGCAQICAgECAYICAgICAgICAgICAcMCAgFBgcHBwYICAgGBwcGBwYHBQkIBAcHBQoICAUHCQkFBAcHBgkIBwcGBgQGBgUHBwcGBgQGBgYJCAcHCAUHBAUFCAcGBQgHBwcFBwgIBgcFBwcGCAcHBwUGBgYGBwYECAQIBgYICAgIBAgICAgICAgICAcECAgIBAQICAgICAgICAgICAgICAgGBQgGCAgHCAYHBgYIBwcIBAYHBwcIBggIBgcGBwYHBwcICAgIBwYGBgUGBQYHCAQIBAcGBQYFBwYGBgYFBQUHBggIBQgFBQgFBgYICAcIBgkIBgYICAYHBwYIBAYICAgGBgYGBggICAYICAgICAgICAgIBggIBwgECAgICAgIBggGBAgHBQkIBgUGBgUIBQYGBgUGBgUGBQkGBwULBgYGBggGCAcHBgYFBwYGBQYGBggHBwkFBAcFCAgIBAUIBgcFBwgIBwcGBwcICAcHBggECAgGBgYGBgYHBAYGCAgICAgICAgECAgICAgICAYIBggECAQICAgICAgICAgGCAgGCAYFCQcIBAYIBggICAcJBgYIBQcFBgcGBgcIBwYGCAQIBwQICAcGBAgIBgUFBgQHBQgHCAQKBgYEBwcGBgQHCQkHCQYHBgcIBAYFCAUGBgcIBwgGBgYHBgcHCAgHBgcHCAYICAgICAgICAQICAgICAgICAgGCAgIBggICAgICAgICAgICAgICAgECAYIBgYGBggGBgYGBgkHBggJBwUECAcGBgcHCAYGBQYHBgUHCQYGBgcGBAQGCAcECAYIBgUGCAYGCAcIBwgHCAcGBQUGCAcIBQgGBgcIBwQGDAQFCAYGCAcICAYHBgUIBAYFBgYHBwYGCQUGBgYFBwgHBgYFBgQGCAgICAgICAgIBAgICAgICAgIBwgECAgICAgICAgICAgICAkICAUECAQICAgGCAgGCAgICAgICAcICAgGBggGCAYEBQgIBwUHBwYHBwcHBQcGBAUHBgQHBgYFBgUFCAsECAUFBQQGCAcGCAYFBgUHBwQFBggKBwYGCAcIBwcLBAcIBwgHBgYIBwYHBQYGBAcGBwYIBwcIBgYICAcIBwcEBgYHBgUJCgQGCAgECAgICAgICAgGCAgICAgGCAYLCAgICAgICAQIBAgICAgICAgICAgICAcEBgcGBgoECAQFCAUGCAcHBgcGCggIBgYGCAUHBQYGBgYICAgHBggGCAYFBQgGCAgIBgUGBQYGBQcIBQcIBQoIBwYICAgHBQgGBwcICAQFBgYGBQkGBwgHBwUHBgYFBwUJBQkGBQYIBgcKBgUGCAgICAgICAgICAgHCAgICAgICAgICAQEBgYGBAQIBAgICAgICAgICAgICAgIBgcGCAgGBgYIBQgICAcFBgcGCAcGCAYGCAQIBgYGCAYHBgYGBQQICAgHCQYICAgJBgcGCAcGCAkGBwYGBgcFBgYHBQUFCwcIBgYIBgYHBgcGBggGBgYIBwcHCQcGCAUFCAYIBgQHBggGBAYIBQUFBggHBwcFBQYFBgYEBwQICAgICAgICAgICAYICAgICAgICAgECAQGCAgICAgICAgICAgICAcHBgQECAgIBAgICAgEBAgICAgICAgICAgICAgGBAYGBQcICAcKBQYFCAcIBwgHBgYFCAgGBQYGBQoGBggHBgUGBAYFBggGBgYGBwcHCggGBQUGBwQFBgcIBAgICAUIBgUKCAYHBwgICAUFBAYGCAkHCAgEBwYGBQQGBwgHBgYGBQUGBwYHBAQGCAgICAgICAgICAgICAgICAgICAgICAgICAgICAgHCAgICAgICAgGCAgICAgICAgICAgICAgICAgICAgICAgICAgIBwcGCAcHBQYGCQcGBgwICgYFBQQECAgGBgYHCAcLCAYHBgkJBgcEBgcIBAgIBwQDBwQFBgQFCAQIBwcHBAcIBgQHBwYHBwYHBwcGBwoHBwcFCAYFBgYFBggHBgYGCAYIBQQJBgcGBwcGBgYIBwgGBggHBgYGCAgICAgICAgICAgICAgICAgICAgICAgIBAgICAgICAgICAgHCAgICAgIBggICAYIBAgIBggICAQICAgICAgICAgICAgICAgICggICAUHBgQGBgcFBwgICAUHCAoGCAcHCAgFBggEBgQFBgYJBgQHBQgKBQgICAcHCAgIBwcKBwgGBwgLBgYHCAcIBAYHBwgHBAgFBgYFBgYKBggIBgYGCAgGBggIBQgHCAcJCAgGBwYIBggGCAgGBgcIBAYHBwgFBQYGBggJBQgICAgIBwgHBwYKBggJCAgICAcICAgICAgICAgICAgICAgICAgIBggICAgICAgICAgICAgICAgICAgICAgICAgICAgIBwgICAgICAgICAQIBAgICAgICAgICAgICAgICAYIBwYICQcGCAcGBwgHBwUIBgYICAgGBggICAcHBgYGCAcICAQEBgoHBgYGCAYIBQYIBggIBwcGCAcFBgYIBwcEBAgICAUHBgUGBgkHBwYFBwcIBQYHBgcIBQcGBQcFBQgGCAoGBggGBgYGBAgGBQYHBwkGCQYIBAcFCAgICAgICAgICAgICAgICAgICAgICAgICAgICAgICAgICAgIBwgICAgICAgICAgICAgICAgICAgICAgICQgHCgoICAYICAgICAQECAgICAgICAgICAgECAgICAgICAgICAgICAgHCQcGBgQICAcIBgYIBQYFCAcGBgYJBggIBQYIBggFBgcGBQcIBwcIBAcFCAcICAcIBwgHBggJBwcGBgcGBgYGBgcGCAcGBgUIBggGCAgIBwcHBgUHBgYEBQgHCAgHBgYGBAcICAYHCAYHBgcHCAkGBgcECAQHBgUHBQcGBAUGBgYGBAQGCAgICAgICAgICAgICAgICAgICAgICAgICAgICggICAgICAgICAgGBAgIBAgICAgICAgICAgICAgICAQGBwwKBwQICAgICAgECAgIBgYIBAgICAgICAgICAgICAgICAgICAgICAgICAgGCAgICAgICAgJCAYGBAcIBgUFCAYHCAcICQUIBgcFBgcGBgcECAgIBwgGBwYFCAgHCAUIBgUIBwgGBwgIBggFCAYHBAYGBgUHBQUFBgYIBwYGBgYIBgcHBgQGBwYGBQcGBQcGCQUIBAYEBgUICAYEBQgGCAcHCAYFBQgFBgYFBwYGCAgHBQgGBgcGBgYGBQQGBwYHBggGBAoHBgcGBggGBgcIBAYICAgICAgICAgECAgICAgICAgICAgICAgICAgICAgICAgICAgICAgICAwICAgICAgICAgICAgICAgICAgICAgHCAgICQoKCAgICAgIBAYECAgECAgICAgICAgICAgICAgICAgICAgICAgICAgICAgICAgICAgICAgIBAgICAgICAcGCAoGBgcFBgcHBwkGCAUEBAgECAcGBwYIBggGBAYFBgYHBwcIBwgICAcICAYGBgYGBwUIBAgGCAgGBwwIBwYGBggKBAYGBggJBgYHCAYGBQgGBgUGBggHBgcGBwYHBggHBggGCAYECAQFBggGBwcICAgGCAcHBQYGBgUHCAgHBgYHCAcGBQgHBgcFBwYIBggICAgICAgICAgICAgICAgICAgICAgICAgICAgICAgICAgICAgICAgICAgICAgICAgICAgICAgICAgICAgICAgICAgICAgICAgICAgICAgICAgHCwYECAQICAgICAQICAgECAgICAgICAgICAgICAgICAgICAgICAgICAgICAgICAgICAYGBgYGBwcGBwgHCAYHBgYIBgQFBQUIBggGCAcIBQcHBwcIBAYGBwYFBgYHBgcGBQQHCAcEBgQIBggEBgkICAYGCAcIBgYFBgYGBQYIBQYIBgQHBwYECQYHBwcHBgcGBgcEBwUGBAkGBwcGBAYHBggICAgICAUGBAYHBgcGBgQGBgUFCAgJCQUHBwYHBwkGBwcIBgYGCAUEBQYICAgICAgICAgICAgICAgICAgICAgICAgICAgICAgICAgFCAgICAgICAgICAgICAgICAgICAgICAcICAgICAgICAgICAgICAgICAgICAgICAgICAgICAQGCAYHCAgICAQIBggICAgICAgEBAQHCAgICAgICAgICAgICAgICAgICAgICAgICAgICAgEBgQHBgYGBwgICAYFBAYFBgcGBwYFCAcGBwUGBgYHBgYGBAgGBggMBwcGBQcICgYGBgcEBggJBAYGBwYGBwYHBgcIBggICAYHBgYGBQgHBQUICAcHBwUHBwYHBwYLBggFBwgFCQYLBgYGCwUGBgQGBgUGBwgLBwgJCQgEBggFBQ==",
          "dtype": "i1"
         },
         "xaxis": "x",
         "y": {
          "bdata": "AAgABgAAAAAABgANAwgGBwAGBgAKAAcABwAFCAYABgAABgMGBwYIBwYGBgYGBgYGCAgGAAcGBgYGBggHAAYHCAgHBgQGAAAABwAEBAYABgYIBgYGBgQGAAYHBgcGBwAGBgcGBgcIBQYHBgcGBwQGBgYAAAcGBAYFBwgHBgAGBgcIBgYHCAYHBgYIBwYEBgYHBgYHBwYGCAYIBgcGBwYGBgYHBgYGAAcGBgcEBgYIBgYGAAcGBgUHAAYGAAMGBgAGBgQHBwYHBgcGBgAGBgYGBgYGCAYGBwYGBgcHBQYIBgYHBgUGBQYGBggHBAcGBgcGBgcIBgUABwAIBwgHAAAGBgYHAAcGBgUGAwYHBwcEBgcGBgYIBgQFBAMHBgAGBgcGBggIBQgABgABAAYFBAgJAAYGCAYIBgYEAAUIAAcHBwYEAAYGCAgJAAYHBgYGBgYIBgcHBgcGBAkGBggGBwYGCAYHBwYHBgYGBAYIBgcGBwcGCAAIBwUDAQYIBQYACAQEBgAGAAYHBgYIBgYGAAUGBgAIAQYEAAgDBQAHBwYFBwYGBgYFBgYFBggEBwYHBgAHBggABgAEBggAAAAABQYGAAUGBAYGBggGBAYGBQgAAAgGCAYIBwYGCAUFBAUABwYGBgYIBQYACAAGBwYHBgcGBgYGBwgGBwcIBAgHBwYGBggGBwcECAkECAYHBwcGBgYGCAYHAAgGAAYGBwcGAAMIBAYGBwUGBgYGBggHBwkGBgcFCAUGCAYABgcGBggECAYHBgYGBwYEBwgDBAgIBgYGAAgFBgIHBgAGBgQHBgAECAcABggBBgUACQgGCAcEBQcGCAcHBQYGBgAGBgcIBggGBgEGBgQIBQAEBgYFAAYHBQQABwcIBgAFBggHBggABQUGBQQFBgUDBwgIAAYGBggEBwcIBQYGAAEABggICAUBBwYGAAcIAQcKBgYHBAcHBQAHBQUIBggHBwcGCAcGBwYGBAcIAAAGBgYABgcFBgcAAAgHBwcIBgYGCAYGCQUGBwcAAAYEBwYEBggFAAYHBggGAAgFCAgHBggIAAAFBgUGCAYIBgYFBwQHAAAIBgYGAAcFBgYHBQcHBgYIBgAFBwYGBgQIBgcIAQUEBAgHBQQEBwYGBgYHBgYGBgYAAAUGCAcABwcIBgAHBggIBQcFCAcGBgAHCAcFBwUICAYGBgYACAgGCAcACAYGBwYGBgQGBgYGBgcGBgYGAAAHBgYABwYIBQgFAwgJBgUECAYFBgcICAYGBgAGBwAABAcGAAAGBwAGBQcGBQgIAAcHAwYIBwMIBgUGBgkECAcGAQcABgYFAwUEBwYAAAcGCAYAAwcJBwYGBwYGBQYGBgQHBwgAAAAABAYHBwgGCAYAAAcIBwUGBwcHBgUIBgcAAAcFBggFBQgAAAgABgYGCAYIBggAAAUGBwYGAAYHBggIBAUIBwgFBAAFBwYIBgAGBQUGBAYHBgQFAAgFBQUIBgcHCggGCAYHCAcIBwcIBAAABQYHAAYICAYABQgGCAYGBgYEBgUAAAYIBQgABwcFBgYGBgYGBQYHAAYGCQcICAcGBQYABwYIBgYHCAYIBAcFBwcEBgAIBQcGBQcGCAgEBQcGCAcGBwAGCAYFBgUGBQcIBQcGCAYHBwcIBQcFBgYGCQcGBAcIBwYGBgcGBgAHBQUGBgYGAAUHBwcGBgAGBgYGBgAHBwYGBgYHBgUGBwYGBgUHCAAGCAYFCQcGBgYHBgUGBggHBgYJBwcGCQUHBwgFBQgIBAYHCAgABgYFBQcGBggGCAUHBwYEBwgHBgUHBgYGBggGBggHBwcEBwYFBggIBAAGBgcHAAYFBQUHBgYICAcGBwgGAAgFBgYGBgYFBQYHCAYICAAHBQUGCAgGBgYGBgAACAYGAAcHBwcHCAUKBggIBgYAAAYGBwYGBgYHBgAHBgYABgcIBgcGCAcIAAMGBQUEBAYGBQkABgUGBggIAAAHCAcGBgYHBQYIBggHBgAGCAYGBwYIBgUHBgcHBgcHAAYGCAYGCAYHBQYHBgUGCAYIBggGBgAJBwYGBQgGBgcHBgcFBwUHAAYHBgADBwUFBgcGBgYFBgQGAAAABgcHCAYABgcHCQYGBgQGBgYGBwAIAQcIBgYGBwYDBggGBQYIBgYGBQYIBwYJBwQGBAgHBwYFBQUGBwUHBgYFBwcFBgYIBgYGBgYGBggHBgcGBwYFBAYIBggABwcGBgUFBQcGBgAHBgYGBgUIBwYGBwYFBwAGCAUIBQUGBQcFBgcGAAAGBwgGBwcIBgYHBwYGAAYJBAUGBgUIBwYIAAAFBAYGBgQIBAcGCAAHBgQFBwgHBwgGBgAGBwQGBwAGBgcHCAYFCAcGBgcGBAUHBAYGAAUICAUFCAYGBgYABQUGBwgJBQYIBwYHBgYHCAcIBQgHCAgJBAcFBgYGBAYHBwYGBgUAAAgGCAUGBQUIBggGCAYGBwQIBQcGBwgBAwgFBwYFCAgHBgQGBQcHBgQABwUGCAAIBwYHBgcHBgcGBgcIBgUFAAAGBgYGBQYHBgYGBQUGBwYACAQHBgYGBwcIBgcGCAcIBgcGAAYGBQYHBQYGCAcGBwYAAAYFBggEBggGBgYFCAYIBQgGBggHAAgICAUHBwUIBgcGBAYAAwkHBgYHBgcHBgcEBgYIBwYGBQgHCAQEBwYGBQAIBwYGBwYHBAYABgAABwgGBwYHBgYGBwcHBAUAAAUIBQcGBgYGBgQABwgFBgcHBgUGAAAGBwgGBgYFBgYGBwcAAAYHCAcGBQUABwUIBggHBwcHAQYHBwYGBwYHBAcIBAcFBQQHBwYGBwYFBgAACQcFCAcGBwcHCAAHCAYEBQcGBgkEBQQHBwAABgUHBQgGBAYAAAgGCAQGBgcFCAUGBggGBAQBAAcIBQgIBgYGBAUFBgYHBAYFBQcGBAAABgYHCAULBwgGBwYGAAUGCAgHBggFBwYGBgYFCAYHBgYHBgcGCQcHBgcHCQkGBgYAAAUGBAgFBgYGBgYIBggIBAgHBwUHBwcHBQgFAAAAAAAGBggGBwYGBwYECAYDAAAGBgYFBQcGBAcFBwQICAcIBggHCAYFBAUAAAYGBAYEBgUICAAFBwgHBgcGBgQHBggGBgYEBAYAAAcGBggICAYIBgcGCQADCAcIBwYIBwYIBwcFBQAAAAYGBggLBwgGBgQEBwYIAAAACAYGBgYICAUEBgYICAcGCAAIBQYGBQQHBQcGBwcGBwEFBQYICAgHCAYHBggFBwcHBwYGBAgHCAcABgYHBgYJBQgGBggHBgQHCAYGBAYHAAAGBwUJBQgGBwgEBQYIBgUABgYGBgYGBgUHBgUFCAcGBgYMBAgICQYEBgUGBgcFBggDBAUEBgcGCAcGBgUGBggKBwYHBwYHBAABBwcIBgYFCAYHCAYGCAgHBQcGCQYABwgIBggICAcGBwYIBgYGBgYIBQYABQcGBgYECAgGBggGBgcFBwYHAAAGBgcFCAYGBQQIBQgGBgYGBgYFBAUGAQAJBQYIBQcJAAkGBQgFBgYGBggHBgYHCAcHAAgFBgMGBwYGBgcGBgYHCAQFBQgABAgEBwcIBAgHCAYHBgcECAcEBQAAAAUHBwUIBwYGBAQGBQYEBwgGCAUIBQAGAwYFBwgGBQYIBAYFBwcGCAgHBgYAAAYHBgUEBQYGCAYFBQcFAwAABgcGCAQGCAUGBQYEBgAABgUIBQgHBwcJBQgIBgUGBwYFBgQICAcGBwAAAAgHBgcGBQQFBgcIBAgGAAAGBgYHBgUGBgcGBAYGBgUFCAYIBgcFBgUACAgGCgYGBQYIBAYGBgUGBggGBgcICAYHBAAAAAUHBQgHBgYGBgcIBQgGBQkHBgYFCAcGBwcHBQcGBgcGBwUIBwYGAAQGCQYGBgYIBwYIBAUIBwYIAAAACAYIBggGCQgGBQcICAgECAYGCAQGBQAAAAYHCAQFBQYHBwYHCAYHBgcHBQoFBwcIBwABBgYGBwcEBAYFBgUICAYGBQgGCAoGBgcHBgYAAAAABgcIBgcGBAQGBQcICAcGBwYGBgYFCAUEBQcGAAcIBQYFBgYICAQHBAYHBwAGCQgGBAgGBwgFBgYGBggGCAYHBwYFCAgIBQYEBggGCQcABgADAAYGBwYGBwYGBQcGBgUFBgcECAQHBgYGBAUGBggHBgYHBgYAAAAGBQQJBQgFBwcGBAYKBggIBQgGBgYHBgUAAQAIBgcFCAcHBwcIBQUHBQYGBgYGBAYFBggIBgYGBQgGBwYGBgQGBgYEBwYHCAgAAAcHBgYIBAYIBggHBgQEBggGCAYFBgUAAAAABgoGCAcHBwgIBgQGBQcHBgYIBwYGAAAIBgUIBwYFCAYGCAYGBAQJCAUHBQcABQYHBwgEBgcGBgYGBgUIBQUGBAcGCAAAAAIGCAYIBgcHBAUHCAYIBQUGBgcFBQcGCAcAAAAACQYHBgUKBgkGBgYFCAgHBwYEBwQGBgYGCAYFBgYGBQYFBgYIAAAGBwcIBgQFBgUHBgYHCAYGBQYGBwYICAYHBQUHBAcFBQUECAUAAAAAAAAFBgYGBwYGBgYGCAUHBggGBwgHBwcFBgcAAAAGBAUEBgcIBQQGBggHBwYJCAYEBwYFBwQFCAYGBQYAAAQABwYGBwYEBwYGBgYJBAcIBQgGBgcGBgYEBwgFCAYIBwgGBAcFBwYFBgcDAAAAAAgGBQYIBgUGBAYIBwYHBwYFBQcGCAcEAAYAAAAAAAAGBwgHBAYECAUIBwgECAcGBgkBBwYGBggFBwYIBgUFCAcGBgcFBgQIBgYEBgYIBwYAAAAAAQAABAQJBgYKBggGCAcGBwUFBAYGCAcGBgYDBgcEBgcGAAAABQYFBwcFBwUHBwgEBgYGCAYGBQgIBwcFBwcEBgUEBgcHBgcHBwYAAAAIBwUIBwQHCAgEBgYIBwcFBQYICAYHCAcEBgUICQcFBwAABwQGBgQIBAcGBQYFCAYGBgYGCAYCBgcEBwYIBgYHBQgKBgoGBAcIBgUHBAcGCAYGAAABAAADBgUCCAcGCAgFBgoGBwYHBgQHBwYGBAcGBwgFCAgHCQcIBggECAcIBgAAAAAABgcIBQYIAwcHBwUHBgQGBgYGCAYGCAYHBgYEBAgJBgYFCAcGCwYHCAQGAwcHBQYABwQHBwYGBgUGBggIBgYHBggFCAQFCQcEBAQHBgYGCAcFBgQIBwYIBQAACAUHBQgHBQQGBgYGBgUGAQcGBgcGCQQHBAgIBgYGBAcGBAgFBAgFBgAAAAABAAAABAYKBgUHBgcIBwUHBwQGBgQFBgcECAgECAYEBgYIBwcIBwcIBgYGBQYHBQUIBAAFAAAIBgcIBAcEBgYEBQcFBQYHBwQJBQgEBQYFBgcEBgYHBgYGBAcIBgQHBwcBAAAAAAAJBgYGBgUHBgcIBQUFBgYKBgQHBgkECAYECAYFBwQGCQgGBwUFBQYFBwcAAAAAAQAIBwYEBQgICAgFCAcGBgcIBgYICAgGBwgFBwgFBQgGCAgGAAAAAAAHBgUICAUEBQgFBAUGBQYGBwUIBwUGBAgHBgUJBgYFBgYGBwgFBgcGCAcHAAAGBgYGCAUGBQkLBwgGBgcJBwUHBwYEBgYFBwgIBgUGBggIBQYHBwQHCQkGBgcIBwMGCAYGAAAAAAQGAwAAAAQHBgYECggGBQcGCAgGBwYEBwcGBQYFBwcECAUGCAUHAwQABAAABQYHBAQGBQYHBwgHBQYIBQwFBwIFBgUGCAgGBgQGBQYGBQcHAwcIBgYHBgYGAwAAAAAAAAAAAAQFBQUIBggFBwUGBAcDBQkFBgYGBgcEBgYHBQkIBgQHBAgFAAAAAAAHBQYGCQYGBQgIBAUGBwcJBgUGBQYHBAUIBwQIBAgIBQgFCAcEBwQFCAUGBgQIBwcHAAADAAAGAwYEBwYIBgUJBQYGBgcEBAYHCAgIBgUGBgcGBgQICAgGBgUIBQgFCAYGBgYHBgcHAAAAAAEAAAAABQQGCAcGBwgGBwUJBgQIBwYHBQYFBgQGBgYHBgYCBQcECAgFBwkJBwcIBgcHAAAFBAcHCgYIBgYEBgQHBQUGBgQEBAkEBAcHBAUFBwYGBAYIBwQHBQQHBAUIBQgIBwcICgAAAAAAAAAABAQIBwYIBgYHBQQFBgcHBAUGBwYIBAUFBgYGBgUECAcFBgUHBgcGCAUAAAQAAAAAAAQGBgQGBgYEBAgKCAUGBQYIBQYFBAQFBAgGBgUGCQYHBwYGBwQFCQgAAAAAAQAAAAAGBAkKBgcIBQYIBwYEBwYGBwQGBwQHDAgGBwQHBAcIBwYKCAYFBgUHBgcIBgMAAAAAAAAAAAAABAQEBwcIBwcGBgUIBgoEDAcHBgUGBQYHBwYGBQUFBwUHBgUIBAUGCAQHBAYIBwcEBQgHCAYGBAAAAAIAAAAAAAAFBAUHCAgEBAQICAgICAYFBQQGBAQHBgQHBAcHBggIBwQGCAcEBgQGBQcHBwYGBgIGCAcABQEAAAAAAAQFBgYGBgQFCAcGBwgGBgUICQUGCwUFBQQFBwcDBQQGBwUMBgUEBQUIBwYGBQcIBwoGBggIBAUFCAgGBgQAAAAHBggHCAgEBgcHBgcGBgQHBQgGBQYEBQYEBAcGBggEBgYECAgGBwQGBAcHBgcICAYGCAQHBwQJBggGAwAAAAACAQEAAAAAAAMGBggHBAYFBwYEBQUFBAQGBAQEBggHCAcHCAYFBwcGBgYGCAQIBggHBgQHCAgGBAYAAAAAAAQFBwQGCQgJBwUHBAgFBAYHBgUGBgYHCAUHBQoEBgcFBgYGBgcFCAcEBgYIBgcIBwYGBgUIBQUGBwQGCAgFCAYAAAAABAcIBQYFBAYHBAcGBgUIBwcIBwgFBwYHCAcEBQgHBgUHBAQGCAUGDAYIBwYHBwUHBwcHBgcHCAUIBgUGBgUAAAAAAAIAAAAAAAQECAYHBQgHCQgFBgYFBAUEBQYGBQYEBggGBwQFBAYGBAYFBAYHCAgEBQcHBwgIBwcEBQQFCAQIBwgEBgYHBgcICQgFAAAAAAAAAAAAAAQFBQgIBAQEBgYICAYFBwYGBQcGBwYGBwgIBgYJCAcHBAcFBQYDBwcGBgYGBgYIAQAAAAAAAAAAAAAEBgYGBgcFBgYGBggFBwYIBQcEBwgICAQGBQQHBQUHBAUEBQYGBAgHCAgHBgYIBgYIBgYGBAQFBggGAAAAAAAAAQAEBQYGBgQICAcFBggIBwYHBAcGCAgGBwgEBQgGBgUHCAcGCAcGCAYHBAYFBAQICAcIBggEBgcHCAYGCQYICAcHCAUFBgUHBAAAAAAAAAQJBgcGBwYHBQYHBwYIBAUGCAcEBQgFBgQFBggHBAYIBAQGBwcIBwYIBwYGBQgIBgkGBgcGBwgGCAcJAAAAAAAAAAQAAAcEBgQICAUGCQkHCgYGBwUGCAYGCAgFBgkHBQQGBgYFBAQHBAYECAUICAcEBAUEBgcGBwYFBQYEBQQIBwUGBwQHBwQEBgYFBwYFBgAAAAAAAwQDAAAACQYKCAYHBgUFBgYFCAcFCAcDCAgIBgcHBgQJBgcFBgcFCAgECAYIBgcEBgYIBgYEBgcGBQcGCAgGBQcIBgcGBwYIBwUIBwcFCAYGBAgGBgcFBQEAAAAAAAQFAAAAAAAAAAYGCwYGBgcHBwYGBgYGBQcJBgcIBwUGBggGBgcJBQgGBgkGBwgEBwcHBwQGCAgHBgYGBggICAgFBgYHBgcGBwcGBQcHBgUFBgYGBggIAAAAAAMAAAAAAAAAAAUFCAkHBgYGBAYHBQgFCAMECAYGBwYFBwgGBAUIBwcGBQYHBwgGBQUGCAkGBgUGCAYIBgQICAUIBAYGCAYGBAcGBQcFAAAAAAIAAAAAAAAABwYHCAUJBQgEBgYIBggFCAcEBQYJBgcHCAcFBgUIBgcGCAgIBggHBgQJBAYIBgQECAgICAoGBwQIBgYGBQcHCAcGCAYGCAYFAAAEAAAAAAAAAQAAAAAAAAYECAYGBgcGBQYHBQYFBgkGCAUGBQgHBgUHBwQHBgYGAwYIBgcEBQYHBggJBwYHBgYFBwYGBgQGBwUIBgcHBgYFBgcGBwYEBgYDAQAAAAAAAAAAAAAACAgECAYEBggFBAcHBwUIBQYHBgcHBgUEBwYHBgYHBQQGBQcFBAcICAcIBggGBgUHBgYFBwgFBgYFBwcEBwcFBgcAAAAAAAAAAAIBAAAAAAAAAAAABgYFBgUIBwYICAYHBgUGBgYGBwcGBAcGBgYGBwQHBwYHCAUGBwQGBwYICQYGBQYICAcGBwsIBwYFBwUFBQgEBAcHBAYHBgQGBAcGBQYFCAcGBgUAAAAAAAAAAAYHBgQHBwYIBAYFBgYHBgcFCAUFCQYIBAgECAgHBgcEBgYHCgYFBQcFBgQICAgFBwUFCAYHBgYHBgcHBwgJBAcGBgUGBwcHBgcFCAgECAYICAgEBgAFAAAAAAAABAAAAQAAAAAAAAAABgcIBgYGBQcHBgYIBQYGCAYGBgYHBgcIBgUGCAYGBwgFBggFBgYFBAcHCAQHBgUHBgUIBgYECAgHCAcGBggGCAgIAwUGBgYKBwsAAAAAAAAAAAAAAAEAAAAAAAAAAAAAAAAGCAQFBgYIBwkHBwgLBgYIBQgFBwYGBQgIBgcEBgcHBwUGBwcGBgYGBAYIBgUEBgUJBgcGBQYGBwcGBQwGCAcICAcFCQcGBQQGBgcHBggHBwcGCAUEBgYHBwYHCAYGBwAAAAAAAAAAAAAAAAADAAAAAAAAAAAAAAAFCAYIBwkGBQcEBQYHBwYEBwcJBQUIBgUGBAYGCAgFBQQICAUIBwYGBQQIBwYFBwYHBgYIBwcGBQgHBgYAAAAAAAAAAAAAAAAAAAAAAAAAAAAAAAAAAAcGBAcGBwgIBggGBgQFBwgGBgUIBQUIBQcIBgUGBgUHBgcHBwkHBwYFCAgFBgYHBgYGBwUFCAcHBwYICgAAAAAAAAAAAAAAAAAAAAAAAAAAAAAAAAAAAAAAAAAAAAAAAAAJCAgFBgcHBwYGBggFBwcGBwYHBQUIBAcHBQUHBwUHBgkFBAcHBQkIBwcGBgQGBgUHBwcGBgQDBQYJCAcHCAUGBAUFCAcGBQgHBwcFBwUIBgcFBwcGCAYHBgUGBgYGBwAAAAAAAgAAAAAAAAAAAAAAAAAABAAAAAAAAAAAAAAAAAAAAAAAAAAAAAAGBQgFCAgHCAYHBgYIBwcIBAYFBwcIBggIBgcGBwYHBwcICAgIBwYGBQUGBQUHBwQIBAcGBQYFBwYFBgYFBQUHBggIBQgFBQgFBgYICAcIBgkIBgYICAYHBwYIBAYICAUGAAAEAAAAAAAAAAAAAAAAAAAAAAAAAgIAAAAAAAAAAAgGBAQHBQkIBgUGBgUIBQYFBgUFBgUGBQkGBwUHBgYGBggGCAcHBgYFBwYGBQYGBggHBwgFBAQFCAgIBAUIBgcFBwUIBwYGBwcICAcHBggECAgGBQYGAAAFAAAAAAAAAAAAAAAAAAAAAAAAAAAAAAAAAAAAAAAAAAAAAAAAAAcGCAYFCQcIBAUIBggHCAYJBgYIBQcFBgcGAQcIBwYGCAQIBgQIBwcGBAgIBgUFBgQGBQgHCAQKBgYEBwcGBgQHCQYHCQYHBgcHBAYFCAUGBgYIBwUFBgYHBgcHCAgHBgcAAAAAAAAAAAAAAAAAAAAAAAAAAAABAAAAAQAAAAAAAAAAAAAAAAAAAAAEBwYIBgYGBggGBgYGBgkHBAgJBwUECAcGBgcHCAYFBQYHBgUFBgYGBgcGBAQGCAcECAUHBgUFBgYGCAcIBwcHCAcGBQUGBwcIBQgFBgcIBwQGBgQFCAYGCAcICAYGBgUIBAYFBgYHBwQGCQUGBgYFBwgHBgYFAAAAAAAAAAAAAAAAAAAAAAAAAAAABgAAAAAAAAAAAAAAAAAAAAAABAAAAAAAAAAAAAAAAAAAAAAAAAAAAAAGBggFCAYEBQcIBwUHBwYHBwcHBQcGBAUHBgQGBgMFBQUFBwgECAUFBQQGCAUGCAUFBgQHBwQFBggKBgYFCAcIBAcLBAcIBwgHBgYIBwYHBQYGBAcGBwYIBwcIBQYICAcIBwcEBgYHBgUJAAAAAAAAAAAAAAAAAAADAAAAAAAAAAAGAAAAAAAAAAAAAAAAAAAAAAAAAAAAAAcEBgcGBgoECAQFCAUGCAcHBgcFCggIBgYGBgUHBQYGBgYHCAgHBggGBgYFBQgGCAgIBgUGBQYGBQcIBQcIBQoFBwYICAgHBQgGBwcICAQFBgYGBQkGBwUHBwUHBgYFBwUJBQYGBQYIBgcKBgQAAAAAAAAAAAAAAAAAAAAAAAAAAAAAAAAAAAAAAAAAAAAAAAAAAAAAAAAAAAAABgcFCAcGBQYIBQcICAcFBQcGCAcGCAYGCAQIBgUGCAYHBgYGBQQIBwgHCQYFCAgJAwcGCAcGBwkGBgYGBgcFBgYHBQUFCwcIBQYIBgYGBgcGBggGBQUIBwcHCQcGBwUFBQYIBgQHBgUGBAUIBQUFBQgHBwYFBQYBAAAAAAAAAAAAAAAAAAAAAAAAAAAAAAAAAAAAAAMAAAAAAAAAAAAAAAAAAAQAAAAAAAAAAAAAAAAAAAAAAAAAAAAAAAAAAAAGBAYGBQcIBwcKBQYFCAcIBwgHBgYFCAgGBQYGBQoGBggHBgUGBAYFBQgCBgYGBwcHCggFBQUGBwQFBgcIBAgICAUIBgUKCAYGBgYICAUFBAYGCAkHCAgEBwQFBQQGBwgHBgYGBQUGBwYHAAAAAAAAAAAAAAAAAAAAAAAAAAAAAAAAAAAAAAAAAAABAAAAAAAAAAAAAAAAAAAAAAAAAAAAAAAAAAAAAAAAAAAAAAAABwQGCAcHBQYGCQcFBgwICgYFBQQECAgGAwYHCAcLBwUHBgUJBgcEBgYIBAcEBwQDBwQFBgQFCAQIBwcHBAUIBgQHBwYHBwQHBwcGBwoHBwcFCAUFBgYFBggGBgYGCAYIBQQJBgcGBwcGBgYIBwgGBggHAAAAAAAAAAAAAAAAAAAAAAAAAAAAAAAAAAAAAAAAAAAAAAAAAAAAAAAAAAAAAAAAAAAAAAAAAAAAAAAAAAAAAAAAAAAAAAAAAAAAAAAAAAAEBgQGBgcFBwgICAUHCAoGCAcGCAcFBggEBgQFBgUJBgQHBQgBBQgFCAcHCAgIBwcKBwgGBwgLBgYFCAcIBAYHBwgHBAgFBgYFBgYKBggIBgYGCAgGBgcIBQgHCAcICAgGBwYHBggGCAgGBgcIBAYHBggFBQQGBggJBQcICAgIBwgGBwYKAAAAAAAAAAUAAAAAAAAAAAAAAAAAAAAAAAAAAAAAAAAAAAAAAAAAAAAAAAAAAAAAAAAAAAAAAAADAAAAAAAAAAAAAAAAAAAAAAAAAAAAAAAAAAAAAAAABwYICQcGCAcFBwcHBgUHBgYGCAgGBggICAcHBgYGBwcICAQEBgoHBgYFCAYIBQYIBggEBwcGCAcFBgYIBwcEBAgICAUGBgUGBgkHBgYFBwcEBQYHBgcIBQYGBQcFBQgGCAoGBggGBgYEBAYGBQUHBwkAAAAEAAMAAAAAAAAAAAAAAAAAAAAAAAAAAAYAAAAAAAAAAAAAAAAAAAAABgAAAAAAAAAAAAAAAAAAAAAAAAAAAAAFBAMBAQAAAAAAAAAAAAAAAAAAAAAAAAAAAAAAAAAAAAAAAAAAAAAAAAAHCQYGBgQHCAcIBgYIBQYFCAcGBgYJBQgIBQUIBgUFBgcGBQcIBwcHBAcFCAcIBwcHBwYHBggJBwYGBgcGBgYGBgEGCAcGBgUIBggGCAYHBwcHBgUGBgYEBQgHCAgHBgYGBAcIBgYHCAYGBgcHCAkGBgYEBAQHBQUHBQcFBAUEBgYAAAAAAAAAAAAAAAAAAAAAAAAAAAAAAAAAAAAAAAAAAAAAAAAAAAAAAAADAAAAAAAAAAAAAAAAAAAAAAAAAAABAAMAAAAAAAAAAAAAAAAAAAEAAAAAAAAAAAAAAAAAAAAAAAAAAAAAAAAAAAAAAAAAAAAAAAAJCAYGBAcIBgUFCAYHCAcICQUIBQcFBgcGBgcEBwgIBwEGBwUFCAgHCAUIBgUIBwgFBwMHBggFCAYDBAYGBgUHBQUFBgYIBwYGBgYIBgcHBgQGBwYFBQcGBQcGCQUIBAYEBQUICAUEBQcGCAcGCAYFBQgFBgYFBwYGCAgHBQgGBgcGBgYGBQQGBwYHBggGBAoHAwcGBggGBgcIAAAAAAAAAAAAAAAAAAAAAAAAAAAAAAAAAAAAAAAAAAAAAAAAAAAAAAAABgkAAAAAAAAAAAAAAAAAAAAAAAAAAAAAAAAAAwEAAAAAAAAAAAAAAAAAAAAAAAAAAAAAAAAAAAAAAAAAAAAAAAAAAAAAAAAAAAAAAAAAAAAAAAAAAAAAAAQGCAoGBgcFBgcHBwkFBwUEBAgECAcGBgYIBggGBAYFBQYHBwQIBwgICAcICAYGBQYGBwUIBAcGCAgGBwwIBwYGBggJBAYGBggGBgUGCAYGBQgGBgUGBggHBQYGBwYHBQgHBggGCAYECAQFBggGBwcICAgGCAcHBQYFBgUHCAcHBgYHCAcGBQgHBgcFBwABAAAAAAAAAAAAAAAAAAAAAAAAAAAAAAAAAAAAAAAAAAAAAAAAAAAAAAAAAAAABwAAAAAAAAAAAAAAAAAAAAAAAAAAAAAAAAAAAAAAAAAAAAAAAAABAAAAAAAAAAAAAAAAAAAAAAAAAAAAAAAAAAAAAAAAAAAAAAAAAAAAAAAAAAAAAAAAAAAABQYGBgcGBwgHCAYHBgYIBgQFBQUHBggFBwYIBQcHBwcIBAYGBwYDBgYBBgcGBQQHCAcEBgQIBggEBggICAYGCAYIBQYFBgYGBQYIBQYIBgQGBwYECQYHBwcHBgcGBgcEBwUGBAkGBwYGBAYHBggICAgHCAUGBAYHBgcGBgQGBgUFCAcJCQUHBwYHBwkGBwcIBgYGCAUAAwAAAAAAAAAAAAAAAAAAAAAAAAAAAAAAAAAAAAAAAAAAAAAAAAAAAAAAAAAAAAAAAAAAAAAAAAAEBAYAAAAAAAAAAAAAAAAAAAAAAAAAAAAAAAAAAAAAAAAABAEAAAAAAAAAAAAAAAAAAAAAAAABAAAAAAAAAAAAAAAAAAAAAAAAAAAAAAAAAAAAAAAABgQGBgYGBwUHCAYFBAUFBgcGBwYFCAcGBwUGBgYHBgUGBAgGBggMBgYGBQcHCAYGBgcEBggJBAYGBwYGBgYHBgcIBggICAUGBgYGBQgHBQUICAcHBwUHBwUHBwYLBggFBwcFCQYLBgYGCwUGBgQGBgUGBwgLBwgJCQcEBAcFBQ==",
          "dtype": "i1"
         },
         "yaxis": "y"
        }
       ],
       "layout": {
        "font": {
         "color": "white"
        },
        "legend": {
         "tracegroupgap": 0
        },
        "paper_bgcolor": "#050b18",
        "plot_bgcolor": "#050b18",
        "template": {
         "data": {
          "bar": [
           {
            "error_x": {
             "color": "#f2f5fa"
            },
            "error_y": {
             "color": "#f2f5fa"
            },
            "marker": {
             "line": {
              "color": "rgb(17,17,17)",
              "width": 0.5
             },
             "pattern": {
              "fillmode": "overlay",
              "size": 10,
              "solidity": 0.2
             }
            },
            "type": "bar"
           }
          ],
          "barpolar": [
           {
            "marker": {
             "line": {
              "color": "rgb(17,17,17)",
              "width": 0.5
             },
             "pattern": {
              "fillmode": "overlay",
              "size": 10,
              "solidity": 0.2
             }
            },
            "type": "barpolar"
           }
          ],
          "carpet": [
           {
            "aaxis": {
             "endlinecolor": "#A2B1C6",
             "gridcolor": "#506784",
             "linecolor": "#506784",
             "minorgridcolor": "#506784",
             "startlinecolor": "#A2B1C6"
            },
            "baxis": {
             "endlinecolor": "#A2B1C6",
             "gridcolor": "#506784",
             "linecolor": "#506784",
             "minorgridcolor": "#506784",
             "startlinecolor": "#A2B1C6"
            },
            "type": "carpet"
           }
          ],
          "choropleth": [
           {
            "colorbar": {
             "outlinewidth": 0,
             "ticks": ""
            },
            "type": "choropleth"
           }
          ],
          "contour": [
           {
            "colorbar": {
             "outlinewidth": 0,
             "ticks": ""
            },
            "colorscale": [
             [
              0,
              "#0d0887"
             ],
             [
              0.1111111111111111,
              "#46039f"
             ],
             [
              0.2222222222222222,
              "#7201a8"
             ],
             [
              0.3333333333333333,
              "#9c179e"
             ],
             [
              0.4444444444444444,
              "#bd3786"
             ],
             [
              0.5555555555555556,
              "#d8576b"
             ],
             [
              0.6666666666666666,
              "#ed7953"
             ],
             [
              0.7777777777777778,
              "#fb9f3a"
             ],
             [
              0.8888888888888888,
              "#fdca26"
             ],
             [
              1,
              "#f0f921"
             ]
            ],
            "type": "contour"
           }
          ],
          "contourcarpet": [
           {
            "colorbar": {
             "outlinewidth": 0,
             "ticks": ""
            },
            "type": "contourcarpet"
           }
          ],
          "heatmap": [
           {
            "colorbar": {
             "outlinewidth": 0,
             "ticks": ""
            },
            "colorscale": [
             [
              0,
              "#0d0887"
             ],
             [
              0.1111111111111111,
              "#46039f"
             ],
             [
              0.2222222222222222,
              "#7201a8"
             ],
             [
              0.3333333333333333,
              "#9c179e"
             ],
             [
              0.4444444444444444,
              "#bd3786"
             ],
             [
              0.5555555555555556,
              "#d8576b"
             ],
             [
              0.6666666666666666,
              "#ed7953"
             ],
             [
              0.7777777777777778,
              "#fb9f3a"
             ],
             [
              0.8888888888888888,
              "#fdca26"
             ],
             [
              1,
              "#f0f921"
             ]
            ],
            "type": "heatmap"
           }
          ],
          "histogram": [
           {
            "marker": {
             "pattern": {
              "fillmode": "overlay",
              "size": 10,
              "solidity": 0.2
             }
            },
            "type": "histogram"
           }
          ],
          "histogram2d": [
           {
            "colorbar": {
             "outlinewidth": 0,
             "ticks": ""
            },
            "colorscale": [
             [
              0,
              "#0d0887"
             ],
             [
              0.1111111111111111,
              "#46039f"
             ],
             [
              0.2222222222222222,
              "#7201a8"
             ],
             [
              0.3333333333333333,
              "#9c179e"
             ],
             [
              0.4444444444444444,
              "#bd3786"
             ],
             [
              0.5555555555555556,
              "#d8576b"
             ],
             [
              0.6666666666666666,
              "#ed7953"
             ],
             [
              0.7777777777777778,
              "#fb9f3a"
             ],
             [
              0.8888888888888888,
              "#fdca26"
             ],
             [
              1,
              "#f0f921"
             ]
            ],
            "type": "histogram2d"
           }
          ],
          "histogram2dcontour": [
           {
            "colorbar": {
             "outlinewidth": 0,
             "ticks": ""
            },
            "colorscale": [
             [
              0,
              "#0d0887"
             ],
             [
              0.1111111111111111,
              "#46039f"
             ],
             [
              0.2222222222222222,
              "#7201a8"
             ],
             [
              0.3333333333333333,
              "#9c179e"
             ],
             [
              0.4444444444444444,
              "#bd3786"
             ],
             [
              0.5555555555555556,
              "#d8576b"
             ],
             [
              0.6666666666666666,
              "#ed7953"
             ],
             [
              0.7777777777777778,
              "#fb9f3a"
             ],
             [
              0.8888888888888888,
              "#fdca26"
             ],
             [
              1,
              "#f0f921"
             ]
            ],
            "type": "histogram2dcontour"
           }
          ],
          "mesh3d": [
           {
            "colorbar": {
             "outlinewidth": 0,
             "ticks": ""
            },
            "type": "mesh3d"
           }
          ],
          "parcoords": [
           {
            "line": {
             "colorbar": {
              "outlinewidth": 0,
              "ticks": ""
             }
            },
            "type": "parcoords"
           }
          ],
          "pie": [
           {
            "automargin": true,
            "type": "pie"
           }
          ],
          "scatter": [
           {
            "marker": {
             "line": {
              "color": "#283442"
             }
            },
            "type": "scatter"
           }
          ],
          "scatter3d": [
           {
            "line": {
             "colorbar": {
              "outlinewidth": 0,
              "ticks": ""
             }
            },
            "marker": {
             "colorbar": {
              "outlinewidth": 0,
              "ticks": ""
             }
            },
            "type": "scatter3d"
           }
          ],
          "scattercarpet": [
           {
            "marker": {
             "colorbar": {
              "outlinewidth": 0,
              "ticks": ""
             }
            },
            "type": "scattercarpet"
           }
          ],
          "scattergeo": [
           {
            "marker": {
             "colorbar": {
              "outlinewidth": 0,
              "ticks": ""
             }
            },
            "type": "scattergeo"
           }
          ],
          "scattergl": [
           {
            "marker": {
             "line": {
              "color": "#283442"
             }
            },
            "type": "scattergl"
           }
          ],
          "scattermap": [
           {
            "marker": {
             "colorbar": {
              "outlinewidth": 0,
              "ticks": ""
             }
            },
            "type": "scattermap"
           }
          ],
          "scattermapbox": [
           {
            "marker": {
             "colorbar": {
              "outlinewidth": 0,
              "ticks": ""
             }
            },
            "type": "scattermapbox"
           }
          ],
          "scatterpolar": [
           {
            "marker": {
             "colorbar": {
              "outlinewidth": 0,
              "ticks": ""
             }
            },
            "type": "scatterpolar"
           }
          ],
          "scatterpolargl": [
           {
            "marker": {
             "colorbar": {
              "outlinewidth": 0,
              "ticks": ""
             }
            },
            "type": "scatterpolargl"
           }
          ],
          "scatterternary": [
           {
            "marker": {
             "colorbar": {
              "outlinewidth": 0,
              "ticks": ""
             }
            },
            "type": "scatterternary"
           }
          ],
          "surface": [
           {
            "colorbar": {
             "outlinewidth": 0,
             "ticks": ""
            },
            "colorscale": [
             [
              0,
              "#0d0887"
             ],
             [
              0.1111111111111111,
              "#46039f"
             ],
             [
              0.2222222222222222,
              "#7201a8"
             ],
             [
              0.3333333333333333,
              "#9c179e"
             ],
             [
              0.4444444444444444,
              "#bd3786"
             ],
             [
              0.5555555555555556,
              "#d8576b"
             ],
             [
              0.6666666666666666,
              "#ed7953"
             ],
             [
              0.7777777777777778,
              "#fb9f3a"
             ],
             [
              0.8888888888888888,
              "#fdca26"
             ],
             [
              1,
              "#f0f921"
             ]
            ],
            "type": "surface"
           }
          ],
          "table": [
           {
            "cells": {
             "fill": {
              "color": "#506784"
             },
             "line": {
              "color": "rgb(17,17,17)"
             }
            },
            "header": {
             "fill": {
              "color": "#2a3f5f"
             },
             "line": {
              "color": "rgb(17,17,17)"
             }
            },
            "type": "table"
           }
          ]
         },
         "layout": {
          "annotationdefaults": {
           "arrowcolor": "#f2f5fa",
           "arrowhead": 0,
           "arrowwidth": 1
          },
          "autotypenumbers": "strict",
          "coloraxis": {
           "colorbar": {
            "outlinewidth": 0,
            "ticks": ""
           }
          },
          "colorscale": {
           "diverging": [
            [
             0,
             "#8e0152"
            ],
            [
             0.1,
             "#c51b7d"
            ],
            [
             0.2,
             "#de77ae"
            ],
            [
             0.3,
             "#f1b6da"
            ],
            [
             0.4,
             "#fde0ef"
            ],
            [
             0.5,
             "#f7f7f7"
            ],
            [
             0.6,
             "#e6f5d0"
            ],
            [
             0.7,
             "#b8e186"
            ],
            [
             0.8,
             "#7fbc41"
            ],
            [
             0.9,
             "#4d9221"
            ],
            [
             1,
             "#276419"
            ]
           ],
           "sequential": [
            [
             0,
             "#0d0887"
            ],
            [
             0.1111111111111111,
             "#46039f"
            ],
            [
             0.2222222222222222,
             "#7201a8"
            ],
            [
             0.3333333333333333,
             "#9c179e"
            ],
            [
             0.4444444444444444,
             "#bd3786"
            ],
            [
             0.5555555555555556,
             "#d8576b"
            ],
            [
             0.6666666666666666,
             "#ed7953"
            ],
            [
             0.7777777777777778,
             "#fb9f3a"
            ],
            [
             0.8888888888888888,
             "#fdca26"
            ],
            [
             1,
             "#f0f921"
            ]
           ],
           "sequentialminus": [
            [
             0,
             "#0d0887"
            ],
            [
             0.1111111111111111,
             "#46039f"
            ],
            [
             0.2222222222222222,
             "#7201a8"
            ],
            [
             0.3333333333333333,
             "#9c179e"
            ],
            [
             0.4444444444444444,
             "#bd3786"
            ],
            [
             0.5555555555555556,
             "#d8576b"
            ],
            [
             0.6666666666666666,
             "#ed7953"
            ],
            [
             0.7777777777777778,
             "#fb9f3a"
            ],
            [
             0.8888888888888888,
             "#fdca26"
            ],
            [
             1,
             "#f0f921"
            ]
           ]
          },
          "colorway": [
           "#636efa",
           "#EF553B",
           "#00cc96",
           "#ab63fa",
           "#FFA15A",
           "#19d3f3",
           "#FF6692",
           "#B6E880",
           "#FF97FF",
           "#FECB52"
          ],
          "font": {
           "color": "#f2f5fa"
          },
          "geo": {
           "bgcolor": "rgb(17,17,17)",
           "lakecolor": "rgb(17,17,17)",
           "landcolor": "rgb(17,17,17)",
           "showlakes": true,
           "showland": true,
           "subunitcolor": "#506784"
          },
          "hoverlabel": {
           "align": "left"
          },
          "hovermode": "closest",
          "mapbox": {
           "style": "dark"
          },
          "paper_bgcolor": "rgb(17,17,17)",
          "plot_bgcolor": "rgb(17,17,17)",
          "polar": {
           "angularaxis": {
            "gridcolor": "#506784",
            "linecolor": "#506784",
            "ticks": ""
           },
           "bgcolor": "rgb(17,17,17)",
           "radialaxis": {
            "gridcolor": "#506784",
            "linecolor": "#506784",
            "ticks": ""
           }
          },
          "scene": {
           "xaxis": {
            "backgroundcolor": "rgb(17,17,17)",
            "gridcolor": "#506784",
            "gridwidth": 2,
            "linecolor": "#506784",
            "showbackground": true,
            "ticks": "",
            "zerolinecolor": "#C8D4E3"
           },
           "yaxis": {
            "backgroundcolor": "rgb(17,17,17)",
            "gridcolor": "#506784",
            "gridwidth": 2,
            "linecolor": "#506784",
            "showbackground": true,
            "ticks": "",
            "zerolinecolor": "#C8D4E3"
           },
           "zaxis": {
            "backgroundcolor": "rgb(17,17,17)",
            "gridcolor": "#506784",
            "gridwidth": 2,
            "linecolor": "#506784",
            "showbackground": true,
            "ticks": "",
            "zerolinecolor": "#C8D4E3"
           }
          },
          "shapedefaults": {
           "line": {
            "color": "#f2f5fa"
           }
          },
          "sliderdefaults": {
           "bgcolor": "#C8D4E3",
           "bordercolor": "rgb(17,17,17)",
           "borderwidth": 1,
           "tickwidth": 0
          },
          "ternary": {
           "aaxis": {
            "gridcolor": "#506784",
            "linecolor": "#506784",
            "ticks": ""
           },
           "baxis": {
            "gridcolor": "#506784",
            "linecolor": "#506784",
            "ticks": ""
           },
           "bgcolor": "rgb(17,17,17)",
           "caxis": {
            "gridcolor": "#506784",
            "linecolor": "#506784",
            "ticks": ""
           }
          },
          "title": {
           "x": 0.05
          },
          "updatemenudefaults": {
           "bgcolor": "#506784",
           "borderwidth": 0
          },
          "xaxis": {
           "automargin": true,
           "gridcolor": "#283442",
           "linecolor": "#506784",
           "ticks": "",
           "title": {
            "standoff": 15
           },
           "zerolinecolor": "#283442",
           "zerolinewidth": 2
          },
          "yaxis": {
           "automargin": true,
           "gridcolor": "#283442",
           "linecolor": "#506784",
           "ticks": "",
           "title": {
            "standoff": 15
           },
           "zerolinecolor": "#283442",
           "zerolinewidth": 2
          }
         }
        },
        "title": {
         "text": "🔡 Lunghezza vs Numero di Lettere"
        },
        "xaxis": {
         "anchor": "y",
         "domain": [
          0,
          1
         ],
         "title": {
          "text": "Lunghezza"
         }
        },
        "yaxis": {
         "anchor": "x",
         "domain": [
          0,
          1
         ],
         "title": {
          "text": "Numero di lettere"
         }
        }
       }
      }
     },
     "metadata": {},
     "output_type": "display_data"
    }
   ],
   "source": [
    "import pandas as pd\n",
    "import plotly.express as px\n",
    "import plotly.graph_objects as go\n",
    "\n",
    "# Caricamento dataset\n",
    "df = pd.read_csv(\"common_passwords.csv\")\n",
    "fig = px.histogram(df, x=\"length\", nbins=20, opacity=0.85,\n",
    "                   title=\"🔐 Distribuzione della Lunghezza delle Password\",\n",
    "                   template=\"plotly_dark\",\n",
    "                   color_discrete_sequence=[\"deepskyblue\"])\n",
    "fig.update_layout(\n",
    "    plot_bgcolor=\"#050b18\",\n",
    "    paper_bgcolor=\"#050b18\",\n",
    "    font=dict(color=\"white\"),\n",
    "    xaxis_title=\"Lunghezza\",\n",
    "    yaxis_title=\"Frequenza\"\n",
    ")\n",
    "fig.show()\n",
    "df_bar = df.groupby(\"length\")[[\"num_chars\", \"num_digits\", \"num_special\"]].mean().reset_index()\n",
    "\n",
    "fig = go.Figure()\n",
    "fig.add_trace(go.Bar(name='Lettere', x=df_bar[\"length\"], y=df_bar[\"num_chars\"],\n",
    "                     marker_color='lightskyblue'))\n",
    "fig.add_trace(go.Bar(name='Cifre', x=df_bar[\"length\"], y=df_bar[\"num_digits\"],\n",
    "                     marker_color='royalblue'))\n",
    "fig.add_trace(go.Bar(name='Speciali', x=df_bar[\"length\"], y=df_bar[\"num_special\"],\n",
    "                     marker_color='mediumblue'))\n",
    "\n",
    "fig.update_layout(\n",
    "    barmode='stack',\n",
    "    title=\"🧱 Composizione media dei caratteri per lunghezza\",\n",
    "    xaxis_title=\"Lunghezza della password\",\n",
    "    yaxis_title=\"Conteggio medio per tipo\",\n",
    "    template=\"plotly_dark\",\n",
    "    plot_bgcolor=\"#050b18\",\n",
    "    paper_bgcolor=\"#050b18\",\n",
    "    font=dict(color=\"white\")\n",
    ")\n",
    "fig.show()\n",
    "fig = px.scatter(df, x=\"length\", y=\"num_chars\",\n",
    "                 title=\"🔡 Lunghezza vs Numero di Lettere\",\n",
    "                 template=\"plotly_dark\",\n",
    "                 color_discrete_sequence=[\"cyan\"],\n",
    "                 opacity=0.4)\n",
    "\n",
    "fig.update_layout(\n",
    "    plot_bgcolor=\"#050b18\",\n",
    "    paper_bgcolor=\"#050b18\",\n",
    "    font=dict(color=\"white\"),\n",
    "    xaxis_title=\"Lunghezza\",\n",
    "    yaxis_title=\"Numero di lettere\"\n",
    ")\n",
    "fig.show()\n"
   ]
  },
  {
   "cell_type": "markdown",
   "id": "9bda52f3",
   "metadata": {},
   "source": [
    "IDEE GPT"
   ]
  },
  {
   "cell_type": "code",
   "execution_count": null,
   "id": "6f02b3ba",
   "metadata": {},
   "outputs": [
    {
     "data": {
      "application/vnd.plotly.v1+json": {
       "config": {
        "plotlyServerURL": "https://plot.ly"
       },
       "data": [
        {
         "bingroup": "x",
         "hovertemplate": "length=%{x}<br>count=%{y}<extra></extra>",
         "legendgroup": "",
         "marker": {
          "color": "deepskyblue",
          "opacity": 0.85,
          "pattern": {
           "shape": ""
          }
         },
         "name": "",
         "nbinsx": 20,
         "orientation": "v",
         "showlegend": false,
         "type": "histogram",
         "x": {
          "bdata": "BggIBgkFBAYHBgYNBggGBwYGBgYKBgcKBwYFCAgHBgYGBgYGCAYIBwYGBgYGBgYGCAgGBAcGBgYGBggHBgYHCAgHBgQGBggGBwYEBAYGBgYIBgYGBgQGBAYHBgcGBwkGBgcGBgcIBQYHBgcGBwgGBgYGCAcGBAYKBwgHBgUGBgcIBgYHCAYHBgYIBwYEBgYHBgYHBwYGCAYIBgcGBwYGBgYHBgYGCQcGBgcIBgYIBgYGBgcGBgUHBgYGBgcGBgQGBggHBwYHBgcGBgYGBgYGBgYGCAYGBwYGBgcHBQYIBgYHBgUGBQYGBggHCAcGBgcGBgcIBgUGBwYIBwgHCAgGBgYHBwcGBgUGBwYHBwcEBgcIBgYIBgQFBAYHBgUGBgcGBggIBQgGBgQHBgYFCAgJBgYGCQYICQYEBAUICAcHBwYEBAYGCAgJBAYHBgYGBgYIBgcHBgcGBAkGBggGBwYGCAYHBwYHBgYGBAYIBgcGBwcGCAYIBwoGBwYIBQYECAQHBgcGBAYHBgYIBgYGBAUGBgYIBgYIBAgGBQoIBwYFBwYGBgYFBgYFBggEBwgHBgQHBggIBggEBggEBgYIBQYGBgUGBAYGBggGBAYGBQgEBAgGCAYIBwYGCAgFBAUJBwYGCAYIBQYFCAYGBwYHBgcGBgYGBwgGBwcIBAgHBwYGBggGBwcECAkICAYHBwcGBgYGCAYHBAgGCAYGBwcGCQYIBAYGBwUGBgYGBggHBwkGBgcFCAUGCAYEBgcGBggECAYHBgYGBwYEBwgGBAgIBgYGBggFBgUHBgoHBgQHBgYECAcGBggGBgUECQgGCAcEBQcGCAcHBgYGBgYGBgcIBggGBggGBgQIBQYEBgYFBgYHBgQEBwcIBgQFBggHBggGBQUGBQQKBgUGBwgIBAYGBggEBwcIBgYGBAYGBggICAUKBwYGCgcIBwcLBgYHBAcHBQQHBQUIBggHBwcGCAcGBwYGBAcIBAYIBgYEBgcFBgcIBAgHBwcIBgYGCAYGCQUGBwcIBggEBwYEBggFBQYHBggGCAgGCAgHBggIBAgFBgUGCAYIBgYFBwQHBAcIBgYGBAcFBgYHBQcHBgYIBgYFBwYGBwQIBgcIBwUHCAgHBQQEBwYGBgYHBgYGBgYEBwUGCAcGBwcIBgYHBggICAcFCAcGBgkHCAcFBwUICAYGBgYECAgGCAcGCAYGBwYGBgQGBgYGBgcGBgYGCQoHBgYEBwYIBQgFBggJBgUECAYGBgcICAYGBgYGCAkFBAcGBgQGBwQGBQcGBQgIBAcHBgYIBwYIBgUGBgkECAcGCgcEBgYFBgUEBwYECAcGCAYIBgcJBwYGBwYGBQYGBgQHBwgIBAoFBAYHBwgGCAYEBgcIBwUGBwcHBgYIBgcECAcFBggGBwgEBAgECQYGCAYIBggGBgYGCAYGBgYHBggICAUIBwsFBAYFBwYIBgYGBQUGBAYHBgQFBggFBQYIBgcHCggGCAYHCAcIBwcIBAYIBQYHBgYICAYEBQgGCAYGBgYEBgYGBgYIBQgEBwcFBgYGBgYGBQYHBgYGCQcICAcGBQYGBwYIBgYHCAYIBAcFBwcEBgQIBQcGBQcGCAgEBQcGCAcGBwQGCwYFBgUGBQcIBgcGCAYHBwcIBQcFBgYGDAcGBAcIBwYGBgcGBggHBQUGBgYGCQUHBwcGBgYGBgYGBgQHCAYGBgYHBgYGBwYGBgUHCAQGCAYFCQcGBgYHBgUGBggHBgYJBwcGCQUHBwgFBQgIBAYHCAgFBgYFBQcGBggGCAUHBwYEBwgHBgUHBgYGBggGBggHBwcHBwYGBggICAgGBgcHBgYFBQUHBgYICAcJCAgGCwgFBgYGBgYFBQYHCAYICAQHBQYGCAgGBgYGBgYGCAYGCAcHBwcICAUKBggIBgYFBAYGBwYGBgYIBgYHBgYGBgcIBgcGCAcIBgYGBQUEBAYGBQwHBgUGBggIBQoHCAcGBgYHBQYIBwgHBgYGCAYGBwYIBgUHBgcHBgcHCAYGCAYGCAYHBQYHBgUGCAcIBggGBgQJBwYGBQgGBggHBgcFBwUHBgYHBgQJCAUFBgcGBgYFBgQGBggIBgcHCAYFBgcHCQYGBgQGBgYGBwMIBgcIBgYGBwgGBggGBQYIBgYGBQYIBwYJCAQGBAgHBwYFBQUGBwUHBgYGBwgFBgYIBgYGBgYGBggHBgcGBwYFBAYIBggGBwcMBgUFBQgGBgkHBgYGBgYIBwYGBwYFBwYGCAYIBQUGBQcFBgcGBQcGBwgGBwcIBgYHBwYGCAYJBAYGBgUIBwYIBgYFBAYGBggIBAcGCAoHBgQFBwgHBwgGBgcGBwQGBwYGBgcHCAYFCAcGBgcGBAUHBAYGBAUICAUFCAYGBgYHBQgGBwgJBQYIBwYHBgYHCAcIBQgHCAgJBgcGBgYGBAYIBwYGBgUECAgGCAUGBQUIBggGCAYGBwQIBQcGBwgIBggFBwYFCAgHBgQGBQcHBggGBwUGCAQIBwYHBgcHBggGBgcIBgUFCAYGBgcGBQYHBgYGBgUGBwYECAQHBgYGBwcIBgcGCAcIBggGCQYGCAYHBQYGCAcGBwYFBgYFBggEBggGBgYFCAYIBQgGBggHBggICAUHBwUIBgcGBAYGBgkHBgYHBgcHBgcEBgYIBwYGBQgHCAQEBwYGBQYIBwYGBwYHBgYEDAQGBwgGBwYHBgcGBwcIBAUGBgUIBgcGBgYGBgQGBwgFBgcHBgUGBAkGBwgGCAsGBgYGBwcJBgYHCAcGBQUEBwUIBggHBwcHCAYHBwYGBwYHBAcIBAcFBQQHBwYGBwYFBgQJCQcGCAcGBwcHCAgHCAYEBgcGBgkEBQQHBwkKBgUHBQgGBwYIBwgGCAQGBgcGCAUGBggGBAcHBAcIBQgIBgYGBAYFBgYHBAYFBQcGCAgIBgYHCAUPBwgGBwYGBgUGCAgHBggFBwYGBgYFCAYHBgYHBgcGCQcHBgcHCQkGBgYGBAYGBQgFBgYGBgYIBggIBAgHBwUHBwcHBQgFBQYGBAcGBggGBwYGBwYECAYGCAYGBgYFBQcGBwcFBwQICAcIBggHCAYGBAUGCgYGBAYEBgUICAQFCAgHBgcGBgQHBggGBgYEBAYGBgcGBggICAYIBgcGCQQGCAcIBwYIBwYIBwcFBQYICAYGBggLBwgGBgQEBwYIBgcFCAYGBgYICAUEBgYICAcGCAYIBQYGBQQHBQcGBwcGBwgGBQYICAgHCAYHBggGBwcHBwYGBAgHCAcGCAYHBgYJBQgGBggHBgQHCAYGBAYHBQgGBwUJBwgGBwgEBQYIBgUEBgYGBgYGBgUHBgUFCAcGBgYMBAgICQYEBgUGBgcFBggFCAUEBgcGCAcGBgUGBggLCAYHBwYHCAgHBwcIBgYFCAYHCAYGCAgHBQcGCQYGBwgIBggICAcGBwYIBgYGBgYIBQYGBQgGBgYECAgGBggGBggFBwYIBgYMBgcFCAYGBgQIBQgGBgYGBgYFBAUGCwgJBQYIBQcJBAkGBQgGBgYGBggHBgYHCAcHBggFBgYGCAYGBgcGBgYHCAQFBQgFBAgEBwcIBAgHCAYHBgcECAcGCAYICgUHBwYICAYGBAQGBQYHBwgGCAUIBQgGBgYFBwgGBQYIBAYFBwcGCAgHBgYGBgYHDAYEBgYGCAYFBQgGBgYIBgcGCAQGCAYGBQYEBggGBgUIBQgHBwcJCAgIBgUGBwYFBgQICAcHBwYHCQgIBgcGBgQFBgcIBAgGCgQGBgYHBgUGBgcGBAYGBgYGCAYIBgcFBgUHCAgGCgcGBQYICAYGBgUGBggGBgcICAYHBAgFBgUHBQgHBggGBgcIBQgGBQkHBgYFCAcGBwcIBQcGBggGBwUICAYGCgQGCQYGBgYIBwYIBAYIBwYIBgYICAYIBggGCQgGBQcICAgECAYGCAQGCAYICAYHCAQFBQYHCAYHCAYHBgcHBQoFBwcIBwgHBgYGBwcEBgYFBgYICAYGBggGCAoGBgcHBgYICAQIBgcIBgcGBAQHBQcICAcGBwYGBgYFCAUEBQcGBAcIBQYFBgYICAQIBAYHBwYGCQgGBAgGBwkFBgYGBggGCAYHBwcGCAgIBQYEBggGCQcJCAQHCAYGBwYGBwYGBQcGBgUFBggECAQHBgYGBAUGBggHBgYHBgYGCAgGBQQJBggFBwcGBAcKBggIBggGBgYHBgUGCgQICAcFCAcHBwcIBQgHBQYGBgYIBAYFBggIBgYGBQgGBwYIBgQGBgYEBwYICAgHBgcHBgYIBAYIBggHBgQEBggGCAYGBgUICAQGBgoGCAcHBwgIBgQGBQcHBgYIBwYHCAYIBgUIBwYGCAYGCAYGBAQJCAUIBQcIBQYHBwgEBgcGBgYGBgUIBQUGBgcGCAUICAgGCAYIBggHBAUHCAYIBgUGBgcFBQcGCAgEBAYJCQYHBgYNBgkGBgYFCAgHBwYECAQGBgYGCAYFBgYGBQYGBgYICAYGBwcIBwQFBgYHBgYHCAYGBgcGBwYICAYHCAUHBAcFBgUECAUJBgYEBAgFBgYGBwYGBgYGCAYHBwgGBwgHBwcFBgcGBgYGBAYEBgcICAQHBggHBwYJCAYEBwYFBwQGCAYGBgYHBgYGBwYGBwYEBwYGBgYJBAcIBQgGBggGBggEBwgICAYJBwgGBAcGBwYFBgcICQYGBggGBQYIBgUGBAYIBwYHBwYFBgcGCAcEBgkEBgkGBAYGBwgHBAYECAUIBwgECAgGBgkICAYGBggHBwYIBgYGCAcGBgcGBgQIBgYEBgYIBwYHBggGBwgFBAQJBgYKBggGCAcGCAUFBAYGCAcGBgYHBgcEBgcGCQYGBQYFBwcFBwUHBwgHBgYGCAYGBggIBwcGBwcEBgUEBgcHBgcHBwYEBAgIBwUIBwQHCAgIBgYIBwcFBQYICAYHCAcEBgUICQcFBwQGBwcGBgQIBAcGBQYFCAYGBgYGCAYGBgcGBwcIBgYHBQgKBgoHBAcIBgUIBAcGCAcGBgcHBAgGBgUGCAcGCAgGBgoGBwYHBgQIBwYGBAcGBwgFCAgHCQcIBwgECAcIBgYGCAgEBgcIBQYIBgcHBwgHBgQGBgYGCAYGCAYHBgYEBAgJBgYFCAcGCwYICAQGBgcHBQYIBwQHBwYHBgUGBggIBgYHBggFCAQFCQcEBAQHBgYGCAcFBgQIBwYIBQYGCAUHBQgHBgQGBgYGBgcGBwgGBgcICQQHBAgIBgYGBAcGBAgGBAgIBgcGBgQGBggIBwYKBgYHBgcIBwUHCAQGBgQGBgcECAgECAYHBgYIBwcIBwcIBgYGBQYHBQUIBAYICAgIBgcIBAcIBgYGBgcFBgYHBwQJBQgEBgYGBgcEBgYHBgYGBAcIBgQHBwcKBAgGCAgJBgcGBgUHBgcIBQUFBgYKBgQHBgkECAYECAYFBwQGCQgGBwUFBQYGCAcGBgYICQQIBwYEBQgICAgFCAcGBgcICAYICAgGBwgGBwgFBQgGCAgGBQYIBAgHBgUICAUEBQgFBAUGBQYGBwUIBwYGBAgHBgUJBgYFBgYGBwgFBgcGCAcHCAYGBgYGCAUGBQkLBwgKBgcJCgUHBwYEBgYFBwgIBgUGBggIBQYHBwQHCQkGBgcIBwYGCAYGBAgIBAgJBgUEBgQHBgYECggGBQcGCAgGBwYEBwcGBQYFBwcECAUGCAUHBwQECQYGBQYHBAQGBQYHBwkHBQYIBQwFBwYFBgUGCAgGBgQGBgYGBQcHBgcIBgYHBgYHBgYGBgQICAUICAQFBQYIBggFBwYGBAcDBQkFBwYGBgcEBgYHBgkIBgQHBAgFBgYHCAgIBQYGCQYGBQgIBAUGBwcJBgUGBQYHBAUIBwQIBAgIBQgICAcEBwQFCAUGBgQIBwcHBAkICAgIBgYEBwYIBgUJBQYGBgcEBAYHCAgIBgUGBgcGBgQICAgGCQUIBggGCAYGBgYHBgcHBwYEBgcMBAQIBQQGCAcGBwgGBwYJBgQIBwYHBQYGBgQGBgYHBgYEBgcECAgFBwkJBwcIBgcHBggFBAcHCgYIBgYEBgQHBQUGBgQEBAkEBAcHBAUGBwYGBAYIBwQHBQQHBAUIBQgIBwcICgcECAgEBAgIBAQIBwYIBgYHBQQFBggIBAYGBwYIBAUFBgcGBgUECAcFBgUIBgcGCAUIBgYICAgICAQGBgQGBgYEBAgKCAUGBQYIBQYFBAQFBwgGBgYGCQcHBwYGBwQFCQgGBgQECQgICAgGBAkKBgcIBQYICAYEBwYGBwQGBwQHDAgGCAQHBAcIBwYKCAYFBgUHBgcIBgYGBggEBAQECAgFBAQEBwcIBwcGBgYIBgoEEAcHBgkGBgYHBwYGBgUFBwUHBgUIBAYGCAQHBAYICAcEBggHCAYGBwYGCgYHBggICAYFBAUHCAgEBAQICAgICAYFBQQGBAQHBgQHBAcHBggIBwQGCAcEBgQGBQcHBwYGBgUGCAoEBwcICAgICAQFBgYGBgQFCAcGBwgGBgUICQUGCwUFBgQFBwcGBgQGBwUMBwUEBgUIBwYGBQgIBwoGBggIBAYGCAkGBgYGCAgHBggHCAgEBgcHBgcGBgQHBQgGBQYEBQYEBgcGBggGBgYECAgGBwQGBAcHBgcICAYGCAQHBwQJBggGBgkGBAgIBgsGCAgICAYGBggHBAYFBwYEBQUFBAQGBAQEBggHCAcHCAYFBwcGBgYGCAQIBggHBgQHCAgGBAYECAgICAQFBwQGCQgJBwUHBAgFBAYHBgUGBgYHCAYHBgoEBgcFBgYGBgcFCAcEBgYIBgcIBwYGBgUIBQYGBwQHCAgFCAgGBgQIBAcIBQYGBAYHBAcGBgUIBwcIBwkFBwcHCAcEBQgHBgUHBAQGCAUGDAcIBwYHCAUHBwcHBgcHCAUIBgUGBgUHBAQGCAgKCAgICAgECgYHBQgHCQgFBgYFBAUIBQYGBQYEBwgGCAQFBAYGBAYFBAYICAgEBQcHBwgIBwcEBQQFCAQIBwgEBgYHBgcICQgFBgUECAQICAgICAQFBQgIBwQEBgYICAcFBwYGBQgGBwYGBwgIBgYJCAcHBAgFBQgGBwcGBgYGBgYIBgQFBAgICAgIBggEBggGBgcGBgYGBggFBwYIBQcECAgICAQGBQQHBgUHBAUEBQYGBAgHCAgIBgYIBwYIBgYGBAQFBggGBgQIBgQEBwgEBQYGBgQICAcFBggIBwYHBAcGCAgGCAgEBQgHBgUHCAcGCAcGCAYHBAYFBAQICAcIBggEBgcICAYGCQYICAcHCAUGBgUHBwYICAgIBgQJBggGBwYHBQYHBwYIBAUGCAcEBQgGBgQFCAgHBAYIBAQGBwgIBwYIBwcHBggIBgkGBgcGBwgGCAcJBAUEBAYEBggICAcEBgQICAUGCQkHCgYGBwYGCAYHCAgFBgkIBQQGBgYFBAQHBAYECAUICAcEBAgEBgcGBwYFBQYEBgQIBwUGBwYHBwQEBgYFBwYFBgYGBgYGBggJCAgICQYKCAYHBgUGBgYFCAcGCAcGCAgIBgcHBgQJBgcGBgcFCAgECAYIBgcEBgYIBgYEBggGBQcGCAgGCAcIBgcGBwYIBwUIBwcGCAYGBAgGBgcFBQoGBwQGCAYGBAcEBwgICAYGCwYGBgcHBwYHBgYGBQcJBgcIBwYGBggGBggMBQgGBgkGBwgEBwcHBwQGCAgHBgYHBggICAgFBgYHBgcGBwcGBgcHBgcFBgYGBggIBgQJCAYEBAgICAgICAUFCAkHBgYGBAYIBQgGCAYECAYGBwYGBwgHBAYIBwcGBgYHCAgGBQUGCAkHBgUGCAYIBgQICAUIBAYHCAYGBgcGBQcFBggECQUGCAgICAgIBwYHCAUJBQgEBgYIBwgGCAcGBQYJBgcHCAcFBgUIBgcGCAgIBggHBgQJBAYIBgQECAgICAoGBwQIBgYGBQcHCAgGCAYGCAYGBQYHBggECAYEBwgICAgICAYECAYHBgcGBQYHBQYFBgkGCAUGBQgICAUHBwQHBwYGBgYIBgcKBgYHBggJBwYHBgYFCAYGBgQGBwUIBgcHBgYFBgcGBwYGBgYGCQYIBAgIBggICAgICAgECAYEBwgHBAcHBwUICAYHBgcHBwUEBwYHBgYHBQQGBQcGBAcICAcIBggGBgUHBgYFBwgFBgYFBwcEBwcFBgcHBgoGBggECAYHBAYICAgICAgIBgYICAUIBwYICAYHBgUGBgYGBwcGBAgGBgcGBwQHBwYICAYGBwQGBwYICQgGBgYJCAcGBwsIBwYFBwUFBggEBAcHBAYHBgQGBAcGBQYGCAcGBgcEBgQICAgICAYKBgQHBwYIBAYFBgYHBgcHCAUFCQYIBAgICAgHBgcEBgYHCgYFBQgGBgcICAgFBwUFCAYHCAYHBgcHCAgJBAcGBwUGBwcHBgcGCAgECAYICAgEBggJCAYICAgICAgIBwgICAgICAgIBggIBgYGBQgHBgYIBQYGCAYGBgcHBgcIBgYICAYGBwgFBwgIBgYFBAcHCAQHBgUHBgUIBgYECAgHCAcGBggGCAgIBgUGCAYKBwsKBgYGCAgIBAgGBAoEBAQICAgICAgICAQGCAQGBgYIBwkHBwgLBgYIBggFBwcHBQgIBgcEBwcHBwYGBwcGBgYGBwcIBwUEBgUJBggGBQYGBwcGBQwGCAcICAcFCQcGBQQGBgcHBwgHBwcGCAUEBgYIBwYHCAgGBwUECAgICAgECAgECAgGCQgGCAgICAgICAgFCAYIBwkGBQcEBQYHBwYFBwcJBgUKBgUGBAYGCAgFBgQICAgIBwYGBQQIBwYGBwYIBwYIBwcGBggHBgYGBgYECAgICAQICAgICAgICAgICAgICAgICAcGBAcGBwgIBggGBgQGBwgICQUIBQUIBQcIBgUGBgYHBgcHBwkHBwYGCAgFBgYHBgYGBwUFCAcIBwYICgkGCAgICAgICAgIBQgICAgGCAQICAgECAYICAgICAgICAgICAcMCAgFBgcHBwYICAgGBwcGBwYHBQkIBAcHBQoICAUHCQkFBAcHBgkIBwcGBgQGBgUHBwcGBgQGBgYJCAcHCAUHBAUFCAcGBQgHBwcFBwgIBgcFBwcGCAcHBwUGBgYGBwYECAQIBgYICAgIBAgICAgICAgICAcECAgIBAQICAgICAgICAgICAgICAgGBQgGCAgHCAYHBgYIBwcIBAYHBwcIBggIBgcGBwYHBwcICAgIBwYGBgUGBQYHCAQIBAcGBQYFBwYGBgYFBQUHBggIBQgFBQgFBgYICAcIBgkIBgYICAYHBwYIBAYICAgGBgYGBggICAYICAgICAgICAgIBggIBwgECAgICAgIBggGBAgHBQkIBgUGBgUIBQYGBgUGBgUGBQkGBwULBgYGBggGCAcHBgYFBwYGBQYGBggHBwkFBAcFCAgIBAUIBgcFBwgIBwcGBwcICAcHBggECAgGBgYGBgYHBAYGCAgICAgICAgECAgICAgICAYIBggECAQICAgICAgICAgGCAgGCAYFCQcIBAYIBggICAcJBgYIBQcFBgcGBgcIBwYGCAQIBwQICAcGBAgIBgUFBgQHBQgHCAQKBgYEBwcGBgQHCQkHCQYHBgcIBAYFCAUGBgcIBwgGBgYHBgcHCAgHBgcHCAYICAgICAgICAQICAgICAgICAgGCAgIBggICAgICAgICAgICAgICAgECAYIBgYGBggGBgYGBgkHBggJBwUECAcGBgcHCAYGBQYHBgUHCQYGBgcGBAQGCAcECAYIBgUGCAYGCAcIBwgHCAcGBQUGCAcIBQgGBgcIBwQGDAQFCAYGCAcICAYHBgUIBAYFBgYHBwYGCQUGBgYFBwgHBgYFBgQGCAgICAgICAgIBAgICAgICAgIBwgECAgICAgICAgICAgICAkICAUECAQICAgGCAgGCAgICAgICAcICAgGBggGCAYEBQgIBwUHBwYHBwcHBQcGBAUHBgQHBgYFBgUFCAsECAUFBQQGCAcGCAYFBgUHBwQFBggKBwYGCAcIBwcLBAcIBwgHBgYIBwYHBQYGBAcGBwYIBwcIBgYICAcIBwcEBgYHBgUJCgQGCAgECAgICAgICAgGCAgICAgGCAYLCAgICAgICAQIBAgICAgICAgICAgICAcEBgcGBgoECAQFCAUGCAcHBgcGCggIBgYGCAUHBQYGBgYICAgHBggGCAYFBQgGCAgIBgUGBQYGBQcIBQcIBQoIBwYICAgHBQgGBwcICAQFBgYGBQkGBwgHBwUHBgYFBwUJBQkGBQYIBgcKBgUGCAgICAgICAgICAgHCAgICAgICAgICAQEBgYGBAQIBAgICAgICAgICAgICAgIBgcGCAgGBgYIBQgICAcFBgcGCAcGCAYGCAQIBgYGCAYHBgYGBQQICAgHCQYICAgJBgcGCAcGCAkGBwYGBgcFBgYHBQUFCwcIBgYIBgYHBgcGBggGBgYIBwcHCQcGCAUFCAYIBgQHBggGBAYIBQUFBggHBwcFBQYFBgYEBwQICAgICAgICAgICAYICAgICAgICAgECAQGCAgICAgICAgICAgICAcHBgQECAgIBAgICAgEBAgICAgICAgICAgICAgGBAYGBQcICAcKBQYFCAcIBwgHBgYFCAgGBQYGBQoGBggHBgUGBAYFBggGBgYGBwcHCggGBQUGBwQFBgcIBAgICAUIBgUKCAYHBwgICAUFBAYGCAkHCAgEBwYGBQQGBwgHBgYGBQUGBwYHBAQGCAgICAgICAgICAgICAgICAgICAgICAgICAgICAgHCAgICAgICAgGCAgICAgICAgICAgICAgICAgICAgICAgICAgIBwcGCAcHBQYGCQcGBgwICgYFBQQECAgGBgYHCAcLCAYHBgkJBgcEBgcIBAgIBwQDBwQFBgQFCAQIBwcHBAcIBgQHBwYHBwYHBwcGBwoHBwcFCAYFBgYFBggHBgYGCAYIBQQJBgcGBwcGBgYIBwgGBggHBgYGCAgICAgICAgICAgICAgICAgICAgICAgIBAgICAgICAgICAgHCAgICAgIBggICAYIBAgIBggICAQICAgICAgICAgICAgICAgICggICAUHBgQGBgcFBwgICAUHCAoGCAcHCAgFBggEBgQFBgYJBgQHBQgKBQgICAcHCAgIBwcKBwgGBwgLBgYHCAcIBAYHBwgHBAgFBgYFBgYKBggIBgYGCAgGBggIBQgHCAcJCAgGBwYIBggGCAgGBgcIBAYHBwgFBQYGBggJBQgICAgIBwgHBwYKBggJCAgICAcICAgICAgICAgICAgICAgICAgIBggICAgICAgICAgICAgICAgICAgICAgICAgICAgIBwgICAgICAgICAQIBAgICAgICAgICAgICAgICAYIBwYICQcGCAcGBwgHBwUIBgYICAgGBggICAcHBgYGCAcICAQEBgoHBgYGCAYIBQYIBggIBwcGCAcFBgYIBwcEBAgICAUHBgUGBgkHBwYFBwcIBQYHBgcIBQcGBQcFBQgGCAoGBggGBgYGBAgGBQYHBwkGCQYIBAcFCAgICAgICAgICAgICAgICAgICAgICAgICAgICAgICAgICAgIBwgICAgICAgICAgICAgICAgICAgICAgICQgHCgoICAYICAgICAQECAgICAgICAgICAgECAgICAgICAgICAgICAgHCQcGBgQICAcIBgYIBQYFCAcGBgYJBggIBQYIBggFBgcGBQcIBwcIBAcFCAcICAcIBwgHBggJBwcGBgcGBgYGBgcGCAcGBgUIBggGCAgIBwcHBgUHBgYEBQgHCAgHBgYGBAcICAYHCAYHBgcHCAkGBgcECAQHBgUHBQcGBAUGBgYGBAQGCAgICAgICAgICAgICAgICAgICAgICAgICAgICggICAgICAgICAgGBAgIBAgICAgICAgICAgICAgICAQGBwwKBwQICAgICAgECAgIBgYIBAgICAgICAgICAgICAgICAgICAgICAgICAgGCAgICAgICAgJCAYGBAcIBgUFCAYHCAcICQUIBgcFBgcGBgcECAgIBwgGBwYFCAgHCAUIBgUIBwgGBwgIBggFCAYHBAYGBgUHBQUFBgYIBwYGBgYIBgcHBgQGBwYGBQcGBQcGCQUIBAYEBgUICAYEBQgGCAcHCAYFBQgFBgYFBwYGCAgHBQgGBgcGBgYGBQQGBwYHBggGBAoHBgcGBggGBgcIBAYICAgICAgICAgECAgICAgICAgICAgICAgICAgICAgICAgICAgICAgICAwICAgICAgICAgICAgICAgICAgICAgHCAgICQoKCAgICAgIBAYECAgECAgICAgICAgICAgICAgICAgICAgICAgICAgICAgICAgICAgICAgIBAgICAgICAcGCAoGBgcFBgcHBwkGCAUEBAgECAcGBwYIBggGBAYFBgYHBwcIBwgICAcICAYGBgYGBwUIBAgGCAgGBwwIBwYGBggKBAYGBggJBgYHCAYGBQgGBgUGBggHBgcGBwYHBggHBggGCAYECAQFBggGBwcICAgGCAcHBQYGBgUHCAgHBgYHCAcGBQgHBgcFBwYIBggICAgICAgICAgICAgICAgICAgICAgICAgICAgICAgICAgICAgICAgICAgICAgICAgICAgICAgICAgICAgICAgICAgICAgICAgICAgICAgICAgHCwYECAQICAgICAQICAgECAgICAgICAgICAgICAgICAgICAgICAgICAgICAgICAgICAYGBgYGBwcGBwgHCAYHBgYIBgQFBQUIBggGCAcIBQcHBwcIBAYGBwYFBgYHBgcGBQQHCAcEBgQIBggEBgkICAYGCAcIBgYFBgYGBQYIBQYIBgQHBwYECQYHBwcHBgcGBgcEBwUGBAkGBwcGBAYHBggICAgICAUGBAYHBgcGBgQGBgUFCAgJCQUHBwYHBwkGBwcIBgYGCAUEBQYICAgICAgICAgICAgICAgICAgICAgICAgICAgICAgICAgFCAgICAgICAgICAgICAgICAgICAgICAcICAgICAgICAgICAgICAgICAgICAgICAgICAgICAQGCAYHCAgICAQIBggICAgICAgEBAQHCAgICAgICAgICAgICAgICAgICAgICAgICAgICAgEBgQHBgYGBwgICAYFBAYFBgcGBwYFCAcGBwUGBgYHBgYGBAgGBggMBwcGBQcICgYGBgcEBggJBAYGBwYGBwYHBgcIBggICAYHBgYGBQgHBQUICAcHBwUHBwYHBwYLBggFBwgFCQYLBgYGCwUGBgQGBgUGBwgLBwgJCQgEBggFBQ==",
          "dtype": "i1"
         },
         "xaxis": "x",
         "yaxis": "y"
        }
       ],
       "layout": {
        "barmode": "relative",
        "font": {
         "color": "white"
        },
        "legend": {
         "tracegroupgap": 0
        },
        "paper_bgcolor": "#050b18",
        "plot_bgcolor": "#050b18",
        "template": {
         "data": {
          "bar": [
           {
            "error_x": {
             "color": "#f2f5fa"
            },
            "error_y": {
             "color": "#f2f5fa"
            },
            "marker": {
             "line": {
              "color": "rgb(17,17,17)",
              "width": 0.5
             },
             "pattern": {
              "fillmode": "overlay",
              "size": 10,
              "solidity": 0.2
             }
            },
            "type": "bar"
           }
          ],
          "barpolar": [
           {
            "marker": {
             "line": {
              "color": "rgb(17,17,17)",
              "width": 0.5
             },
             "pattern": {
              "fillmode": "overlay",
              "size": 10,
              "solidity": 0.2
             }
            },
            "type": "barpolar"
           }
          ],
          "carpet": [
           {
            "aaxis": {
             "endlinecolor": "#A2B1C6",
             "gridcolor": "#506784",
             "linecolor": "#506784",
             "minorgridcolor": "#506784",
             "startlinecolor": "#A2B1C6"
            },
            "baxis": {
             "endlinecolor": "#A2B1C6",
             "gridcolor": "#506784",
             "linecolor": "#506784",
             "minorgridcolor": "#506784",
             "startlinecolor": "#A2B1C6"
            },
            "type": "carpet"
           }
          ],
          "choropleth": [
           {
            "colorbar": {
             "outlinewidth": 0,
             "ticks": ""
            },
            "type": "choropleth"
           }
          ],
          "contour": [
           {
            "colorbar": {
             "outlinewidth": 0,
             "ticks": ""
            },
            "colorscale": [
             [
              0,
              "#0d0887"
             ],
             [
              0.1111111111111111,
              "#46039f"
             ],
             [
              0.2222222222222222,
              "#7201a8"
             ],
             [
              0.3333333333333333,
              "#9c179e"
             ],
             [
              0.4444444444444444,
              "#bd3786"
             ],
             [
              0.5555555555555556,
              "#d8576b"
             ],
             [
              0.6666666666666666,
              "#ed7953"
             ],
             [
              0.7777777777777778,
              "#fb9f3a"
             ],
             [
              0.8888888888888888,
              "#fdca26"
             ],
             [
              1,
              "#f0f921"
             ]
            ],
            "type": "contour"
           }
          ],
          "contourcarpet": [
           {
            "colorbar": {
             "outlinewidth": 0,
             "ticks": ""
            },
            "type": "contourcarpet"
           }
          ],
          "heatmap": [
           {
            "colorbar": {
             "outlinewidth": 0,
             "ticks": ""
            },
            "colorscale": [
             [
              0,
              "#0d0887"
             ],
             [
              0.1111111111111111,
              "#46039f"
             ],
             [
              0.2222222222222222,
              "#7201a8"
             ],
             [
              0.3333333333333333,
              "#9c179e"
             ],
             [
              0.4444444444444444,
              "#bd3786"
             ],
             [
              0.5555555555555556,
              "#d8576b"
             ],
             [
              0.6666666666666666,
              "#ed7953"
             ],
             [
              0.7777777777777778,
              "#fb9f3a"
             ],
             [
              0.8888888888888888,
              "#fdca26"
             ],
             [
              1,
              "#f0f921"
             ]
            ],
            "type": "heatmap"
           }
          ],
          "histogram": [
           {
            "marker": {
             "pattern": {
              "fillmode": "overlay",
              "size": 10,
              "solidity": 0.2
             }
            },
            "type": "histogram"
           }
          ],
          "histogram2d": [
           {
            "colorbar": {
             "outlinewidth": 0,
             "ticks": ""
            },
            "colorscale": [
             [
              0,
              "#0d0887"
             ],
             [
              0.1111111111111111,
              "#46039f"
             ],
             [
              0.2222222222222222,
              "#7201a8"
             ],
             [
              0.3333333333333333,
              "#9c179e"
             ],
             [
              0.4444444444444444,
              "#bd3786"
             ],
             [
              0.5555555555555556,
              "#d8576b"
             ],
             [
              0.6666666666666666,
              "#ed7953"
             ],
             [
              0.7777777777777778,
              "#fb9f3a"
             ],
             [
              0.8888888888888888,
              "#fdca26"
             ],
             [
              1,
              "#f0f921"
             ]
            ],
            "type": "histogram2d"
           }
          ],
          "histogram2dcontour": [
           {
            "colorbar": {
             "outlinewidth": 0,
             "ticks": ""
            },
            "colorscale": [
             [
              0,
              "#0d0887"
             ],
             [
              0.1111111111111111,
              "#46039f"
             ],
             [
              0.2222222222222222,
              "#7201a8"
             ],
             [
              0.3333333333333333,
              "#9c179e"
             ],
             [
              0.4444444444444444,
              "#bd3786"
             ],
             [
              0.5555555555555556,
              "#d8576b"
             ],
             [
              0.6666666666666666,
              "#ed7953"
             ],
             [
              0.7777777777777778,
              "#fb9f3a"
             ],
             [
              0.8888888888888888,
              "#fdca26"
             ],
             [
              1,
              "#f0f921"
             ]
            ],
            "type": "histogram2dcontour"
           }
          ],
          "mesh3d": [
           {
            "colorbar": {
             "outlinewidth": 0,
             "ticks": ""
            },
            "type": "mesh3d"
           }
          ],
          "parcoords": [
           {
            "line": {
             "colorbar": {
              "outlinewidth": 0,
              "ticks": ""
             }
            },
            "type": "parcoords"
           }
          ],
          "pie": [
           {
            "automargin": true,
            "type": "pie"
           }
          ],
          "scatter": [
           {
            "marker": {
             "line": {
              "color": "#283442"
             }
            },
            "type": "scatter"
           }
          ],
          "scatter3d": [
           {
            "line": {
             "colorbar": {
              "outlinewidth": 0,
              "ticks": ""
             }
            },
            "marker": {
             "colorbar": {
              "outlinewidth": 0,
              "ticks": ""
             }
            },
            "type": "scatter3d"
           }
          ],
          "scattercarpet": [
           {
            "marker": {
             "colorbar": {
              "outlinewidth": 0,
              "ticks": ""
             }
            },
            "type": "scattercarpet"
           }
          ],
          "scattergeo": [
           {
            "marker": {
             "colorbar": {
              "outlinewidth": 0,
              "ticks": ""
             }
            },
            "type": "scattergeo"
           }
          ],
          "scattergl": [
           {
            "marker": {
             "line": {
              "color": "#283442"
             }
            },
            "type": "scattergl"
           }
          ],
          "scattermap": [
           {
            "marker": {
             "colorbar": {
              "outlinewidth": 0,
              "ticks": ""
             }
            },
            "type": "scattermap"
           }
          ],
          "scattermapbox": [
           {
            "marker": {
             "colorbar": {
              "outlinewidth": 0,
              "ticks": ""
             }
            },
            "type": "scattermapbox"
           }
          ],
          "scatterpolar": [
           {
            "marker": {
             "colorbar": {
              "outlinewidth": 0,
              "ticks": ""
             }
            },
            "type": "scatterpolar"
           }
          ],
          "scatterpolargl": [
           {
            "marker": {
             "colorbar": {
              "outlinewidth": 0,
              "ticks": ""
             }
            },
            "type": "scatterpolargl"
           }
          ],
          "scatterternary": [
           {
            "marker": {
             "colorbar": {
              "outlinewidth": 0,
              "ticks": ""
             }
            },
            "type": "scatterternary"
           }
          ],
          "surface": [
           {
            "colorbar": {
             "outlinewidth": 0,
             "ticks": ""
            },
            "colorscale": [
             [
              0,
              "#0d0887"
             ],
             [
              0.1111111111111111,
              "#46039f"
             ],
             [
              0.2222222222222222,
              "#7201a8"
             ],
             [
              0.3333333333333333,
              "#9c179e"
             ],
             [
              0.4444444444444444,
              "#bd3786"
             ],
             [
              0.5555555555555556,
              "#d8576b"
             ],
             [
              0.6666666666666666,
              "#ed7953"
             ],
             [
              0.7777777777777778,
              "#fb9f3a"
             ],
             [
              0.8888888888888888,
              "#fdca26"
             ],
             [
              1,
              "#f0f921"
             ]
            ],
            "type": "surface"
           }
          ],
          "table": [
           {
            "cells": {
             "fill": {
              "color": "#506784"
             },
             "line": {
              "color": "rgb(17,17,17)"
             }
            },
            "header": {
             "fill": {
              "color": "#2a3f5f"
             },
             "line": {
              "color": "rgb(17,17,17)"
             }
            },
            "type": "table"
           }
          ]
         },
         "layout": {
          "annotationdefaults": {
           "arrowcolor": "#f2f5fa",
           "arrowhead": 0,
           "arrowwidth": 1
          },
          "autotypenumbers": "strict",
          "coloraxis": {
           "colorbar": {
            "outlinewidth": 0,
            "ticks": ""
           }
          },
          "colorscale": {
           "diverging": [
            [
             0,
             "#8e0152"
            ],
            [
             0.1,
             "#c51b7d"
            ],
            [
             0.2,
             "#de77ae"
            ],
            [
             0.3,
             "#f1b6da"
            ],
            [
             0.4,
             "#fde0ef"
            ],
            [
             0.5,
             "#f7f7f7"
            ],
            [
             0.6,
             "#e6f5d0"
            ],
            [
             0.7,
             "#b8e186"
            ],
            [
             0.8,
             "#7fbc41"
            ],
            [
             0.9,
             "#4d9221"
            ],
            [
             1,
             "#276419"
            ]
           ],
           "sequential": [
            [
             0,
             "#0d0887"
            ],
            [
             0.1111111111111111,
             "#46039f"
            ],
            [
             0.2222222222222222,
             "#7201a8"
            ],
            [
             0.3333333333333333,
             "#9c179e"
            ],
            [
             0.4444444444444444,
             "#bd3786"
            ],
            [
             0.5555555555555556,
             "#d8576b"
            ],
            [
             0.6666666666666666,
             "#ed7953"
            ],
            [
             0.7777777777777778,
             "#fb9f3a"
            ],
            [
             0.8888888888888888,
             "#fdca26"
            ],
            [
             1,
             "#f0f921"
            ]
           ],
           "sequentialminus": [
            [
             0,
             "#0d0887"
            ],
            [
             0.1111111111111111,
             "#46039f"
            ],
            [
             0.2222222222222222,
             "#7201a8"
            ],
            [
             0.3333333333333333,
             "#9c179e"
            ],
            [
             0.4444444444444444,
             "#bd3786"
            ],
            [
             0.5555555555555556,
             "#d8576b"
            ],
            [
             0.6666666666666666,
             "#ed7953"
            ],
            [
             0.7777777777777778,
             "#fb9f3a"
            ],
            [
             0.8888888888888888,
             "#fdca26"
            ],
            [
             1,
             "#f0f921"
            ]
           ]
          },
          "colorway": [
           "#636efa",
           "#EF553B",
           "#00cc96",
           "#ab63fa",
           "#FFA15A",
           "#19d3f3",
           "#FF6692",
           "#B6E880",
           "#FF97FF",
           "#FECB52"
          ],
          "font": {
           "color": "#f2f5fa"
          },
          "geo": {
           "bgcolor": "rgb(17,17,17)",
           "lakecolor": "rgb(17,17,17)",
           "landcolor": "rgb(17,17,17)",
           "showlakes": true,
           "showland": true,
           "subunitcolor": "#506784"
          },
          "hoverlabel": {
           "align": "left"
          },
          "hovermode": "closest",
          "mapbox": {
           "style": "dark"
          },
          "paper_bgcolor": "rgb(17,17,17)",
          "plot_bgcolor": "rgb(17,17,17)",
          "polar": {
           "angularaxis": {
            "gridcolor": "#506784",
            "linecolor": "#506784",
            "ticks": ""
           },
           "bgcolor": "rgb(17,17,17)",
           "radialaxis": {
            "gridcolor": "#506784",
            "linecolor": "#506784",
            "ticks": ""
           }
          },
          "scene": {
           "xaxis": {
            "backgroundcolor": "rgb(17,17,17)",
            "gridcolor": "#506784",
            "gridwidth": 2,
            "linecolor": "#506784",
            "showbackground": true,
            "ticks": "",
            "zerolinecolor": "#C8D4E3"
           },
           "yaxis": {
            "backgroundcolor": "rgb(17,17,17)",
            "gridcolor": "#506784",
            "gridwidth": 2,
            "linecolor": "#506784",
            "showbackground": true,
            "ticks": "",
            "zerolinecolor": "#C8D4E3"
           },
           "zaxis": {
            "backgroundcolor": "rgb(17,17,17)",
            "gridcolor": "#506784",
            "gridwidth": 2,
            "linecolor": "#506784",
            "showbackground": true,
            "ticks": "",
            "zerolinecolor": "#C8D4E3"
           }
          },
          "shapedefaults": {
           "line": {
            "color": "#f2f5fa"
           }
          },
          "sliderdefaults": {
           "bgcolor": "#C8D4E3",
           "bordercolor": "rgb(17,17,17)",
           "borderwidth": 1,
           "tickwidth": 0
          },
          "ternary": {
           "aaxis": {
            "gridcolor": "#506784",
            "linecolor": "#506784",
            "ticks": ""
           },
           "baxis": {
            "gridcolor": "#506784",
            "linecolor": "#506784",
            "ticks": ""
           },
           "bgcolor": "rgb(17,17,17)",
           "caxis": {
            "gridcolor": "#506784",
            "linecolor": "#506784",
            "ticks": ""
           }
          },
          "title": {
           "x": 0.05
          },
          "updatemenudefaults": {
           "bgcolor": "#506784",
           "borderwidth": 0
          },
          "xaxis": {
           "automargin": true,
           "gridcolor": "#283442",
           "linecolor": "#506784",
           "ticks": "",
           "title": {
            "standoff": 15
           },
           "zerolinecolor": "#283442",
           "zerolinewidth": 2
          },
          "yaxis": {
           "automargin": true,
           "gridcolor": "#283442",
           "linecolor": "#506784",
           "ticks": "",
           "title": {
            "standoff": 15
           },
           "zerolinecolor": "#283442",
           "zerolinewidth": 2
          }
         }
        },
        "title": {
         "text": "🔐 Distribuzione della Lunghezza delle Password"
        },
        "xaxis": {
         "anchor": "y",
         "domain": [
          0,
          1
         ],
         "title": {
          "text": "Lunghezza"
         }
        },
        "yaxis": {
         "anchor": "x",
         "domain": [
          0,
          1
         ],
         "title": {
          "text": "Frequenza"
         }
        }
       }
      }
     },
     "metadata": {},
     "output_type": "display_data"
    },
    {
     "data": {
      "application/vnd.plotly.v1+json": {
       "config": {
        "plotlyServerURL": "https://plot.ly"
       },
       "data": [
        {
         "marker": {
          "color": "lightskyblue"
         },
         "name": "Lettere",
         "type": "bar",
         "x": {
          "bdata": "AwQFBgcICQoLDA0PEA==",
          "dtype": "i1"
         },
         "y": {
          "bdata": "AAAAAAAAAEA83ZofFikHQMl2+28jJRNAxBD+zntAFUADPjlcBnwaQDAphvF3sBBAJ02aNGnSHEAb9Z2N+s4YQG7btm3bNiFAbtu2bdu2IUAAAAAAAAAnQAAAAAAAACZAAAAAAAAAKEA=",
          "dtype": "f8"
         }
        },
        {
         "marker": {
          "color": "royalblue"
         },
         "name": "Cifre",
         "type": "bar",
         "x": {
          "bdata": "AwQFBgcICQoLDA0PEA==",
          "dtype": "i1"
         },
         "y": {
          "bdata": "AAAAAAAA8D+R7zGttqPxP3zmVeew8Mk/HpqVeJna5T++V6NC2SPYP6Ct8xwQnw5AucbiGotr/D/KFcTkCmIOQCVJkiRJkgJASZIkSZIkCUAAAAAAAAD4PwAAAAAAABBAAAAAAAAAEEA=",
          "dtype": "f8"
         }
        },
        {
         "marker": {
          "color": "mediumblue"
         },
         "name": "Speciali",
         "type": "bar",
         "x": {
          "bdata": "AwQFBgcICQoLDA0PEA==",
          "dtype": "i1"
         },
         "y": {
          "bdata": "AAAAAAAAAABN7qswJzpkP6wFtJMRroY/DOHvvAfEcD8JD8jI+cBbPwAAAAAAAAAAQCsBrQS0kj8AAAAAAAAAAJIkSZIkSbI/AAAAAAAAAAAAAAAAAAAAAAAAAAAAAAAAAAAAAAAAAAA=",
          "dtype": "f8"
         }
        }
       ],
       "layout": {
        "barmode": "stack",
        "font": {
         "color": "white"
        },
        "paper_bgcolor": "#050b18",
        "plot_bgcolor": "#050b18",
        "template": {
         "data": {
          "bar": [
           {
            "error_x": {
             "color": "#f2f5fa"
            },
            "error_y": {
             "color": "#f2f5fa"
            },
            "marker": {
             "line": {
              "color": "rgb(17,17,17)",
              "width": 0.5
             },
             "pattern": {
              "fillmode": "overlay",
              "size": 10,
              "solidity": 0.2
             }
            },
            "type": "bar"
           }
          ],
          "barpolar": [
           {
            "marker": {
             "line": {
              "color": "rgb(17,17,17)",
              "width": 0.5
             },
             "pattern": {
              "fillmode": "overlay",
              "size": 10,
              "solidity": 0.2
             }
            },
            "type": "barpolar"
           }
          ],
          "carpet": [
           {
            "aaxis": {
             "endlinecolor": "#A2B1C6",
             "gridcolor": "#506784",
             "linecolor": "#506784",
             "minorgridcolor": "#506784",
             "startlinecolor": "#A2B1C6"
            },
            "baxis": {
             "endlinecolor": "#A2B1C6",
             "gridcolor": "#506784",
             "linecolor": "#506784",
             "minorgridcolor": "#506784",
             "startlinecolor": "#A2B1C6"
            },
            "type": "carpet"
           }
          ],
          "choropleth": [
           {
            "colorbar": {
             "outlinewidth": 0,
             "ticks": ""
            },
            "type": "choropleth"
           }
          ],
          "contour": [
           {
            "colorbar": {
             "outlinewidth": 0,
             "ticks": ""
            },
            "colorscale": [
             [
              0,
              "#0d0887"
             ],
             [
              0.1111111111111111,
              "#46039f"
             ],
             [
              0.2222222222222222,
              "#7201a8"
             ],
             [
              0.3333333333333333,
              "#9c179e"
             ],
             [
              0.4444444444444444,
              "#bd3786"
             ],
             [
              0.5555555555555556,
              "#d8576b"
             ],
             [
              0.6666666666666666,
              "#ed7953"
             ],
             [
              0.7777777777777778,
              "#fb9f3a"
             ],
             [
              0.8888888888888888,
              "#fdca26"
             ],
             [
              1,
              "#f0f921"
             ]
            ],
            "type": "contour"
           }
          ],
          "contourcarpet": [
           {
            "colorbar": {
             "outlinewidth": 0,
             "ticks": ""
            },
            "type": "contourcarpet"
           }
          ],
          "heatmap": [
           {
            "colorbar": {
             "outlinewidth": 0,
             "ticks": ""
            },
            "colorscale": [
             [
              0,
              "#0d0887"
             ],
             [
              0.1111111111111111,
              "#46039f"
             ],
             [
              0.2222222222222222,
              "#7201a8"
             ],
             [
              0.3333333333333333,
              "#9c179e"
             ],
             [
              0.4444444444444444,
              "#bd3786"
             ],
             [
              0.5555555555555556,
              "#d8576b"
             ],
             [
              0.6666666666666666,
              "#ed7953"
             ],
             [
              0.7777777777777778,
              "#fb9f3a"
             ],
             [
              0.8888888888888888,
              "#fdca26"
             ],
             [
              1,
              "#f0f921"
             ]
            ],
            "type": "heatmap"
           }
          ],
          "histogram": [
           {
            "marker": {
             "pattern": {
              "fillmode": "overlay",
              "size": 10,
              "solidity": 0.2
             }
            },
            "type": "histogram"
           }
          ],
          "histogram2d": [
           {
            "colorbar": {
             "outlinewidth": 0,
             "ticks": ""
            },
            "colorscale": [
             [
              0,
              "#0d0887"
             ],
             [
              0.1111111111111111,
              "#46039f"
             ],
             [
              0.2222222222222222,
              "#7201a8"
             ],
             [
              0.3333333333333333,
              "#9c179e"
             ],
             [
              0.4444444444444444,
              "#bd3786"
             ],
             [
              0.5555555555555556,
              "#d8576b"
             ],
             [
              0.6666666666666666,
              "#ed7953"
             ],
             [
              0.7777777777777778,
              "#fb9f3a"
             ],
             [
              0.8888888888888888,
              "#fdca26"
             ],
             [
              1,
              "#f0f921"
             ]
            ],
            "type": "histogram2d"
           }
          ],
          "histogram2dcontour": [
           {
            "colorbar": {
             "outlinewidth": 0,
             "ticks": ""
            },
            "colorscale": [
             [
              0,
              "#0d0887"
             ],
             [
              0.1111111111111111,
              "#46039f"
             ],
             [
              0.2222222222222222,
              "#7201a8"
             ],
             [
              0.3333333333333333,
              "#9c179e"
             ],
             [
              0.4444444444444444,
              "#bd3786"
             ],
             [
              0.5555555555555556,
              "#d8576b"
             ],
             [
              0.6666666666666666,
              "#ed7953"
             ],
             [
              0.7777777777777778,
              "#fb9f3a"
             ],
             [
              0.8888888888888888,
              "#fdca26"
             ],
             [
              1,
              "#f0f921"
             ]
            ],
            "type": "histogram2dcontour"
           }
          ],
          "mesh3d": [
           {
            "colorbar": {
             "outlinewidth": 0,
             "ticks": ""
            },
            "type": "mesh3d"
           }
          ],
          "parcoords": [
           {
            "line": {
             "colorbar": {
              "outlinewidth": 0,
              "ticks": ""
             }
            },
            "type": "parcoords"
           }
          ],
          "pie": [
           {
            "automargin": true,
            "type": "pie"
           }
          ],
          "scatter": [
           {
            "marker": {
             "line": {
              "color": "#283442"
             }
            },
            "type": "scatter"
           }
          ],
          "scatter3d": [
           {
            "line": {
             "colorbar": {
              "outlinewidth": 0,
              "ticks": ""
             }
            },
            "marker": {
             "colorbar": {
              "outlinewidth": 0,
              "ticks": ""
             }
            },
            "type": "scatter3d"
           }
          ],
          "scattercarpet": [
           {
            "marker": {
             "colorbar": {
              "outlinewidth": 0,
              "ticks": ""
             }
            },
            "type": "scattercarpet"
           }
          ],
          "scattergeo": [
           {
            "marker": {
             "colorbar": {
              "outlinewidth": 0,
              "ticks": ""
             }
            },
            "type": "scattergeo"
           }
          ],
          "scattergl": [
           {
            "marker": {
             "line": {
              "color": "#283442"
             }
            },
            "type": "scattergl"
           }
          ],
          "scattermap": [
           {
            "marker": {
             "colorbar": {
              "outlinewidth": 0,
              "ticks": ""
             }
            },
            "type": "scattermap"
           }
          ],
          "scattermapbox": [
           {
            "marker": {
             "colorbar": {
              "outlinewidth": 0,
              "ticks": ""
             }
            },
            "type": "scattermapbox"
           }
          ],
          "scatterpolar": [
           {
            "marker": {
             "colorbar": {
              "outlinewidth": 0,
              "ticks": ""
             }
            },
            "type": "scatterpolar"
           }
          ],
          "scatterpolargl": [
           {
            "marker": {
             "colorbar": {
              "outlinewidth": 0,
              "ticks": ""
             }
            },
            "type": "scatterpolargl"
           }
          ],
          "scatterternary": [
           {
            "marker": {
             "colorbar": {
              "outlinewidth": 0,
              "ticks": ""
             }
            },
            "type": "scatterternary"
           }
          ],
          "surface": [
           {
            "colorbar": {
             "outlinewidth": 0,
             "ticks": ""
            },
            "colorscale": [
             [
              0,
              "#0d0887"
             ],
             [
              0.1111111111111111,
              "#46039f"
             ],
             [
              0.2222222222222222,
              "#7201a8"
             ],
             [
              0.3333333333333333,
              "#9c179e"
             ],
             [
              0.4444444444444444,
              "#bd3786"
             ],
             [
              0.5555555555555556,
              "#d8576b"
             ],
             [
              0.6666666666666666,
              "#ed7953"
             ],
             [
              0.7777777777777778,
              "#fb9f3a"
             ],
             [
              0.8888888888888888,
              "#fdca26"
             ],
             [
              1,
              "#f0f921"
             ]
            ],
            "type": "surface"
           }
          ],
          "table": [
           {
            "cells": {
             "fill": {
              "color": "#506784"
             },
             "line": {
              "color": "rgb(17,17,17)"
             }
            },
            "header": {
             "fill": {
              "color": "#2a3f5f"
             },
             "line": {
              "color": "rgb(17,17,17)"
             }
            },
            "type": "table"
           }
          ]
         },
         "layout": {
          "annotationdefaults": {
           "arrowcolor": "#f2f5fa",
           "arrowhead": 0,
           "arrowwidth": 1
          },
          "autotypenumbers": "strict",
          "coloraxis": {
           "colorbar": {
            "outlinewidth": 0,
            "ticks": ""
           }
          },
          "colorscale": {
           "diverging": [
            [
             0,
             "#8e0152"
            ],
            [
             0.1,
             "#c51b7d"
            ],
            [
             0.2,
             "#de77ae"
            ],
            [
             0.3,
             "#f1b6da"
            ],
            [
             0.4,
             "#fde0ef"
            ],
            [
             0.5,
             "#f7f7f7"
            ],
            [
             0.6,
             "#e6f5d0"
            ],
            [
             0.7,
             "#b8e186"
            ],
            [
             0.8,
             "#7fbc41"
            ],
            [
             0.9,
             "#4d9221"
            ],
            [
             1,
             "#276419"
            ]
           ],
           "sequential": [
            [
             0,
             "#0d0887"
            ],
            [
             0.1111111111111111,
             "#46039f"
            ],
            [
             0.2222222222222222,
             "#7201a8"
            ],
            [
             0.3333333333333333,
             "#9c179e"
            ],
            [
             0.4444444444444444,
             "#bd3786"
            ],
            [
             0.5555555555555556,
             "#d8576b"
            ],
            [
             0.6666666666666666,
             "#ed7953"
            ],
            [
             0.7777777777777778,
             "#fb9f3a"
            ],
            [
             0.8888888888888888,
             "#fdca26"
            ],
            [
             1,
             "#f0f921"
            ]
           ],
           "sequentialminus": [
            [
             0,
             "#0d0887"
            ],
            [
             0.1111111111111111,
             "#46039f"
            ],
            [
             0.2222222222222222,
             "#7201a8"
            ],
            [
             0.3333333333333333,
             "#9c179e"
            ],
            [
             0.4444444444444444,
             "#bd3786"
            ],
            [
             0.5555555555555556,
             "#d8576b"
            ],
            [
             0.6666666666666666,
             "#ed7953"
            ],
            [
             0.7777777777777778,
             "#fb9f3a"
            ],
            [
             0.8888888888888888,
             "#fdca26"
            ],
            [
             1,
             "#f0f921"
            ]
           ]
          },
          "colorway": [
           "#636efa",
           "#EF553B",
           "#00cc96",
           "#ab63fa",
           "#FFA15A",
           "#19d3f3",
           "#FF6692",
           "#B6E880",
           "#FF97FF",
           "#FECB52"
          ],
          "font": {
           "color": "#f2f5fa"
          },
          "geo": {
           "bgcolor": "rgb(17,17,17)",
           "lakecolor": "rgb(17,17,17)",
           "landcolor": "rgb(17,17,17)",
           "showlakes": true,
           "showland": true,
           "subunitcolor": "#506784"
          },
          "hoverlabel": {
           "align": "left"
          },
          "hovermode": "closest",
          "mapbox": {
           "style": "dark"
          },
          "paper_bgcolor": "rgb(17,17,17)",
          "plot_bgcolor": "rgb(17,17,17)",
          "polar": {
           "angularaxis": {
            "gridcolor": "#506784",
            "linecolor": "#506784",
            "ticks": ""
           },
           "bgcolor": "rgb(17,17,17)",
           "radialaxis": {
            "gridcolor": "#506784",
            "linecolor": "#506784",
            "ticks": ""
           }
          },
          "scene": {
           "xaxis": {
            "backgroundcolor": "rgb(17,17,17)",
            "gridcolor": "#506784",
            "gridwidth": 2,
            "linecolor": "#506784",
            "showbackground": true,
            "ticks": "",
            "zerolinecolor": "#C8D4E3"
           },
           "yaxis": {
            "backgroundcolor": "rgb(17,17,17)",
            "gridcolor": "#506784",
            "gridwidth": 2,
            "linecolor": "#506784",
            "showbackground": true,
            "ticks": "",
            "zerolinecolor": "#C8D4E3"
           },
           "zaxis": {
            "backgroundcolor": "rgb(17,17,17)",
            "gridcolor": "#506784",
            "gridwidth": 2,
            "linecolor": "#506784",
            "showbackground": true,
            "ticks": "",
            "zerolinecolor": "#C8D4E3"
           }
          },
          "shapedefaults": {
           "line": {
            "color": "#f2f5fa"
           }
          },
          "sliderdefaults": {
           "bgcolor": "#C8D4E3",
           "bordercolor": "rgb(17,17,17)",
           "borderwidth": 1,
           "tickwidth": 0
          },
          "ternary": {
           "aaxis": {
            "gridcolor": "#506784",
            "linecolor": "#506784",
            "ticks": ""
           },
           "baxis": {
            "gridcolor": "#506784",
            "linecolor": "#506784",
            "ticks": ""
           },
           "bgcolor": "rgb(17,17,17)",
           "caxis": {
            "gridcolor": "#506784",
            "linecolor": "#506784",
            "ticks": ""
           }
          },
          "title": {
           "x": 0.05
          },
          "updatemenudefaults": {
           "bgcolor": "#506784",
           "borderwidth": 0
          },
          "xaxis": {
           "automargin": true,
           "gridcolor": "#283442",
           "linecolor": "#506784",
           "ticks": "",
           "title": {
            "standoff": 15
           },
           "zerolinecolor": "#283442",
           "zerolinewidth": 2
          },
          "yaxis": {
           "automargin": true,
           "gridcolor": "#283442",
           "linecolor": "#506784",
           "ticks": "",
           "title": {
            "standoff": 15
           },
           "zerolinecolor": "#283442",
           "zerolinewidth": 2
          }
         }
        },
        "title": {
         "text": "🧱 Composizione media dei caratteri per lunghezza"
        },
        "xaxis": {
         "title": {
          "text": "Lunghezza"
         }
        },
        "yaxis": {
         "title": {
          "text": "Media per tipo"
         }
        }
       }
      }
     },
     "metadata": {},
     "output_type": "display_data"
    },
    {
     "data": {
      "application/vnd.plotly.v1+json": {
       "config": {
        "plotlyServerURL": "https://plot.ly"
       },
       "data": [
        {
         "hovertemplate": "length=%{x}<br>num_chars=%{y}<extra></extra>",
         "legendgroup": "",
         "marker": {
          "color": "cyan",
          "opacity": 0.4,
          "symbol": "circle"
         },
         "mode": "markers",
         "name": "",
         "showlegend": false,
         "type": "scattergl",
         "x": {
          "bdata": "BggIBgkFBAYHBgYNBggGBwYGBgYKBgcKBwYFCAgHBgYGBgYGCAYIBwYGBgYGBgYGCAgGBAcGBgYGBggHBgYHCAgHBgQGBggGBwYEBAYGBgYIBgYGBgQGBAYHBgcGBwkGBgcGBgcIBQYHBgcGBwgGBgYGCAcGBAYKBwgHBgUGBgcIBgYHCAYHBgYIBwYEBgYHBgYHBwYGCAYIBgcGBwYGBgYHBgYGCQcGBgcIBgYIBgYGBgcGBgUHBgYGBgcGBgQGBggHBwYHBgcGBgYGBgYGBgYGCAYGBwYGBgcHBQYIBgYHBgUGBQYGBggHCAcGBgcGBgcIBgUGBwYIBwgHCAgGBgYHBwcGBgUGBwYHBwcEBgcIBgYIBgQFBAYHBgUGBgcGBggIBQgGBgQHBgYFCAgJBgYGCQYICQYEBAUICAcHBwYEBAYGCAgJBAYHBgYGBgYIBgcHBgcGBAkGBggGBwYGCAYHBwYHBgYGBAYIBgcGBwcGCAYIBwoGBwYIBQYECAQHBgcGBAYHBgYIBgYGBAUGBgYIBgYIBAgGBQoIBwYFBwYGBgYFBgYFBggEBwgHBgQHBggIBggEBggEBgYIBQYGBgUGBAYGBggGBAYGBQgEBAgGCAYIBwYGCAgFBAUJBwYGCAYIBQYFCAYGBwYHBgcGBgYGBwgGBwcIBAgHBwYGBggGBwcECAkICAYHBwcGBgYGCAYHBAgGCAYGBwcGCQYIBAYGBwUGBgYGBggHBwkGBgcFCAUGCAYEBgcGBggECAYHBgYGBwYEBwgGBAgIBgYGBggFBgUHBgoHBgQHBgYECAcGBggGBgUECQgGCAcEBQcGCAcHBgYGBgYGBgcIBggGBggGBgQIBQYEBgYFBgYHBgQEBwcIBgQFBggHBggGBQUGBQQKBgUGBwgIBAYGBggEBwcIBgYGBAYGBggICAUKBwYGCgcIBwcLBgYHBAcHBQQHBQUIBggHBwcGCAcGBwYGBAcIBAYIBgYEBgcFBgcIBAgHBwcIBgYGCAYGCQUGBwcIBggEBwYEBggFBQYHBggGCAgGCAgHBggIBAgFBgUGCAYIBgYFBwQHBAcIBgYGBAcFBgYHBQcHBgYIBgYFBwYGBwQIBgcIBwUHCAgHBQQEBwYGBgYHBgYGBgYEBwUGCAcGBwcIBgYHBggICAcFCAcGBgkHCAcFBwUICAYGBgYECAgGCAcGCAYGBwYGBgQGBgYGBgcGBgYGCQoHBgYEBwYIBQgFBggJBgUECAYGBgcICAYGBgYGCAkFBAcGBgQGBwQGBQcGBQgIBAcHBgYIBwYIBgUGBgkECAcGCgcEBgYFBgUEBwYECAcGCAYIBgcJBwYGBwYGBQYGBgQHBwgIBAoFBAYHBwgGCAYEBgcIBwUGBwcHBgYIBgcECAcFBggGBwgEBAgECQYGCAYIBggGBgYGCAYGBgYHBggICAUIBwsFBAYFBwYIBgYGBQUGBAYHBgQFBggFBQYIBgcHCggGCAYHCAcIBwcIBAYIBQYHBgYICAYEBQgGCAYGBgYEBgYGBgYIBQgEBwcFBgYGBgYGBQYHBgYGCQcICAcGBQYGBwYIBgYHCAYIBAcFBwcEBgQIBQcGBQcGCAgEBQcGCAcGBwQGCwYFBgUGBQcIBgcGCAYHBwcIBQcFBgYGDAcGBAcIBwYGBgcGBggHBQUGBgYGCQUHBwcGBgYGBgYGBgQHCAYGBgYHBgYGBwYGBgUHCAQGCAYFCQcGBgYHBgUGBggHBgYJBwcGCQUHBwgFBQgIBAYHCAgFBgYFBQcGBggGCAUHBwYEBwgHBgUHBgYGBggGBggHBwcHBwYGBggICAgGBgcHBgYFBQUHBgYICAcJCAgGCwgFBgYGBgYFBQYHCAYICAQHBQYGCAgGBgYGBgYGCAYGCAcHBwcICAUKBggIBgYFBAYGBwYGBgYIBgYHBgYGBgcIBgcGCAcIBgYGBQUEBAYGBQwHBgUGBggIBQoHCAcGBgYHBQYIBwgHBgYGCAYGBwYIBgUHBgcHBgcHCAYGCAYGCAYHBQYHBgUGCAcIBggGBgQJBwYGBQgGBggHBgcFBwUHBgYHBgQJCAUFBgcGBgYFBgQGBggIBgcHCAYFBgcHCQYGBgQGBgYGBwMIBgcIBgYGBwgGBggGBQYIBgYGBQYIBwYJCAQGBAgHBwYFBQUGBwUHBgYGBwgFBgYIBgYGBgYGBggHBgcGBwYFBAYIBggGBwcMBgUFBQgGBgkHBgYGBgYIBwYGBwYFBwYGCAYIBQUGBQcFBgcGBQcGBwgGBwcIBgYHBwYGCAYJBAYGBgUIBwYIBgYFBAYGBggIBAcGCAoHBgQFBwgHBwgGBgcGBwQGBwYGBgcHCAYFCAcGBgcGBAUHBAYGBAUICAUFCAYGBgYHBQgGBwgJBQYIBwYHBgYHCAcIBQgHCAgJBgcGBgYGBAYIBwYGBgUECAgGCAUGBQUIBggGCAYGBwQIBQcGBwgIBggFBwYFCAgHBgQGBQcHBggGBwUGCAQIBwYHBgcHBggGBgcIBgUFCAYGBgcGBQYHBgYGBgUGBwYECAQHBgYGBwcIBgcGCAcIBggGCQYGCAYHBQYGCAcGBwYFBgYFBggEBggGBgYFCAYIBQgGBggHBggICAUHBwUIBgcGBAYGBgkHBgYHBgcHBgcEBgYIBwYGBQgHCAQEBwYGBQYIBwYGBwYHBgYEDAQGBwgGBwYHBgcGBwcIBAUGBgUIBgcGBgYGBgQGBwgFBgcHBgUGBAkGBwgGCAsGBgYGBwcJBgYHCAcGBQUEBwUIBggHBwcHCAYHBwYGBwYHBAcIBAcFBQQHBwYGBwYFBgQJCQcGCAcGBwcHCAgHCAYEBgcGBgkEBQQHBwkKBgUHBQgGBwYIBwgGCAQGBgcGCAUGBggGBAcHBAcIBQgIBgYGBAYFBgYHBAYFBQcGCAgIBgYHCAUPBwgGBwYGBgUGCAgHBggFBwYGBgYFCAYHBgYHBgcGCQcHBgcHCQkGBgYGBAYGBQgFBgYGBgYIBggIBAgHBwUHBwcHBQgFBQYGBAcGBggGBwYGBwYECAYGCAYGBgYFBQcGBwcFBwQICAcIBggHCAYGBAUGCgYGBAYEBgUICAQFCAgHBgcGBgQHBggGBgYEBAYGBgcGBggICAYIBgcGCQQGCAcIBwYIBwYIBwcFBQYICAYGBggLBwgGBgQEBwYIBgcFCAYGBgYICAUEBgYICAcGCAYIBQYGBQQHBQcGBwcGBwgGBQYICAgHCAYHBggGBwcHBwYGBAgHCAcGCAYHBgYJBQgGBggHBgQHCAYGBAYHBQgGBwUJBwgGBwgEBQYIBgUEBgYGBgYGBgUHBgUFCAcGBgYMBAgICQYEBgUGBgcFBggFCAUEBgcGCAcGBgUGBggLCAYHBwYHCAgHBwcIBgYFCAYHCAYGCAgHBQcGCQYGBwgIBggICAcGBwYIBgYGBgYIBQYGBQgGBgYECAgGBggGBggFBwYIBgYMBgcFCAYGBgQIBQgGBgYGBgYFBAUGCwgJBQYIBQcJBAkGBQgGBgYGBggHBgYHCAcHBggFBgYGCAYGBgcGBgYHCAQFBQgFBAgEBwcIBAgHCAYHBgcECAcGCAYICgUHBwYICAYGBAQGBQYHBwgGCAUIBQgGBgYFBwgGBQYIBAYFBwcGCAgHBgYGBgYHDAYEBgYGCAYFBQgGBgYIBgcGCAQGCAYGBQYEBggGBgUIBQgHBwcJCAgIBgUGBwYFBgQICAcHBwYHCQgIBgcGBgQFBgcIBAgGCgQGBgYHBgUGBgcGBAYGBgYGCAYIBgcFBgUHCAgGCgcGBQYICAYGBgUGBggGBgcICAYHBAgFBgUHBQgHBggGBgcIBQgGBQkHBgYFCAcGBwcIBQcGBggGBwUICAYGCgQGCQYGBgYIBwYIBAYIBwYIBgYICAYIBggGCQgGBQcICAgECAYGCAQGCAYICAYHCAQFBQYHCAYHCAYHBgcHBQoFBwcIBwgHBgYGBwcEBgYFBgYICAYGBggGCAoGBgcHBgYICAQIBgcIBgcGBAQHBQcICAcGBwYGBgYFCAUEBQcGBAcIBQYFBgYICAQIBAYHBwYGCQgGBAgGBwkFBgYGBggGCAYHBwcGCAgIBQYEBggGCQcJCAQHCAYGBwYGBwYGBQcGBgUFBggECAQHBgYGBAUGBggHBgYHBgYGCAgGBQQJBggFBwcGBAcKBggIBggGBgYHBgUGCgQICAcFCAcHBwcIBQgHBQYGBgYIBAYFBggIBgYGBQgGBwYIBgQGBgYEBwYICAgHBgcHBgYIBAYIBggHBgQEBggGCAYGBgUICAQGBgoGCAcHBwgIBgQGBQcHBgYIBwYHCAYIBgUIBwYGCAYGCAYGBAQJCAUIBQcIBQYHBwgEBgcGBgYGBgUIBQUGBgcGCAUICAgGCAYIBggHBAUHCAYIBgUGBgcFBQcGCAgEBAYJCQYHBgYNBgkGBgYFCAgHBwYECAQGBgYGCAYFBgYGBQYGBgYICAYGBwcIBwQFBgYHBgYHCAYGBgcGBwYICAYHCAUHBAcFBgUECAUJBgYEBAgFBgYGBwYGBgYGCAYHBwgGBwgHBwcFBgcGBgYGBAYEBgcICAQHBggHBwYJCAYEBwYFBwQGCAYGBgYHBgYGBwYGBwYEBwYGBgYJBAcIBQgGBggGBggEBwgICAYJBwgGBAcGBwYFBgcICQYGBggGBQYIBgUGBAYIBwYHBwYFBgcGCAcEBgkEBgkGBAYGBwgHBAYECAUIBwgECAgGBgkICAYGBggHBwYIBgYGCAcGBgcGBgQIBgYEBgYIBwYHBggGBwgFBAQJBgYKBggGCAcGCAUFBAYGCAcGBgYHBgcEBgcGCQYGBQYFBwcFBwUHBwgHBgYGCAYGBggIBwcGBwcEBgUEBgcHBgcHBwYEBAgIBwUIBwQHCAgIBgYIBwcFBQYICAYHCAcEBgUICQcFBwQGBwcGBgQIBAcGBQYFCAYGBgYGCAYGBgcGBwcIBgYHBQgKBgoHBAcIBgUIBAcGCAcGBgcHBAgGBgUGCAcGCAgGBgoGBwYHBgQIBwYGBAcGBwgFCAgHCQcIBwgECAcIBgYGCAgEBgcIBQYIBgcHBwgHBgQGBgYGCAYGCAYHBgYEBAgJBgYFCAcGCwYICAQGBgcHBQYIBwQHBwYHBgUGBggIBgYHBggFCAQFCQcEBAQHBgYGCAcFBgQIBwYIBQYGCAUHBQgHBgQGBgYGBgcGBwgGBgcICQQHBAgIBgYGBAcGBAgGBAgIBgcGBgQGBggIBwYKBgYHBgcIBwUHCAQGBgQGBgcECAgECAYHBgYIBwcIBwcIBgYGBQYHBQUIBAYICAgIBgcIBAcIBgYGBgcFBgYHBwQJBQgEBgYGBgcEBgYHBgYGBAcIBgQHBwcKBAgGCAgJBgcGBgUHBgcIBQUFBgYKBgQHBgkECAYECAYFBwQGCQgGBwUFBQYGCAcGBgYICQQIBwYEBQgICAgFCAcGBgcICAYICAgGBwgGBwgFBQgGCAgGBQYIBAgHBgUICAUEBQgFBAUGBQYGBwUIBwYGBAgHBgUJBgYFBgYGBwgFBgcGCAcHCAYGBgYGCAUGBQkLBwgKBgcJCgUHBwYEBgYFBwgIBgUGBggIBQYHBwQHCQkGBgcIBwYGCAYGBAgIBAgJBgUEBgQHBgYECggGBQcGCAgGBwYEBwcGBQYFBwcECAUGCAUHBwQECQYGBQYHBAQGBQYHBwkHBQYIBQwFBwYFBgUGCAgGBgQGBgYGBQcHBgcIBgYHBgYHBgYGBgQICAUICAQFBQYIBggFBwYGBAcDBQkFBwYGBgcEBgYHBgkIBgQHBAgFBgYHCAgIBQYGCQYGBQgIBAUGBwcJBgUGBQYHBAUIBwQIBAgIBQgICAcEBwQFCAUGBgQIBwcHBAkICAgIBgYEBwYIBgUJBQYGBgcEBAYHCAgIBgUGBgcGBgQICAgGCQUIBggGCAYGBgYHBgcHBwYEBgcMBAQIBQQGCAcGBwgGBwYJBgQIBwYHBQYGBgQGBgYHBgYEBgcECAgFBwkJBwcIBgcHBggFBAcHCgYIBgYEBgQHBQUGBgQEBAkEBAcHBAUGBwYGBAYIBwQHBQQHBAUIBQgIBwcICgcECAgEBAgIBAQIBwYIBgYHBQQFBggIBAYGBwYIBAUFBgcGBgUECAcFBgUIBgcGCAUIBgYICAgICAQGBgQGBgYEBAgKCAUGBQYIBQYFBAQFBwgGBgYGCQcHBwYGBwQFCQgGBgQECQgICAgGBAkKBgcIBQYICAYEBwYGBwQGBwQHDAgGCAQHBAcIBwYKCAYFBgUHBgcIBgYGBggEBAQECAgFBAQEBwcIBwcGBgYIBgoEEAcHBgkGBgYHBwYGBgUFBwUHBgUIBAYGCAQHBAYICAcEBggHCAYGBwYGCgYHBggICAYFBAUHCAgEBAQICAgICAYFBQQGBAQHBgQHBAcHBggIBwQGCAcEBgQGBQcHBwYGBgUGCAoEBwcICAgICAQFBgYGBgQFCAcGBwgGBgUICQUGCwUFBgQFBwcGBgQGBwUMBwUEBgUIBwYGBQgIBwoGBggIBAYGCAkGBgYGCAgHBggHCAgEBgcHBgcGBgQHBQgGBQYEBQYEBgcGBggGBgYECAgGBwQGBAcHBgcICAYGCAQHBwQJBggGBgkGBAgIBgsGCAgICAYGBggHBAYFBwYEBQUFBAQGBAQEBggHCAcHCAYFBwcGBgYGCAQIBggHBgQHCAgGBAYECAgICAQFBwQGCQgJBwUHBAgFBAYHBgUGBgYHCAYHBgoEBgcFBgYGBgcFCAcEBgYIBgcIBwYGBgUIBQYGBwQHCAgFCAgGBgQIBAcIBQYGBAYHBAcGBgUIBwcIBwkFBwcHCAcEBQgHBgUHBAQGCAUGDAcIBwYHCAUHBwcHBgcHCAUIBgUGBgUHBAQGCAgKCAgICAgECgYHBQgHCQgFBgYFBAUIBQYGBQYEBwgGCAQFBAYGBAYFBAYICAgEBQcHBwgIBwcEBQQFCAQIBwgEBgYHBgcICQgFBgUECAQICAgICAQFBQgIBwQEBgYICAcFBwYGBQgGBwYGBwgIBgYJCAcHBAgFBQgGBwcGBgYGBgYIBgQFBAgICAgIBggEBggGBgcGBgYGBggFBwYIBQcECAgICAQGBQQHBgUHBAUEBQYGBAgHCAgIBgYIBwYIBgYGBAQFBggGBgQIBgQEBwgEBQYGBgQICAcFBggIBwYHBAcGCAgGCAgEBQgHBgUHCAcGCAcGCAYHBAYFBAQICAcIBggEBgcICAYGCQYICAcHCAUGBgUHBwYICAgIBgQJBggGBwYHBQYHBwYIBAUGCAcEBQgGBgQFCAgHBAYIBAQGBwgIBwYIBwcHBggIBgkGBgcGBwgGCAcJBAUEBAYEBggICAcEBgQICAUGCQkHCgYGBwYGCAYHCAgFBgkIBQQGBgYFBAQHBAYECAUICAcEBAgEBgcGBwYFBQYEBgQIBwUGBwYHBwQEBgYFBwYFBgYGBgYGBggJCAgICQYKCAYHBgUGBgYFCAcGCAcGCAgIBgcHBgQJBgcGBgcFCAgECAYIBgcEBgYIBgYEBggGBQcGCAgGCAcIBgcGBwYIBwUIBwcGCAYGBAgGBgcFBQoGBwQGCAYGBAcEBwgICAYGCwYGBgcHBwYHBgYGBQcJBgcIBwYGBggGBggMBQgGBgkGBwgEBwcHBwQGCAgHBgYHBggICAgFBgYHBgcGBwcGBgcHBgcFBgYGBggIBgQJCAYEBAgICAgICAUFCAkHBgYGBAYIBQgGCAYECAYGBwYGBwgHBAYIBwcGBgYHCAgGBQUGCAkHBgUGCAYIBgQICAUIBAYHCAYGBgcGBQcFBggECQUGCAgICAgIBwYHCAUJBQgEBgYIBwgGCAcGBQYJBgcHCAcFBgUIBgcGCAgIBggHBgQJBAYIBgQECAgICAoGBwQIBgYGBQcHCAgGCAYGCAYGBQYHBggECAYEBwgICAgICAYECAYHBgcGBQYHBQYFBgkGCAUGBQgICAUHBwQHBwYGBgYIBgcKBgYHBggJBwYHBgYFCAYGBgQGBwUIBgcHBgYFBgcGBwYGBgYGCQYIBAgIBggICAgICAgECAYEBwgHBAcHBwUICAYHBgcHBwUEBwYHBgYHBQQGBQcGBAcICAcIBggGBgUHBgYFBwgFBgYFBwcEBwcFBgcHBgoGBggECAYHBAYICAgICAgIBgYICAUIBwYICAYHBgUGBgYGBwcGBAgGBgcGBwQHBwYICAYGBwQGBwYICQgGBgYJCAcGBwsIBwYFBwUFBggEBAcHBAYHBgQGBAcGBQYGCAcGBgcEBgQICAgICAYKBgQHBwYIBAYFBgYHBgcHCAUFCQYIBAgICAgHBgcEBgYHCgYFBQgGBgcICAgFBwUFCAYHCAYHBgcHCAgJBAcGBwUGBwcHBgcGCAgECAYICAgEBggJCAYICAgICAgIBwgICAgICAgIBggIBgYGBQgHBgYIBQYGCAYGBgcHBgcIBgYICAYGBwgFBwgIBgYFBAcHCAQHBgUHBgUIBgYECAgHCAcGBggGCAgIBgUGCAYKBwsKBgYGCAgIBAgGBAoEBAQICAgICAgICAQGCAQGBgYIBwkHBwgLBgYIBggFBwcHBQgIBgcEBwcHBwYGBwcGBgYGBwcIBwUEBgUJBggGBQYGBwcGBQwGCAcICAcFCQcGBQQGBgcHBwgHBwcGCAUEBgYIBwYHCAgGBwUECAgICAgECAgECAgGCQgGCAgICAgICAgFCAYIBwkGBQcEBQYHBwYFBwcJBgUKBgUGBAYGCAgFBgQICAgIBwYGBQQIBwYGBwYIBwYIBwcGBggHBgYGBgYECAgICAQICAgICAgICAgICAgICAgICAcGBAcGBwgIBggGBgQGBwgICQUIBQUIBQcIBgUGBgYHBgcHBwkHBwYGCAgFBgYHBgYGBwUFCAcIBwYICgkGCAgICAgICAgIBQgICAgGCAQICAgECAYICAgICAgICAgICAcMCAgFBgcHBwYICAgGBwcGBwYHBQkIBAcHBQoICAUHCQkFBAcHBgkIBwcGBgQGBgUHBwcGBgQGBgYJCAcHCAUHBAUFCAcGBQgHBwcFBwgIBgcFBwcGCAcHBwUGBgYGBwYECAQIBgYICAgIBAgICAgICAgICAcECAgIBAQICAgICAgICAgICAgICAgGBQgGCAgHCAYHBgYIBwcIBAYHBwcIBggIBgcGBwYHBwcICAgIBwYGBgUGBQYHCAQIBAcGBQYFBwYGBgYFBQUHBggIBQgFBQgFBgYICAcIBgkIBgYICAYHBwYIBAYICAgGBgYGBggICAYICAgICAgICAgIBggIBwgECAgICAgIBggGBAgHBQkIBgUGBgUIBQYGBgUGBgUGBQkGBwULBgYGBggGCAcHBgYFBwYGBQYGBggHBwkFBAcFCAgIBAUIBgcFBwgIBwcGBwcICAcHBggECAgGBgYGBgYHBAYGCAgICAgICAgECAgICAgICAYIBggECAQICAgICAgICAgGCAgGCAYFCQcIBAYIBggICAcJBgYIBQcFBgcGBgcIBwYGCAQIBwQICAcGBAgIBgUFBgQHBQgHCAQKBgYEBwcGBgQHCQkHCQYHBgcIBAYFCAUGBgcIBwgGBgYHBgcHCAgHBgcHCAYICAgICAgICAQICAgICAgICAgGCAgIBggICAgICAgICAgICAgICAgECAYIBgYGBggGBgYGBgkHBggJBwUECAcGBgcHCAYGBQYHBgUHCQYGBgcGBAQGCAcECAYIBgUGCAYGCAcIBwgHCAcGBQUGCAcIBQgGBgcIBwQGDAQFCAYGCAcICAYHBgUIBAYFBgYHBwYGCQUGBgYFBwgHBgYFBgQGCAgICAgICAgIBAgICAgICAgIBwgECAgICAgICAgICAgICAkICAUECAQICAgGCAgGCAgICAgICAcICAgGBggGCAYEBQgIBwUHBwYHBwcHBQcGBAUHBgQHBgYFBgUFCAsECAUFBQQGCAcGCAYFBgUHBwQFBggKBwYGCAcIBwcLBAcIBwgHBgYIBwYHBQYGBAcGBwYIBwcIBgYICAcIBwcEBgYHBgUJCgQGCAgECAgICAgICAgGCAgICAgGCAYLCAgICAgICAQIBAgICAgICAgICAgICAcEBgcGBgoECAQFCAUGCAcHBgcGCggIBgYGCAUHBQYGBgYICAgHBggGCAYFBQgGCAgIBgUGBQYGBQcIBQcIBQoIBwYICAgHBQgGBwcICAQFBgYGBQkGBwgHBwUHBgYFBwUJBQkGBQYIBgcKBgUGCAgICAgICAgICAgHCAgICAgICAgICAQEBgYGBAQIBAgICAgICAgICAgICAgIBgcGCAgGBgYIBQgICAcFBgcGCAcGCAYGCAQIBgYGCAYHBgYGBQQICAgHCQYICAgJBgcGCAcGCAkGBwYGBgcFBgYHBQUFCwcIBgYIBgYHBgcGBggGBgYIBwcHCQcGCAUFCAYIBgQHBggGBAYIBQUFBggHBwcFBQYFBgYEBwQICAgICAgICAgICAYICAgICAgICAgECAQGCAgICAgICAgICAgICAcHBgQECAgIBAgICAgEBAgICAgICAgICAgICAgGBAYGBQcICAcKBQYFCAcIBwgHBgYFCAgGBQYGBQoGBggHBgUGBAYFBggGBgYGBwcHCggGBQUGBwQFBgcIBAgICAUIBgUKCAYHBwgICAUFBAYGCAkHCAgEBwYGBQQGBwgHBgYGBQUGBwYHBAQGCAgICAgICAgICAgICAgICAgICAgICAgICAgICAgHCAgICAgICAgGCAgICAgICAgICAgICAgICAgICAgICAgICAgIBwcGCAcHBQYGCQcGBgwICgYFBQQECAgGBgYHCAcLCAYHBgkJBgcEBgcIBAgIBwQDBwQFBgQFCAQIBwcHBAcIBgQHBwYHBwYHBwcGBwoHBwcFCAYFBgYFBggHBgYGCAYIBQQJBgcGBwcGBgYIBwgGBggHBgYGCAgICAgICAgICAgICAgICAgICAgICAgIBAgICAgICAgICAgHCAgICAgIBggICAYIBAgIBggICAQICAgICAgICAgICAgICAgICggICAUHBgQGBgcFBwgICAUHCAoGCAcHCAgFBggEBgQFBgYJBgQHBQgKBQgICAcHCAgIBwcKBwgGBwgLBgYHCAcIBAYHBwgHBAgFBgYFBgYKBggIBgYGCAgGBggIBQgHCAcJCAgGBwYIBggGCAgGBgcIBAYHBwgFBQYGBggJBQgICAgIBwgHBwYKBggJCAgICAcICAgICAgICAgICAgICAgICAgIBggICAgICAgICAgICAgICAgICAgICAgICAgICAgIBwgICAgICAgICAQIBAgICAgICAgICAgICAgICAYIBwYICQcGCAcGBwgHBwUIBgYICAgGBggICAcHBgYGCAcICAQEBgoHBgYGCAYIBQYIBggIBwcGCAcFBgYIBwcEBAgICAUHBgUGBgkHBwYFBwcIBQYHBgcIBQcGBQcFBQgGCAoGBggGBgYGBAgGBQYHBwkGCQYIBAcFCAgICAgICAgICAgICAgICAgICAgICAgICAgICAgICAgICAgIBwgICAgICAgICAgICAgICAgICAgICAgICQgHCgoICAYICAgICAQECAgICAgICAgICAgECAgICAgICAgICAgICAgHCQcGBgQICAcIBgYIBQYFCAcGBgYJBggIBQYIBggFBgcGBQcIBwcIBAcFCAcICAcIBwgHBggJBwcGBgcGBgYGBgcGCAcGBgUIBggGCAgIBwcHBgUHBgYEBQgHCAgHBgYGBAcICAYHCAYHBgcHCAkGBgcECAQHBgUHBQcGBAUGBgYGBAQGCAgICAgICAgICAgICAgICAgICAgICAgICAgICggICAgICAgICAgGBAgIBAgICAgICAgICAgICAgICAQGBwwKBwQICAgICAgECAgIBgYIBAgICAgICAgICAgICAgICAgICAgICAgICAgGCAgICAgICAgJCAYGBAcIBgUFCAYHCAcICQUIBgcFBgcGBgcECAgIBwgGBwYFCAgHCAUIBgUIBwgGBwgIBggFCAYHBAYGBgUHBQUFBgYIBwYGBgYIBgcHBgQGBwYGBQcGBQcGCQUIBAYEBgUICAYEBQgGCAcHCAYFBQgFBgYFBwYGCAgHBQgGBgcGBgYGBQQGBwYHBggGBAoHBgcGBggGBgcIBAYICAgICAgICAgECAgICAgICAgICAgICAgICAgICAgICAgICAgICAgICAwICAgICAgICAgICAgICAgICAgICAgHCAgICQoKCAgICAgIBAYECAgECAgICAgICAgICAgICAgICAgICAgICAgICAgICAgICAgICAgICAgIBAgICAgICAcGCAoGBgcFBgcHBwkGCAUEBAgECAcGBwYIBggGBAYFBgYHBwcIBwgICAcICAYGBgYGBwUIBAgGCAgGBwwIBwYGBggKBAYGBggJBgYHCAYGBQgGBgUGBggHBgcGBwYHBggHBggGCAYECAQFBggGBwcICAgGCAcHBQYGBgUHCAgHBgYHCAcGBQgHBgcFBwYIBggICAgICAgICAgICAgICAgICAgICAgICAgICAgICAgICAgICAgICAgICAgICAgICAgICAgICAgICAgICAgICAgICAgICAgICAgICAgICAgICAgHCwYECAQICAgICAQICAgECAgICAgICAgICAgICAgICAgICAgICAgICAgICAgICAgICAYGBgYGBwcGBwgHCAYHBgYIBgQFBQUIBggGCAcIBQcHBwcIBAYGBwYFBgYHBgcGBQQHCAcEBgQIBggEBgkICAYGCAcIBgYFBgYGBQYIBQYIBgQHBwYECQYHBwcHBgcGBgcEBwUGBAkGBwcGBAYHBggICAgICAUGBAYHBgcGBgQGBgUFCAgJCQUHBwYHBwkGBwcIBgYGCAUEBQYICAgICAgICAgICAgICAgICAgICAgICAgICAgICAgICAgFCAgICAgICAgICAgICAgICAgICAgICAcICAgICAgICAgICAgICAgICAgICAgICAgICAgICAQGCAYHCAgICAQIBggICAgICAgEBAQHCAgICAgICAgICAgICAgICAgICAgICAgICAgICAgEBgQHBgYGBwgICAYFBAYFBgcGBwYFCAcGBwUGBgYHBgYGBAgGBggMBwcGBQcICgYGBgcEBggJBAYGBwYGBwYHBgcIBggICAYHBgYGBQgHBQUICAcHBwUHBwYHBwYLBggFBwgFCQYLBgYGCwUGBgQGBgUGBwgLBwgJCQgEBggFBQ==",
          "dtype": "i1"
         },
         "xaxis": "x",
         "y": {
          "bdata": "AAgABgAAAAAABgANAwgGBwAGBgAKAAcABwAFCAYABgAABgMGBwYIBwYGBgYGBgYGCAgGAAcGBgYGBggHAAYHCAgHBgQGAAAABwAEBAYABgYIBgYGBgQGAAYHBgcGBwAGBgcGBgcIBQYHBgcGBwQGBgYAAAcGBAYFBwgHBgAGBgcIBgYHCAYHBgYIBwYEBgYHBgYHBwYGCAYIBgcGBwYGBgYHBgYGAAcGBgcEBgYIBgYGAAcGBgUHAAYGAAMGBgAGBgQHBwYHBgcGBgAGBgYGBgYGCAYGBwYGBgcHBQYIBgYHBgUGBQYGBggHBAcGBgcGBgcIBgUABwAIBwgHAAAGBgYHAAcGBgUGAwYHBwcEBgcGBgYIBgQFBAMHBgAGBgcGBggIBQgABgABAAYFBAgJAAYGCAYIBgYEAAUIAAcHBwYEAAYGCAgJAAYHBgYGBgYIBgcHBgcGBAkGBggGBwYGCAYHBwYHBgYGBAYIBgcGBwcGCAAIBwUDAQYIBQYACAQEBgAGAAYHBgYIBgYGAAUGBgAIAQYEAAgDBQAHBwYFBwYGBgYFBgYFBggEBwYHBgAHBggABgAEBggAAAAABQYGAAUGBAYGBggGBAYGBQgAAAgGCAYIBwYGCAUFBAUABwYGBgYIBQYACAAGBwYHBgcGBgYGBwgGBwcIBAgHBwYGBggGBwcECAkECAYHBwcGBgYGCAYHAAgGAAYGBwcGAAMIBAYGBwUGBgYGBggHBwkGBgcFCAUGCAYABgcGBggECAYHBgYGBwYEBwgDBAgIBgYGAAgFBgIHBgAGBgQHBgAECAcABggBBgUACQgGCAcEBQcGCAcHBQYGBgAGBgcIBggGBgEGBgQIBQAEBgYFAAYHBQQABwcIBgAFBggHBggABQUGBQQFBgUDBwgIAAYGBggEBwcIBQYGAAEABggICAUBBwYGAAcIAQcKBgYHBAcHBQAHBQUIBggHBwcGCAcGBwYGBAcIAAAGBgYABgcFBgcAAAgHBwcIBgYGCAYGCQUGBwcAAAYEBwYEBggFAAYHBggGAAgFCAgHBggIAAAFBgUGCAYIBgYFBwQHAAAIBgYGAAcFBgYHBQcHBgYIBgAFBwYGBgQIBgcIAQUEBAgHBQQEBwYGBgYHBgYGBgYAAAUGCAcABwcIBgAHBggIBQcFCAcGBgAHCAcFBwUICAYGBgYACAgGCAcACAYGBwYGBgQGBgYGBgcGBgYGAAAHBgYABwYIBQgFAwgJBgUECAYFBgcICAYGBgAGBwAABAcGAAAGBwAGBQcGBQgIAAcHAwYIBwMIBgUGBgkECAcGAQcABgYFAwUEBwYAAAcGCAYAAwcJBwYGBwYGBQYGBgQHBwgAAAAABAYHBwgGCAYAAAcIBwUGBwcHBgUIBgcAAAcFBggFBQgAAAgABgYGCAYIBggAAAUGBwYGAAYHBggIBAUIBwgFBAAFBwYIBgAGBQUGBAYHBgQFAAgFBQUIBgcHCggGCAYHCAcIBwcIBAAABQYHAAYICAYABQgGCAYGBgYEBgUAAAYIBQgABwcFBgYGBgYGBQYHAAYGCQcICAcGBQYABwYIBgYHCAYIBAcFBwcEBgAIBQcGBQcGCAgEBQcGCAcGBwAGCAYFBgUGBQcIBQcGCAYHBwcIBQcFBgYGCQcGBAcIBwYGBgcGBgAHBQUGBgYGAAUHBwcGBgAGBgYGBgAHBwYGBgYHBgUGBwYGBgUHCAAGCAYFCQcGBgYHBgUGBggHBgYJBwcGCQUHBwgFBQgIBAYHCAgABgYFBQcGBggGCAUHBwYEBwgHBgUHBgYGBggGBggHBwcEBwYFBggIBAAGBgcHAAYFBQUHBgYICAcGBwgGAAgFBgYGBgYFBQYHCAYICAAHBQUGCAgGBgYGBgAACAYGAAcHBwcHCAUKBggIBgYAAAYGBwYGBgYHBgAHBgYABgcIBgcGCAcIAAMGBQUEBAYGBQkABgUGBggIAAAHCAcGBgYHBQYIBggHBgAGCAYGBwYIBgUHBgcHBgcHAAYGCAYGCAYHBQYHBgUGCAYIBggGBgAJBwYGBQgGBgcHBgcFBwUHAAYHBgADBwUFBgcGBgYFBgQGAAAABgcHCAYABgcHCQYGBgQGBgYGBwAIAQcIBgYGBwYDBggGBQYIBgYGBQYIBwYJBwQGBAgHBwYFBQUGBwUHBgYFBwcFBgYIBgYGBgYGBggHBgcGBwYFBAYIBggABwcGBgUFBQcGBgAHBgYGBgUIBwYGBwYFBwAGCAUIBQUGBQcFBgcGAAAGBwgGBwcIBgYHBwYGAAYJBAUGBgUIBwYIAAAFBAYGBgQIBAcGCAAHBgQFBwgHBwgGBgAGBwQGBwAGBgcHCAYFCAcGBgcGBAUHBAYGAAUICAUFCAYGBgYABQUGBwgJBQYIBwYHBgYHCAcIBQgHCAgJBAcFBgYGBAYHBwYGBgUAAAgGCAUGBQUIBggGCAYGBwQIBQcGBwgBAwgFBwYFCAgHBgQGBQcHBgQABwUGCAAIBwYHBgcHBgcGBgcIBgUFAAAGBgYGBQYHBgYGBQUGBwYACAQHBgYGBwcIBgcGCAcIBgcGAAYGBQYHBQYGCAcGBwYAAAYFBggEBggGBgYFCAYIBQgGBggHAAgICAUHBwUIBgcGBAYAAwkHBgYHBgcHBgcEBgYIBwYGBQgHCAQEBwYGBQAIBwYGBwYHBAYABgAABwgGBwYHBgYGBwcHBAUAAAUIBQcGBgYGBgQABwgFBgcHBgUGAAAGBwgGBgYFBgYGBwcAAAYHCAcGBQUABwUIBggHBwcHAQYHBwYGBwYHBAcIBAcFBQQHBwYGBwYFBgAACQcFCAcGBwcHCAAHCAYEBQcGBgkEBQQHBwAABgUHBQgGBAYAAAgGCAQGBgcFCAUGBggGBAQBAAcIBQgIBgYGBAUFBgYHBAYFBQcGBAAABgYHCAULBwgGBwYGAAUGCAgHBggFBwYGBgYFCAYHBgYHBgcGCQcHBgcHCQkGBgYAAAUGBAgFBgYGBgYIBggIBAgHBwUHBwcHBQgFAAAAAAAGBggGBwYGBwYECAYDAAAGBgYFBQcGBAcFBwQICAcIBggHCAYFBAUAAAYGBAYEBgUICAAFBwgHBgcGBgQHBggGBgYEBAYAAAcGBggICAYIBgcGCQADCAcIBwYIBwYIBwcFBQAAAAYGBggLBwgGBgQEBwYIAAAACAYGBgYICAUEBgYICAcGCAAIBQYGBQQHBQcGBwcGBwEFBQYICAgHCAYHBggFBwcHBwYGBAgHCAcABgYHBgYJBQgGBggHBgQHCAYGBAYHAAAGBwUJBQgGBwgEBQYIBgUABgYGBgYGBgUHBgUFCAcGBgYMBAgICQYEBgUGBgcFBggDBAUEBgcGCAcGBgUGBggKBwYHBwYHBAABBwcIBgYFCAYHCAYGCAgHBQcGCQYABwgIBggICAcGBwYIBgYGBgYIBQYABQcGBgYECAgGBggGBgcFBwYHAAAGBgcFCAYGBQQIBQgGBgYGBgYFBAUGAQAJBQYIBQcJAAkGBQgFBgYGBggHBgYHCAcHAAgFBgMGBwYGBgcGBgYHCAQFBQgABAgEBwcIBAgHCAYHBgcECAcEBQAAAAUHBwUIBwYGBAQGBQYEBwgGCAUIBQAGAwYFBwgGBQYIBAYFBwcGCAgHBgYAAAYHBgUEBQYGCAYFBQcFAwAABgcGCAQGCAUGBQYEBgAABgUIBQgHBwcJBQgIBgUGBwYFBgQICAcGBwAAAAgHBgcGBQQFBgcIBAgGAAAGBgYHBgUGBgcGBAYGBgUFCAYIBgcFBgUACAgGCgYGBQYIBAYGBgUGBggGBgcICAYHBAAAAAUHBQgHBgYGBgcIBQgGBQkHBgYFCAcGBwcHBQcGBgcGBwUIBwYGAAQGCQYGBgYIBwYIBAUIBwYIAAAACAYIBggGCQgGBQcICAgECAYGCAQGBQAAAAYHCAQFBQYHBwYHCAYHBgcHBQoFBwcIBwABBgYGBwcEBAYFBgUICAYGBQgGCAoGBgcHBgYAAAAABgcIBgcGBAQGBQcICAcGBwYGBgYFCAUEBQcGAAcIBQYFBgYICAQHBAYHBwAGCQgGBAgGBwgFBgYGBggGCAYHBwYFCAgIBQYEBggGCQcABgADAAYGBwYGBwYGBQcGBgUFBgcECAQHBgYGBAUGBggHBgYHBgYAAAAGBQQJBQgFBwcGBAYKBggIBQgGBgYHBgUAAQAIBgcFCAcHBwcIBQUHBQYGBgYGBAYFBggIBgYGBQgGBwYGBgQGBgYEBwYHCAgAAAcHBgYIBAYIBggHBgQEBggGCAYFBgUAAAAABgoGCAcHBwgIBgQGBQcHBgYIBwYGAAAIBgUIBwYFCAYGCAYGBAQJCAUHBQcABQYHBwgEBgcGBgYGBgUIBQUGBAcGCAAAAAIGCAYIBgcHBAUHCAYIBQUGBgcFBQcGCAcAAAAACQYHBgUKBgkGBgYFCAgHBwYEBwQGBgYGCAYFBgYGBQYFBgYIAAAGBwcIBgQFBgUHBgYHCAYGBQYGBwYICAYHBQUHBAcFBQUECAUAAAAAAAAFBgYGBwYGBgYGCAUHBggGBwgHBwcFBgcAAAAGBAUEBgcIBQQGBggHBwYJCAYEBwYFBwQFCAYGBQYAAAQABwYGBwYEBwYGBgYJBAcIBQgGBgcGBgYEBwgFCAYIBwgGBAcFBwYFBgcDAAAAAAgGBQYIBgUGBAYIBwYHBwYFBQcGCAcEAAYAAAAAAAAGBwgHBAYECAUIBwgECAcGBgkBBwYGBggFBwYIBgUFCAcGBgcFBgQIBgYEBgYIBwYAAAAAAQAABAQJBgYKBggGCAcGBwUFBAYGCAcGBgYDBgcEBgcGAAAABQYFBwcFBwUHBwgEBgYGCAYGBQgIBwcFBwcEBgUEBgcHBgcHBwYAAAAIBwUIBwQHCAgEBgYIBwcFBQYICAYHCAcEBgUICQcFBwAABwQGBgQIBAcGBQYFCAYGBgYGCAYCBgcEBwYIBgYHBQgKBgoGBAcIBgUHBAcGCAYGAAABAAADBgUCCAcGCAgFBgoGBwYHBgQHBwYGBAcGBwgFCAgHCQcIBggECAcIBgAAAAAABgcIBQYIAwcHBwUHBgQGBgYGCAYGCAYHBgYEBAgJBgYFCAcGCwYHCAQGAwcHBQYABwQHBwYGBgUGBggIBgYHBggFCAQFCQcEBAQHBgYGCAcFBgQIBwYIBQAACAUHBQgHBQQGBgYGBgUGAQcGBgcGCQQHBAgIBgYGBAcGBAgFBAgFBgAAAAABAAAABAYKBgUHBgcIBwUHBwQGBgQFBgcECAgECAYEBgYIBwcIBwcIBgYGBQYHBQUIBAAFAAAIBgcIBAcEBgYEBQcFBQYHBwQJBQgEBQYFBgcEBgYHBgYGBAcIBgQHBwcBAAAAAAAJBgYGBgUHBgcIBQUFBgYKBgQHBgkECAYECAYFBwQGCQgGBwUFBQYFBwcAAAAAAQAIBwYEBQgICAgFCAcGBgcIBgYICAgGBwgFBwgFBQgGCAgGAAAAAAAHBgUICAUEBQgFBAUGBQYGBwUIBwUGBAgHBgUJBgYFBgYGBwgFBgcGCAcHAAAGBgYGCAUGBQkLBwgGBgcJBwUHBwYEBgYFBwgIBgUGBggIBQYHBwQHCQkGBgcIBwMGCAYGAAAAAAQGAwAAAAQHBgYECggGBQcGCAgGBwYEBwcGBQYFBwcECAUGCAUHAwQABAAABQYHBAQGBQYHBwgHBQYIBQwFBwIFBgUGCAgGBgQGBQYGBQcHAwcIBgYHBgYGAwAAAAAAAAAAAAQFBQUIBggFBwUGBAcDBQkFBgYGBgcEBgYHBQkIBgQHBAgFAAAAAAAHBQYGCQYGBQgIBAUGBwcJBgUGBQYHBAUIBwQIBAgIBQgFCAcEBwQFCAUGBgQIBwcHAAADAAAGAwYEBwYIBgUJBQYGBgcEBAYHCAgIBgUGBgcGBgQICAgGBgUIBQgFCAYGBgYHBgcHAAAAAAEAAAAABQQGCAcGBwgGBwUJBgQIBwYHBQYFBgQGBgYHBgYCBQcECAgFBwkJBwcIBgcHAAAFBAcHCgYIBgYEBgQHBQUGBgQEBAkEBAcHBAUFBwYGBAYIBwQHBQQHBAUIBQgIBwcICgAAAAAAAAAABAQIBwYIBgYHBQQFBgcHBAUGBwYIBAUFBgYGBgUECAcFBgUHBgcGCAUAAAQAAAAAAAQGBgQGBgYEBAgKCAUGBQYIBQYFBAQFBAgGBgUGCQYHBwYGBwQFCQgAAAAAAQAAAAAGBAkKBgcIBQYIBwYEBwYGBwQGBwQHDAgGBwQHBAcIBwYKCAYFBgUHBgcIBgMAAAAAAAAAAAAABAQEBwcIBwcGBgUIBgoEDAcHBgUGBQYHBwYGBQUFBwUHBgUIBAUGCAQHBAYIBwcEBQgHCAYGBAAAAAIAAAAAAAAFBAUHCAgEBAQICAgICAYFBQQGBAQHBgQHBAcHBggIBwQGCAcEBgQGBQcHBwYGBgIGCAcABQEAAAAAAAQFBgYGBgQFCAcGBwgGBgUICQUGCwUFBQQFBwcDBQQGBwUMBgUEBQUIBwYGBQcIBwoGBggIBAUFCAgGBgQAAAAHBggHCAgEBgcHBgcGBgQHBQgGBQYEBQYEBAcGBggEBgYECAgGBwQGBAcHBgcICAYGCAQHBwQJBggGAwAAAAACAQEAAAAAAAMGBggHBAYFBwYEBQUFBAQGBAQEBggHCAcHCAYFBwcGBgYGCAQIBggHBgQHCAgGBAYAAAAAAAQFBwQGCQgJBwUHBAgFBAYHBgUGBgYHCAUHBQoEBgcFBgYGBgcFCAcEBgYIBgcIBwYGBgUIBQUGBwQGCAgFCAYAAAAABAcIBQYFBAYHBAcGBgUIBwcIBwgFBwYHCAcEBQgHBgUHBAQGCAUGDAYIBwYHBwUHBwcHBgcHCAUIBgUGBgUAAAAAAAIAAAAAAAQECAYHBQgHCQgFBgYFBAUEBQYGBQYEBggGBwQFBAYGBAYFBAYHCAgEBQcHBwgIBwcEBQQFCAQIBwgEBgYHBgcICQgFAAAAAAAAAAAAAAQFBQgIBAQEBgYICAYFBwYGBQcGBwYGBwgIBgYJCAcHBAcFBQYDBwcGBgYGBgYIAQAAAAAAAAAAAAAEBgYGBgcFBgYGBggFBwYIBQcEBwgICAQGBQQHBQUHBAUEBQYGBAgHCAgHBgYIBgYIBgYGBAQFBggGAAAAAAAAAQAEBQYGBgQICAcFBggIBwYHBAcGCAgGBwgEBQgGBgUHCAcGCAcGCAYHBAYFBAQICAcIBggEBgcHCAYGCQYICAcHCAUFBgUHBAAAAAAAAAQJBgcGBwYHBQYHBwYIBAUGCAcEBQgFBgQFBggHBAYIBAQGBwcIBwYIBwYGBQgIBgkGBgcGBwgGCAcJAAAAAAAAAAQAAAcEBgQICAUGCQkHCgYGBwUGCAYGCAgFBgkHBQQGBgYFBAQHBAYECAUICAcEBAUEBgcGBwYFBQYEBQQIBwUGBwQHBwQEBgYFBwYFBgAAAAAAAwQDAAAACQYKCAYHBgUFBgYFCAcFCAcDCAgIBgcHBgQJBgcFBgcFCAgECAYIBgcEBgYIBgYEBgcGBQcGCAgGBQcIBgcGBwYIBwUIBwcFCAYGBAgGBgcFBQEAAAAAAAQFAAAAAAAAAAYGCwYGBgcHBwYGBgYGBQcJBgcIBwUGBggGBgcJBQgGBgkGBwgEBwcHBwQGCAgHBgYGBggICAgFBgYHBgcGBwcGBQcHBgUFBgYGBggIAAAAAAMAAAAAAAAAAAUFCAkHBgYGBAYHBQgFCAMECAYGBwYFBwgGBAUIBwcGBQYHBwgGBQUGCAkGBgUGCAYIBgQICAUIBAYGCAYGBAcGBQcFAAAAAAIAAAAAAAAABwYHCAUJBQgEBgYIBggFCAcEBQYJBgcHCAcFBgUIBgcGCAgIBggHBgQJBAYIBgQECAgICAoGBwQIBgYGBQcHCAcGCAYGCAYFAAAEAAAAAAAAAQAAAAAAAAYECAYGBgcGBQYHBQYFBgkGCAUGBQgHBgUHBwQHBgYGAwYIBgcEBQYHBggJBwYHBgYFBwYGBgQGBwUIBgcHBgYFBgcGBwYEBgYDAQAAAAAAAAAAAAAACAgECAYEBggFBAcHBwUIBQYHBgcHBgUEBwYHBgYHBQQGBQcFBAcICAcIBggGBgUHBgYFBwgFBgYFBwcEBwcFBgcAAAAAAAAAAAIBAAAAAAAAAAAABgYFBgUIBwYICAYHBgUGBgYGBwcGBAcGBgYGBwQHBwYHCAUGBwQGBwYICQYGBQYICAcGBwsIBwYFBwUFBQgEBAcHBAYHBgQGBAcGBQYFCAcGBgUAAAAAAAAAAAYHBgQHBwYIBAYFBgYHBgcFCAUFCQYIBAgECAgHBgcEBgYHCgYFBQcFBgQICAgFBwUFCAYHBgYHBgcHBwgJBAcGBgUGBwcHBgcFCAgECAYICAgEBgAFAAAAAAAABAAAAQAAAAAAAAAABgcIBgYGBQcHBgYIBQYGCAYGBgYHBgcIBgUGCAYGBwgFBggFBgYFBAcHCAQHBgUHBgUIBgYECAgHCAcGBggGCAgIAwUGBgYKBwsAAAAAAAAAAAAAAAEAAAAAAAAAAAAAAAAGCAQFBgYIBwkHBwgLBgYIBQgFBwYGBQgIBgcEBgcHBwUGBwcGBgYGBAYIBgUEBgUJBgcGBQYGBwcGBQwGCAcICAcFCQcGBQQGBgcHBggHBwcGCAUEBgYHBwYHCAYGBwAAAAAAAAAAAAAAAAADAAAAAAAAAAAAAAAFCAYIBwkGBQcEBQYHBwYEBwcJBQUIBgUGBAYGCAgFBQQICAUIBwYGBQQIBwYFBwYHBgYIBwcGBQgHBgYAAAAAAAAAAAAAAAAAAAAAAAAAAAAAAAAAAAcGBAcGBwgIBggGBgQFBwgGBgUIBQUIBQcIBgUGBgUHBgcHBwkHBwYFCAgFBgYHBgYGBwUFCAcHBwYICgAAAAAAAAAAAAAAAAAAAAAAAAAAAAAAAAAAAAAAAAAAAAAAAAAJCAgFBgcHBwYGBggFBwcGBwYHBQUIBAcHBQUHBwUHBgkFBAcHBQkIBwcGBgQGBgUHBwcGBgQDBQYJCAcHCAUGBAUFCAcGBQgHBwcFBwUIBgcFBwcGCAYHBgUGBgYGBwAAAAAAAgAAAAAAAAAAAAAAAAAABAAAAAAAAAAAAAAAAAAAAAAAAAAAAAAGBQgFCAgHCAYHBgYIBwcIBAYFBwcIBggIBgcGBwYHBwcICAgIBwYGBQUGBQUHBwQIBAcGBQYFBwYFBgYFBQUHBggIBQgFBQgFBgYICAcIBgkIBgYICAYHBwYIBAYICAUGAAAEAAAAAAAAAAAAAAAAAAAAAAAAAgIAAAAAAAAAAAgGBAQHBQkIBgUGBgUIBQYFBgUFBgUGBQkGBwUHBgYGBggGCAcHBgYFBwYGBQYGBggHBwgFBAQFCAgIBAUIBgcFBwUIBwYGBwcICAcHBggECAgGBQYGAAAFAAAAAAAAAAAAAAAAAAAAAAAAAAAAAAAAAAAAAAAAAAAAAAAAAAcGCAYFCQcIBAUIBggHCAYJBgYIBQcFBgcGAQcIBwYGCAQIBgQIBwcGBAgIBgUFBgQGBQgHCAQKBgYEBwcGBgQHCQYHCQYHBgcHBAYFCAUGBgYIBwUFBgYHBgcHCAgHBgcAAAAAAAAAAAAAAAAAAAAAAAAAAAABAAAAAQAAAAAAAAAAAAAAAAAAAAAEBwYIBgYGBggGBgYGBgkHBAgJBwUECAcGBgcHCAYFBQYHBgUFBgYGBgcGBAQGCAcECAUHBgUFBgYGCAcIBwcHCAcGBQUGBwcIBQgFBgcIBwQGBgQFCAYGCAcICAYGBgUIBAYFBgYHBwQGCQUGBgYFBwgHBgYFAAAAAAAAAAAAAAAAAAAAAAAAAAAABgAAAAAAAAAAAAAAAAAAAAAABAAAAAAAAAAAAAAAAAAAAAAAAAAAAAAGBggFCAYEBQcIBwUHBwYHBwcHBQcGBAUHBgQGBgMFBQUFBwgECAUFBQQGCAUGCAUFBgQHBwQFBggKBgYFCAcIBAcLBAcIBwgHBgYIBwYHBQYGBAcGBwYIBwcIBQYICAcIBwcEBgYHBgUJAAAAAAAAAAAAAAAAAAADAAAAAAAAAAAGAAAAAAAAAAAAAAAAAAAAAAAAAAAAAAcEBgcGBgoECAQFCAUGCAcHBgcFCggIBgYGBgUHBQYGBgYHCAgHBggGBgYFBQgGCAgIBgUGBQYGBQcIBQcIBQoFBwYICAgHBQgGBwcICAQFBgYGBQkGBwUHBwUHBgYFBwUJBQYGBQYIBgcKBgQAAAAAAAAAAAAAAAAAAAAAAAAAAAAAAAAAAAAAAAAAAAAAAAAAAAAAAAAAAAAABgcFCAcGBQYIBQcICAcFBQcGCAcGCAYGCAQIBgUGCAYHBgYGBQQIBwgHCQYFCAgJAwcGCAcGBwkGBgYGBgcFBgYHBQUFCwcIBQYIBgYGBgcGBggGBQUIBwcHCQcGBwUFBQYIBgQHBgUGBAUIBQUFBQgHBwYFBQYBAAAAAAAAAAAAAAAAAAAAAAAAAAAAAAAAAAAAAAMAAAAAAAAAAAAAAAAAAAQAAAAAAAAAAAAAAAAAAAAAAAAAAAAAAAAAAAAGBAYGBQcIBwcKBQYFCAcIBwgHBgYFCAgGBQYGBQoGBggHBgUGBAYFBQgCBgYGBwcHCggFBQUGBwQFBgcIBAgICAUIBgUKCAYGBgYICAUFBAYGCAkHCAgEBwQFBQQGBwgHBgYGBQUGBwYHAAAAAAAAAAAAAAAAAAAAAAAAAAAAAAAAAAAAAAAAAAABAAAAAAAAAAAAAAAAAAAAAAAAAAAAAAAAAAAAAAAAAAAAAAAABwQGCAcHBQYGCQcFBgwICgYFBQQECAgGAwYHCAcLBwUHBgUJBgcEBgYIBAcEBwQDBwQFBgQFCAQIBwcHBAUIBgQHBwYHBwQHBwcGBwoHBwcFCAUFBgYFBggGBgYGCAYIBQQJBgcGBwcGBgYIBwgGBggHAAAAAAAAAAAAAAAAAAAAAAAAAAAAAAAAAAAAAAAAAAAAAAAAAAAAAAAAAAAAAAAAAAAAAAAAAAAAAAAAAAAAAAAAAAAAAAAAAAAAAAAAAAAEBgQGBgcFBwgICAUHCAoGCAcGCAcFBggEBgQFBgUJBgQHBQgBBQgFCAcHCAgIBwcKBwgGBwgLBgYFCAcIBAYHBwgHBAgFBgYFBgYKBggIBgYGCAgGBgcIBQgHCAcICAgGBwYHBggGCAgGBgcIBAYHBggFBQQGBggJBQcICAgIBwgGBwYKAAAAAAAAAAUAAAAAAAAAAAAAAAAAAAAAAAAAAAAAAAAAAAAAAAAAAAAAAAAAAAAAAAAAAAAAAAADAAAAAAAAAAAAAAAAAAAAAAAAAAAAAAAAAAAAAAAABwYICQcGCAcFBwcHBgUHBgYGCAgGBggICAcHBgYGBwcICAQEBgoHBgYFCAYIBQYIBggEBwcGCAcFBgYIBwcEBAgICAUGBgUGBgkHBgYFBwcEBQYHBgcIBQYGBQcFBQgGCAoGBggGBgYEBAYGBQUHBwkAAAAEAAMAAAAAAAAAAAAAAAAAAAAAAAAAAAYAAAAAAAAAAAAAAAAAAAAABgAAAAAAAAAAAAAAAAAAAAAAAAAAAAAFBAMBAQAAAAAAAAAAAAAAAAAAAAAAAAAAAAAAAAAAAAAAAAAAAAAAAAAHCQYGBgQHCAcIBgYIBQYFCAcGBgYJBQgIBQUIBgUFBgcGBQcIBwcHBAcFCAcIBwcHBwYHBggJBwYGBgcGBgYGBgEGCAcGBgUIBggGCAYHBwcHBgUGBgYEBQgHCAgHBgYGBAcIBgYHCAYGBgcHCAkGBgYEBAQHBQUHBQcFBAUEBgYAAAAAAAAAAAAAAAAAAAAAAAAAAAAAAAAAAAAAAAAAAAAAAAAAAAAAAAADAAAAAAAAAAAAAAAAAAAAAAAAAAABAAMAAAAAAAAAAAAAAAAAAAEAAAAAAAAAAAAAAAAAAAAAAAAAAAAAAAAAAAAAAAAAAAAAAAAJCAYGBAcIBgUFCAYHCAcICQUIBQcFBgcGBgcEBwgIBwEGBwUFCAgHCAUIBgUIBwgFBwMHBggFCAYDBAYGBgUHBQUFBgYIBwYGBgYIBgcHBgQGBwYFBQcGBQcGCQUIBAYEBQUICAUEBQcGCAcGCAYFBQgFBgYFBwYGCAgHBQgGBgcGBgYGBQQGBwYHBggGBAoHAwcGBggGBgcIAAAAAAAAAAAAAAAAAAAAAAAAAAAAAAAAAAAAAAAAAAAAAAAAAAAAAAAABgkAAAAAAAAAAAAAAAAAAAAAAAAAAAAAAAAAAwEAAAAAAAAAAAAAAAAAAAAAAAAAAAAAAAAAAAAAAAAAAAAAAAAAAAAAAAAAAAAAAAAAAAAAAAAAAAAAAAQGCAoGBgcFBgcHBwkFBwUEBAgECAcGBgYIBggGBAYFBQYHBwQIBwgICAcICAYGBQYGBwUIBAcGCAgGBwwIBwYGBggJBAYGBggGBgUGCAYGBQgGBgUGBggHBQYGBwYHBQgHBggGCAYECAQFBggGBwcICAgGCAcHBQYFBgUHCAcHBgYHCAcGBQgHBgcFBwABAAAAAAAAAAAAAAAAAAAAAAAAAAAAAAAAAAAAAAAAAAAAAAAAAAAAAAAAAAAABwAAAAAAAAAAAAAAAAAAAAAAAAAAAAAAAAAAAAAAAAAAAAAAAAABAAAAAAAAAAAAAAAAAAAAAAAAAAAAAAAAAAAAAAAAAAAAAAAAAAAAAAAAAAAAAAAAAAAABQYGBgcGBwgHCAYHBgYIBgQFBQUHBggFBwYIBQcHBwcIBAYGBwYDBgYBBgcGBQQHCAcEBgQIBggEBggICAYGCAYIBQYFBgYGBQYIBQYIBgQGBwYECQYHBwcHBgcGBgcEBwUGBAkGBwYGBAYHBggICAgHCAUGBAYHBgcGBgQGBgUFCAcJCQUHBwYHBwkGBwcIBgYGCAUAAwAAAAAAAAAAAAAAAAAAAAAAAAAAAAAAAAAAAAAAAAAAAAAAAAAAAAAAAAAAAAAAAAAAAAAAAAAEBAYAAAAAAAAAAAAAAAAAAAAAAAAAAAAAAAAAAAAAAAAABAEAAAAAAAAAAAAAAAAAAAAAAAABAAAAAAAAAAAAAAAAAAAAAAAAAAAAAAAAAAAAAAAABgQGBgYGBwUHCAYFBAUFBgcGBwYFCAcGBwUGBgYHBgUGBAgGBggMBgYGBQcHCAYGBgcEBggJBAYGBwYGBgYHBgcIBggICAUGBgYGBQgHBQUICAcHBwUHBwUHBwYLBggFBwcFCQYLBgYGCwUGBgQGBgUGBwgLBwgJCQcEBAcFBQ==",
          "dtype": "i1"
         },
         "yaxis": "y"
        }
       ],
       "layout": {
        "font": {
         "color": "white"
        },
        "legend": {
         "tracegroupgap": 0
        },
        "paper_bgcolor": "#050b18",
        "plot_bgcolor": "#050b18",
        "template": {
         "data": {
          "bar": [
           {
            "error_x": {
             "color": "#f2f5fa"
            },
            "error_y": {
             "color": "#f2f5fa"
            },
            "marker": {
             "line": {
              "color": "rgb(17,17,17)",
              "width": 0.5
             },
             "pattern": {
              "fillmode": "overlay",
              "size": 10,
              "solidity": 0.2
             }
            },
            "type": "bar"
           }
          ],
          "barpolar": [
           {
            "marker": {
             "line": {
              "color": "rgb(17,17,17)",
              "width": 0.5
             },
             "pattern": {
              "fillmode": "overlay",
              "size": 10,
              "solidity": 0.2
             }
            },
            "type": "barpolar"
           }
          ],
          "carpet": [
           {
            "aaxis": {
             "endlinecolor": "#A2B1C6",
             "gridcolor": "#506784",
             "linecolor": "#506784",
             "minorgridcolor": "#506784",
             "startlinecolor": "#A2B1C6"
            },
            "baxis": {
             "endlinecolor": "#A2B1C6",
             "gridcolor": "#506784",
             "linecolor": "#506784",
             "minorgridcolor": "#506784",
             "startlinecolor": "#A2B1C6"
            },
            "type": "carpet"
           }
          ],
          "choropleth": [
           {
            "colorbar": {
             "outlinewidth": 0,
             "ticks": ""
            },
            "type": "choropleth"
           }
          ],
          "contour": [
           {
            "colorbar": {
             "outlinewidth": 0,
             "ticks": ""
            },
            "colorscale": [
             [
              0,
              "#0d0887"
             ],
             [
              0.1111111111111111,
              "#46039f"
             ],
             [
              0.2222222222222222,
              "#7201a8"
             ],
             [
              0.3333333333333333,
              "#9c179e"
             ],
             [
              0.4444444444444444,
              "#bd3786"
             ],
             [
              0.5555555555555556,
              "#d8576b"
             ],
             [
              0.6666666666666666,
              "#ed7953"
             ],
             [
              0.7777777777777778,
              "#fb9f3a"
             ],
             [
              0.8888888888888888,
              "#fdca26"
             ],
             [
              1,
              "#f0f921"
             ]
            ],
            "type": "contour"
           }
          ],
          "contourcarpet": [
           {
            "colorbar": {
             "outlinewidth": 0,
             "ticks": ""
            },
            "type": "contourcarpet"
           }
          ],
          "heatmap": [
           {
            "colorbar": {
             "outlinewidth": 0,
             "ticks": ""
            },
            "colorscale": [
             [
              0,
              "#0d0887"
             ],
             [
              0.1111111111111111,
              "#46039f"
             ],
             [
              0.2222222222222222,
              "#7201a8"
             ],
             [
              0.3333333333333333,
              "#9c179e"
             ],
             [
              0.4444444444444444,
              "#bd3786"
             ],
             [
              0.5555555555555556,
              "#d8576b"
             ],
             [
              0.6666666666666666,
              "#ed7953"
             ],
             [
              0.7777777777777778,
              "#fb9f3a"
             ],
             [
              0.8888888888888888,
              "#fdca26"
             ],
             [
              1,
              "#f0f921"
             ]
            ],
            "type": "heatmap"
           }
          ],
          "histogram": [
           {
            "marker": {
             "pattern": {
              "fillmode": "overlay",
              "size": 10,
              "solidity": 0.2
             }
            },
            "type": "histogram"
           }
          ],
          "histogram2d": [
           {
            "colorbar": {
             "outlinewidth": 0,
             "ticks": ""
            },
            "colorscale": [
             [
              0,
              "#0d0887"
             ],
             [
              0.1111111111111111,
              "#46039f"
             ],
             [
              0.2222222222222222,
              "#7201a8"
             ],
             [
              0.3333333333333333,
              "#9c179e"
             ],
             [
              0.4444444444444444,
              "#bd3786"
             ],
             [
              0.5555555555555556,
              "#d8576b"
             ],
             [
              0.6666666666666666,
              "#ed7953"
             ],
             [
              0.7777777777777778,
              "#fb9f3a"
             ],
             [
              0.8888888888888888,
              "#fdca26"
             ],
             [
              1,
              "#f0f921"
             ]
            ],
            "type": "histogram2d"
           }
          ],
          "histogram2dcontour": [
           {
            "colorbar": {
             "outlinewidth": 0,
             "ticks": ""
            },
            "colorscale": [
             [
              0,
              "#0d0887"
             ],
             [
              0.1111111111111111,
              "#46039f"
             ],
             [
              0.2222222222222222,
              "#7201a8"
             ],
             [
              0.3333333333333333,
              "#9c179e"
             ],
             [
              0.4444444444444444,
              "#bd3786"
             ],
             [
              0.5555555555555556,
              "#d8576b"
             ],
             [
              0.6666666666666666,
              "#ed7953"
             ],
             [
              0.7777777777777778,
              "#fb9f3a"
             ],
             [
              0.8888888888888888,
              "#fdca26"
             ],
             [
              1,
              "#f0f921"
             ]
            ],
            "type": "histogram2dcontour"
           }
          ],
          "mesh3d": [
           {
            "colorbar": {
             "outlinewidth": 0,
             "ticks": ""
            },
            "type": "mesh3d"
           }
          ],
          "parcoords": [
           {
            "line": {
             "colorbar": {
              "outlinewidth": 0,
              "ticks": ""
             }
            },
            "type": "parcoords"
           }
          ],
          "pie": [
           {
            "automargin": true,
            "type": "pie"
           }
          ],
          "scatter": [
           {
            "marker": {
             "line": {
              "color": "#283442"
             }
            },
            "type": "scatter"
           }
          ],
          "scatter3d": [
           {
            "line": {
             "colorbar": {
              "outlinewidth": 0,
              "ticks": ""
             }
            },
            "marker": {
             "colorbar": {
              "outlinewidth": 0,
              "ticks": ""
             }
            },
            "type": "scatter3d"
           }
          ],
          "scattercarpet": [
           {
            "marker": {
             "colorbar": {
              "outlinewidth": 0,
              "ticks": ""
             }
            },
            "type": "scattercarpet"
           }
          ],
          "scattergeo": [
           {
            "marker": {
             "colorbar": {
              "outlinewidth": 0,
              "ticks": ""
             }
            },
            "type": "scattergeo"
           }
          ],
          "scattergl": [
           {
            "marker": {
             "line": {
              "color": "#283442"
             }
            },
            "type": "scattergl"
           }
          ],
          "scattermap": [
           {
            "marker": {
             "colorbar": {
              "outlinewidth": 0,
              "ticks": ""
             }
            },
            "type": "scattermap"
           }
          ],
          "scattermapbox": [
           {
            "marker": {
             "colorbar": {
              "outlinewidth": 0,
              "ticks": ""
             }
            },
            "type": "scattermapbox"
           }
          ],
          "scatterpolar": [
           {
            "marker": {
             "colorbar": {
              "outlinewidth": 0,
              "ticks": ""
             }
            },
            "type": "scatterpolar"
           }
          ],
          "scatterpolargl": [
           {
            "marker": {
             "colorbar": {
              "outlinewidth": 0,
              "ticks": ""
             }
            },
            "type": "scatterpolargl"
           }
          ],
          "scatterternary": [
           {
            "marker": {
             "colorbar": {
              "outlinewidth": 0,
              "ticks": ""
             }
            },
            "type": "scatterternary"
           }
          ],
          "surface": [
           {
            "colorbar": {
             "outlinewidth": 0,
             "ticks": ""
            },
            "colorscale": [
             [
              0,
              "#0d0887"
             ],
             [
              0.1111111111111111,
              "#46039f"
             ],
             [
              0.2222222222222222,
              "#7201a8"
             ],
             [
              0.3333333333333333,
              "#9c179e"
             ],
             [
              0.4444444444444444,
              "#bd3786"
             ],
             [
              0.5555555555555556,
              "#d8576b"
             ],
             [
              0.6666666666666666,
              "#ed7953"
             ],
             [
              0.7777777777777778,
              "#fb9f3a"
             ],
             [
              0.8888888888888888,
              "#fdca26"
             ],
             [
              1,
              "#f0f921"
             ]
            ],
            "type": "surface"
           }
          ],
          "table": [
           {
            "cells": {
             "fill": {
              "color": "#506784"
             },
             "line": {
              "color": "rgb(17,17,17)"
             }
            },
            "header": {
             "fill": {
              "color": "#2a3f5f"
             },
             "line": {
              "color": "rgb(17,17,17)"
             }
            },
            "type": "table"
           }
          ]
         },
         "layout": {
          "annotationdefaults": {
           "arrowcolor": "#f2f5fa",
           "arrowhead": 0,
           "arrowwidth": 1
          },
          "autotypenumbers": "strict",
          "coloraxis": {
           "colorbar": {
            "outlinewidth": 0,
            "ticks": ""
           }
          },
          "colorscale": {
           "diverging": [
            [
             0,
             "#8e0152"
            ],
            [
             0.1,
             "#c51b7d"
            ],
            [
             0.2,
             "#de77ae"
            ],
            [
             0.3,
             "#f1b6da"
            ],
            [
             0.4,
             "#fde0ef"
            ],
            [
             0.5,
             "#f7f7f7"
            ],
            [
             0.6,
             "#e6f5d0"
            ],
            [
             0.7,
             "#b8e186"
            ],
            [
             0.8,
             "#7fbc41"
            ],
            [
             0.9,
             "#4d9221"
            ],
            [
             1,
             "#276419"
            ]
           ],
           "sequential": [
            [
             0,
             "#0d0887"
            ],
            [
             0.1111111111111111,
             "#46039f"
            ],
            [
             0.2222222222222222,
             "#7201a8"
            ],
            [
             0.3333333333333333,
             "#9c179e"
            ],
            [
             0.4444444444444444,
             "#bd3786"
            ],
            [
             0.5555555555555556,
             "#d8576b"
            ],
            [
             0.6666666666666666,
             "#ed7953"
            ],
            [
             0.7777777777777778,
             "#fb9f3a"
            ],
            [
             0.8888888888888888,
             "#fdca26"
            ],
            [
             1,
             "#f0f921"
            ]
           ],
           "sequentialminus": [
            [
             0,
             "#0d0887"
            ],
            [
             0.1111111111111111,
             "#46039f"
            ],
            [
             0.2222222222222222,
             "#7201a8"
            ],
            [
             0.3333333333333333,
             "#9c179e"
            ],
            [
             0.4444444444444444,
             "#bd3786"
            ],
            [
             0.5555555555555556,
             "#d8576b"
            ],
            [
             0.6666666666666666,
             "#ed7953"
            ],
            [
             0.7777777777777778,
             "#fb9f3a"
            ],
            [
             0.8888888888888888,
             "#fdca26"
            ],
            [
             1,
             "#f0f921"
            ]
           ]
          },
          "colorway": [
           "#636efa",
           "#EF553B",
           "#00cc96",
           "#ab63fa",
           "#FFA15A",
           "#19d3f3",
           "#FF6692",
           "#B6E880",
           "#FF97FF",
           "#FECB52"
          ],
          "font": {
           "color": "#f2f5fa"
          },
          "geo": {
           "bgcolor": "rgb(17,17,17)",
           "lakecolor": "rgb(17,17,17)",
           "landcolor": "rgb(17,17,17)",
           "showlakes": true,
           "showland": true,
           "subunitcolor": "#506784"
          },
          "hoverlabel": {
           "align": "left"
          },
          "hovermode": "closest",
          "mapbox": {
           "style": "dark"
          },
          "paper_bgcolor": "rgb(17,17,17)",
          "plot_bgcolor": "rgb(17,17,17)",
          "polar": {
           "angularaxis": {
            "gridcolor": "#506784",
            "linecolor": "#506784",
            "ticks": ""
           },
           "bgcolor": "rgb(17,17,17)",
           "radialaxis": {
            "gridcolor": "#506784",
            "linecolor": "#506784",
            "ticks": ""
           }
          },
          "scene": {
           "xaxis": {
            "backgroundcolor": "rgb(17,17,17)",
            "gridcolor": "#506784",
            "gridwidth": 2,
            "linecolor": "#506784",
            "showbackground": true,
            "ticks": "",
            "zerolinecolor": "#C8D4E3"
           },
           "yaxis": {
            "backgroundcolor": "rgb(17,17,17)",
            "gridcolor": "#506784",
            "gridwidth": 2,
            "linecolor": "#506784",
            "showbackground": true,
            "ticks": "",
            "zerolinecolor": "#C8D4E3"
           },
           "zaxis": {
            "backgroundcolor": "rgb(17,17,17)",
            "gridcolor": "#506784",
            "gridwidth": 2,
            "linecolor": "#506784",
            "showbackground": true,
            "ticks": "",
            "zerolinecolor": "#C8D4E3"
           }
          },
          "shapedefaults": {
           "line": {
            "color": "#f2f5fa"
           }
          },
          "sliderdefaults": {
           "bgcolor": "#C8D4E3",
           "bordercolor": "rgb(17,17,17)",
           "borderwidth": 1,
           "tickwidth": 0
          },
          "ternary": {
           "aaxis": {
            "gridcolor": "#506784",
            "linecolor": "#506784",
            "ticks": ""
           },
           "baxis": {
            "gridcolor": "#506784",
            "linecolor": "#506784",
            "ticks": ""
           },
           "bgcolor": "rgb(17,17,17)",
           "caxis": {
            "gridcolor": "#506784",
            "linecolor": "#506784",
            "ticks": ""
           }
          },
          "title": {
           "x": 0.05
          },
          "updatemenudefaults": {
           "bgcolor": "#506784",
           "borderwidth": 0
          },
          "xaxis": {
           "automargin": true,
           "gridcolor": "#283442",
           "linecolor": "#506784",
           "ticks": "",
           "title": {
            "standoff": 15
           },
           "zerolinecolor": "#283442",
           "zerolinewidth": 2
          },
          "yaxis": {
           "automargin": true,
           "gridcolor": "#283442",
           "linecolor": "#506784",
           "ticks": "",
           "title": {
            "standoff": 15
           },
           "zerolinecolor": "#283442",
           "zerolinewidth": 2
          }
         }
        },
        "title": {
         "text": "🔡 Lunghezza vs Numero di Lettere"
        },
        "xaxis": {
         "anchor": "y",
         "domain": [
          0,
          1
         ],
         "title": {
          "text": "Lunghezza"
         }
        },
        "yaxis": {
         "anchor": "x",
         "domain": [
          0,
          1
         ],
         "title": {
          "text": "Numero lettere"
         }
        }
       }
      }
     },
     "metadata": {},
     "output_type": "display_data"
    }
   ],
   "source": [
    "import pandas as pd\n",
    "import plotly.express as px\n",
    "import plotly.graph_objects as go\n",
    "import plotly.figure_factory as ff\n",
    "from sklearn.decomposition import PCA\n",
    "from sklearn.cluster import KMeans\n",
    "from sklearn.preprocessing import StandardScaler\n",
    "\n",
    "# Caricamento dataset\n",
    "df = pd.read_csv(\"common_passwords.csv\")\n",
    "# 📊 Istogramma della lunghezza\n",
    "fig = px.histogram(df, x=\"length\", nbins=20, opacity=0.85,\n",
    "                   title=\"🔐 Distribuzione della Lunghezza delle Password\",\n",
    "                   template=\"plotly_dark\", color_discrete_sequence=[\"deepskyblue\"])\n",
    "fig.update_layout(plot_bgcolor=\"#050b18\", paper_bgcolor=\"#050b18\", font=dict(color=\"white\"),\n",
    "                  xaxis_title=\"Lunghezza\", yaxis_title=\"Frequenza\")\n",
    "fig.show()\n",
    "# 🧱 Barre impilate: tipo di carattere\n",
    "df_bar = df.groupby(\"length\")[[\"num_chars\", \"num_digits\", \"num_special\"]].mean().reset_index()\n",
    "fig = go.Figure()\n",
    "fig.add_trace(go.Bar(name='Lettere', x=df_bar[\"length\"], y=df_bar[\"num_chars\"], marker_color='lightskyblue'))\n",
    "fig.add_trace(go.Bar(name='Cifre', x=df_bar[\"length\"], y=df_bar[\"num_digits\"], marker_color='royalblue'))\n",
    "fig.add_trace(go.Bar(name='Speciali', x=df_bar[\"length\"], y=df_bar[\"num_special\"], marker_color='mediumblue'))\n",
    "fig.update_layout(barmode='stack',\n",
    "    title=\"🧱 Composizione media dei caratteri per lunghezza\",\n",
    "    xaxis_title=\"Lunghezza\", yaxis_title=\"Media per tipo\",\n",
    "    template=\"plotly_dark\", plot_bgcolor=\"#050b18\", paper_bgcolor=\"#050b18\",\n",
    "    font=dict(color=\"white\"))\n",
    "fig.show()\n",
    "\n"
   ]
  },
  {
   "cell_type": "code",
   "execution_count": null,
   "id": "43f76f48",
   "metadata": {},
   "outputs": [
    {
     "data": {
      "application/vnd.plotly.v1+json": {
       "config": {
        "plotlyServerURL": "https://plot.ly"
       },
       "data": [
        {
         "bingroup": "x",
         "hovertemplate": "length=%{x}<br>count=%{y}<extra></extra>",
         "legendgroup": "",
         "marker": {
          "color": "red",
          "pattern": {
           "shape": ""
          }
         },
         "name": "",
         "nbinsx": 10,
         "orientation": "v",
         "showlegend": false,
         "type": "histogram",
         "x": {
          "bdata": "BgUEBgYGBgYGBgYEBgYGBgYEBgUGBgYEBgYGBQYEBgYEBAQGBAQEBgQEBAYGBgQEBQYEBAYGBgQGBgYEBAYEBAYEBAYEBAYFBAQEBgQGBgQGBAYFBgQEBAQEBAUEBgQEBAQGBgYGBgYGBgQGBgQGBgQEBgQEBQYEBgYFBAYGBgUGBAYEBgUDBgYFBgYGBAQGBAYEBQYGBgYEBAYGBgYEBgQEBAYGBAUGBgQGBgQGBgQGBgUGBgUEBgYGBgQGBQYGBgYGBgQFBgYGBgQEBgQGBgQGBAYGBQQEBgYGBgQEBgYGBgYGBgYGBAYGBAYGBgUGBgQEBAYGBAYGBAYGBgYEBgYEBgYGBgQFBgQGBAQFBAYEBgYGBgYEBQYGBAYEBgQEBgQEBAYGBgQEBgYEBAQEBgYGBgQGBgQGBAYGBAQEBgYFBAQEBQQGBgQGBAQGBAUEBAYEBgYGBgYGBgQGBAQGBAQEBgQGBQYGBAYEBgQGBgYGBAQGBAYEBgYGBgQGBAQEBAQFBAQEBgYGBgQEBgUGBAQGBgQEBgQEBAQGBgYGBgQGBgQGBgQGBgQEBgYEBgQGBAQFBAQGBgQGBAYGBAQGBAQGBgYEBAQGBgQEBgQGBgQEBAQEBAQGBgYGBgQGBgQGBAYGBAQGBgYEBQYEBAQGBAQGBAQEBAQGBAYEBgQEBgQEBAYGBgQEBAQGBgQGBQQGBAYEBAQE",
          "dtype": "i1"
         },
         "xaxis": "x",
         "yaxis": "y"
        }
       ],
       "layout": {
        "barmode": "relative",
        "font": {
         "color": "white"
        },
        "legend": {
         "tracegroupgap": 0
        },
        "paper_bgcolor": "#050b18",
        "plot_bgcolor": "#050b18",
        "template": {
         "data": {
          "bar": [
           {
            "error_x": {
             "color": "#f2f5fa"
            },
            "error_y": {
             "color": "#f2f5fa"
            },
            "marker": {
             "line": {
              "color": "rgb(17,17,17)",
              "width": 0.5
             },
             "pattern": {
              "fillmode": "overlay",
              "size": 10,
              "solidity": 0.2
             }
            },
            "type": "bar"
           }
          ],
          "barpolar": [
           {
            "marker": {
             "line": {
              "color": "rgb(17,17,17)",
              "width": 0.5
             },
             "pattern": {
              "fillmode": "overlay",
              "size": 10,
              "solidity": 0.2
             }
            },
            "type": "barpolar"
           }
          ],
          "carpet": [
           {
            "aaxis": {
             "endlinecolor": "#A2B1C6",
             "gridcolor": "#506784",
             "linecolor": "#506784",
             "minorgridcolor": "#506784",
             "startlinecolor": "#A2B1C6"
            },
            "baxis": {
             "endlinecolor": "#A2B1C6",
             "gridcolor": "#506784",
             "linecolor": "#506784",
             "minorgridcolor": "#506784",
             "startlinecolor": "#A2B1C6"
            },
            "type": "carpet"
           }
          ],
          "choropleth": [
           {
            "colorbar": {
             "outlinewidth": 0,
             "ticks": ""
            },
            "type": "choropleth"
           }
          ],
          "contour": [
           {
            "colorbar": {
             "outlinewidth": 0,
             "ticks": ""
            },
            "colorscale": [
             [
              0,
              "#0d0887"
             ],
             [
              0.1111111111111111,
              "#46039f"
             ],
             [
              0.2222222222222222,
              "#7201a8"
             ],
             [
              0.3333333333333333,
              "#9c179e"
             ],
             [
              0.4444444444444444,
              "#bd3786"
             ],
             [
              0.5555555555555556,
              "#d8576b"
             ],
             [
              0.6666666666666666,
              "#ed7953"
             ],
             [
              0.7777777777777778,
              "#fb9f3a"
             ],
             [
              0.8888888888888888,
              "#fdca26"
             ],
             [
              1,
              "#f0f921"
             ]
            ],
            "type": "contour"
           }
          ],
          "contourcarpet": [
           {
            "colorbar": {
             "outlinewidth": 0,
             "ticks": ""
            },
            "type": "contourcarpet"
           }
          ],
          "heatmap": [
           {
            "colorbar": {
             "outlinewidth": 0,
             "ticks": ""
            },
            "colorscale": [
             [
              0,
              "#0d0887"
             ],
             [
              0.1111111111111111,
              "#46039f"
             ],
             [
              0.2222222222222222,
              "#7201a8"
             ],
             [
              0.3333333333333333,
              "#9c179e"
             ],
             [
              0.4444444444444444,
              "#bd3786"
             ],
             [
              0.5555555555555556,
              "#d8576b"
             ],
             [
              0.6666666666666666,
              "#ed7953"
             ],
             [
              0.7777777777777778,
              "#fb9f3a"
             ],
             [
              0.8888888888888888,
              "#fdca26"
             ],
             [
              1,
              "#f0f921"
             ]
            ],
            "type": "heatmap"
           }
          ],
          "histogram": [
           {
            "marker": {
             "pattern": {
              "fillmode": "overlay",
              "size": 10,
              "solidity": 0.2
             }
            },
            "type": "histogram"
           }
          ],
          "histogram2d": [
           {
            "colorbar": {
             "outlinewidth": 0,
             "ticks": ""
            },
            "colorscale": [
             [
              0,
              "#0d0887"
             ],
             [
              0.1111111111111111,
              "#46039f"
             ],
             [
              0.2222222222222222,
              "#7201a8"
             ],
             [
              0.3333333333333333,
              "#9c179e"
             ],
             [
              0.4444444444444444,
              "#bd3786"
             ],
             [
              0.5555555555555556,
              "#d8576b"
             ],
             [
              0.6666666666666666,
              "#ed7953"
             ],
             [
              0.7777777777777778,
              "#fb9f3a"
             ],
             [
              0.8888888888888888,
              "#fdca26"
             ],
             [
              1,
              "#f0f921"
             ]
            ],
            "type": "histogram2d"
           }
          ],
          "histogram2dcontour": [
           {
            "colorbar": {
             "outlinewidth": 0,
             "ticks": ""
            },
            "colorscale": [
             [
              0,
              "#0d0887"
             ],
             [
              0.1111111111111111,
              "#46039f"
             ],
             [
              0.2222222222222222,
              "#7201a8"
             ],
             [
              0.3333333333333333,
              "#9c179e"
             ],
             [
              0.4444444444444444,
              "#bd3786"
             ],
             [
              0.5555555555555556,
              "#d8576b"
             ],
             [
              0.6666666666666666,
              "#ed7953"
             ],
             [
              0.7777777777777778,
              "#fb9f3a"
             ],
             [
              0.8888888888888888,
              "#fdca26"
             ],
             [
              1,
              "#f0f921"
             ]
            ],
            "type": "histogram2dcontour"
           }
          ],
          "mesh3d": [
           {
            "colorbar": {
             "outlinewidth": 0,
             "ticks": ""
            },
            "type": "mesh3d"
           }
          ],
          "parcoords": [
           {
            "line": {
             "colorbar": {
              "outlinewidth": 0,
              "ticks": ""
             }
            },
            "type": "parcoords"
           }
          ],
          "pie": [
           {
            "automargin": true,
            "type": "pie"
           }
          ],
          "scatter": [
           {
            "marker": {
             "line": {
              "color": "#283442"
             }
            },
            "type": "scatter"
           }
          ],
          "scatter3d": [
           {
            "line": {
             "colorbar": {
              "outlinewidth": 0,
              "ticks": ""
             }
            },
            "marker": {
             "colorbar": {
              "outlinewidth": 0,
              "ticks": ""
             }
            },
            "type": "scatter3d"
           }
          ],
          "scattercarpet": [
           {
            "marker": {
             "colorbar": {
              "outlinewidth": 0,
              "ticks": ""
             }
            },
            "type": "scattercarpet"
           }
          ],
          "scattergeo": [
           {
            "marker": {
             "colorbar": {
              "outlinewidth": 0,
              "ticks": ""
             }
            },
            "type": "scattergeo"
           }
          ],
          "scattergl": [
           {
            "marker": {
             "line": {
              "color": "#283442"
             }
            },
            "type": "scattergl"
           }
          ],
          "scattermap": [
           {
            "marker": {
             "colorbar": {
              "outlinewidth": 0,
              "ticks": ""
             }
            },
            "type": "scattermap"
           }
          ],
          "scattermapbox": [
           {
            "marker": {
             "colorbar": {
              "outlinewidth": 0,
              "ticks": ""
             }
            },
            "type": "scattermapbox"
           }
          ],
          "scatterpolar": [
           {
            "marker": {
             "colorbar": {
              "outlinewidth": 0,
              "ticks": ""
             }
            },
            "type": "scatterpolar"
           }
          ],
          "scatterpolargl": [
           {
            "marker": {
             "colorbar": {
              "outlinewidth": 0,
              "ticks": ""
             }
            },
            "type": "scatterpolargl"
           }
          ],
          "scatterternary": [
           {
            "marker": {
             "colorbar": {
              "outlinewidth": 0,
              "ticks": ""
             }
            },
            "type": "scatterternary"
           }
          ],
          "surface": [
           {
            "colorbar": {
             "outlinewidth": 0,
             "ticks": ""
            },
            "colorscale": [
             [
              0,
              "#0d0887"
             ],
             [
              0.1111111111111111,
              "#46039f"
             ],
             [
              0.2222222222222222,
              "#7201a8"
             ],
             [
              0.3333333333333333,
              "#9c179e"
             ],
             [
              0.4444444444444444,
              "#bd3786"
             ],
             [
              0.5555555555555556,
              "#d8576b"
             ],
             [
              0.6666666666666666,
              "#ed7953"
             ],
             [
              0.7777777777777778,
              "#fb9f3a"
             ],
             [
              0.8888888888888888,
              "#fdca26"
             ],
             [
              1,
              "#f0f921"
             ]
            ],
            "type": "surface"
           }
          ],
          "table": [
           {
            "cells": {
             "fill": {
              "color": "#506784"
             },
             "line": {
              "color": "rgb(17,17,17)"
             }
            },
            "header": {
             "fill": {
              "color": "#2a3f5f"
             },
             "line": {
              "color": "rgb(17,17,17)"
             }
            },
            "type": "table"
           }
          ]
         },
         "layout": {
          "annotationdefaults": {
           "arrowcolor": "#f2f5fa",
           "arrowhead": 0,
           "arrowwidth": 1
          },
          "autotypenumbers": "strict",
          "coloraxis": {
           "colorbar": {
            "outlinewidth": 0,
            "ticks": ""
           }
          },
          "colorscale": {
           "diverging": [
            [
             0,
             "#8e0152"
            ],
            [
             0.1,
             "#c51b7d"
            ],
            [
             0.2,
             "#de77ae"
            ],
            [
             0.3,
             "#f1b6da"
            ],
            [
             0.4,
             "#fde0ef"
            ],
            [
             0.5,
             "#f7f7f7"
            ],
            [
             0.6,
             "#e6f5d0"
            ],
            [
             0.7,
             "#b8e186"
            ],
            [
             0.8,
             "#7fbc41"
            ],
            [
             0.9,
             "#4d9221"
            ],
            [
             1,
             "#276419"
            ]
           ],
           "sequential": [
            [
             0,
             "#0d0887"
            ],
            [
             0.1111111111111111,
             "#46039f"
            ],
            [
             0.2222222222222222,
             "#7201a8"
            ],
            [
             0.3333333333333333,
             "#9c179e"
            ],
            [
             0.4444444444444444,
             "#bd3786"
            ],
            [
             0.5555555555555556,
             "#d8576b"
            ],
            [
             0.6666666666666666,
             "#ed7953"
            ],
            [
             0.7777777777777778,
             "#fb9f3a"
            ],
            [
             0.8888888888888888,
             "#fdca26"
            ],
            [
             1,
             "#f0f921"
            ]
           ],
           "sequentialminus": [
            [
             0,
             "#0d0887"
            ],
            [
             0.1111111111111111,
             "#46039f"
            ],
            [
             0.2222222222222222,
             "#7201a8"
            ],
            [
             0.3333333333333333,
             "#9c179e"
            ],
            [
             0.4444444444444444,
             "#bd3786"
            ],
            [
             0.5555555555555556,
             "#d8576b"
            ],
            [
             0.6666666666666666,
             "#ed7953"
            ],
            [
             0.7777777777777778,
             "#fb9f3a"
            ],
            [
             0.8888888888888888,
             "#fdca26"
            ],
            [
             1,
             "#f0f921"
            ]
           ]
          },
          "colorway": [
           "#636efa",
           "#EF553B",
           "#00cc96",
           "#ab63fa",
           "#FFA15A",
           "#19d3f3",
           "#FF6692",
           "#B6E880",
           "#FF97FF",
           "#FECB52"
          ],
          "font": {
           "color": "#f2f5fa"
          },
          "geo": {
           "bgcolor": "rgb(17,17,17)",
           "lakecolor": "rgb(17,17,17)",
           "landcolor": "rgb(17,17,17)",
           "showlakes": true,
           "showland": true,
           "subunitcolor": "#506784"
          },
          "hoverlabel": {
           "align": "left"
          },
          "hovermode": "closest",
          "mapbox": {
           "style": "dark"
          },
          "paper_bgcolor": "rgb(17,17,17)",
          "plot_bgcolor": "rgb(17,17,17)",
          "polar": {
           "angularaxis": {
            "gridcolor": "#506784",
            "linecolor": "#506784",
            "ticks": ""
           },
           "bgcolor": "rgb(17,17,17)",
           "radialaxis": {
            "gridcolor": "#506784",
            "linecolor": "#506784",
            "ticks": ""
           }
          },
          "scene": {
           "xaxis": {
            "backgroundcolor": "rgb(17,17,17)",
            "gridcolor": "#506784",
            "gridwidth": 2,
            "linecolor": "#506784",
            "showbackground": true,
            "ticks": "",
            "zerolinecolor": "#C8D4E3"
           },
           "yaxis": {
            "backgroundcolor": "rgb(17,17,17)",
            "gridcolor": "#506784",
            "gridwidth": 2,
            "linecolor": "#506784",
            "showbackground": true,
            "ticks": "",
            "zerolinecolor": "#C8D4E3"
           },
           "zaxis": {
            "backgroundcolor": "rgb(17,17,17)",
            "gridcolor": "#506784",
            "gridwidth": 2,
            "linecolor": "#506784",
            "showbackground": true,
            "ticks": "",
            "zerolinecolor": "#C8D4E3"
           }
          },
          "shapedefaults": {
           "line": {
            "color": "#f2f5fa"
           }
          },
          "sliderdefaults": {
           "bgcolor": "#C8D4E3",
           "bordercolor": "rgb(17,17,17)",
           "borderwidth": 1,
           "tickwidth": 0
          },
          "ternary": {
           "aaxis": {
            "gridcolor": "#506784",
            "linecolor": "#506784",
            "ticks": ""
           },
           "baxis": {
            "gridcolor": "#506784",
            "linecolor": "#506784",
            "ticks": ""
           },
           "bgcolor": "rgb(17,17,17)",
           "caxis": {
            "gridcolor": "#506784",
            "linecolor": "#506784",
            "ticks": ""
           }
          },
          "title": {
           "x": 0.05
          },
          "updatemenudefaults": {
           "bgcolor": "#506784",
           "borderwidth": 0
          },
          "xaxis": {
           "automargin": true,
           "gridcolor": "#283442",
           "linecolor": "#506784",
           "ticks": "",
           "title": {
            "standoff": 15
           },
           "zerolinecolor": "#283442",
           "zerolinewidth": 2
          },
          "yaxis": {
           "automargin": true,
           "gridcolor": "#283442",
           "linecolor": "#506784",
           "ticks": "",
           "title": {
            "standoff": 15
           },
           "zerolinecolor": "#283442",
           "zerolinewidth": 2
          }
         }
        },
        "title": {
         "text": "🔢 Password Corte solo Cifre (≤6)"
        },
        "xaxis": {
         "anchor": "y",
         "domain": [
          0,
          1
         ],
         "title": {
          "text": "length"
         }
        },
        "yaxis": {
         "anchor": "x",
         "domain": [
          0,
          1
         ],
         "title": {
          "text": "count"
         }
        }
       }
      }
     },
     "metadata": {},
     "output_type": "display_data"
    },
    {
     "data": {
      "application/vnd.plotly.v1+json": {
       "config": {
        "plotlyServerURL": "https://plot.ly"
       },
       "data": [
        {
         "alignmentgroup": "True",
         "box": {
          "visible": true
         },
         "hovertemplate": "num_special=%{y}<extra></extra>",
         "legendgroup": "",
         "marker": {
          "color": "orange"
         },
         "name": "",
         "offsetgroup": "",
         "orientation": "v",
         "points": "outliers",
         "scalegroup": "True",
         "showlegend": false,
         "type": "violin",
         "x0": " ",
         "xaxis": "x",
         "y": {
          "bdata": "AAAAAAAAAAAAAAAAAAAAAAAAAAAAAAAAAAAAAAAAAAAAAAAAAAAAAAAAAAAAAAAAAAAAAAAAAAAAAAAAAAAAAAAAAAAAAAAAAAAAAAAAAAAAAAAAAAAAAAAAAAAAAAAAAAAAAAAAAAAAAAAAAAAAAAAAAAAAAAAAAAAAAAAAAAAAAAAAAAAAAAAAAAAAAAAAAAAAAAAAAAAAAAAAAAAAAAAAAAAAAAAAAAAAAAAAAAAAAAAAAAAAAAAAAAAAAAAAAAAAAAAAAAAAAAAAAAAAAAAAAAAAAAAAAAAAAAAAAAAAAAAAAAAAAAAAAAAAAAAAAAAAAAAAAAAAAAAAAAAAAAAAAAAAAAAAAAAAAAAAAAAAAAAAAAAAAAAAAAAAAAAAAAAAAAAAAAAAAAAAAAAAAAAAAAAAAAAAAAAAAAAAAAAAAAAAAAAAAAAAAAAAAAAAAAAAAAAAAAAAAAAAAAAAAAAAAAAAAAAAAAAAAAAAAAAAAAAAAAAAAAAAAAAAAAAAAAAAAAAAAAAAAAAAAAAAAAAAAAAAAAAAAAAAAAAAAAAAAAAAAAAAAAAAAAAAAAAAAAAAAAAAAAAAAAAAAAAAAAAAAAAAAAAAAAAAAAAAAAAAAAAAAAAAAAAAAAAAAAAAAAAAAAAAAAAAAAAAAAAAAAAAAAAAAAAAAAAAAAAAAAAAAAAAAAAAAAAAAAAAAAAAAAAAAAAAAAAAAAAAAAAAAAAAAAAAAAAAAAAAAAAAAAAAAAAAAAAAAAAAAAAAAAAAAAAAAAAAAAAAAAAAAAAAAAAAAAAAAAAAAAAAAAAAAAAAAAAAAAAAAAAAAAAAAAAAAAAAAAAAAAAAAAAAAAAAAAAAAAAAAAAAAAAAAAAAAAAAAAAAAAAAAAAAAAAAAAAAAAAAAAAAAAAAAAAAAAAAAAAAAAAAAAAAAAAAAAAAAAAAAAAAAAAAAAAAAAAAAAAAAAAAAAAAAAAAAAAAAAAAAAAAAAAAAAAAAAAAAAAAAAAAAAAAAAAAAAAAAAAAAAAAAAAAAAAAAAAAAAAAAAAAAAAAAAAAAAAAAAAAAAAAAAAAAAAAAAAAAAAAAAAAAAAAAAAAAAAAAAAAAAAAAAAAAAAAAAAAAAAAAAAAAAAAAAAAAAAAAAAAAAAAAAAAAAAAAAAAAAAAAAAAAAAAAAAAAAAAAAAAAAAAAAAAAAAAAAAAAAAAAAAAAAAAAAAAAAAAAAAAAAAAAAAAAAAAAAAAAAAAAAAAAAAAAAAAAAAAAAAAAAAAAAAAAAAAAAAAAAAAAAAAAAAAAAAAAAAAAAAAAAAAAAAAAAAAAAAAAAAAAAAAAAAAAAAAAAAAAAAAAAAAAAAAAAAAAAAAAAAAAAAAAAAAAAAAAAAAAAAAAAAAAAAAAAAAAAAAAAAAAAAAAAAAAAAAAAAAAAAAAAAAAAAAAAAAAAAAAAAAAAAAAAAAAAAAAAAAAAAAAAAAAAAAAAAAAAAAAAAAAAAAAAAAAAAAAAAAAAAAAAAAAAAAAAAAAAAAAAAAAAAAAAAAAAAAAAAAAAAAAAAAAAAAAAAAAAAAAAAAAAAAAAAAAAAAAAAAAAAAAAAAAAAAAAAAAAAAAAAAAAAAAAAAAAAAAAAAAAAAAAAAAAAAAAAAAAAAAAAAAAAAAAAAAAAAAAAAAAAAAAAAAAAAAAAAAAAAAAAAAAAAAAAAAAAAAAAAAAAAAAAAAAAAAAAAAAAAAAAAAAAAAAAAAAAAAAAAAAAAAAAAAAAAAAAAAAAAAAAAAAAAAAAAAAAAAAAAAAAAAAAAAAAAAAAAAAAAAAAAAAAAAAAAAAAAAAAAAAAAAAAAAAAAAAAAAAAAAAAAAAAAAAAAAAAAAAAAAAAAAAAAAAAAAAAAAAAAAAAAAAAAAAAAAAAAAAAAAAAAAAAAAAAAAAAAAAAAAAAAAAAAAAAAAAAAAAAAAAAAAAAAAAAAAAAAAAAAAAAAAAAAAAAAAAAAAAAAAAAAAAAAAAAAAAAAAAAAAAAAAAAAAAAAAAAAAAAAAAAAAAAAAAAAAAAAAAAAAAAAAAAAAAAAAAAAAAAAAAAAAAAAAAAAAAAAAAAAAAAAAAAAAAAAAAAAAAAAAAAAAAAAAAAAAAAAAAAAAAAAAAAAAAAAAAAAAAAAAAAAAAAAAAAAAAAAAAAAAAAAAAAAAAAAAAAAAAAAAAAAAAAAAAAAAAAAAAAAAAAAAAAAAAAAAAAAAAAAAAAAAAAAAAAAAAAAAAAAAAAAAAAAAAAAAAAAAAAAAAAAAAAAAAAAAAAAAAAAAAAAAAAAAAAAAAAAAAAAAAAAAAAAAAAAAAAAAAAAAAAAAAAAAAAAAAAAAAAAAAAAAAAAAAAAAAAAAAAAAAAAAAAAAAAAAAAAAAAAAAAAAAAAAAAAAAAAAAAAAAAAAAAAAAAAAAAAAAAAAAAAAAAAAAAAAAAAAAAAAAAAAAAAAAAAAAAAAAAAAAAAAAAAAAAAAAAAAAAAAAAAAAAAAAAAAAAAAAAAAAAAAAAAAAAAAAAAAAAAAAAAAAAAAAAAAAAAAAAAAAAAAAAAAAAAAAAAAAAAAAAAAAAAAAAAAAAAAAAAAAAAAAAAAAAAAAAAAAAAAAAAAAAAAAAAAAAAAAAAAAAAAAAAAAAAAAAAAAAAAAAAAAAAAAAAAAAAAAAAAAAAAAAAAAAAAAAAAAAAAAAAAAAAAAAAAAAAAAAAAAAAAAAAAAAAAAAAAAAAAAAAAAAAAAAAAAAAAAAAAAAAAAAAAAAAAAAAAAAAAAAAAAAAAAAAAAAAAAAAAAAAAAAAAAAAAAAAAAAAAAAAAAAAAAAAAAAAAAAAAAAAAAAAAAAAAAAAAAAAAAAAAAAAAAAAAAAAAAAAAAAAAAAAAAAAAAAAAgAAAAAAAAAAAAAAAAAAAAAAAAAAAAAAAAAAAAAAAAAAAAAAAAAAAAAAAAAAAAAAAAAAAAAAAAAAAAAAAAAAAAAAAAAAAAAAAAAAAAAAAAAAAAAAAAAAAAAAAAAAAAAAAAAAAAAAAAAAAAAAAAAAAAAAAAAAAAAAAAAAAAAAAAAAAAAAAAAAAAAAAAAAAAAAAAAAAAAAAAAAAAAAAAAAAAAAAAAAAAAAAAAAAAAAAAAAAAAAAAAAAAAAAAAAAAAAAAAAAAAAAAAAAAAAAAAAAAAAAAAAAAAAAAAAAAAAAAAAAAAAAAAAAAAAAAAAAAAAAAAAAAAAAAAAAAAAAAAAAAAAAAAAAAAAAAAAAAAAAAAAAAAAAAAAAAAAAAAAAAAAAAAAAAAAAAAAAAAAAAAAAAAAAAAAAAAAAAAAAAAAAAAAAAAAAAAAAAAAAAAAAAAAAAAAAAAAAAAAAAAAAAAAAAAAAAAAAAAAAAAAAAAAAAAAAAAAAAAAAAAAAAAAAAABAAAAAAAAAAAAAAAAAAAAAAAAAAAAAAAAAAAAAAAAAAAAAAAAAAAAAAAAAAAAAAAAAAAAAAAAAAAAAAAAAAAAAAAAAAAAAAAAAAAAAAAAAAAAAAAAAAAAAAAAAAAAAAAAAAAAAAAAAAAAAAAAAAAAAAAAAAAAAAAAAAAAAAAAAAAAAAAAAAAAAAAAAAAAAAAAAAAAAAAAAAAAAAAAAAAAAAAAAAAAAAAAAAAAAAAAAAAAAAAAAAAAAAAAAAAAAAAAAAAAAAAAAAAAAAAAAAAAAAAAAAAAAAAAAAAAAAAAAAAAAAAAAAAAAAAAAAAAAAAAAAAAAAAAAAAAAAAAAAAAAAAAAAAAAAAAAAAAAAAAAAAAAAAAAAAAAAAAAAAAAAAAAAAAAAAAAAAAAAAAAAAAAAAAAAAAAAAAAAAAAAAAAAAAAAAAAAAAAAAAAAAAAAAAAAAAAAAAAAAAAAAAAAAAAAAAAAAAAAAAAAAAAAAAAAAAAAAAAAAAAAAAAAAAAAAAAAAAAAAAAAAAAAAAAAAAAAAAAAAAAAAAAAAAAAAAAAAAAAAAAAAAAAAAAAAAAAAAAAAAAAAAAAAAAAAAAAAAAAAAAAAAAAAAAAAAAAAAAAAAAAAAAAAAAAAAAAAAAAAAAAAAAAAAAAAAAAAAAAAAAAAAAAAAAAAAAAAAAAAAAAAAAAAAAAAAAAAAAAAAAAAAAAAAAAAAAAAAAAAAAAAAAAAAAAAAAAAAAAAAAAAAAAAAAAAAAAAAAAAAAAAAAAAAAAAAAAAAAAAAAAAAAAAAAAAAAAAAAAAAAAAAAAAAAAAAAAAAAAAAAAAAAAAAAAAAAAAAAAAAAAAAAAAAAAAAAAAAAAAAAAAAAAAAAAAAAAAAAAAAAAAAAAAAAAAAAAAAAAAAAAAAAAAAAAAAAAAAAAAAAAAAAAAAAAAAAAAAAAAAAAAAAAAAAAAAAAAAAAAAAAAAAAAAAAAAAAAAAAAAAAAAAAAAAAAAAAAAAAAAAAAAAAAAAAAAAAAAAAAAAAAAAAAAAAAAAAAAAAAAAAAAAAAAAAAAAAAAAAADAAAAAAAAAAAAAAAAAAAAAAAAAAAAAAAAAAAAAAAAAAAAAAAAAAAAAAAAAAAAAAAAAAAAAAAAAAAAAAAAAAAAAAAAAAAAAAAAAAAAAAAAAAAAAAAAAAAAAAAAAAAAAAAAAAAAAAAAAAAAAAAAAAAAAAAAAAAAAAAAAAAAAAAAAAAAAAAAAAAAAAAAAAAAAAAAAAAAAAAAAAAAAAAAAAAAAAAAAAAAAAAAAAAAAAAAAAAAAAAAAAAAAAAAAAAAAAAAAAAAAAAAAAAAAAAAAAAAAAAAAAAAAAAAAAAAAAAAAAAAAAAAAAAAAAAAAAAAAAAAAAAAAAAAAAAAAAAAAAAAAAAAAAAAAAAAAAAAAAAAAAAAAAAAAAAAAAAAAAAAAAAAAAAAAAAAAAAAAAAAAAAAAAAAAAAAAAAAAAAAAAAAAAAAAAAAAAAAAAAAAAAAAAAAAAAAAAAAAAAAAAAAAAAAAAAAAAAAAAAAAAAAAAAAAAAAAAAAAAAAAAAAAAAAAAAAAAAAAAAAAAAAAAAAAAAAAAAAAAAAAAAAAAAAAAAAAAAAAAAAAAAAAAAAAAAAAAAAAAAAAAAAAAAAAAAAAAAAAAAAAAAAAAAAAAAAAAAAAAAAAAAAAAAAAAAAAAAAAAAAAAAAAAAAAAAAAAAAAAAAAAAAAAAAAAAAAAAAAAAAAAAAAAAAAAAAAAAAAAAAAAAAAAAAAAAAAAAAAAAAAAAAAAAAAAAAAAAAAAAAAAAAAAAAAAAAAAAAAAAAAAAAAAAAAAAAAAAAAAAAAAAAAAAAAAAAAAAAAAAAAAAAAAAAAAAAAAAAAAAAAAAAAAAAAAAAAAAAAAAAAAAAAAAAAAAAAAAAAAAAAAAAAAAAAAAAAAAAAAAAAAAAAAAAAAAAAAAAAAAAAAAAAAAAAAAAAAAAAAAAAAAAAAAAAAAAAAAAAAAAAAAAAAAAAAAAAAAAAAAAAAAAAAAAAAAAAAAAAAAAAAAAAAAAAAAAAAAAAAAAAAAAAAAAAAAAAAAAAAAAAAAAAAAAAAAAAAAAAAAAAAAAAAAAAAAAAAAAAAAAAAAAAAAAAAAAAAAAAAAAAAAAAAAAAAAAAAAAAAAAAAAAAAAAAAAAAAAAAAAAAAAAAAAAAAAAAAAAAAAAAAAAAAAAAAAAAAAAAAAAAAAAAAAAAAAAAAAAAAAAAAAAAAAAAAAAAAAAAAAAAAAAAAAAAAAAAAAAAAAAAAAAAAAAAAAAAAAAAAAAAAAAAAAAAAAAAAAAAAAAAAAAAAAAAAAAAAAAAAAAAAAAAAAAAAAAAAAAAAAAAAAAAAAAAAAAAAAAAAAAAAAAAAAAAAAAAAAAAAAAAAAAAAAAAAAAAAAAAAAAAAAAAAAAAAAAAAAAAAAAAAAAAAAAAAAAAAAAAAAAAAAAAAAAAAAAAAAAAAAAAAAAAAAAAAAAAAAAAAAAAAAAAAAAAAAAAAAAAAAAAAAAAAAAAAAAAAAAAAAAAAAAAAAAAAAAAAAAAAAAAAAAAAAAAAAAAAAAAAAAAAAAAAAAAAAAAAAAAAAAAAAAAAAAAAAAAAAAAAAAAAAAAAAAAAAAAAAAAAACAAAAAAAAAAAAAAAAAAAAAAAAAAAAAAAAAAAAAAAAAAAAAAAAAAAAAAAAAAAAAAAAAAAAAAAAAAAAAAAAAAAAAAAAAAAAAAAAAAAAAAAAAAAAAAAAAAAAAAAAAAAAAAAAAAAAAAAAAAAAAAAAAAAAAAAAAAAAAAAAAAAAAAAAAAAAAAAAAAAAAAAAAAAAAAAAAAAAAAAAAAAAAAAAAAAAAAAAAAAAAAAAAAAAAAAAAAAAAAAAAAAAAAAAAAAAAAAAAAAAAAAAAAAAAAAAAAAAAAAAAAAAAAAAAAAAAAAAAAAAAAAFAAAAAAAAAAAAAAAAAAAAAAAAAAAAAAAAAAAAAAAAAAAAAAAAAAAAAAAAAAAAAAAAAAAAAAAAAAAAAAAAAAAAAAAAAAAAAAAAAAAAAAAAAAAAAAAAAAAAAAAAAAAAAAAAAAAAAAAAAAAAAAAAAAAAAAAAAAAAAAAAAAAAAAAAAAAAAAAAAAAAAAAAAAAAAAAAAAAAAAAAAAAAAAAAAAAAAAAAAAAAAAAAAAAAAAAAAAAAAAAAAAAAAAAAAAAAAAAAAAAAAAAAAAAAAAAAAAAAAAAAAAAAAAAAAAAAAAAAAAAAAAAAAAAAAAAAAAAAAAAAAAAAAAAAAAAAAAAAAAAAAAAAAAAAAAAAAAAAAAAAAAAAAAAAAAAAAAAAAAAAAAAAAAAAAAAAAAAAAAAAAAAAAAAAAAAAAAAAAAAAAAAAAAAAAAAAAAAAAAAAAAAAAAAAAAAAAAAAAAAAAAAAAAAAAAAAAAAAAAAAAAAAAAAAAAAAAAAAAAAAAAAAAAAAAAAAAAAAAAAAAAAAAAAAAAAAAAAAAAAAAAAAAAAAAAAAAAAAAAAAAAAAAAAAAAAAAAAAAAAAAAAAAAAAAAAAAAAAAAAAAAAAAAAAAAAAAAAAAAAAAAAAAAAAAAAAAAAAAAAAAAAAAAAAAAAAAAAAAAAAAAAAAAAAAAAAAAAAAAAAAAAAAAAAAAAAAAAAAAAAAAAAAAAAAAAAAAAAAAAAAAAAAAAAAAAAAAAAAAAAAAAAAAAAAAAAAAAAAAAAAAAAAAAAAAAAAAAAAAAAAAAAAAAAAAAAAAAAAAAAAAAAAAAAAAAAAAAAAAAAAAAAAAAAAAAAAAAAAAAAAAAAAAAAAAAAAAAAAAAAAAAAAAAAAAAAAAAAAAAAAAAAAAAAAAAAAAAAAAAAAAAAAAAAAAAAAAAAAAAAAAAAAAAAAAAAAAAAAAAAAAAAAAAAAAAAAAAAAAAAAAAAAAAAAAAAAAAABgAAAAAAAAAAAAAAAAAAAAAAAAAAAAAAAAAAAAAAAAAAAAAAAAAAAAAAAAAAAAAAAAAAAAAAAAAAAAAAAAAAAAAAAAAAAAAAAAAAAAAAAAAAAAAAAAAAAAAAAAAAAAAAAAAAAAAAAAAAAAAAAAAAAAAAAAAAAAAAAAAAAAAAAAAAAAAAAAAAAAAAAAAAAAAAAAAAAAAAAAAAAAAAAAAAAAAAAAAAAAAAAAAAAAAAAAAAAAAAAAAAAAAAAAAAAAAAAAAAAAAAAAAAAAAAAAAAAAAAAAAAAAAAAAAAAAAAAAAAAAAAAAAAAAAAAAAAAAAAAAAAAAAAAAAAAAAAAAAAAAAAAAAAAAAAAAAAAAAAAAAAAAAAAAAAAAAAAAAAAAAAAAAAAAAAAAAAAAAAAAAAAAAAAAAAAAAAAAAAAAAAAAAAAAAAAAAAAAAAAAAAAAAAAAAAAAAAAAAAAAAAAAAAAAAAAAAAAAAAAAAAAAAAAAAAAAAAAAAAAAAAAAAAAAAAAAAAAAAAAAAAAAAAAAAAAAAAAAAAAAAAAAAAAAAAAAAAAAAAAAAAAAAAAAAAAAAAAAAAAAAAAAAAAAAAAAAAAAAAAAAAAAAAAAAAAAAAAAAAAAAAAAAAAAAAAAAAAAAAAAAAAAAAAAAAAAAAAAAAAAAAAAAAAAAAAAAAAAAAAAAAAAAAAAAAAAAAAAAAAAAAAAAAAAAAAAAAAAAAAAAAAAAAAAAAAAAAAAAAAAAAAAAAAAAAAAAAAAAAAAAAAAAAAAAAAAAAAAAAAAAAAAAAAAAAAAAAAAAAAAAAAAAAAAAAAAAAAAAAAAAAAAAAAAAAAAAAAAAAAAAAAAAAAAAAAAAAAAAAAAAAAAAAAAAAAAAAAAAAAAAAAAAAAAAAAAAAAAAAAAAAAAAAAAAAAAAAAAAAAAAAAAAAAAAAAAAAAAAAAAAAAAAAAAAAAAAAAAAAAAAAAAAAAAAAAAAAAAAAAAAAAAAAAAAAAAAAAAAAAAAAAAAAAAAAAAAAAAAAAAAAAAAAAAAAAAAAAAAAAAAAAAAAAAAAAAAAAAAAAAAAAAAAAAAAAAAAAAAAAAAAAAAAAAAAAAAAAAAAAAAAAAAAAAAAAAAAAAAAAAAAAAAAAAAAAAAAAAAAAAAAAAAAAAAAAAAAAAAAAAAAAAAAAAAAAAAAAAAAAAAAAAAAAAAAAAAAAAAAAAAAAAAAAAAAAAAAAAAAAAAAAAAAAAAAAAAAAAAAAAAAAAAAAAAAAAAAAAAAAAAAAAAAAAAAAAAAAAAAAAAAAAAAAAAAAAAAAAAAAAAAAAAAAAAAAAAAAAAAAAAAAAAAAAAAAAAAAAAAAAAAAAAAAAAAAAAAAAAAAAAAAAAAAAAAAAAAAAAAAAAAAAAAAAAAAAAAAAAAAAAAAAAAAAAAAAAAAAAAAAAAAAAAAAAAAAAAAAAAAAAAAAAAAAAAAAAAAAAAAAAAAAAAAAAAAAAAAAAAAAAAAAAAAAAAAAAAAAAAAAAAAAAAAAAAAAAAAAAAAAAAAAAAAAAAAAAAAAAAAAAAAAAAAAAAAAAAAAAAAAAAAAAAAAAAAAAAAAAAAAAAAAAAAAAAAAAAAAAAAAAAAAAAAAAAAAAAAAAAAAAAAAAAAAAAAAAAAAAAAAAAAAAAAAAAAAAAAAAAAAAAAAAAAAAAAAAAAAAAAAAAAAAAAAAAAAAAAAAAAAAAAAAAAAAAAAAAAAAAAAAAAAAAAAEAAAAAAAAAAAAAAAAAAAAAAAAAAAAAAAAAAAAAAAAAAAAAAAAAAAAAAAAAAAAAAAAAAAAAAAAAAAAAAAAAAAAAAAAAAAAAAAAAAAAAAAAAAAAAAAAAAAAAAAAAAAAAAAAAAAAAAAAAAAAAAAAAAAAAAAAAAAAAAAABAAAAAAAAAAAAAAAAAAAAAAAAAAAAAAAAAAAAAAAAAAAAAAAAAAAAAAAAAAAAAAAAAAAAAAAAAAAAAAAAAAAAAAAAAAAAAAAAAAAAAAAAAAAAAAAAAAAAAAAAAAAAAAAAAAAAAAAAAAAAAAAAAAAAAAAAAAAAAAAAAAAABgAAAAAAAAAAAAAAAAAAAAAAAAAAAAAAAAAAAAAAAAAAAAAAAAAAAAAAAAAAAAAAAAAAAAAAAAAAAAAAAAAAAAAAAAAAAAAAAAAAAAAAAAAAAAAAAAAAAAAAAAAAAAAAAAAAAAAAAAAAAAAAAAAAAAAAAAAAAAAAAAAAAAAAAAAAAAAAAAAAAAAAAAAAAAAAAAAAAAAAAAAAAAAAAAAAAAAAAAAAAAAAAAAAAAAAAAAAAAAAAAAAAAAAAAAAAAAAAAAAAAAAAAAAAAAAAAAAAAAAAAAAAAAAAAAAAAAAAAAAAAAAAAAAAAAAAAAAAAAAAAAAAAAAAAAAAAAAAAAAAAAAAAAAAAAAAAAAAAAAAAAAAAAAAAAAAAAAAAAAAAAAAAAAAAAAAAAAAAAAAAAAAAAAAAAAAAAAAAAAAAAAAAAAAAAAAAAAAAAAAAAAAAAAAAAAAAAAAAAAAAAAAAAAAAAAAAAAAAAAAAAAAAAAAAAAAAAAAAAAAAAAAAAAAAAAAAAAAAAAAAAAAAAAAAAAAAAAAAAAAAAAAAAAAAAAAAAAAAAAAAAAAAAAAAAAAAAAAAAAAAAAAAAAAAAAAAAAAAAAAAAAAAAAAAAAAAAAAAAAAAAAAAAAAAAAAAAAAAAAAAAAAAAAAAAAAAAAAAAAAAAAAAAAAAAAAQAAAAAAAAAAAAAAAAAAAAAAAAAAAAAAAAAAAAAAAAAAAAAAAAAAAAAAAAAAAAAAAAAAAAAAAAAAAAAAAAAAAAAAAAAAAAAAAAAAAAAAAAAAAAAAAAAAAAAAAAAAAAAAAAAAAAAAAAAAAAAAAAAAAAAAAAAAAAAAAAAAAAAAAAAAAAAAAAAAAAAAAAAAAAAAAAAAAAAAAAAAAAAAAAAAAAAAAAAAAAAAAAAAAAAAAAAAAAAAAAAAAAAAAAAAAAAAAAAAAAAAAAAAAAAAAAAAAAAAAAAAAAAAAAAAAAAAAAAAAAAAAAAAAAAAAAAAAAAAAAAAAAAAAAAAAAAAAAAAAAAAAAAAAAAAAAAAAAAAAAAAAAAAAAAAAAAAAAAAAAAAAAAAAAAAAAAAAAAAAAAAAAAAAAAAAAAAAAAAAAAAAAAAAAAAAAAAAAAAAAAAAAAAAAAAAAAAAAAAAAAAAAAAAAAAAAAAAAAAAAAAAAAAAAAAAAAAAAAAAAAAAAAAAAAAAAAAAAAAAAAAAAAAAAAAAAAAAAAAAAAAAAAAAAAAAAAAAAAAAAAAAAAAAAAAAAAAAAAAAAAAAAAAAAAAAAAAAAAAAAAAAAAAAAAAAAAAAAAAAAAAAAAAAAAAAAAAAAAAAAAAAAAAAAAAAAAAAAAAAAAAAAAAAAAAAAAAAAAAAAAAAAAAAAAAAAAAAAAAAAAAAAAAAAAAAAAAAAAAAAAAAAAAAAAAAAAAAAAAAAAAAAAAAAAAAAAAAAAAAAAAAAAAAAAAAAAAAAAAAAAAAAAAAAAAAAAAAAAAAAAAAAAAAAAAAAAAAAAAAAAAAAAAAAAAAAAAAAAAAAAAAAAAAAAAAAAAAAAAAAAAAAAAAAAAAAAAAAAAAAAAAAAAAAAAAAAAAAAAAAAAAAAAAAAAAAAAAAAAAAAAAAAAAAAAAAAAAAAAAAAAAAAAAAAAAAAAAAAAAAAAAAAAAAAAAAAAAAAAAAAAAAAAAAAAAAAAAAAAAAAAAAAAAAAAAAAAAAAAAAAAAAAAAAAAAAAAAAAAAAAAAAAAAAAAAAAAAAAAAAAAAAAAAAAAAAAAAAUAAAAAAAAAAAAAAAAAAAAAAAAAAAAAAAAAAAAAAAAAAAAAAAAAAAAAAAAAAAAAAAAAAAAAAAAAAAAAAAAAAAAAAAAAAAAAAAAAAAAAAAAAAAAAAAAAAAAAAAAAAAAAAAAAAAAAAAAAAAAAAAAAAAAAAAAAAAAAAAAAAAAAAAAAAAAAAAAAAAAAAAAAAAAAAAAAAAAAAAAAAAAAAAAAAAAAAAAAAAAAAAAAAAAAAAAAAAAAAAAAAAAAAAAAAAAAAAAAAAAAAAAAAAAAAAAAAAAAAAAAAAAAAAAAAAAAAAAAAAAAAAAAAAAAAAAAAAAAAAAAAAAAAAAAAAAAAAAAAAAAAAAAAAAAAAAAAAAAAAAAAAAAAAAAAAAAAAAAAAAAAAAAAAAAAAAAAAAAAAAAAAAAAAAAAAAAAAAAAAAAAAAAAAAAAAAAAAAAAAAAAAAAAAAAAAAAAAAAAAAAAAAAAAAAAAAAAAAAAAAAAAAAAAAAAAAAAAAAAAAAAAAAAAAAAAAAAAAAAAAAAAAAAAAAAAAAAAAAAAAAAAAAAAAAAAAAAAAAAAAAAAAAAAAAAAAAAAAAAAAAAAAAAAAAAAAAAAAAAAAAAAAAAAAAAAAAAAAAAAAAAAAAAAAAAAAAAAAAAAAAAAAAAAAAAAAAAAAAAAAAAAAAAAAAAAAAAAAAAAAAAAAAAAAAAAAAAAAAAAAAAAAAAAAAAAAAAAAAAAAAAAAAAAAAAAAAAAAAAAAAAAAAAAAAAAAAAAAAAAAAAAAAAAAAAAAAAAAAAAAAAAAAAAAAAAAAAAAAAAAAAAAAAAAAAAAAAAAAAAAAAAAAAAAAAAAAAAAAAAAAAAAAAAAAAAAAAAAAAAAAAAAAAAAAAAAAAAAAAAAAAAAAAAAAAAAAAAAAAAAAAAAAAAAAAAAAAAAAAAAAAAAAAAAAAAAAAAAAAAAAAAAAAAAAAAAAAAAAAAAAAAAAAAAAAAAAAAAAAAAAAAAAAAAAAAAAAAAAAAAAAAAAAAAAAAAAAAAAAAAAAAAAAAAAAAAAAAAAAAAAAAAAAAAAAAAAAAAAAAAAAAAAAAAAAAAAAAAAAAAAAAAAAAAAAAAAAAAAAAAAAAAAAAAAAAAAAAAAAAAAAAAAAAAAAAAAAAAAAAAAAAAAAAAAAAAAAAAAAAAAAAAAAAAAAAAAAAAAAAAAAAAAAAAAAAAAAAAAAAAAAAAAAAAAAAAAAAAAAAAAAAAAAAAAAAAAAAAAAAAAAAAAAAAAAAAAAAAAAAAAAAAAAAAAAAAAAAAAAAAAAAAAAAAAAAAAAAAAAAAAAAAAAAAAAAAAAAAAAAAAAAAAAAAAAAAAAAAAAAAAAAAAAAAAAAAAAAAAAAAAAAAAAAAAAAAAAAAAAAAAAAAAAAAAAAAAAAAAAAAAAAAAAAAAAAAAAAAAAAAAAAAAAAAAAAAAAAAAAAAAAAAAAAAAAAAAAAAAAAAAAAAAAAAAAAAAAAAAAAAAAAAAAAAAAAAAAAAAAAAAAAAAAAAAAAAAAAAAAAAAAAAAAAAAAAAAAAAAAAAAAAAAAAAAAAAAAAAAAAAAAAAAAAAAAAAAAAAAAAAAAAAAAAAAAAAAAAAAAQAAAAAAAAAAAAAAAAAAAAAAAAAAAAAAAAAAAAAAAAAAAAAAAAAAAAAAAAAAAAAAAAAAAAAAAAAAAAAAAAAAAAAAAAAAAAAAAAAAAAAAAAAAAAAAAAAAAAAAAAAAAAAAAAAAAAAAAAAAAAAAAAAAAAAAAAAAAAAAAAAAAAAAAAAAAAAAAAAAAAAAAAAAAAAAAAAAAAAAAAAAAAAAAAAAAAAAAAAAAAAAAAAAAAAAAAAAAAAAAAAAAAAAAAAAAAAAAAAAAAAAAAAAAAAAAAAAAAAAAAAAAAAAAAAAAAAAAAAAAAAAAAAAAAAAAAAAAAAAAAAAAAAAAAAAAAAAAAAAAAAAAAAAAAAAAAAAAAAAAAAAAAAAAAAAAAAAAAAAAAAAAAAAAAAAAAAAAAAAAAAAAAAAAAAAAAAAAAAAAAAAAAAAAAAAAAAAAAAAAAAAAAAAAAAAAAAAAAAAAAAAAAAAAAAAAAAAAAAAAAAAAAAAAAAAAAAAAAAAAAAAAAAAAAAAAAAAAAAAAAAAAAAAAAAAAAAAAAAAAAAAAAAAAAAAAAAAAAAAAAAAAAAAAAAAAAAAAAAAAAAAAAAAAAAAAAAAAAAAAAAAAAAAAAAAAAAAAAAAAAAAAA==",
          "dtype": "i1"
         },
         "y0": " ",
         "yaxis": "y"
        }
       ],
       "layout": {
        "font": {
         "color": "white"
        },
        "legend": {
         "tracegroupgap": 0
        },
        "paper_bgcolor": "#050b18",
        "plot_bgcolor": "#050b18",
        "template": {
         "data": {
          "bar": [
           {
            "error_x": {
             "color": "#f2f5fa"
            },
            "error_y": {
             "color": "#f2f5fa"
            },
            "marker": {
             "line": {
              "color": "rgb(17,17,17)",
              "width": 0.5
             },
             "pattern": {
              "fillmode": "overlay",
              "size": 10,
              "solidity": 0.2
             }
            },
            "type": "bar"
           }
          ],
          "barpolar": [
           {
            "marker": {
             "line": {
              "color": "rgb(17,17,17)",
              "width": 0.5
             },
             "pattern": {
              "fillmode": "overlay",
              "size": 10,
              "solidity": 0.2
             }
            },
            "type": "barpolar"
           }
          ],
          "carpet": [
           {
            "aaxis": {
             "endlinecolor": "#A2B1C6",
             "gridcolor": "#506784",
             "linecolor": "#506784",
             "minorgridcolor": "#506784",
             "startlinecolor": "#A2B1C6"
            },
            "baxis": {
             "endlinecolor": "#A2B1C6",
             "gridcolor": "#506784",
             "linecolor": "#506784",
             "minorgridcolor": "#506784",
             "startlinecolor": "#A2B1C6"
            },
            "type": "carpet"
           }
          ],
          "choropleth": [
           {
            "colorbar": {
             "outlinewidth": 0,
             "ticks": ""
            },
            "type": "choropleth"
           }
          ],
          "contour": [
           {
            "colorbar": {
             "outlinewidth": 0,
             "ticks": ""
            },
            "colorscale": [
             [
              0,
              "#0d0887"
             ],
             [
              0.1111111111111111,
              "#46039f"
             ],
             [
              0.2222222222222222,
              "#7201a8"
             ],
             [
              0.3333333333333333,
              "#9c179e"
             ],
             [
              0.4444444444444444,
              "#bd3786"
             ],
             [
              0.5555555555555556,
              "#d8576b"
             ],
             [
              0.6666666666666666,
              "#ed7953"
             ],
             [
              0.7777777777777778,
              "#fb9f3a"
             ],
             [
              0.8888888888888888,
              "#fdca26"
             ],
             [
              1,
              "#f0f921"
             ]
            ],
            "type": "contour"
           }
          ],
          "contourcarpet": [
           {
            "colorbar": {
             "outlinewidth": 0,
             "ticks": ""
            },
            "type": "contourcarpet"
           }
          ],
          "heatmap": [
           {
            "colorbar": {
             "outlinewidth": 0,
             "ticks": ""
            },
            "colorscale": [
             [
              0,
              "#0d0887"
             ],
             [
              0.1111111111111111,
              "#46039f"
             ],
             [
              0.2222222222222222,
              "#7201a8"
             ],
             [
              0.3333333333333333,
              "#9c179e"
             ],
             [
              0.4444444444444444,
              "#bd3786"
             ],
             [
              0.5555555555555556,
              "#d8576b"
             ],
             [
              0.6666666666666666,
              "#ed7953"
             ],
             [
              0.7777777777777778,
              "#fb9f3a"
             ],
             [
              0.8888888888888888,
              "#fdca26"
             ],
             [
              1,
              "#f0f921"
             ]
            ],
            "type": "heatmap"
           }
          ],
          "histogram": [
           {
            "marker": {
             "pattern": {
              "fillmode": "overlay",
              "size": 10,
              "solidity": 0.2
             }
            },
            "type": "histogram"
           }
          ],
          "histogram2d": [
           {
            "colorbar": {
             "outlinewidth": 0,
             "ticks": ""
            },
            "colorscale": [
             [
              0,
              "#0d0887"
             ],
             [
              0.1111111111111111,
              "#46039f"
             ],
             [
              0.2222222222222222,
              "#7201a8"
             ],
             [
              0.3333333333333333,
              "#9c179e"
             ],
             [
              0.4444444444444444,
              "#bd3786"
             ],
             [
              0.5555555555555556,
              "#d8576b"
             ],
             [
              0.6666666666666666,
              "#ed7953"
             ],
             [
              0.7777777777777778,
              "#fb9f3a"
             ],
             [
              0.8888888888888888,
              "#fdca26"
             ],
             [
              1,
              "#f0f921"
             ]
            ],
            "type": "histogram2d"
           }
          ],
          "histogram2dcontour": [
           {
            "colorbar": {
             "outlinewidth": 0,
             "ticks": ""
            },
            "colorscale": [
             [
              0,
              "#0d0887"
             ],
             [
              0.1111111111111111,
              "#46039f"
             ],
             [
              0.2222222222222222,
              "#7201a8"
             ],
             [
              0.3333333333333333,
              "#9c179e"
             ],
             [
              0.4444444444444444,
              "#bd3786"
             ],
             [
              0.5555555555555556,
              "#d8576b"
             ],
             [
              0.6666666666666666,
              "#ed7953"
             ],
             [
              0.7777777777777778,
              "#fb9f3a"
             ],
             [
              0.8888888888888888,
              "#fdca26"
             ],
             [
              1,
              "#f0f921"
             ]
            ],
            "type": "histogram2dcontour"
           }
          ],
          "mesh3d": [
           {
            "colorbar": {
             "outlinewidth": 0,
             "ticks": ""
            },
            "type": "mesh3d"
           }
          ],
          "parcoords": [
           {
            "line": {
             "colorbar": {
              "outlinewidth": 0,
              "ticks": ""
             }
            },
            "type": "parcoords"
           }
          ],
          "pie": [
           {
            "automargin": true,
            "type": "pie"
           }
          ],
          "scatter": [
           {
            "marker": {
             "line": {
              "color": "#283442"
             }
            },
            "type": "scatter"
           }
          ],
          "scatter3d": [
           {
            "line": {
             "colorbar": {
              "outlinewidth": 0,
              "ticks": ""
             }
            },
            "marker": {
             "colorbar": {
              "outlinewidth": 0,
              "ticks": ""
             }
            },
            "type": "scatter3d"
           }
          ],
          "scattercarpet": [
           {
            "marker": {
             "colorbar": {
              "outlinewidth": 0,
              "ticks": ""
             }
            },
            "type": "scattercarpet"
           }
          ],
          "scattergeo": [
           {
            "marker": {
             "colorbar": {
              "outlinewidth": 0,
              "ticks": ""
             }
            },
            "type": "scattergeo"
           }
          ],
          "scattergl": [
           {
            "marker": {
             "line": {
              "color": "#283442"
             }
            },
            "type": "scattergl"
           }
          ],
          "scattermap": [
           {
            "marker": {
             "colorbar": {
              "outlinewidth": 0,
              "ticks": ""
             }
            },
            "type": "scattermap"
           }
          ],
          "scattermapbox": [
           {
            "marker": {
             "colorbar": {
              "outlinewidth": 0,
              "ticks": ""
             }
            },
            "type": "scattermapbox"
           }
          ],
          "scatterpolar": [
           {
            "marker": {
             "colorbar": {
              "outlinewidth": 0,
              "ticks": ""
             }
            },
            "type": "scatterpolar"
           }
          ],
          "scatterpolargl": [
           {
            "marker": {
             "colorbar": {
              "outlinewidth": 0,
              "ticks": ""
             }
            },
            "type": "scatterpolargl"
           }
          ],
          "scatterternary": [
           {
            "marker": {
             "colorbar": {
              "outlinewidth": 0,
              "ticks": ""
             }
            },
            "type": "scatterternary"
           }
          ],
          "surface": [
           {
            "colorbar": {
             "outlinewidth": 0,
             "ticks": ""
            },
            "colorscale": [
             [
              0,
              "#0d0887"
             ],
             [
              0.1111111111111111,
              "#46039f"
             ],
             [
              0.2222222222222222,
              "#7201a8"
             ],
             [
              0.3333333333333333,
              "#9c179e"
             ],
             [
              0.4444444444444444,
              "#bd3786"
             ],
             [
              0.5555555555555556,
              "#d8576b"
             ],
             [
              0.6666666666666666,
              "#ed7953"
             ],
             [
              0.7777777777777778,
              "#fb9f3a"
             ],
             [
              0.8888888888888888,
              "#fdca26"
             ],
             [
              1,
              "#f0f921"
             ]
            ],
            "type": "surface"
           }
          ],
          "table": [
           {
            "cells": {
             "fill": {
              "color": "#506784"
             },
             "line": {
              "color": "rgb(17,17,17)"
             }
            },
            "header": {
             "fill": {
              "color": "#2a3f5f"
             },
             "line": {
              "color": "rgb(17,17,17)"
             }
            },
            "type": "table"
           }
          ]
         },
         "layout": {
          "annotationdefaults": {
           "arrowcolor": "#f2f5fa",
           "arrowhead": 0,
           "arrowwidth": 1
          },
          "autotypenumbers": "strict",
          "coloraxis": {
           "colorbar": {
            "outlinewidth": 0,
            "ticks": ""
           }
          },
          "colorscale": {
           "diverging": [
            [
             0,
             "#8e0152"
            ],
            [
             0.1,
             "#c51b7d"
            ],
            [
             0.2,
             "#de77ae"
            ],
            [
             0.3,
             "#f1b6da"
            ],
            [
             0.4,
             "#fde0ef"
            ],
            [
             0.5,
             "#f7f7f7"
            ],
            [
             0.6,
             "#e6f5d0"
            ],
            [
             0.7,
             "#b8e186"
            ],
            [
             0.8,
             "#7fbc41"
            ],
            [
             0.9,
             "#4d9221"
            ],
            [
             1,
             "#276419"
            ]
           ],
           "sequential": [
            [
             0,
             "#0d0887"
            ],
            [
             0.1111111111111111,
             "#46039f"
            ],
            [
             0.2222222222222222,
             "#7201a8"
            ],
            [
             0.3333333333333333,
             "#9c179e"
            ],
            [
             0.4444444444444444,
             "#bd3786"
            ],
            [
             0.5555555555555556,
             "#d8576b"
            ],
            [
             0.6666666666666666,
             "#ed7953"
            ],
            [
             0.7777777777777778,
             "#fb9f3a"
            ],
            [
             0.8888888888888888,
             "#fdca26"
            ],
            [
             1,
             "#f0f921"
            ]
           ],
           "sequentialminus": [
            [
             0,
             "#0d0887"
            ],
            [
             0.1111111111111111,
             "#46039f"
            ],
            [
             0.2222222222222222,
             "#7201a8"
            ],
            [
             0.3333333333333333,
             "#9c179e"
            ],
            [
             0.4444444444444444,
             "#bd3786"
            ],
            [
             0.5555555555555556,
             "#d8576b"
            ],
            [
             0.6666666666666666,
             "#ed7953"
            ],
            [
             0.7777777777777778,
             "#fb9f3a"
            ],
            [
             0.8888888888888888,
             "#fdca26"
            ],
            [
             1,
             "#f0f921"
            ]
           ]
          },
          "colorway": [
           "#636efa",
           "#EF553B",
           "#00cc96",
           "#ab63fa",
           "#FFA15A",
           "#19d3f3",
           "#FF6692",
           "#B6E880",
           "#FF97FF",
           "#FECB52"
          ],
          "font": {
           "color": "#f2f5fa"
          },
          "geo": {
           "bgcolor": "rgb(17,17,17)",
           "lakecolor": "rgb(17,17,17)",
           "landcolor": "rgb(17,17,17)",
           "showlakes": true,
           "showland": true,
           "subunitcolor": "#506784"
          },
          "hoverlabel": {
           "align": "left"
          },
          "hovermode": "closest",
          "mapbox": {
           "style": "dark"
          },
          "paper_bgcolor": "rgb(17,17,17)",
          "plot_bgcolor": "rgb(17,17,17)",
          "polar": {
           "angularaxis": {
            "gridcolor": "#506784",
            "linecolor": "#506784",
            "ticks": ""
           },
           "bgcolor": "rgb(17,17,17)",
           "radialaxis": {
            "gridcolor": "#506784",
            "linecolor": "#506784",
            "ticks": ""
           }
          },
          "scene": {
           "xaxis": {
            "backgroundcolor": "rgb(17,17,17)",
            "gridcolor": "#506784",
            "gridwidth": 2,
            "linecolor": "#506784",
            "showbackground": true,
            "ticks": "",
            "zerolinecolor": "#C8D4E3"
           },
           "yaxis": {
            "backgroundcolor": "rgb(17,17,17)",
            "gridcolor": "#506784",
            "gridwidth": 2,
            "linecolor": "#506784",
            "showbackground": true,
            "ticks": "",
            "zerolinecolor": "#C8D4E3"
           },
           "zaxis": {
            "backgroundcolor": "rgb(17,17,17)",
            "gridcolor": "#506784",
            "gridwidth": 2,
            "linecolor": "#506784",
            "showbackground": true,
            "ticks": "",
            "zerolinecolor": "#C8D4E3"
           }
          },
          "shapedefaults": {
           "line": {
            "color": "#f2f5fa"
           }
          },
          "sliderdefaults": {
           "bgcolor": "#C8D4E3",
           "bordercolor": "rgb(17,17,17)",
           "borderwidth": 1,
           "tickwidth": 0
          },
          "ternary": {
           "aaxis": {
            "gridcolor": "#506784",
            "linecolor": "#506784",
            "ticks": ""
           },
           "baxis": {
            "gridcolor": "#506784",
            "linecolor": "#506784",
            "ticks": ""
           },
           "bgcolor": "rgb(17,17,17)",
           "caxis": {
            "gridcolor": "#506784",
            "linecolor": "#506784",
            "ticks": ""
           }
          },
          "title": {
           "x": 0.05
          },
          "updatemenudefaults": {
           "bgcolor": "#506784",
           "borderwidth": 0
          },
          "xaxis": {
           "automargin": true,
           "gridcolor": "#283442",
           "linecolor": "#506784",
           "ticks": "",
           "title": {
            "standoff": 15
           },
           "zerolinecolor": "#283442",
           "zerolinewidth": 2
          },
          "yaxis": {
           "automargin": true,
           "gridcolor": "#283442",
           "linecolor": "#506784",
           "ticks": "",
           "title": {
            "standoff": 15
           },
           "zerolinecolor": "#283442",
           "zerolinewidth": 2
          }
         }
        },
        "title": {
         "text": "🎻 Distribuzione Caratteri Speciali"
        },
        "violinmode": "group",
        "xaxis": {
         "anchor": "y",
         "domain": [
          0,
          1
         ]
        },
        "yaxis": {
         "anchor": "x",
         "domain": [
          0,
          1
         ],
         "title": {
          "text": "num_special"
         }
        }
       }
      }
     },
     "metadata": {},
     "output_type": "display_data"
    },
    {
     "data": {
      "application/vnd.plotly.v1+json": {
       "config": {
        "plotlyServerURL": "https://plot.ly"
       },
       "data": [
        {
         "branchvalues": "total",
         "customdata": {
          "bdata": "AAAAAAAAAEAAAAAAAAAAQAAAAAAAAPA/AAAAAAAA8D8AAAAAAADwPwAAAAAAAPA/AAAAAAAA8D8AAAAAAADwPwAAAAAAAPA/AAAAAAAA8D8AAAAAAADwPwAAAAAAAPA/AAAAAAAA8D8AAAAAAADwPwAAAAAAAPA/AAAAAAAA8D8AAAAAAADwPwAAAAAAAPA/AAAAAAAA8D8AAAAAAADwPw==",
          "dtype": "f8",
          "shape": "20, 1"
         },
         "domain": {
          "x": [
           0,
           1
          ],
          "y": [
           0,
           1
          ]
         },
         "hovertemplate": "labels=%{label}<br>count_sum=%{value}<br>parent=%{parent}<br>id=%{id}<br>count=%{color}<extra></extra>",
         "ids": [
          "abcdef",
          "easy",
          "12345678",
          "qwerty",
          "123456789",
          "12345",
          "1234",
          "111111",
          "giggle",
          "michael",
          "123456",
          "doom",
          "discus",
          "darina",
          "daman",
          "daisey",
          "clement",
          "chouchou",
          "cheerleaers",
          "Charles"
         ],
         "labels": [
          "abcdef",
          "easy",
          "12345678",
          "qwerty",
          "123456789",
          "12345",
          "1234",
          "111111",
          "giggle",
          "michael",
          "123456",
          "doom",
          "discus",
          "darina",
          "daman",
          "daisey",
          "clement",
          "chouchou",
          "cheerleaers",
          "Charles"
         ],
         "marker": {
          "coloraxis": "coloraxis",
          "colors": {
           "bdata": "AAAAAAAAAEAAAAAAAAAAQAAAAAAAAPA/AAAAAAAA8D8AAAAAAADwPwAAAAAAAPA/AAAAAAAA8D8AAAAAAADwPwAAAAAAAPA/AAAAAAAA8D8AAAAAAADwPwAAAAAAAPA/AAAAAAAA8D8AAAAAAADwPwAAAAAAAPA/AAAAAAAA8D8AAAAAAADwPwAAAAAAAPA/AAAAAAAA8D8AAAAAAADwPw==",
           "dtype": "f8"
          }
         },
         "name": "",
         "parents": [
          "",
          "",
          "",
          "",
          "",
          "",
          "",
          "",
          "",
          "",
          "",
          "",
          "",
          "",
          "",
          "",
          "",
          "",
          "",
          ""
         ],
         "type": "treemap",
         "values": {
          "bdata": "AAAAAAAAAEAAAAAAAAAAQAAAAAAAAPA/AAAAAAAA8D8AAAAAAADwPwAAAAAAAPA/AAAAAAAA8D8AAAAAAADwPwAAAAAAAPA/AAAAAAAA8D8AAAAAAADwPwAAAAAAAPA/AAAAAAAA8D8AAAAAAADwPwAAAAAAAPA/AAAAAAAA8D8AAAAAAADwPwAAAAAAAPA/AAAAAAAA8D8AAAAAAADwPw==",
          "dtype": "f8"
         }
        }
       ],
       "layout": {
        "coloraxis": {
         "colorbar": {
          "title": {
           "text": "count"
          }
         },
         "colorscale": [
          [
           0,
           "rgb(247,251,255)"
          ],
          [
           0.125,
           "rgb(222,235,247)"
          ],
          [
           0.25,
           "rgb(198,219,239)"
          ],
          [
           0.375,
           "rgb(158,202,225)"
          ],
          [
           0.5,
           "rgb(107,174,214)"
          ],
          [
           0.625,
           "rgb(66,146,198)"
          ],
          [
           0.75,
           "rgb(33,113,181)"
          ],
          [
           0.875,
           "rgb(8,81,156)"
          ],
          [
           1,
           "rgb(8,48,107)"
          ]
         ]
        },
        "legend": {
         "tracegroupgap": 0
        },
        "paper_bgcolor": "#050b18",
        "plot_bgcolor": "#050b18",
        "template": {
         "data": {
          "bar": [
           {
            "error_x": {
             "color": "#f2f5fa"
            },
            "error_y": {
             "color": "#f2f5fa"
            },
            "marker": {
             "line": {
              "color": "rgb(17,17,17)",
              "width": 0.5
             },
             "pattern": {
              "fillmode": "overlay",
              "size": 10,
              "solidity": 0.2
             }
            },
            "type": "bar"
           }
          ],
          "barpolar": [
           {
            "marker": {
             "line": {
              "color": "rgb(17,17,17)",
              "width": 0.5
             },
             "pattern": {
              "fillmode": "overlay",
              "size": 10,
              "solidity": 0.2
             }
            },
            "type": "barpolar"
           }
          ],
          "carpet": [
           {
            "aaxis": {
             "endlinecolor": "#A2B1C6",
             "gridcolor": "#506784",
             "linecolor": "#506784",
             "minorgridcolor": "#506784",
             "startlinecolor": "#A2B1C6"
            },
            "baxis": {
             "endlinecolor": "#A2B1C6",
             "gridcolor": "#506784",
             "linecolor": "#506784",
             "minorgridcolor": "#506784",
             "startlinecolor": "#A2B1C6"
            },
            "type": "carpet"
           }
          ],
          "choropleth": [
           {
            "colorbar": {
             "outlinewidth": 0,
             "ticks": ""
            },
            "type": "choropleth"
           }
          ],
          "contour": [
           {
            "colorbar": {
             "outlinewidth": 0,
             "ticks": ""
            },
            "colorscale": [
             [
              0,
              "#0d0887"
             ],
             [
              0.1111111111111111,
              "#46039f"
             ],
             [
              0.2222222222222222,
              "#7201a8"
             ],
             [
              0.3333333333333333,
              "#9c179e"
             ],
             [
              0.4444444444444444,
              "#bd3786"
             ],
             [
              0.5555555555555556,
              "#d8576b"
             ],
             [
              0.6666666666666666,
              "#ed7953"
             ],
             [
              0.7777777777777778,
              "#fb9f3a"
             ],
             [
              0.8888888888888888,
              "#fdca26"
             ],
             [
              1,
              "#f0f921"
             ]
            ],
            "type": "contour"
           }
          ],
          "contourcarpet": [
           {
            "colorbar": {
             "outlinewidth": 0,
             "ticks": ""
            },
            "type": "contourcarpet"
           }
          ],
          "heatmap": [
           {
            "colorbar": {
             "outlinewidth": 0,
             "ticks": ""
            },
            "colorscale": [
             [
              0,
              "#0d0887"
             ],
             [
              0.1111111111111111,
              "#46039f"
             ],
             [
              0.2222222222222222,
              "#7201a8"
             ],
             [
              0.3333333333333333,
              "#9c179e"
             ],
             [
              0.4444444444444444,
              "#bd3786"
             ],
             [
              0.5555555555555556,
              "#d8576b"
             ],
             [
              0.6666666666666666,
              "#ed7953"
             ],
             [
              0.7777777777777778,
              "#fb9f3a"
             ],
             [
              0.8888888888888888,
              "#fdca26"
             ],
             [
              1,
              "#f0f921"
             ]
            ],
            "type": "heatmap"
           }
          ],
          "histogram": [
           {
            "marker": {
             "pattern": {
              "fillmode": "overlay",
              "size": 10,
              "solidity": 0.2
             }
            },
            "type": "histogram"
           }
          ],
          "histogram2d": [
           {
            "colorbar": {
             "outlinewidth": 0,
             "ticks": ""
            },
            "colorscale": [
             [
              0,
              "#0d0887"
             ],
             [
              0.1111111111111111,
              "#46039f"
             ],
             [
              0.2222222222222222,
              "#7201a8"
             ],
             [
              0.3333333333333333,
              "#9c179e"
             ],
             [
              0.4444444444444444,
              "#bd3786"
             ],
             [
              0.5555555555555556,
              "#d8576b"
             ],
             [
              0.6666666666666666,
              "#ed7953"
             ],
             [
              0.7777777777777778,
              "#fb9f3a"
             ],
             [
              0.8888888888888888,
              "#fdca26"
             ],
             [
              1,
              "#f0f921"
             ]
            ],
            "type": "histogram2d"
           }
          ],
          "histogram2dcontour": [
           {
            "colorbar": {
             "outlinewidth": 0,
             "ticks": ""
            },
            "colorscale": [
             [
              0,
              "#0d0887"
             ],
             [
              0.1111111111111111,
              "#46039f"
             ],
             [
              0.2222222222222222,
              "#7201a8"
             ],
             [
              0.3333333333333333,
              "#9c179e"
             ],
             [
              0.4444444444444444,
              "#bd3786"
             ],
             [
              0.5555555555555556,
              "#d8576b"
             ],
             [
              0.6666666666666666,
              "#ed7953"
             ],
             [
              0.7777777777777778,
              "#fb9f3a"
             ],
             [
              0.8888888888888888,
              "#fdca26"
             ],
             [
              1,
              "#f0f921"
             ]
            ],
            "type": "histogram2dcontour"
           }
          ],
          "mesh3d": [
           {
            "colorbar": {
             "outlinewidth": 0,
             "ticks": ""
            },
            "type": "mesh3d"
           }
          ],
          "parcoords": [
           {
            "line": {
             "colorbar": {
              "outlinewidth": 0,
              "ticks": ""
             }
            },
            "type": "parcoords"
           }
          ],
          "pie": [
           {
            "automargin": true,
            "type": "pie"
           }
          ],
          "scatter": [
           {
            "marker": {
             "line": {
              "color": "#283442"
             }
            },
            "type": "scatter"
           }
          ],
          "scatter3d": [
           {
            "line": {
             "colorbar": {
              "outlinewidth": 0,
              "ticks": ""
             }
            },
            "marker": {
             "colorbar": {
              "outlinewidth": 0,
              "ticks": ""
             }
            },
            "type": "scatter3d"
           }
          ],
          "scattercarpet": [
           {
            "marker": {
             "colorbar": {
              "outlinewidth": 0,
              "ticks": ""
             }
            },
            "type": "scattercarpet"
           }
          ],
          "scattergeo": [
           {
            "marker": {
             "colorbar": {
              "outlinewidth": 0,
              "ticks": ""
             }
            },
            "type": "scattergeo"
           }
          ],
          "scattergl": [
           {
            "marker": {
             "line": {
              "color": "#283442"
             }
            },
            "type": "scattergl"
           }
          ],
          "scattermap": [
           {
            "marker": {
             "colorbar": {
              "outlinewidth": 0,
              "ticks": ""
             }
            },
            "type": "scattermap"
           }
          ],
          "scattermapbox": [
           {
            "marker": {
             "colorbar": {
              "outlinewidth": 0,
              "ticks": ""
             }
            },
            "type": "scattermapbox"
           }
          ],
          "scatterpolar": [
           {
            "marker": {
             "colorbar": {
              "outlinewidth": 0,
              "ticks": ""
             }
            },
            "type": "scatterpolar"
           }
          ],
          "scatterpolargl": [
           {
            "marker": {
             "colorbar": {
              "outlinewidth": 0,
              "ticks": ""
             }
            },
            "type": "scatterpolargl"
           }
          ],
          "scatterternary": [
           {
            "marker": {
             "colorbar": {
              "outlinewidth": 0,
              "ticks": ""
             }
            },
            "type": "scatterternary"
           }
          ],
          "surface": [
           {
            "colorbar": {
             "outlinewidth": 0,
             "ticks": ""
            },
            "colorscale": [
             [
              0,
              "#0d0887"
             ],
             [
              0.1111111111111111,
              "#46039f"
             ],
             [
              0.2222222222222222,
              "#7201a8"
             ],
             [
              0.3333333333333333,
              "#9c179e"
             ],
             [
              0.4444444444444444,
              "#bd3786"
             ],
             [
              0.5555555555555556,
              "#d8576b"
             ],
             [
              0.6666666666666666,
              "#ed7953"
             ],
             [
              0.7777777777777778,
              "#fb9f3a"
             ],
             [
              0.8888888888888888,
              "#fdca26"
             ],
             [
              1,
              "#f0f921"
             ]
            ],
            "type": "surface"
           }
          ],
          "table": [
           {
            "cells": {
             "fill": {
              "color": "#506784"
             },
             "line": {
              "color": "rgb(17,17,17)"
             }
            },
            "header": {
             "fill": {
              "color": "#2a3f5f"
             },
             "line": {
              "color": "rgb(17,17,17)"
             }
            },
            "type": "table"
           }
          ]
         },
         "layout": {
          "annotationdefaults": {
           "arrowcolor": "#f2f5fa",
           "arrowhead": 0,
           "arrowwidth": 1
          },
          "autotypenumbers": "strict",
          "coloraxis": {
           "colorbar": {
            "outlinewidth": 0,
            "ticks": ""
           }
          },
          "colorscale": {
           "diverging": [
            [
             0,
             "#8e0152"
            ],
            [
             0.1,
             "#c51b7d"
            ],
            [
             0.2,
             "#de77ae"
            ],
            [
             0.3,
             "#f1b6da"
            ],
            [
             0.4,
             "#fde0ef"
            ],
            [
             0.5,
             "#f7f7f7"
            ],
            [
             0.6,
             "#e6f5d0"
            ],
            [
             0.7,
             "#b8e186"
            ],
            [
             0.8,
             "#7fbc41"
            ],
            [
             0.9,
             "#4d9221"
            ],
            [
             1,
             "#276419"
            ]
           ],
           "sequential": [
            [
             0,
             "#0d0887"
            ],
            [
             0.1111111111111111,
             "#46039f"
            ],
            [
             0.2222222222222222,
             "#7201a8"
            ],
            [
             0.3333333333333333,
             "#9c179e"
            ],
            [
             0.4444444444444444,
             "#bd3786"
            ],
            [
             0.5555555555555556,
             "#d8576b"
            ],
            [
             0.6666666666666666,
             "#ed7953"
            ],
            [
             0.7777777777777778,
             "#fb9f3a"
            ],
            [
             0.8888888888888888,
             "#fdca26"
            ],
            [
             1,
             "#f0f921"
            ]
           ],
           "sequentialminus": [
            [
             0,
             "#0d0887"
            ],
            [
             0.1111111111111111,
             "#46039f"
            ],
            [
             0.2222222222222222,
             "#7201a8"
            ],
            [
             0.3333333333333333,
             "#9c179e"
            ],
            [
             0.4444444444444444,
             "#bd3786"
            ],
            [
             0.5555555555555556,
             "#d8576b"
            ],
            [
             0.6666666666666666,
             "#ed7953"
            ],
            [
             0.7777777777777778,
             "#fb9f3a"
            ],
            [
             0.8888888888888888,
             "#fdca26"
            ],
            [
             1,
             "#f0f921"
            ]
           ]
          },
          "colorway": [
           "#636efa",
           "#EF553B",
           "#00cc96",
           "#ab63fa",
           "#FFA15A",
           "#19d3f3",
           "#FF6692",
           "#B6E880",
           "#FF97FF",
           "#FECB52"
          ],
          "font": {
           "color": "#f2f5fa"
          },
          "geo": {
           "bgcolor": "rgb(17,17,17)",
           "lakecolor": "rgb(17,17,17)",
           "landcolor": "rgb(17,17,17)",
           "showlakes": true,
           "showland": true,
           "subunitcolor": "#506784"
          },
          "hoverlabel": {
           "align": "left"
          },
          "hovermode": "closest",
          "mapbox": {
           "style": "dark"
          },
          "paper_bgcolor": "rgb(17,17,17)",
          "plot_bgcolor": "rgb(17,17,17)",
          "polar": {
           "angularaxis": {
            "gridcolor": "#506784",
            "linecolor": "#506784",
            "ticks": ""
           },
           "bgcolor": "rgb(17,17,17)",
           "radialaxis": {
            "gridcolor": "#506784",
            "linecolor": "#506784",
            "ticks": ""
           }
          },
          "scene": {
           "xaxis": {
            "backgroundcolor": "rgb(17,17,17)",
            "gridcolor": "#506784",
            "gridwidth": 2,
            "linecolor": "#506784",
            "showbackground": true,
            "ticks": "",
            "zerolinecolor": "#C8D4E3"
           },
           "yaxis": {
            "backgroundcolor": "rgb(17,17,17)",
            "gridcolor": "#506784",
            "gridwidth": 2,
            "linecolor": "#506784",
            "showbackground": true,
            "ticks": "",
            "zerolinecolor": "#C8D4E3"
           },
           "zaxis": {
            "backgroundcolor": "rgb(17,17,17)",
            "gridcolor": "#506784",
            "gridwidth": 2,
            "linecolor": "#506784",
            "showbackground": true,
            "ticks": "",
            "zerolinecolor": "#C8D4E3"
           }
          },
          "shapedefaults": {
           "line": {
            "color": "#f2f5fa"
           }
          },
          "sliderdefaults": {
           "bgcolor": "#C8D4E3",
           "bordercolor": "rgb(17,17,17)",
           "borderwidth": 1,
           "tickwidth": 0
          },
          "ternary": {
           "aaxis": {
            "gridcolor": "#506784",
            "linecolor": "#506784",
            "ticks": ""
           },
           "baxis": {
            "gridcolor": "#506784",
            "linecolor": "#506784",
            "ticks": ""
           },
           "bgcolor": "rgb(17,17,17)",
           "caxis": {
            "gridcolor": "#506784",
            "linecolor": "#506784",
            "ticks": ""
           }
          },
          "title": {
           "x": 0.05
          },
          "updatemenudefaults": {
           "bgcolor": "#506784",
           "borderwidth": 0
          },
          "xaxis": {
           "automargin": true,
           "gridcolor": "#283442",
           "linecolor": "#506784",
           "ticks": "",
           "title": {
            "standoff": 15
           },
           "zerolinecolor": "#283442",
           "zerolinewidth": 2
          },
          "yaxis": {
           "automargin": true,
           "gridcolor": "#283442",
           "linecolor": "#506784",
           "ticks": "",
           "title": {
            "standoff": 15
           },
           "zerolinecolor": "#283442",
           "zerolinewidth": 2
          }
         }
        },
        "title": {
         "text": "🌲 Treemap Password con ≤1 Tipo di Carattere"
        }
       }
      }
     },
     "metadata": {},
     "output_type": "display_data"
    }
   ],
   "source": [
    "# 🔢 Istogramma: solo cifre, lunghezza ≤6\n",
    "df_simple = df[(df[\"length\"] <= 6) & (df[\"num_digits\"] == df[\"length\"])]\n",
    "fig = px.histogram(df_simple, x=\"length\", nbins=10,\n",
    "                   title=\"🔢 Password Corte solo Cifre (≤6)\",\n",
    "                   template=\"plotly_dark\", color_discrete_sequence=[\"red\"])\n",
    "fig.update_layout(plot_bgcolor=\"#050b18\", paper_bgcolor=\"#050b18\", font=dict(color=\"white\"))\n",
    "fig.show()\n",
    "# 🎻 Violin plot: caratteri speciali\n",
    "fig = px.violin(df, y=\"num_special\", box=True, points=\"outliers\",\n",
    "                title=\"🎻 Distribuzione Caratteri Speciali\",\n",
    "                template=\"plotly_dark\", color_discrete_sequence=[\"orange\"])\n",
    "fig.update_layout(plot_bgcolor=\"#050b18\", paper_bgcolor=\"#050b18\", font=dict(color=\"white\"))\n",
    "fig.show()\n",
    "# 🌲 Treemap: password con ≤1 tipo di carattere\n",
    "df[\"type_count\"] = ((df[\"num_chars\"] > 0).astype(int) +\n",
    "                    (df[\"num_digits\"] > 0).astype(int) +\n",
    "                    (df[\"num_special\"] > 0).astype(int))\n",
    "simple = df[df[\"type_count\"] <= 1]\n",
    "top_simple = simple[\"password\"].value_counts().nlargest(20).reset_index()\n",
    "top_simple.columns = [\"password\", \"count\"]\n",
    "fig = px.treemap(top_simple, path=[\"password\"], values=\"count\",\n",
    "                 title=\"🌲 Treemap Password con ≤1 Tipo di Carattere\",\n",
    "                 template=\"plotly_dark\", color=\"count\", color_continuous_scale=\"Blues\")\n",
    "fig.update_layout(plot_bgcolor=\"#050b18\", paper_bgcolor=\"#050b18\")\n",
    "fig.show()\n"
   ]
  },
  {
   "cell_type": "code",
   "execution_count": null,
   "id": "f20be47d",
   "metadata": {},
   "outputs": [
    {
     "data": {
      "application/vnd.plotly.v1+json": {
       "config": {
        "plotlyServerURL": "https://plot.ly"
       },
       "data": [
        {
         "hovertemplate": "strength=Debole<br>length=%{x}<br>percent=%{y}<extra></extra>",
         "legendgroup": "Debole",
         "marker": {
          "color": "crimson",
          "pattern": {
           "shape": ""
          }
         },
         "name": "Debole",
         "orientation": "v",
         "showlegend": true,
         "textposition": "auto",
         "type": "bar",
         "x": {
          "bdata": "AwQFBgcICQoLDA0=",
          "dtype": "i1"
         },
         "xaxis": "x",
         "y": {
          "bdata": "AAAAAAAAWUAAAAAAAABZQAAAAAAAAFlAAAAAAAAAWUAAAAAAAABZQDaPpgmw31hAsrjG4hqLWEBHfWejvjNYQNu2bdu2bVVAAAAAAAAAWUAAAAAAAABJQA==",
          "dtype": "f8"
         },
         "yaxis": "y"
        },
        {
         "hovertemplate": "strength=Forte<br>length=%{x}<br>percent=%{y}<extra></extra>",
         "legendgroup": "Forte",
         "marker": {
          "color": "deepskyblue",
          "pattern": {
           "shape": ""
          }
         },
         "name": "Forte",
         "orientation": "v",
         "showlegend": true,
         "textposition": "auto",
         "type": "bar",
         "x": {
          "bdata": "CAkKCw0PEA==",
          "dtype": "i1"
         },
         "xaxis": "x",
         "y": {
          "bdata": "VWW4LPsn4D+U01FORzn9PyZXEJMriAlAJEmSJEmSLEAAAAAAAABJQAAAAAAAAFlAAAAAAAAAWUA=",
          "dtype": "f8"
         },
         "yaxis": "y"
        }
       ],
       "layout": {
        "barmode": "relative",
        "font": {
         "color": "white"
        },
        "legend": {
         "title": {
          "text": "strength"
         },
         "tracegroupgap": 0
        },
        "paper_bgcolor": "#050b18",
        "plot_bgcolor": "#050b18",
        "template": {
         "data": {
          "bar": [
           {
            "error_x": {
             "color": "#f2f5fa"
            },
            "error_y": {
             "color": "#f2f5fa"
            },
            "marker": {
             "line": {
              "color": "rgb(17,17,17)",
              "width": 0.5
             },
             "pattern": {
              "fillmode": "overlay",
              "size": 10,
              "solidity": 0.2
             }
            },
            "type": "bar"
           }
          ],
          "barpolar": [
           {
            "marker": {
             "line": {
              "color": "rgb(17,17,17)",
              "width": 0.5
             },
             "pattern": {
              "fillmode": "overlay",
              "size": 10,
              "solidity": 0.2
             }
            },
            "type": "barpolar"
           }
          ],
          "carpet": [
           {
            "aaxis": {
             "endlinecolor": "#A2B1C6",
             "gridcolor": "#506784",
             "linecolor": "#506784",
             "minorgridcolor": "#506784",
             "startlinecolor": "#A2B1C6"
            },
            "baxis": {
             "endlinecolor": "#A2B1C6",
             "gridcolor": "#506784",
             "linecolor": "#506784",
             "minorgridcolor": "#506784",
             "startlinecolor": "#A2B1C6"
            },
            "type": "carpet"
           }
          ],
          "choropleth": [
           {
            "colorbar": {
             "outlinewidth": 0,
             "ticks": ""
            },
            "type": "choropleth"
           }
          ],
          "contour": [
           {
            "colorbar": {
             "outlinewidth": 0,
             "ticks": ""
            },
            "colorscale": [
             [
              0,
              "#0d0887"
             ],
             [
              0.1111111111111111,
              "#46039f"
             ],
             [
              0.2222222222222222,
              "#7201a8"
             ],
             [
              0.3333333333333333,
              "#9c179e"
             ],
             [
              0.4444444444444444,
              "#bd3786"
             ],
             [
              0.5555555555555556,
              "#d8576b"
             ],
             [
              0.6666666666666666,
              "#ed7953"
             ],
             [
              0.7777777777777778,
              "#fb9f3a"
             ],
             [
              0.8888888888888888,
              "#fdca26"
             ],
             [
              1,
              "#f0f921"
             ]
            ],
            "type": "contour"
           }
          ],
          "contourcarpet": [
           {
            "colorbar": {
             "outlinewidth": 0,
             "ticks": ""
            },
            "type": "contourcarpet"
           }
          ],
          "heatmap": [
           {
            "colorbar": {
             "outlinewidth": 0,
             "ticks": ""
            },
            "colorscale": [
             [
              0,
              "#0d0887"
             ],
             [
              0.1111111111111111,
              "#46039f"
             ],
             [
              0.2222222222222222,
              "#7201a8"
             ],
             [
              0.3333333333333333,
              "#9c179e"
             ],
             [
              0.4444444444444444,
              "#bd3786"
             ],
             [
              0.5555555555555556,
              "#d8576b"
             ],
             [
              0.6666666666666666,
              "#ed7953"
             ],
             [
              0.7777777777777778,
              "#fb9f3a"
             ],
             [
              0.8888888888888888,
              "#fdca26"
             ],
             [
              1,
              "#f0f921"
             ]
            ],
            "type": "heatmap"
           }
          ],
          "histogram": [
           {
            "marker": {
             "pattern": {
              "fillmode": "overlay",
              "size": 10,
              "solidity": 0.2
             }
            },
            "type": "histogram"
           }
          ],
          "histogram2d": [
           {
            "colorbar": {
             "outlinewidth": 0,
             "ticks": ""
            },
            "colorscale": [
             [
              0,
              "#0d0887"
             ],
             [
              0.1111111111111111,
              "#46039f"
             ],
             [
              0.2222222222222222,
              "#7201a8"
             ],
             [
              0.3333333333333333,
              "#9c179e"
             ],
             [
              0.4444444444444444,
              "#bd3786"
             ],
             [
              0.5555555555555556,
              "#d8576b"
             ],
             [
              0.6666666666666666,
              "#ed7953"
             ],
             [
              0.7777777777777778,
              "#fb9f3a"
             ],
             [
              0.8888888888888888,
              "#fdca26"
             ],
             [
              1,
              "#f0f921"
             ]
            ],
            "type": "histogram2d"
           }
          ],
          "histogram2dcontour": [
           {
            "colorbar": {
             "outlinewidth": 0,
             "ticks": ""
            },
            "colorscale": [
             [
              0,
              "#0d0887"
             ],
             [
              0.1111111111111111,
              "#46039f"
             ],
             [
              0.2222222222222222,
              "#7201a8"
             ],
             [
              0.3333333333333333,
              "#9c179e"
             ],
             [
              0.4444444444444444,
              "#bd3786"
             ],
             [
              0.5555555555555556,
              "#d8576b"
             ],
             [
              0.6666666666666666,
              "#ed7953"
             ],
             [
              0.7777777777777778,
              "#fb9f3a"
             ],
             [
              0.8888888888888888,
              "#fdca26"
             ],
             [
              1,
              "#f0f921"
             ]
            ],
            "type": "histogram2dcontour"
           }
          ],
          "mesh3d": [
           {
            "colorbar": {
             "outlinewidth": 0,
             "ticks": ""
            },
            "type": "mesh3d"
           }
          ],
          "parcoords": [
           {
            "line": {
             "colorbar": {
              "outlinewidth": 0,
              "ticks": ""
             }
            },
            "type": "parcoords"
           }
          ],
          "pie": [
           {
            "automargin": true,
            "type": "pie"
           }
          ],
          "scatter": [
           {
            "marker": {
             "line": {
              "color": "#283442"
             }
            },
            "type": "scatter"
           }
          ],
          "scatter3d": [
           {
            "line": {
             "colorbar": {
              "outlinewidth": 0,
              "ticks": ""
             }
            },
            "marker": {
             "colorbar": {
              "outlinewidth": 0,
              "ticks": ""
             }
            },
            "type": "scatter3d"
           }
          ],
          "scattercarpet": [
           {
            "marker": {
             "colorbar": {
              "outlinewidth": 0,
              "ticks": ""
             }
            },
            "type": "scattercarpet"
           }
          ],
          "scattergeo": [
           {
            "marker": {
             "colorbar": {
              "outlinewidth": 0,
              "ticks": ""
             }
            },
            "type": "scattergeo"
           }
          ],
          "scattergl": [
           {
            "marker": {
             "line": {
              "color": "#283442"
             }
            },
            "type": "scattergl"
           }
          ],
          "scattermap": [
           {
            "marker": {
             "colorbar": {
              "outlinewidth": 0,
              "ticks": ""
             }
            },
            "type": "scattermap"
           }
          ],
          "scattermapbox": [
           {
            "marker": {
             "colorbar": {
              "outlinewidth": 0,
              "ticks": ""
             }
            },
            "type": "scattermapbox"
           }
          ],
          "scatterpolar": [
           {
            "marker": {
             "colorbar": {
              "outlinewidth": 0,
              "ticks": ""
             }
            },
            "type": "scatterpolar"
           }
          ],
          "scatterpolargl": [
           {
            "marker": {
             "colorbar": {
              "outlinewidth": 0,
              "ticks": ""
             }
            },
            "type": "scatterpolargl"
           }
          ],
          "scatterternary": [
           {
            "marker": {
             "colorbar": {
              "outlinewidth": 0,
              "ticks": ""
             }
            },
            "type": "scatterternary"
           }
          ],
          "surface": [
           {
            "colorbar": {
             "outlinewidth": 0,
             "ticks": ""
            },
            "colorscale": [
             [
              0,
              "#0d0887"
             ],
             [
              0.1111111111111111,
              "#46039f"
             ],
             [
              0.2222222222222222,
              "#7201a8"
             ],
             [
              0.3333333333333333,
              "#9c179e"
             ],
             [
              0.4444444444444444,
              "#bd3786"
             ],
             [
              0.5555555555555556,
              "#d8576b"
             ],
             [
              0.6666666666666666,
              "#ed7953"
             ],
             [
              0.7777777777777778,
              "#fb9f3a"
             ],
             [
              0.8888888888888888,
              "#fdca26"
             ],
             [
              1,
              "#f0f921"
             ]
            ],
            "type": "surface"
           }
          ],
          "table": [
           {
            "cells": {
             "fill": {
              "color": "#506784"
             },
             "line": {
              "color": "rgb(17,17,17)"
             }
            },
            "header": {
             "fill": {
              "color": "#2a3f5f"
             },
             "line": {
              "color": "rgb(17,17,17)"
             }
            },
            "type": "table"
           }
          ]
         },
         "layout": {
          "annotationdefaults": {
           "arrowcolor": "#f2f5fa",
           "arrowhead": 0,
           "arrowwidth": 1
          },
          "autotypenumbers": "strict",
          "coloraxis": {
           "colorbar": {
            "outlinewidth": 0,
            "ticks": ""
           }
          },
          "colorscale": {
           "diverging": [
            [
             0,
             "#8e0152"
            ],
            [
             0.1,
             "#c51b7d"
            ],
            [
             0.2,
             "#de77ae"
            ],
            [
             0.3,
             "#f1b6da"
            ],
            [
             0.4,
             "#fde0ef"
            ],
            [
             0.5,
             "#f7f7f7"
            ],
            [
             0.6,
             "#e6f5d0"
            ],
            [
             0.7,
             "#b8e186"
            ],
            [
             0.8,
             "#7fbc41"
            ],
            [
             0.9,
             "#4d9221"
            ],
            [
             1,
             "#276419"
            ]
           ],
           "sequential": [
            [
             0,
             "#0d0887"
            ],
            [
             0.1111111111111111,
             "#46039f"
            ],
            [
             0.2222222222222222,
             "#7201a8"
            ],
            [
             0.3333333333333333,
             "#9c179e"
            ],
            [
             0.4444444444444444,
             "#bd3786"
            ],
            [
             0.5555555555555556,
             "#d8576b"
            ],
            [
             0.6666666666666666,
             "#ed7953"
            ],
            [
             0.7777777777777778,
             "#fb9f3a"
            ],
            [
             0.8888888888888888,
             "#fdca26"
            ],
            [
             1,
             "#f0f921"
            ]
           ],
           "sequentialminus": [
            [
             0,
             "#0d0887"
            ],
            [
             0.1111111111111111,
             "#46039f"
            ],
            [
             0.2222222222222222,
             "#7201a8"
            ],
            [
             0.3333333333333333,
             "#9c179e"
            ],
            [
             0.4444444444444444,
             "#bd3786"
            ],
            [
             0.5555555555555556,
             "#d8576b"
            ],
            [
             0.6666666666666666,
             "#ed7953"
            ],
            [
             0.7777777777777778,
             "#fb9f3a"
            ],
            [
             0.8888888888888888,
             "#fdca26"
            ],
            [
             1,
             "#f0f921"
            ]
           ]
          },
          "colorway": [
           "#636efa",
           "#EF553B",
           "#00cc96",
           "#ab63fa",
           "#FFA15A",
           "#19d3f3",
           "#FF6692",
           "#B6E880",
           "#FF97FF",
           "#FECB52"
          ],
          "font": {
           "color": "#f2f5fa"
          },
          "geo": {
           "bgcolor": "rgb(17,17,17)",
           "lakecolor": "rgb(17,17,17)",
           "landcolor": "rgb(17,17,17)",
           "showlakes": true,
           "showland": true,
           "subunitcolor": "#506784"
          },
          "hoverlabel": {
           "align": "left"
          },
          "hovermode": "closest",
          "mapbox": {
           "style": "dark"
          },
          "paper_bgcolor": "rgb(17,17,17)",
          "plot_bgcolor": "rgb(17,17,17)",
          "polar": {
           "angularaxis": {
            "gridcolor": "#506784",
            "linecolor": "#506784",
            "ticks": ""
           },
           "bgcolor": "rgb(17,17,17)",
           "radialaxis": {
            "gridcolor": "#506784",
            "linecolor": "#506784",
            "ticks": ""
           }
          },
          "scene": {
           "xaxis": {
            "backgroundcolor": "rgb(17,17,17)",
            "gridcolor": "#506784",
            "gridwidth": 2,
            "linecolor": "#506784",
            "showbackground": true,
            "ticks": "",
            "zerolinecolor": "#C8D4E3"
           },
           "yaxis": {
            "backgroundcolor": "rgb(17,17,17)",
            "gridcolor": "#506784",
            "gridwidth": 2,
            "linecolor": "#506784",
            "showbackground": true,
            "ticks": "",
            "zerolinecolor": "#C8D4E3"
           },
           "zaxis": {
            "backgroundcolor": "rgb(17,17,17)",
            "gridcolor": "#506784",
            "gridwidth": 2,
            "linecolor": "#506784",
            "showbackground": true,
            "ticks": "",
            "zerolinecolor": "#C8D4E3"
           }
          },
          "shapedefaults": {
           "line": {
            "color": "#f2f5fa"
           }
          },
          "sliderdefaults": {
           "bgcolor": "#C8D4E3",
           "bordercolor": "rgb(17,17,17)",
           "borderwidth": 1,
           "tickwidth": 0
          },
          "ternary": {
           "aaxis": {
            "gridcolor": "#506784",
            "linecolor": "#506784",
            "ticks": ""
           },
           "baxis": {
            "gridcolor": "#506784",
            "linecolor": "#506784",
            "ticks": ""
           },
           "bgcolor": "rgb(17,17,17)",
           "caxis": {
            "gridcolor": "#506784",
            "linecolor": "#506784",
            "ticks": ""
           }
          },
          "title": {
           "x": 0.05
          },
          "updatemenudefaults": {
           "bgcolor": "#506784",
           "borderwidth": 0
          },
          "xaxis": {
           "automargin": true,
           "gridcolor": "#283442",
           "linecolor": "#506784",
           "ticks": "",
           "title": {
            "standoff": 15
           },
           "zerolinecolor": "#283442",
           "zerolinewidth": 2
          },
          "yaxis": {
           "automargin": true,
           "gridcolor": "#283442",
           "linecolor": "#506784",
           "ticks": "",
           "title": {
            "standoff": 15
           },
           "zerolinecolor": "#283442",
           "zerolinewidth": 2
          }
         }
        },
        "title": {
         "text": "🟩 Percentuale di Password Forti/Deboli per Lunghezza"
        },
        "xaxis": {
         "anchor": "y",
         "domain": [
          0,
          1
         ],
         "title": {
          "text": "Lunghezza"
         }
        },
        "yaxis": {
         "anchor": "x",
         "domain": [
          0,
          1
         ],
         "title": {
          "text": "% sul totale per lunghezza"
         }
        }
       }
      }
     },
     "metadata": {},
     "output_type": "display_data"
    },
    {
     "data": {
      "application/vnd.plotly.v1+json": {
       "config": {
        "plotlyServerURL": "https://plot.ly"
       },
       "data": [
        {
         "branchvalues": "total",
         "customdata": [
          [
           "(?)"
          ],
          [
           "(?)"
          ],
          [
           "(?)"
          ],
          [
           "(?)"
          ],
          [
           "(?)"
          ],
          [
           "(?)"
          ],
          [
           "Debole"
          ],
          [
           "Debole"
          ],
          [
           "Debole"
          ],
          [
           "Debole"
          ],
          [
           "Debole"
          ],
          [
           "Debole"
          ],
          [
           "Debole"
          ],
          [
           "Debole"
          ],
          [
           "Forte"
          ],
          [
           "Forte"
          ],
          [
           "Forte"
          ],
          [
           "Forte"
          ]
         ],
         "domain": {
          "x": [
           0,
           1
          ],
          "y": [
           0,
           1
          ]
         },
         "hovertemplate": "labels=%{label}<br>count=%{value}<br>parent=%{parent}<br>id=%{id}<br>strength=%{customdata[0]}<extra></extra>",
         "ids": [
          "✓ simboli",
          "✓ simboli/lunga",
          "✓ simboli/media",
          "no simboli/lunga",
          "no simboli/media",
          "no simboli",
          "✓ simboli/corta",
          "no simboli/corta",
          "no simboli/corta/Debole",
          "✓ simboli/lunga/Debole",
          "✓ simboli/media/Debole",
          "no simboli/lunga/Debole",
          "no simboli/media/Debole",
          "✓ simboli/corta/Debole",
          "✓ simboli/lunga/Forte",
          "no simboli/media/Forte",
          "no simboli/lunga/Forte",
          "✓ simboli/media/Forte"
         ],
         "labels": [
          "✓ simboli",
          "lunga",
          "media",
          "lunga",
          "media",
          "no simboli",
          "corta",
          "corta",
          "Debole",
          "Debole",
          "Debole",
          "Debole",
          "Debole",
          "Debole",
          "Forte",
          "Forte",
          "Forte",
          "Forte"
         ],
         "marker": {
          "colors": [
           "#00cc96",
           "#00cc96",
           "#00cc96",
           "#00cc96",
           "#00cc96",
           "#00cc96",
           "orangered",
           "orangered",
           "orangered",
           "orangered",
           "orangered",
           "orangered",
           "orangered",
           "orangered",
           "lightgreen",
           "lightgreen",
           "lightgreen",
           "lightgreen"
          ]
         },
         "name": "",
         "parents": [
          "",
          "✓ simboli",
          "✓ simboli",
          "no simboli",
          "no simboli",
          "",
          "✓ simboli",
          "no simboli",
          "no simboli/corta",
          "✓ simboli/lunga",
          "✓ simboli/media",
          "no simboli/lunga",
          "no simboli/media",
          "✓ simboli/corta",
          "✓ simboli/lunga",
          "no simboli/media",
          "no simboli/lunga",
          "✓ simboli/media"
         ],
         "type": "sunburst",
         "values": {
          "bdata": "DAACAAQAkQBdEwQnBgAWExYTAQACAIgATBMGAAEAEQAJAAIA",
          "dtype": "i2"
         }
        }
       ],
       "layout": {
        "font": {
         "color": "white"
        },
        "legend": {
         "tracegroupgap": 0
        },
        "paper_bgcolor": "#050b18",
        "plot_bgcolor": "#050b18",
        "template": {
         "data": {
          "bar": [
           {
            "error_x": {
             "color": "#f2f5fa"
            },
            "error_y": {
             "color": "#f2f5fa"
            },
            "marker": {
             "line": {
              "color": "rgb(17,17,17)",
              "width": 0.5
             },
             "pattern": {
              "fillmode": "overlay",
              "size": 10,
              "solidity": 0.2
             }
            },
            "type": "bar"
           }
          ],
          "barpolar": [
           {
            "marker": {
             "line": {
              "color": "rgb(17,17,17)",
              "width": 0.5
             },
             "pattern": {
              "fillmode": "overlay",
              "size": 10,
              "solidity": 0.2
             }
            },
            "type": "barpolar"
           }
          ],
          "carpet": [
           {
            "aaxis": {
             "endlinecolor": "#A2B1C6",
             "gridcolor": "#506784",
             "linecolor": "#506784",
             "minorgridcolor": "#506784",
             "startlinecolor": "#A2B1C6"
            },
            "baxis": {
             "endlinecolor": "#A2B1C6",
             "gridcolor": "#506784",
             "linecolor": "#506784",
             "minorgridcolor": "#506784",
             "startlinecolor": "#A2B1C6"
            },
            "type": "carpet"
           }
          ],
          "choropleth": [
           {
            "colorbar": {
             "outlinewidth": 0,
             "ticks": ""
            },
            "type": "choropleth"
           }
          ],
          "contour": [
           {
            "colorbar": {
             "outlinewidth": 0,
             "ticks": ""
            },
            "colorscale": [
             [
              0,
              "#0d0887"
             ],
             [
              0.1111111111111111,
              "#46039f"
             ],
             [
              0.2222222222222222,
              "#7201a8"
             ],
             [
              0.3333333333333333,
              "#9c179e"
             ],
             [
              0.4444444444444444,
              "#bd3786"
             ],
             [
              0.5555555555555556,
              "#d8576b"
             ],
             [
              0.6666666666666666,
              "#ed7953"
             ],
             [
              0.7777777777777778,
              "#fb9f3a"
             ],
             [
              0.8888888888888888,
              "#fdca26"
             ],
             [
              1,
              "#f0f921"
             ]
            ],
            "type": "contour"
           }
          ],
          "contourcarpet": [
           {
            "colorbar": {
             "outlinewidth": 0,
             "ticks": ""
            },
            "type": "contourcarpet"
           }
          ],
          "heatmap": [
           {
            "colorbar": {
             "outlinewidth": 0,
             "ticks": ""
            },
            "colorscale": [
             [
              0,
              "#0d0887"
             ],
             [
              0.1111111111111111,
              "#46039f"
             ],
             [
              0.2222222222222222,
              "#7201a8"
             ],
             [
              0.3333333333333333,
              "#9c179e"
             ],
             [
              0.4444444444444444,
              "#bd3786"
             ],
             [
              0.5555555555555556,
              "#d8576b"
             ],
             [
              0.6666666666666666,
              "#ed7953"
             ],
             [
              0.7777777777777778,
              "#fb9f3a"
             ],
             [
              0.8888888888888888,
              "#fdca26"
             ],
             [
              1,
              "#f0f921"
             ]
            ],
            "type": "heatmap"
           }
          ],
          "histogram": [
           {
            "marker": {
             "pattern": {
              "fillmode": "overlay",
              "size": 10,
              "solidity": 0.2
             }
            },
            "type": "histogram"
           }
          ],
          "histogram2d": [
           {
            "colorbar": {
             "outlinewidth": 0,
             "ticks": ""
            },
            "colorscale": [
             [
              0,
              "#0d0887"
             ],
             [
              0.1111111111111111,
              "#46039f"
             ],
             [
              0.2222222222222222,
              "#7201a8"
             ],
             [
              0.3333333333333333,
              "#9c179e"
             ],
             [
              0.4444444444444444,
              "#bd3786"
             ],
             [
              0.5555555555555556,
              "#d8576b"
             ],
             [
              0.6666666666666666,
              "#ed7953"
             ],
             [
              0.7777777777777778,
              "#fb9f3a"
             ],
             [
              0.8888888888888888,
              "#fdca26"
             ],
             [
              1,
              "#f0f921"
             ]
            ],
            "type": "histogram2d"
           }
          ],
          "histogram2dcontour": [
           {
            "colorbar": {
             "outlinewidth": 0,
             "ticks": ""
            },
            "colorscale": [
             [
              0,
              "#0d0887"
             ],
             [
              0.1111111111111111,
              "#46039f"
             ],
             [
              0.2222222222222222,
              "#7201a8"
             ],
             [
              0.3333333333333333,
              "#9c179e"
             ],
             [
              0.4444444444444444,
              "#bd3786"
             ],
             [
              0.5555555555555556,
              "#d8576b"
             ],
             [
              0.6666666666666666,
              "#ed7953"
             ],
             [
              0.7777777777777778,
              "#fb9f3a"
             ],
             [
              0.8888888888888888,
              "#fdca26"
             ],
             [
              1,
              "#f0f921"
             ]
            ],
            "type": "histogram2dcontour"
           }
          ],
          "mesh3d": [
           {
            "colorbar": {
             "outlinewidth": 0,
             "ticks": ""
            },
            "type": "mesh3d"
           }
          ],
          "parcoords": [
           {
            "line": {
             "colorbar": {
              "outlinewidth": 0,
              "ticks": ""
             }
            },
            "type": "parcoords"
           }
          ],
          "pie": [
           {
            "automargin": true,
            "type": "pie"
           }
          ],
          "scatter": [
           {
            "marker": {
             "line": {
              "color": "#283442"
             }
            },
            "type": "scatter"
           }
          ],
          "scatter3d": [
           {
            "line": {
             "colorbar": {
              "outlinewidth": 0,
              "ticks": ""
             }
            },
            "marker": {
             "colorbar": {
              "outlinewidth": 0,
              "ticks": ""
             }
            },
            "type": "scatter3d"
           }
          ],
          "scattercarpet": [
           {
            "marker": {
             "colorbar": {
              "outlinewidth": 0,
              "ticks": ""
             }
            },
            "type": "scattercarpet"
           }
          ],
          "scattergeo": [
           {
            "marker": {
             "colorbar": {
              "outlinewidth": 0,
              "ticks": ""
             }
            },
            "type": "scattergeo"
           }
          ],
          "scattergl": [
           {
            "marker": {
             "line": {
              "color": "#283442"
             }
            },
            "type": "scattergl"
           }
          ],
          "scattermap": [
           {
            "marker": {
             "colorbar": {
              "outlinewidth": 0,
              "ticks": ""
             }
            },
            "type": "scattermap"
           }
          ],
          "scattermapbox": [
           {
            "marker": {
             "colorbar": {
              "outlinewidth": 0,
              "ticks": ""
             }
            },
            "type": "scattermapbox"
           }
          ],
          "scatterpolar": [
           {
            "marker": {
             "colorbar": {
              "outlinewidth": 0,
              "ticks": ""
             }
            },
            "type": "scatterpolar"
           }
          ],
          "scatterpolargl": [
           {
            "marker": {
             "colorbar": {
              "outlinewidth": 0,
              "ticks": ""
             }
            },
            "type": "scatterpolargl"
           }
          ],
          "scatterternary": [
           {
            "marker": {
             "colorbar": {
              "outlinewidth": 0,
              "ticks": ""
             }
            },
            "type": "scatterternary"
           }
          ],
          "surface": [
           {
            "colorbar": {
             "outlinewidth": 0,
             "ticks": ""
            },
            "colorscale": [
             [
              0,
              "#0d0887"
             ],
             [
              0.1111111111111111,
              "#46039f"
             ],
             [
              0.2222222222222222,
              "#7201a8"
             ],
             [
              0.3333333333333333,
              "#9c179e"
             ],
             [
              0.4444444444444444,
              "#bd3786"
             ],
             [
              0.5555555555555556,
              "#d8576b"
             ],
             [
              0.6666666666666666,
              "#ed7953"
             ],
             [
              0.7777777777777778,
              "#fb9f3a"
             ],
             [
              0.8888888888888888,
              "#fdca26"
             ],
             [
              1,
              "#f0f921"
             ]
            ],
            "type": "surface"
           }
          ],
          "table": [
           {
            "cells": {
             "fill": {
              "color": "#506784"
             },
             "line": {
              "color": "rgb(17,17,17)"
             }
            },
            "header": {
             "fill": {
              "color": "#2a3f5f"
             },
             "line": {
              "color": "rgb(17,17,17)"
             }
            },
            "type": "table"
           }
          ]
         },
         "layout": {
          "annotationdefaults": {
           "arrowcolor": "#f2f5fa",
           "arrowhead": 0,
           "arrowwidth": 1
          },
          "autotypenumbers": "strict",
          "coloraxis": {
           "colorbar": {
            "outlinewidth": 0,
            "ticks": ""
           }
          },
          "colorscale": {
           "diverging": [
            [
             0,
             "#8e0152"
            ],
            [
             0.1,
             "#c51b7d"
            ],
            [
             0.2,
             "#de77ae"
            ],
            [
             0.3,
             "#f1b6da"
            ],
            [
             0.4,
             "#fde0ef"
            ],
            [
             0.5,
             "#f7f7f7"
            ],
            [
             0.6,
             "#e6f5d0"
            ],
            [
             0.7,
             "#b8e186"
            ],
            [
             0.8,
             "#7fbc41"
            ],
            [
             0.9,
             "#4d9221"
            ],
            [
             1,
             "#276419"
            ]
           ],
           "sequential": [
            [
             0,
             "#0d0887"
            ],
            [
             0.1111111111111111,
             "#46039f"
            ],
            [
             0.2222222222222222,
             "#7201a8"
            ],
            [
             0.3333333333333333,
             "#9c179e"
            ],
            [
             0.4444444444444444,
             "#bd3786"
            ],
            [
             0.5555555555555556,
             "#d8576b"
            ],
            [
             0.6666666666666666,
             "#ed7953"
            ],
            [
             0.7777777777777778,
             "#fb9f3a"
            ],
            [
             0.8888888888888888,
             "#fdca26"
            ],
            [
             1,
             "#f0f921"
            ]
           ],
           "sequentialminus": [
            [
             0,
             "#0d0887"
            ],
            [
             0.1111111111111111,
             "#46039f"
            ],
            [
             0.2222222222222222,
             "#7201a8"
            ],
            [
             0.3333333333333333,
             "#9c179e"
            ],
            [
             0.4444444444444444,
             "#bd3786"
            ],
            [
             0.5555555555555556,
             "#d8576b"
            ],
            [
             0.6666666666666666,
             "#ed7953"
            ],
            [
             0.7777777777777778,
             "#fb9f3a"
            ],
            [
             0.8888888888888888,
             "#fdca26"
            ],
            [
             1,
             "#f0f921"
            ]
           ]
          },
          "colorway": [
           "#636efa",
           "#EF553B",
           "#00cc96",
           "#ab63fa",
           "#FFA15A",
           "#19d3f3",
           "#FF6692",
           "#B6E880",
           "#FF97FF",
           "#FECB52"
          ],
          "font": {
           "color": "#f2f5fa"
          },
          "geo": {
           "bgcolor": "rgb(17,17,17)",
           "lakecolor": "rgb(17,17,17)",
           "landcolor": "rgb(17,17,17)",
           "showlakes": true,
           "showland": true,
           "subunitcolor": "#506784"
          },
          "hoverlabel": {
           "align": "left"
          },
          "hovermode": "closest",
          "mapbox": {
           "style": "dark"
          },
          "paper_bgcolor": "rgb(17,17,17)",
          "plot_bgcolor": "rgb(17,17,17)",
          "polar": {
           "angularaxis": {
            "gridcolor": "#506784",
            "linecolor": "#506784",
            "ticks": ""
           },
           "bgcolor": "rgb(17,17,17)",
           "radialaxis": {
            "gridcolor": "#506784",
            "linecolor": "#506784",
            "ticks": ""
           }
          },
          "scene": {
           "xaxis": {
            "backgroundcolor": "rgb(17,17,17)",
            "gridcolor": "#506784",
            "gridwidth": 2,
            "linecolor": "#506784",
            "showbackground": true,
            "ticks": "",
            "zerolinecolor": "#C8D4E3"
           },
           "yaxis": {
            "backgroundcolor": "rgb(17,17,17)",
            "gridcolor": "#506784",
            "gridwidth": 2,
            "linecolor": "#506784",
            "showbackground": true,
            "ticks": "",
            "zerolinecolor": "#C8D4E3"
           },
           "zaxis": {
            "backgroundcolor": "rgb(17,17,17)",
            "gridcolor": "#506784",
            "gridwidth": 2,
            "linecolor": "#506784",
            "showbackground": true,
            "ticks": "",
            "zerolinecolor": "#C8D4E3"
           }
          },
          "shapedefaults": {
           "line": {
            "color": "#f2f5fa"
           }
          },
          "sliderdefaults": {
           "bgcolor": "#C8D4E3",
           "bordercolor": "rgb(17,17,17)",
           "borderwidth": 1,
           "tickwidth": 0
          },
          "ternary": {
           "aaxis": {
            "gridcolor": "#506784",
            "linecolor": "#506784",
            "ticks": ""
           },
           "baxis": {
            "gridcolor": "#506784",
            "linecolor": "#506784",
            "ticks": ""
           },
           "bgcolor": "rgb(17,17,17)",
           "caxis": {
            "gridcolor": "#506784",
            "linecolor": "#506784",
            "ticks": ""
           }
          },
          "title": {
           "x": 0.05
          },
          "updatemenudefaults": {
           "bgcolor": "#506784",
           "borderwidth": 0
          },
          "xaxis": {
           "automargin": true,
           "gridcolor": "#283442",
           "linecolor": "#506784",
           "ticks": "",
           "title": {
            "standoff": 15
           },
           "zerolinecolor": "#283442",
           "zerolinewidth": 2
          },
          "yaxis": {
           "automargin": true,
           "gridcolor": "#283442",
           "linecolor": "#506784",
           "ticks": "",
           "title": {
            "standoff": 15
           },
           "zerolinecolor": "#283442",
           "zerolinewidth": 2
          }
         }
        },
        "title": {
         "text": "🌞 Gerarchia: Simboli → Lunghezza → Forza Password"
        }
       }
      }
     },
     "metadata": {},
     "output_type": "display_data"
    },
    {
     "data": {
      "application/vnd.plotly.v1+json": {
       "config": {
        "plotlyServerURL": "https://plot.ly"
       },
       "data": [
        {
         "colorscale": [
          [
           0,
           "#440154"
          ],
          [
           0.1111111111111111,
           "#482878"
          ],
          [
           0.2222222222222222,
           "#3e4989"
          ],
          [
           0.3333333333333333,
           "#31688e"
          ],
          [
           0.4444444444444444,
           "#26828e"
          ],
          [
           0.5555555555555556,
           "#1f9e89"
          ],
          [
           0.6666666666666666,
           "#35b779"
          ],
          [
           0.7777777777777778,
           "#6ece58"
          ],
          [
           0.8888888888888888,
           "#b5de2b"
          ],
          [
           1,
           "#fde725"
          ]
         ],
         "type": "heatmap",
         "x": {
          "bdata": "AAECAwQFBgcICQoLDA==",
          "dtype": "i1"
         },
         "y": {
          "bdata": "AAECAwUG",
          "dtype": "i1"
         },
         "z": {
          "bdata": "AAAAAAAJvEAAAAAAANB8QAAAAAAAwFZAAAAAAAAgYUAAAAAAAJBxQAAAAAAAgE1AAAAAAACQc0AAAAAAAABIQAAAAAAAKJVAAAAAAAAAREAAAAAAAAA5QAAAAAAAAPA/AAAAAAAA8D8AAAAAAAAIQAAAAAAAAAAAAAAAAAAAAAAAAAAAAADwPwAAAAAAAAAAAAAAAAAAAAAAAAAAAAAAAAAAAAAAAAAAAAAAAAAAAAAAAAAAAAAAAAAAAAAAAPA/AAAAAAAAAAAAAAAAAAAAAAAAAAAAAPA/AAAAAAAAAAAAAAAAAAAAAAAAAAAAAAAAAAAAAAAAAAAAAAAAAADwPwAAAAAAAAAAAAAAAAAAAAAAAAAAAAAAAAAAAAAAAAAAAAAAAAAAAAAAAAAAAAAAAAAAAAAAAAAAAAAAAAAAAAAAAAAAAAAAAAAAAAAAAAAAAAAAAAAAAAAAAAAAAAAAAAAAAAAAAAAAAAAAAAAA8D8AAAAAAAAAAAAAAAAAAAAAAAAAAAAAAAAAAAAAAAAAAAAAAAAAAAAAAAAAAAAAAAAAAAAAAAAAQAAAAAAAAAAAAAAAAAAAAAAAAAAAAAAAAAAAAAAAAAAAAAAAAAAAAAAAAAAAAAAAAAAAAAAAAAAAAAAAAAAAAAAAAAAAAAAAAAAAAAAAAAAAAAAAAAAAAAAAAAAAAAAAAAAAAAAAAABAAAAAAAAAAAAAAAAAAAAAAAAAAAAAAAAAAAAAAAAAAAAAAAAAAAAAAAAAAAAAAAAAAAAAAAAAAAAAAAAAAAAAAAAAAAAAAAAAAAAAAAAAAAAAAAAAAAAAAAAAAAAAAAAA",
          "dtype": "f8",
          "shape": "6, 13"
         }
        }
       ],
       "layout": {
        "font": {
         "color": "white"
        },
        "paper_bgcolor": "#050b18",
        "plot_bgcolor": "#050b18",
        "template": {
         "data": {
          "bar": [
           {
            "error_x": {
             "color": "#f2f5fa"
            },
            "error_y": {
             "color": "#f2f5fa"
            },
            "marker": {
             "line": {
              "color": "rgb(17,17,17)",
              "width": 0.5
             },
             "pattern": {
              "fillmode": "overlay",
              "size": 10,
              "solidity": 0.2
             }
            },
            "type": "bar"
           }
          ],
          "barpolar": [
           {
            "marker": {
             "line": {
              "color": "rgb(17,17,17)",
              "width": 0.5
             },
             "pattern": {
              "fillmode": "overlay",
              "size": 10,
              "solidity": 0.2
             }
            },
            "type": "barpolar"
           }
          ],
          "carpet": [
           {
            "aaxis": {
             "endlinecolor": "#A2B1C6",
             "gridcolor": "#506784",
             "linecolor": "#506784",
             "minorgridcolor": "#506784",
             "startlinecolor": "#A2B1C6"
            },
            "baxis": {
             "endlinecolor": "#A2B1C6",
             "gridcolor": "#506784",
             "linecolor": "#506784",
             "minorgridcolor": "#506784",
             "startlinecolor": "#A2B1C6"
            },
            "type": "carpet"
           }
          ],
          "choropleth": [
           {
            "colorbar": {
             "outlinewidth": 0,
             "ticks": ""
            },
            "type": "choropleth"
           }
          ],
          "contour": [
           {
            "colorbar": {
             "outlinewidth": 0,
             "ticks": ""
            },
            "colorscale": [
             [
              0,
              "#0d0887"
             ],
             [
              0.1111111111111111,
              "#46039f"
             ],
             [
              0.2222222222222222,
              "#7201a8"
             ],
             [
              0.3333333333333333,
              "#9c179e"
             ],
             [
              0.4444444444444444,
              "#bd3786"
             ],
             [
              0.5555555555555556,
              "#d8576b"
             ],
             [
              0.6666666666666666,
              "#ed7953"
             ],
             [
              0.7777777777777778,
              "#fb9f3a"
             ],
             [
              0.8888888888888888,
              "#fdca26"
             ],
             [
              1,
              "#f0f921"
             ]
            ],
            "type": "contour"
           }
          ],
          "contourcarpet": [
           {
            "colorbar": {
             "outlinewidth": 0,
             "ticks": ""
            },
            "type": "contourcarpet"
           }
          ],
          "heatmap": [
           {
            "colorbar": {
             "outlinewidth": 0,
             "ticks": ""
            },
            "colorscale": [
             [
              0,
              "#0d0887"
             ],
             [
              0.1111111111111111,
              "#46039f"
             ],
             [
              0.2222222222222222,
              "#7201a8"
             ],
             [
              0.3333333333333333,
              "#9c179e"
             ],
             [
              0.4444444444444444,
              "#bd3786"
             ],
             [
              0.5555555555555556,
              "#d8576b"
             ],
             [
              0.6666666666666666,
              "#ed7953"
             ],
             [
              0.7777777777777778,
              "#fb9f3a"
             ],
             [
              0.8888888888888888,
              "#fdca26"
             ],
             [
              1,
              "#f0f921"
             ]
            ],
            "type": "heatmap"
           }
          ],
          "histogram": [
           {
            "marker": {
             "pattern": {
              "fillmode": "overlay",
              "size": 10,
              "solidity": 0.2
             }
            },
            "type": "histogram"
           }
          ],
          "histogram2d": [
           {
            "colorbar": {
             "outlinewidth": 0,
             "ticks": ""
            },
            "colorscale": [
             [
              0,
              "#0d0887"
             ],
             [
              0.1111111111111111,
              "#46039f"
             ],
             [
              0.2222222222222222,
              "#7201a8"
             ],
             [
              0.3333333333333333,
              "#9c179e"
             ],
             [
              0.4444444444444444,
              "#bd3786"
             ],
             [
              0.5555555555555556,
              "#d8576b"
             ],
             [
              0.6666666666666666,
              "#ed7953"
             ],
             [
              0.7777777777777778,
              "#fb9f3a"
             ],
             [
              0.8888888888888888,
              "#fdca26"
             ],
             [
              1,
              "#f0f921"
             ]
            ],
            "type": "histogram2d"
           }
          ],
          "histogram2dcontour": [
           {
            "colorbar": {
             "outlinewidth": 0,
             "ticks": ""
            },
            "colorscale": [
             [
              0,
              "#0d0887"
             ],
             [
              0.1111111111111111,
              "#46039f"
             ],
             [
              0.2222222222222222,
              "#7201a8"
             ],
             [
              0.3333333333333333,
              "#9c179e"
             ],
             [
              0.4444444444444444,
              "#bd3786"
             ],
             [
              0.5555555555555556,
              "#d8576b"
             ],
             [
              0.6666666666666666,
              "#ed7953"
             ],
             [
              0.7777777777777778,
              "#fb9f3a"
             ],
             [
              0.8888888888888888,
              "#fdca26"
             ],
             [
              1,
              "#f0f921"
             ]
            ],
            "type": "histogram2dcontour"
           }
          ],
          "mesh3d": [
           {
            "colorbar": {
             "outlinewidth": 0,
             "ticks": ""
            },
            "type": "mesh3d"
           }
          ],
          "parcoords": [
           {
            "line": {
             "colorbar": {
              "outlinewidth": 0,
              "ticks": ""
             }
            },
            "type": "parcoords"
           }
          ],
          "pie": [
           {
            "automargin": true,
            "type": "pie"
           }
          ],
          "scatter": [
           {
            "marker": {
             "line": {
              "color": "#283442"
             }
            },
            "type": "scatter"
           }
          ],
          "scatter3d": [
           {
            "line": {
             "colorbar": {
              "outlinewidth": 0,
              "ticks": ""
             }
            },
            "marker": {
             "colorbar": {
              "outlinewidth": 0,
              "ticks": ""
             }
            },
            "type": "scatter3d"
           }
          ],
          "scattercarpet": [
           {
            "marker": {
             "colorbar": {
              "outlinewidth": 0,
              "ticks": ""
             }
            },
            "type": "scattercarpet"
           }
          ],
          "scattergeo": [
           {
            "marker": {
             "colorbar": {
              "outlinewidth": 0,
              "ticks": ""
             }
            },
            "type": "scattergeo"
           }
          ],
          "scattergl": [
           {
            "marker": {
             "line": {
              "color": "#283442"
             }
            },
            "type": "scattergl"
           }
          ],
          "scattermap": [
           {
            "marker": {
             "colorbar": {
              "outlinewidth": 0,
              "ticks": ""
             }
            },
            "type": "scattermap"
           }
          ],
          "scattermapbox": [
           {
            "marker": {
             "colorbar": {
              "outlinewidth": 0,
              "ticks": ""
             }
            },
            "type": "scattermapbox"
           }
          ],
          "scatterpolar": [
           {
            "marker": {
             "colorbar": {
              "outlinewidth": 0,
              "ticks": ""
             }
            },
            "type": "scatterpolar"
           }
          ],
          "scatterpolargl": [
           {
            "marker": {
             "colorbar": {
              "outlinewidth": 0,
              "ticks": ""
             }
            },
            "type": "scatterpolargl"
           }
          ],
          "scatterternary": [
           {
            "marker": {
             "colorbar": {
              "outlinewidth": 0,
              "ticks": ""
             }
            },
            "type": "scatterternary"
           }
          ],
          "surface": [
           {
            "colorbar": {
             "outlinewidth": 0,
             "ticks": ""
            },
            "colorscale": [
             [
              0,
              "#0d0887"
             ],
             [
              0.1111111111111111,
              "#46039f"
             ],
             [
              0.2222222222222222,
              "#7201a8"
             ],
             [
              0.3333333333333333,
              "#9c179e"
             ],
             [
              0.4444444444444444,
              "#bd3786"
             ],
             [
              0.5555555555555556,
              "#d8576b"
             ],
             [
              0.6666666666666666,
              "#ed7953"
             ],
             [
              0.7777777777777778,
              "#fb9f3a"
             ],
             [
              0.8888888888888888,
              "#fdca26"
             ],
             [
              1,
              "#f0f921"
             ]
            ],
            "type": "surface"
           }
          ],
          "table": [
           {
            "cells": {
             "fill": {
              "color": "#506784"
             },
             "line": {
              "color": "rgb(17,17,17)"
             }
            },
            "header": {
             "fill": {
              "color": "#2a3f5f"
             },
             "line": {
              "color": "rgb(17,17,17)"
             }
            },
            "type": "table"
           }
          ]
         },
         "layout": {
          "annotationdefaults": {
           "arrowcolor": "#f2f5fa",
           "arrowhead": 0,
           "arrowwidth": 1
          },
          "autotypenumbers": "strict",
          "coloraxis": {
           "colorbar": {
            "outlinewidth": 0,
            "ticks": ""
           }
          },
          "colorscale": {
           "diverging": [
            [
             0,
             "#8e0152"
            ],
            [
             0.1,
             "#c51b7d"
            ],
            [
             0.2,
             "#de77ae"
            ],
            [
             0.3,
             "#f1b6da"
            ],
            [
             0.4,
             "#fde0ef"
            ],
            [
             0.5,
             "#f7f7f7"
            ],
            [
             0.6,
             "#e6f5d0"
            ],
            [
             0.7,
             "#b8e186"
            ],
            [
             0.8,
             "#7fbc41"
            ],
            [
             0.9,
             "#4d9221"
            ],
            [
             1,
             "#276419"
            ]
           ],
           "sequential": [
            [
             0,
             "#0d0887"
            ],
            [
             0.1111111111111111,
             "#46039f"
            ],
            [
             0.2222222222222222,
             "#7201a8"
            ],
            [
             0.3333333333333333,
             "#9c179e"
            ],
            [
             0.4444444444444444,
             "#bd3786"
            ],
            [
             0.5555555555555556,
             "#d8576b"
            ],
            [
             0.6666666666666666,
             "#ed7953"
            ],
            [
             0.7777777777777778,
             "#fb9f3a"
            ],
            [
             0.8888888888888888,
             "#fdca26"
            ],
            [
             1,
             "#f0f921"
            ]
           ],
           "sequentialminus": [
            [
             0,
             "#0d0887"
            ],
            [
             0.1111111111111111,
             "#46039f"
            ],
            [
             0.2222222222222222,
             "#7201a8"
            ],
            [
             0.3333333333333333,
             "#9c179e"
            ],
            [
             0.4444444444444444,
             "#bd3786"
            ],
            [
             0.5555555555555556,
             "#d8576b"
            ],
            [
             0.6666666666666666,
             "#ed7953"
            ],
            [
             0.7777777777777778,
             "#fb9f3a"
            ],
            [
             0.8888888888888888,
             "#fdca26"
            ],
            [
             1,
             "#f0f921"
            ]
           ]
          },
          "colorway": [
           "#636efa",
           "#EF553B",
           "#00cc96",
           "#ab63fa",
           "#FFA15A",
           "#19d3f3",
           "#FF6692",
           "#B6E880",
           "#FF97FF",
           "#FECB52"
          ],
          "font": {
           "color": "#f2f5fa"
          },
          "geo": {
           "bgcolor": "rgb(17,17,17)",
           "lakecolor": "rgb(17,17,17)",
           "landcolor": "rgb(17,17,17)",
           "showlakes": true,
           "showland": true,
           "subunitcolor": "#506784"
          },
          "hoverlabel": {
           "align": "left"
          },
          "hovermode": "closest",
          "mapbox": {
           "style": "dark"
          },
          "paper_bgcolor": "rgb(17,17,17)",
          "plot_bgcolor": "rgb(17,17,17)",
          "polar": {
           "angularaxis": {
            "gridcolor": "#506784",
            "linecolor": "#506784",
            "ticks": ""
           },
           "bgcolor": "rgb(17,17,17)",
           "radialaxis": {
            "gridcolor": "#506784",
            "linecolor": "#506784",
            "ticks": ""
           }
          },
          "scene": {
           "xaxis": {
            "backgroundcolor": "rgb(17,17,17)",
            "gridcolor": "#506784",
            "gridwidth": 2,
            "linecolor": "#506784",
            "showbackground": true,
            "ticks": "",
            "zerolinecolor": "#C8D4E3"
           },
           "yaxis": {
            "backgroundcolor": "rgb(17,17,17)",
            "gridcolor": "#506784",
            "gridwidth": 2,
            "linecolor": "#506784",
            "showbackground": true,
            "ticks": "",
            "zerolinecolor": "#C8D4E3"
           },
           "zaxis": {
            "backgroundcolor": "rgb(17,17,17)",
            "gridcolor": "#506784",
            "gridwidth": 2,
            "linecolor": "#506784",
            "showbackground": true,
            "ticks": "",
            "zerolinecolor": "#C8D4E3"
           }
          },
          "shapedefaults": {
           "line": {
            "color": "#f2f5fa"
           }
          },
          "sliderdefaults": {
           "bgcolor": "#C8D4E3",
           "bordercolor": "rgb(17,17,17)",
           "borderwidth": 1,
           "tickwidth": 0
          },
          "ternary": {
           "aaxis": {
            "gridcolor": "#506784",
            "linecolor": "#506784",
            "ticks": ""
           },
           "baxis": {
            "gridcolor": "#506784",
            "linecolor": "#506784",
            "ticks": ""
           },
           "bgcolor": "rgb(17,17,17)",
           "caxis": {
            "gridcolor": "#506784",
            "linecolor": "#506784",
            "ticks": ""
           }
          },
          "title": {
           "x": 0.05
          },
          "updatemenudefaults": {
           "bgcolor": "#506784",
           "borderwidth": 0
          },
          "xaxis": {
           "automargin": true,
           "gridcolor": "#283442",
           "linecolor": "#506784",
           "ticks": "",
           "title": {
            "standoff": 15
           },
           "zerolinecolor": "#283442",
           "zerolinewidth": 2
          },
          "yaxis": {
           "automargin": true,
           "gridcolor": "#283442",
           "linecolor": "#506784",
           "ticks": "",
           "title": {
            "standoff": 15
           },
           "zerolinecolor": "#283442",
           "zerolinewidth": 2
          }
         }
        },
        "title": {
         "text": "🔥 Frequenza Password per Num. Cifre e Simboli"
        },
        "xaxis": {
         "title": {
          "text": "Numero Cifre"
         }
        },
        "yaxis": {
         "title": {
          "text": "Numero Simboli"
         }
        }
       }
      }
     },
     "metadata": {},
     "output_type": "display_data"
    }
   ],
   "source": [
    "# 📦 IMPORT E DATI\n",
    "import pandas as pd\n",
    "import plotly.express as px\n",
    "import plotly.graph_objects as go\n",
    "from plotly.subplots import make_subplots\n",
    "\n",
    "df = pd.read_csv(\"common_passwords.csv\")\n",
    "\n",
    "# 📌 CLASSIFICAZIONE FORTE / DEBOLE\n",
    "def classify_strength(row):\n",
    "    score = 0\n",
    "    score += row['length'] >= 8\n",
    "    score += row['num_special'] > 0\n",
    "    score += row['num_upper'] > 0\n",
    "    score += row['num_digits'] > 0\n",
    "    return 'Forte' if score >= 3 else 'Debole'\n",
    "\n",
    "df['strength'] = df.apply(classify_strength, axis=1)\n",
    "# 📊 Prepara i dati\n",
    "group = df.groupby(['length', 'strength']).size().reset_index(name='count')\n",
    "total = group.groupby('length')['count'].transform('sum')\n",
    "group['percent'] = group['count'] / total * 100\n",
    "\n",
    "# 📉 Plot\n",
    "fig = px.bar(group, x='length', y='percent', color='strength',\n",
    "             title=\"🟩 Percentuale di Password Forti/Deboli per Lunghezza\",\n",
    "             template='plotly_dark',\n",
    "             color_discrete_map={'Forte': 'deepskyblue', 'Debole': 'crimson'})\n",
    "\n",
    "fig.update_layout(\n",
    "    plot_bgcolor='#050b18',\n",
    "    paper_bgcolor='#050b18',\n",
    "    font=dict(color='white'),\n",
    "    yaxis_title=\"% sul totale per lunghezza\",\n",
    "    xaxis_title=\"Lunghezza\"\n",
    ")\n",
    "fig.show()\n",
    "# 🌞 Crea colonne categoriche\n",
    "df['has_special'] = df['num_special'].apply(lambda x: '✓ simboli' if x > 0 else 'no simboli')\n",
    "df['length_bin'] = pd.cut(df['length'], bins=[0,6,9,20], labels=['corta','media','lunga'])\n",
    "\n",
    "fig = px.sunburst(df, path=['has_special', 'length_bin', 'strength'],\n",
    "                  title=\"🌞 Gerarchia: Simboli → Lunghezza → Forza Password\",\n",
    "                  template=\"plotly_dark\",\n",
    "                  color='strength',\n",
    "                  color_discrete_map={'Forte': 'lightgreen', 'Debole': 'orangered'})\n",
    "\n",
    "fig.update_layout(\n",
    "    plot_bgcolor='#050b18',\n",
    "    paper_bgcolor='#050b18',\n",
    "    font=dict(color='white')\n",
    ")\n",
    "fig.show()\n",
    "# 🔥 Crea matrice\n",
    "heatmap_data = df.groupby(['num_digits', 'num_special']).size().reset_index(name='count')\n",
    "heatmap_data = heatmap_data.pivot(index='num_special', columns='num_digits', values='count').fillna(0)\n",
    "\n",
    "# 🔥 Heatmap\n",
    "fig = go.Figure(data=go.Heatmap(\n",
    "    z=heatmap_data.values,\n",
    "    x=heatmap_data.columns,\n",
    "    y=heatmap_data.index,\n",
    "    colorscale='Viridis'))\n",
    "\n",
    "fig.update_layout(\n",
    "    title='🔥 Frequenza Password per Num. Cifre e Simboli',\n",
    "    xaxis_title='Numero Cifre',\n",
    "    yaxis_title='Numero Simboli',\n",
    "    template='plotly_dark',\n",
    "    plot_bgcolor='#050b18',\n",
    "    paper_bgcolor='#050b18',\n",
    "    font=dict(color='white')\n",
    ")\n",
    "fig.show()\n",
    "\n"
   ]
  },
  {
   "cell_type": "markdown",
   "id": "bc595b95",
   "metadata": {},
   "source": [
    "top 10 pwd"
   ]
  },
  {
   "cell_type": "code",
   "execution_count": null,
   "id": "ac41b4eb",
   "metadata": {},
   "outputs": [
    {
     "data": {
      "application/vnd.plotly.v1+json": {
       "config": {
        "plotlyServerURL": "https://plot.ly"
       },
       "data": [
        {
         "cells": {
          "align": "left",
          "fill": {
           "color": "#0b101a"
          },
          "font": {
           "color": "lightgray",
           "size": 13
          },
          "height": 28,
          "values": [
           [
            1,
            2,
            3,
            4,
            5,
            6,
            7,
            8,
            9,
            10
           ],
           [
            "abcdef",
            "easy",
            "gabby",
            "7777777",
            "darina",
            "discus",
            "monkey",
            "brady",
            "123456",
            "password"
           ],
           [
            2,
            2,
            1,
            1,
            1,
            1,
            1,
            1,
            1,
            1
           ],
           [
            "▮▮▮▮▮▮▮▮▮▮▮▮▮▮▮▮▮▮▮▮",
            "▮▮▮▮▮▮▮▮▮▮▮▮▮▮▮▮▮▮▮▮",
            "▮▮▮▮▮▮▮▮▮▮",
            "▮▮▮▮▮▮▮▮▮▮",
            "▮▮▮▮▮▮▮▮▮▮",
            "▮▮▮▮▮▮▮▮▮▮",
            "▮▮▮▮▮▮▮▮▮▮",
            "▮▮▮▮▮▮▮▮▮▮",
            "▮▮▮▮▮▮▮▮▮▮",
            "▮▮▮▮▮▮▮▮▮▮"
           ]
          ]
         },
         "header": {
          "align": "left",
          "fill": {
           "color": "#1f2a39"
          },
          "font": {
           "color": "white",
           "size": 14
          },
          "values": [
           "<b>Pos</b>",
           "<b>Password</b>",
           "<b>Frequenza</b>",
           "<b>Visuale</b>"
          ]
         },
         "type": "table"
        }
       ],
       "layout": {
        "font": {
         "color": "white",
         "family": "Courier New"
        },
        "margin": {
         "b": 20,
         "l": 20,
         "r": 20,
         "t": 60
        },
        "paper_bgcolor": "#050b18",
        "plot_bgcolor": "#050b18",
        "template": {
         "data": {
          "bar": [
           {
            "error_x": {
             "color": "#f2f5fa"
            },
            "error_y": {
             "color": "#f2f5fa"
            },
            "marker": {
             "line": {
              "color": "rgb(17,17,17)",
              "width": 0.5
             },
             "pattern": {
              "fillmode": "overlay",
              "size": 10,
              "solidity": 0.2
             }
            },
            "type": "bar"
           }
          ],
          "barpolar": [
           {
            "marker": {
             "line": {
              "color": "rgb(17,17,17)",
              "width": 0.5
             },
             "pattern": {
              "fillmode": "overlay",
              "size": 10,
              "solidity": 0.2
             }
            },
            "type": "barpolar"
           }
          ],
          "carpet": [
           {
            "aaxis": {
             "endlinecolor": "#A2B1C6",
             "gridcolor": "#506784",
             "linecolor": "#506784",
             "minorgridcolor": "#506784",
             "startlinecolor": "#A2B1C6"
            },
            "baxis": {
             "endlinecolor": "#A2B1C6",
             "gridcolor": "#506784",
             "linecolor": "#506784",
             "minorgridcolor": "#506784",
             "startlinecolor": "#A2B1C6"
            },
            "type": "carpet"
           }
          ],
          "choropleth": [
           {
            "colorbar": {
             "outlinewidth": 0,
             "ticks": ""
            },
            "type": "choropleth"
           }
          ],
          "contour": [
           {
            "colorbar": {
             "outlinewidth": 0,
             "ticks": ""
            },
            "colorscale": [
             [
              0,
              "#0d0887"
             ],
             [
              0.1111111111111111,
              "#46039f"
             ],
             [
              0.2222222222222222,
              "#7201a8"
             ],
             [
              0.3333333333333333,
              "#9c179e"
             ],
             [
              0.4444444444444444,
              "#bd3786"
             ],
             [
              0.5555555555555556,
              "#d8576b"
             ],
             [
              0.6666666666666666,
              "#ed7953"
             ],
             [
              0.7777777777777778,
              "#fb9f3a"
             ],
             [
              0.8888888888888888,
              "#fdca26"
             ],
             [
              1,
              "#f0f921"
             ]
            ],
            "type": "contour"
           }
          ],
          "contourcarpet": [
           {
            "colorbar": {
             "outlinewidth": 0,
             "ticks": ""
            },
            "type": "contourcarpet"
           }
          ],
          "heatmap": [
           {
            "colorbar": {
             "outlinewidth": 0,
             "ticks": ""
            },
            "colorscale": [
             [
              0,
              "#0d0887"
             ],
             [
              0.1111111111111111,
              "#46039f"
             ],
             [
              0.2222222222222222,
              "#7201a8"
             ],
             [
              0.3333333333333333,
              "#9c179e"
             ],
             [
              0.4444444444444444,
              "#bd3786"
             ],
             [
              0.5555555555555556,
              "#d8576b"
             ],
             [
              0.6666666666666666,
              "#ed7953"
             ],
             [
              0.7777777777777778,
              "#fb9f3a"
             ],
             [
              0.8888888888888888,
              "#fdca26"
             ],
             [
              1,
              "#f0f921"
             ]
            ],
            "type": "heatmap"
           }
          ],
          "histogram": [
           {
            "marker": {
             "pattern": {
              "fillmode": "overlay",
              "size": 10,
              "solidity": 0.2
             }
            },
            "type": "histogram"
           }
          ],
          "histogram2d": [
           {
            "colorbar": {
             "outlinewidth": 0,
             "ticks": ""
            },
            "colorscale": [
             [
              0,
              "#0d0887"
             ],
             [
              0.1111111111111111,
              "#46039f"
             ],
             [
              0.2222222222222222,
              "#7201a8"
             ],
             [
              0.3333333333333333,
              "#9c179e"
             ],
             [
              0.4444444444444444,
              "#bd3786"
             ],
             [
              0.5555555555555556,
              "#d8576b"
             ],
             [
              0.6666666666666666,
              "#ed7953"
             ],
             [
              0.7777777777777778,
              "#fb9f3a"
             ],
             [
              0.8888888888888888,
              "#fdca26"
             ],
             [
              1,
              "#f0f921"
             ]
            ],
            "type": "histogram2d"
           }
          ],
          "histogram2dcontour": [
           {
            "colorbar": {
             "outlinewidth": 0,
             "ticks": ""
            },
            "colorscale": [
             [
              0,
              "#0d0887"
             ],
             [
              0.1111111111111111,
              "#46039f"
             ],
             [
              0.2222222222222222,
              "#7201a8"
             ],
             [
              0.3333333333333333,
              "#9c179e"
             ],
             [
              0.4444444444444444,
              "#bd3786"
             ],
             [
              0.5555555555555556,
              "#d8576b"
             ],
             [
              0.6666666666666666,
              "#ed7953"
             ],
             [
              0.7777777777777778,
              "#fb9f3a"
             ],
             [
              0.8888888888888888,
              "#fdca26"
             ],
             [
              1,
              "#f0f921"
             ]
            ],
            "type": "histogram2dcontour"
           }
          ],
          "mesh3d": [
           {
            "colorbar": {
             "outlinewidth": 0,
             "ticks": ""
            },
            "type": "mesh3d"
           }
          ],
          "parcoords": [
           {
            "line": {
             "colorbar": {
              "outlinewidth": 0,
              "ticks": ""
             }
            },
            "type": "parcoords"
           }
          ],
          "pie": [
           {
            "automargin": true,
            "type": "pie"
           }
          ],
          "scatter": [
           {
            "marker": {
             "line": {
              "color": "#283442"
             }
            },
            "type": "scatter"
           }
          ],
          "scatter3d": [
           {
            "line": {
             "colorbar": {
              "outlinewidth": 0,
              "ticks": ""
             }
            },
            "marker": {
             "colorbar": {
              "outlinewidth": 0,
              "ticks": ""
             }
            },
            "type": "scatter3d"
           }
          ],
          "scattercarpet": [
           {
            "marker": {
             "colorbar": {
              "outlinewidth": 0,
              "ticks": ""
             }
            },
            "type": "scattercarpet"
           }
          ],
          "scattergeo": [
           {
            "marker": {
             "colorbar": {
              "outlinewidth": 0,
              "ticks": ""
             }
            },
            "type": "scattergeo"
           }
          ],
          "scattergl": [
           {
            "marker": {
             "line": {
              "color": "#283442"
             }
            },
            "type": "scattergl"
           }
          ],
          "scattermap": [
           {
            "marker": {
             "colorbar": {
              "outlinewidth": 0,
              "ticks": ""
             }
            },
            "type": "scattermap"
           }
          ],
          "scattermapbox": [
           {
            "marker": {
             "colorbar": {
              "outlinewidth": 0,
              "ticks": ""
             }
            },
            "type": "scattermapbox"
           }
          ],
          "scatterpolar": [
           {
            "marker": {
             "colorbar": {
              "outlinewidth": 0,
              "ticks": ""
             }
            },
            "type": "scatterpolar"
           }
          ],
          "scatterpolargl": [
           {
            "marker": {
             "colorbar": {
              "outlinewidth": 0,
              "ticks": ""
             }
            },
            "type": "scatterpolargl"
           }
          ],
          "scatterternary": [
           {
            "marker": {
             "colorbar": {
              "outlinewidth": 0,
              "ticks": ""
             }
            },
            "type": "scatterternary"
           }
          ],
          "surface": [
           {
            "colorbar": {
             "outlinewidth": 0,
             "ticks": ""
            },
            "colorscale": [
             [
              0,
              "#0d0887"
             ],
             [
              0.1111111111111111,
              "#46039f"
             ],
             [
              0.2222222222222222,
              "#7201a8"
             ],
             [
              0.3333333333333333,
              "#9c179e"
             ],
             [
              0.4444444444444444,
              "#bd3786"
             ],
             [
              0.5555555555555556,
              "#d8576b"
             ],
             [
              0.6666666666666666,
              "#ed7953"
             ],
             [
              0.7777777777777778,
              "#fb9f3a"
             ],
             [
              0.8888888888888888,
              "#fdca26"
             ],
             [
              1,
              "#f0f921"
             ]
            ],
            "type": "surface"
           }
          ],
          "table": [
           {
            "cells": {
             "fill": {
              "color": "#506784"
             },
             "line": {
              "color": "rgb(17,17,17)"
             }
            },
            "header": {
             "fill": {
              "color": "#2a3f5f"
             },
             "line": {
              "color": "rgb(17,17,17)"
             }
            },
            "type": "table"
           }
          ]
         },
         "layout": {
          "annotationdefaults": {
           "arrowcolor": "#f2f5fa",
           "arrowhead": 0,
           "arrowwidth": 1
          },
          "autotypenumbers": "strict",
          "coloraxis": {
           "colorbar": {
            "outlinewidth": 0,
            "ticks": ""
           }
          },
          "colorscale": {
           "diverging": [
            [
             0,
             "#8e0152"
            ],
            [
             0.1,
             "#c51b7d"
            ],
            [
             0.2,
             "#de77ae"
            ],
            [
             0.3,
             "#f1b6da"
            ],
            [
             0.4,
             "#fde0ef"
            ],
            [
             0.5,
             "#f7f7f7"
            ],
            [
             0.6,
             "#e6f5d0"
            ],
            [
             0.7,
             "#b8e186"
            ],
            [
             0.8,
             "#7fbc41"
            ],
            [
             0.9,
             "#4d9221"
            ],
            [
             1,
             "#276419"
            ]
           ],
           "sequential": [
            [
             0,
             "#0d0887"
            ],
            [
             0.1111111111111111,
             "#46039f"
            ],
            [
             0.2222222222222222,
             "#7201a8"
            ],
            [
             0.3333333333333333,
             "#9c179e"
            ],
            [
             0.4444444444444444,
             "#bd3786"
            ],
            [
             0.5555555555555556,
             "#d8576b"
            ],
            [
             0.6666666666666666,
             "#ed7953"
            ],
            [
             0.7777777777777778,
             "#fb9f3a"
            ],
            [
             0.8888888888888888,
             "#fdca26"
            ],
            [
             1,
             "#f0f921"
            ]
           ],
           "sequentialminus": [
            [
             0,
             "#0d0887"
            ],
            [
             0.1111111111111111,
             "#46039f"
            ],
            [
             0.2222222222222222,
             "#7201a8"
            ],
            [
             0.3333333333333333,
             "#9c179e"
            ],
            [
             0.4444444444444444,
             "#bd3786"
            ],
            [
             0.5555555555555556,
             "#d8576b"
            ],
            [
             0.6666666666666666,
             "#ed7953"
            ],
            [
             0.7777777777777778,
             "#fb9f3a"
            ],
            [
             0.8888888888888888,
             "#fdca26"
            ],
            [
             1,
             "#f0f921"
            ]
           ]
          },
          "colorway": [
           "#636efa",
           "#EF553B",
           "#00cc96",
           "#ab63fa",
           "#FFA15A",
           "#19d3f3",
           "#FF6692",
           "#B6E880",
           "#FF97FF",
           "#FECB52"
          ],
          "font": {
           "color": "#f2f5fa"
          },
          "geo": {
           "bgcolor": "rgb(17,17,17)",
           "lakecolor": "rgb(17,17,17)",
           "landcolor": "rgb(17,17,17)",
           "showlakes": true,
           "showland": true,
           "subunitcolor": "#506784"
          },
          "hoverlabel": {
           "align": "left"
          },
          "hovermode": "closest",
          "mapbox": {
           "style": "dark"
          },
          "paper_bgcolor": "rgb(17,17,17)",
          "plot_bgcolor": "rgb(17,17,17)",
          "polar": {
           "angularaxis": {
            "gridcolor": "#506784",
            "linecolor": "#506784",
            "ticks": ""
           },
           "bgcolor": "rgb(17,17,17)",
           "radialaxis": {
            "gridcolor": "#506784",
            "linecolor": "#506784",
            "ticks": ""
           }
          },
          "scene": {
           "xaxis": {
            "backgroundcolor": "rgb(17,17,17)",
            "gridcolor": "#506784",
            "gridwidth": 2,
            "linecolor": "#506784",
            "showbackground": true,
            "ticks": "",
            "zerolinecolor": "#C8D4E3"
           },
           "yaxis": {
            "backgroundcolor": "rgb(17,17,17)",
            "gridcolor": "#506784",
            "gridwidth": 2,
            "linecolor": "#506784",
            "showbackground": true,
            "ticks": "",
            "zerolinecolor": "#C8D4E3"
           },
           "zaxis": {
            "backgroundcolor": "rgb(17,17,17)",
            "gridcolor": "#506784",
            "gridwidth": 2,
            "linecolor": "#506784",
            "showbackground": true,
            "ticks": "",
            "zerolinecolor": "#C8D4E3"
           }
          },
          "shapedefaults": {
           "line": {
            "color": "#f2f5fa"
           }
          },
          "sliderdefaults": {
           "bgcolor": "#C8D4E3",
           "bordercolor": "rgb(17,17,17)",
           "borderwidth": 1,
           "tickwidth": 0
          },
          "ternary": {
           "aaxis": {
            "gridcolor": "#506784",
            "linecolor": "#506784",
            "ticks": ""
           },
           "baxis": {
            "gridcolor": "#506784",
            "linecolor": "#506784",
            "ticks": ""
           },
           "bgcolor": "rgb(17,17,17)",
           "caxis": {
            "gridcolor": "#506784",
            "linecolor": "#506784",
            "ticks": ""
           }
          },
          "title": {
           "x": 0.05
          },
          "updatemenudefaults": {
           "bgcolor": "#506784",
           "borderwidth": 0
          },
          "xaxis": {
           "automargin": true,
           "gridcolor": "#283442",
           "linecolor": "#506784",
           "ticks": "",
           "title": {
            "standoff": 15
           },
           "zerolinecolor": "#283442",
           "zerolinewidth": 2
          },
          "yaxis": {
           "automargin": true,
           "gridcolor": "#283442",
           "linecolor": "#506784",
           "ticks": "",
           "title": {
            "standoff": 15
           },
           "zerolinecolor": "#283442",
           "zerolinewidth": 2
          }
         }
        },
        "title": {
         "text": "📋 Le 10 Password Più Usate – Elenco Interattivo"
        }
       }
      }
     },
     "metadata": {},
     "output_type": "display_data"
    }
   ],
   "source": [
    "import pandas as pd\n",
    "import plotly.graph_objects as go\n",
    "\n",
    "# Carica i dati\n",
    "df = pd.read_csv(\"common_passwords.csv\")\n",
    "\n",
    "# Top 10 password\n",
    "top10 = df[\"password\"].value_counts().nlargest(10).reset_index()\n",
    "top10.columns = [\"Password\", \"Frequenza\"]\n",
    "top10[\"Posizione\"] = top10.index + 1\n",
    "\n",
    "# Barra di supporto per la visualizzazione\n",
    "max_val = top10[\"Frequenza\"].max()\n",
    "top10[\"Bar\"] = top10[\"Frequenza\"] / max_val * 100\n",
    "\n",
    "# Tabella dinamica con barra integrata\n",
    "fig = go.Figure(data=[\n",
    "    go.Table(\n",
    "        header=dict(\n",
    "            values=[\"<b>Pos</b>\", \"<b>Password</b>\", \"<b>Frequenza</b>\", \"<b>Visuale</b>\"],\n",
    "            fill_color=\"#1f2a39\",\n",
    "            font=dict(color='white', size=14),\n",
    "            align=\"left\"\n",
    "        ),\n",
    "        cells=dict(\n",
    "            values=[\n",
    "                top10[\"Posizione\"],\n",
    "                top10[\"Password\"],\n",
    "                top10[\"Frequenza\"],\n",
    "                [\"▮\" * int(v // 5) for v in top10[\"Bar\"]]  # mini-bar con unicode\n",
    "            ],\n",
    "            fill_color=\"#0b101a\",\n",
    "            font=dict(color='lightgray', size=13),\n",
    "            align=\"left\",\n",
    "            height=28\n",
    "        )\n",
    "    )\n",
    "])\n",
    "\n",
    "fig.update_layout(\n",
    "    title=\"📋 Le 10 Password Più Usate – Elenco Interattivo\",\n",
    "    template=\"plotly_dark\",\n",
    "    margin=dict(l=20, r=20, t=60, b=20),\n",
    "    paper_bgcolor=\"#050b18\",\n",
    "    plot_bgcolor=\"#050b18\",\n",
    "    font=dict(color=\"white\", family=\"Courier New\")\n",
    ")\n",
    "\n",
    "fig.show()\n"
   ]
  },
  {
   "cell_type": "code",
   "execution_count": null,
   "id": "9b98a66b",
   "metadata": {},
   "outputs": [
    {
     "data": {
      "application/vnd.plotly.v1+json": {
       "config": {
        "plotlyServerURL": "https://plot.ly"
       },
       "data": [
        {
         "cells": {
          "align": "left",
          "fill": {
           "color": [
            [
             "#2196f3",
             "#1e88e5",
             "#1976d2",
             "#1565c0",
             "#0d47a1",
             "#0c3c91",
             "#0b327f",
             "#092a6e",
             "#081f5a",
             "#06184a"
            ],
            [
             "#2196f3",
             "#1e88e5",
             "#1976d2",
             "#1565c0",
             "#0d47a1",
             "#0c3c91",
             "#0b327f",
             "#092a6e",
             "#081f5a",
             "#06184a"
            ],
            [
             "#2196f3",
             "#1e88e5",
             "#1976d2",
             "#1565c0",
             "#0d47a1",
             "#0c3c91",
             "#0b327f",
             "#092a6e",
             "#081f5a",
             "#06184a"
            ]
           ]
          },
          "font": {
           "color": "white",
           "family": "Courier New",
           "size": 15
          },
          "height": 38,
          "line": {
           "color": "darkgray"
          },
          "values": [
           [
            1,
            2,
            3,
            4,
            5,
            6,
            7,
            8,
            9,
            10
           ],
           [
            "123456",
            "password",
            "12345678",
            "qwerty",
            "123456789",
            "12345",
            "1234",
            "111111",
            "1234567",
            "dragon"
           ],
           [
            6,
            8,
            8,
            6,
            9,
            5,
            4,
            6,
            7,
            6
           ]
          ]
         },
         "header": {
          "align": "left",
          "fill": {
           "color": "#0f1c2f"
          },
          "font": {
           "color": "white",
           "family": "Courier New",
           "size": 16
          },
          "height": 42,
          "line": {
           "color": "gray"
          },
          "values": [
           "<b>Posizione</b>",
           "<b>Password</b>",
           "<b>Lunghezza</b>"
          ]
         },
         "type": "table"
        }
       ],
       "layout": {
        "margin": {
         "b": 40,
         "l": 40,
         "r": 40,
         "t": 80
        },
        "paper_bgcolor": "#050b18",
        "plot_bgcolor": "#050b18",
        "template": {
         "data": {
          "bar": [
           {
            "error_x": {
             "color": "#f2f5fa"
            },
            "error_y": {
             "color": "#f2f5fa"
            },
            "marker": {
             "line": {
              "color": "rgb(17,17,17)",
              "width": 0.5
             },
             "pattern": {
              "fillmode": "overlay",
              "size": 10,
              "solidity": 0.2
             }
            },
            "type": "bar"
           }
          ],
          "barpolar": [
           {
            "marker": {
             "line": {
              "color": "rgb(17,17,17)",
              "width": 0.5
             },
             "pattern": {
              "fillmode": "overlay",
              "size": 10,
              "solidity": 0.2
             }
            },
            "type": "barpolar"
           }
          ],
          "carpet": [
           {
            "aaxis": {
             "endlinecolor": "#A2B1C6",
             "gridcolor": "#506784",
             "linecolor": "#506784",
             "minorgridcolor": "#506784",
             "startlinecolor": "#A2B1C6"
            },
            "baxis": {
             "endlinecolor": "#A2B1C6",
             "gridcolor": "#506784",
             "linecolor": "#506784",
             "minorgridcolor": "#506784",
             "startlinecolor": "#A2B1C6"
            },
            "type": "carpet"
           }
          ],
          "choropleth": [
           {
            "colorbar": {
             "outlinewidth": 0,
             "ticks": ""
            },
            "type": "choropleth"
           }
          ],
          "contour": [
           {
            "colorbar": {
             "outlinewidth": 0,
             "ticks": ""
            },
            "colorscale": [
             [
              0,
              "#0d0887"
             ],
             [
              0.1111111111111111,
              "#46039f"
             ],
             [
              0.2222222222222222,
              "#7201a8"
             ],
             [
              0.3333333333333333,
              "#9c179e"
             ],
             [
              0.4444444444444444,
              "#bd3786"
             ],
             [
              0.5555555555555556,
              "#d8576b"
             ],
             [
              0.6666666666666666,
              "#ed7953"
             ],
             [
              0.7777777777777778,
              "#fb9f3a"
             ],
             [
              0.8888888888888888,
              "#fdca26"
             ],
             [
              1,
              "#f0f921"
             ]
            ],
            "type": "contour"
           }
          ],
          "contourcarpet": [
           {
            "colorbar": {
             "outlinewidth": 0,
             "ticks": ""
            },
            "type": "contourcarpet"
           }
          ],
          "heatmap": [
           {
            "colorbar": {
             "outlinewidth": 0,
             "ticks": ""
            },
            "colorscale": [
             [
              0,
              "#0d0887"
             ],
             [
              0.1111111111111111,
              "#46039f"
             ],
             [
              0.2222222222222222,
              "#7201a8"
             ],
             [
              0.3333333333333333,
              "#9c179e"
             ],
             [
              0.4444444444444444,
              "#bd3786"
             ],
             [
              0.5555555555555556,
              "#d8576b"
             ],
             [
              0.6666666666666666,
              "#ed7953"
             ],
             [
              0.7777777777777778,
              "#fb9f3a"
             ],
             [
              0.8888888888888888,
              "#fdca26"
             ],
             [
              1,
              "#f0f921"
             ]
            ],
            "type": "heatmap"
           }
          ],
          "histogram": [
           {
            "marker": {
             "pattern": {
              "fillmode": "overlay",
              "size": 10,
              "solidity": 0.2
             }
            },
            "type": "histogram"
           }
          ],
          "histogram2d": [
           {
            "colorbar": {
             "outlinewidth": 0,
             "ticks": ""
            },
            "colorscale": [
             [
              0,
              "#0d0887"
             ],
             [
              0.1111111111111111,
              "#46039f"
             ],
             [
              0.2222222222222222,
              "#7201a8"
             ],
             [
              0.3333333333333333,
              "#9c179e"
             ],
             [
              0.4444444444444444,
              "#bd3786"
             ],
             [
              0.5555555555555556,
              "#d8576b"
             ],
             [
              0.6666666666666666,
              "#ed7953"
             ],
             [
              0.7777777777777778,
              "#fb9f3a"
             ],
             [
              0.8888888888888888,
              "#fdca26"
             ],
             [
              1,
              "#f0f921"
             ]
            ],
            "type": "histogram2d"
           }
          ],
          "histogram2dcontour": [
           {
            "colorbar": {
             "outlinewidth": 0,
             "ticks": ""
            },
            "colorscale": [
             [
              0,
              "#0d0887"
             ],
             [
              0.1111111111111111,
              "#46039f"
             ],
             [
              0.2222222222222222,
              "#7201a8"
             ],
             [
              0.3333333333333333,
              "#9c179e"
             ],
             [
              0.4444444444444444,
              "#bd3786"
             ],
             [
              0.5555555555555556,
              "#d8576b"
             ],
             [
              0.6666666666666666,
              "#ed7953"
             ],
             [
              0.7777777777777778,
              "#fb9f3a"
             ],
             [
              0.8888888888888888,
              "#fdca26"
             ],
             [
              1,
              "#f0f921"
             ]
            ],
            "type": "histogram2dcontour"
           }
          ],
          "mesh3d": [
           {
            "colorbar": {
             "outlinewidth": 0,
             "ticks": ""
            },
            "type": "mesh3d"
           }
          ],
          "parcoords": [
           {
            "line": {
             "colorbar": {
              "outlinewidth": 0,
              "ticks": ""
             }
            },
            "type": "parcoords"
           }
          ],
          "pie": [
           {
            "automargin": true,
            "type": "pie"
           }
          ],
          "scatter": [
           {
            "marker": {
             "line": {
              "color": "#283442"
             }
            },
            "type": "scatter"
           }
          ],
          "scatter3d": [
           {
            "line": {
             "colorbar": {
              "outlinewidth": 0,
              "ticks": ""
             }
            },
            "marker": {
             "colorbar": {
              "outlinewidth": 0,
              "ticks": ""
             }
            },
            "type": "scatter3d"
           }
          ],
          "scattercarpet": [
           {
            "marker": {
             "colorbar": {
              "outlinewidth": 0,
              "ticks": ""
             }
            },
            "type": "scattercarpet"
           }
          ],
          "scattergeo": [
           {
            "marker": {
             "colorbar": {
              "outlinewidth": 0,
              "ticks": ""
             }
            },
            "type": "scattergeo"
           }
          ],
          "scattergl": [
           {
            "marker": {
             "line": {
              "color": "#283442"
             }
            },
            "type": "scattergl"
           }
          ],
          "scattermap": [
           {
            "marker": {
             "colorbar": {
              "outlinewidth": 0,
              "ticks": ""
             }
            },
            "type": "scattermap"
           }
          ],
          "scattermapbox": [
           {
            "marker": {
             "colorbar": {
              "outlinewidth": 0,
              "ticks": ""
             }
            },
            "type": "scattermapbox"
           }
          ],
          "scatterpolar": [
           {
            "marker": {
             "colorbar": {
              "outlinewidth": 0,
              "ticks": ""
             }
            },
            "type": "scatterpolar"
           }
          ],
          "scatterpolargl": [
           {
            "marker": {
             "colorbar": {
              "outlinewidth": 0,
              "ticks": ""
             }
            },
            "type": "scatterpolargl"
           }
          ],
          "scatterternary": [
           {
            "marker": {
             "colorbar": {
              "outlinewidth": 0,
              "ticks": ""
             }
            },
            "type": "scatterternary"
           }
          ],
          "surface": [
           {
            "colorbar": {
             "outlinewidth": 0,
             "ticks": ""
            },
            "colorscale": [
             [
              0,
              "#0d0887"
             ],
             [
              0.1111111111111111,
              "#46039f"
             ],
             [
              0.2222222222222222,
              "#7201a8"
             ],
             [
              0.3333333333333333,
              "#9c179e"
             ],
             [
              0.4444444444444444,
              "#bd3786"
             ],
             [
              0.5555555555555556,
              "#d8576b"
             ],
             [
              0.6666666666666666,
              "#ed7953"
             ],
             [
              0.7777777777777778,
              "#fb9f3a"
             ],
             [
              0.8888888888888888,
              "#fdca26"
             ],
             [
              1,
              "#f0f921"
             ]
            ],
            "type": "surface"
           }
          ],
          "table": [
           {
            "cells": {
             "fill": {
              "color": "#506784"
             },
             "line": {
              "color": "rgb(17,17,17)"
             }
            },
            "header": {
             "fill": {
              "color": "#2a3f5f"
             },
             "line": {
              "color": "rgb(17,17,17)"
             }
            },
            "type": "table"
           }
          ]
         },
         "layout": {
          "annotationdefaults": {
           "arrowcolor": "#f2f5fa",
           "arrowhead": 0,
           "arrowwidth": 1
          },
          "autotypenumbers": "strict",
          "coloraxis": {
           "colorbar": {
            "outlinewidth": 0,
            "ticks": ""
           }
          },
          "colorscale": {
           "diverging": [
            [
             0,
             "#8e0152"
            ],
            [
             0.1,
             "#c51b7d"
            ],
            [
             0.2,
             "#de77ae"
            ],
            [
             0.3,
             "#f1b6da"
            ],
            [
             0.4,
             "#fde0ef"
            ],
            [
             0.5,
             "#f7f7f7"
            ],
            [
             0.6,
             "#e6f5d0"
            ],
            [
             0.7,
             "#b8e186"
            ],
            [
             0.8,
             "#7fbc41"
            ],
            [
             0.9,
             "#4d9221"
            ],
            [
             1,
             "#276419"
            ]
           ],
           "sequential": [
            [
             0,
             "#0d0887"
            ],
            [
             0.1111111111111111,
             "#46039f"
            ],
            [
             0.2222222222222222,
             "#7201a8"
            ],
            [
             0.3333333333333333,
             "#9c179e"
            ],
            [
             0.4444444444444444,
             "#bd3786"
            ],
            [
             0.5555555555555556,
             "#d8576b"
            ],
            [
             0.6666666666666666,
             "#ed7953"
            ],
            [
             0.7777777777777778,
             "#fb9f3a"
            ],
            [
             0.8888888888888888,
             "#fdca26"
            ],
            [
             1,
             "#f0f921"
            ]
           ],
           "sequentialminus": [
            [
             0,
             "#0d0887"
            ],
            [
             0.1111111111111111,
             "#46039f"
            ],
            [
             0.2222222222222222,
             "#7201a8"
            ],
            [
             0.3333333333333333,
             "#9c179e"
            ],
            [
             0.4444444444444444,
             "#bd3786"
            ],
            [
             0.5555555555555556,
             "#d8576b"
            ],
            [
             0.6666666666666666,
             "#ed7953"
            ],
            [
             0.7777777777777778,
             "#fb9f3a"
            ],
            [
             0.8888888888888888,
             "#fdca26"
            ],
            [
             1,
             "#f0f921"
            ]
           ]
          },
          "colorway": [
           "#636efa",
           "#EF553B",
           "#00cc96",
           "#ab63fa",
           "#FFA15A",
           "#19d3f3",
           "#FF6692",
           "#B6E880",
           "#FF97FF",
           "#FECB52"
          ],
          "font": {
           "color": "#f2f5fa"
          },
          "geo": {
           "bgcolor": "rgb(17,17,17)",
           "lakecolor": "rgb(17,17,17)",
           "landcolor": "rgb(17,17,17)",
           "showlakes": true,
           "showland": true,
           "subunitcolor": "#506784"
          },
          "hoverlabel": {
           "align": "left"
          },
          "hovermode": "closest",
          "mapbox": {
           "style": "dark"
          },
          "paper_bgcolor": "rgb(17,17,17)",
          "plot_bgcolor": "rgb(17,17,17)",
          "polar": {
           "angularaxis": {
            "gridcolor": "#506784",
            "linecolor": "#506784",
            "ticks": ""
           },
           "bgcolor": "rgb(17,17,17)",
           "radialaxis": {
            "gridcolor": "#506784",
            "linecolor": "#506784",
            "ticks": ""
           }
          },
          "scene": {
           "xaxis": {
            "backgroundcolor": "rgb(17,17,17)",
            "gridcolor": "#506784",
            "gridwidth": 2,
            "linecolor": "#506784",
            "showbackground": true,
            "ticks": "",
            "zerolinecolor": "#C8D4E3"
           },
           "yaxis": {
            "backgroundcolor": "rgb(17,17,17)",
            "gridcolor": "#506784",
            "gridwidth": 2,
            "linecolor": "#506784",
            "showbackground": true,
            "ticks": "",
            "zerolinecolor": "#C8D4E3"
           },
           "zaxis": {
            "backgroundcolor": "rgb(17,17,17)",
            "gridcolor": "#506784",
            "gridwidth": 2,
            "linecolor": "#506784",
            "showbackground": true,
            "ticks": "",
            "zerolinecolor": "#C8D4E3"
           }
          },
          "shapedefaults": {
           "line": {
            "color": "#f2f5fa"
           }
          },
          "sliderdefaults": {
           "bgcolor": "#C8D4E3",
           "bordercolor": "rgb(17,17,17)",
           "borderwidth": 1,
           "tickwidth": 0
          },
          "ternary": {
           "aaxis": {
            "gridcolor": "#506784",
            "linecolor": "#506784",
            "ticks": ""
           },
           "baxis": {
            "gridcolor": "#506784",
            "linecolor": "#506784",
            "ticks": ""
           },
           "bgcolor": "rgb(17,17,17)",
           "caxis": {
            "gridcolor": "#506784",
            "linecolor": "#506784",
            "ticks": ""
           }
          },
          "title": {
           "x": 0.05
          },
          "updatemenudefaults": {
           "bgcolor": "#506784",
           "borderwidth": 0
          },
          "xaxis": {
           "automargin": true,
           "gridcolor": "#283442",
           "linecolor": "#506784",
           "ticks": "",
           "title": {
            "standoff": 15
           },
           "zerolinecolor": "#283442",
           "zerolinewidth": 2
          },
          "yaxis": {
           "automargin": true,
           "gridcolor": "#283442",
           "linecolor": "#506784",
           "ticks": "",
           "title": {
            "standoff": 15
           },
           "zerolinecolor": "#283442",
           "zerolinewidth": 2
          }
         }
        },
        "title": {
         "font": {
          "size": 20
         },
         "text": "🔐 Top 10 Password Più Usate – Evidenza Visuale"
        }
       }
      }
     },
     "metadata": {},
     "output_type": "display_data"
    }
   ],
   "source": [
    "import pandas as pd\n",
    "import plotly.graph_objects as go\n",
    "\n",
    "# Carica dataset e posizione implicita\n",
    "df = pd.read_csv(\"common_passwords.csv\")\n",
    "df = df.reset_index().rename(columns={\"index\": \"Posizione\"})\n",
    "df[\"Posizione\"] += 1\n",
    "\n",
    "# Seleziona top 10\n",
    "top10 = df.head(10).copy()\n",
    "\n",
    "# Palette a impatto visivo (blu → turchese → ghiaccio)\n",
    "row_colors = [\n",
    "    \"#2196f3\", \"#1e88e5\", \"#1976d2\", \"#1565c0\", \"#0d47a1\",\n",
    "    \"#0c3c91\", \"#0b327f\", \"#092a6e\", \"#081f5a\", \"#06184a\"\n",
    "]\n",
    "\n",
    "# Aggiungi lunghezza per valore comparativo\n",
    "top10[\"Lunghezza\"] = top10[\"length\"]\n",
    "\n",
    "# Crea tabella\n",
    "fig = go.Figure(data=[\n",
    "    go.Table(\n",
    "        header=dict(\n",
    "            values=[\"<b>Posizione</b>\", \"<b>Password</b>\", \"<b>Lunghezza</b>\"],\n",
    "            fill_color=\"#0f1c2f\",\n",
    "            line_color='gray',\n",
    "            font=dict(color='white', size=16, family=\"Courier New\"),\n",
    "            align=\"left\",\n",
    "            height=42\n",
    "        ),\n",
    "        cells=dict(\n",
    "            values=[\n",
    "                top10[\"Posizione\"],\n",
    "                top10[\"password\"],\n",
    "                top10[\"Lunghezza\"]\n",
    "            ],\n",
    "            fill_color=[row_colors, row_colors, row_colors],\n",
    "            line_color='darkgray',\n",
    "            font=dict(color='white', size=15, family=\"Courier New\"),\n",
    "            align=\"left\",\n",
    "            height=38\n",
    "        )\n",
    "    )\n",
    "])\n",
    "\n",
    "# Layout\n",
    "fig.update_layout(\n",
    "    title=\"🔐 Top 10 Password Più Usate – Evidenza Visuale\",\n",
    "    title_font_size=20,\n",
    "    template=\"plotly_dark\",\n",
    "    paper_bgcolor=\"#050b18\",\n",
    "    plot_bgcolor=\"#050b18\",\n",
    "    margin=dict(l=40, r=40, t=80, b=40)\n",
    ")\n",
    "\n",
    "fig.show()\n"
   ]
  },
  {
   "cell_type": "code",
   "execution_count": null,
   "id": "0263306a",
   "metadata": {},
   "outputs": [],
   "source": [
    "import pandas as pd\n",
    "import matplotlib.pyplot as plt\n",
    "import seaborn as sns\n",
    "\n",
    "# Carica il dataset\n",
    "df = pd.read_csv(\"common_passwords.csv\")\n",
    "\n",
    "# Prepara i dati top 20\n",
    "top20 = df.head(20).copy()\n",
    "top20[\"Posizione\"] = range(1, 21)\n",
    "\n",
    "# === 1. Bar Chart Orizzontale (Top 20 Password) ===\n",
    "plt.figure(figsize=(10, 8))\n",
    "sns.barplot(y=top20[\"password\"], x=top20[\"length\"], palette=\"Blues_d\")\n",
    "plt.title(\"🔐 Top 20 Password Più Comuni – Lunghezza\", fontsize=14)\n",
    "plt.xlabel(\"Lunghezza\")\n",
    "plt.ylabel(\"Password\")\n",
    "plt.grid(axis=\"x\", linestyle=\"--\", alpha=0.6)\n",
    "plt.tight_layout()\n",
    "plt.show()\n",
    "\n",
    "# === 2. Tabella Statica (Matplotlib) ===\n",
    "fig, ax = plt.subplots(figsize=(10, 8))\n",
    "ax.axis('tight')\n",
    "ax.axis('off')\n",
    "\n",
    "# Prepara dati per tabella\n",
    "table_data = [\n",
    "    [\"Posizione\", \"Password\", \"Lunghezza\"]\n",
    "] + list(top20[[\"Posizione\", \"password\", \"length\"]].values)\n",
    "\n",
    "# Crea tabella\n",
    "table = ax.table(\n",
    "    cellText=table_data,\n",
    "    colLabels=None,\n",
    "    cellLoc='left',\n",
    "    loc='center',\n",
    "    colWidths=[0.1, 0.5, 0.2]\n",
    ")\n",
    "\n",
    "# Stile tabella\n",
    "table.auto_set_font_size(False)\n",
    "table.set_fontsize(13)\n",
    "table.scale(1.2, 1.5)\n",
    "\n",
    "# Colore header\n",
    "for i in range(3):\n",
    "    table[(0, i)].set_facecolor(\"#2c3e50\")\n",
    "    table[(0, i)].set_text_props(color=\"white\", weight='bold')\n",
    "\n",
    "plt.title(\"📋 Top 20 Password – Tabella Statica\", fontsize=16, pad=20)\n",
    "plt.tight_layout()\n",
    "plt.show()\n"
   ]
  }
 ],
 "metadata": {
  "kernelspec": {
   "display_name": "Python 3.12 (Visualizzazione)",
   "language": "python",
   "name": "py312"
  },
  "language_info": {
   "codemirror_mode": {
    "name": "ipython",
    "version": 3
   },
   "file_extension": ".py",
   "mimetype": "text/x-python",
   "name": "python",
   "nbconvert_exporter": "python",
   "pygments_lexer": "ipython3",
   "version": "3.12.10"
  }
 },
 "nbformat": 4,
 "nbformat_minor": 5
}
