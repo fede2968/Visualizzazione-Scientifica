{
 "cells": [
  {
   "cell_type": "markdown",
   "id": "b939b993",
   "metadata": {},
   "source": [
    "# 🛡️ Data Breach Analysis – Cybersecurity Breaches 2010–2023"
   ]
  },
  {
   "cell_type": "code",
   "execution_count": null,
   "id": "12e33779",
   "metadata": {
    "vscode": {
     "languageId": "plaintext"
    }
   },
   "outputs": [],
   "source": [
    "import matplotlib.pyplot as plt\n",
    "import seaborn as sns\n",
    "\n",
    "sns.set(style=\"whitegrid\")\n",
    "\n",
    "# 1. Istogramma della lunghezza delle password\n",
    "plt.figure(figsize=(8, 5))\n",
    "sns.histplot(df['length'], bins=range(3, 18), kde=False)\n",
    "plt.title(\"Distribuzione della Lunghezza delle Password\")\n",
    "plt.xlabel(\"Lunghezza\")\n",
    "plt.ylabel(\"Conteggio\")\n",
    "plt.tight_layout()\n",
    "plt.show()\n",
    "\n",
    "# 2. Distribuzione del numero di cifre\n",
    "plt.figure(figsize=(8, 5))\n",
    "sns.countplot(x='num_digits', data=df, order=sorted(df['num_digits'].unique()))\n",
    "plt.title(\"Numero di Cifre nelle Password\")\n",
    "plt.xlabel(\"Cifre\")\n",
    "plt.ylabel(\"Conteggio\")\n",
    "plt.tight_layout()\n",
    "plt.show()\n",
    "\n",
    "# 3. Top 20 password più comuni per lunghezza\n",
    "top_lengths = df.groupby('password')['length'].max().sort_values(ascending=False).head(20)\n",
    "plt.figure(figsize=(12, 6))\n",
    "sns.barplot(x=top_lengths.index, y=top_lengths.values, palette='Blues_d')\n",
    "plt.title(\"Top 20 Password più Lunghe\")\n",
    "plt.xlabel(\"Password\")\n",
    "plt.ylabel(\"Lunghezza\")\n",
    "plt.xticks(rotation=45)\n",
    "plt.tight_layout()\n",
    "plt.show()\n",
    "\n",
    "# 4. Boxplot: lunghezza in funzione della presenza di simboli\n",
    "df['has_symbols'] = df['num_special'] > 0\n",
    "plt.figure(figsize=(7, 5))\n",
    "sns.boxplot(x='has_symbols', y='length', data=df)\n",
    "plt.title(\"Lunghezza Password: con vs senza Simboli\")\n",
    "plt.xlabel(\"Contiene Simboli Speciali\")\n",
    "plt.ylabel(\"Lunghezza\")\n",
    "plt.tight_layout()\n",
    "plt.show()\n",
    "\n",
    "# 5. Scatter plot: Lunghezza vs Numero di Vocali\n",
    "plt.figure(figsize=(8, 6))\n",
    "sns.scatterplot(data=df, x='length', y='num_vowels', alpha=0.5)\n",
    "plt.title(\"Vocali in funzione della lunghezza\")\n",
    "plt.xlabel(\"Lunghezza Password\")\n",
    "plt.ylabel(\"Numero di Vocali\")\n",
    "plt.tight_layout()\n",
    "plt.show()\n"
   ]
  }
 ],
 "metadata": {
  "language_info": {
   "name": "python"
  }
 },
 "nbformat": 4,
 "nbformat_minor": 5
}
