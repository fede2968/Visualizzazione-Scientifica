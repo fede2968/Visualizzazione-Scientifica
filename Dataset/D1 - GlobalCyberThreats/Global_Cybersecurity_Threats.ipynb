{
 "cells": [
  {
   "cell_type": "code",
   "execution_count": 1,
   "metadata": {},
   "outputs": [
    {
     "data": {
      "application/vnd.plotly.v1+json": {
       "config": {
        "plotlyServerURL": "https://plot.ly"
       },
       "data": [
        {
         "hovertemplate": "<b>%{hovertext}</b><br><br>attack_type=Phishing<br>attack_source=Hacker Group<br>incident_resolution_time_(in_hours)=%{x}<br>financial_loss_(in_million_$)=%{y}<br>number_of_affected_users=%{z}<extra></extra>",
         "hovertext": [
          "Education",
          "Banking",
          "Telecommunications",
          "IT",
          "Banking",
          "Banking",
          "Government",
          "Banking",
          "IT",
          "IT",
          "Retail",
          "Education",
          "IT",
          "Retail",
          "Healthcare",
          "Banking",
          "Banking",
          "Banking",
          "Healthcare",
          "Healthcare",
          "Telecommunications",
          "Banking",
          "Healthcare",
          "Banking",
          "Retail",
          "IT",
          "Retail",
          "Healthcare",
          "IT",
          "Banking",
          "Government",
          "Healthcare",
          "Healthcare",
          "Retail",
          "Healthcare",
          "Banking",
          "IT",
          "Government",
          "Retail",
          "Education",
          "Telecommunications",
          "Retail",
          "Telecommunications",
          "Telecommunications",
          "Healthcare",
          "Banking",
          "IT",
          "Government",
          "Education",
          "Healthcare",
          "Healthcare",
          "Banking",
          "IT",
          "Banking",
          "Education",
          "Government",
          "Retail",
          "Banking",
          "Banking",
          "IT",
          "Telecommunications",
          "Banking",
          "Telecommunications",
          "IT",
          "Banking",
          "Healthcare",
          "Banking",
          "IT",
          "Banking",
          "Government",
          "Banking",
          "Healthcare",
          "Healthcare",
          "Government",
          "Retail",
          "Government",
          "Education",
          "IT",
          "Banking",
          "Telecommunications",
          "Healthcare",
          "Banking",
          "Healthcare",
          "Retail",
          "Telecommunications",
          "Retail",
          "Telecommunications",
          "Banking",
          "Banking",
          "IT",
          "IT",
          "IT",
          "IT",
          "Government",
          "Banking",
          "Retail",
          "Retail",
          "Education",
          "Banking",
          "Government",
          "Education",
          "Healthcare",
          "Government",
          "Telecommunications",
          "IT",
          "Retail",
          "Education",
          "Retail",
          "Telecommunications",
          "Telecommunications",
          "IT",
          "Telecommunications",
          "Education",
          "Retail",
          "Government",
          "IT",
          "Banking",
          "Government",
          "Retail",
          "Healthcare",
          "Government",
          "Education",
          "Telecommunications",
          "Healthcare",
          "IT"
         ],
         "legendgroup": "Phishing, Hacker Group",
         "marker": {
          "color": "#636efa",
          "symbol": "circle"
         },
         "mode": "markers",
         "name": "Phishing, Hacker Group",
         "scene": "scene",
         "showlegend": true,
         "type": "scatter3d",
         "x": {
          "bdata": "Px8fHkEMQiklOUIZHTUxNwImPh0MHAknHzQLMkQLPDpCLEYHQAg2D0VDCUEQFEcXKRI1NRcsDgYkBEY/AxASMAo8MRc3BUhHEQkpDQhDNxIOGD4xBD4QGhwxRzE8KEIEBBE3EwcLFyUXGTM7FS0OFxMgRBIOCjYERwtAHBU=",
          "dtype": "i1"
         },
         "y": {
          "bdata": "UrgeheshVEAAAAAAAMAxQPYoXI/C9VJAhetRuB5lVUAzMzMzM7NFQOF6FK5H4TFAMzMzMzMzF0BI4XoUrscmQFK4HoXrQVFASOF6FK5nUEDsUbgehVtSQFyPwvUoPEtAw/UoXI9CPkB7FK5H4cpQQJqZmZmZuUJAAAAAAACwWEBI4XoUridKQHE9CtejwFJAj8L1KFw/UUCuR+F6FP5YQGZmZmZm5iJACtejcD1KOkDXo3A9CtciQOF6FK5HMVVArkfhehTuM0CPwvUoXI8UQFK4HoXr8VhAKVyPwvWoN0DhehSuRyE0QOF6FK5HEVhAuB6F61H4QUC4HoXrUfhDQEjhehSu50pAUrgehetxQ0BSuB6F64FRQJqZmZmZiVdAKVyPwvVITUDD9Shcj/JTQMP1KFyPwi1AXI/C9SjcQ0B7FK5H4SpQQK5H4XoUHlZAuB6F61EoV0DD9Shcj/JUQHE9CtejcO0/AAAAAACAIkDNzMzMzIxCQPYoXI/C9S1ApHA9CtejMkApXI/C9ShXQKRwPQrXM1hAcT0K16OgUkA9CtejcO1WQGZmZmZmdlFAMzMzMzOTVUCPwvUoXB9VQArXo3A9ikhAAAAAAAAgVUAUrkfhehTyP4XrUbgeJVdApHA9CtcjR0BI4XoUrkcuQOxRuB6Fe1JAuB6F61F4UEAzMzMzM3MyQNejcD0Kd0VAhetRuB7lUUA9CtejcC1WQLgehetRyFJAw/UoXI8iV0CkcD0K12M+QDMzMzMzo1BAzczMzMwsUECuR+F6FH5WQLgehetRuDZA9ihcj8IVUkBmZmZmZmYZQM3MzMzMzB9AuB6F61G4DkBmZmZmZnZWQClcj8L1qEhAZmZmZmamNUBSuB6F6yFSQOxRuB6F6yxAw/UoXI9iVEDXo3A9CvdXQGZmZmZmZk9AmpmZmZlZPUAUrkfhepRXQHsUrkfh2lVAw/UoXI+iQUDsUbgehWs9QAAAAAAAIFFA16NwPQp3QEDhehSuR9FUQClcj8L1iEpAzczMzMxsQkDD9Shcj3JVQLgehetRGFZACtejcD1qQ0AzMzMzMzMXQJqZmZmZmTxAuB6F61G4FEC4HoXrUTg1QArXo3A9qkBAKVyPwvXIRkA9CtejcH09QHE9CtejcBRASOF6FK7nT0DD9Shcj8IBQHsUrkfh+i5ACtejcD1aVkApXI/C9SgZQClcj8L1eFVArkfhehSuPkC4HoXrUXg5QKRwPQrXA0VAUrgehetRTUDhehSuR6E6QM3MzMzMTFFA4XoUrkfBVkBSuB6F69EwQDMzMzMzk0NAUrgehevRK0BI4XoUrodLQA==",
          "dtype": "f8"
         },
         "z": {
          "bdata": "McwLANRICwCj2QUATUMAAInsAgDJQAAA6cIHANTLDgAbTgQAAF4EACGyDQD2RAUAjOkDANXRCwAVhQgA29UEAHr2AwBqxQsAkwcIALOADgBoqAcA68sEAHjACACuZAwAwGoFAHzhBAArIQ0AKZMNAFplAABQuQkAra8FAA2HCwBCRQQA/MMMAHXKAwB4sg4ACaAJAAAKAgAJEAEAUtMHACs1DwDB3AwAyxILACxgAQAs+QMA1q4GAN3kCgDQXgYA2LIKAIHnDQCUtQUA3hMFAOG6AACC3AMA7rgKAP5/DQASzAYA3qMMAEjABwACsQIAXCMPAD04BADnfwAA4K4HAJbwDACUGgkA9XsAAOElBQAYTgEAWvgJAKBjAgAu3gwAC0MIADsnAgBDmwkAye8MAGw7AQDuhwUAgq4DAGGtAABYEwcA+KIGAL2SBwDDVgsA158HAGc+CgD0kgsAmQ4LAN2FCwD08g4AtGUAAA+bDgAnDgYAos8LAA5nBAAk/ggANQMNAKrQDQArSwQA4xQFAHslAwBEiQoAGlgDAEzOBgALygAAsREDAJ0dBwAQeAkAKBgBAD53CQCPHQIAlnMHAHVCBQCu5woAuyoFAItPCwBr8AYA+T0CAJETCwD3ewIAbacEANXyDAAnbAwAfCoJAAlXCwA=",
          "dtype": "i4"
         }
        },
        {
         "hovertemplate": "<b>%{hovertext}</b><br><br>attack_type=Phishing<br>attack_source=Nation-state<br>incident_resolution_time_(in_hours)=%{x}<br>financial_loss_(in_million_$)=%{y}<br>number_of_affected_users=%{z}<extra></extra>",
         "hovertext": [
          "Banking",
          "Telecommunications",
          "Banking",
          "Healthcare",
          "Healthcare",
          "Government",
          "Telecommunications",
          "Telecommunications",
          "Healthcare",
          "Banking",
          "Retail",
          "Government",
          "Education",
          "IT",
          "Retail",
          "Retail",
          "Retail",
          "Healthcare",
          "Banking",
          "Telecommunications",
          "Education",
          "Retail",
          "IT",
          "Retail",
          "Healthcare",
          "IT",
          "IT",
          "Government",
          "Retail",
          "Government",
          "Telecommunications",
          "Healthcare",
          "Government",
          "Government",
          "Healthcare",
          "Government",
          "Banking",
          "Banking",
          "Education",
          "Retail",
          "Banking",
          "Banking",
          "Government",
          "Retail",
          "Education",
          "Government",
          "Banking",
          "Education",
          "Banking",
          "Banking",
          "Banking",
          "IT",
          "Banking",
          "IT",
          "Telecommunications",
          "Healthcare",
          "Banking",
          "IT",
          "Education",
          "Retail",
          "Banking",
          "Healthcare",
          "IT",
          "IT",
          "IT",
          "IT",
          "Healthcare",
          "IT",
          "Retail",
          "Retail",
          "Government",
          "IT",
          "Education",
          "IT",
          "Government",
          "Healthcare",
          "Telecommunications",
          "Banking",
          "IT",
          "Banking",
          "Banking",
          "Education",
          "Retail",
          "Education",
          "Telecommunications",
          "Government",
          "Retail",
          "Retail",
          "Retail",
          "IT",
          "IT",
          "Education",
          "Telecommunications",
          "Education",
          "Banking",
          "Government",
          "Retail",
          "Education",
          "Government",
          "Government",
          "Education",
          "Retail",
          "IT",
          "Banking",
          "Telecommunications",
          "Government",
          "Retail",
          "Banking",
          "Education",
          "Telecommunications",
          "Education",
          "Banking",
          "Banking",
          "Retail",
          "Government",
          "IT",
          "IT",
          "IT",
          "Retail",
          "Education",
          "Retail",
          "Education",
          "Telecommunications",
          "Education",
          "IT",
          "Healthcare",
          "Education",
          "Banking",
          "Telecommunications",
          "Retail",
          "Banking",
          "IT",
          "Telecommunications",
          "Education",
          "Telecommunications",
          "Retail",
          "Banking",
          "Telecommunications",
          "Education",
          "IT",
          "Healthcare"
         ],
         "legendgroup": "Phishing, Nation-state",
         "marker": {
          "color": "#636efa",
          "symbol": "diamond"
         },
         "mode": "markers",
         "name": "Phishing, Nation-state",
         "scene": "scene",
         "showlegend": true,
         "type": "scatter3d",
         "x": {
          "bdata": "JCAVGxhBCjgBNyNICCBHDjU/PwgYRz8pISYCPhoxQTADORtDLA0fKTkRChQsOR4bDCUjEhssDQ5HHRQUFjoHEhcKODEXFz07JwFGRykHHw8ZKEEaLCofNggsE0Y7PgtGDgI3PB0gJ0QLARkbJTw1GCE1QSoCNDJFGCQRRkIdGCsURRQSKjk3MRwtBjUn",
          "dtype": "i1"
         },
         "y": {
          "bdata": "pHA9CtcTUEDsUbgehWs0QK5H4XoUnlhAhetRuB4FLUDNzMzMzMxBQD0K16NwXUVAhetRuB4FPUBmZmZmZqY4QFK4HoXrIVVAw/UoXI8yV0Bcj8L1KPxSQPYoXI/CdUdAuB6F61H4VUCuR+F6FE5WQK5H4XoUrk1ApHA9CtdjQkBmZmZmZmZXQFK4HoXrsUdA4XoUrkdxVkBxPQrXo1BSQEjhehSuBz9AmpmZmZkZOUD2KFyPwnU7QKRwPQrXQ0xAj8L1KFwPQ0BSuB6F6yFXQJqZmZmZ2U1APQrXo3CNVkA9CtejcP07QD0K16NwfU1AexSuR+E6RUCamZmZmRlTQK5H4XoUrj5AzczMzMxsV0CamZmZmVlKQHE9Ctej8DZAw/UoXI9CUkD2KFyPwiVYQDMzMzMzE0JAcT0K16NQVEBxPQrXo/AtQB+F61G4DlBApHA9CtdjWEBcj8L1KKxWQM3MzMzM3FhAUrgehesxQEDXo3A9CvdRQKRwPQrXA0pAzczMzMxcUUAAAAAAAOBVQLgehetRmFhAH4XrUbgeV0DsUbgehWsyQHE9CtejAFJApHA9CtcDUkDXo3A9CgdUQHsUrkfheiJAKVyPwvWISkAK16NwPQojQArXo3A9ijxAexSuR+G6P0AAAAAAACBIQGZmZmZmtlFAexSuR+F6SEAfhetRuA5RQM3MzMzMzAZACtejcD3KMkAK16NwPcpFQHsUrkfhekNAexSuR+E6RUDNzMzMzEwtQM3MzMzMzFFAFK5H4XoUJECPwvUoXI9IQK5H4XoUriNAXI/C9Si8Q0DNzMzMzMw1QFK4HoXr8UxA9ihcj8JlVkDsUbgehWsuQMP1KFyPokBA7FG4HoXLTECF61G4HoU/QFK4HoXrUTFA4XoUrkdxUkDNzMzMzIxEQArXo3A9CkZASOF6FK5HKUCamZmZmZlFQB+F61G4njpAmpmZmZkZKkD2KFyPwnUiQFK4HoXrkUtAFK5H4XpUWEAfhetRuB4lQPYoXI/CdTZAzczMzMy8WECuR+F6FJ5UQD0K16NwPSlAXI/C9Sj8RkDsUbgehWs+QNejcD0K1wVAXI/C9Sg8SkAK16NwPVpTQIXrUbgexUBAZmZmZmamUUA9CtejcH1GQEjhehSu51VApHA9CtdzVEDXo3A9CldDQK5H4XoUbjFAAAAAAAAASECkcD0K12MyQHE9CtejcAlAZmZmZmZWUkAUrkfheuRYQEjhehSup0tAmpmZmZn5SkDhehSuRzFVQClcj8L1SE5AhetRuB5lU0AUrkfheoRQQM3MzMzM7EBAZmZmZmamV0AAAAAAAOBIQLgehetRSFJArkfhehSuWEDXo3A9ChdEQKRwPQrXI0VA16NwPQo3VUAK16NwPapOQPYoXI/ClUxA4XoUrkfhVkAfhetRuL5AQLgehetRuBhArkfhehTOQUDNzMzMzMxYQHE9CtejEFNArkfhehRuTUDhehSuR+FCQHsUrkfhehNA",
          "dtype": "f8"
         },
         "z": {
          "bdata": "1dcBACTXAgC11g4AcbwBAA6fAAAuvQQAT/gGAEhhAwD24wIAf1oEAOW+CQCZTwkA7wQEADYTDAC+ww4AGHYJANnbDQBvLwcA3AwCABd9CgBCNQcAZA8PAEzaDgCCSAgAUQUGALJaAwCr1QUAwcoHAKR4AADJ2wUAL28BAN+oAQDx/wUAflUMAF5KBACDgAkAr9EHANgmAwC2uwUAF70DANRGAwC/yg0ADQYLAPEyBACVIQcAK8IGACZQAgDskgIAcAINAGCPBgCxbAUAUEkDAANrBAAoIgYAIAIHALozCACZWQkAOuwFAHKUDQD6qwoAXxIGAEMNAAAsVQoAglQHAK5lDQDXhQ4AqhMEAMCUAgCwpQUAKBAAAHZKDgCqegMAkl0KAHHlDAAy2wgAZmgIAPPCBAAFEwIANoMFAAweCQDDCAIAke4DALbMBQAHuwIAL8EJAAZiAADZFg8AEUwMAKTBBQCOlQ4ARB4GAF7SCwClEgcAvPQMAO57CADGnQcAimoFACTaBADHCwEAsa0KAEcnBAAw+w0Aom8NACr7CQCp1wAAdHgMAAegDABWNAMA6D8AAI9rAwCjSgEAMJgCAIVECADO8QcA48UKACQADACMBwgA4QwOAJLmCwBrNQQA9h8EAJ8CCgAX6wAAQRsJAC9kDgBsmQAADhoAAHtWAgDwiQQAlOYCALyhCwBsSAcAJOwMABMLAQD0BQkA+6oAAP0sCgBRigsAS/gIAI04DADl7AUA",
          "dtype": "i4"
         }
        },
        {
         "hovertemplate": "<b>%{hovertext}</b><br><br>attack_type=Phishing<br>attack_source=Insider<br>incident_resolution_time_(in_hours)=%{x}<br>financial_loss_(in_million_$)=%{y}<br>number_of_affected_users=%{z}<extra></extra>",
         "hovertext": [
          "Retail",
          "Healthcare",
          "Healthcare",
          "IT",
          "Education",
          "Banking",
          "Telecommunications",
          "Banking",
          "Telecommunications",
          "Telecommunications",
          "Government",
          "Banking",
          "Education",
          "Education",
          "IT",
          "Healthcare",
          "Banking",
          "Education",
          "Government",
          "Banking",
          "IT",
          "Education",
          "Retail",
          "Education",
          "Government",
          "Retail",
          "Retail",
          "Banking",
          "IT",
          "IT",
          "Telecommunications",
          "IT",
          "Healthcare",
          "Government",
          "IT",
          "Healthcare",
          "Banking",
          "Retail",
          "Banking",
          "Retail",
          "Banking",
          "Retail",
          "Telecommunications",
          "Government",
          "Government",
          "Education",
          "Government",
          "IT",
          "Banking",
          "Banking",
          "Banking",
          "Education",
          "IT",
          "Banking",
          "Healthcare",
          "Telecommunications",
          "Government",
          "IT",
          "Banking",
          "Banking",
          "Education",
          "Retail",
          "Telecommunications",
          "Government",
          "Banking",
          "Education",
          "Retail",
          "Healthcare",
          "Banking",
          "Retail",
          "Healthcare",
          "Retail",
          "Banking",
          "IT",
          "Education",
          "Retail",
          "Retail",
          "Banking",
          "Banking",
          "IT",
          "Government",
          "Education",
          "Retail",
          "Banking",
          "Healthcare",
          "IT",
          "Government",
          "Healthcare",
          "Government",
          "IT",
          "IT",
          "IT",
          "Telecommunications",
          "Government",
          "Education",
          "Education",
          "Education",
          "Government",
          "Education",
          "Healthcare",
          "Telecommunications",
          "Government",
          "Government",
          "Education",
          "Banking",
          "IT",
          "Banking",
          "Government",
          "Retail",
          "Healthcare",
          "Education",
          "Government",
          "Education",
          "Education",
          "Retail",
          "Government",
          "Education",
          "Telecommunications",
          "Retail",
          "Government",
          "Education",
          "Education",
          "Retail",
          "Government",
          "IT",
          "Retail",
          "Banking",
          "Retail",
          "Government"
         ],
         "legendgroup": "Phishing, Insider",
         "marker": {
          "color": "#636efa",
          "symbol": "square"
         },
         "mode": "markers",
         "name": "Phishing, Insider",
         "scene": "scene",
         "showlegend": true,
         "type": "scatter3d",
         "x": {
          "bdata": "NDMdPx8zQCkzCQslMRArQgk9CTcbLAtBRCdGKRUfQxEYHQMNLQ8+GwYOJDsYBDcKRBQCPSRBFEEBEQ4HLD05IkUuDSAQBy0DLi8qKUUrSBoUDS4hDDtGKgQ3Qj0JLTsEKjsaIkARFAYMETBAEwwfLC43OTQFCDYQEzE1FUgrOxcQ",
          "dtype": "i1"
         },
         "y": {
          "bdata": "SOF6FK6HSUDXo3A9CsdSQIXrUbgehUtAXI/C9SiMU0CuR+F6FK5EQDMzMzMz80tAH4XrUbjOUkBxPQrXo0BVQHE9CtejcCdAFK5H4XoUO0Bcj8L1KJxXQFK4HoXrkUhACtejcD0KEEA9CtejcL0lQEjhehSuxytAKVyPwvXIWEApXI/C9YhCQNejcD0K1yBAAAAAAAAgV0CkcD0K14NYQOF6FK5HwUBAUrgehesRUUCF61G4HiVGQDMzMzMzszlAcT0K16PwRECamZmZmVk/QAAAAAAAsFdA4XoUrkehUUCF61G4HgU9QNejcD0Kt0xAuB6F61G4BkCamZmZmdlRQLgehetRODRA7FG4HoWrS0AzMzMzM/NLQClcj8L1yEpAAAAAAACgVkAAAAAAAMA5QClcj8L1CE5AKVyPwvXoWECamZmZmZkJQD0K16NwPSJA4XoUrkfxUUD2KFyPwqVRQIXrUbgehTNAj8L1KFw/VEAUrkfhepQ1QOF6FK5HAVNASOF6FK4nUEBI4XoUrudFQOxRuB6Fu1RAAAAAAABAOEBxPQrXo3AwQI/C9Shcf1FA9ihcj8L1Q0Bcj8L1KNxFQI/C9ShcT0RAmpmZmZmZCUAK16NwPapDQArXo3A9SkNAUrgehetRR0AUrkfhetRHQKRwPQrXIz5AmpmZmZmZVECuR+F6FO5XQLgehetR2EBACtejcD3KOUC4HoXrURhDQGZmZmZmtlRAZmZmZmZ2VkBcj8L1KPxOQB+F61G4fklAj8L1KFxvVkCamZmZmRlDQHE9CtejsEJAcT0K16PwKkBxPQrXo3AtQJqZmZmZWUZAAAAAAABAQUC4HoXrURhKQI/C9Shcz0JAAAAAAAAAFUAfhetRuN5GQB+F61G4LlZAw/UoXI8iUkDNzMzMzIxTQClcj8L1aEVAKVyPwvWoOUBmZmZmZqZCQGZmZmZmdlJAexSuR+FaSEBI4XoUrmdXQB+F61G4/lhA16NwPQpXTkDhehSuR2FLQIXrUbgexUVAj8L1KFy/U0BSuB6F61EMQM3MzMzMXFhAhetRuB41VUCF61G4HoVHQMP1KFyPklhA7FG4HoXrBUAK16NwPQoYQNejcD0Kl1RASOF6FK7HPEBxPQrXo7BJQNejcD0KZ1dAH4XrUbgeV0DXo3A9ChdKQAAAAAAAkFBAzczMzMw8U0BmZmZmZuYjQArXo3A9ulZAhetRuB6lQkCPwvUoXG9DQAAAAAAAsFJA7FG4HoUrQkA9CtejcP0xQJqZmZmZ+U1Aw/UoXI/CMEDNzMzMzMwMQFK4HoXrkVNAzczMzMysT0AK16NwPYouQJqZmZmZ2UtAcT0K16MwTUBcj8L1KPxEQFyPwvUo3CFA",
          "dtype": "f8"
         },
         "z": {
          "bdata": "UpcJALfeCACwTA0AoW4AAI9zBAB4cAkAOykCAKYXDgAj0QcAQVwGAPoyAwBsNAUAXtUMADdlDADNeAAA8PYGAP7FDQDncwAA24QAABZ/DQC+6AkAk1wLAJ+EBgCDjg4Ag+4NACEBAgDzTgcAbiwJAOx6CAA+PwMA/20NAN+pCgCejQUAy/oLAAu4BAASZAQAJqUAAGs8DwDWAwMATRcHAOP8DgArPQMANY8MAPV0DgCGwwAA6UUFAIevDACQvwgAq5gBAHLSAwC9jwAAJScKAJlDAQAEmAUAe74FADglBgC43AQAIBQOAKbsAwD+0wYAjNEOAGBOAACbVAsAuQIDAIRrCABAZg4AeNcNAFbwDAAlCQ0AxToPAJarCQAvmwwA6kQEAK1wAgBM7g4AUzQIADf1DQB+OwYAy64FABUhDAClGQcA+z4JAGaCCwB1qQYAUOAIAHQtCgAa3g4A1egHAD1rCQDXJQYAIPEHAL23DQDongsAlvIFAH7NAgC/KgEAIkgIAONZDAANFgQAIiEMAFrlAQCo+gwAIS4NAISyAgDPWQkAtxwMAJOgCQDTCQYAQ30AAHdFDQCjuQoAlEQHADDYBAD7twEApJ0LAIuQAgBTrQEAkokNAGOQAADlXQYA/38CABkhCQD9agEAU2oDAME2BgDH0AAAmp0MAANuCQBNEQsA",
          "dtype": "i4"
         }
        },
        {
         "hovertemplate": "<b>%{hovertext}</b><br><br>attack_type=Phishing<br>attack_source=Unknown<br>incident_resolution_time_(in_hours)=%{x}<br>financial_loss_(in_million_$)=%{y}<br>number_of_affected_users=%{z}<extra></extra>",
         "hovertext": [
          "Telecommunications",
          "Education",
          "Government",
          "Government",
          "IT",
          "Government",
          "Retail",
          "Telecommunications",
          "Healthcare",
          "IT",
          "Retail",
          "Banking",
          "Education",
          "Education",
          "Retail",
          "Retail",
          "Government",
          "Healthcare",
          "Government",
          "Healthcare",
          "Education",
          "Retail",
          "Retail",
          "Retail",
          "Telecommunications",
          "IT",
          "Healthcare",
          "Healthcare",
          "IT",
          "Education",
          "Education",
          "Retail",
          "Retail",
          "Banking",
          "Retail",
          "Retail",
          "Government",
          "Banking",
          "Healthcare",
          "Healthcare",
          "Retail",
          "Healthcare",
          "IT",
          "Government",
          "Banking",
          "Retail",
          "Telecommunications",
          "IT",
          "IT",
          "Healthcare",
          "Retail",
          "Telecommunications",
          "Government",
          "IT",
          "Retail",
          "Healthcare",
          "Healthcare",
          "Banking",
          "Healthcare",
          "IT",
          "IT",
          "Education",
          "Government",
          "Retail",
          "Telecommunications",
          "Telecommunications",
          "IT",
          "Retail",
          "Education",
          "IT",
          "Retail",
          "Retail",
          "Banking",
          "IT",
          "Healthcare",
          "Banking",
          "IT",
          "Banking",
          "Telecommunications",
          "Education",
          "Healthcare",
          "Retail",
          "Education",
          "IT",
          "IT",
          "Telecommunications",
          "Retail",
          "IT",
          "Government",
          "Banking",
          "Education",
          "Healthcare",
          "Government",
          "IT",
          "Retail",
          "Education",
          "Education",
          "IT",
          "Government",
          "IT",
          "Banking",
          "IT",
          "Banking",
          "Retail",
          "Retail",
          "Education",
          "Education",
          "Banking",
          "Education",
          "IT",
          "IT",
          "Retail",
          "Healthcare",
          "Banking",
          "Education",
          "IT",
          "Retail",
          "Retail",
          "IT",
          "Healthcare",
          "Healthcare",
          "Banking",
          "Education",
          "Government",
          "Government",
          "Government",
          "Banking",
          "Banking",
          "IT",
          "Banking",
          "Healthcare",
          "Banking",
          "Retail",
          "Telecommunications"
         ],
         "legendgroup": "Phishing, Unknown",
         "marker": {
          "color": "#636efa",
          "symbol": "x"
         },
         "mode": "markers",
         "name": "Phishing, Unknown",
         "scene": "scene",
         "showlegend": true,
         "type": "scatter3d",
         "x": {
          "bdata": "HQ4ZPkUqEQowHxMPBQQ/M0IwDRAhEA1ACEESBUIvIAsaJgImRyI4BSEDCUclOTwSLA8NJikQQiUFJzBDMQglAhlBOSAtNi1IFQ8PQR0jPD4RCCQ9FCUZBh4TLw0JNUVCBhQ3FEBAAjI6CyAIPB1FOEg4EhoSRAQDNAQTAzVILwcWRR4KEg4=",
          "dtype": "i1"
         },
         "y": {
          "bdata": "exSuR+EqVkAUrkfhelRXQHE9CtejUFRAMzMzMzMzO0BxPQrXo3APQEjhehSux1FAuB6F61GIVkCamZmZmTlVQFyPwvUozFFA7FG4HoXrHkD2KFyPwrVTQKRwPQrXY01AFK5H4Xo0QUDNzMzMzAxSQOF6FK5HwUhApHA9CtdTVkAzMzMzMyNWQJqZmZmZmfU/j8L1KFzvTkApXI/C9SgIQClcj8L1SEhAAAAAAAAACEBI4XoUrodAQBSuR+F6lDRAexSuR+GqVkCkcD0K16MKQArXo3A9elVAAAAAAABwVECkcD0K19NSQHsUrkfhujZA9ihcj8KVSEDNzMzMzMxXQGZmZmZm5ixAUrgehetRN0BI4XoUrndYQLgehetR2EBAFK5H4XokUkAAAAAAAEBLQIXrUbgexVJAhetRuB4FU0AK16NwPepGQGZmZmZmpkNAzczMzMzMAEBSuB6F65E+QBSuR+F6lC1Aw/UoXI+CVkDhehSuR+E8QB+F61G4nkxA7FG4HoXrOEAfhetRuK5QQFyPwvUoXCtAuB6F61E4TEBcj8L1KNwoQOxRuB6FKzhAPQrXo3C9KkApXI/C9SgEQJqZmZmZmTFACtejcD0KRkCF61G4HuVNQI/C9ShcDzFAMzMzMzMzFECuR+F6FK4jQFK4HoXr0U1AuB6F61FYRUCF61G4HsVBQFK4HoXrUUlAexSuR+F69D/NzMzMzAxMQHsUrkfh2lJAw/UoXI8iUECamZmZmdk7QJqZmZmZmVFAj8L1KFyPQ0DsUbgehetIQFyPwvUo3EtAXI/C9SicPUDXo3A9CpdLQAAAAAAAwDxAmpmZmZmZM0BxPQrXo3ADQJqZmZmZmVFAexSuR+F6LkDNzMzMzIxRQAAAAAAAUFhASOF6FK6HU0AfhetRuB4vQDMzMzMz41VAhetRuB4FOkAfhetRuL5FQFyPwvUoXBJA7FG4HoWLVECkcD0K16MxQOF6FK5H0VVAMzMzMzOTQEAAAAAAAEBDQB+F61G4flhA7FG4HoUbVkD2KFyPwvUZQI/C9ShcDzhA4XoUrkeBV0DD9Shcj8IqQEjhehSux0dApHA9CtfDQ0D2KFyPwtVGQM3MzMzM/FJArkfhehReVEAUrkfhehQVQM3MzMzMnFNAKVyPwvXIQkBI4XoUrudEQMP1KFyPQlRAMzMzMzOTQ0AzMzMzM9NXQKRwPQrXo/g/mpmZmZn5R0CF61G4HhVSQClcj8L1yFFA4XoUrkfhSUDD9ShcjwI3QBSuR+F6lCZA9ihcj8L1REDXo3A9CtcoQEjhehSuB0FAFK5H4XrUQkB7FK5H4dpIQB+F61G4blVAmpmZmZmpUEC4HoXrUfhLQFyPwvUovE5AFK5H4XoEUEDD9Shcj8IsQLgehetRWENAcT0K16NwJ0AK16NwPUpQQA==",
          "dtype": "f8"
         },
         "z": {
          "bdata": "a4gHAAFsAQBvKg8AXTEIANnnDADoKwEAp4sDAB81DABwHQ4A4DYMAHgwCwDFJQ0AGikOACB7CABOHAEACr8FAOWoCgD8uQUAvY8EAP7LBwAb2Q0AcIwEAJNIAAAWuAsAKMcNANmMAwAlrwAASoEBAEeKBgCr5AkA8VMDANTrCgDPugQAOmoNAFG8AQCSKgUAXP0KADfNBwCoBQIA/jEHAPMHBgAecAQAV7ECAN+vBwBvNgYAcDECAIB5AQChpAEAZwENAGVACADYNQIAmXwFAHI+CQBS+gAAi58AALNUBgDx0AwAws0KALDTDQC5rQAAmP4AAG2XCQBbaggAHbcEAOw6CQBU1gcAGTgJAJ3eBgD2ngsAyeYDAI+1DgAKVQcAZKENANdPBABZvQIA6A0JANgEAQCDog4APJINAJZtCAAh8gkAnSQJAD2hCQDEhQIAs8ALAPA0CwD8cgQAeNcDAC5sAAAD/woALmYOAI4gAADptgsAt5sJANPmBwCf0gUAN5AOAOT5AgDmOw0AteAIACRCDgBHkgMAvS4FAIF2AQCFzg4AJh4JALL9DgAN3AAAQ9AFAAikCQBq+wwAuQ0LAFYbBAAeegAAw7AIAFXJAgDKBwMA2WwFACn6AgD/GQEA/NkFAOW1CABiQgUAkNsGAL3hCQCjMgUAjJsCAGXaBQDFpgMAgzUMAG4+BAAQqwMAe8EEAHs6DwA=",
          "dtype": "i4"
         }
        },
        {
         "hovertemplate": "<b>%{hovertext}</b><br><br>attack_type=Ransomware<br>attack_source=Hacker Group<br>incident_resolution_time_(in_hours)=%{x}<br>financial_loss_(in_million_$)=%{y}<br>number_of_affected_users=%{z}<extra></extra>",
         "hovertext": [
          "Retail",
          "Retail",
          "Retail",
          "IT",
          "Banking",
          "Government",
          "Telecommunications",
          "Telecommunications",
          "IT",
          "IT",
          "Telecommunications",
          "IT",
          "Healthcare",
          "Retail",
          "Banking",
          "Telecommunications",
          "Retail",
          "Banking",
          "Healthcare",
          "Healthcare",
          "Banking",
          "Government",
          "Healthcare",
          "Government",
          "IT",
          "Retail",
          "Retail",
          "Retail",
          "Healthcare",
          "IT",
          "Telecommunications",
          "Banking",
          "Banking",
          "IT",
          "Retail",
          "Healthcare",
          "Telecommunications",
          "IT",
          "Education",
          "IT",
          "Education",
          "Telecommunications",
          "IT",
          "IT",
          "Government",
          "Telecommunications",
          "Education",
          "Healthcare",
          "Telecommunications",
          "Telecommunications",
          "IT",
          "Banking",
          "Banking",
          "Retail",
          "Government",
          "IT",
          "Education",
          "IT",
          "Government",
          "Government",
          "Education",
          "Banking",
          "Education",
          "Retail",
          "Healthcare",
          "IT",
          "Retail",
          "Education",
          "Education",
          "Banking",
          "Government",
          "Telecommunications",
          "Government",
          "IT",
          "Telecommunications",
          "IT",
          "Retail",
          "Banking",
          "Education",
          "Education",
          "Telecommunications",
          "Government",
          "Banking",
          "Healthcare",
          "Government",
          "Healthcare",
          "Telecommunications",
          "Healthcare",
          "Government",
          "Retail",
          "Retail",
          "Education",
          "Education",
          "IT",
          "Education",
          "Retail",
          "Retail",
          "Government",
          "IT",
          "Government",
          "Government",
          "Healthcare",
          "Education",
          "IT",
          "IT",
          "IT",
          "Banking",
          "Banking",
          "Banking",
          "Telecommunications",
          "Retail",
          "Telecommunications",
          "Healthcare",
          "Healthcare",
          "Healthcare",
          "Education",
          "Government",
          "Retail"
         ],
         "legendgroup": "Ransomware, Hacker Group",
         "marker": {
          "color": "#EF553B",
          "symbol": "circle"
         },
         "mode": "markers",
         "name": "Ransomware, Hacker Group",
         "scene": "scene",
         "showlegend": true,
         "type": "scatter3d",
         "x": {
          "bdata": "RysLGSY2MDVDLA4VGyoGNw4tCw4vGjYKPCcQAiM3Ng9FJRQYDEEyQEUTAzcqAkJAQEIRLSYjChgDLQoVNQUjBT8OKicuEDA6JiVHGC0dHxYzESU+BBM7Khw5RjMTIkYDDh4aJxlELhsVNkcVKkMWHDM0QS5IAg==",
          "dtype": "i1"
         },
         "y": {
          "bdata": "uB6F61EYT0BmZmZmZsZIQArXo3A9yjdA16NwPQq3QUBSuB6F6xFFQPYoXI/C9UNACtejcD0KTkDXo3A9CpdQQOF6FK5HAVFAXI/C9SjcIkAUrkfhehQMQB+F61G4/ktAexSuR+HqUkAK16NwPYpBQHsUrkfh+ipAj8L1KFyPJkC4HoXrUZhQQClcj8L16DBAj8L1KFyPQkAzMzMzM/M1QLgehetRGEVAZmZmZmZmGkBcj8L1KFxAQNejcD0KJ1JAH4XrUbieQEDsUbgehXtWQFK4HoXrwVZAMzMzMzODUkB7FK5H4dpJQFyPwvUojFBAMzMzMzOzOEAAAAAAAGBJQDMzMzMzMyRArkfhehTOQEC4HoXrUXgzQHE9Ctej8ERA16NwPQoXQEAfhetRuB5OQJqZmZmZmR5AmpmZmZlJV0CF61G4HsU2QArXo3A9CiVACtejcD26UUDsUbgehUtMQPYoXI/C9QpAzczMzMwMVkDNzMzMzIw5QK5H4XoUrhpAw/UoXI8yVUApXI/C9agnQKRwPQrXg1JAAAAAAACgR0ApXI/C9RhXQHsUrkfh6lZAAAAAAADQU0DD9Shcj9JUQOF6FK5HwUlAj8L1KFzvUUBxPQrXo3BIQDMzMzMz01NAZmZmZmbmNUC4HoXrUahXQIXrUbgeZU1AuB6F61E4V0AUrkfhetROQHsUrkfh+jFA9ihcj8LVRkDsUbgehftTQEjhehSux0hAMzMzMzODWECuR+F6FH5UQJqZmZmZ2VFA16NwPQrXK0DXo3A9CtdOQBSuR+F6lDZA16NwPQpnVUAzMzMzM9NXQArXo3A9WlZAPQrXo3A9U0CkcD0K16MkQArXo3A92lhAMzMzMzPTWEDsUbgehQtLQIXrUbgexTBArkfhehSORUB7FK5H4dpVQIXrUbge9VhAH4XrUbjeU0BI4XoUrkcpQIXrUbgeNVNAzczMzMw8UUCkcD0K16MiQNejcD0K1yZAw/UoXI8SUkBSuB6F6wFYQMP1KFyPAjpAuB6F61H4M0DXo3A9ChdNQB+F61G4fk1AUrgehetRBkA9CtejcH1GQEjhehSul1ZAZmZmZmZmOED2KFyPwrVOQJqZmZmZ+VFAuB6F61G4QEBI4XoUrkcaQMP1KFyPAkVAcT0K16NwKEDsUbgehStQQFK4HoXrwVFA7FG4HoUrO0BxPQrXoxBOQDMzMzMzcz5AmpmZmZm5S0AAAAAAAIBNQI/C9ShcD1JAexSuR+F6R0A=",
          "dtype": "f8"
         },
         "z": {
          "bdata": "GYQEAGwKDgCabQcALcsOAFVkAwD4EQkA9VcNANrBAgC+qwIAH4YHALEYCgCADgsAbU4GAE+nAADhRgUAZbEHAAhJCQC4iA4A/LoBAF5RAwCBZgIA7lICAMMrDwC0FQkAP2cIAKdICgCcag0AGCIDABAYDQBGNAgAVZoMAHfPAAB5ugAA7lMMAI+SBwCCbAEAbGcMAOBpBQDq0AkA77AFANClDACm3AMAJigGANtcCgC7VAYALssIAFB7DQDYcwgAjgUEADySBQCgaQwAtuMGAETxAAAHOQEAka0GAP5RAwCjMQgAaA0AAPWiAgCxPQ8ApKYEABb0BgDSAQ8AJ8ULAJjDCQCMMgwAojsEAFL2CADI7AMAqZICAKx4BQAkBQEAQ5YFAN6vBwA5nwUAopoMAAIPDwBB6wYABIAOACD9AgC4awUALOwDAA/ZBwClHA4A6SsAAB48AQAQZgYAJQkHAN4nAAAv5gIAYuoEAGfKAgCD2QAAOywKAMu0DQDcLQsAcAYLAICVDABsjAwAUsUGANGDDgDBPggAat4NAGk5AwCiqQoApkILABDEBgAwogwAtyANACDwCgBcZAEAkI0GAOuKDQAFVgcAQn0HAOsAAgArVQQAIUEKAA==",
          "dtype": "i4"
         }
        },
        {
         "hovertemplate": "<b>%{hovertext}</b><br><br>attack_type=Ransomware<br>attack_source=Nation-state<br>incident_resolution_time_(in_hours)=%{x}<br>financial_loss_(in_million_$)=%{y}<br>number_of_affected_users=%{z}<extra></extra>",
         "hovertext": [
          "Telecommunications",
          "Telecommunications",
          "Banking",
          "Education",
          "Banking",
          "Telecommunications",
          "Retail",
          "Retail",
          "Government",
          "IT",
          "Retail",
          "Banking",
          "Healthcare",
          "Government",
          "Education",
          "IT",
          "Retail",
          "Banking",
          "Retail",
          "Telecommunications",
          "Retail",
          "Telecommunications",
          "Banking",
          "Healthcare",
          "Education",
          "Education",
          "Retail",
          "Banking",
          "Healthcare",
          "Healthcare",
          "Telecommunications",
          "Government",
          "Government",
          "Healthcare",
          "Telecommunications",
          "Healthcare",
          "Telecommunications",
          "Banking",
          "Banking",
          "Retail",
          "IT",
          "IT",
          "Education",
          "IT",
          "Telecommunications",
          "IT",
          "Education",
          "Telecommunications",
          "Banking",
          "Banking",
          "Healthcare",
          "Government",
          "Banking",
          "Banking",
          "IT",
          "Banking",
          "Retail",
          "Government",
          "Government",
          "Healthcare",
          "Government",
          "Education",
          "IT",
          "Banking",
          "Healthcare",
          "Telecommunications",
          "Retail",
          "Retail",
          "Government",
          "Healthcare",
          "Government",
          "Government",
          "Government",
          "Telecommunications",
          "Healthcare",
          "Retail",
          "Healthcare",
          "Retail",
          "Government",
          "IT",
          "Education",
          "Government",
          "Banking",
          "Telecommunications",
          "Retail",
          "Government",
          "Government",
          "Government",
          "Education",
          "Retail",
          "Banking",
          "Banking",
          "Healthcare",
          "Healthcare",
          "Retail",
          "Telecommunications",
          "Healthcare",
          "Telecommunications",
          "Banking",
          "Education",
          "Government",
          "Education",
          "IT",
          "Healthcare",
          "Healthcare",
          "Banking",
          "Telecommunications",
          "Government",
          "Healthcare",
          "IT",
          "IT",
          "Retail",
          "IT",
          "Banking",
          "Education",
          "IT",
          "IT",
          "Retail",
          "Retail",
          "IT",
          "Healthcare",
          "Education",
          "Banking"
         ],
         "legendgroup": "Ransomware, Nation-state",
         "marker": {
          "color": "#EF553B",
          "symbol": "diamond"
         },
         "mode": "markers",
         "name": "Ransomware, Nation-state",
         "scene": "scene",
         "showlegend": true,
         "type": "scatter3d",
         "x": {
          "bdata": "B0IZCTUiFEArKRowKBYKQxlBIBIIMCICLSwCDCEQMQsVLCEnPR8DQT9GSCIvRAcXJTYVOB4PIjYrMA8vPzgRGzIHDioZFTUvQw0WHzI2FkAnGCssMB0uRjUPNhEjGSAtOUNHKToEDCJBLx08EAkrNkgRNw8ZM0QwKzU1",
          "dtype": "i1"
         },
         "y": {
          "bdata": "uB6F61G4REB7FK5H4bo0QKRwPQrX41VAw/UoXI8CNUA9CtejcJ1IQEjhehSuRx1AUrgehevBWEBSuB6F61EYQD0K16NwvT5AKVyPwvUoFkAAAAAAAABIQK5H4XoUbkpAFK5H4Xp0TUB7FK5H4RpAQDMzMzMzk0RAw/UoXI+iTED2KFyPwpVMQEjhehSuxztA4XoUrkfhJECkcD0K1yNNQOxRuB6FO1RA7FG4HoVLUEC4HoXrUTg4QClcj8L1KApAKVyPwvUoEUCkcD0K16NQQGZmZmZmBktA7FG4HoXLVEB7FK5H4TpVQKRwPQrXc1ZAFK5H4XoUJkDsUbgehWsgQLgehetRCFVAhetRuB5VU0CuR+F6FI5OQIXrUbgeZUtAUrgehesxR0Bcj8L1KJw+QD0K16Nw/UVAuB6F61HYV0DD9Shcj/JXQOF6FK5H4S1AhetRuB6VUEDsUbgehWtDQEjhehSuRy5AMzMzMzNTS0Bcj8L1KJxRQB+F61G4nlZApHA9CtdzVECamZmZmflYQB+F61G4/k5AZmZmZmYmTEDD9ShcjxJUQOF6FK5H4RBA16NwPQo3TkCamZmZmRk7QB+F61G4LlFAPQrXo3B9UEA9CtejcL0kQArXo3A9KkVAFK5H4XoEV0DD9Shcj0JRQK5H4XoULjdAMzMzMzNzO0CPwvUoXL9UQIXrUbgehSpASOF6FK5XWEB7FK5H4fo8QI/C9Shcb0NAAAAAAADQUEB7FK5H4epUQNejcD0K1xdAzczMzMwsVECuR+F6FN5QQArXo3A9ijVAFK5H4XoUQED2KFyPwrVQQIXrUbgexTxAmpmZmZm5T0D2KFyPwvUaQDMzMzMzs1VA9ihcj8JVV0BI4XoUrkdAQNejcD0Kd0FAuB6F61G4TUDNzMzMzGxKQAAAAAAAYFhArkfhehRuOEAAAAAAAEBAQAAAAAAAIEZAXI/C9Sh8S0A9CtejcF1PQMP1KFyPQjJAPQrXo3CdQkApXI/C9WhHQArXo3A92lVApHA9CtdjS0CPwvUoXM9BQDMzMzMzk0xAZmZmZmYGVECuR+F6FK4kQOxRuB6F+1VAXI/C9SgcNUD2KFyPwjU4QArXo3A9ChJAUrgehevxSEDsUbgehWtGQNejcD0K1wVAw/UoXI8yVkBxPQrXozA7QOF6FK5H8VhAuB6F61G4R0BxPQrXo/BFQAAAAAAAAEBAKVyPwvUoAkAzMzMzM9NFQK5H4XoUbk1APQrXo3BtVkCF61G4HmVKQDMzMzMzc0JAUrgehevxQkBcj8L1KBwyQKRwPQrXIzxA",
          "dtype": "f8"
         },
         "z": {
          "bdata": "eA8KAPmIBACkPA4AKAUMAFL2AQDUuwIAUFMFAJ2sAgA5XAsA1eMDAFLdAgCu+wMA4isDAA5dBwDCXwUAkaALAJHEAAAFawUAzEsAAGKXBACCxwwA9AgFAOzqCABcuAIADtkFAAZ2AQBGKggA9REGAO5UAgBwtwAAiswNAPgzCAAhngoAKtAFAPM8CQAzAgYAYD0JAHDmDQAE5QUAPL4LAO+mAwCigAgAorUCAMx7CgA2zQ4ArKIBAH6DAgB8twAAo6IAAP6NBgCkkgcAvugAAHq9BwB8/gAAlK8OAJgMAwAuxwcAMqwAAErrDQATCgoAZIIMAIpUDgCPmwUADOwAAF0zDABv1wYAwSAHACX4DgB2yA4AvyYMAOCyCgBNaAEAAaIBAMLVAABz7AUAQgUFAM20AwBIAw8ANmIBAIBTCwDlAw0A00APALbxDgBABAsAE7YOAIcnDgDshwsABZUKALhUBgAqPg4AIi8MACgbCQAUxAQAzjEDALD/CACBBw4A5yoHAIScAwDmvgoAmXcHALETDABRMwcAAK4IABjCAgCb4g0AzL4JAOo+AAA5GgcAthEFAA6bCwCfIggAeaIKAIX6CAAj4AoAgPkAAPUwBQCXRQ4AgwcOAOhiDgDBWAwA+N0MAH/3DAD6EAkA",
          "dtype": "i4"
         }
        },
        {
         "hovertemplate": "<b>%{hovertext}</b><br><br>attack_type=Ransomware<br>attack_source=Insider<br>incident_resolution_time_(in_hours)=%{x}<br>financial_loss_(in_million_$)=%{y}<br>number_of_affected_users=%{z}<extra></extra>",
         "hovertext": [
          "Education",
          "Education",
          "Banking",
          "Education",
          "Retail",
          "Government",
          "Healthcare",
          "Banking",
          "Banking",
          "Education",
          "Education",
          "Telecommunications",
          "Retail",
          "Retail",
          "Education",
          "Banking",
          "Retail",
          "Retail",
          "IT",
          "Telecommunications",
          "Retail",
          "Telecommunications",
          "Education",
          "IT",
          "Banking",
          "Banking",
          "Education",
          "Government",
          "Banking",
          "Banking",
          "Banking",
          "Banking",
          "IT",
          "Education",
          "Education",
          "Government",
          "Retail",
          "Government",
          "Healthcare",
          "Telecommunications",
          "IT",
          "Healthcare",
          "Healthcare",
          "Education",
          "Education",
          "Banking",
          "Banking",
          "Healthcare",
          "Government",
          "IT",
          "Education",
          "Retail",
          "Healthcare",
          "Banking",
          "Education",
          "Healthcare",
          "Healthcare",
          "Healthcare",
          "Government",
          "Government",
          "IT",
          "Retail",
          "Government",
          "IT",
          "Banking",
          "Education",
          "IT",
          "Healthcare",
          "Education",
          "Healthcare",
          "Healthcare",
          "Banking",
          "Banking",
          "Healthcare",
          "Education",
          "Telecommunications",
          "Telecommunications",
          "Education",
          "Government",
          "IT",
          "Education",
          "Education",
          "Healthcare",
          "Education",
          "Education",
          "Retail",
          "Government",
          "Telecommunications",
          "Telecommunications",
          "Retail",
          "IT",
          "Telecommunications",
          "Healthcare",
          "IT",
          "Education",
          "Banking",
          "Banking",
          "IT",
          "Healthcare",
          "Telecommunications",
          "Healthcare",
          "IT",
          "Telecommunications",
          "IT",
          "Government",
          "Retail",
          "IT",
          "Education",
          "Banking",
          "Banking",
          "Government",
          "IT",
          "Healthcare",
          "Healthcare",
          "Telecommunications",
          "Telecommunications",
          "Telecommunications",
          "Government",
          "Banking",
          "Healthcare",
          "Government"
         ],
         "legendgroup": "Ransomware, Insider",
         "marker": {
          "color": "#EF553B",
          "symbol": "square"
         },
         "mode": "markers",
         "name": "Ransomware, Insider",
         "scene": "scene",
         "showlegend": true,
         "type": "scatter3d",
         "x": {
          "bdata": "JQsYJho9QDA8HwczNg4mGjsqQCEoKjoEDQUhE0g2LAMqAzwlLyAIASA5ExY6GhBDJys6DCclPh4KMzY7GShIFyY7AhcMHUZDCiw2KDYZQxUiHS0gEAk6KAsUKSlEFT86Pz0CAyorKzYpEhIxBjIxHiwnD0cxIQI3CA==",
          "dtype": "i1"
         },
         "y": {
          "bdata": "j8L1KFyPPkC4HoXrUbgxQOxRuB6FKzpA16NwPQp3VUB7FK5H4Xo9QHE9Ctej8D9AFK5H4Xr0TkBmZmZmZmZKQNejcD0KB1RAH4XrUbieJ0CkcD0K19NRQDMzMzMzU0BA4XoUrkehREAfhetRuL5CQJqZmZmZOVZAuB6F61FYQEAUrkfhevRHQIXrUbgexURAuB6F61F4QUDsUbgehesPQOxRuB6FS0dACtejcD0KDUCamZmZmXlGQEjhehSuhzJAAAAAAADgQEDhehSuR2EmQHsUrkfhujlAcT0K16MgVUDsUbgehQtSQFK4HoXrUS9A9ihcj8J1QUAfhetRuL5RQArXo3A9ikRAFK5H4XpUSUAAAAAAACBUQKRwPQrXo1VAcT0K16OQTUCkcD0K12NKQFyPwvUozFhA4XoUrkehN0CF61G4HuVEQIXrUbgeNVNAAAAAAACQWECkcD0K18NFQB+F61G4HiZAFK5H4XpUOECuR+F6FA5JQK5H4XoUrkJA7FG4HoXLTEBcj8L1KJxCQAAAAAAAAC1A7FG4HoVLT0B7FK5H4apRQB+F61G4XlhAw/UoXI9CNEAAAAAAAABAQLgehetRuBRAKVyPwvUoLkDsUbgehWtDQPYoXI/CtVVAmpmZmZnZOUBI4XoUrkcWQPYoXI/CNTVAH4XrUbgOVkBSuB6F61FJQHE9CtejcDFAw/UoXI9CMUAUrkfhepQpQOxRuB6FO1BAhetRuB4lQUCkcD0K16MiQOxRuB6Fay5AuB6F61EoVkA9CtejcD0xQNejcD0K1zNA16NwPQonU0B7FK5H4fowQIXrUbgeRUFAZmZmZmbmOUDsUbgehYtEQOF6FK5HMVRAUrgehesxRkAfhetRuN5PQOF6FK5HIUtAKVyPwvWoR0AUrkfhelQwQK5H4XoUriVA7FG4HoV7V0CPwvUoXC9MQHE9Ctej0FFArkfhehSOSUCamZmZmXlYQOF6FK5HIUVAZmZmZmZGUkD2KFyPwkVTQI/C9Shcb1dAUrgehetRK0BmZmZmZqZIQJqZmZmZmTBAzczMzMxsUECuR+F6FC5EQDMzMzMzM0lASOF6FK7HSEDsUbgehQtUQJqZmZmZ2UxA7FG4HoWrUkAUrkfherRVQClcj8L1KFVAcT0K16OwQkAK16NwPco8QB+F61G4HgNAzczMzMzcVUB7FK5H4RpPQNejcD0K11FA7FG4HoXrMUBcj8L1KNxIQNejcD0KV0hAFK5H4XoUI0BSuB6F65FPQBSuR+F6dE1AzczMzMxMTUA=",
          "dtype": "f8"
         },
         "z": {
          "bdata": "JOYIAB3+AwC1Tg4A1AgHABkpBgDYZgcAFawOADJVAAAHGQ4ATWQGABcOAAAoyAQAFhEKAJLADADvxwYAcOMKAKlWAgBBDgYAC6UJAMSvCQA+eAMAHocDAAukBwC9Hg4AteIAALGTAgDWwAkAVqkEALc6BAAReAwA8qYHAKnSAgCBEggABP0MAABFBAATsg4AuWgLADFNBACPXgsA8N8IAHocAAAKNQkAA2QNABUgCwCefQcAFTABABb9DAA5XwsA/YgNAEsIDAARZAUAGZsHAE6bCACH4AkAwTICAIuuAgCs+goAU1gKAAU5AwAb3wEAy7ACANHhCAC6tQgA5AcIADNWDQBWIgkAR94LAGP+CQBVbQIAa2cCAJz8CwAy7wEAUrQKACdrCgDXswwAGxMMAMnRDQDERwkA23EOAHCnCgA4fw0ADmEHAK5FAQDDVAAAXvEMAEb7DADQnggAbAgDACwvCgDRuAYAAbsHAI8gAgANdwoAO0sFAK1lCABnLwUArIMMAANtDQBe6QoAo8kAAAazBgAYhwAALtMBAG3jAQAWjwoAqZkHAAhqCwALJwgA/CwEAJ/NAgC/JQoAcoQEAJ4oCAD53woAIl4CAE3SCABzAwcAX+cFAHRUCACcPAwAIikBAA==",
          "dtype": "i4"
         }
        },
        {
         "hovertemplate": "<b>%{hovertext}</b><br><br>attack_type=Ransomware<br>attack_source=Unknown<br>incident_resolution_time_(in_hours)=%{x}<br>financial_loss_(in_million_$)=%{y}<br>number_of_affected_users=%{z}<extra></extra>",
         "hovertext": [
          "Retail",
          "Telecommunications",
          "Education",
          "Telecommunications",
          "Banking",
          "IT",
          "Education",
          "Telecommunications",
          "IT",
          "Retail",
          "Education",
          "Government",
          "Government",
          "Banking",
          "Retail",
          "Telecommunications",
          "Banking",
          "Banking",
          "Government",
          "IT",
          "IT",
          "IT",
          "IT",
          "Government",
          "Retail",
          "Retail",
          "IT",
          "Retail",
          "Retail",
          "Banking",
          "Healthcare",
          "Retail",
          "Telecommunications",
          "Government",
          "Banking",
          "IT",
          "Education",
          "Education",
          "IT",
          "Telecommunications",
          "Education",
          "IT",
          "Healthcare",
          "Retail",
          "IT",
          "Education",
          "Banking",
          "Education",
          "Healthcare",
          "Education",
          "Healthcare",
          "Telecommunications",
          "Telecommunications",
          "Education",
          "Telecommunications",
          "Healthcare",
          "Retail",
          "Healthcare",
          "IT",
          "Retail",
          "Healthcare",
          "Healthcare",
          "Education",
          "Healthcare",
          "Telecommunications",
          "Telecommunications",
          "Education",
          "IT",
          "Government",
          "Healthcare",
          "Healthcare",
          "Healthcare",
          "Government",
          "Education",
          "Government",
          "Healthcare",
          "Government",
          "Banking",
          "IT",
          "Government",
          "Retail",
          "Retail",
          "Education",
          "Retail",
          "Banking",
          "Retail",
          "Healthcare",
          "IT",
          "IT",
          "Government",
          "Telecommunications",
          "Government",
          "IT",
          "Government",
          "Education",
          "Healthcare",
          "Government",
          "Telecommunications",
          "Government",
          "Education",
          "Retail",
          "Government",
          "IT",
          "Retail",
          "Government",
          "Healthcare",
          "Banking",
          "Healthcare",
          "Healthcare",
          "Government",
          "Retail",
          "Healthcare",
          "Healthcare",
          "Retail",
          "IT",
          "Healthcare",
          "Education",
          "Government",
          "Banking",
          "Government",
          "Healthcare",
          "Healthcare",
          "Education",
          "Retail",
          "Retail",
          "Government",
          "Banking",
          "Education",
          "IT",
          "Government",
          "Government"
         ],
         "legendgroup": "Ransomware, Unknown",
         "marker": {
          "color": "#EF553B",
          "symbol": "x"
         },
         "mode": "markers",
         "name": "Ransomware, Unknown",
         "scene": "scene",
         "showlegend": true,
         "type": "scatter3d",
         "x": {
          "bdata": "PSYWPy8ONjEEAwEHMQYmOCEkRCosPwwVOTAiPSErR0QGMD8VKAo9Dy8rPxoNHA8sBhALCQRBRw0aHgsEDgIUIChDQgcEOxQ8JxEcEQsqFTwDBD4DDgIKOyclFx0vHhhDAhE6MSsKIEMhGyc2LzojRBU8KwI5FicjQBUQRBYbEDswMDQ=",
          "dtype": "i1"
         },
         "y": {
          "bdata": "hetRuB4FUEApXI/C9SgwQKRwPQrX4z1ArkfhehSeUUAUrkfherRTQB+F61G4HjpAw/UoXI/CTEB7FK5H4TpQQOF6FK5H4VNA7FG4HoU7U0CuR+F6FC4uQBSuR+F61E1AcT0K16OAUkCuR+F6FG5EQFK4HoXrkTFACtejcD0KQECF61G4HtVTQB+F61G4njZAhetRuB7VUUC4HoXrUdhOQFyPwvUonDBA4XoUrkeRU0AzMzMzM+NRQGZmZmZmZhJAKVyPwvUoJ0BI4XoUrkcRQD0K16Nw3UVACtejcD16UUCamZmZmblPQB+F61G4niNAFK5H4XrUQECPwvUoXA8jQOF6FK5HYTFAexSuR+HaQEBcj8L1KDxLQBSuR+F61EBAKVyPwvWoRUDD9Shcj4JQQM3MzMzMTFBAuB6F61HIUkDXo3A9CrdXQPYoXI/C1U9A7FG4HoXrJECkcD0K16MjQKRwPQrXIztA16NwPQqHWEAzMzMzM9NTQJqZmZmZGSFAj8L1KFwPOEAUrkfhehQbQK5H4XoULjxAXI/C9Sj8VkDhehSuR/FTQK5H4XoULilAKVyPwvV4V0AzMzMzM/NWQIXrUbgeBVVArkfhehSu9z/2KFyPwgVVQEjhehSuB0xAFK5H4XqUMUCF61G4HoVTQHE9Ctej8EZA4XoUrkcBTkCF61G4HlVWQD0K16NwXU1AhetRuB7FV0CamZmZmVk9QNejcD0KV1ZAKVyPwvUoMkAfhetRuF47QEjhehSu50VArkfhehReVkApXI/C9bhUQDMzMzMz80xArkfhehQOTEDXo3A9CtcuQBSuR+F6hFhA4XoUrkcBVUC4HoXrUbhVQBSuR+F6lDRAcT0K16PwKUAUrkfhepRBQNejcD0KF1ZApHA9CteDSkDD9ShcjwJDQD0K16NwfTlAj8L1KFzfUkApXI/C9WhOQFyPwvUoHFhAuB6F61H4WEBSuB6F62FUQB+F61G4jlVApHA9CtcjSkAfhetRuG5QQKRwPQrXIydAmpmZmZl5VkB7FK5H4XojQOxRuB6FW1VAH4XrUbiuVUAAAAAAAOBIQAAAAAAAEFJAw/UoXI+CO0DXo3A9CndIQK5H4XoULkRApHA9CtejMEBxPQrXo3BKQMP1KFyPwixAH4XrUbguVEDhehSuR2E7QLgehetRuPY/16NwPQqXR0AzMzMzM3NAQD0K16NwPUJAzczMzMxMOUC4HoXrUTgmQK5H4XoUblVAKVyPwvUIUkBSuB6F62FYQHsUrkfheiJA7FG4HoUbV0CamZmZmWlVQB+F61G4nlZA4XoUrkcBREB7FK5H4bpOQLgehetRWE5ACtejcD1KQUAK16NwPQoWQFK4HoXrgVJA7FG4HoXrNUD2KFyPwrVJQA==",
          "dtype": "f8"
         },
         "z": {
          "bdata": "9KEDAPyaAwBT4QUA2WEIAPyXCwBMVAAAEpgCAMsHCQAAQg4APNwGAKH0DQCxCw0A3ZkOAFifCADdmgMAqIwGAAd6CAATyAAAxe8DAJ2+CgA36w0AovsCAAzHDQCWoAsAAv0HAL5RAwB9vwQAwDMFAOhmBQCUeAcAEUMGAHdeAQAyJgEAwQ8CAFo4CQA8AwIAfKcAAFt0DQBvrgQAybMCAJfwAQCViwgAaH8AAJhSCQBpeAMATlUKAF2hDQAfFw0Ajv8EAE+mCgCOygoAKdkKAHpRAgCYhQwAajEJAH3pAQCmFgEA/HsMAG4iDwBZ1AUA30cAAN8XDwAahAIAYvMCAGfYCwAXRgUAtF8KAETTBACs0QIAcw4DAM1KCADP0g0ABBQDAN8iBQCYBwQAK+YDAJF4CADwIQwAK5UMAPCDAQBw9wkAr34GAI2JAQCyFw8ARBEIAOVmBgDRxAAAsikIABj+DQAuNwcAVEAPAISZCgCRQQEANL8FAEaUBgCVNAIAI6YMAGbNAQAWgAoA/SUIAPZ8AgD4IQ0AMdcJAMSFDQCUmwQAz+0NAOv9DgC9OQQArrgOACAFDgCWywcA6scHAEOfBgA/ogIA4ikBABv7CwBLuQkAjUgKAOKWCwC/7AEAJycDADkKDgD4wg0ASD0PAIIhDQB8NQ4AM+wEAEVMCwDbHgkApyIBAOboAgA=",
          "dtype": "i4"
         }
        },
        {
         "hovertemplate": "<b>%{hovertext}</b><br><br>attack_type=Man-in-the-Middle<br>attack_source=Hacker Group<br>incident_resolution_time_(in_hours)=%{x}<br>financial_loss_(in_million_$)=%{y}<br>number_of_affected_users=%{z}<extra></extra>",
         "hovertext": [
          "IT",
          "Healthcare",
          "Retail",
          "Retail",
          "Government",
          "Retail",
          "Government",
          "Healthcare",
          "Retail",
          "Retail",
          "Retail",
          "Retail",
          "IT",
          "Retail",
          "Banking",
          "IT",
          "Banking",
          "IT",
          "Education",
          "Banking",
          "Government",
          "Retail",
          "Telecommunications",
          "Telecommunications",
          "Telecommunications",
          "IT",
          "IT",
          "Education",
          "Telecommunications",
          "Retail",
          "Healthcare",
          "Telecommunications",
          "Retail",
          "Telecommunications",
          "Government",
          "Retail",
          "Telecommunications",
          "IT",
          "IT",
          "IT",
          "Banking",
          "Telecommunications",
          "Education",
          "Healthcare",
          "Healthcare",
          "Healthcare",
          "IT",
          "Government",
          "Healthcare",
          "Education",
          "IT",
          "IT",
          "Banking",
          "Education",
          "Banking",
          "Telecommunications",
          "Education",
          "Government",
          "Education",
          "Education",
          "Retail",
          "Retail",
          "Government",
          "Banking",
          "Retail",
          "Retail",
          "Government",
          "Healthcare",
          "IT",
          "Telecommunications",
          "Education",
          "Retail",
          "Retail",
          "Banking",
          "Retail",
          "Retail",
          "Education",
          "Telecommunications",
          "Healthcare",
          "Government",
          "Education",
          "Telecommunications",
          "Healthcare",
          "Education",
          "IT",
          "Healthcare",
          "Government",
          "Telecommunications",
          "Retail",
          "Telecommunications",
          "Government",
          "IT",
          "Government",
          "Government",
          "Government",
          "Retail",
          "IT",
          "Telecommunications",
          "Government",
          "Government",
          "IT",
          "Education",
          "Government",
          "Healthcare",
          "Retail",
          "Healthcare",
          "Government"
         ],
         "legendgroup": "Man-in-the-Middle, Hacker Group",
         "marker": {
          "color": "#00cc96",
          "symbol": "circle"
         },
         "mode": "markers",
         "name": "Man-in-the-Middle, Hacker Group",
         "scene": "scene",
         "showlegend": true,
         "type": "scatter3d",
         "x": {
          "bdata": "FEMoKhpHRiZAIho4NQc1MT8UG0cqCDkKHx0QEyQdRwpIOx0hOAEGKUICOjYjFAFIKSoqN0IEQDQzDkYkJTsbRkgFGQoxFSQZDyg/OAs+KzJGDEMtMBIWGjQ9OwUdIDoNHUQtGxoLOwElPhY=",
          "dtype": "i1"
         },
         "y": {
          "bdata": "MzMzMzNTQ0AUrkfhehQqQFK4HoXrUStAmpmZmZkpVkDsUbgehes/QK5H4XoUjkdAXI/C9ShsUUCkcD0K11NUQJqZmZmZmUdAUrgehesxUkBmZmZmZrZSQDMzMzMzk0JAH4XrUbiOU0AfhetRuH5SQMP1KFyPUlVAZmZmZmZmPkC4HoXrUdhCQB+F61G4vkpAcT0K16NwPkApXI/C9SjwP0jhehSu11JAuB6F61G4LUBI4XoUrpdWQClcj8L16EVArkfhehTuUEB7FK5H4XotQBSuR+F6JFJAZmZmZmbWUUC4HoXrUWhSQBSuR+F6pFJAhetRuB7lU0AAAAAAAIA+QFyPwvUo3CJAuB6F61E4LUDhehSuR9FTQGZmZmZmdlZAPQrXo3DdQkCF61G4HuVPQDMzMzMzczpAw/UoXI+CPkBI4XoUrkctQI/C9Shcv1ZAmpmZmZkZVUA9CtejcH0xQOxRuB6F6/k/rkfhehRuUEA9CtejcG1SQDMzMzMzE0xAMzMzMzOzS0CkcD0K18NIQJqZmZmZWTRAZmZmZmYWU0CPwvUoXI9LQGZmZmZmFlNArkfhehSuLUA9CtejcD0kQLgehetR+EhAMzMzMzNzT0D2KFyPwvU0QBSuR+F6lDpApHA9CtejK0D2KFyPwlVVQDMzMzMzMxBAcT0K16NgUEBxPQrXo/AjQKRwPQrXo0VAj8L1KFyvVUDXo3A9ChdYQFyPwvUoTFBAPQrXo3DtWEAfhetRuB4qQOF6FK5HMVVAAAAAAADgQECuR+F6FJ5QQOF6FK5HYT5AhetRuB41U0CPwvUoXK9BQArXo3A9ak9AUrgehesRTEAUrkfherRJQBSuR+F6lDtAuB6F61H4U0C4HoXrUYhQQOxRuB6F6z1AZmZmZma2VkC4HoXrUbgEQFK4HoXrAVFA4XoUrkcBTkDsUbgehWsuQOxRuB6Fy0pA4XoUrkeBTkAUrkfheqRWQM3MzMzMPFRACtejcD2KU0CamZmZmalWQD0K16NwPSlAMzMzMzNzTUA9CtejcC1WQOF6FK5HIUxAFK5H4XqURkBcj8L1KAxVQOF6FK5HAVJApHA9CtcDRkC4HoXrUVhGQBSuR+F6NEdAcT0K16NwTECF61G4HoUqQA==",
          "dtype": "f8"
         },
         "z": {
          "bdata": "xz4JAO74DABp8wYAO4QGABJ/AgCjiQoAy+IKACXLCgC5FAgASywAALRhCAD/rQMAn7sEAKBOCQDrdAoA8KwIAHmFBQA+5AgAmjUPAI8CAQBGywYAEPkAAI7ECgDbQwMAdwAGAM+RCAA1SQcAVl0CACM+AACFqQcA1hANADgfBgAKnwgADwwNAK0WDgChBAsAqvcMABL9AgAa+wwAQIkGAB9wDQCcYAcAttEMAJOWCgAKIwUAXZIEADWOCAD0cAcAFg0BADUXDgAdIwIAuAgHAHZhDgAI5gcAgXoMAAUvBgA8xgkA6dMBABPJAwA1yAQA/6sJANyBDAAKdgUA+esOAJcvCADhVgAAGA0KAG4YCQDvTAMApnQFAIszDAB4+AEAeCcHAMWCCQCQdAAABbkJANz0BgB4owwAGh8GAAB+BwCgnwIAN5kBAOxxDgADUA4AswgPAE43CQA6KQYAYEwLAHtXCgAxEwAATWEIAKriAwCOoAwAAtEHAB22DQBy0A4AQ18AAB/rAgCz/wIA1K4IAGheAQCB6wIAD+wAAKmnCAAejAcAS1oGAGNoCQA=",
          "dtype": "i4"
         }
        },
        {
         "hovertemplate": "<b>%{hovertext}</b><br><br>attack_type=Man-in-the-Middle<br>attack_source=Nation-state<br>incident_resolution_time_(in_hours)=%{x}<br>financial_loss_(in_million_$)=%{y}<br>number_of_affected_users=%{z}<extra></extra>",
         "hovertext": [
          "Education",
          "Retail",
          "Education",
          "Education",
          "Healthcare",
          "Banking",
          "IT",
          "Healthcare",
          "Healthcare",
          "Retail",
          "Telecommunications",
          "Telecommunications",
          "Retail",
          "Government",
          "Healthcare",
          "IT",
          "Retail",
          "Retail",
          "Banking",
          "Retail",
          "Banking",
          "Telecommunications",
          "Education",
          "Telecommunications",
          "Telecommunications",
          "IT",
          "Government",
          "IT",
          "Retail",
          "Retail",
          "Banking",
          "Government",
          "Telecommunications",
          "Healthcare",
          "Telecommunications",
          "Government",
          "Healthcare",
          "Telecommunications",
          "IT",
          "Healthcare",
          "Banking",
          "Telecommunications",
          "Retail",
          "Healthcare",
          "IT",
          "Retail",
          "IT",
          "Telecommunications",
          "Education",
          "Government",
          "Healthcare",
          "Banking",
          "IT",
          "IT",
          "Retail",
          "Banking",
          "Retail",
          "Banking",
          "Retail",
          "Retail",
          "Retail",
          "Banking",
          "Government",
          "Education",
          "Telecommunications",
          "Education",
          "IT",
          "Education",
          "Banking",
          "Education",
          "Government",
          "Retail",
          "Education",
          "Healthcare",
          "Retail",
          "Government",
          "IT",
          "Banking",
          "Retail",
          "Retail",
          "Telecommunications",
          "IT",
          "Healthcare",
          "Banking",
          "Banking",
          "Retail",
          "IT",
          "Education",
          "Retail",
          "Banking",
          "Education",
          "Government",
          "Education",
          "Telecommunications",
          "Retail",
          "Education",
          "Retail",
          "Banking",
          "Healthcare",
          "Education",
          "Healthcare",
          "Healthcare",
          "Banking",
          "Banking",
          "Retail",
          "IT",
          "Education",
          "Telecommunications",
          "Banking",
          "Healthcare",
          "Education",
          "IT",
          "IT",
          "Telecommunications",
          "Banking",
          "Banking",
          "Retail",
          "Retail",
          "Healthcare",
          "Banking",
          "Government",
          "Banking",
          "Telecommunications",
          "IT",
          "Education",
          "Banking",
          "Healthcare",
          "Education",
          "Education",
          "Banking",
          "Government"
         ],
         "legendgroup": "Man-in-the-Middle, Nation-state",
         "marker": {
          "color": "#00cc96",
          "symbol": "diamond"
         },
         "mode": "markers",
         "name": "Man-in-the-Middle, Nation-state",
         "scene": "scene",
         "showlegend": true,
         "type": "scatter3d",
         "x": {
          "bdata": "RkUXEDYkKRk+DAE6Ci8pIBsWMiQCPzcRGxAnAS4aGkgIG0gLOwMvK0IQOyoIGzcjHDkFKRo1SCIsQB0PRCUsMAtHAwwCHRMkHDEfDBQOPx06EB8rHBszAioUJBgURA8wIzhFLRw/HTkPODsoQx8BQioSCxYzRRQrBBQFCycTIAZECSA=",
          "dtype": "i1"
         },
         "y": {
          "bdata": "j8L1KFzPM0DD9Shcj+JDQJqZmZmZmSVA7FG4HoXbVEDNzMzMzIxWQClcj8L1qERAXI/C9ShcJEDD9ShcjyJMQHsUrkfhWkhA9ihcj8L1MkDD9Shcj0IvQArXo3A96ldASOF6FK6HUkBcj8L1KFxAQD0K16NwDVBASOF6FK5XWEAUrkfheiRXQKRwPQrXoxxA7FG4HoXrU0AzMzMzM9NPQArXo3A9SjxA4XoUrkchO0ApXI/C9fhTQClcj8L16DJArkfhehSuP0D2KFyPwnVDQK5H4XoU7jdAKVyPwvWISkBSuB6F6+FYQJqZmZmZWTdA16NwPQoXMECuR+F6FC5JQIXrUbgeJUVAj8L1KFzPPEAfhetRuL5VQKRwPQrXg05AzczMzMzMIkC4HoXrUfhUQGZmZmZmBlVAhetRuB4FSkBSuB6F61FYQMP1KFyPokFAuB6F61E4MUAUrkfhepRCQIXrUbge5URAKVyPwvXISkCF61G4HtVTQAAAAAAAYFZA16NwPQqXQkDD9Shcj3JYQIXrUbgeJUFArkfhehQ+VEB7FK5H4RpWQKRwPQrXM1ZA16NwPQqHUkC4HoXrUUhXQHE9Ctej4FJAFK5H4XoUQUApXI/C9WhBQB+F61G4HkhASOF6FK5nWEDNzMzMzAxDQBSuR+F69EZA9ihcj8I1QUAK16NwPUpIQI/C9Shcf1FAuB6F61H4VUA9CtejcL1CQOF6FK5HwUpAj8L1KFyPL0DhehSuR+FWQK5H4XoU7jhAXI/C9SgcWECamZmZmdlWQNejcD0Kl01AhetRuB4lQ0A9CtejcJ1LQGZmZmZm5ixAPQrXo3B9TUCuR+F6FK4fQArXo3A9ulBA4XoUrkdhN0AzMzMzM5NCQDMzMzMzc1RAmpmZmZm5RUAAAAAAAFBXQAAAAAAAwEZA9ihcj8J1QkDXo3A9Cpc+QGZmZmZmpkBAH4XrUbh+SUCPwvUoXK9IQClcj8L1KBtApHA9CtdjTUAUrkfhehQsQFK4HoXrkTRAhetRuB4FTkBxPQrXo3A0QPYoXI/CtTBAZmZmZmZGTkDsUbgehes6QHsUrkfheidAw/UoXI/CC0BI4XoUrrdVQArXo3A96ldAAAAAAACQUEAAAAAAAGBUQEjhehSuR+E/MzMzMzNzUEBcj8L1KJw2QM3MzMzMbEZAuB6F61E4K0CuR+F6FD5TQD0K16NwXVdAH4XrUbgeV0AzMzMzMzM7QMP1KFyPYk1A4XoUrkehVEDXo3A9Clc8QAAAAAAAADtAFK5H4XoULUCF61G4HsVNQPYoXI/C9RhACtejcD0KT0CPwvUoXI9BQEjhehSud1ZA16NwPQr3TkCamZmZmblAQDMzMzMz41BAZmZmZmZ2UkC4HoXrURhIQA==",
          "dtype": "f8"
         },
         "z": {
          "bdata": "ZAcLAL6PCwDyMgwAH8kEAObkCwDp1wkA+z8OAPmqCgBHbQYAAxoIAL0zAwCZ9wMAEYsIADJfAwCKzQoAqr8OAN1qDADqnwUAxt8KANW/BAD8LA4ASmQOAEhaBgAIYwgAJL8FANaDDADD+AQA4jYIANXeBwCPiA4A7BwBAHiGAgDqeAwA9osKALOzCQD6uQsA3FYHAI/1DgAyCQ4A8I8LACSYCgDprwsAjrMDAIefCgAg6wYAH1QDAI3bDAAmfQIAiCIEAMcFDwD1ZA4AFmkEAJB/CgDtogsAJmwCAPBRBgCHjwQAcEgFAByiBwAsKwUAHwEHAJ/dAgBU6gQAcagOAEJ3BQAzuwwAZykLANrWBQDaYAoAezALAOkzDQCq1wYAuZ4BAJN9CQDiUQkAWh0MAJcwAAD2dwQA4qMIACIICgAjYgIAjW4JAARzBQBzPQQAfXkHAJdUBQCxkg0A1KYMAGl1CQBhRQ4AzXQKAJpdCQCD5gUAk/EIADvMAQA00gEA7pYFAFv6DgAKAgYAOqsKAIOcCgCokgYAbvgCAKs3DAACwwUA3qIEALujCgBIaAYAVPQCAO4yCwBCDggA/LkHANduAwDBPgYALgUAAOGKCAA6oQIAUlMDABXRBgBWXQQAEoEHANTQDADSSAsAmTkMAFlKDQAlPgAA6fIAAF7mCwCeYwQAmD8EAEvhBgA=",
          "dtype": "i4"
         }
        },
        {
         "hovertemplate": "<b>%{hovertext}</b><br><br>attack_type=Man-in-the-Middle<br>attack_source=Insider<br>incident_resolution_time_(in_hours)=%{x}<br>financial_loss_(in_million_$)=%{y}<br>number_of_affected_users=%{z}<extra></extra>",
         "hovertext": [
          "IT",
          "Banking",
          "Education",
          "Healthcare",
          "Telecommunications",
          "Banking",
          "Telecommunications",
          "Healthcare",
          "Healthcare",
          "Healthcare",
          "Banking",
          "Retail",
          "Healthcare",
          "Government",
          "Healthcare",
          "IT",
          "Retail",
          "Telecommunications",
          "Healthcare",
          "Telecommunications",
          "Education",
          "IT",
          "IT",
          "Government",
          "Banking",
          "Banking",
          "Banking",
          "Education",
          "IT",
          "Healthcare",
          "Telecommunications",
          "Education",
          "Government",
          "Telecommunications",
          "Banking",
          "Retail",
          "Banking",
          "Government",
          "Retail",
          "IT",
          "Education",
          "Government",
          "Banking",
          "Retail",
          "Education",
          "Education",
          "Healthcare",
          "Education",
          "Telecommunications",
          "IT",
          "Telecommunications",
          "IT",
          "Government",
          "Banking",
          "Education",
          "IT",
          "IT",
          "Retail",
          "IT",
          "Telecommunications",
          "Banking",
          "Telecommunications",
          "Government",
          "Education",
          "Healthcare",
          "Education",
          "Banking",
          "IT",
          "IT",
          "Education",
          "IT",
          "Banking",
          "Healthcare",
          "Banking",
          "Telecommunications",
          "Telecommunications",
          "Telecommunications",
          "Telecommunications",
          "Education",
          "Healthcare",
          "Banking",
          "Education",
          "Education",
          "Education",
          "Government",
          "Banking",
          "IT",
          "Retail",
          "Banking",
          "Healthcare",
          "Banking",
          "Education",
          "Education",
          "Retail",
          "Retail",
          "IT",
          "Retail",
          "Government",
          "Retail",
          "Healthcare",
          "Banking",
          "Banking",
          "IT",
          "Government",
          "Education",
          "Telecommunications",
          "Healthcare"
         ],
         "legendgroup": "Man-in-the-Middle, Insider",
         "marker": {
          "color": "#00cc96",
          "symbol": "square"
         },
         "mode": "markers",
         "name": "Man-in-the-Middle, Insider",
         "scene": "scene",
         "showlegend": true,
         "type": "scatter3d",
         "x": {
          "bdata": "RDMgHic/PwcKExNIGSUtJ0Y3Kw4KDC0nQiAELicLHyc8IA8lFEI4OykGNAgYHjoWRQUUCiMiFjo+HA8JQAgfL0g6GwlFBA8tHx8GPBsTAisvOAcrHD8bQEAOK0MyNQo4FToONwMoRw0mQCE=",
          "dtype": "i1"
         },
         "y": {
          "bdata": "CtejcD2aUkDNzMzMzIw3QNejcD0K1y9AZmZmZma2VkApXI/C9ehRQPYoXI/C1UdArkfhehTuU0BmZmZmZqZXQFK4HoXr0TtAhetRuB4FUkBSuB6F61FYQLgehetReERArkfhehSORkBI4XoUrgdPQMP1KFyPolRA16NwPQp3UEAK16NwPYojQK5H4XoUrhNAmpmZmZmZJkAzMzMzM5NYQD0K16NwfURAhetRuB7lQUBxPQrXo7A8QOxRuB6Fq0RAPQrXo3BdVEDXo3A9CrdNQFK4HoXrAVNAexSuR+H6LUCPwvUoXO9IQMP1KFyP4kpAj8L1KFz/UkAfhetRuH5TQD0K16NwfVFAj8L1KFxPUkApXI/C9agyQGZmZmZmZj9A9ihcj8LVTUB7FK5H4fonQClcj8L1GFNAhetRuB6FDUBmZmZmZhZRQOxRuB6Fy0FAcT0K16NQVUA9CtejcN1DQDMzMzMz8ztAzczMzMz8UkAzMzMzM/NSQIXrUbgehfs/7FG4HoXrKUC4HoXrUbg1QJqZmZmZ+VFAUrgehesRUUCF61G4HiVLQMP1KFyPwhNA7FG4HoVrMEBmZmZmZmZKQClcj8L1SEFAw/UoXI9CMEBSuB6F65FMQNejcD0Kp1BAw/UoXI+CVEDXo3A9CmdUQB+F61G4HkVA16NwPQrnVEBSuB6F63FQQBSuR+F6lD1AhetRuB4FOkApXI/C9fhVQIXrUbgeRUtAXI/C9ShcAUDsUbgehStRQIXrUbgehQ1AhetRuB5FS0CPwvUoXI8MQLgehetROFdAcT0K16NwRUApXI/C9ahNQDMzMzMzM0BA4XoUrkehVUDXo3A9CjdBQOxRuB6Fa1RAcT0K16NAVEBSuB6F6zFHQJqZmZmZ2TRA16NwPQqXMUCF61G4HgUuQPYoXI/C9TZAXI/C9Sj8R0DD9Shcj8JHQJqZmZmZWVdAUrgeheuhUEBcj8L1KOxWQDMzMzMzk0NASOF6FK5HN0AK16NwPepXQOxRuB6FK0VA16NwPQrXVkAAAAAAAOBGQClcj8L1CEdAKVyPwvUoHkAK16NwPYojQLgehetR+FFAj8L1KFyvQUCF61G4HoXjP9ejcD0KlzNAMzMzMzPzV0ApXI/C9UhYQA==",
          "dtype": "f8"
         },
         "z": {
          "bdata": "ul4MAFapAQCBbg4AgWMLAE1ZBgC5tgEA4zQMALMcAABqyAIAbvwDABZQAQApqgoATVMIAIbmBADAhQAAtO8OAMp8CQB49AsA2PsAAIb/BgCEUgYAeAsNAM1VDgCq4wIAi9MEAKDaAQDqcwYACGAOAA51DABknAQAMZIIAM+4DQBzUAoASWYOAIB4BAC8CAQAmmcLAOM3CwDYAwAAAhQIABM8BwCiIgsARWQMAMU4AQDaigkAEJELAGxmDgC9NwYAVuYDAINGDQDnMQsAGxAIAKQyDgD0FQEAousAAKeqCQCdtQAAXA4IALYBCQB1GQkAhaMMAGTnAwCFQAIAG3YAAE/TBwBjKAIALKAIALxoCAC61gsAd8ECAGgSCwBypAgA+Z4NAGB4DQCP9gcAvUEOACPyDAAyrQYAB/gNAM4nDgAipA0AlVkGAFUaCgBPzwcAhKgAAApbBgDaAgoArI8AAKFGAQAbuQwA3bAAAKrdCAAnsw4Au/IJADp7BgAF/QEAfmgIAE82DQDzfgAA19gKAI5yDQBbjwsAudwFAJ4QAwA+4wkArVsAAIhdDQA=",
          "dtype": "i4"
         }
        },
        {
         "hovertemplate": "<b>%{hovertext}</b><br><br>attack_type=Man-in-the-Middle<br>attack_source=Unknown<br>incident_resolution_time_(in_hours)=%{x}<br>financial_loss_(in_million_$)=%{y}<br>number_of_affected_users=%{z}<extra></extra>",
         "hovertext": [
          "Retail",
          "Banking",
          "Banking",
          "Retail",
          "Government",
          "Banking",
          "Education",
          "Healthcare",
          "Telecommunications",
          "Education",
          "IT",
          "Banking",
          "IT",
          "IT",
          "Healthcare",
          "IT",
          "IT",
          "Banking",
          "Healthcare",
          "Telecommunications",
          "IT",
          "Banking",
          "IT",
          "Telecommunications",
          "Banking",
          "Banking",
          "Retail",
          "IT",
          "Banking",
          "Retail",
          "Telecommunications",
          "Education",
          "IT",
          "Education",
          "Banking",
          "Government",
          "Government",
          "Healthcare",
          "IT",
          "Retail",
          "IT",
          "Government",
          "Government",
          "IT",
          "Healthcare",
          "IT",
          "IT",
          "Telecommunications",
          "Government",
          "Banking",
          "Healthcare",
          "Banking",
          "Telecommunications",
          "Education",
          "Government",
          "Banking",
          "Government",
          "Education",
          "IT",
          "Retail",
          "IT",
          "Education",
          "Banking",
          "Government",
          "IT",
          "Healthcare",
          "IT",
          "Telecommunications",
          "IT",
          "Banking",
          "IT",
          "Banking",
          "IT",
          "Retail",
          "Telecommunications",
          "Education",
          "Telecommunications",
          "Healthcare",
          "Education",
          "Healthcare",
          "Banking",
          "IT",
          "Banking",
          "Telecommunications",
          "Government",
          "Banking",
          "IT",
          "Education",
          "IT",
          "Banking",
          "Healthcare",
          "Healthcare",
          "Banking",
          "IT",
          "Banking",
          "IT",
          "IT",
          "Education",
          "Government",
          "Banking",
          "Healthcare",
          "Retail",
          "Healthcare",
          "Government",
          "Government",
          "Retail",
          "IT",
          "Government",
          "Education",
          "IT",
          "Banking",
          "Education",
          "Banking",
          "Retail"
         ],
         "legendgroup": "Man-in-the-Middle, Unknown",
         "marker": {
          "color": "#00cc96",
          "symbol": "x"
         },
         "mode": "markers",
         "name": "Man-in-the-Middle, Unknown",
         "scene": "scene",
         "showlegend": true,
         "type": "scatter3d",
         "x": {
          "bdata": "GS8dR0QrOkIWEDRCJQ0DGgg3OkI0FxE0IBxDNgsEITwPDgJEJDYXKwoCGBYOLycBDz80IBIBKDMJFjc1HkccRAcTSAE6LyBFRzI2HEgwJSEzM0MnKjUWKCEzMCwsFTQcMSAuNh8RFBEwEEM6C0YuGggE",
          "dtype": "i1"
         },
         "y": {
          "bdata": "j8L1KFyPWEDhehSuR+EwQOxRuB6Fq0xAmpmZmZmZV0AzMzMzM3NIQGZmZmZmJjRASOF6FK4HQkApXI/C9ehKQIXrUbge9VVAMzMzMzNzO0BxPQrXo+BSQKRwPQrXA0tA16NwPQrnUEAzMzMzM1NVQMP1KFyPklVAKVyPwvXIT0DXo3A9CtcUQLgehetRuChA16NwPQrXH0BSuB6F69E8QKRwPQrXw1FASOF6FK63VEA9CtejcB1MQHsUrkfh2kVASOF6FK63VkCkcD0K1wNTQOxRuB6FK0ZACtejcD1qTEDsUbgehStMQNejcD0KV0JA9ihcj8I1MUBxPQrXo/AxQD0K16NwHVVA4XoUrkfhIUBxPQrXozBLQClcj8L1GFNA4XoUrkdhR0DD9Shcj8IdQK5H4XoUbkhAMzMzMzMzTkDhehSuR4FHQDMzMzMzM1BAFK5H4XpkVEAAAAAAAAD8PwrXo3A9ij1AZmZmZmZmVkBSuB6F69EnQGZmZmZmZiRA4XoUrkfhR0BSuB6F61E3QD0K16NwvUNAUrgehesBVkBSuB6F6/FMQKRwPQrXIzpAj8L1KFzvQ0A9CtejcD1QQClcj8L1WFhA7FG4HoXLSkBcj8L1KJxAQD0K16Nw/TFAXI/C9ShcLUDNzMzMzMzwP7gehetROFBAZmZmZmZ2VUAzMzMzMyNVQD0K16Nw/TdAZmZmZmZ2VUApXI/C9RhQQMP1KFyPwldA7FG4HoVLQUCkcD0K1/NSQFyPwvUoPEBAZmZmZmamOkDsUbgehctIQM3MzMzMrE9AKVyPwvXYVUAUrkfhekRWQGZmZmZmxk5AXI/C9ShcAUAK16NwPXpXQJqZmZmZ+UpArkfhehS+UUApXI/C9bhRQM3MzMzMzDVAKVyPwvXoT0BxPQrXo/A2QK5H4XoU7j5AhetRuB6lWEC4HoXrUUhXQOF6FK5HkVJAH4XrUbieMUC4HoXrUXhEQFK4HoXrMU9A4XoUrkcRVECPwvUoXI8uQMP1KFyPIkdAexSuR+F6SECamZmZmRklQLgehetRGElAKVyPwvUoRkCamZmZmZkVQArXo3A9SlRAAAAAAACAIEC4HoXrUQhYQNejcD0Kt1hA16NwPQpHVkCPwvUoXI9RQNejcD0Kd01A16NwPQq3SUDsUbgehWsqQEjhehSuRzhA16NwPQr3UkDhehSuR6FMQOxRuB6F6ylA",
          "dtype": "f8"
         },
         "z": {
          "bdata": "EVoEAImnCgC/MgcA5HIFAAK0AgBuvQUAW78AAJX2BwCHWwgAeqoJAG6RAAC0rgEAn7QDAFleAgBzLAYA4ngFAGtYAADrDw8A7L8LACPPBgDTTQ0A3+cDAKXHCgCV3wAAWywOAE0XCAAd4AcAKZ0CACw2BgCLhwMAPK8NAF5XDADSbwEA7+IGAPeJAQBkwgQAfuIKAI1KCwBW2w4AAdMLAOFZDgDlNgQA3kILANNtCQDIxgwAiE8IAA2uCwDF0QYADIoGAJUBCACi3wYAzfUIAHmvBgA8Xw0AkLcDAEZpBwBM5QcAK14MAJhNAwC3ugcAKTEAAKHlAwBV5Q4ATNcMADf8BQCOngEAwKQKAPtCDAAOpQgAj4UGAInCCAAJdQ4AYV4DAJdYBAAvfgQA068EAOs4DgBNVAMABmEJALrZCwDS6gwAJhoHAEXIBQA6TwkANnUIAJnkDAALqwgAR3UMAOuHDgDcaQgArHsKALgQDwCmDw0Aj/oJANEuDwDvyQEA0+0EAKoyAAB7EQoAFq4JAIwhBAC2jQoA21oNALxcBwAHvgAASm8LAO+3BQC/zQMAU8cJACZiCACTPA8AoQkPAIQDDQC34wMA",
          "dtype": "i4"
         }
        },
        {
         "hovertemplate": "<b>%{hovertext}</b><br><br>attack_type=DDoS<br>attack_source=Hacker Group<br>incident_resolution_time_(in_hours)=%{x}<br>financial_loss_(in_million_$)=%{y}<br>number_of_affected_users=%{z}<extra></extra>",
         "hovertext": [
          "Healthcare",
          "Telecommunications",
          "Government",
          "IT",
          "Education",
          "Retail",
          "Healthcare",
          "Healthcare",
          "Banking",
          "IT",
          "Healthcare",
          "Telecommunications",
          "Education",
          "IT",
          "Government",
          "Banking",
          "Healthcare",
          "Government",
          "Government",
          "Education",
          "Healthcare",
          "IT",
          "Government",
          "Telecommunications",
          "Healthcare",
          "IT",
          "Healthcare",
          "Telecommunications",
          "Banking",
          "Government",
          "Banking",
          "Government",
          "IT",
          "Telecommunications",
          "Education",
          "Education",
          "IT",
          "IT",
          "Retail",
          "Government",
          "Retail",
          "Education",
          "Retail",
          "Healthcare",
          "Telecommunications",
          "IT",
          "IT",
          "Telecommunications",
          "Banking",
          "Government",
          "Retail",
          "IT",
          "Education",
          "Retail",
          "IT",
          "Government",
          "Banking",
          "Government",
          "Telecommunications",
          "Healthcare",
          "Retail",
          "Education",
          "Banking",
          "Banking",
          "Education",
          "Telecommunications",
          "Banking",
          "Healthcare",
          "Retail",
          "Retail",
          "Banking",
          "Banking",
          "IT",
          "Government",
          "Government",
          "Telecommunications",
          "Healthcare",
          "Healthcare",
          "Retail",
          "Healthcare",
          "Education",
          "Government",
          "Government",
          "IT",
          "Retail",
          "Education",
          "Banking",
          "IT",
          "Telecommunications",
          "Healthcare",
          "Healthcare",
          "Telecommunications",
          "Government",
          "Telecommunications",
          "Education",
          "Banking",
          "Banking",
          "Healthcare",
          "Telecommunications",
          "Telecommunications",
          "Telecommunications",
          "Education",
          "Telecommunications",
          "IT",
          "Telecommunications",
          "Retail",
          "Government",
          "Retail",
          "Telecommunications",
          "Healthcare",
          "Education",
          "IT",
          "Healthcare",
          "Telecommunications",
          "Banking",
          "Banking",
          "Telecommunications",
          "Telecommunications",
          "Healthcare",
          "Government",
          "Banking",
          "Telecommunications"
         ],
         "legendgroup": "DDoS, Hacker Group",
         "marker": {
          "color": "#ab63fa",
          "symbol": "circle"
         },
         "mode": "markers",
         "name": "DDoS, Hacker Group",
         "scene": "scene",
         "showlegend": true,
         "type": "scatter3d",
         "x": {
          "bdata": "Oh49QB1GOCk3SBQYJRoaQw8sBUVHBjMNCgUzIzgbQkM8HBcJQhsTBD4bIQ4yCCAbGTQNLhMMCxQPHBcPAkhBIw9FIwQlEwUBJgI7CAkWPwQLJTI/PwwnEz8UBQU+CwEYEicYQUAmODVBLyBGLho2IigsBxsjMBYMBg4=",
          "dtype": "i1"
         },
         "y": {
          "bdata": "KVyPwvVIUUDsUbgehetJQM3MzMzMrFRASOF6FK6HUkDD9ShcjwI1QLgehetR2E1A7FG4HoUbU0BI4XoUridNQI/C9Shcz1ZA7FG4HoWLU0DhehSuR9FQQK5H4XoUrv8/XI/C9SiMVEAfhetRuB4xQKRwPQrXo0tA7FG4HoVrQEAK16NwPWpLQEjhehSuh1RAUrgehetRUUDXo3A9CodUQM3MzMzM3FZArkfhehSOT0CamZmZmRlMQEjhehSu91BAmpmZmZkZR0B7FK5H4Xo/QD0K16NwPR1AhetRuB51UUAUrkfhesRTQKRwPQrXY1RASOF6FK5nT0D2KFyPwrU8QAAAAAAA8FFAXI/C9Sg8SECPwvUoXN9UQEjhehSuV1FACtejcD2KLUBSuB6F69FQQFyPwvUovEJA7FG4HoVrL0B7FK5H4YpUQLgehetReDJA4XoUrkehQ0AfhetRuL5DQB+F61G4HlRASOF6FK4HQEB7FK5H4XoyQI/C9ShcDzlAmpmZmZnZPUBxPQrXo3AqQLgehetRaFRAFK5H4Xr0RkCuR+F6FC5KQGZmZmZmxlJAAAAAAABgSkB7FK5H4To4QJqZmZmZuUVAZmZmZmamV0DhehSuR0FVQNejcD0Kd01AFK5H4XqUJ0CkcD0K11NUQOF6FK5HwUBA4XoUrkdhSEDD9Shcj0IqQAAAAAAAoFJAhetRuB4FJEDD9Shcj0JTQClcj8L1qCtAj8L1KFxvU0DXo3A9CldVQB+F61G4nldAw/UoXI+iQEApXI/C9ZhUQHsUrkfhWkBArkfhehSuP0AAAAAAAIBRQHsUrkfh+kBAPQrXo3DdRkDhehSuR+EaQAAAAAAA4FNAFK5H4XpkUEBmZmZmZmZBQEjhehSux1BAAAAAAAAA4D8K16NwPapDQFK4HoXrIVNArkfhehTOUUAAAAAAAOBTQIXrUbgeJVdAFK5H4Xo0S0CuR+F6FC4yQMP1KFyPMlZAj8L1KFwPL0BSuB6F69E6QPYoXI/CFUZAPQrXo3D9RkApXI/C9SgCQD0K16NwfUJACtejcD16VECF61G4HmVBQArXo3A9SkdAmpmZmZn5SUAK16NwPQorQOxRuB6F60dA16NwPQrXUECF61G4HjVRQMP1KFyPclZAAAAAAACAUUD2KFyPwvURQD0K16NwvT9A16NwPQonVkA9CtejcH0+QMP1KFyPQihAFK5H4XqUMEBxPQrXo/BAQFK4HoXrETlA9ihcj8IVSkC4HoXrUZhWQLgehetR+DpA9ihcj8IFVUAfhetRuD5CQA==",
          "dtype": "f8"
         },
         "z": {
          "bdata": "Z3cKAH+qCgBlzg0ApCYGAEQyCQDMuwEAIqQEAA5xBwBTIgAABBIPAAwfBQCHLQ0A888NANEUDwDILAUA6r8EAAzADgAP1wAAM5cNAINcAABJMAcA29YIAF3iCgD9bAoAVL4EANvFCwB31g4AGvUIAMpvDQAZNAEAelwMAKhNDgBGdgwA+k0OAD04AQDwKQoAD4EHAN5NBgBWRgcAQs4NALENCQDNBgYAbDQKAIP7AgArMQEAedMLAPG4AQCqiAgAZn4OAI8PDABTJAIAsscLAJ+fBwC7TQsAeb0JAGiSDQD0wgIAREIBABiwCgC5lgEAMJIKANVwDACkYwkA4IMLAO7KBwDfAgAAkgAFAEUhAAA98wgAxc0JAPvEAAAsTQQAjCkDAKjeCQBZ6QwASoEAAAVjBwCANg4AWXYIABnyCwD3tQkAVU0HAIO9AAAj4QgAkvwDAG8VBADotgAALsMKAEsKDAC13Q4AxEIFALktAwADXAcAkY0EAJdkAgCWmwMAhTYIAC6wBgCjBwMAdxEGADYPCwDLggUALwkOAKUqCADYnAcApBANANvrAADI7QYATbcKAMjhCgDvDAsAMtsLANMJCwBtgQYACVsLADagCwCoKwsA5FcHAOjSBADR5w4A5VgCAOGIAAA=",
          "dtype": "i4"
         }
        },
        {
         "hovertemplate": "<b>%{hovertext}</b><br><br>attack_type=DDoS<br>attack_source=Nation-state<br>incident_resolution_time_(in_hours)=%{x}<br>financial_loss_(in_million_$)=%{y}<br>number_of_affected_users=%{z}<extra></extra>",
         "hovertext": [
          "Healthcare",
          "IT",
          "Government",
          "Education",
          "Banking",
          "Education",
          "Banking",
          "Telecommunications",
          "Retail",
          "Banking",
          "Healthcare",
          "Education",
          "Government",
          "Education",
          "Telecommunications",
          "Retail",
          "Telecommunications",
          "Government",
          "Government",
          "Government",
          "Banking",
          "Government",
          "IT",
          "Telecommunications",
          "Healthcare",
          "Retail",
          "Government",
          "Retail",
          "Telecommunications",
          "Government",
          "Retail",
          "Telecommunications",
          "Retail",
          "Healthcare",
          "Government",
          "Education",
          "Banking",
          "Banking",
          "Banking",
          "Healthcare",
          "Education",
          "Education",
          "Banking",
          "IT",
          "Retail",
          "IT",
          "IT",
          "Government",
          "Telecommunications",
          "Healthcare",
          "Education",
          "IT",
          "Government",
          "Banking",
          "Banking",
          "IT",
          "IT",
          "Telecommunications",
          "Banking",
          "Telecommunications",
          "IT",
          "Retail",
          "Telecommunications",
          "Education",
          "Healthcare",
          "Telecommunications",
          "Government",
          "Government",
          "Retail",
          "Education",
          "Telecommunications",
          "Telecommunications",
          "Education",
          "Government",
          "Telecommunications",
          "Education",
          "Government",
          "Banking",
          "Telecommunications",
          "Education",
          "Retail",
          "Healthcare",
          "Retail",
          "Education",
          "Telecommunications",
          "Healthcare",
          "Education",
          "Healthcare",
          "Telecommunications",
          "Telecommunications",
          "Education",
          "IT",
          "Retail",
          "Telecommunications",
          "Banking",
          "Education",
          "Retail",
          "IT",
          "Healthcare",
          "Healthcare",
          "Government",
          "Education",
          "Telecommunications",
          "Government",
          "Banking",
          "IT",
          "Retail",
          "Healthcare",
          "Telecommunications",
          "Telecommunications",
          "Telecommunications",
          "Education",
          "Healthcare",
          "Banking",
          "Education",
          "Retail",
          "Education",
          "Retail",
          "Banking",
          "Retail",
          "Healthcare",
          "Education",
          "Retail",
          "Government",
          "Healthcare",
          "Telecommunications",
          "Healthcare",
          "Healthcare",
          "Telecommunications",
          "Healthcare",
          "IT",
          "Banking",
          "IT",
          "Education",
          "Retail",
          "Education",
          "Education"
         ],
         "legendgroup": "DDoS, Nation-state",
         "marker": {
          "color": "#ab63fa",
          "symbol": "diamond"
         },
         "mode": "markers",
         "name": "DDoS, Nation-state",
         "scene": "scene",
         "showlegend": true,
         "type": "scatter3d",
         "x": {
          "bdata": "IwYeRwo0C0RFAw8kLw8GDEgCQzkfHDAuAzQ5DxAKHiAZFgU5PgQaN0EHLzAgESMsPzcIQzYWHRcZNSk1NT0LNCM/SCoRL0EdEwgCNiYUDhQLGAo2NT0dIT05HS8CCRMrJQc4HB0dBiI7EUgVJDAwQhQeDCYmCxMEPhIUHxs3QigIKzotHAkrGkg=",
          "dtype": "i1"
         },
         "y": {
          "bdata": "j8L1KFwvTUCamZmZmTlCQD0K16NwLVNAH4XrUbg+WEDhehSuR5FVQEjhehSuV1JA7FG4HoXrVUD2KFyPwnVAQFK4HoXrUS5AcT0K16NQVEC4HoXrUahWQHE9CtejEFRAKVyPwvU4VEC4HoXrUTgpQM3MzMzMjDRAexSuR+F6H0DhehSuR7FVQPYoXI/CtTZAmpmZmZmpUkDD9Shcj0IvQFK4HoXrQVhAXI/C9ShcJ0BxPQrXo3A0QDMzMzMzg1RAhetRuB4FIEC4HoXrURhQQI/C9Shcn1RAMzMzMzNTQ0C4HoXrUZhBQHsUrkfhejZA7FG4HoXLREAfhetRuJ5OQFyPwvUoXB9AKVyPwvU4VUAUrkfhehRGQI/C9Shcr1dAUrgehetRREAAAAAAAGBJQKRwPQrXoyFAmpmZmZmZVkDD9Shcj4I/QMP1KFyPwi1AcT0K16NwJ0D2KFyPwrVOQOF6FK5H4VBAFK5H4XoUHkDXo3A9CjdRQBSuR+F6tFVAZmZmZmbmJEApXI/C9UhXQMP1KFyPAjVAXI/C9Sj8RkDsUbgehesrQOxRuB6F6/k/7FG4HoUrVEAUrkfhehQsQPYoXI/ChVBAw/UoXI/CWEAfhetRuJ4hQJqZmZmZGS1AuB6F61H4S0CuR+F6FC4sQK5H4XoU7k1AFK5H4XrUVUBSuB6F63FMQEjhehSuRy5AmpmZmZmpVUDXo3A9ChdVQKRwPQrXw1NArkfhehSuMUA9CtejcD0TQPYoXI/CdSdA7FG4HoUrSUDsUbgehatMQIXrUbgedVhAPQrXo3DdQECamZmZmUlYQClcj8L1eFRAw/UoXI/CTEBI4XoUrsdRQNejcD0KVypAAAAAAAAAFkBcj8L1KFxEQEjhehSuxytA4XoUrkeRUEAAAAAAAAAjQIXrUbgexUlAH4XrUbh+T0BmZmZmZmYkQLgehetReEpAPQrXo3B9MkDhehSuRwFGQOF6FK5HYSdAuB6F61HYSUBxPQrXo/ArQD0K16NwnU5ASOF6FK6XUUDsUbgehetCQOxRuB6F6zRACtejcD2KJUD2KFyPwlVNQK5H4XoUDlNAw/UoXI+yV0BxPQrXo7AyQFK4HoXr0UlAPQrXo3B9V0CkcD0K12M0QFyPwvUovFZAj8L1KFyvREAAAAAAAOBMQOF6FK5HUVJAhetRuB71WEBI4XoUrkcZQOxRuB6Fy0pAzczMzMz8V0AzMzMzM3M1QI/C9ShcT1FA16NwPQpnUUCamZmZmRlOQFK4HoXrgVFAuB6F61GYVUD2KFyPwjVJQD0K16NwbVdAH4XrUbiuWEAzMzMzM5NPQB+F61G4jldACtejcD16VEB7FK5H4XoZQJqZmZmZaVVAw/UoXI8CVkBmZmZmZiZNQMP1KFyPUlNAMzMzMzMzBUDhehSuR0FGQNejcD0K91NA16NwPQqnWEApXI/C9VhXQA==",
          "dtype": "f8"
         },
         "z": {
          "bdata": "9SYJALD+AwC9wQMADCYCAF+2DQBHQgcA+CEFAO5nAgBqZQIAp1oIAL80CQBxOAQAnBoEAPKLCwDRpgMA/1IBAMPzBQBnowQABX8HAAQhCgCGiAEALpYNAB1vCQDf6wQAPykIACJZAQBiXAUA6QMDACJfAgDGKAAA1x8NAF+8DgDD7QQAh4ACAFzUDACnkgEA+fQDAKY7CgBZPQsAJS8IAAjnBgAvjA0Abj4BAFVKBgAvbgMAU50OAIRwCwCQhQEASJQNAPh2DgBQ5wYA68QEADFPBwDcjgwAP0oAAA5BDAD2IAcAHfEFABEJAwDHLQcAepUNABgBCgBVuQ0AC9IEAFruBQBWvQwA82YGAKqSAwB/ngUAeJkFANVuCgBddgcA8bENAPyeAgCPrQoANgkPAOsZBgDOCg4AQdYHAI05CQB3dAEA4ncLAGdXCwA9MggAny8PAIHpBQD5igQArowDAPF/DgAl7wIAyFAAAL5WCQAQYwoANWICAEiiCwDBegMAWdYHAMrQDADPUgwAAeMNAFQwAAACvwsANSYIAGQDAgAKOQgAe88GAKc7BQAr/QQAHCQEAIOpDADfngUAayoAAM1pCgAbdQsA8vIAAFp+AAAAkAcA0WYAABk+DwDI0g4AUHQKAFqHCgC4PQcAjUUAACmjBwCVvQYASfMBAJBCAQAVvwwAZE0KAEYqAQAV1gEAEzgCABfSAQBFvw4AHSMPAEedCQA=",
          "dtype": "i4"
         }
        },
        {
         "hovertemplate": "<b>%{hovertext}</b><br><br>attack_type=DDoS<br>attack_source=Insider<br>incident_resolution_time_(in_hours)=%{x}<br>financial_loss_(in_million_$)=%{y}<br>number_of_affected_users=%{z}<extra></extra>",
         "hovertext": [
          "Telecommunications",
          "IT",
          "Retail",
          "Banking",
          "Government",
          "Healthcare",
          "Government",
          "Healthcare",
          "Telecommunications",
          "Telecommunications",
          "Government",
          "Retail",
          "Telecommunications",
          "Healthcare",
          "Healthcare",
          "Government",
          "IT",
          "Government",
          "Banking",
          "Education",
          "Healthcare",
          "Banking",
          "Healthcare",
          "Retail",
          "Retail",
          "Education",
          "IT",
          "IT",
          "Education",
          "Telecommunications",
          "IT",
          "Telecommunications",
          "Banking",
          "IT",
          "Banking",
          "Banking",
          "Government",
          "IT",
          "IT",
          "Education",
          "Healthcare",
          "IT",
          "IT",
          "Healthcare",
          "Telecommunications",
          "Education",
          "Telecommunications",
          "Healthcare",
          "Banking",
          "Retail",
          "Telecommunications",
          "IT",
          "Retail",
          "Banking",
          "Telecommunications",
          "Banking",
          "IT",
          "Telecommunications",
          "Government",
          "Banking",
          "Retail",
          "Government",
          "Banking",
          "Retail",
          "IT",
          "Healthcare",
          "IT",
          "Retail",
          "Retail",
          "Healthcare",
          "Government",
          "Retail",
          "Telecommunications",
          "IT",
          "IT",
          "Healthcare",
          "Healthcare",
          "Healthcare",
          "Banking",
          "Retail",
          "Telecommunications",
          "Education",
          "Education",
          "Education",
          "IT",
          "Government",
          "Healthcare",
          "Banking",
          "Retail",
          "Education",
          "Education",
          "Healthcare",
          "Retail",
          "Banking",
          "Education",
          "Healthcare",
          "Education",
          "Education",
          "Government",
          "IT",
          "Education",
          "Telecommunications",
          "Government",
          "Banking",
          "IT",
          "Education",
          "Government",
          "Banking",
          "Education",
          "Banking",
          "Education",
          "Banking",
          "Banking",
          "Education",
          "Banking",
          "Government",
          "IT",
          "Education",
          "IT",
          "IT",
          "Telecommunications",
          "Telecommunications",
          "Healthcare",
          "Education",
          "Retail",
          "IT",
          "Government",
          "Education",
          "Education",
          "Telecommunications",
          "IT",
          "Telecommunications",
          "Government",
          "IT",
          "Retail",
          "Banking",
          "Telecommunications",
          "Banking",
          "Government",
          "IT",
          "Education",
          "Banking",
          "IT",
          "Healthcare",
          "IT",
          "Retail",
          "Retail"
         ],
         "legendgroup": "DDoS, Insider",
         "marker": {
          "color": "#ab63fa",
          "symbol": "square"
         },
         "mode": "markers",
         "name": "DDoS, Insider",
         "scene": "scene",
         "showlegend": true,
         "type": "scatter3d",
         "x": {
          "bdata": "Ijg+E0A6SEUHPkUYNyoyJx8aICAFGRYDMUMlJUAfCg0BPCYIRy82BRAuODELO0QeMSc2GgcrLhcQLTINNRxCDRgVGzc3CUYqBCMaN0cNHjYVOAUsHCNHFTstEx40HA05OCNBPB8SBh4VPColOQYtDiUXJg8oFDclEDcfFzQPQz9ILSgNAgRFQzsKKwgnKRM2Eg4N",
          "dtype": "i1"
         },
         "y": {
          "bdata": "4XoUrkehQEApXI/C9UhXQKRwPQrXQ0BAzczMzMw8V0AAAAAAABBTQIXrUbgeBShAhetRuB4FQkA9CtejcD3qP65H4XoUbkJAhetRuB4FLkAUrkfhehQlQMP1KFyPIlZAj8L1KFwPLUAUrkfhetQ5QOxRuB6F6xlA4XoUrkfhUkBcj8L1KAxVQGZmZmZmNlVAcT0K16NwLUBI4XoUridQQMP1KFyPwiZAH4XrUbj+QEBmZmZmZmZNQK5H4XoUri5AXI/C9Si8QUAfhetRuK5QQIXrUbgehRdAzczMzMwMPUA9CtejcH1QQGZmZmZmhktA9ihcj8L1H0AAAAAAAPBXQM3MzMzMzEZAKVyPwvUoNEAUrkfhetQ3QHE9CtejkE1APQrXo3A9PkApXI/C9ZhQQB+F61G4flJAAAAAAACAM0DhehSuR+ElQPYoXI/C9TJAzczMzMzMI0AzMzMzMwNSQNejcD0KlzRAcT0K16PQREDXo3A9Chc0QMP1KFyPgkhAUrgehetR9D8UrkfhehRXQB+F61G4TlVAuB6F61FYQ0BSuB6F67FTQFyPwvUoHDVAmpmZmZkZR0ApXI/C9ShQQKRwPQrXs1VA16NwPQonWECamZmZmZlQQDMzMzMzk05ASOF6FK5H+T9xPQrXo9BPQI/C9ShczzlApHA9CtejQ0CF61G4HgVYQPYoXI/CFVdA9ihcj8K1NkBI4XoUrudCQDMzMzMzM+M/mpmZmZkZUUBSuB6F69FXQMP1KFyPwjJA4XoUrkfBVEC4HoXrUbgUQArXo3A9iitAj8L1KFw/UECPwvUoXB9YQClcj8L1GFNAmpmZmZk5U0BmZmZmZjZUQAAAAAAA4FRAAAAAAAAAS0CamZmZmalQQHE9CtejUEtACtejcD1KOkBxPQrXo3A7QD0K16NwPSVACtejcD2qSUCuR+F6FK4HQJqZmZmZWTBAUrgeheuROkBcj8L1KLxHQFyPwvUoXD9AFK5H4XqEWEDD9Shcj4JQQGZmZmZmpjBAFK5H4XoUL0AzMzMzM+NRQD0K16NwfURAj8L1KFzvT0CkcD0K1wNXQLgehetRGFVAmpmZmZlZS0DD9ShcjzJWQK5H4XoUbldAMzMzMzMzS0CamZmZmblEQEjhehSup0FAw/UoXI/CPUBxPQrXo5BSQD0K16NwXUxAw/UoXI8SUEBxPQrXo3AaQLgehetReE5A9ihcj8JVVED2KFyPwiVSQI/C9Shcn1FAXI/C9Shc+z8pXI/C9ehYQJqZmZmZ+UlAMzMzMzNzSUBSuB6F69FUQFK4HoXrEUNAuB6F61GYVkDsUbgehSs5QMP1KFyPwjtA16NwPQpHUECF61G4HkVWQJqZmZmZGUBAj8L1KFyPLECF61G4HgU7QGZmZmZmBkRA4XoUrkfhQUDsUbgehQtKQMP1KFyPAjpASOF6FK7nVUD2KFyPwgVVQM3MzMzMjEdAMzMzMzMzLEBI4XoUrudMQNejcD0KF0RAKVyPwvWYWECF61G4HsVRQPYoXI/CtUpA9ihcj8KlUkBcj8L1KIxXQClcj8L1GFBA",
          "dtype": "f8"
         },
         "z": {
          "bdata": "npQGAJ5JDAAylwMAKmMOADW+DQAE5AMA2s4GADRuCgCqyAEA0zMGANhQCwAl6AcAWBYNAMJ5AQAxGgsA+l8FAAn1BQAjwAkAPe8BAH+rAQDAGgUAl/8MALNXAgAsBAAALzoFAGdeDQDKhgMATNkCAHfGAgCCjQUArEoMAPeTAgA8lgsArqkCAHSBCACoyAIAH3YEAM6RBQCqjQ4AAvgEANcoCQDy3wEAhWIOAFIFBADg+QYAe80DAPWECgB31QUAOfoIAKNhBgA89QIAjxgFAIhEAwBOSQAAwJMEAG86CwDK8QoAoJYOAEhbCQDGWgMAGYkBAFe4AAC+BAIAzvAIAHNiAgCLuwUAZHIFAIxdBwANswsASqgIAPXoCAA7SAYABk0EACyeDADvKw4Ab6YJAPPUCQBZ8AsAvjsJAPFCAgBtogYANVAMAAC4AADTWAAAv2MOAPvuDgAijQkAF9AOAKYeDwD+HgsA3N8FAOP2CwCQ3QYA5zYEAJ8lAQAj9QQAytkJAK37CQCJ6wIAWIoMALYBCwCVDgsAiWMJALJfDAAxpQwAopkNAPqSBwCVqg4AfO8NAMo9AQARvAMAb7wBACHdCQChLQwAP84AADwDDAClFwgAnfcAAD/KAwDs/wAAItgJADqbAwAK6wwALMEEADILCgCIlgwAknQBAAE2AwAzwgAAalkIAObADAA2awAA4u8KAAOIBQBQMAQAWBMOAAuQDgAsUwAAY6gLADO9AgDfQwIAkKwEAMnKBgA0UwgAYkwEAPk3AgDUegUA",
          "dtype": "i4"
         }
        },
        {
         "hovertemplate": "<b>%{hovertext}</b><br><br>attack_type=DDoS<br>attack_source=Unknown<br>incident_resolution_time_(in_hours)=%{x}<br>financial_loss_(in_million_$)=%{y}<br>number_of_affected_users=%{z}<extra></extra>",
         "hovertext": [
          "IT",
          "Telecommunications",
          "Banking",
          "IT",
          "IT",
          "Banking",
          "Healthcare",
          "Retail",
          "Retail",
          "IT",
          "Telecommunications",
          "Banking",
          "Banking",
          "Education",
          "Healthcare",
          "Telecommunications",
          "Telecommunications",
          "IT",
          "IT",
          "Telecommunications",
          "Education",
          "Government",
          "Telecommunications",
          "Healthcare",
          "Healthcare",
          "Retail",
          "Government",
          "Telecommunications",
          "IT",
          "Healthcare",
          "Healthcare",
          "Education",
          "IT",
          "Government",
          "Healthcare",
          "Healthcare",
          "IT",
          "Government",
          "Government",
          "IT",
          "Telecommunications",
          "Telecommunications",
          "IT",
          "IT",
          "Government",
          "Telecommunications",
          "IT",
          "Education",
          "Banking",
          "Telecommunications",
          "Healthcare",
          "Government",
          "Education",
          "Education",
          "Retail",
          "Telecommunications",
          "Retail",
          "Banking",
          "Banking",
          "Healthcare",
          "IT",
          "Retail",
          "Education",
          "Retail",
          "Healthcare",
          "Retail",
          "IT",
          "Government",
          "Telecommunications",
          "Healthcare",
          "Telecommunications",
          "Banking",
          "Healthcare",
          "Government",
          "Government",
          "Government",
          "IT",
          "Banking",
          "Banking",
          "Retail",
          "Healthcare",
          "Healthcare",
          "Healthcare",
          "Banking",
          "IT",
          "Government",
          "Government",
          "IT",
          "IT",
          "Education",
          "IT",
          "IT",
          "IT",
          "Retail",
          "Retail",
          "Telecommunications",
          "Telecommunications",
          "IT",
          "Telecommunications",
          "Healthcare",
          "Retail",
          "Education",
          "Education",
          "IT",
          "IT",
          "IT",
          "Government",
          "IT",
          "Government",
          "Banking",
          "Telecommunications",
          "Education",
          "Banking",
          "Healthcare",
          "Government",
          "IT",
          "IT",
          "Government",
          "Government",
          "IT",
          "IT",
          "Healthcare",
          "IT",
          "Healthcare",
          "Banking"
         ],
         "legendgroup": "DDoS, Unknown",
         "marker": {
          "color": "#ab63fa",
          "symbol": "x"
         },
         "mode": "markers",
         "name": "DDoS, Unknown",
         "scene": "scene",
         "showlegend": true,
         "type": "scatter3d",
         "x": {
          "bdata": "QAMcKUYlKTIWKyxEHkQiDy0kNDMeKiYiEBpHKg4mOwRHQx0CJAo7OygEQkcpOggxMyMGSBcqLi4aPjs6Gj05CyIwDxgVMh4ECQQuIxpBEzNCESwUOg4pLjoRFAdDKh5FOwQqC0EiLAwBBSgXDgECOh4NPiU5Jjk9LgMtBSg=",
          "dtype": "i1"
         },
         "y": {
          "bdata": "4XoUrkcBSEApXI/C9RhYQClcj8L1qDxA4XoUrkfBRUBxPQrXo5BRQB+F61G4PlNAj8L1KFxPUkCF61G4HiVCQGZmZmZmZjFAhetRuB4FIkDsUbgehftTQD0K16NwfUdAPQrXo3DdS0BmZmZmZmYKQNejcD0K1ydAUrgehetREEC4HoXrUVhCQPYoXI/ChVFAMzMzMzNzNkAfhetRuL5JQJqZmZmZWUpAXI/C9SjsVkBxPQrXo3ApQKRwPQrXw0pASOF6FK5HFUAAAAAAAIBVQPYoXI/CBVRAMzMzMzMDVEApXI/C9YhXQEjhehSut1RAUrgehevRWEBmZmZmZuZTQLgehetR+FJAFK5H4XqUU0CkcD0K1+M7QKRwPQrXYzRAKVyPwvXoN0B7FK5H4bpBQHE9CtejMFRAuB6F61GIVEBI4XoUridBQHsUrkfhmkxAcT0K16OwU0D2KFyPwtVSQIXrUbgeBUlAFK5H4XoUEkB7FK5H4TpBQFK4HoXrEVVACtejcD0aVUCuR+F6FN5QQClcj8L1CEBA7FG4HoVLWEBcj8L1KFwfQMP1KFyPMlRAzczMzMw8U0AfhetRuJ4qQAAAAAAAAERACtejcD2KP0AfhetRuA5YQBSuR+F6FEVA4XoUrkeBTkCF61G4HoUyQGZmZmZmpktAexSuR+EKVkAAAAAAAJBYQFK4HoXrsVZAKVyPwvW4VUAAAAAAAGBFQGZmZmZmhldAmpmZmZlJWECF61G4HqVFQKRwPQrX81hAH4XrUbheT0ApXI/C9ThYQHsUrkfhukpAexSuR+E6QUDD9Shcj/JWQB+F61G43jJAexSuR+F6TUA9CtejcD0sQClcj8L1KEZAFK5H4XoUO0D2KFyPwlVDQI/C9Shc/1hAexSuR+H6T0C4HoXrUXhVQAAAAAAA4ERASOF6FK7nWEAAAAAAAIA/QFK4HoXrUUVAexSuR+H6K0AUrkfhevRKQI/C9ShcP1NAXI/C9ShcM0ApXI/C9Sg8QAAAAAAAwEdApHA9CtfzWEAfhetRuB5SQAAAAAAAoExAUrgehetREEBmZmZmZnZSQD0K16NwvTVA9ihcj8J1I0ApXI/C9XhUQD0K16Nw/TFAAAAAAABgUkBxPQrXo/BIQLgehetRmEVASOF6FK7HJ0AfhetRuA5XQM3MzMzMrFFACtejcD1qSEA9CtejcK1TQOF6FK5HgUdA9ihcj8LlUEA9CtejcH0xQPYoXI/C9VJAmpmZmZlZWEBxPQrXo7AxQFK4HoXrkUtAj8L1KFyfVEBI4XoUrkcUQArXo3A96kdAZmZmZmYGUUD2KFyPwvUtQA==",
          "dtype": "f8"
         },
         "z": {
          "bdata": "khIOABSjAwCkMg8AcFoOAKFLCwDFzwoAOhYCAKWHCwDtOAUAR2wJAPGqBAAxQQIAg3ULAOOvAADYfwgAOqwHAKVGCwAnYAYAncEKAIvOCQC/QwgA5XgKAFulDgDlqwUA5BEHAPlYDAALeQgALGYHAPUHDQCaOAQASgAJAFjPBgBcjAwA64cJAAAHBwDC7g0AXpUCAFpODgCnSAUAyl0DALGoBACsSwkAbf0BAKnXDgDu1QwATswAAMcuBwAI2AsA3oIDAOInBQCvywcApJIKAFqHAgBWDwIALvsFAPzTBQBzUwIA7dMHAKfoCQBWGwYAN2UGAKzoAQC50wcAc0QLAHNJBgDxYQ0AO7oKALljCwBTzAwAYzYLAPwRBADOdw4A6AUHACMeDADUtgUArtoIAHjpDADG5w4Ap5sNAPoCDADO/QEA3GsIAOIwBQDxhQsA5ewJAOFUCAAD/gQAqVsEADeFDgDS/woAer0OAKP6AABB2QMAzhIAAMtFBgCfdAYAKggHANEhDQDCwQEAl3QHAB20BwBL1wcAvNkNAJoGCAD17QAAQk0MAJC9BgAKmgwAvyoLAGGNCQDuogIAg4cDAFPPBACj4QMAsM0MAH0DBgCoYg0AOFoAAJQyDACPFAgAl48BAF3+AAD17gEAz4EMAAD3DAA=",
          "dtype": "i4"
         }
        },
        {
         "hovertemplate": "<b>%{hovertext}</b><br><br>attack_type=SQL Injection<br>attack_source=Hacker Group<br>incident_resolution_time_(in_hours)=%{x}<br>financial_loss_(in_million_$)=%{y}<br>number_of_affected_users=%{z}<extra></extra>",
         "hovertext": [
          "Healthcare",
          "Education",
          "Government",
          "Healthcare",
          "Healthcare",
          "Retail",
          "IT",
          "Education",
          "Healthcare",
          "IT",
          "IT",
          "Government",
          "Telecommunications",
          "Education",
          "Healthcare",
          "Banking",
          "IT",
          "Education",
          "Education",
          "Healthcare",
          "Telecommunications",
          "Education",
          "Healthcare",
          "Education",
          "Banking",
          "Government",
          "Retail",
          "Retail",
          "Banking",
          "Government",
          "Telecommunications",
          "Government",
          "Government",
          "Telecommunications",
          "Healthcare",
          "Retail",
          "IT",
          "Government",
          "Banking",
          "Telecommunications",
          "IT",
          "Government",
          "Education",
          "Retail",
          "Education",
          "IT",
          "Government",
          "IT",
          "Healthcare",
          "IT",
          "Healthcare",
          "Telecommunications",
          "Retail",
          "IT",
          "Education",
          "Banking",
          "Government",
          "Government",
          "Telecommunications",
          "IT",
          "Healthcare",
          "Healthcare",
          "IT",
          "Banking",
          "Retail",
          "Education",
          "Healthcare",
          "Banking",
          "Government",
          "Education",
          "IT",
          "Government",
          "Telecommunications",
          "Retail",
          "Banking",
          "Government",
          "Telecommunications",
          "Telecommunications",
          "Government",
          "Healthcare",
          "Government",
          "IT",
          "Healthcare",
          "Healthcare",
          "Banking",
          "Banking",
          "Healthcare",
          "Retail",
          "IT",
          "Banking",
          "Government",
          "Government",
          "Healthcare",
          "Healthcare",
          "Banking",
          "IT",
          "Telecommunications"
         ],
         "legendgroup": "SQL Injection, Hacker Group",
         "marker": {
          "color": "#FFA15A",
          "symbol": "circle"
         },
         "mode": "markers",
         "name": "SQL Injection, Hacker Group",
         "scene": "scene",
         "showlegend": true,
         "type": "scatter3d",
         "x": {
          "bdata": "GwtBQgIVRTovPSU2LAonI0M/BSwkMho7QCElJRgGRD4eHyMcHgs/Bw9HFUcdETYDRUFIMkghHBMIKygNGDkHFjwsRSA1Bw4zNj8qPAIzKkArGwEcDy4hHkYICDgPEh4sGg==",
          "dtype": "i1"
         },
         "y": {
          "bdata": "SOF6FK5nQ0CPwvUoXI9QQBSuR+F6VDtACtejcD06UUDD9Shcj2JOQOF6FK5HYUxAUrgehevxVUDsUbgehev5P4/C9ShcDztAFK5H4Xp0U0A9CtejcF1AQOxRuB6F6wFAZmZmZmZmRUC4HoXrUahXQD0K16NwHUpArkfhehSu+z89CtejcD0ZQBSuR+F6FC1AH4XrUbheVkDhehSuR6FJQFyPwvUoXENAexSuR+H6RUCkcD0K16MlQI/C9ShcjyZApHA9CtezUECamZmZmXlEQIXrUbgeBSdAj8L1KFyfUEDNzMzMzMwcQD0K16NwnVhAXI/C9SjcT0AzMzMzM/NVQOF6FK5HoT1AuB6F61GYR0A9CtejcD0sQArXo3A9yklAAAAAAAAAIUBxPQrXo7BYQFyPwvUobFJA7FG4HoVrQUCamZmZmRlXQIXrUbgehStAw/UoXI9CVkCF61G4HrVXQGZmZmZmxkVAH4XrUbheM0AzMzMzM9NEQClcj8L1KEFAZmZmZmaGREDD9ShcjyJCQJqZmZmZOVJAFK5H4Xo0S0BI4XoUrscuQBSuR+F6lC5AexSuR+H6JkDsUbgehStUQD0K16NwXVZAXI/C9Sh8U0CF61G4HiVDQI/C9Shc/1hA4XoUrkcBSkBSuB6F63FDQGZmZmZm5kdASOF6FK4nREAK16NwPepOQMP1KFyP4ldAzczMzMzsRkAK16NwPSpXQEjhehSuZ0VAmpmZmZlZSkAzMzMzMwNUQMP1KFyPQjJAPQrXo3A9VEC4HoXrUehSQK5H4XoUTklAZmZmZmZ2UEDD9Shcj2JIQHsUrkfhulBAAAAAAACgUECuR+F6FO5WQAAAAAAA4EVAzczMzMwsTUCamZmZmRlTQNejcD0Kh1NAj8L1KFyP8j9cj8L1KFwRQIXrUbgeJVNA9ihcj8KFUUCkcD0K1yNQQPYoXI/CNVNA4XoUrkchPEDsUbgehUtKQClcj8L16D9A16NwPQr3T0ApXI/C9bhTQLgehetR+EJASOF6FK5HPkA=",
          "dtype": "f8"
         },
         "z": {
          "bdata": "wAwOANxbCgANWAcAwKwJANE8AwAa0QsAOBkAABfwAAB5QA8AlEYOAEJWAgCKagwAyCkNAJxXBwA12wYAqGUBAIFTCwBXnAIAvmkKAApwAADeYw4A4x8JACD0CADSnQYAUcEOAK1DDAA8Fg0ABdIKAB/FBACMjQYAJPwNADLIBwCLHAoA0HUIAH0nBgCkAAEAnPsHAJbNDQBx9wcAtuAKAN/7CQAuLAAAal4FAOmZDQBy3goASMEAAKNJCgCDSAoAVa8CAAyeAwBOoQYAaUkDAArbBwBqpQAAS44FAAcADwAG6AAAtDgIAOe3BwDGRAoAUwwIAEjUBwCO2gkAPJwLAI36AQD+KQ0Af4kGAL2/AAAVmwYAkyMNAPBpCgDFMQEAWucIAG1uDACgyQsAedgDAOQhBQDAIQUA1k8FALNGAgCBpQIA4iYLANa9DgDE5AYA9YkEAOXvAwCwjgkAxIABAGaDDADPfA0AzboDANZiBADLNw4AVIUCAKu/CgCxjAoAq58NAA==",
          "dtype": "i4"
         }
        },
        {
         "hovertemplate": "<b>%{hovertext}</b><br><br>attack_type=SQL Injection<br>attack_source=Nation-state<br>incident_resolution_time_(in_hours)=%{x}<br>financial_loss_(in_million_$)=%{y}<br>number_of_affected_users=%{z}<extra></extra>",
         "hovertext": [
          "IT",
          "Education",
          "Banking",
          "Retail",
          "Telecommunications",
          "Government",
          "Telecommunications",
          "Banking",
          "Healthcare",
          "Telecommunications",
          "Banking",
          "Education",
          "Retail",
          "Education",
          "Banking",
          "Education",
          "Education",
          "Retail",
          "IT",
          "IT",
          "Healthcare",
          "Telecommunications",
          "Education",
          "Government",
          "Government",
          "Healthcare",
          "Healthcare",
          "Government",
          "Government",
          "Government",
          "Government",
          "Retail",
          "Telecommunications",
          "Education",
          "Retail",
          "Retail",
          "IT",
          "Retail",
          "Healthcare",
          "Education",
          "Healthcare",
          "Banking",
          "IT",
          "Education",
          "Healthcare",
          "Retail",
          "Education",
          "Retail",
          "Retail",
          "Banking",
          "Banking",
          "Government",
          "Government",
          "IT",
          "IT",
          "IT",
          "Telecommunications",
          "IT",
          "Retail",
          "Retail",
          "Telecommunications",
          "Telecommunications",
          "Retail",
          "Retail",
          "Retail",
          "Government",
          "Banking",
          "Telecommunications",
          "Banking",
          "Banking",
          "Telecommunications",
          "Education",
          "Telecommunications",
          "Education",
          "Government",
          "Healthcare",
          "Education",
          "IT",
          "Telecommunications",
          "Telecommunications",
          "Banking",
          "IT",
          "Education",
          "Healthcare",
          "Retail",
          "Retail",
          "Banking",
          "Retail",
          "Government",
          "Education",
          "Education",
          "Government",
          "Telecommunications",
          "Banking",
          "IT",
          "Healthcare",
          "IT",
          "Education",
          "Retail",
          "Retail",
          "Government",
          "Healthcare",
          "Telecommunications",
          "Healthcare",
          "Telecommunications",
          "Education",
          "IT",
          "IT",
          "Telecommunications",
          "Retail",
          "Healthcare",
          "Retail",
          "Telecommunications",
          "Banking",
          "Telecommunications",
          "Education",
          "Education",
          "IT",
          "Banking",
          "Banking",
          "Education",
          "Retail",
          "IT",
          "IT",
          "IT",
          "Government",
          "Education",
          "Education",
          "Education",
          "IT",
          "Healthcare",
          "Education",
          "Healthcare",
          "Education",
          "Healthcare",
          "Government",
          "Healthcare",
          "IT"
         ],
         "legendgroup": "SQL Injection, Nation-state",
         "marker": {
          "color": "#FFA15A",
          "symbol": "diamond"
         },
         "mode": "markers",
         "name": "SQL Injection, Nation-state",
         "scene": "scene",
         "showlegend": true,
         "type": "scatter3d",
         "x": {
          "bdata": "OQQkPTcLCzIkIkVGLDQJJRIzIBQ9L0UPGykEFDgRFCU5CwIcQhQfOBEoEyAsHRoyJQYrEgsZFyklLhYePT8iFzlEPxciBx8BMDwBCis9PTECEi84CkccLA8mOBlFDEc0L0E9NkMNITkvDwk5MAhGAR05JR4rKQw9PgEpDyA2IkQNMwooKTg4OjEe",
          "dtype": "i1"
         },
         "y": {
          "bdata": "9ihcj8KFWEAAAAAAAEBPQClcj8L1aFVAXI/C9SjcSkAfhetRuA5UQKRwPQrXg0NA7FG4HoX7V0CkcD0K16M7QFyPwvUozFhASOF6FK5HDUC4HoXrUXhSQLgehetR6FJA9ihcj8IVQkDhehSuRxFVQGZmZmZm5k9APQrXo3B9RUA9CtejcD1RQM3MzMzMzAZA4XoUrkfhRUBI4XoUrldYQB+F61G47lRAZmZmZmYmVkB7FK5H4TowQNejcD0KVyxACtejcD06WECF61G4HlVVQJqZmZmZ2TlAuB6F61FIVUBSuB6F64FUQBSuR+F6VD1AAAAAAADQUkCPwvUoXK9SQArXo3A9OlFAZmZmZmYGSkCamZmZmdk5QB+F61G43k9AuB6F61FYVkAK16NwPSpFQI/C9ShcP1NAAAAAAAAA9D97FK5H4VpOQFyPwvUoHFFAuB6F61G4Q0A9CtejcD0wQAAAAAAAwDJAZmZmZmYmTEBxPQrXoxBQQKRwPQrX40tACtejcD0qSEBcj8L1KHxSQK5H4XoUrgNAzczMzMzMWEBxPQrXo1BEQOxRuB6FS0tAXI/C9Sj8TkAfhetRuJ5JQMP1KFyPslVAhetRuB7lQEDD9ShcjwJTQD0K16NwDVJAuB6F61F4MUDD9Shcj4IwQMP1KFyPklVA4XoUrkdxVkAK16NwPYo7QOxRuB6Fa0xAj8L1KFxvVkCPwvUoXE89QNejcD0K1xtA7FG4HoXrQED2KFyPwjUxQBSuR+F6tE5AKVyPwvXoO0C4HoXrUbgQQHE9CtejcDJAmpmZmZmZTECPwvUoXO9OQKRwPQrXQ1hAZmZmZmZmEUD2KFyPwnU/QB+F61G4/lNAXI/C9Sj8RUC4HoXrUbguQLgehetRyFBAj8L1KFyPCEA9CtejcN1FQClcj8L1qD5AUrgehevRJED2KFyPwvVHQM3MzMzMDDFAKVyPwvVITkAUrkfhelQ1QOF6FK5H4StAexSuR+H6RUDXo3A9ChdTQFyPwvUoXA9AexSuR+EKUUAAAAAAAIAwQOF6FK5H4UhAw/UoXI+yVUBSuB6F6yFRQB+F61G4HilAXI/C9SjcVUCuR+F6FE5PQIXrUbgehTtAj8L1KFwvQkAfhetRuN5VQHsUrkfheiBA4XoUrkeBUUB7FK5H4bpJQNejcD0KV0pAH4XrUbge9T+kcD0K16MmQGZmZmZmZhdAuB6F61EIV0CkcD0K1+NOQFyPwvUoXO8/uB6F61H4QEA9CtejcB1JQAAAAAAAEFBASOF6FK5HVUB7FK5H4foxQBSuR+F6dEhA7FG4HoWLUUBI4XoUrkdGQFK4HoXr8UpA7FG4HoVLREBcj8L1KFxPQOF6FK5H4ShAMzMzMzOzIUBcj8L1KCxXQNejcD0KV0RAzczMzMzMNkAAAAAAAMBLQFK4HoXrgVhAUrgehevRI0BSuB6F6xE4QFyPwvUofEBA",
          "dtype": "f8"
         },
         "z": {
          "bdata": "YJ4MAABnCAAOXQ0AtyQMAPskCQBUDA8A7hcJAJCbDABAOAgA3rkKAMEgAACV/AIAbWgMAKYWBgCHNQUASfgCAPDYCgCjeAAANaUOACMmDACmHQsACP0NAK7sDQBCLA0AJzoGANQADAD+NAEAgaQEAOMtDwCEygIABR4JAHiVCAANAA0ADlcNAP2kCQCalwMAYRcOAN3RCQBNUg0AV1sFADIhAADa2QIAeGACAAyiAwAppwYA0ysCAM4oDACqAg0AwHIGAA8xBAAjdgEAHj0JACNwBQAkygMAjJQJAHznBgAPewQAvckLAFiWCwBuHQkAJakGAAJsDgDD+gYAMkcMACXbBQB8ogkAWGACALQiAADZPQcAPMIGADhXCgAHMg8AYRgGAHfpCgDQagAABgMFALa6AwCiBgUAHVsMAK7vAgDZSAEALqwLAFLaDQCNBgMAEcANAH/+BQApcAsAn04NADC4AQCNjQ0AryUHACM4DwApswwAkgQHAEFTDAAv9w0AbcUDAJ1MBQAOBwcAs0QDAIdmDACCDwIA6SkLANcgAwA1dAcAK3cCAJvPAACWzQIAuIAKAHFhBABp2gAANZwIABJYAgCpzQAAxbwDAKzpBQACggkA8FgBAAwcDAD4Yw0Agi4LACnXAwDP6gQAyBgJAByqCgAaqwkAhyAJANWfDABhJwkAbmULAGzxDgBBYgEA8wwAAPmUCgA3+goAJ8oDAM+CDgARNgsA",
          "dtype": "i4"
         }
        },
        {
         "hovertemplate": "<b>%{hovertext}</b><br><br>attack_type=SQL Injection<br>attack_source=Insider<br>incident_resolution_time_(in_hours)=%{x}<br>financial_loss_(in_million_$)=%{y}<br>number_of_affected_users=%{z}<extra></extra>",
         "hovertext": [
          "Retail",
          "IT",
          "Retail",
          "Telecommunications",
          "Government",
          "Telecommunications",
          "IT",
          "Government",
          "Banking",
          "Education",
          "Banking",
          "Government",
          "Healthcare",
          "Banking",
          "Telecommunications",
          "Healthcare",
          "Education",
          "Telecommunications",
          "Retail",
          "Healthcare",
          "Telecommunications",
          "Banking",
          "Telecommunications",
          "Telecommunications",
          "Telecommunications",
          "Education",
          "Education",
          "Healthcare",
          "Telecommunications",
          "Banking",
          "Government",
          "Government",
          "IT",
          "IT",
          "Education",
          "IT",
          "Healthcare",
          "Education",
          "Banking",
          "Retail",
          "Government",
          "Education",
          "Government",
          "Banking",
          "Government",
          "Banking",
          "Education",
          "Government",
          "Banking",
          "Healthcare",
          "Banking",
          "Banking",
          "Telecommunications",
          "Government",
          "Banking",
          "Retail",
          "Retail",
          "Healthcare",
          "Telecommunications",
          "Healthcare",
          "Retail",
          "Healthcare",
          "Healthcare",
          "Retail",
          "Education",
          "Healthcare",
          "Banking",
          "IT",
          "Telecommunications",
          "IT",
          "Telecommunications",
          "Retail",
          "Telecommunications",
          "Healthcare",
          "Banking",
          "Healthcare",
          "Banking",
          "Retail",
          "Government",
          "Government",
          "Healthcare",
          "Education",
          "Retail",
          "Government",
          "Education",
          "Telecommunications",
          "Banking",
          "Healthcare",
          "IT",
          "Telecommunications",
          "Telecommunications",
          "IT",
          "Banking",
          "Education",
          "Telecommunications",
          "Government",
          "IT",
          "Government",
          "Retail",
          "Healthcare",
          "Education",
          "Healthcare",
          "Telecommunications",
          "Telecommunications",
          "Telecommunications",
          "Telecommunications",
          "Healthcare",
          "Education",
          "Education",
          "IT",
          "Retail",
          "IT",
          "Banking",
          "Retail",
          "Retail",
          "Banking",
          "Healthcare",
          "Retail",
          "Retail",
          "Telecommunications",
          "Government",
          "Government",
          "Telecommunications",
          "IT",
          "Telecommunications",
          "Education",
          "IT"
         ],
         "legendgroup": "SQL Injection, Insider",
         "marker": {
          "color": "#FFA15A",
          "symbol": "square"
         },
         "mode": "markers",
         "name": "SQL Injection, Insider",
         "scene": "scene",
         "showlegend": true,
         "type": "scatter3d",
         "x": {
          "bdata": "DCUrExw8HjkkNEA7HjQNBDMXIzMIKzs9KxsuHTgcFRdCGSsJEyYtGEg/AgEVPT8HNj82Jz0SOzoQFS8SPyANIAQVMgUWMBk4Ey4sDxMrCBooQB8GHj8xAkgzBgknCio5CRs5BgUMLxoOLjkoEi4IGSk5NC4nASNCID4fEjBGCQ==",
          "dtype": "i1"
         },
         "y": {
          "bdata": "4XoUrkehVEBSuB6F67FKQBSuR+F6tE5AFK5H4XoEUUDXo3A9CtcpQEjhehSu51BAuB6F61GYWECamZmZmRlHQK5H4XoUrj5ACtejcD0KFUBI4XoUrodAQAAAAAAAsFhA7FG4HoXLR0CkcD0K1+NNQKRwPQrX4z1AcT0K16OwRkBSuB6F67FYQMP1KFyPYkhAH4XrUbg+VkA9CtejcD0dQI/C9ShcjyRAMzMzMzNzT0DNzMzMzAw4QM3MzMzMzBBACtejcD36UkAAAAAAAEBFQM3MzMzMzFJA7FG4HoVrO0AzMzMzM1NDQKRwPQrXQ0hAFK5H4XpURECPwvUoXN9YQFyPwvUoTFFAMzMzMzMzFEDhehSuR2EtQClcj8L1KPA/ZmZmZmYmN0DhehSuR6FUQIXrUbgeVVRAexSuR+H6OkD2KFyPwjU0QD0K16NwfVNACtejcD0K5z/2KFyPwtVTQFK4HoXr8U9AKVyPwvWIUUCkcD0K19NYQK5H4XoU7lhAj8L1KFxPUEBSuB6F69FTQDMzMzMzc1ZA16NwPQrXHECPwvUoXO9XQHE9Ctej8EFASOF6FK5HNECuR+F6FD5YQFyPwvUobFVAhetRuB4FWECF61G4HgU9QDMzMzMzk0dACtejcD16UUB7FK5H4bpQQAAAAAAAQEdAUrgehesRWEAzMzMzM7NCQHE9CtejUExA9ihcj8LVT0B7FK5H4dpKQBSuR+F6VDxApHA9CteTWEAK16NwPYo/QMP1KFyPMlVAKVyPwvWYWEAK16NwPUpSQHE9CtejwFFAFK5H4XpkUUDD9Shcj2JFQOxRuB6FC1ZAXI/C9ShcNEA9CtejcH1EQOF6FK5HIUtAcT0K16MwPED2KFyPwvUOQHE9CtejcC1AzczMzMyMMUCamZmZmblTQJqZmZmZaVNAexSuR+HaUEAAAAAAAABIQOxRuB6Fe1ZAcT0K16MwPkDNzMzMzCxKQD0K16NwPRFAMzMzMzNzMkCamZmZmRlMQGZmZmZmxktAFK5H4XqkWED2KFyPwkVRQHE9CtejUEJArkfhehReUEAUrkfhejRJQFK4HoXrUR1Aw/UoXI+CNkAzMzMzM7NMQDMzMzMz8zRA16NwPQrX/z/NzMzMzMwWQMP1KFyPwg9A7FG4HoUrM0CF61G4HkVQQLgehetRuFRAKVyPwvUITECkcD0K1wNBQHE9CtejcBpAH4XrUbj+R0AUrkfhekRRQGZmZmZmZgJAuB6F61H4OkDsUbgehUtVQOxRuB6Fa0hA7FG4HoULQkA9CtejcD3+P83MzMzMTCxAzczMzMzMAEA9CtejcO1TQD0K16NwfUtA9ihcj8IVQEA=",
          "dtype": "f8"
         },
         "z": {
          "bdata": "ZEUDAG7KCAA8mgoA6jcIAMRBBQDwiwwATxgKAHq+AwB6Pw4AW4gIAOnWCQDVpw0Alz0OAIBnCgCeFQQAVKICAJ4mAgDvlQIAd7YNAGDrAgCkLA8A49AIAKrPBgAahAIAXDsJAKY8DgDE7QAAG3ABAF6eBQDbbAYAR/AJAHiHCwC5gQAANpEMALP1CwA6LAcAiiYLABMHDACAwgcAiaQLAJ9sBgAchAIA6mcOAITzBgC1cQ4AWcYIAPyHBQDRNwkAdhUDAHCaDQCcqQ0A9AcIABT4DAB7XwMAlosFANEfBwC1oQIA7AkJAK8cDQDafwEATWkFAD2TAwByagsADXkCAJwbCgD1swMAUOMFAIhiCgCHLgoAPZgKAHHODAAkhgEAqcMMAFv3DACq0QwAkhwEAM7KAQCADAAAMmENAKclBgDIzgwA7agDAB6GCwAuQAgAEu4HAFLtCgCYGQ8AMrsKAF9fDQD9/A4AMLkMAJ1XCwB08AcA3XYOAD64CAA3bAMAyJIGAEc8BwAuqQwAxgMEAFdYBQACawcAhRcBAHDIAAB3NAUAivUJAMgdBgCrOgkACqUKAA9gBgBiUQcAysYMABewCgBIWwUAvfMNANYJBAAJYA4Ad0wAALkCDgBLYAoA4aEKALBFAQCOwgkAhmkFACd4BQCRAAwAMswFAA==",
          "dtype": "i4"
         }
        },
        {
         "hovertemplate": "<b>%{hovertext}</b><br><br>attack_type=SQL Injection<br>attack_source=Unknown<br>incident_resolution_time_(in_hours)=%{x}<br>financial_loss_(in_million_$)=%{y}<br>number_of_affected_users=%{z}<extra></extra>",
         "hovertext": [
          "Government",
          "IT",
          "Banking",
          "IT",
          "Education",
          "Telecommunications",
          "Healthcare",
          "Retail",
          "Banking",
          "Healthcare",
          "Healthcare",
          "Telecommunications",
          "Education",
          "IT",
          "Healthcare",
          "Banking",
          "Education",
          "IT",
          "Telecommunications",
          "Telecommunications",
          "Telecommunications",
          "Education",
          "Government",
          "Telecommunications",
          "Retail",
          "Government",
          "Healthcare",
          "Government",
          "Government",
          "IT",
          "Government",
          "Telecommunications",
          "Retail",
          "IT",
          "Education",
          "Banking",
          "Retail",
          "Healthcare",
          "Telecommunications",
          "Government",
          "Telecommunications",
          "IT",
          "IT",
          "Telecommunications",
          "Government",
          "Healthcare",
          "IT",
          "Retail",
          "Government",
          "IT",
          "Banking",
          "Telecommunications",
          "IT",
          "IT",
          "Retail",
          "Banking",
          "Education",
          "Healthcare",
          "IT",
          "Government",
          "Telecommunications",
          "Banking",
          "Banking",
          "Retail",
          "Education",
          "Education",
          "Healthcare",
          "Banking",
          "Government",
          "Banking",
          "Education",
          "Telecommunications",
          "Banking",
          "Telecommunications",
          "Healthcare",
          "IT",
          "Telecommunications",
          "Retail",
          "IT",
          "IT",
          "Healthcare",
          "Education",
          "Banking",
          "Telecommunications",
          "Government",
          "Retail",
          "IT",
          "IT",
          "IT",
          "Banking",
          "Government",
          "IT",
          "Education",
          "IT",
          "Banking",
          "Healthcare",
          "Telecommunications",
          "Telecommunications",
          "Government",
          "Government",
          "Healthcare",
          "Retail",
          "Banking",
          "Telecommunications",
          "Healthcare",
          "Government",
          "Telecommunications",
          "Government",
          "Government",
          "Government",
          "Telecommunications",
          "Banking",
          "Banking",
          "Healthcare",
          "Government",
          "Government",
          "Banking",
          "Education",
          "Banking",
          "IT",
          "IT",
          "Banking",
          "Education",
          "Retail",
          "Retail",
          "Banking",
          "Banking",
          "Healthcare",
          "Healthcare",
          "Telecommunications",
          "Banking",
          "IT",
          "IT",
          "Government",
          "Banking",
          "IT",
          "Telecommunications",
          "Retail",
          "Government",
          "Government",
          "Retail"
         ],
         "legendgroup": "SQL Injection, Unknown",
         "marker": {
          "color": "#FFA15A",
          "symbol": "x"
         },
         "mode": "markers",
         "name": "SQL Injection, Unknown",
         "scene": "scene",
         "showlegend": true,
         "type": "scatter3d",
         "x": {
          "bdata": "Qj0oHhNALUU0LR0FLB4dRSI5JTYSKUMwKz0ROS8iJiwtHio0NUcWGSAdFjEKQAMtKiwlPAQQMyo2LBE2DxoGIx4UQBgRJTkNKiwIEhIIJjEQJhU0QhlABjgdA0ErJwMTQCEjEEYRMRsvN0gTDUUyQzlEPSsfDyAVGBMpPiASLAsHFyFBEAgVBi4lPjZA",
          "dtype": "i1"
         },
         "y": {
          "bdata": "PQrXo3CdTUAfhetRuH5FQAAAAAAAIE5ACtejcD2qUED2KFyPwvVVQI/C9Shcj1RAKVyPwvWoNUCamZmZmRk5QClcj8L1KCJAmpmZmZn5UECamZmZmXlHQB+F61G4jlBACtejcD3qS0Bcj8L1KFwaQOxRuB6FS0tAcT0K16OwNEA9CtejcH03QFK4HoXrUTlAcT0K16NwUkDD9Shcj+JPQClcj8L16EpACtejcD0qTECkcD0K1wNUQLgehetROCdAuB6F61G4UUBSuB6F6xFCQHE9CtejcFFA4XoUrkfhSkDNzMzMzFxTQJqZmZmZWTxAH4XrUbgOVUApXI/C9ahKQOxRuB6F6ytAZmZmZmYWV0ApXI/C9chBQOxRuB6Fy0NAw/UoXI+COEC4HoXrUThPQOF6FK5HYStA9ihcj8K1PEBcj8L1KFwYQFyPwvUovFNAMzMzMzOTQEB7FK5H4XokQOxRuB6FC0FAMzMzMzNTU0C4HoXrUShRQIXrUbgeJURAmpmZmZm5T0CkcD0K1yMzQB+F61G4nldAzczMzMwMS0CPwvUoXM8xQM3MzMzMLEFAKVyPwvVITED2KFyPwtVHQIXrUbgedVBAZmZmZmZm7j89CtejcH1CQFyPwvUozFNAzczMzMzMUUCF61G4HqVNQK5H4XoUDkRA7FG4HoUrR0BI4XoUrodTQMP1KFyPwkZAAAAAAAAA6D9SuB6F67FQQM3MzMzMzCRApHA9CtfzV0DhehSuR0FTQArXo3A9ykNACtejcD1KR0ApXI/C9YhXQArXo3A9+lZAj8L1KFz/VEC4HoXrUdhFQHsUrkfh+jBAPQrXo3A9PUCamZmZmZlHQKRwPQrXE1hAZmZmZmYmWEDNzMzMzAxIQFyPwvUoXCRApHA9CtdDTkCPwvUoXG9BQK5H4XoU7kVAhetRuB4FNUAUrkfhehRKQOxRuB6Fa0BArkfhehTuOEB7FK5H4apVQLgehetROCtApHA9CtdzVkDD9Shcj4JYQGZmZmZmZkVA7FG4HoXrL0CF61G4HoX3P9ejcD0KZ1FAMzMzMzPDUEDXo3A9CtcNQArXo3A9akhAH4XrUbg+VEApXI/C9QhUQFK4HoXrwVZAPQrXo3DtVUD2KFyPwpVCQKRwPQrXQ0xAMzMzMzNjUUAUrkfhelROQMP1KFyPgkFAMzMzMzMDUUDD9ShcjwIyQJqZmZmZGSdAAAAAAABgRUCF61G4HgUrQClcj8L1KE1Aj8L1KFyP6j9I4XoUrtdQQHsUrkfhmkpA9ihcj8K1U0AUrkfhenRKQKRwPQrXQ1RApHA9CtczUECPwvUoXE9MQKRwPQrXYz1AKVyPwvVYVkCuR+F6FI5AQHsUrkfhWkhAw/UoXI/CJUAK16NwPbpYQEjhehSux09AFK5H4XoUEkBmZmZmZmYCQFyPwvUo3DtApHA9CtdDUED2KFyPwlVKQBSuR+F6pFNA7FG4HoXrJEAAAAAAAABUQJqZmZmZGUhA",
          "dtype": "f8"
         },
         "z": {
          "bdata": "p+INAAdNAQD1GwoA6W8LAArbDAC5/w4AMzwEADOKCAATqg0AuQgAAA9jAQDAgAIA8pELAPTYAgCCrQYA1UIFABLPCQC61QkA5f8FAOqlBACOfwoA1RQJAKcdBgA+8wwAZqkAAGY0CgAflAwAC1cCAP+lCQByOgkAOawIAGDYAAAblAcAdswFAC3kBQA55A0Aa7YAAKfZAAC0OgIALZkHAKgDCQDFGQ0Azq4AAJFBAwA8AwMAOZ4MAEWABAAGJwMAbYUHAMmfAgADggYAg+oKAPnEBQC0Aw4A5UQNALEgCwC/jgoAjr0FABzpBgCZgA4Ak+YCAH/OBQA4Vg0Ak8cIAMSPAAD8ywwAAhwEAAyqCgA5qwMAg6cAAJZ5BgABYQcAdg4KAKEwCADowAIANVMMAFEbBACqzgQAIAAMAD1CAADUBwkAq+AOADCBBQCmuQkAmD0AAL/RBgAeGgEABGYKAAmHAQAoLQEAsdAFANuYCgBfBAYAqOwBACs/BAC1bAoA+McGAFAfAwCJ9wUAhfIMAO7LBgBTdwEABc8KACmvAwA3UgEAKwYAAJseCwCSiAUAU9kAAOIUAABqwQUAgu0NAO2DBADv7QUAXyIHAFTLCwDU3QsAf+sOAKj0BwAWeQkAQBgHAJV0CQCOUwUAWgYEAEW8BAAxKAMAbBQPAM6sDADiJA0Ai5EEAIYwDwD8DAAAhNQOAGzWDACGuwQANBQOAEihBgA/SQwATeELALg/AgDYVgcA",
          "dtype": "i4"
         }
        },
        {
         "hovertemplate": "<b>%{hovertext}</b><br><br>attack_type=Malware<br>attack_source=Hacker Group<br>incident_resolution_time_(in_hours)=%{x}<br>financial_loss_(in_million_$)=%{y}<br>number_of_affected_users=%{z}<extra></extra>",
         "hovertext": [
          "Telecommunications",
          "Education",
          "Education",
          "Healthcare",
          "Telecommunications",
          "Retail",
          "Retail",
          "Retail",
          "Telecommunications",
          "Government",
          "Retail",
          "Government",
          "Healthcare",
          "Healthcare",
          "Banking",
          "IT",
          "Government",
          "Government",
          "Banking",
          "Education",
          "Banking",
          "Banking",
          "Retail",
          "Healthcare",
          "Banking",
          "IT",
          "Education",
          "Education",
          "Retail",
          "Banking",
          "Government",
          "Banking",
          "Government",
          "Education",
          "Healthcare",
          "Government",
          "Telecommunications",
          "Telecommunications",
          "Government",
          "Telecommunications",
          "Healthcare",
          "Retail",
          "Healthcare",
          "IT",
          "Telecommunications",
          "Banking",
          "Retail",
          "Telecommunications",
          "Healthcare",
          "IT",
          "Healthcare",
          "Telecommunications",
          "Government",
          "Banking",
          "Government",
          "Telecommunications",
          "Banking",
          "Banking",
          "Telecommunications",
          "IT",
          "IT",
          "Retail",
          "IT",
          "Healthcare",
          "IT",
          "Banking",
          "Education",
          "Telecommunications",
          "IT",
          "Education",
          "IT",
          "Retail",
          "Telecommunications",
          "IT",
          "Healthcare",
          "IT",
          "Education",
          "Government",
          "Retail",
          "IT",
          "Healthcare",
          "Government",
          "IT",
          "Telecommunications",
          "IT",
          "Healthcare",
          "Education",
          "Healthcare",
          "IT",
          "Healthcare",
          "Government",
          "Retail",
          "Government",
          "Telecommunications",
          "Healthcare",
          "Banking",
          "Education",
          "Retail",
          "IT",
          "Retail",
          "Education",
          "Banking",
          "Telecommunications",
          "IT",
          "Healthcare",
          "Retail",
          "Telecommunications",
          "Education",
          "Government",
          "Government",
          "Education",
          "Education",
          "Retail",
          "Healthcare",
          "Government",
          "Retail",
          "Retail"
         ],
         "legendgroup": "Malware, Hacker Group",
         "marker": {
          "color": "#19d3f3",
          "symbol": "circle"
         },
         "mode": "markers",
         "name": "Malware, Hacker Group",
         "scene": "scene",
         "showlegend": true,
         "type": "scatter3d",
         "x": {
          "bdata": "IjcUBTcjOSg2FyczBEU4JCgnLEE6Fy8UQjgDQwsyDQ8KJhlIBh0FOkABKysaHjkXLR0LPiUpIxMwPhQ2QjY3ORQcFyQoNBYUJjs9GjIQQRI6EQ87RBQzCy8UPQJBLy1CPkBBPx0YPi0/GxgvKUM+AiQdLDc5",
          "dtype": "i1"
         },
         "y": {
          "bdata": "4XoUrkdhMkBmZmZmZhZSQIXrUbgehRpACtejcD0KT0ApXI/C9Sj4P7gehetRiFNA16NwPQrHUUBSuB6F67FOQOxRuB6FK1VAPQrXo3CdUUBcj8L1KFwzQJqZmZmZCVVACtejcD1KOkApXI/C9fhQQPYoXI/CdS9A7FG4HoUrMkBSuB6F66FRQI/C9ShcX1dAj8L1KFzPU0AUrkfhehQVQEjhehSu509AhetRuB4FMEAUrkfhevRJQOxRuB6FK09AZmZmZmYmRUCamZmZmZn1P7gehetReD1AUrgehetRFUCamZmZmZkeQI/C9Shcz0NAAAAAAACQUEDsUbgehWtYQMP1KFyPIkdArkfhehT+V0DD9Shcj0I1QFyPwvUojFBA4XoUrkdhIUC4HoXrUXhXQOF6FK5HwUhA4XoUrkfhVUB7FK5H4RpTQK5H4XoU7lhAUrgehetRGkDNzMzMzExXQM3MzMzMbFNA4XoUrkdBQUCPwvUoXA9SQArXo3A9qlRAzczMzMycWECkcD0K13NUQNejcD0KVylAUrgehetBWEDNzMzMzEwxQBSuR+F69EFAMzMzMzMzBUApXI/C9ShRQJqZmZmZGUJAmpmZmZkpV0CPwvUoXI8zQIXrUbgeBVdAj8L1KFwvVUDhehSuR+ElQI/C9Shcb1JA7FG4HoWLSEDhehSuR1FSQOF6FK5HQVJA7FG4HoW7UEDsUbgehUtTQFK4HoXrgVJApHA9CtdjNUBSuB6F61EQQEjhehSuhz5APQrXo3BtUkBcj8L1KPxWQHE9CtejMDlAj8L1KFwfVEBcj8L1KNw3QAAAAAAAIEdAexSuR+HaVEAUrkfhetRJQGZmZmZm9lBAw/UoXI/yUEDsUbgehRtVQFyPwvUonFFA4XoUrkehNEDXo3A9Clc3QDMzMzMzk0tAUrgehetRVUC4HoXrUbg+QFyPwvUonDtA4XoUrkeBTUBI4XoUrtdTQJqZmZmZGUBAexSuR+HaUUDD9ShcjxJXQM3MzMzMzAxAuB6F61GYU0DNzMzMzCxVQMP1KFyPIlFA9ihcj8K1RkBI4XoUrpdSQI/C9Shcjz9AmpmZmZkZSkCPwvUoXE86QOxRuB6F6w1AMzMzMzOTTUDhehSuR/FQQKRwPQrXo0RAj8L1KFxfVkCuR+F6FG47QLgehetReDhAFK5H4XrUS0DNzMzMzFxSQI/C9Shcr0RAKVyPwvWIQkD2KFyPwvVRQArXo3A9yjxA",
          "dtype": "f8"
         },
         "z": {
          "bdata": "dMQDAHYGAgBNMAQAIMsOABaSDgA/GAEATK0OACpWBgDDzgoAo6AFAD78BgBR9wwAyFUMAJH3BAAmowsAFkkFAKiLBQDguAoAuCcNAIj4DAAxTQUAfecGAEyABQDEJQwAi5UHAGipBQCMTgEAegMKAGYwDQCj+QwAZxcLAKLWDQD9LwwA8poJALkvCQA6ZAEAiGsMAHQPAQDbTw0AYUMHACTFAADHrwQAXAwJAG9eDgBw3wAASM0OAAM3BwBKAgAAp34AAN0PBQDk6wsAYi0GAAFPCQBGZwEAeaQHAIqnDQD59wIAZ3gMAOrICwBtkgYAWfgFAApOCgDnIgwAMRAGAGg0AwBKKgsAW8YJACJNBQAlmg4AQKsGAAZzBAC2FQUAqcMFAI+4DQDbsg0AiRcKADFtCAB70wgAuDcIAC+zCADrbQgAKqcDAHZADwCMOg8A7+gLAEbrBwC38A0AqqELAL/pDgDNuQUA7rcEABYtDQDSBQkA88IOACIVBACBFwoAB+AHAEtGCADhEgwA48sOAFSPBAAGWA4AGUIEACHSCgBd4wAAgr0CAFdLDQDLAgMAZhMAAKVDAQDH6g4ASVUAAEG0CgAb9gsAox4CAFozBwAjGgAA",
          "dtype": "i4"
         }
        },
        {
         "hovertemplate": "<b>%{hovertext}</b><br><br>attack_type=Malware<br>attack_source=Nation-state<br>incident_resolution_time_(in_hours)=%{x}<br>financial_loss_(in_million_$)=%{y}<br>number_of_affected_users=%{z}<extra></extra>",
         "hovertext": [
          "Education",
          "Education",
          "Banking",
          "Education",
          "Government",
          "Healthcare",
          "Telecommunications",
          "Banking",
          "IT",
          "Healthcare",
          "Education",
          "Telecommunications",
          "Healthcare",
          "IT",
          "Telecommunications",
          "Banking",
          "Government",
          "IT",
          "Healthcare",
          "Education",
          "IT",
          "Telecommunications",
          "IT",
          "Government",
          "Healthcare",
          "Education",
          "Government",
          "Education",
          "Education",
          "Government",
          "Education",
          "Education",
          "IT",
          "Government",
          "IT",
          "IT",
          "Government",
          "Retail",
          "Banking",
          "Telecommunications",
          "Education",
          "Telecommunications",
          "Telecommunications",
          "Healthcare",
          "Banking",
          "Education",
          "Retail",
          "Government",
          "IT",
          "Telecommunications",
          "Retail",
          "Healthcare",
          "Government",
          "Education",
          "Retail",
          "Healthcare",
          "Healthcare",
          "IT",
          "Retail",
          "Retail",
          "Government",
          "Retail",
          "Retail",
          "Education",
          "IT",
          "Retail",
          "IT",
          "Telecommunications",
          "Healthcare",
          "Banking",
          "Telecommunications",
          "Healthcare",
          "Education",
          "Telecommunications",
          "Banking",
          "Banking",
          "Retail",
          "Government",
          "Education",
          "IT",
          "IT",
          "IT",
          "Government",
          "Government",
          "Education",
          "Telecommunications",
          "Telecommunications",
          "Banking",
          "Telecommunications",
          "Retail",
          "Healthcare",
          "Telecommunications",
          "Banking",
          "Government",
          "Banking",
          "Healthcare",
          "Retail",
          "Telecommunications",
          "IT",
          "Telecommunications",
          "Education",
          "Banking",
          "Banking",
          "Telecommunications",
          "Government",
          "Banking",
          "Government",
          "Education",
          "Government",
          "Banking",
          "Government",
          "Government",
          "Banking",
          "Education",
          "IT",
          "Banking",
          "Retail",
          "Healthcare",
          "IT",
          "Healthcare",
          "Retail",
          "Government",
          "Healthcare",
          "Banking"
         ],
         "legendgroup": "Malware, Nation-state",
         "marker": {
          "color": "#19d3f3",
          "symbol": "diamond"
         },
         "mode": "markers",
         "name": "Malware, Nation-state",
         "scene": "scene",
         "showlegend": true,
         "type": "scatter3d",
         "x": {
          "bdata": "NQojOiEjNxshNR8rKwUqPhkECEYfNkJGKC4jIAUfIywzBQMIO0Q1NTIEBjo4ERUbDkUTJBc4Dz4bGgoVPiYQPTpBSAooMTcxMB8mIUQRORIeRDUeHAZDFyoNCi0bMCkVPCI4DgIIIUMGCiQVAgwjGzhHNgZFBC86OQMJOA==",
          "dtype": "i1"
         },
         "y": {
          "bdata": "hetRuB6FSkCuR+F6FK4RQIXrUbgeVVdAhetRuB6FL0CuR+F6FK5UQBSuR+F6VFNAw/UoXI9iT0DXo3A9CudTQFK4HoXr4VJA7FG4HoWLT0CuR+F6FK4JQHsUrkfh+jdACtejcD26VkDsUbgehetAQMP1KFyPwh1AexSuR+H6K0BSuB6F6xFQQK5H4XoULiNACtejcD3qQ0CamZmZmblRQBSuR+F6hFhAFK5H4XokVUA9CtejcD0QQB+F61G4LlJArkfhehQOVECPwvUoXI9AQPYoXI/C9VRASOF6FK43VkDD9ShcjxJQQDMzMzMzg1hASOF6FK5HKkDhehSuRyFFQM3MzMzMnFRAPQrXo3A9JUApXI/C9SgoQHsUrkfh+lFAFK5H4XoUKEDNzMzMzAw9QArXo3A9CgVA9ihcj8JVT0DNzMzMzExYQFyPwvUo7FRArkfhehTuU0A9CtejcF1RQLgehetRGElAKVyPwvUoIEAzMzMzMxNQQGZmZmZmhklAcT0K16OQSEAUrkfhetRJQDMzMzMzszpAzczMzMzsTEAzMzMzMzNRQDMzMzMzM1NAw/UoXI8CSUD2KFyPwnVTQHE9CtejcFVASOF6FK7HTUB7FK5H4dpGQPYoXI/C9RRAexSuR+F6NkDsUbgehes1QDMzMzMzs1ZAFK5H4XpUWEBcj8L1KJxHQD0K16NwbVZArkfhehTOQEAK16NwPQpEQPYoXI/C9UdAexSuR+H6K0BSuB6F65FUQClcj8L1SFBAuB6F61F4TEDsUbgehctRQHE9CtejEExAzczMzMwMV0AK16NwPYorQK5H4XoUTklAcT0K16MQTkAfhetRuL5VQHsUrkfhyldAZmZmZmZmGUCamZmZmZk4QKRwPQrXA0FA7FG4HoXLSUBcj8L1KHxJQOF6FK5HYUNAj8L1KFxvREApXI/C9Sg7QKRwPQrXIydA4XoUrkfh+j+uR+F6FA5YQLgehetRyFVAw/UoXI+CTkDD9ShcjyJVQNejcD0Kp1JA4XoUrkchQEAAAAAAAMBXQLgehetRuP4/j8L1KFzPVkBI4XoUrndQQAAAAAAAYEdAhetRuB6FMUApXI/C9ag+QLgehetRuPI/hetRuB4FLEBcj8L1KNxLQM3MzMzMzPA/zczMzMzME0D2KFyPwvVIQKRwPQrX41NAXI/C9Sj8T0AzMzMzM7M5QBSuR+F6VEFAZmZmZmYGRkD2KFyPwqVYQAAAAAAAgCNASOF6FK7HOEDhehSuRyFLQDMzMzMzM0VAmpmZmZkZSkApXI/C9VhRQIXrUbgeBVZAUrgehesRTkA=",
          "dtype": "f8"
         },
         "z": {
          "bdata": "frQIABQCBgDq5QcAqAEAADdaAwD6mQgA33IGAFWFCwB5JA8A1zsBACE4BQDa4wEAKf0JACa4BgCmbQgAEYYKAILSCQBb7Q0AgbgIABN9BwC3SQkAOQAEAAwuDQAIugAA++QBACEOCwAluQcANpYDAJEZDgC/9QIA5GcKAKllCQAapwYAEy8GAKVbBwCvowcAS+EKAMN4DABiZAYAKPAHAMOfBwDqkwwAI8MJALDbAgCmmQsANIAIAOeZDQBkAQQA6cUBAMvFAwBXwwAATEoGAGBXBAA4RQkABtMIAGj2CwBhEg4ACd8GAGQLBwBGogoAYHgKAAA3CQAm2AwA0lULACQqBgC0FAgA38sAAHsDBwAxZQAAG6oBAOKlBQDJVQsAGFMDAO6TAABCCQgAG8wDAH1FDAAMfwQAGmcNAPbJBwAFgA0A9fUDAINgAwBFMQEAKUYOAD3LDAA5hAUAsfoKAF8YDQBgnAUAPB4NAGrMBgBqgwEAOusJAOnkBwBVcwUAcZQMALMrBQBdCgAAQp0KABd0BQBgpgMAYRwFAOKQBgAQTAQAfSgCAJM4AACMbQEACEoEADzxDABEHAUA2wIJAL8nDwCYXg4AbIoBAI5EAgAniAgAozQEAAl9DQAtFgEAwtgIABV6BQAq0g0Aw+sCAA==",
          "dtype": "i4"
         }
        },
        {
         "hovertemplate": "<b>%{hovertext}</b><br><br>attack_type=Malware<br>attack_source=Insider<br>incident_resolution_time_(in_hours)=%{x}<br>financial_loss_(in_million_$)=%{y}<br>number_of_affected_users=%{z}<extra></extra>",
         "hovertext": [
          "Telecommunications",
          "Government",
          "Banking",
          "Government",
          "Education",
          "Banking",
          "IT",
          "IT",
          "Telecommunications",
          "Retail",
          "Healthcare",
          "IT",
          "Banking",
          "Banking",
          "Telecommunications",
          "Healthcare",
          "Retail",
          "Banking",
          "Education",
          "IT",
          "Telecommunications",
          "Government",
          "Education",
          "Education",
          "Education",
          "Education",
          "Government",
          "Retail",
          "Healthcare",
          "Telecommunications",
          "Telecommunications",
          "Telecommunications",
          "Telecommunications",
          "Telecommunications",
          "Healthcare",
          "Banking",
          "Education",
          "Education",
          "Government",
          "Telecommunications",
          "Education",
          "IT",
          "Government",
          "Education",
          "Healthcare",
          "Healthcare",
          "Healthcare",
          "Banking",
          "Retail",
          "Retail",
          "Banking",
          "Education",
          "Government",
          "Retail",
          "Education",
          "Healthcare",
          "IT",
          "Telecommunications",
          "IT",
          "Education",
          "Government",
          "Healthcare",
          "Retail",
          "IT",
          "Education",
          "IT",
          "Telecommunications",
          "Education",
          "Telecommunications",
          "Telecommunications",
          "IT",
          "Healthcare",
          "Banking",
          "Banking",
          "IT",
          "Healthcare",
          "Healthcare",
          "Banking",
          "Banking",
          "Government",
          "Education",
          "Healthcare",
          "IT",
          "Banking",
          "Government",
          "Retail",
          "Healthcare",
          "Banking",
          "Telecommunications",
          "Government",
          "Government",
          "IT",
          "IT",
          "Banking",
          "Healthcare",
          "Education",
          "Healthcare",
          "Education",
          "Government",
          "Government",
          "Retail",
          "Banking",
          "Banking",
          "Telecommunications",
          "Telecommunications",
          "Education",
          "Telecommunications",
          "Retail",
          "Education",
          "Retail",
          "Retail",
          "Healthcare",
          "Telecommunications",
          "Government",
          "Banking",
          "Banking",
          "IT",
          "Telecommunications",
          "Healthcare",
          "Education",
          "Retail"
         ],
         "legendgroup": "Malware, Insider",
         "marker": {
          "color": "#19d3f3",
          "symbol": "square"
         },
         "mode": "markers",
         "name": "Malware, Insider",
         "scene": "scene",
         "showlegend": true,
         "type": "scatter3d",
         "x": {
          "bdata": "HBEbQjESGBYgDCxDOhUWJDpCQiIFNx4KFw86NzAPLCozODVIHy8mRB0rLhJAHgcpCwIeL0dHJUBCAR8rIkEWKQkSCzMyHw0hDQc4Ow81HQQUFA0EIAsZNzMeEhoRSAcjMw47O0ceHxUIPyA8BS01ByBFLxMdQz4dPA==",
          "dtype": "i1"
         },
         "y": {
          "bdata": "hetRuB4FLEC4HoXrUbg1QPYoXI/CFUZA16NwPQqXS0AfhetRuN42QOF6FK5HsVJAcT0K16PwVEC4HoXrUZhIQHsUrkfhOkNACtejcD3aWECPwvUoXI8sQMP1KFyP0lhA16NwPQrXNkCuR+F6FM5YQK5H4XoULixAUrgehetxQ0C4HoXrURhMQB+F61G43jVAcT0K16MwMUB7FK5H4RpLQFyPwvUoTFRAMzMzMzMzQUB7FK5H4dpXQM3MzMzMzBdAuB6F61GYVUDNzMzMzKxWQArXo3A9Cj9AhetRuB6FC0CamZmZmUlVQFK4HoXrUfg/FK5H4XoUDkBI4XoUrrdXQFyPwvUoXAlAKVyPwvWIWEB7FK5H4XpUQB+F61G4nidArkfhehQuWEAUrkfhekRTQNejcD0K1y9AzczMzMzMPEAzMzMzMzMZQFyPwvUo/FFAXI/C9SjsVkA9CtejcL03QFyPwvUo3D5Aj8L1KFxvSkBcj8L1KJw9QDMzMzMzI1FAUrgeheuBU0BmZmZmZsZDQKRwPQrXg0JAw/UoXI/SVEDhehSuR+E8QBSuR+F6VEJAMzMzMzMDUEAzMzMzM7MkQPYoXI/C1URA16NwPQp3RkBI4XoUrscnQMP1KFyPwlRA16NwPQoXO0Bcj8L1KPxRQHsUrkfhejZAmpmZmZnZNECuR+F6FK4cQArXo3A9CjZAhetRuB5FN0CF61G4HsVCQIXrUbgeZUVAPQrXo3BtV0AfhetRuJ4lQClcj8L1KEFAAAAAAACAKECamZmZmdlNQLgehetRmFRAmpmZmZnpVkBI4XoUrscnQKRwPQrXg1BAexSuR+F6IEDsUbgehUtAQD0K16NwPTpAPQrXo3C9UEDsUbgehatAQIXrUbgeRTRAFK5H4Xr0TEDNzMzMzGxOQMP1KFyPAjdAUrgeheuRR0AUrkfhehQSQEjhehSuhzlA9ihcj8IVS0AK16NwPQoaQIXrUbgeRUpAZmZmZmYmPkAK16NwPcozQClcj8L1iEJAH4XrUbieNEAfhetRuB4qQB+F61G4DlVAH4XrUbheTEDD9Shcj8IrQAAAAAAAgCZAzczMzMzMCEBxPQrXozBEQFyPwvUoXBNAcT0K16PgUkDD9Shcj3JWQClcj8L1qDpAzczMzMzMUkDNzMzMzNxUQB+F61G4nkBAPQrXo3DdSEA9CtejcJ1TQHE9CtejEExAw/UoXI/CNECkcD0K1yM3QEjhehSuB1FAUrgeheshV0DXo3A9CpdRQGZmZmZmhkFAH4XrUbj+RUA=",
          "dtype": "f8"
         },
         "z": {
          "bdata": "i9MIAFsFDwDuOwkAAjIEALLhDgAvUAIAlw0OACfLAQCGmwAA8NQBADuICwA9LAQASCwMANYSCgDubgAAcB0GALW+AQAhTwsANbkNAONnAgBlhgUA4n4BAFgBDgBlCgkAlgQAAHK3BgDXGwQAposNAJLwBgDa7g0A8FoKALb0BACDswgA/tUKAOR1AACt/AUAOfgCAGgpAAAcMgoATPgNAIwYCgCucg0AU4QNAOLZBACUqwMAI6wGAC6eCwBL6gAA4xQKANMlBQDjdwUAvS4CADU+AwAh6Q4A6scBAHPaCwDpbg4A0VoAACv7AwBhJw0AYvMOAJ32CQCzEQEAqWIHAH4YBAA/NgMA9I8DAEHBAABHYAcAB1MDAIxRBwCydAgAcnwCABvyAwCc5wUA4CQFAKfdCQC84gIAR7IDALBXCwD7aw4A9XwEAJ9GCgDWEA8AxrwLAHTpAQAneAoAmZQCABXcAwA8tgcAD50NAGRBAQA5EQMAGiQDAHFLDAASXwYAvtMAAEmXCwCaxgAAh+QOAKFoDABxtQkAyf0GAM7PAQAiSw4AbI0MAHO+DQBtoQQA6wkHACHCCADp/AwAfuYFANxCCQAtmgkAbgwBAPNuAgCgkwkA1RkLAA4jDwD0GQkAPpYGAA==",
          "dtype": "i4"
         }
        },
        {
         "hovertemplate": "<b>%{hovertext}</b><br><br>attack_type=Malware<br>attack_source=Unknown<br>incident_resolution_time_(in_hours)=%{x}<br>financial_loss_(in_million_$)=%{y}<br>number_of_affected_users=%{z}<extra></extra>",
         "hovertext": [
          "IT",
          "Healthcare",
          "Healthcare",
          "Retail",
          "Healthcare",
          "Telecommunications",
          "Retail",
          "Healthcare",
          "Education",
          "IT",
          "Healthcare",
          "Healthcare",
          "Healthcare",
          "Healthcare",
          "Healthcare",
          "Education",
          "Banking",
          "Retail",
          "Telecommunications",
          "Banking",
          "Healthcare",
          "Banking",
          "IT",
          "Retail",
          "Telecommunications",
          "Education",
          "Healthcare",
          "Healthcare",
          "Telecommunications",
          "Healthcare",
          "Telecommunications",
          "Retail",
          "Government",
          "Telecommunications",
          "Healthcare",
          "Education",
          "IT",
          "Banking",
          "Retail",
          "Retail",
          "Education",
          "Retail",
          "IT",
          "Education",
          "Healthcare",
          "Healthcare",
          "Healthcare",
          "Retail",
          "Education",
          "Retail",
          "Healthcare",
          "Retail",
          "Healthcare",
          "Healthcare",
          "Retail",
          "Retail",
          "Healthcare",
          "Government",
          "Telecommunications",
          "Telecommunications",
          "Telecommunications",
          "Retail",
          "Retail",
          "Telecommunications",
          "Healthcare",
          "IT",
          "IT",
          "Education",
          "Telecommunications",
          "Banking",
          "Healthcare",
          "Government",
          "Government",
          "Retail",
          "Education",
          "IT",
          "Education",
          "Government",
          "Healthcare",
          "Government",
          "Banking",
          "Retail",
          "IT",
          "Healthcare",
          "Telecommunications",
          "Education",
          "Banking",
          "Government",
          "Retail",
          "Education",
          "Retail",
          "IT",
          "Banking",
          "IT",
          "IT",
          "Banking",
          "Healthcare",
          "Retail",
          "Telecommunications",
          "Education",
          "Telecommunications",
          "Retail",
          "Healthcare",
          "Retail",
          "Healthcare",
          "Banking",
          "Telecommunications",
          "Government",
          "Retail",
          "IT",
          "Healthcare",
          "IT",
          "Government",
          "Telecommunications",
          "Government",
          "IT",
          "Government",
          "IT",
          "Telecommunications",
          "Telecommunications",
          "Telecommunications",
          "Education",
          "Government"
         ],
         "legendgroup": "Malware, Unknown",
         "marker": {
          "color": "#19d3f3",
          "symbol": "x"
         },
         "mode": "markers",
         "name": "Malware, Unknown",
         "scene": "scene",
         "showlegend": true,
         "type": "scatter3d",
         "x": {
          "bdata": "CSQ5ID8jHyIQFTgdLBo4AxshQQMrPT87JBEdORohETcHPQgDNzMQFCNDGgUeSAwPHT42KShAJREvHzEVICsKDDYyGCkrBRU9IikyOkUnJxoHHUYHJQURNUgqRkUSDCM9JDMhEQ0MHzUwH0ITLS4IKxs4BQ08QxwmLRMK",
          "dtype": "i1"
         },
         "y": {
          "bdata": "FK5H4XrUVUAUrkfhelQ0QGZmZmZmxlBA7FG4HoVLUkAK16NwPcpQQLgehetROCBAUrgehetxQEDsUbgehatKQEjhehSuR+E/hetRuB7VV0CkcD0K18NUQLgehetR+FRAj8L1KFwPIUC4HoXrUShYQBSuR+F6VERACtejcD2qT0A9CtejcP0xQK5H4XoU7kNAexSuR+EaUUDsUbgehatLQD0K16Nw3UJAXI/C9SiMUUDD9ShcjxJXQDMzMzMzc0xA9ihcj8JVUUCPwvUoXI9HQJqZmZmZqVRAFK5H4XrUPkBmZmZmZgZUQEjhehSux05ACtejcD0qQUAfhetRuD5BQK5H4XoULjNA4XoUrkfhDkAzMzMzMxNFQDMzMzMzc05AuB6F61G4I0B7FK5H4fojQIXrUbgehTRAPQrXo3B9TUCamZmZmVk/QBSuR+F6tFNAMzMzMzMzPkAfhetRuM5QQDMzMzMzc01AcT0K16NAU0DsUbgehes7QNejcD0KN09AKVyPwvVoT0DhehSuR+EZQIXrUbgeJUtAcT0K16OAUkApXI/C9SgXQHsUrkfhmkBArkfhehSOREAfhetRuJ4mQI/C9ShcDzhACtejcD36UUDhehSuRwFCQIXrUbgehRdAuB6F61EoWEDNzMzMzHxWQKRwPQrXM1NAXI/C9ShcGEB7FK5H4XorQEjhehSuhzVA4XoUrkfBRUB7FK5H4bpHQEjhehSuxyZA9ihcj8K1S0BI4XoUrodXQEjhehSu50xAAAAAAAAAEkAzMzMzM8NRQK5H4XoU7jhA9ihcj8LFVECkcD0K1yM0QOF6FK5HsVVArkfhehTuUkB7FK5H4fpBQIXrUbgehSNASOF6FK4XVECamZmZmclRQHE9CtejUFJApHA9CtdzUED2KFyPwsVYQNejcD0KV0FArkfhehS+U0CamZmZmclRQD0K16NwnVFAAAAAAACAIkApXI/C9Sg3QMP1KFyPwjlAw/UoXI9CM0DD9ShcjzJYQOxRuB6Fq0RAexSuR+FaSUAK16NwPapHQGZmZmZmpkJA7FG4HoX7VEAzMzMzM3NVQFK4HoXr0TtAUrgehetRHEDNzMzMzMxRQMP1KFyPklBAFK5H4XoUUUC4HoXrUbjmP+xRuB6Fa0lA7FG4HoWrREAfhetRuJ4gQK5H4XoUjkFApHA9CtdjQUDD9Shcj+JRQHE9Ctej8EhAcT0K16MAVkA9CtejcD02QGZmZmZm5kBAcT0K16OQR0C4HoXrUWhTQM3MzMzMTEBA9ihcj8I1N0DNzMzMzEwxQOxRuB6FS0tA",
          "dtype": "f8"
         },
         "z": {
          "bdata": "zSYJABohDADkqQoAXCoGAKWkCACmQgsA16cNALnnCgDGRA0A5k8EAPVODgCzXQIAIFIKABhYDAAQYgEAeNMCAHEMCQDTAQQAXOILAGj0AwCbaQIARhMMABIbCwBfZgUALU8AAAk3DQDCoQYArFgHAFqgAwBx1w0AgbcIAP2wDQAiKg8A6McAAKpjCgDiDQUASZADAGjIAQCSggAAiRQEAPrDBADZXgIAjy0KAESHBQCNBw8AQsgCAILTCwC2Aw4AAdwIAL1/BQBDxQYAiXMLACuKDABEOAEA1/MMAI+SCADfVwkAqQwMAL9IAwCHlwMAlfEFAGf/DQCyOwoAhKcGAFULBQCjjwMATHAKAIfzCwBEmQEAOW0OAIZTAABKtgsAwKoGADbvAADx+g0AbesJAHhiBAD1WgEA6tACAL/+DgBo3wEArywFACHSDACv2AwANkIDAAAIBgAeAAwApw8LAPrxAwCIhAYAx48KABXjBAAdPAwAZsIFABmaDABvQQEAX7YOAMnQDADZLAMAjZEBAMyvDgBRBwgA2VoNALkZDwB4kAYAc+AMABRvAADmHgAAVlYKAO0YDwCiSAcAu34EAAc0CgBtrAYAnBsFADJzDgBWXQkAUzEHAA6hBgCeigUAJvkMAISgDQD0HAsA",
          "dtype": "i4"
         }
        }
       ],
       "layout": {
        "legend": {
         "title": {
          "text": "attack_type, attack_source"
         },
         "tracegroupgap": 0
        },
        "scene": {
         "domain": {
          "x": [
           0,
           1
          ],
          "y": [
           0,
           1
          ]
         },
         "xaxis": {
          "title": {
           "text": "incident_resolution_time_(in_hours)"
          }
         },
         "yaxis": {
          "title": {
           "text": "financial_loss_(in_million_$)"
          }
         },
         "zaxis": {
          "title": {
           "text": "number_of_affected_users"
          }
         }
        },
        "template": {
         "data": {
          "bar": [
           {
            "error_x": {
             "color": "#f2f5fa"
            },
            "error_y": {
             "color": "#f2f5fa"
            },
            "marker": {
             "line": {
              "color": "rgb(17,17,17)",
              "width": 0.5
             },
             "pattern": {
              "fillmode": "overlay",
              "size": 10,
              "solidity": 0.2
             }
            },
            "type": "bar"
           }
          ],
          "barpolar": [
           {
            "marker": {
             "line": {
              "color": "rgb(17,17,17)",
              "width": 0.5
             },
             "pattern": {
              "fillmode": "overlay",
              "size": 10,
              "solidity": 0.2
             }
            },
            "type": "barpolar"
           }
          ],
          "carpet": [
           {
            "aaxis": {
             "endlinecolor": "#A2B1C6",
             "gridcolor": "#506784",
             "linecolor": "#506784",
             "minorgridcolor": "#506784",
             "startlinecolor": "#A2B1C6"
            },
            "baxis": {
             "endlinecolor": "#A2B1C6",
             "gridcolor": "#506784",
             "linecolor": "#506784",
             "minorgridcolor": "#506784",
             "startlinecolor": "#A2B1C6"
            },
            "type": "carpet"
           }
          ],
          "choropleth": [
           {
            "colorbar": {
             "outlinewidth": 0,
             "ticks": ""
            },
            "type": "choropleth"
           }
          ],
          "contour": [
           {
            "colorbar": {
             "outlinewidth": 0,
             "ticks": ""
            },
            "colorscale": [
             [
              0,
              "#0d0887"
             ],
             [
              0.1111111111111111,
              "#46039f"
             ],
             [
              0.2222222222222222,
              "#7201a8"
             ],
             [
              0.3333333333333333,
              "#9c179e"
             ],
             [
              0.4444444444444444,
              "#bd3786"
             ],
             [
              0.5555555555555556,
              "#d8576b"
             ],
             [
              0.6666666666666666,
              "#ed7953"
             ],
             [
              0.7777777777777778,
              "#fb9f3a"
             ],
             [
              0.8888888888888888,
              "#fdca26"
             ],
             [
              1,
              "#f0f921"
             ]
            ],
            "type": "contour"
           }
          ],
          "contourcarpet": [
           {
            "colorbar": {
             "outlinewidth": 0,
             "ticks": ""
            },
            "type": "contourcarpet"
           }
          ],
          "heatmap": [
           {
            "colorbar": {
             "outlinewidth": 0,
             "ticks": ""
            },
            "colorscale": [
             [
              0,
              "#0d0887"
             ],
             [
              0.1111111111111111,
              "#46039f"
             ],
             [
              0.2222222222222222,
              "#7201a8"
             ],
             [
              0.3333333333333333,
              "#9c179e"
             ],
             [
              0.4444444444444444,
              "#bd3786"
             ],
             [
              0.5555555555555556,
              "#d8576b"
             ],
             [
              0.6666666666666666,
              "#ed7953"
             ],
             [
              0.7777777777777778,
              "#fb9f3a"
             ],
             [
              0.8888888888888888,
              "#fdca26"
             ],
             [
              1,
              "#f0f921"
             ]
            ],
            "type": "heatmap"
           }
          ],
          "histogram": [
           {
            "marker": {
             "pattern": {
              "fillmode": "overlay",
              "size": 10,
              "solidity": 0.2
             }
            },
            "type": "histogram"
           }
          ],
          "histogram2d": [
           {
            "colorbar": {
             "outlinewidth": 0,
             "ticks": ""
            },
            "colorscale": [
             [
              0,
              "#0d0887"
             ],
             [
              0.1111111111111111,
              "#46039f"
             ],
             [
              0.2222222222222222,
              "#7201a8"
             ],
             [
              0.3333333333333333,
              "#9c179e"
             ],
             [
              0.4444444444444444,
              "#bd3786"
             ],
             [
              0.5555555555555556,
              "#d8576b"
             ],
             [
              0.6666666666666666,
              "#ed7953"
             ],
             [
              0.7777777777777778,
              "#fb9f3a"
             ],
             [
              0.8888888888888888,
              "#fdca26"
             ],
             [
              1,
              "#f0f921"
             ]
            ],
            "type": "histogram2d"
           }
          ],
          "histogram2dcontour": [
           {
            "colorbar": {
             "outlinewidth": 0,
             "ticks": ""
            },
            "colorscale": [
             [
              0,
              "#0d0887"
             ],
             [
              0.1111111111111111,
              "#46039f"
             ],
             [
              0.2222222222222222,
              "#7201a8"
             ],
             [
              0.3333333333333333,
              "#9c179e"
             ],
             [
              0.4444444444444444,
              "#bd3786"
             ],
             [
              0.5555555555555556,
              "#d8576b"
             ],
             [
              0.6666666666666666,
              "#ed7953"
             ],
             [
              0.7777777777777778,
              "#fb9f3a"
             ],
             [
              0.8888888888888888,
              "#fdca26"
             ],
             [
              1,
              "#f0f921"
             ]
            ],
            "type": "histogram2dcontour"
           }
          ],
          "mesh3d": [
           {
            "colorbar": {
             "outlinewidth": 0,
             "ticks": ""
            },
            "type": "mesh3d"
           }
          ],
          "parcoords": [
           {
            "line": {
             "colorbar": {
              "outlinewidth": 0,
              "ticks": ""
             }
            },
            "type": "parcoords"
           }
          ],
          "pie": [
           {
            "automargin": true,
            "type": "pie"
           }
          ],
          "scatter": [
           {
            "marker": {
             "line": {
              "color": "#283442"
             }
            },
            "type": "scatter"
           }
          ],
          "scatter3d": [
           {
            "line": {
             "colorbar": {
              "outlinewidth": 0,
              "ticks": ""
             }
            },
            "marker": {
             "colorbar": {
              "outlinewidth": 0,
              "ticks": ""
             }
            },
            "type": "scatter3d"
           }
          ],
          "scattercarpet": [
           {
            "marker": {
             "colorbar": {
              "outlinewidth": 0,
              "ticks": ""
             }
            },
            "type": "scattercarpet"
           }
          ],
          "scattergeo": [
           {
            "marker": {
             "colorbar": {
              "outlinewidth": 0,
              "ticks": ""
             }
            },
            "type": "scattergeo"
           }
          ],
          "scattergl": [
           {
            "marker": {
             "line": {
              "color": "#283442"
             }
            },
            "type": "scattergl"
           }
          ],
          "scattermap": [
           {
            "marker": {
             "colorbar": {
              "outlinewidth": 0,
              "ticks": ""
             }
            },
            "type": "scattermap"
           }
          ],
          "scattermapbox": [
           {
            "marker": {
             "colorbar": {
              "outlinewidth": 0,
              "ticks": ""
             }
            },
            "type": "scattermapbox"
           }
          ],
          "scatterpolar": [
           {
            "marker": {
             "colorbar": {
              "outlinewidth": 0,
              "ticks": ""
             }
            },
            "type": "scatterpolar"
           }
          ],
          "scatterpolargl": [
           {
            "marker": {
             "colorbar": {
              "outlinewidth": 0,
              "ticks": ""
             }
            },
            "type": "scatterpolargl"
           }
          ],
          "scatterternary": [
           {
            "marker": {
             "colorbar": {
              "outlinewidth": 0,
              "ticks": ""
             }
            },
            "type": "scatterternary"
           }
          ],
          "surface": [
           {
            "colorbar": {
             "outlinewidth": 0,
             "ticks": ""
            },
            "colorscale": [
             [
              0,
              "#0d0887"
             ],
             [
              0.1111111111111111,
              "#46039f"
             ],
             [
              0.2222222222222222,
              "#7201a8"
             ],
             [
              0.3333333333333333,
              "#9c179e"
             ],
             [
              0.4444444444444444,
              "#bd3786"
             ],
             [
              0.5555555555555556,
              "#d8576b"
             ],
             [
              0.6666666666666666,
              "#ed7953"
             ],
             [
              0.7777777777777778,
              "#fb9f3a"
             ],
             [
              0.8888888888888888,
              "#fdca26"
             ],
             [
              1,
              "#f0f921"
             ]
            ],
            "type": "surface"
           }
          ],
          "table": [
           {
            "cells": {
             "fill": {
              "color": "#506784"
             },
             "line": {
              "color": "rgb(17,17,17)"
             }
            },
            "header": {
             "fill": {
              "color": "#2a3f5f"
             },
             "line": {
              "color": "rgb(17,17,17)"
             }
            },
            "type": "table"
           }
          ]
         },
         "layout": {
          "annotationdefaults": {
           "arrowcolor": "#f2f5fa",
           "arrowhead": 0,
           "arrowwidth": 1
          },
          "autotypenumbers": "strict",
          "coloraxis": {
           "colorbar": {
            "outlinewidth": 0,
            "ticks": ""
           }
          },
          "colorscale": {
           "diverging": [
            [
             0,
             "#8e0152"
            ],
            [
             0.1,
             "#c51b7d"
            ],
            [
             0.2,
             "#de77ae"
            ],
            [
             0.3,
             "#f1b6da"
            ],
            [
             0.4,
             "#fde0ef"
            ],
            [
             0.5,
             "#f7f7f7"
            ],
            [
             0.6,
             "#e6f5d0"
            ],
            [
             0.7,
             "#b8e186"
            ],
            [
             0.8,
             "#7fbc41"
            ],
            [
             0.9,
             "#4d9221"
            ],
            [
             1,
             "#276419"
            ]
           ],
           "sequential": [
            [
             0,
             "#0d0887"
            ],
            [
             0.1111111111111111,
             "#46039f"
            ],
            [
             0.2222222222222222,
             "#7201a8"
            ],
            [
             0.3333333333333333,
             "#9c179e"
            ],
            [
             0.4444444444444444,
             "#bd3786"
            ],
            [
             0.5555555555555556,
             "#d8576b"
            ],
            [
             0.6666666666666666,
             "#ed7953"
            ],
            [
             0.7777777777777778,
             "#fb9f3a"
            ],
            [
             0.8888888888888888,
             "#fdca26"
            ],
            [
             1,
             "#f0f921"
            ]
           ],
           "sequentialminus": [
            [
             0,
             "#0d0887"
            ],
            [
             0.1111111111111111,
             "#46039f"
            ],
            [
             0.2222222222222222,
             "#7201a8"
            ],
            [
             0.3333333333333333,
             "#9c179e"
            ],
            [
             0.4444444444444444,
             "#bd3786"
            ],
            [
             0.5555555555555556,
             "#d8576b"
            ],
            [
             0.6666666666666666,
             "#ed7953"
            ],
            [
             0.7777777777777778,
             "#fb9f3a"
            ],
            [
             0.8888888888888888,
             "#fdca26"
            ],
            [
             1,
             "#f0f921"
            ]
           ]
          },
          "colorway": [
           "#636efa",
           "#EF553B",
           "#00cc96",
           "#ab63fa",
           "#FFA15A",
           "#19d3f3",
           "#FF6692",
           "#B6E880",
           "#FF97FF",
           "#FECB52"
          ],
          "font": {
           "color": "#f2f5fa"
          },
          "geo": {
           "bgcolor": "rgb(17,17,17)",
           "lakecolor": "rgb(17,17,17)",
           "landcolor": "rgb(17,17,17)",
           "showlakes": true,
           "showland": true,
           "subunitcolor": "#506784"
          },
          "hoverlabel": {
           "align": "left"
          },
          "hovermode": "closest",
          "mapbox": {
           "style": "dark"
          },
          "paper_bgcolor": "rgb(17,17,17)",
          "plot_bgcolor": "rgb(17,17,17)",
          "polar": {
           "angularaxis": {
            "gridcolor": "#506784",
            "linecolor": "#506784",
            "ticks": ""
           },
           "bgcolor": "rgb(17,17,17)",
           "radialaxis": {
            "gridcolor": "#506784",
            "linecolor": "#506784",
            "ticks": ""
           }
          },
          "scene": {
           "xaxis": {
            "backgroundcolor": "rgb(17,17,17)",
            "gridcolor": "#506784",
            "gridwidth": 2,
            "linecolor": "#506784",
            "showbackground": true,
            "ticks": "",
            "zerolinecolor": "#C8D4E3"
           },
           "yaxis": {
            "backgroundcolor": "rgb(17,17,17)",
            "gridcolor": "#506784",
            "gridwidth": 2,
            "linecolor": "#506784",
            "showbackground": true,
            "ticks": "",
            "zerolinecolor": "#C8D4E3"
           },
           "zaxis": {
            "backgroundcolor": "rgb(17,17,17)",
            "gridcolor": "#506784",
            "gridwidth": 2,
            "linecolor": "#506784",
            "showbackground": true,
            "ticks": "",
            "zerolinecolor": "#C8D4E3"
           }
          },
          "shapedefaults": {
           "line": {
            "color": "#f2f5fa"
           }
          },
          "sliderdefaults": {
           "bgcolor": "#C8D4E3",
           "bordercolor": "rgb(17,17,17)",
           "borderwidth": 1,
           "tickwidth": 0
          },
          "ternary": {
           "aaxis": {
            "gridcolor": "#506784",
            "linecolor": "#506784",
            "ticks": ""
           },
           "baxis": {
            "gridcolor": "#506784",
            "linecolor": "#506784",
            "ticks": ""
           },
           "bgcolor": "rgb(17,17,17)",
           "caxis": {
            "gridcolor": "#506784",
            "linecolor": "#506784",
            "ticks": ""
           }
          },
          "title": {
           "x": 0.05
          },
          "updatemenudefaults": {
           "bgcolor": "#506784",
           "borderwidth": 0
          },
          "xaxis": {
           "automargin": true,
           "gridcolor": "#283442",
           "linecolor": "#506784",
           "ticks": "",
           "title": {
            "standoff": 15
           },
           "zerolinecolor": "#283442",
           "zerolinewidth": 2
          },
          "yaxis": {
           "automargin": true,
           "gridcolor": "#283442",
           "linecolor": "#506784",
           "ticks": "",
           "title": {
            "standoff": 15
           },
           "zerolinecolor": "#283442",
           "zerolinewidth": 2
          }
         }
        },
        "title": {
         "text": "Relazione tra Perdita, Tempo e Utenti colpiti"
        }
       }
      }
     },
     "metadata": {},
     "output_type": "display_data"
    },
    {
     "data": {
      "application/vnd.plotly.v1+json": {
       "config": {
        "plotlyServerURL": "https://plot.ly"
       },
       "data": [
        {
         "dimensions": [
          {
           "label": "Loss ($M)",
           "values": {
            "bdata": "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",
            "dtype": "f8"
           }
          },
          {
           "label": "Resolution Time (h)",
           "values": {
            "bdata": "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",
            "dtype": "i1"
           }
          },
          {
           "label": "Users Affected",
           "values": {
            "bdata": "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",
            "dtype": "i4"
           }
          }
         ],
         "domain": {
          "x": [
           0,
           1
          ],
          "y": [
           0,
           1
          ]
         },
         "line": {
          "color": {
           "bdata": "AAECAQICAwQCAwAEAQMDAAIDBQMBAQMAAwAFAQUDBAUEAAAAAgQDAwMEAgMDBQQDAgADBQAAAgMFAwAAAAADBQUDBQIDAAMBAAABAAABBAUAAwUCBQUCAwMEBAMDAgUBAAMDBQEBBQQFAAQCBQMDBQIABQIAAQIFBAUBAgUFBQIABQABBQMFBAUCBAIEAwADAQIDBAQDAAAEAwAABQUEAQQCBAEEAwECBAMBBQEFBQQDBAQAAQIFAwUFBQUCAgICAgIFAAMBBAIAAwUEAgAAAAUFAwAAAQUFAQMDAgEBAAUCBAUBAAIEAAQDBAIEAwUBAwEDAAMFAQUBAAAAAQQBBAUABAUAAQIFAQABAAAABQEBAAAFAAIFAwQCBAECBAMFAwUCAAMBAQEEAwAFAAMCAwQCAAIDBQUAAwQEAQIAAAEEAAQEBAEDBQABBQUEBAUCBAMFBQIFBQUBAAIBAwEEBAMDAwQEAgEEBQUEAQUEAwQCAwAEAQICAQAABAEFAgIAAgUABAICAAMAAwAABAEDBQQCAgEDAAQABAEAAgMEAgICAAIABQQFBAQAAgQAAwQEBAMEAAICAwIEBQIDAAEFBAABAwUEAwEDAQQDAgEAAAAFAAMBAgEDAgMEBAQFAwIDBAQDBQUFBAUBAwEBAAAAAAMAAQABBAMFAAMDAAQCBQQBAAUDBAMFAwEDAwEFBAQEAQUDAAAEAQAFAQMCAQIEBQEBAQUEAgUBBAIAAQIEAAUBAgMAAAEEAAMBBQMBAwICAgMDAQQEBQMBAgACAwMDAwAEAAEEAQUBAwQCAQQEAQAABAIEBAECBAAAAAICAgACAQUDAwEDAwQAAQUAAQIAAwEDAQIABQQEAgADAgEDAgEEAQQDBAQEAwAFAQQBAgMDAQEBAwMEAgABAQEFAAIAAAIEBQMCAwECAwAEAwEDAAMBBAIFBQIFBQAAAQUAAQEAAwEFAgIBBQUCAgQDAwQEAQECBQAABAABAQIEAgQCAAUFBAAEBAMBAgACAAQCAAUBAQMEBQQBAgAEBAUEBAEFBAUEAQIBBAMCAwMDAwIDAgMDBQACBQQFAwIDBQAEBQAEAAMDBAAAAAUFAQQCAwIBBAMDAgECAAEDBQIAAAQAAwAFAwABBAMEBAAFAgIBAAQFAQADAwMDAwEFAQMFAgIAAwQABQMEAQUABAQEAAQAAAAEBAUBBQMFAwMEAQEBAgECAQEBAgUDAQUCAwABBQMFBQADAAEAAwQCAQAEAQECAAMBAAMCBQUCBAUAAgUBBQEAAAQDAwMAAwQAAAQBBAUFAQMDAgIDAgMBBQMFAQQFAwIFAAIBAAECBAEDAgMCAwECAAMAAAMFAQMABAQDAwADAAUAAwADAgUEAgQAAgAEAAICBAMAAgQDAwQDBAADBQUBBQMEAAQCAAMBBAUFAQICBQMAAAMEAAMAAwACAwIAAAQDAwAFAwQEAgECAQMCBQMFBAEDAwUBAgQAAQABBAIFBQEAAQEDAQABAAUCAAIAAQQCAwECAAAAAwEDAAUCAAMEAwUDAAEFAAQFBAQCAAAEBQICBAUDAgQAAAQAAQQCBQUDAgMFAgMFBAECAAIBAQUEAQQEBQIABQUAAQMEAQECAQQABAMCBAQDBQIFBAAFAwUBAQIEAQIDBAEEAQECAAIDAAIFAAQEAgADBAECAwQAAwMAAwMEBQADAAAEAgMEAgADAQQEAwEAAgEDAgUAAAACAgAFAgMEBAEBAgEBAwMABQABAAAAAAABBQUCBAQEAwUEAAEEBAACAgAEBAUABQAEBQAAAwIBAwQFAAEEAwUABAIDAwEBAgIAAQUFAwQDAAEAAgEBAQMEAQAEAQEBAQAEAQIEAAMFAwQFAwMBAQUCAgIBBQUBAQMABQUFAQMEAQAEAQQFBAQAAwEBAAIDAgMEBAIEBAQEAQADAwIDAAMFAgACAAACBQMABAEFAAMFAQUCAAECAQMBAwAEAQQCBAMAAQIBBQMABAQBAwQFAwQABQABBQAEBAECAAQDAQIDBAACAQIBAQQDAQMBBQIAAQQAAgUDAAIEBAEEAwUCAgMAAgAFBAUFAgECAAAFBQACAwUEAwIDAQEFBAMCBQAAAwEDAwECAQABAQMBAgUFBAUEAAIAAgIBBAICAwEBAAICBAEDAAQABAUAAAACAAIDAgACBAEBAgQDAQMCAgIFAQACBAIAAwUAAAMEAQEFBQEABQIABQMDBAUAAwMCBAUDAQMDAwQDBQIFAAUDBAQFAQQFAgEEAgMCAQQEAwMFAQUEAgQEBAUEBAUBAAEEAgQABAEEAwECAQADBAIAAgIFAAIEAwQCAwAAAwEAAwMFAgUCAwUEAQMDAgACAQQAAgUCAAUFAAEEBQAEBAQEAQUDBQUBAwEBBAIDBQECAgIFAwAFBAUCAQQDAAUDAAIBAgQAAgEFAwUCAwUBAQABBAADAAUCAwAFBQMCBQUCAQAAAgECBQUBAgQAAwIEAwUFAwIEBAEABAEABAUDAQADBQIFAwEFAwUAAwEBBAEABAUAAAABAAABBAIDAgABBQIFAgQBBQQAAwIAAAUAAQIFAAICAQIFBQABAgMBAwUFBQMDAgADAwIBAwIEAwEEAwEDBQUEBQUDBQUDBQQCAgEEAQUBAwUBAAIAAgADAQAAAQMEAQQEAwEFAQIEAQQCAwIDBAEEAAACAgQAAAEFAAMCAwAAAAIDAwECAAMFAgQBAwQDBAUBAAAAAwAEAwACAAEABAEEAgUBAAEDAAEDBQIBBQICAgUABQIBAQQBAgADAAICBAEEBQADBQMAAQEFBQIBAQICAAUDBAUEAwQCBQABAgABBAQCAwMEBQQCAAEEAwADAwUAAgMFAQABAgUCBQMDAwEDAQQFAwEEAwAFAwMEAwMCAQUFAwAABQEEAQQABQECBQMDAgMDAgUAAAADAAMDAwIABAECAAEEAwAEBAEEBAMFAwIFAgUEAQUDAwIBAgIAAgMCAQUFBQQAAAQEBAMABAMDBAICAwAAAAUFBQEBAgMAAAIBAAQFAwMFAQAEAQACBAQBAAUDAQAEAwIEAQMDBQMEAwQAAAQABQQBAAQABQUCAgUBBAUFAQUBAgIAAwIFAwQAAgEEAwUEBQQBAgMFBAMCAwEAAQQFAwIBAAQDAwIEBQICAQEBAgQAAwMAAAUAAwIFAgICBAUCAgQDBQMAAQIEAQEDBAMBAAIFBAUFAQUCAwEDAQUDBAUEAAAFAAQEBAMFAwQCAAQCAQUCBAMFBAAAAwIBAwAABQMBAgEFAAECAAQBBQMBAgICBAIFAQADBQIAAgUFAgAAAwMAAAUCAQAEAQIBAAUFAgQBAgAAAQUEAQACAwUBBAEEAQEEBAEDAgMCAAAABQQDAQADAQAFAgQFBAADAAIBAgIDAAIFBQEFBAAFBQQDBQUFAQEFBQAEBQEAAQIAAAEDAQQEAgMEAAMABQMEAAMFAgACAgUBBAABBAMCBQUDBQEAAAQFAgECAQMDAwUDAAQEBAQFBAEBAQECBAAAAAEDBAUBAwIBAwQCBQMAAAEDAgEBAwQEAwEAAgAAAgUDBAQCAwMFAQUAAwUDBQUFAwEBBQUCAAIFAAUFBQADAAQFBAUCAwQCAQUEAwIEBQICBQIAAgEFAwMDAQAEAQIABAEFAwMFAAECAgUABAUFBQMDAAUFAgECBAEEAQIEBQQCAwQDAwECAgMCAgIFAAAAAwUDAAMDAQUEBAABAgMEAQUBAAICBAUBAAAEBQABAAUAAAQEAAEDAwADAwMDAAUDBAQFAAEEAwACBAQCAAUBBQUCBAUBBAEEAwUAAAIDAAECAwMDAwABAAQDAAAFBAUCAAECAAMBAQUFBAQEAwMFBAUBAQMBAAUEAAIABAQDAQUDAwEFAwMDBAEAAQIDAQADAwQFAQQEBAUBAQEFBQQDBAUEAQEAAAUFAAEAAQUDAAUFBAUBBAUEBAEEAwQCAgACAAMFBQEEAgMFBAUBBAEAAQUEAQEEBAQE",
           "dtype": "i1"
          },
          "coloraxis": "coloraxis"
         },
         "name": "",
         "type": "parcoords"
        }
       ],
       "layout": {
        "coloraxis": {
         "colorbar": {
          "title": {
           "text": "color"
          }
         },
         "colorscale": [
          [
           0,
           "#0d0887"
          ],
          [
           0.1111111111111111,
           "#46039f"
          ],
          [
           0.2222222222222222,
           "#7201a8"
          ],
          [
           0.3333333333333333,
           "#9c179e"
          ],
          [
           0.4444444444444444,
           "#bd3786"
          ],
          [
           0.5555555555555556,
           "#d8576b"
          ],
          [
           0.6666666666666666,
           "#ed7953"
          ],
          [
           0.7777777777777778,
           "#fb9f3a"
          ],
          [
           0.8888888888888888,
           "#fdca26"
          ],
          [
           1,
           "#f0f921"
          ]
         ]
        },
        "legend": {
         "tracegroupgap": 0
        },
        "template": {
         "data": {
          "bar": [
           {
            "error_x": {
             "color": "#f2f5fa"
            },
            "error_y": {
             "color": "#f2f5fa"
            },
            "marker": {
             "line": {
              "color": "rgb(17,17,17)",
              "width": 0.5
             },
             "pattern": {
              "fillmode": "overlay",
              "size": 10,
              "solidity": 0.2
             }
            },
            "type": "bar"
           }
          ],
          "barpolar": [
           {
            "marker": {
             "line": {
              "color": "rgb(17,17,17)",
              "width": 0.5
             },
             "pattern": {
              "fillmode": "overlay",
              "size": 10,
              "solidity": 0.2
             }
            },
            "type": "barpolar"
           }
          ],
          "carpet": [
           {
            "aaxis": {
             "endlinecolor": "#A2B1C6",
             "gridcolor": "#506784",
             "linecolor": "#506784",
             "minorgridcolor": "#506784",
             "startlinecolor": "#A2B1C6"
            },
            "baxis": {
             "endlinecolor": "#A2B1C6",
             "gridcolor": "#506784",
             "linecolor": "#506784",
             "minorgridcolor": "#506784",
             "startlinecolor": "#A2B1C6"
            },
            "type": "carpet"
           }
          ],
          "choropleth": [
           {
            "colorbar": {
             "outlinewidth": 0,
             "ticks": ""
            },
            "type": "choropleth"
           }
          ],
          "contour": [
           {
            "colorbar": {
             "outlinewidth": 0,
             "ticks": ""
            },
            "colorscale": [
             [
              0,
              "#0d0887"
             ],
             [
              0.1111111111111111,
              "#46039f"
             ],
             [
              0.2222222222222222,
              "#7201a8"
             ],
             [
              0.3333333333333333,
              "#9c179e"
             ],
             [
              0.4444444444444444,
              "#bd3786"
             ],
             [
              0.5555555555555556,
              "#d8576b"
             ],
             [
              0.6666666666666666,
              "#ed7953"
             ],
             [
              0.7777777777777778,
              "#fb9f3a"
             ],
             [
              0.8888888888888888,
              "#fdca26"
             ],
             [
              1,
              "#f0f921"
             ]
            ],
            "type": "contour"
           }
          ],
          "contourcarpet": [
           {
            "colorbar": {
             "outlinewidth": 0,
             "ticks": ""
            },
            "type": "contourcarpet"
           }
          ],
          "heatmap": [
           {
            "colorbar": {
             "outlinewidth": 0,
             "ticks": ""
            },
            "colorscale": [
             [
              0,
              "#0d0887"
             ],
             [
              0.1111111111111111,
              "#46039f"
             ],
             [
              0.2222222222222222,
              "#7201a8"
             ],
             [
              0.3333333333333333,
              "#9c179e"
             ],
             [
              0.4444444444444444,
              "#bd3786"
             ],
             [
              0.5555555555555556,
              "#d8576b"
             ],
             [
              0.6666666666666666,
              "#ed7953"
             ],
             [
              0.7777777777777778,
              "#fb9f3a"
             ],
             [
              0.8888888888888888,
              "#fdca26"
             ],
             [
              1,
              "#f0f921"
             ]
            ],
            "type": "heatmap"
           }
          ],
          "histogram": [
           {
            "marker": {
             "pattern": {
              "fillmode": "overlay",
              "size": 10,
              "solidity": 0.2
             }
            },
            "type": "histogram"
           }
          ],
          "histogram2d": [
           {
            "colorbar": {
             "outlinewidth": 0,
             "ticks": ""
            },
            "colorscale": [
             [
              0,
              "#0d0887"
             ],
             [
              0.1111111111111111,
              "#46039f"
             ],
             [
              0.2222222222222222,
              "#7201a8"
             ],
             [
              0.3333333333333333,
              "#9c179e"
             ],
             [
              0.4444444444444444,
              "#bd3786"
             ],
             [
              0.5555555555555556,
              "#d8576b"
             ],
             [
              0.6666666666666666,
              "#ed7953"
             ],
             [
              0.7777777777777778,
              "#fb9f3a"
             ],
             [
              0.8888888888888888,
              "#fdca26"
             ],
             [
              1,
              "#f0f921"
             ]
            ],
            "type": "histogram2d"
           }
          ],
          "histogram2dcontour": [
           {
            "colorbar": {
             "outlinewidth": 0,
             "ticks": ""
            },
            "colorscale": [
             [
              0,
              "#0d0887"
             ],
             [
              0.1111111111111111,
              "#46039f"
             ],
             [
              0.2222222222222222,
              "#7201a8"
             ],
             [
              0.3333333333333333,
              "#9c179e"
             ],
             [
              0.4444444444444444,
              "#bd3786"
             ],
             [
              0.5555555555555556,
              "#d8576b"
             ],
             [
              0.6666666666666666,
              "#ed7953"
             ],
             [
              0.7777777777777778,
              "#fb9f3a"
             ],
             [
              0.8888888888888888,
              "#fdca26"
             ],
             [
              1,
              "#f0f921"
             ]
            ],
            "type": "histogram2dcontour"
           }
          ],
          "mesh3d": [
           {
            "colorbar": {
             "outlinewidth": 0,
             "ticks": ""
            },
            "type": "mesh3d"
           }
          ],
          "parcoords": [
           {
            "line": {
             "colorbar": {
              "outlinewidth": 0,
              "ticks": ""
             }
            },
            "type": "parcoords"
           }
          ],
          "pie": [
           {
            "automargin": true,
            "type": "pie"
           }
          ],
          "scatter": [
           {
            "marker": {
             "line": {
              "color": "#283442"
             }
            },
            "type": "scatter"
           }
          ],
          "scatter3d": [
           {
            "line": {
             "colorbar": {
              "outlinewidth": 0,
              "ticks": ""
             }
            },
            "marker": {
             "colorbar": {
              "outlinewidth": 0,
              "ticks": ""
             }
            },
            "type": "scatter3d"
           }
          ],
          "scattercarpet": [
           {
            "marker": {
             "colorbar": {
              "outlinewidth": 0,
              "ticks": ""
             }
            },
            "type": "scattercarpet"
           }
          ],
          "scattergeo": [
           {
            "marker": {
             "colorbar": {
              "outlinewidth": 0,
              "ticks": ""
             }
            },
            "type": "scattergeo"
           }
          ],
          "scattergl": [
           {
            "marker": {
             "line": {
              "color": "#283442"
             }
            },
            "type": "scattergl"
           }
          ],
          "scattermap": [
           {
            "marker": {
             "colorbar": {
              "outlinewidth": 0,
              "ticks": ""
             }
            },
            "type": "scattermap"
           }
          ],
          "scattermapbox": [
           {
            "marker": {
             "colorbar": {
              "outlinewidth": 0,
              "ticks": ""
             }
            },
            "type": "scattermapbox"
           }
          ],
          "scatterpolar": [
           {
            "marker": {
             "colorbar": {
              "outlinewidth": 0,
              "ticks": ""
             }
            },
            "type": "scatterpolar"
           }
          ],
          "scatterpolargl": [
           {
            "marker": {
             "colorbar": {
              "outlinewidth": 0,
              "ticks": ""
             }
            },
            "type": "scatterpolargl"
           }
          ],
          "scatterternary": [
           {
            "marker": {
             "colorbar": {
              "outlinewidth": 0,
              "ticks": ""
             }
            },
            "type": "scatterternary"
           }
          ],
          "surface": [
           {
            "colorbar": {
             "outlinewidth": 0,
             "ticks": ""
            },
            "colorscale": [
             [
              0,
              "#0d0887"
             ],
             [
              0.1111111111111111,
              "#46039f"
             ],
             [
              0.2222222222222222,
              "#7201a8"
             ],
             [
              0.3333333333333333,
              "#9c179e"
             ],
             [
              0.4444444444444444,
              "#bd3786"
             ],
             [
              0.5555555555555556,
              "#d8576b"
             ],
             [
              0.6666666666666666,
              "#ed7953"
             ],
             [
              0.7777777777777778,
              "#fb9f3a"
             ],
             [
              0.8888888888888888,
              "#fdca26"
             ],
             [
              1,
              "#f0f921"
             ]
            ],
            "type": "surface"
           }
          ],
          "table": [
           {
            "cells": {
             "fill": {
              "color": "#506784"
             },
             "line": {
              "color": "rgb(17,17,17)"
             }
            },
            "header": {
             "fill": {
              "color": "#2a3f5f"
             },
             "line": {
              "color": "rgb(17,17,17)"
             }
            },
            "type": "table"
           }
          ]
         },
         "layout": {
          "annotationdefaults": {
           "arrowcolor": "#f2f5fa",
           "arrowhead": 0,
           "arrowwidth": 1
          },
          "autotypenumbers": "strict",
          "coloraxis": {
           "colorbar": {
            "outlinewidth": 0,
            "ticks": ""
           }
          },
          "colorscale": {
           "diverging": [
            [
             0,
             "#8e0152"
            ],
            [
             0.1,
             "#c51b7d"
            ],
            [
             0.2,
             "#de77ae"
            ],
            [
             0.3,
             "#f1b6da"
            ],
            [
             0.4,
             "#fde0ef"
            ],
            [
             0.5,
             "#f7f7f7"
            ],
            [
             0.6,
             "#e6f5d0"
            ],
            [
             0.7,
             "#b8e186"
            ],
            [
             0.8,
             "#7fbc41"
            ],
            [
             0.9,
             "#4d9221"
            ],
            [
             1,
             "#276419"
            ]
           ],
           "sequential": [
            [
             0,
             "#0d0887"
            ],
            [
             0.1111111111111111,
             "#46039f"
            ],
            [
             0.2222222222222222,
             "#7201a8"
            ],
            [
             0.3333333333333333,
             "#9c179e"
            ],
            [
             0.4444444444444444,
             "#bd3786"
            ],
            [
             0.5555555555555556,
             "#d8576b"
            ],
            [
             0.6666666666666666,
             "#ed7953"
            ],
            [
             0.7777777777777778,
             "#fb9f3a"
            ],
            [
             0.8888888888888888,
             "#fdca26"
            ],
            [
             1,
             "#f0f921"
            ]
           ],
           "sequentialminus": [
            [
             0,
             "#0d0887"
            ],
            [
             0.1111111111111111,
             "#46039f"
            ],
            [
             0.2222222222222222,
             "#7201a8"
            ],
            [
             0.3333333333333333,
             "#9c179e"
            ],
            [
             0.4444444444444444,
             "#bd3786"
            ],
            [
             0.5555555555555556,
             "#d8576b"
            ],
            [
             0.6666666666666666,
             "#ed7953"
            ],
            [
             0.7777777777777778,
             "#fb9f3a"
            ],
            [
             0.8888888888888888,
             "#fdca26"
            ],
            [
             1,
             "#f0f921"
            ]
           ]
          },
          "colorway": [
           "#636efa",
           "#EF553B",
           "#00cc96",
           "#ab63fa",
           "#FFA15A",
           "#19d3f3",
           "#FF6692",
           "#B6E880",
           "#FF97FF",
           "#FECB52"
          ],
          "font": {
           "color": "#f2f5fa"
          },
          "geo": {
           "bgcolor": "rgb(17,17,17)",
           "lakecolor": "rgb(17,17,17)",
           "landcolor": "rgb(17,17,17)",
           "showlakes": true,
           "showland": true,
           "subunitcolor": "#506784"
          },
          "hoverlabel": {
           "align": "left"
          },
          "hovermode": "closest",
          "mapbox": {
           "style": "dark"
          },
          "paper_bgcolor": "rgb(17,17,17)",
          "plot_bgcolor": "rgb(17,17,17)",
          "polar": {
           "angularaxis": {
            "gridcolor": "#506784",
            "linecolor": "#506784",
            "ticks": ""
           },
           "bgcolor": "rgb(17,17,17)",
           "radialaxis": {
            "gridcolor": "#506784",
            "linecolor": "#506784",
            "ticks": ""
           }
          },
          "scene": {
           "xaxis": {
            "backgroundcolor": "rgb(17,17,17)",
            "gridcolor": "#506784",
            "gridwidth": 2,
            "linecolor": "#506784",
            "showbackground": true,
            "ticks": "",
            "zerolinecolor": "#C8D4E3"
           },
           "yaxis": {
            "backgroundcolor": "rgb(17,17,17)",
            "gridcolor": "#506784",
            "gridwidth": 2,
            "linecolor": "#506784",
            "showbackground": true,
            "ticks": "",
            "zerolinecolor": "#C8D4E3"
           },
           "zaxis": {
            "backgroundcolor": "rgb(17,17,17)",
            "gridcolor": "#506784",
            "gridwidth": 2,
            "linecolor": "#506784",
            "showbackground": true,
            "ticks": "",
            "zerolinecolor": "#C8D4E3"
           }
          },
          "shapedefaults": {
           "line": {
            "color": "#f2f5fa"
           }
          },
          "sliderdefaults": {
           "bgcolor": "#C8D4E3",
           "bordercolor": "rgb(17,17,17)",
           "borderwidth": 1,
           "tickwidth": 0
          },
          "ternary": {
           "aaxis": {
            "gridcolor": "#506784",
            "linecolor": "#506784",
            "ticks": ""
           },
           "baxis": {
            "gridcolor": "#506784",
            "linecolor": "#506784",
            "ticks": ""
           },
           "bgcolor": "rgb(17,17,17)",
           "caxis": {
            "gridcolor": "#506784",
            "linecolor": "#506784",
            "ticks": ""
           }
          },
          "title": {
           "x": 0.05
          },
          "updatemenudefaults": {
           "bgcolor": "#506784",
           "borderwidth": 0
          },
          "xaxis": {
           "automargin": true,
           "gridcolor": "#283442",
           "linecolor": "#506784",
           "ticks": "",
           "title": {
            "standoff": 15
           },
           "zerolinecolor": "#283442",
           "zerolinewidth": 2
          },
          "yaxis": {
           "automargin": true,
           "gridcolor": "#283442",
           "linecolor": "#506784",
           "ticks": "",
           "title": {
            "standoff": 15
           },
           "zerolinecolor": "#283442",
           "zerolinewidth": 2
          }
         }
        },
        "title": {
         "text": "Coordinated Parallel Plot per Incidente"
        }
       }
      }
     },
     "metadata": {},
     "output_type": "display_data"
    },
    {
     "data": {
      "application/vnd.plotly.v1+json": {
       "config": {
        "plotlyServerURL": "https://plot.ly"
       },
       "data": [
        {
         "hovertemplate": "<b>%{hovertext}</b><br><br>target_industry=Banking<br>financial_loss_(in_million_$)=%{marker.size}<br>number_of_affected_users=%{y}<extra></extra>",
         "hovertext": [
          "Banking"
         ],
         "legendgroup": "Banking",
         "marker": {
          "color": "#636efa",
          "size": {
           "bdata": "XI/C9Rg91kA=",
           "dtype": "f8"
          },
          "sizemode": "area",
          "sizeref": 62.024575000000006,
          "symbol": "circle"
         },
         "mode": "markers",
         "name": "Banking",
         "orientation": "v",
         "showlegend": true,
         "type": "scatter",
         "x": {
          "bdata": "XI/C9Rg91kA=",
          "dtype": "f8"
         },
         "xaxis": "x",
         "y": {
          "bdata": "prpqDQ==",
          "dtype": "i4"
         },
         "yaxis": "y"
        },
        {
         "hovertemplate": "<b>%{hovertext}</b><br><br>target_industry=Education<br>financial_loss_(in_million_$)=%{marker.size}<br>number_of_affected_users=%{y}<extra></extra>",
         "hovertext": [
          "Education"
         ],
         "legendgroup": "Education",
         "marker": {
          "color": "#EF553B",
          "size": {
           "bdata": "UrgehduZ00A=",
           "dtype": "f8"
          },
          "sizemode": "area",
          "sizeref": 62.024575000000006,
          "symbol": "circle"
         },
         "mode": "markers",
         "name": "Education",
         "orientation": "v",
         "showlegend": true,
         "type": "scatter",
         "x": {
          "bdata": "UrgehduZ00A=",
          "dtype": "f8"
         },
         "xaxis": "x",
         "y": {
          "bdata": "PLbQDA==",
          "dtype": "i4"
         },
         "yaxis": "y"
        },
        {
         "hovertemplate": "<b>%{hovertext}</b><br><br>target_industry=Government<br>financial_loss_(in_million_$)=%{marker.size}<br>number_of_affected_users=%{y}<extra></extra>",
         "hovertext": [
          "Government"
         ],
         "legendgroup": "Government",
         "marker": {
          "color": "#00cc96",
          "size": {
           "bdata": "61G4HlW11EA=",
           "dtype": "f8"
          },
          "sizemode": "area",
          "sizeref": 62.024575000000006,
          "symbol": "circle"
         },
         "mode": "markers",
         "name": "Government",
         "orientation": "v",
         "showlegend": true,
         "type": "scatter",
         "x": {
          "bdata": "61G4HlW11EA=",
          "dtype": "f8"
         },
         "xaxis": "x",
         "y": {
          "bdata": "9qn+Cw==",
          "dtype": "i4"
         },
         "yaxis": "y"
        },
        {
         "hovertemplate": "<b>%{hovertext}</b><br><br>target_industry=Healthcare<br>financial_loss_(in_million_$)=%{marker.size}<br>number_of_affected_users=%{y}<extra></extra>",
         "hovertext": [
          "Healthcare"
         ],
         "legendgroup": "Healthcare",
         "marker": {
          "color": "#ab63fa",
          "size": {
           "bdata": "9ihcj1KM1EA=",
           "dtype": "f8"
          },
          "sizemode": "area",
          "sizeref": 62.024575000000006,
          "symbol": "circle"
         },
         "mode": "markers",
         "name": "Healthcare",
         "orientation": "v",
         "showlegend": true,
         "type": "scatter",
         "x": {
          "bdata": "9ihcj1KM1EA=",
          "dtype": "f8"
         },
         "xaxis": "x",
         "y": {
          "bdata": "LAzkDA==",
          "dtype": "i4"
         },
         "yaxis": "y"
        },
        {
         "hovertemplate": "<b>%{hovertext}</b><br><br>target_industry=IT<br>financial_loss_(in_million_$)=%{marker.size}<br>number_of_affected_users=%{y}<extra></extra>",
         "hovertext": [
          "IT"
         ],
         "legendgroup": "IT",
         "marker": {
          "color": "#FFA15A",
          "size": {
           "bdata": "7FG4HnU62EA=",
           "dtype": "f8"
          },
          "sizemode": "area",
          "sizeref": 62.024575000000006,
          "symbol": "circle"
         },
         "mode": "markers",
         "name": "IT",
         "orientation": "v",
         "showlegend": true,
         "type": "scatter",
         "x": {
          "bdata": "7FG4HnU62EA=",
          "dtype": "f8"
         },
         "xaxis": "x",
         "y": {
          "bdata": "7SToDg==",
          "dtype": "i4"
         },
         "yaxis": "y"
        },
        {
         "hovertemplate": "<b>%{hovertext}</b><br><br>target_industry=Retail<br>financial_loss_(in_million_$)=%{marker.size}<br>number_of_affected_users=%{y}<extra></extra>",
         "hovertext": [
          "Retail"
         ],
         "legendgroup": "Retail",
         "marker": {
          "color": "#19d3f3",
          "size": {
           "bdata": "MzMzM+Of1EA=",
           "dtype": "f8"
          },
          "sizemode": "area",
          "sizeref": 62.024575000000006,
          "symbol": "circle"
         },
         "mode": "markers",
         "name": "Retail",
         "orientation": "v",
         "showlegend": true,
         "type": "scatter",
         "x": {
          "bdata": "MzMzM+Of1EA=",
          "dtype": "f8"
         },
         "xaxis": "x",
         "y": {
          "bdata": "QihTDA==",
          "dtype": "i4"
         },
         "yaxis": "y"
        },
        {
         "hovertemplate": "<b>%{hovertext}</b><br><br>target_industry=Telecommunications<br>financial_loss_(in_million_$)=%{marker.size}<br>number_of_affected_users=%{y}<extra></extra>",
         "hovertext": [
          "Telecommunications"
         ],
         "legendgroup": "Telecommunications",
         "marker": {
          "color": "#FF6692",
          "size": {
           "bdata": "KVyPwsX600A=",
           "dtype": "f8"
          },
          "sizemode": "area",
          "sizeref": 62.024575000000006,
          "symbol": "circle"
         },
         "mode": "markers",
         "name": "Telecommunications",
         "orientation": "v",
         "showlegend": true,
         "type": "scatter",
         "x": {
          "bdata": "KVyPwsX600A=",
          "dtype": "f8"
         },
         "xaxis": "x",
         "y": {
          "bdata": "BiflCw==",
          "dtype": "i4"
         },
         "yaxis": "y"
        }
       ],
       "layout": {
        "legend": {
         "itemsizing": "constant",
         "title": {
          "text": "target_industry"
         },
         "tracegroupgap": 0
        },
        "template": {
         "data": {
          "bar": [
           {
            "error_x": {
             "color": "#f2f5fa"
            },
            "error_y": {
             "color": "#f2f5fa"
            },
            "marker": {
             "line": {
              "color": "rgb(17,17,17)",
              "width": 0.5
             },
             "pattern": {
              "fillmode": "overlay",
              "size": 10,
              "solidity": 0.2
             }
            },
            "type": "bar"
           }
          ],
          "barpolar": [
           {
            "marker": {
             "line": {
              "color": "rgb(17,17,17)",
              "width": 0.5
             },
             "pattern": {
              "fillmode": "overlay",
              "size": 10,
              "solidity": 0.2
             }
            },
            "type": "barpolar"
           }
          ],
          "carpet": [
           {
            "aaxis": {
             "endlinecolor": "#A2B1C6",
             "gridcolor": "#506784",
             "linecolor": "#506784",
             "minorgridcolor": "#506784",
             "startlinecolor": "#A2B1C6"
            },
            "baxis": {
             "endlinecolor": "#A2B1C6",
             "gridcolor": "#506784",
             "linecolor": "#506784",
             "minorgridcolor": "#506784",
             "startlinecolor": "#A2B1C6"
            },
            "type": "carpet"
           }
          ],
          "choropleth": [
           {
            "colorbar": {
             "outlinewidth": 0,
             "ticks": ""
            },
            "type": "choropleth"
           }
          ],
          "contour": [
           {
            "colorbar": {
             "outlinewidth": 0,
             "ticks": ""
            },
            "colorscale": [
             [
              0,
              "#0d0887"
             ],
             [
              0.1111111111111111,
              "#46039f"
             ],
             [
              0.2222222222222222,
              "#7201a8"
             ],
             [
              0.3333333333333333,
              "#9c179e"
             ],
             [
              0.4444444444444444,
              "#bd3786"
             ],
             [
              0.5555555555555556,
              "#d8576b"
             ],
             [
              0.6666666666666666,
              "#ed7953"
             ],
             [
              0.7777777777777778,
              "#fb9f3a"
             ],
             [
              0.8888888888888888,
              "#fdca26"
             ],
             [
              1,
              "#f0f921"
             ]
            ],
            "type": "contour"
           }
          ],
          "contourcarpet": [
           {
            "colorbar": {
             "outlinewidth": 0,
             "ticks": ""
            },
            "type": "contourcarpet"
           }
          ],
          "heatmap": [
           {
            "colorbar": {
             "outlinewidth": 0,
             "ticks": ""
            },
            "colorscale": [
             [
              0,
              "#0d0887"
             ],
             [
              0.1111111111111111,
              "#46039f"
             ],
             [
              0.2222222222222222,
              "#7201a8"
             ],
             [
              0.3333333333333333,
              "#9c179e"
             ],
             [
              0.4444444444444444,
              "#bd3786"
             ],
             [
              0.5555555555555556,
              "#d8576b"
             ],
             [
              0.6666666666666666,
              "#ed7953"
             ],
             [
              0.7777777777777778,
              "#fb9f3a"
             ],
             [
              0.8888888888888888,
              "#fdca26"
             ],
             [
              1,
              "#f0f921"
             ]
            ],
            "type": "heatmap"
           }
          ],
          "histogram": [
           {
            "marker": {
             "pattern": {
              "fillmode": "overlay",
              "size": 10,
              "solidity": 0.2
             }
            },
            "type": "histogram"
           }
          ],
          "histogram2d": [
           {
            "colorbar": {
             "outlinewidth": 0,
             "ticks": ""
            },
            "colorscale": [
             [
              0,
              "#0d0887"
             ],
             [
              0.1111111111111111,
              "#46039f"
             ],
             [
              0.2222222222222222,
              "#7201a8"
             ],
             [
              0.3333333333333333,
              "#9c179e"
             ],
             [
              0.4444444444444444,
              "#bd3786"
             ],
             [
              0.5555555555555556,
              "#d8576b"
             ],
             [
              0.6666666666666666,
              "#ed7953"
             ],
             [
              0.7777777777777778,
              "#fb9f3a"
             ],
             [
              0.8888888888888888,
              "#fdca26"
             ],
             [
              1,
              "#f0f921"
             ]
            ],
            "type": "histogram2d"
           }
          ],
          "histogram2dcontour": [
           {
            "colorbar": {
             "outlinewidth": 0,
             "ticks": ""
            },
            "colorscale": [
             [
              0,
              "#0d0887"
             ],
             [
              0.1111111111111111,
              "#46039f"
             ],
             [
              0.2222222222222222,
              "#7201a8"
             ],
             [
              0.3333333333333333,
              "#9c179e"
             ],
             [
              0.4444444444444444,
              "#bd3786"
             ],
             [
              0.5555555555555556,
              "#d8576b"
             ],
             [
              0.6666666666666666,
              "#ed7953"
             ],
             [
              0.7777777777777778,
              "#fb9f3a"
             ],
             [
              0.8888888888888888,
              "#fdca26"
             ],
             [
              1,
              "#f0f921"
             ]
            ],
            "type": "histogram2dcontour"
           }
          ],
          "mesh3d": [
           {
            "colorbar": {
             "outlinewidth": 0,
             "ticks": ""
            },
            "type": "mesh3d"
           }
          ],
          "parcoords": [
           {
            "line": {
             "colorbar": {
              "outlinewidth": 0,
              "ticks": ""
             }
            },
            "type": "parcoords"
           }
          ],
          "pie": [
           {
            "automargin": true,
            "type": "pie"
           }
          ],
          "scatter": [
           {
            "marker": {
             "line": {
              "color": "#283442"
             }
            },
            "type": "scatter"
           }
          ],
          "scatter3d": [
           {
            "line": {
             "colorbar": {
              "outlinewidth": 0,
              "ticks": ""
             }
            },
            "marker": {
             "colorbar": {
              "outlinewidth": 0,
              "ticks": ""
             }
            },
            "type": "scatter3d"
           }
          ],
          "scattercarpet": [
           {
            "marker": {
             "colorbar": {
              "outlinewidth": 0,
              "ticks": ""
             }
            },
            "type": "scattercarpet"
           }
          ],
          "scattergeo": [
           {
            "marker": {
             "colorbar": {
              "outlinewidth": 0,
              "ticks": ""
             }
            },
            "type": "scattergeo"
           }
          ],
          "scattergl": [
           {
            "marker": {
             "line": {
              "color": "#283442"
             }
            },
            "type": "scattergl"
           }
          ],
          "scattermap": [
           {
            "marker": {
             "colorbar": {
              "outlinewidth": 0,
              "ticks": ""
             }
            },
            "type": "scattermap"
           }
          ],
          "scattermapbox": [
           {
            "marker": {
             "colorbar": {
              "outlinewidth": 0,
              "ticks": ""
             }
            },
            "type": "scattermapbox"
           }
          ],
          "scatterpolar": [
           {
            "marker": {
             "colorbar": {
              "outlinewidth": 0,
              "ticks": ""
             }
            },
            "type": "scatterpolar"
           }
          ],
          "scatterpolargl": [
           {
            "marker": {
             "colorbar": {
              "outlinewidth": 0,
              "ticks": ""
             }
            },
            "type": "scatterpolargl"
           }
          ],
          "scatterternary": [
           {
            "marker": {
             "colorbar": {
              "outlinewidth": 0,
              "ticks": ""
             }
            },
            "type": "scatterternary"
           }
          ],
          "surface": [
           {
            "colorbar": {
             "outlinewidth": 0,
             "ticks": ""
            },
            "colorscale": [
             [
              0,
              "#0d0887"
             ],
             [
              0.1111111111111111,
              "#46039f"
             ],
             [
              0.2222222222222222,
              "#7201a8"
             ],
             [
              0.3333333333333333,
              "#9c179e"
             ],
             [
              0.4444444444444444,
              "#bd3786"
             ],
             [
              0.5555555555555556,
              "#d8576b"
             ],
             [
              0.6666666666666666,
              "#ed7953"
             ],
             [
              0.7777777777777778,
              "#fb9f3a"
             ],
             [
              0.8888888888888888,
              "#fdca26"
             ],
             [
              1,
              "#f0f921"
             ]
            ],
            "type": "surface"
           }
          ],
          "table": [
           {
            "cells": {
             "fill": {
              "color": "#506784"
             },
             "line": {
              "color": "rgb(17,17,17)"
             }
            },
            "header": {
             "fill": {
              "color": "#2a3f5f"
             },
             "line": {
              "color": "rgb(17,17,17)"
             }
            },
            "type": "table"
           }
          ]
         },
         "layout": {
          "annotationdefaults": {
           "arrowcolor": "#f2f5fa",
           "arrowhead": 0,
           "arrowwidth": 1
          },
          "autotypenumbers": "strict",
          "coloraxis": {
           "colorbar": {
            "outlinewidth": 0,
            "ticks": ""
           }
          },
          "colorscale": {
           "diverging": [
            [
             0,
             "#8e0152"
            ],
            [
             0.1,
             "#c51b7d"
            ],
            [
             0.2,
             "#de77ae"
            ],
            [
             0.3,
             "#f1b6da"
            ],
            [
             0.4,
             "#fde0ef"
            ],
            [
             0.5,
             "#f7f7f7"
            ],
            [
             0.6,
             "#e6f5d0"
            ],
            [
             0.7,
             "#b8e186"
            ],
            [
             0.8,
             "#7fbc41"
            ],
            [
             0.9,
             "#4d9221"
            ],
            [
             1,
             "#276419"
            ]
           ],
           "sequential": [
            [
             0,
             "#0d0887"
            ],
            [
             0.1111111111111111,
             "#46039f"
            ],
            [
             0.2222222222222222,
             "#7201a8"
            ],
            [
             0.3333333333333333,
             "#9c179e"
            ],
            [
             0.4444444444444444,
             "#bd3786"
            ],
            [
             0.5555555555555556,
             "#d8576b"
            ],
            [
             0.6666666666666666,
             "#ed7953"
            ],
            [
             0.7777777777777778,
             "#fb9f3a"
            ],
            [
             0.8888888888888888,
             "#fdca26"
            ],
            [
             1,
             "#f0f921"
            ]
           ],
           "sequentialminus": [
            [
             0,
             "#0d0887"
            ],
            [
             0.1111111111111111,
             "#46039f"
            ],
            [
             0.2222222222222222,
             "#7201a8"
            ],
            [
             0.3333333333333333,
             "#9c179e"
            ],
            [
             0.4444444444444444,
             "#bd3786"
            ],
            [
             0.5555555555555556,
             "#d8576b"
            ],
            [
             0.6666666666666666,
             "#ed7953"
            ],
            [
             0.7777777777777778,
             "#fb9f3a"
            ],
            [
             0.8888888888888888,
             "#fdca26"
            ],
            [
             1,
             "#f0f921"
            ]
           ]
          },
          "colorway": [
           "#636efa",
           "#EF553B",
           "#00cc96",
           "#ab63fa",
           "#FFA15A",
           "#19d3f3",
           "#FF6692",
           "#B6E880",
           "#FF97FF",
           "#FECB52"
          ],
          "font": {
           "color": "#f2f5fa"
          },
          "geo": {
           "bgcolor": "rgb(17,17,17)",
           "lakecolor": "rgb(17,17,17)",
           "landcolor": "rgb(17,17,17)",
           "showlakes": true,
           "showland": true,
           "subunitcolor": "#506784"
          },
          "hoverlabel": {
           "align": "left"
          },
          "hovermode": "closest",
          "mapbox": {
           "style": "dark"
          },
          "paper_bgcolor": "rgb(17,17,17)",
          "plot_bgcolor": "rgb(17,17,17)",
          "polar": {
           "angularaxis": {
            "gridcolor": "#506784",
            "linecolor": "#506784",
            "ticks": ""
           },
           "bgcolor": "rgb(17,17,17)",
           "radialaxis": {
            "gridcolor": "#506784",
            "linecolor": "#506784",
            "ticks": ""
           }
          },
          "scene": {
           "xaxis": {
            "backgroundcolor": "rgb(17,17,17)",
            "gridcolor": "#506784",
            "gridwidth": 2,
            "linecolor": "#506784",
            "showbackground": true,
            "ticks": "",
            "zerolinecolor": "#C8D4E3"
           },
           "yaxis": {
            "backgroundcolor": "rgb(17,17,17)",
            "gridcolor": "#506784",
            "gridwidth": 2,
            "linecolor": "#506784",
            "showbackground": true,
            "ticks": "",
            "zerolinecolor": "#C8D4E3"
           },
           "zaxis": {
            "backgroundcolor": "rgb(17,17,17)",
            "gridcolor": "#506784",
            "gridwidth": 2,
            "linecolor": "#506784",
            "showbackground": true,
            "ticks": "",
            "zerolinecolor": "#C8D4E3"
           }
          },
          "shapedefaults": {
           "line": {
            "color": "#f2f5fa"
           }
          },
          "sliderdefaults": {
           "bgcolor": "#C8D4E3",
           "bordercolor": "rgb(17,17,17)",
           "borderwidth": 1,
           "tickwidth": 0
          },
          "ternary": {
           "aaxis": {
            "gridcolor": "#506784",
            "linecolor": "#506784",
            "ticks": ""
           },
           "baxis": {
            "gridcolor": "#506784",
            "linecolor": "#506784",
            "ticks": ""
           },
           "bgcolor": "rgb(17,17,17)",
           "caxis": {
            "gridcolor": "#506784",
            "linecolor": "#506784",
            "ticks": ""
           }
          },
          "title": {
           "x": 0.05
          },
          "updatemenudefaults": {
           "bgcolor": "#506784",
           "borderwidth": 0
          },
          "xaxis": {
           "automargin": true,
           "gridcolor": "#283442",
           "linecolor": "#506784",
           "ticks": "",
           "title": {
            "standoff": 15
           },
           "zerolinecolor": "#283442",
           "zerolinewidth": 2
          },
          "yaxis": {
           "automargin": true,
           "gridcolor": "#283442",
           "linecolor": "#506784",
           "ticks": "",
           "title": {
            "standoff": 15
           },
           "zerolinecolor": "#283442",
           "zerolinewidth": 2
          }
         }
        },
        "title": {
         "text": "Settori colpiti: Utenti vs Perdite"
        },
        "xaxis": {
         "anchor": "y",
         "domain": [
          0,
          1
         ],
         "title": {
          "text": "financial_loss_(in_million_$)"
         }
        },
        "yaxis": {
         "anchor": "x",
         "domain": [
          0,
          1
         ],
         "title": {
          "text": "number_of_affected_users"
         }
        }
       }
      }
     },
     "metadata": {},
     "output_type": "display_data"
    },
    {
     "name": "stderr",
     "output_type": "stream",
     "text": [
      "C:\\Users\\ab161\\AppData\\Local\\Temp\\ipykernel_1700\\103580417.py:58: FutureWarning:\n",
      "\n",
      "The default value of observed=False is deprecated and will change to observed=True in a future version of pandas. Specify observed=False to silence this warning and retain the current behavior\n",
      "\n"
     ]
    },
    {
     "data": {
      "image/png": "[encoded data removed]",
      "text/plain": [
       "<Figure size 1400x800 with 2 Axes>"
      ]
     },
     "metadata": {},
     "output_type": "display_data"
    },
    {
     "data": {
      "image/png": "[encoded data removed]",
      "text/plain": [
       "<Figure size 1200x800 with 1 Axes>"
      ]
     },
     "metadata": {},
     "output_type": "display_data"
    },
    {
     "data": {
      "application/vnd.plotly.v1+json": {
       "config": {
        "plotlyServerURL": "https://plot.ly"
       },
       "data": [
        {
         "customdata": [
          [
           "Hacker Group",
           672966
          ]
         ],
         "hovertemplate": "attack_type=SQL Injection<br>financial_loss_(in_million_$)=%{x}<br>target_industry=%{y}<br>attack_source=%{customdata[0]}<br>number_of_affected_users=%{customdata[1]}<extra></extra>",
         "legendgroup": "SQL Injection",
         "marker": {
          "color": "#636efa",
          "pattern": {
           "shape": ""
          }
         },
         "name": "SQL Injection",
         "orientation": "h",
         "showlegend": true,
         "textposition": "auto",
         "type": "bar",
         "x": {
          "bdata": "j8L1KFz/WEA=",
          "dtype": "f8"
         },
         "xaxis": "x",
         "y": [
          "IT"
         ],
         "yaxis": "y"
        },
        {
         "customdata": [
          [
           "Unknown",
           755185
          ],
          [
           "Nation-state",
           10859
          ],
          [
           "Unknown",
           948174
          ],
          [
           "Unknown",
           460842
          ]
         ],
         "hovertemplate": "attack_type=DDoS<br>financial_loss_(in_million_$)=%{x}<br>target_industry=%{y}<br>attack_source=%{customdata[0]}<br>number_of_affected_users=%{customdata[1]}<extra></extra>",
         "legendgroup": "DDoS",
         "marker": {
          "color": "#EF553B",
          "pattern": {
           "shape": ""
          }
         },
         "name": "DDoS",
         "orientation": "h",
         "showlegend": true,
         "textposition": "auto",
         "type": "bar",
         "x": {
          "bdata": "j8L1KFz/WECF61G4HvVYQKRwPQrX81hApHA9CtfzWEA=",
          "dtype": "f8"
         },
         "xaxis": "x",
         "y": [
          "Banking",
          "Education",
          "Banking",
          "Telecommunications"
         ],
         "yaxis": "y"
        },
        {
         "customdata": [
          [
           "Insider",
           761576
          ],
          [
           "Hacker Group",
           950451
          ]
         ],
         "hovertemplate": "attack_type=Phishing<br>financial_loss_(in_million_$)=%{x}<br>target_industry=%{y}<br>attack_source=%{customdata[0]}<br>number_of_affected_users=%{customdata[1]}<extra></extra>",
         "legendgroup": "Phishing",
         "marker": {
          "color": "#00cc96",
          "pattern": {
           "shape": ""
          }
         },
         "name": "Phishing",
         "orientation": "h",
         "showlegend": true,
         "textposition": "auto",
         "type": "bar",
         "x": {
          "bdata": "H4XrUbj+WECuR+F6FP5YQA==",
          "dtype": "f8"
         },
         "xaxis": "x",
         "y": [
          "Telecommunications",
          "Healthcare"
         ],
         "yaxis": "y"
        },
        {
         "customdata": [
          [
           "Nation-state",
           429566
          ],
          [
           "Unknown",
           999508
          ],
          [
           "Hacker Group",
           419344
          ]
         ],
         "hovertemplate": "attack_type=Ransomware<br>financial_loss_(in_million_$)=%{x}<br>target_industry=%{y}<br>attack_source=%{customdata[0]}<br>number_of_affected_users=%{customdata[1]}<extra></extra>",
         "legendgroup": "Ransomware",
         "marker": {
          "color": "#ab63fa",
          "pattern": {
           "shape": ""
          }
         },
         "name": "Ransomware",
         "orientation": "h",
         "showlegend": true,
         "textposition": "auto",
         "type": "bar",
         "x": {
          "bdata": "mpmZmZn5WEC4HoXrUfhYQIXrUbge9VhA",
          "dtype": "f8"
         },
         "xaxis": "x",
         "y": [
          "Banking",
          "Telecommunications",
          "Telecommunications"
         ],
         "yaxis": "y"
        }
       ],
       "layout": {
        "barmode": "relative",
        "legend": {
         "title": {
          "text": "attack_type"
         },
         "tracegroupgap": 0
        },
        "template": {
         "data": {
          "bar": [
           {
            "error_x": {
             "color": "#f2f5fa"
            },
            "error_y": {
             "color": "#f2f5fa"
            },
            "marker": {
             "line": {
              "color": "rgb(17,17,17)",
              "width": 0.5
             },
             "pattern": {
              "fillmode": "overlay",
              "size": 10,
              "solidity": 0.2
             }
            },
            "type": "bar"
           }
          ],
          "barpolar": [
           {
            "marker": {
             "line": {
              "color": "rgb(17,17,17)",
              "width": 0.5
             },
             "pattern": {
              "fillmode": "overlay",
              "size": 10,
              "solidity": 0.2
             }
            },
            "type": "barpolar"
           }
          ],
          "carpet": [
           {
            "aaxis": {
             "endlinecolor": "#A2B1C6",
             "gridcolor": "#506784",
             "linecolor": "#506784",
             "minorgridcolor": "#506784",
             "startlinecolor": "#A2B1C6"
            },
            "baxis": {
             "endlinecolor": "#A2B1C6",
             "gridcolor": "#506784",
             "linecolor": "#506784",
             "minorgridcolor": "#506784",
             "startlinecolor": "#A2B1C6"
            },
            "type": "carpet"
           }
          ],
          "choropleth": [
           {
            "colorbar": {
             "outlinewidth": 0,
             "ticks": ""
            },
            "type": "choropleth"
           }
          ],
          "contour": [
           {
            "colorbar": {
             "outlinewidth": 0,
             "ticks": ""
            },
            "colorscale": [
             [
              0,
              "#0d0887"
             ],
             [
              0.1111111111111111,
              "#46039f"
             ],
             [
              0.2222222222222222,
              "#7201a8"
             ],
             [
              0.3333333333333333,
              "#9c179e"
             ],
             [
              0.4444444444444444,
              "#bd3786"
             ],
             [
              0.5555555555555556,
              "#d8576b"
             ],
             [
              0.6666666666666666,
              "#ed7953"
             ],
             [
              0.7777777777777778,
              "#fb9f3a"
             ],
             [
              0.8888888888888888,
              "#fdca26"
             ],
             [
              1,
              "#f0f921"
             ]
            ],
            "type": "contour"
           }
          ],
          "contourcarpet": [
           {
            "colorbar": {
             "outlinewidth": 0,
             "ticks": ""
            },
            "type": "contourcarpet"
           }
          ],
          "heatmap": [
           {
            "colorbar": {
             "outlinewidth": 0,
             "ticks": ""
            },
            "colorscale": [
             [
              0,
              "#0d0887"
             ],
             [
              0.1111111111111111,
              "#46039f"
             ],
             [
              0.2222222222222222,
              "#7201a8"
             ],
             [
              0.3333333333333333,
              "#9c179e"
             ],
             [
              0.4444444444444444,
              "#bd3786"
             ],
             [
              0.5555555555555556,
              "#d8576b"
             ],
             [
              0.6666666666666666,
              "#ed7953"
             ],
             [
              0.7777777777777778,
              "#fb9f3a"
             ],
             [
              0.8888888888888888,
              "#fdca26"
             ],
             [
              1,
              "#f0f921"
             ]
            ],
            "type": "heatmap"
           }
          ],
          "histogram": [
           {
            "marker": {
             "pattern": {
              "fillmode": "overlay",
              "size": 10,
              "solidity": 0.2
             }
            },
            "type": "histogram"
           }
          ],
          "histogram2d": [
           {
            "colorbar": {
             "outlinewidth": 0,
             "ticks": ""
            },
            "colorscale": [
             [
              0,
              "#0d0887"
             ],
             [
              0.1111111111111111,
              "#46039f"
             ],
             [
              0.2222222222222222,
              "#7201a8"
             ],
             [
              0.3333333333333333,
              "#9c179e"
             ],
             [
              0.4444444444444444,
              "#bd3786"
             ],
             [
              0.5555555555555556,
              "#d8576b"
             ],
             [
              0.6666666666666666,
              "#ed7953"
             ],
             [
              0.7777777777777778,
              "#fb9f3a"
             ],
             [
              0.8888888888888888,
              "#fdca26"
             ],
             [
              1,
              "#f0f921"
             ]
            ],
            "type": "histogram2d"
           }
          ],
          "histogram2dcontour": [
           {
            "colorbar": {
             "outlinewidth": 0,
             "ticks": ""
            },
            "colorscale": [
             [
              0,
              "#0d0887"
             ],
             [
              0.1111111111111111,
              "#46039f"
             ],
             [
              0.2222222222222222,
              "#7201a8"
             ],
             [
              0.3333333333333333,
              "#9c179e"
             ],
             [
              0.4444444444444444,
              "#bd3786"
             ],
             [
              0.5555555555555556,
              "#d8576b"
             ],
             [
              0.6666666666666666,
              "#ed7953"
             ],
             [
              0.7777777777777778,
              "#fb9f3a"
             ],
             [
              0.8888888888888888,
              "#fdca26"
             ],
             [
              1,
              "#f0f921"
             ]
            ],
            "type": "histogram2dcontour"
           }
          ],
          "mesh3d": [
           {
            "colorbar": {
             "outlinewidth": 0,
             "ticks": ""
            },
            "type": "mesh3d"
           }
          ],
          "parcoords": [
           {
            "line": {
             "colorbar": {
              "outlinewidth": 0,
              "ticks": ""
             }
            },
            "type": "parcoords"
           }
          ],
          "pie": [
           {
            "automargin": true,
            "type": "pie"
           }
          ],
          "scatter": [
           {
            "marker": {
             "line": {
              "color": "#283442"
             }
            },
            "type": "scatter"
           }
          ],
          "scatter3d": [
           {
            "line": {
             "colorbar": {
              "outlinewidth": 0,
              "ticks": ""
             }
            },
            "marker": {
             "colorbar": {
              "outlinewidth": 0,
              "ticks": ""
             }
            },
            "type": "scatter3d"
           }
          ],
          "scattercarpet": [
           {
            "marker": {
             "colorbar": {
              "outlinewidth": 0,
              "ticks": ""
             }
            },
            "type": "scattercarpet"
           }
          ],
          "scattergeo": [
           {
            "marker": {
             "colorbar": {
              "outlinewidth": 0,
              "ticks": ""
             }
            },
            "type": "scattergeo"
           }
          ],
          "scattergl": [
           {
            "marker": {
             "line": {
              "color": "#283442"
             }
            },
            "type": "scattergl"
           }
          ],
          "scattermap": [
           {
            "marker": {
             "colorbar": {
              "outlinewidth": 0,
              "ticks": ""
             }
            },
            "type": "scattermap"
           }
          ],
          "scattermapbox": [
           {
            "marker": {
             "colorbar": {
              "outlinewidth": 0,
              "ticks": ""
             }
            },
            "type": "scattermapbox"
           }
          ],
          "scatterpolar": [
           {
            "marker": {
             "colorbar": {
              "outlinewidth": 0,
              "ticks": ""
             }
            },
            "type": "scatterpolar"
           }
          ],
          "scatterpolargl": [
           {
            "marker": {
             "colorbar": {
              "outlinewidth": 0,
              "ticks": ""
             }
            },
            "type": "scatterpolargl"
           }
          ],
          "scatterternary": [
           {
            "marker": {
             "colorbar": {
              "outlinewidth": 0,
              "ticks": ""
             }
            },
            "type": "scatterternary"
           }
          ],
          "surface": [
           {
            "colorbar": {
             "outlinewidth": 0,
             "ticks": ""
            },
            "colorscale": [
             [
              0,
              "#0d0887"
             ],
             [
              0.1111111111111111,
              "#46039f"
             ],
             [
              0.2222222222222222,
              "#7201a8"
             ],
             [
              0.3333333333333333,
              "#9c179e"
             ],
             [
              0.4444444444444444,
              "#bd3786"
             ],
             [
              0.5555555555555556,
              "#d8576b"
             ],
             [
              0.6666666666666666,
              "#ed7953"
             ],
             [
              0.7777777777777778,
              "#fb9f3a"
             ],
             [
              0.8888888888888888,
              "#fdca26"
             ],
             [
              1,
              "#f0f921"
             ]
            ],
            "type": "surface"
           }
          ],
          "table": [
           {
            "cells": {
             "fill": {
              "color": "#506784"
             },
             "line": {
              "color": "rgb(17,17,17)"
             }
            },
            "header": {
             "fill": {
              "color": "#2a3f5f"
             },
             "line": {
              "color": "rgb(17,17,17)"
             }
            },
            "type": "table"
           }
          ]
         },
         "layout": {
          "annotationdefaults": {
           "arrowcolor": "#f2f5fa",
           "arrowhead": 0,
           "arrowwidth": 1
          },
          "autotypenumbers": "strict",
          "coloraxis": {
           "colorbar": {
            "outlinewidth": 0,
            "ticks": ""
           }
          },
          "colorscale": {
           "diverging": [
            [
             0,
             "#8e0152"
            ],
            [
             0.1,
             "#c51b7d"
            ],
            [
             0.2,
             "#de77ae"
            ],
            [
             0.3,
             "#f1b6da"
            ],
            [
             0.4,
             "#fde0ef"
            ],
            [
             0.5,
             "#f7f7f7"
            ],
            [
             0.6,
             "#e6f5d0"
            ],
            [
             0.7,
             "#b8e186"
            ],
            [
             0.8,
             "#7fbc41"
            ],
            [
             0.9,
             "#4d9221"
            ],
            [
             1,
             "#276419"
            ]
           ],
           "sequential": [
            [
             0,
             "#0d0887"
            ],
            [
             0.1111111111111111,
             "#46039f"
            ],
            [
             0.2222222222222222,
             "#7201a8"
            ],
            [
             0.3333333333333333,
             "#9c179e"
            ],
            [
             0.4444444444444444,
             "#bd3786"
            ],
            [
             0.5555555555555556,
             "#d8576b"
            ],
            [
             0.6666666666666666,
             "#ed7953"
            ],
            [
             0.7777777777777778,
             "#fb9f3a"
            ],
            [
             0.8888888888888888,
             "#fdca26"
            ],
            [
             1,
             "#f0f921"
            ]
           ],
           "sequentialminus": [
            [
             0,
             "#0d0887"
            ],
            [
             0.1111111111111111,
             "#46039f"
            ],
            [
             0.2222222222222222,
             "#7201a8"
            ],
            [
             0.3333333333333333,
             "#9c179e"
            ],
            [
             0.4444444444444444,
             "#bd3786"
            ],
            [
             0.5555555555555556,
             "#d8576b"
            ],
            [
             0.6666666666666666,
             "#ed7953"
            ],
            [
             0.7777777777777778,
             "#fb9f3a"
            ],
            [
             0.8888888888888888,
             "#fdca26"
            ],
            [
             1,
             "#f0f921"
            ]
           ]
          },
          "colorway": [
           "#636efa",
           "#EF553B",
           "#00cc96",
           "#ab63fa",
           "#FFA15A",
           "#19d3f3",
           "#FF6692",
           "#B6E880",
           "#FF97FF",
           "#FECB52"
          ],
          "font": {
           "color": "#f2f5fa"
          },
          "geo": {
           "bgcolor": "rgb(17,17,17)",
           "lakecolor": "rgb(17,17,17)",
           "landcolor": "rgb(17,17,17)",
           "showlakes": true,
           "showland": true,
           "subunitcolor": "#506784"
          },
          "hoverlabel": {
           "align": "left"
          },
          "hovermode": "closest",
          "mapbox": {
           "style": "dark"
          },
          "paper_bgcolor": "rgb(17,17,17)",
          "plot_bgcolor": "rgb(17,17,17)",
          "polar": {
           "angularaxis": {
            "gridcolor": "#506784",
            "linecolor": "#506784",
            "ticks": ""
           },
           "bgcolor": "rgb(17,17,17)",
           "radialaxis": {
            "gridcolor": "#506784",
            "linecolor": "#506784",
            "ticks": ""
           }
          },
          "scene": {
           "xaxis": {
            "backgroundcolor": "rgb(17,17,17)",
            "gridcolor": "#506784",
            "gridwidth": 2,
            "linecolor": "#506784",
            "showbackground": true,
            "ticks": "",
            "zerolinecolor": "#C8D4E3"
           },
           "yaxis": {
            "backgroundcolor": "rgb(17,17,17)",
            "gridcolor": "#506784",
            "gridwidth": 2,
            "linecolor": "#506784",
            "showbackground": true,
            "ticks": "",
            "zerolinecolor": "#C8D4E3"
           },
           "zaxis": {
            "backgroundcolor": "rgb(17,17,17)",
            "gridcolor": "#506784",
            "gridwidth": 2,
            "linecolor": "#506784",
            "showbackground": true,
            "ticks": "",
            "zerolinecolor": "#C8D4E3"
           }
          },
          "shapedefaults": {
           "line": {
            "color": "#f2f5fa"
           }
          },
          "sliderdefaults": {
           "bgcolor": "#C8D4E3",
           "bordercolor": "rgb(17,17,17)",
           "borderwidth": 1,
           "tickwidth": 0
          },
          "ternary": {
           "aaxis": {
            "gridcolor": "#506784",
            "linecolor": "#506784",
            "ticks": ""
           },
           "baxis": {
            "gridcolor": "#506784",
            "linecolor": "#506784",
            "ticks": ""
           },
           "bgcolor": "rgb(17,17,17)",
           "caxis": {
            "gridcolor": "#506784",
            "linecolor": "#506784",
            "ticks": ""
           }
          },
          "title": {
           "x": 0.05
          },
          "updatemenudefaults": {
           "bgcolor": "#506784",
           "borderwidth": 0
          },
          "xaxis": {
           "automargin": true,
           "gridcolor": "#283442",
           "linecolor": "#506784",
           "ticks": "",
           "title": {
            "standoff": 15
           },
           "zerolinecolor": "#283442",
           "zerolinewidth": 2
          },
          "yaxis": {
           "automargin": true,
           "gridcolor": "#283442",
           "linecolor": "#506784",
           "ticks": "",
           "title": {
            "standoff": 15
           },
           "zerolinecolor": "#283442",
           "zerolinewidth": 2
          }
         }
        },
        "title": {
         "text": "Top 10 Attacchi per Perdite Economiche"
        },
        "xaxis": {
         "anchor": "y",
         "domain": [
          0,
          1
         ],
         "title": {
          "text": "financial_loss_(in_million_$)"
         }
        },
        "yaxis": {
         "anchor": "x",
         "categoryorder": "total ascending",
         "domain": [
          0,
          1
         ],
         "title": {
          "text": "target_industry"
         }
        }
       }
      }
     },
     "metadata": {},
     "output_type": "display_data"
    },
    {
     "data": {
      "application/vnd.plotly.v1+json": {
       "config": {
        "plotlyServerURL": "https://plot.ly"
       },
       "data": [
        {
         "mode": "lines+markers",
         "name": "Attacchi",
         "type": "scatter",
         "x": {
          "bdata": "3wfgB+EH4gfjB+QH5QfmB+cH6Ac=",
          "dtype": "i2"
         },
         "y": {
          "bdata": "FQEdAT8BNgEHATsBKwE+ATsBKwE=",
          "dtype": "i2"
         }
        },
        {
         "name": "Difese diverse",
         "type": "bar",
         "x": {
          "bdata": "3wfgB+EH4gfjB+QH5QfmB+cH6Ac=",
          "dtype": "i2"
         },
         "y": {
          "bdata": "BQUFBQUFBQUFBQ==",
          "dtype": "i1"
         }
        }
       ],
       "layout": {
        "barmode": "overlay",
        "template": {
         "data": {
          "bar": [
           {
            "error_x": {
             "color": "#f2f5fa"
            },
            "error_y": {
             "color": "#f2f5fa"
            },
            "marker": {
             "line": {
              "color": "rgb(17,17,17)",
              "width": 0.5
             },
             "pattern": {
              "fillmode": "overlay",
              "size": 10,
              "solidity": 0.2
             }
            },
            "type": "bar"
           }
          ],
          "barpolar": [
           {
            "marker": {
             "line": {
              "color": "rgb(17,17,17)",
              "width": 0.5
             },
             "pattern": {
              "fillmode": "overlay",
              "size": 10,
              "solidity": 0.2
             }
            },
            "type": "barpolar"
           }
          ],
          "carpet": [
           {
            "aaxis": {
             "endlinecolor": "#A2B1C6",
             "gridcolor": "#506784",
             "linecolor": "#506784",
             "minorgridcolor": "#506784",
             "startlinecolor": "#A2B1C6"
            },
            "baxis": {
             "endlinecolor": "#A2B1C6",
             "gridcolor": "#506784",
             "linecolor": "#506784",
             "minorgridcolor": "#506784",
             "startlinecolor": "#A2B1C6"
            },
            "type": "carpet"
           }
          ],
          "choropleth": [
           {
            "colorbar": {
             "outlinewidth": 0,
             "ticks": ""
            },
            "type": "choropleth"
           }
          ],
          "contour": [
           {
            "colorbar": {
             "outlinewidth": 0,
             "ticks": ""
            },
            "colorscale": [
             [
              0,
              "#0d0887"
             ],
             [
              0.1111111111111111,
              "#46039f"
             ],
             [
              0.2222222222222222,
              "#7201a8"
             ],
             [
              0.3333333333333333,
              "#9c179e"
             ],
             [
              0.4444444444444444,
              "#bd3786"
             ],
             [
              0.5555555555555556,
              "#d8576b"
             ],
             [
              0.6666666666666666,
              "#ed7953"
             ],
             [
              0.7777777777777778,
              "#fb9f3a"
             ],
             [
              0.8888888888888888,
              "#fdca26"
             ],
             [
              1,
              "#f0f921"
             ]
            ],
            "type": "contour"
           }
          ],
          "contourcarpet": [
           {
            "colorbar": {
             "outlinewidth": 0,
             "ticks": ""
            },
            "type": "contourcarpet"
           }
          ],
          "heatmap": [
           {
            "colorbar": {
             "outlinewidth": 0,
             "ticks": ""
            },
            "colorscale": [
             [
              0,
              "#0d0887"
             ],
             [
              0.1111111111111111,
              "#46039f"
             ],
             [
              0.2222222222222222,
              "#7201a8"
             ],
             [
              0.3333333333333333,
              "#9c179e"
             ],
             [
              0.4444444444444444,
              "#bd3786"
             ],
             [
              0.5555555555555556,
              "#d8576b"
             ],
             [
              0.6666666666666666,
              "#ed7953"
             ],
             [
              0.7777777777777778,
              "#fb9f3a"
             ],
             [
              0.8888888888888888,
              "#fdca26"
             ],
             [
              1,
              "#f0f921"
             ]
            ],
            "type": "heatmap"
           }
          ],
          "histogram": [
           {
            "marker": {
             "pattern": {
              "fillmode": "overlay",
              "size": 10,
              "solidity": 0.2
             }
            },
            "type": "histogram"
           }
          ],
          "histogram2d": [
           {
            "colorbar": {
             "outlinewidth": 0,
             "ticks": ""
            },
            "colorscale": [
             [
              0,
              "#0d0887"
             ],
             [
              0.1111111111111111,
              "#46039f"
             ],
             [
              0.2222222222222222,
              "#7201a8"
             ],
             [
              0.3333333333333333,
              "#9c179e"
             ],
             [
              0.4444444444444444,
              "#bd3786"
             ],
             [
              0.5555555555555556,
              "#d8576b"
             ],
             [
              0.6666666666666666,
              "#ed7953"
             ],
             [
              0.7777777777777778,
              "#fb9f3a"
             ],
             [
              0.8888888888888888,
              "#fdca26"
             ],
             [
              1,
              "#f0f921"
             ]
            ],
            "type": "histogram2d"
           }
          ],
          "histogram2dcontour": [
           {
            "colorbar": {
             "outlinewidth": 0,
             "ticks": ""
            },
            "colorscale": [
             [
              0,
              "#0d0887"
             ],
             [
              0.1111111111111111,
              "#46039f"
             ],
             [
              0.2222222222222222,
              "#7201a8"
             ],
             [
              0.3333333333333333,
              "#9c179e"
             ],
             [
              0.4444444444444444,
              "#bd3786"
             ],
             [
              0.5555555555555556,
              "#d8576b"
             ],
             [
              0.6666666666666666,
              "#ed7953"
             ],
             [
              0.7777777777777778,
              "#fb9f3a"
             ],
             [
              0.8888888888888888,
              "#fdca26"
             ],
             [
              1,
              "#f0f921"
             ]
            ],
            "type": "histogram2dcontour"
           }
          ],
          "mesh3d": [
           {
            "colorbar": {
             "outlinewidth": 0,
             "ticks": ""
            },
            "type": "mesh3d"
           }
          ],
          "parcoords": [
           {
            "line": {
             "colorbar": {
              "outlinewidth": 0,
              "ticks": ""
             }
            },
            "type": "parcoords"
           }
          ],
          "pie": [
           {
            "automargin": true,
            "type": "pie"
           }
          ],
          "scatter": [
           {
            "marker": {
             "line": {
              "color": "#283442"
             }
            },
            "type": "scatter"
           }
          ],
          "scatter3d": [
           {
            "line": {
             "colorbar": {
              "outlinewidth": 0,
              "ticks": ""
             }
            },
            "marker": {
             "colorbar": {
              "outlinewidth": 0,
              "ticks": ""
             }
            },
            "type": "scatter3d"
           }
          ],
          "scattercarpet": [
           {
            "marker": {
             "colorbar": {
              "outlinewidth": 0,
              "ticks": ""
             }
            },
            "type": "scattercarpet"
           }
          ],
          "scattergeo": [
           {
            "marker": {
             "colorbar": {
              "outlinewidth": 0,
              "ticks": ""
             }
            },
            "type": "scattergeo"
           }
          ],
          "scattergl": [
           {
            "marker": {
             "line": {
              "color": "#283442"
             }
            },
            "type": "scattergl"
           }
          ],
          "scattermap": [
           {
            "marker": {
             "colorbar": {
              "outlinewidth": 0,
              "ticks": ""
             }
            },
            "type": "scattermap"
           }
          ],
          "scattermapbox": [
           {
            "marker": {
             "colorbar": {
              "outlinewidth": 0,
              "ticks": ""
             }
            },
            "type": "scattermapbox"
           }
          ],
          "scatterpolar": [
           {
            "marker": {
             "colorbar": {
              "outlinewidth": 0,
              "ticks": ""
             }
            },
            "type": "scatterpolar"
           }
          ],
          "scatterpolargl": [
           {
            "marker": {
             "colorbar": {
              "outlinewidth": 0,
              "ticks": ""
             }
            },
            "type": "scatterpolargl"
           }
          ],
          "scatterternary": [
           {
            "marker": {
             "colorbar": {
              "outlinewidth": 0,
              "ticks": ""
             }
            },
            "type": "scatterternary"
           }
          ],
          "surface": [
           {
            "colorbar": {
             "outlinewidth": 0,
             "ticks": ""
            },
            "colorscale": [
             [
              0,
              "#0d0887"
             ],
             [
              0.1111111111111111,
              "#46039f"
             ],
             [
              0.2222222222222222,
              "#7201a8"
             ],
             [
              0.3333333333333333,
              "#9c179e"
             ],
             [
              0.4444444444444444,
              "#bd3786"
             ],
             [
              0.5555555555555556,
              "#d8576b"
             ],
             [
              0.6666666666666666,
              "#ed7953"
             ],
             [
              0.7777777777777778,
              "#fb9f3a"
             ],
             [
              0.8888888888888888,
              "#fdca26"
             ],
             [
              1,
              "#f0f921"
             ]
            ],
            "type": "surface"
           }
          ],
          "table": [
           {
            "cells": {
             "fill": {
              "color": "#506784"
             },
             "line": {
              "color": "rgb(17,17,17)"
             }
            },
            "header": {
             "fill": {
              "color": "#2a3f5f"
             },
             "line": {
              "color": "rgb(17,17,17)"
             }
            },
            "type": "table"
           }
          ]
         },
         "layout": {
          "annotationdefaults": {
           "arrowcolor": "#f2f5fa",
           "arrowhead": 0,
           "arrowwidth": 1
          },
          "autotypenumbers": "strict",
          "coloraxis": {
           "colorbar": {
            "outlinewidth": 0,
            "ticks": ""
           }
          },
          "colorscale": {
           "diverging": [
            [
             0,
             "#8e0152"
            ],
            [
             0.1,
             "#c51b7d"
            ],
            [
             0.2,
             "#de77ae"
            ],
            [
             0.3,
             "#f1b6da"
            ],
            [
             0.4,
             "#fde0ef"
            ],
            [
             0.5,
             "#f7f7f7"
            ],
            [
             0.6,
             "#e6f5d0"
            ],
            [
             0.7,
             "#b8e186"
            ],
            [
             0.8,
             "#7fbc41"
            ],
            [
             0.9,
             "#4d9221"
            ],
            [
             1,
             "#276419"
            ]
           ],
           "sequential": [
            [
             0,
             "#0d0887"
            ],
            [
             0.1111111111111111,
             "#46039f"
            ],
            [
             0.2222222222222222,
             "#7201a8"
            ],
            [
             0.3333333333333333,
             "#9c179e"
            ],
            [
             0.4444444444444444,
             "#bd3786"
            ],
            [
             0.5555555555555556,
             "#d8576b"
            ],
            [
             0.6666666666666666,
             "#ed7953"
            ],
            [
             0.7777777777777778,
             "#fb9f3a"
            ],
            [
             0.8888888888888888,
             "#fdca26"
            ],
            [
             1,
             "#f0f921"
            ]
           ],
           "sequentialminus": [
            [
             0,
             "#0d0887"
            ],
            [
             0.1111111111111111,
             "#46039f"
            ],
            [
             0.2222222222222222,
             "#7201a8"
            ],
            [
             0.3333333333333333,
             "#9c179e"
            ],
            [
             0.4444444444444444,
             "#bd3786"
            ],
            [
             0.5555555555555556,
             "#d8576b"
            ],
            [
             0.6666666666666666,
             "#ed7953"
            ],
            [
             0.7777777777777778,
             "#fb9f3a"
            ],
            [
             0.8888888888888888,
             "#fdca26"
            ],
            [
             1,
             "#f0f921"
            ]
           ]
          },
          "colorway": [
           "#636efa",
           "#EF553B",
           "#00cc96",
           "#ab63fa",
           "#FFA15A",
           "#19d3f3",
           "#FF6692",
           "#B6E880",
           "#FF97FF",
           "#FECB52"
          ],
          "font": {
           "color": "#f2f5fa"
          },
          "geo": {
           "bgcolor": "rgb(17,17,17)",
           "lakecolor": "rgb(17,17,17)",
           "landcolor": "rgb(17,17,17)",
           "showlakes": true,
           "showland": true,
           "subunitcolor": "#506784"
          },
          "hoverlabel": {
           "align": "left"
          },
          "hovermode": "closest",
          "mapbox": {
           "style": "dark"
          },
          "paper_bgcolor": "rgb(17,17,17)",
          "plot_bgcolor": "rgb(17,17,17)",
          "polar": {
           "angularaxis": {
            "gridcolor": "#506784",
            "linecolor": "#506784",
            "ticks": ""
           },
           "bgcolor": "rgb(17,17,17)",
           "radialaxis": {
            "gridcolor": "#506784",
            "linecolor": "#506784",
            "ticks": ""
           }
          },
          "scene": {
           "xaxis": {
            "backgroundcolor": "rgb(17,17,17)",
            "gridcolor": "#506784",
            "gridwidth": 2,
            "linecolor": "#506784",
            "showbackground": true,
            "ticks": "",
            "zerolinecolor": "#C8D4E3"
           },
           "yaxis": {
            "backgroundcolor": "rgb(17,17,17)",
            "gridcolor": "#506784",
            "gridwidth": 2,
            "linecolor": "#506784",
            "showbackground": true,
            "ticks": "",
            "zerolinecolor": "#C8D4E3"
           },
           "zaxis": {
            "backgroundcolor": "rgb(17,17,17)",
            "gridcolor": "#506784",
            "gridwidth": 2,
            "linecolor": "#506784",
            "showbackground": true,
            "ticks": "",
            "zerolinecolor": "#C8D4E3"
           }
          },
          "shapedefaults": {
           "line": {
            "color": "#f2f5fa"
           }
          },
          "sliderdefaults": {
           "bgcolor": "#C8D4E3",
           "bordercolor": "rgb(17,17,17)",
           "borderwidth": 1,
           "tickwidth": 0
          },
          "ternary": {
           "aaxis": {
            "gridcolor": "#506784",
            "linecolor": "#506784",
            "ticks": ""
           },
           "baxis": {
            "gridcolor": "#506784",
            "linecolor": "#506784",
            "ticks": ""
           },
           "bgcolor": "rgb(17,17,17)",
           "caxis": {
            "gridcolor": "#506784",
            "linecolor": "#506784",
            "ticks": ""
           }
          },
          "title": {
           "x": 0.05
          },
          "updatemenudefaults": {
           "bgcolor": "#506784",
           "borderwidth": 0
          },
          "xaxis": {
           "automargin": true,
           "gridcolor": "#283442",
           "linecolor": "#506784",
           "ticks": "",
           "title": {
            "standoff": 15
           },
           "zerolinecolor": "#283442",
           "zerolinewidth": 2
          },
          "yaxis": {
           "automargin": true,
           "gridcolor": "#283442",
           "linecolor": "#506784",
           "ticks": "",
           "title": {
            "standoff": 15
           },
           "zerolinecolor": "#283442",
           "zerolinewidth": 2
          }
         }
        },
        "title": {
         "text": "Numero di Attacchi vs Diversità di Difese Usate per Anno"
        },
        "xaxis": {
         "title": {
          "text": "Anno"
         }
        },
        "yaxis": {
         "title": {
          "text": "Volume"
         }
        }
       }
      }
     },
     "metadata": {},
     "output_type": "display_data"
    },
    {
     "name": "stderr",
     "output_type": "stream",
     "text": [
      "C:\\Users\\ab161\\AppData\\Local\\Temp\\ipykernel_1700\\103580417.py:104: FutureWarning:\n",
      "\n",
      "The default of observed=False is deprecated and will be changed to True in a future version of pandas. Pass observed=False to retain current behavior or observed=True to adopt the future default and silence this warning.\n",
      "\n"
     ]
    },
    {
     "data": {
      "application/vnd.plotly.v1+json": {
       "config": {
        "plotlyServerURL": "https://plot.ly"
       },
       "data": [
        {
         "hovertemplate": "attack_type=%{x}<br>year=2015<br>count=%{y}<extra></extra>",
         "legendgroup": "Phishing",
         "marker": {
          "color": "#636efa",
          "pattern": {
           "shape": ""
          }
         },
         "name": "Phishing",
         "orientation": "v",
         "showlegend": true,
         "textposition": "auto",
         "type": "bar",
         "x": [
          "Phishing"
         ],
         "xaxis": "x",
         "y": {
          "bdata": "Lg==",
          "dtype": "i1"
         },
         "yaxis": "y"
        },
        {
         "hovertemplate": "attack_type=%{x}<br>year=2015<br>count=%{y}<extra></extra>",
         "legendgroup": "Ransomware",
         "marker": {
          "color": "#EF553B",
          "pattern": {
           "shape": ""
          }
         },
         "name": "Ransomware",
         "orientation": "v",
         "showlegend": true,
         "textposition": "auto",
         "type": "bar",
         "x": [
          "Ransomware"
         ],
         "xaxis": "x",
         "y": {
          "bdata": "Lw==",
          "dtype": "i1"
         },
         "yaxis": "y"
        },
        {
         "hovertemplate": "attack_type=%{x}<br>year=2015<br>count=%{y}<extra></extra>",
         "legendgroup": "Man-in-the-Middle",
         "marker": {
          "color": "#00cc96",
          "pattern": {
           "shape": ""
          }
         },
         "name": "Man-in-the-Middle",
         "orientation": "v",
         "showlegend": true,
         "textposition": "auto",
         "type": "bar",
         "x": [
          "Man-in-the-Middle"
         ],
         "xaxis": "x",
         "y": {
          "bdata": "KQ==",
          "dtype": "i1"
         },
         "yaxis": "y"
        },
        {
         "hovertemplate": "attack_type=%{x}<br>year=2015<br>count=%{y}<extra></extra>",
         "legendgroup": "DDoS",
         "marker": {
          "color": "#ab63fa",
          "pattern": {
           "shape": ""
          }
         },
         "name": "DDoS",
         "orientation": "v",
         "showlegend": true,
         "textposition": "auto",
         "type": "bar",
         "x": [
          "DDoS"
         ],
         "xaxis": "x",
         "y": {
          "bdata": "Mg==",
          "dtype": "i1"
         },
         "yaxis": "y"
        },
        {
         "hovertemplate": "attack_type=%{x}<br>year=2015<br>count=%{y}<extra></extra>",
         "legendgroup": "SQL Injection",
         "marker": {
          "color": "#FFA15A",
          "pattern": {
           "shape": ""
          }
         },
         "name": "SQL Injection",
         "orientation": "v",
         "showlegend": true,
         "textposition": "auto",
         "type": "bar",
         "x": [
          "SQL Injection"
         ],
         "xaxis": "x",
         "y": {
          "bdata": "Kg==",
          "dtype": "i1"
         },
         "yaxis": "y"
        },
        {
         "hovertemplate": "attack_type=%{x}<br>year=2015<br>count=%{y}<extra></extra>",
         "legendgroup": "Malware",
         "marker": {
          "color": "#19d3f3",
          "pattern": {
           "shape": ""
          }
         },
         "name": "Malware",
         "orientation": "v",
         "showlegend": true,
         "textposition": "auto",
         "type": "bar",
         "x": [
          "Malware"
         ],
         "xaxis": "x",
         "y": {
          "bdata": "Mw==",
          "dtype": "i1"
         },
         "yaxis": "y"
        }
       ],
       "frames": [
        {
         "data": [
          {
           "hovertemplate": "attack_type=%{x}<br>year=2015<br>count=%{y}<extra></extra>",
           "legendgroup": "Phishing",
           "marker": {
            "color": "#636efa",
            "pattern": {
             "shape": ""
            }
           },
           "name": "Phishing",
           "orientation": "v",
           "showlegend": true,
           "textposition": "auto",
           "type": "bar",
           "x": [
            "Phishing"
           ],
           "xaxis": "x",
           "y": {
            "bdata": "Lg==",
            "dtype": "i1"
           },
           "yaxis": "y"
          },
          {
           "hovertemplate": "attack_type=%{x}<br>year=2015<br>count=%{y}<extra></extra>",
           "legendgroup": "Ransomware",
           "marker": {
            "color": "#EF553B",
            "pattern": {
             "shape": ""
            }
           },
           "name": "Ransomware",
           "orientation": "v",
           "showlegend": true,
           "textposition": "auto",
           "type": "bar",
           "x": [
            "Ransomware"
           ],
           "xaxis": "x",
           "y": {
            "bdata": "Lw==",
            "dtype": "i1"
           },
           "yaxis": "y"
          },
          {
           "hovertemplate": "attack_type=%{x}<br>year=2015<br>count=%{y}<extra></extra>",
           "legendgroup": "Man-in-the-Middle",
           "marker": {
            "color": "#00cc96",
            "pattern": {
             "shape": ""
            }
           },
           "name": "Man-in-the-Middle",
           "orientation": "v",
           "showlegend": true,
           "textposition": "auto",
           "type": "bar",
           "x": [
            "Man-in-the-Middle"
           ],
           "xaxis": "x",
           "y": {
            "bdata": "KQ==",
            "dtype": "i1"
           },
           "yaxis": "y"
          },
          {
           "hovertemplate": "attack_type=%{x}<br>year=2015<br>count=%{y}<extra></extra>",
           "legendgroup": "DDoS",
           "marker": {
            "color": "#ab63fa",
            "pattern": {
             "shape": ""
            }
           },
           "name": "DDoS",
           "orientation": "v",
           "showlegend": true,
           "textposition": "auto",
           "type": "bar",
           "x": [
            "DDoS"
           ],
           "xaxis": "x",
           "y": {
            "bdata": "Mg==",
            "dtype": "i1"
           },
           "yaxis": "y"
          },
          {
           "hovertemplate": "attack_type=%{x}<br>year=2015<br>count=%{y}<extra></extra>",
           "legendgroup": "SQL Injection",
           "marker": {
            "color": "#FFA15A",
            "pattern": {
             "shape": ""
            }
           },
           "name": "SQL Injection",
           "orientation": "v",
           "showlegend": true,
           "textposition": "auto",
           "type": "bar",
           "x": [
            "SQL Injection"
           ],
           "xaxis": "x",
           "y": {
            "bdata": "Kg==",
            "dtype": "i1"
           },
           "yaxis": "y"
          },
          {
           "hovertemplate": "attack_type=%{x}<br>year=2015<br>count=%{y}<extra></extra>",
           "legendgroup": "Malware",
           "marker": {
            "color": "#19d3f3",
            "pattern": {
             "shape": ""
            }
           },
           "name": "Malware",
           "orientation": "v",
           "showlegend": true,
           "textposition": "auto",
           "type": "bar",
           "x": [
            "Malware"
           ],
           "xaxis": "x",
           "y": {
            "bdata": "Mw==",
            "dtype": "i1"
           },
           "yaxis": "y"
          }
         ],
         "name": "2015"
        },
        {
         "data": [
          {
           "hovertemplate": "attack_type=%{x}<br>year=2016<br>count=%{y}<extra></extra>",
           "legendgroup": "Phishing",
           "marker": {
            "color": "#636efa",
            "pattern": {
             "shape": ""
            }
           },
           "name": "Phishing",
           "orientation": "v",
           "showlegend": true,
           "textposition": "auto",
           "type": "bar",
           "x": [
            "Phishing"
           ],
           "xaxis": "x",
           "y": {
            "bdata": "Nw==",
            "dtype": "i1"
           },
           "yaxis": "y"
          },
          {
           "hovertemplate": "attack_type=%{x}<br>year=2016<br>count=%{y}<extra></extra>",
           "legendgroup": "Ransomware",
           "marker": {
            "color": "#EF553B",
            "pattern": {
             "shape": ""
            }
           },
           "name": "Ransomware",
           "orientation": "v",
           "showlegend": true,
           "textposition": "auto",
           "type": "bar",
           "x": [
            "Ransomware"
           ],
           "xaxis": "x",
           "y": {
            "bdata": "Kg==",
            "dtype": "i1"
           },
           "yaxis": "y"
          },
          {
           "hovertemplate": "attack_type=%{x}<br>year=2016<br>count=%{y}<extra></extra>",
           "legendgroup": "Man-in-the-Middle",
           "marker": {
            "color": "#00cc96",
            "pattern": {
             "shape": ""
            }
           },
           "name": "Man-in-the-Middle",
           "orientation": "v",
           "showlegend": true,
           "textposition": "auto",
           "type": "bar",
           "x": [
            "Man-in-the-Middle"
           ],
           "xaxis": "x",
           "y": {
            "bdata": "Lw==",
            "dtype": "i1"
           },
           "yaxis": "y"
          },
          {
           "hovertemplate": "attack_type=%{x}<br>year=2016<br>count=%{y}<extra></extra>",
           "legendgroup": "DDoS",
           "marker": {
            "color": "#ab63fa",
            "pattern": {
             "shape": ""
            }
           },
           "name": "DDoS",
           "orientation": "v",
           "showlegend": true,
           "textposition": "auto",
           "type": "bar",
           "x": [
            "DDoS"
           ],
           "xaxis": "x",
           "y": {
            "bdata": "NQ==",
            "dtype": "i1"
           },
           "yaxis": "y"
          },
          {
           "hovertemplate": "attack_type=%{x}<br>year=2016<br>count=%{y}<extra></extra>",
           "legendgroup": "SQL Injection",
           "marker": {
            "color": "#FFA15A",
            "pattern": {
             "shape": ""
            }
           },
           "name": "SQL Injection",
           "orientation": "v",
           "showlegend": true,
           "textposition": "auto",
           "type": "bar",
           "x": [
            "SQL Injection"
           ],
           "xaxis": "x",
           "y": {
            "bdata": "Lw==",
            "dtype": "i1"
           },
           "yaxis": "y"
          },
          {
           "hovertemplate": "attack_type=%{x}<br>year=2016<br>count=%{y}<extra></extra>",
           "legendgroup": "Malware",
           "marker": {
            "color": "#19d3f3",
            "pattern": {
             "shape": ""
            }
           },
           "name": "Malware",
           "orientation": "v",
           "showlegend": true,
           "textposition": "auto",
           "type": "bar",
           "x": [
            "Malware"
           ],
           "xaxis": "x",
           "y": {
            "bdata": "KQ==",
            "dtype": "i1"
           },
           "yaxis": "y"
          }
         ],
         "name": "2016"
        },
        {
         "data": [
          {
           "hovertemplate": "attack_type=%{x}<br>year=2017<br>count=%{y}<extra></extra>",
           "legendgroup": "Phishing",
           "marker": {
            "color": "#636efa",
            "pattern": {
             "shape": ""
            }
           },
           "name": "Phishing",
           "orientation": "v",
           "showlegend": true,
           "textposition": "auto",
           "type": "bar",
           "x": [
            "Phishing"
           ],
           "xaxis": "x",
           "y": {
            "bdata": "QA==",
            "dtype": "i1"
           },
           "yaxis": "y"
          },
          {
           "hovertemplate": "attack_type=%{x}<br>year=2017<br>count=%{y}<extra></extra>",
           "legendgroup": "Ransomware",
           "marker": {
            "color": "#EF553B",
            "pattern": {
             "shape": ""
            }
           },
           "name": "Ransomware",
           "orientation": "v",
           "showlegend": true,
           "textposition": "auto",
           "type": "bar",
           "x": [
            "Ransomware"
           ],
           "xaxis": "x",
           "y": {
            "bdata": "LA==",
            "dtype": "i1"
           },
           "yaxis": "y"
          },
          {
           "hovertemplate": "attack_type=%{x}<br>year=2017<br>count=%{y}<extra></extra>",
           "legendgroup": "Man-in-the-Middle",
           "marker": {
            "color": "#00cc96",
            "pattern": {
             "shape": ""
            }
           },
           "name": "Man-in-the-Middle",
           "orientation": "v",
           "showlegend": true,
           "textposition": "auto",
           "type": "bar",
           "x": [
            "Man-in-the-Middle"
           ],
           "xaxis": "x",
           "y": {
            "bdata": "Og==",
            "dtype": "i1"
           },
           "yaxis": "y"
          },
          {
           "hovertemplate": "attack_type=%{x}<br>year=2017<br>count=%{y}<extra></extra>",
           "legendgroup": "DDoS",
           "marker": {
            "color": "#ab63fa",
            "pattern": {
             "shape": ""
            }
           },
           "name": "DDoS",
           "orientation": "v",
           "showlegend": true,
           "textposition": "auto",
           "type": "bar",
           "x": [
            "DDoS"
           ],
           "xaxis": "x",
           "y": {
            "bdata": "Og==",
            "dtype": "i1"
           },
           "yaxis": "y"
          },
          {
           "hovertemplate": "attack_type=%{x}<br>year=2017<br>count=%{y}<extra></extra>",
           "legendgroup": "SQL Injection",
           "marker": {
            "color": "#FFA15A",
            "pattern": {
             "shape": ""
            }
           },
           "name": "SQL Injection",
           "orientation": "v",
           "showlegend": true,
           "textposition": "auto",
           "type": "bar",
           "x": [
            "SQL Injection"
           ],
           "xaxis": "x",
           "y": {
            "bdata": "MQ==",
            "dtype": "i1"
           },
           "yaxis": "y"
          },
          {
           "hovertemplate": "attack_type=%{x}<br>year=2017<br>count=%{y}<extra></extra>",
           "legendgroup": "Malware",
           "marker": {
            "color": "#19d3f3",
            "pattern": {
             "shape": ""
            }
           },
           "name": "Malware",
           "orientation": "v",
           "showlegend": true,
           "textposition": "auto",
           "type": "bar",
           "x": [
            "Malware"
           ],
           "xaxis": "x",
           "y": {
            "bdata": "Lg==",
            "dtype": "i1"
           },
           "yaxis": "y"
          }
         ],
         "name": "2017"
        },
        {
         "data": [
          {
           "hovertemplate": "attack_type=%{x}<br>year=2018<br>count=%{y}<extra></extra>",
           "legendgroup": "Phishing",
           "marker": {
            "color": "#636efa",
            "pattern": {
             "shape": ""
            }
           },
           "name": "Phishing",
           "orientation": "v",
           "showlegend": true,
           "textposition": "auto",
           "type": "bar",
           "x": [
            "Phishing"
           ],
           "xaxis": "x",
           "y": {
            "bdata": "NA==",
            "dtype": "i1"
           },
           "yaxis": "y"
          },
          {
           "hovertemplate": "attack_type=%{x}<br>year=2018<br>count=%{y}<extra></extra>",
           "legendgroup": "Ransomware",
           "marker": {
            "color": "#EF553B",
            "pattern": {
             "shape": ""
            }
           },
           "name": "Ransomware",
           "orientation": "v",
           "showlegend": true,
           "textposition": "auto",
           "type": "bar",
           "x": [
            "Ransomware"
           ],
           "xaxis": "x",
           "y": {
            "bdata": "MQ==",
            "dtype": "i1"
           },
           "yaxis": "y"
          },
          {
           "hovertemplate": "attack_type=%{x}<br>year=2018<br>count=%{y}<extra></extra>",
           "legendgroup": "Man-in-the-Middle",
           "marker": {
            "color": "#00cc96",
            "pattern": {
             "shape": ""
            }
           },
           "name": "Man-in-the-Middle",
           "orientation": "v",
           "showlegend": true,
           "textposition": "auto",
           "type": "bar",
           "x": [
            "Man-in-the-Middle"
           ],
           "xaxis": "x",
           "y": {
            "bdata": "JA==",
            "dtype": "i1"
           },
           "yaxis": "y"
          },
          {
           "hovertemplate": "attack_type=%{x}<br>year=2018<br>count=%{y}<extra></extra>",
           "legendgroup": "DDoS",
           "marker": {
            "color": "#ab63fa",
            "pattern": {
             "shape": ""
            }
           },
           "name": "DDoS",
           "orientation": "v",
           "showlegend": true,
           "textposition": "auto",
           "type": "bar",
           "x": [
            "DDoS"
           ],
           "xaxis": "x",
           "y": {
            "bdata": "PA==",
            "dtype": "i1"
           },
           "yaxis": "y"
          },
          {
           "hovertemplate": "attack_type=%{x}<br>year=2018<br>count=%{y}<extra></extra>",
           "legendgroup": "SQL Injection",
           "marker": {
            "color": "#FFA15A",
            "pattern": {
             "shape": ""
            }
           },
           "name": "SQL Injection",
           "orientation": "v",
           "showlegend": true,
           "textposition": "auto",
           "type": "bar",
           "x": [
            "SQL Injection"
           ],
           "xaxis": "x",
           "y": {
            "bdata": "OQ==",
            "dtype": "i1"
           },
           "yaxis": "y"
          },
          {
           "hovertemplate": "attack_type=%{x}<br>year=2018<br>count=%{y}<extra></extra>",
           "legendgroup": "Malware",
           "marker": {
            "color": "#19d3f3",
            "pattern": {
             "shape": ""
            }
           },
           "name": "Malware",
           "orientation": "v",
           "showlegend": true,
           "textposition": "auto",
           "type": "bar",
           "x": [
            "Malware"
           ],
           "xaxis": "x",
           "y": {
            "bdata": "OA==",
            "dtype": "i1"
           },
           "yaxis": "y"
          }
         ],
         "name": "2018"
        },
        {
         "data": [
          {
           "hovertemplate": "attack_type=%{x}<br>year=2019<br>count=%{y}<extra></extra>",
           "legendgroup": "Phishing",
           "marker": {
            "color": "#636efa",
            "pattern": {
             "shape": ""
            }
           },
           "name": "Phishing",
           "orientation": "v",
           "showlegend": true,
           "textposition": "auto",
           "type": "bar",
           "x": [
            "Phishing"
           ],
           "xaxis": "x",
           "y": {
            "bdata": "LQ==",
            "dtype": "i1"
           },
           "yaxis": "y"
          },
          {
           "hovertemplate": "attack_type=%{x}<br>year=2019<br>count=%{y}<extra></extra>",
           "legendgroup": "Ransomware",
           "marker": {
            "color": "#EF553B",
            "pattern": {
             "shape": ""
            }
           },
           "name": "Ransomware",
           "orientation": "v",
           "showlegend": true,
           "textposition": "auto",
           "type": "bar",
           "x": [
            "Ransomware"
           ],
           "xaxis": "x",
           "y": {
            "bdata": "Jg==",
            "dtype": "i1"
           },
           "yaxis": "y"
          },
          {
           "hovertemplate": "attack_type=%{x}<br>year=2019<br>count=%{y}<extra></extra>",
           "legendgroup": "Man-in-the-Middle",
           "marker": {
            "color": "#00cc96",
            "pattern": {
             "shape": ""
            }
           },
           "name": "Man-in-the-Middle",
           "orientation": "v",
           "showlegend": true,
           "textposition": "auto",
           "type": "bar",
           "x": [
            "Man-in-the-Middle"
           ],
           "xaxis": "x",
           "y": {
            "bdata": "LA==",
            "dtype": "i1"
           },
           "yaxis": "y"
          },
          {
           "hovertemplate": "attack_type=%{x}<br>year=2019<br>count=%{y}<extra></extra>",
           "legendgroup": "DDoS",
           "marker": {
            "color": "#ab63fa",
            "pattern": {
             "shape": ""
            }
           },
           "name": "DDoS",
           "orientation": "v",
           "showlegend": true,
           "textposition": "auto",
           "type": "bar",
           "x": [
            "DDoS"
           ],
           "xaxis": "x",
           "y": {
            "bdata": "MA==",
            "dtype": "i1"
           },
           "yaxis": "y"
          },
          {
           "hovertemplate": "attack_type=%{x}<br>year=2019<br>count=%{y}<extra></extra>",
           "legendgroup": "SQL Injection",
           "marker": {
            "color": "#FFA15A",
            "pattern": {
             "shape": ""
            }
           },
           "name": "SQL Injection",
           "orientation": "v",
           "showlegend": true,
           "textposition": "auto",
           "type": "bar",
           "x": [
            "SQL Injection"
           ],
           "xaxis": "x",
           "y": {
            "bdata": "LQ==",
            "dtype": "i1"
           },
           "yaxis": "y"
          },
          {
           "hovertemplate": "attack_type=%{x}<br>year=2019<br>count=%{y}<extra></extra>",
           "legendgroup": "Malware",
           "marker": {
            "color": "#19d3f3",
            "pattern": {
             "shape": ""
            }
           },
           "name": "Malware",
           "orientation": "v",
           "showlegend": true,
           "textposition": "auto",
           "type": "bar",
           "x": [
            "Malware"
           ],
           "xaxis": "x",
           "y": {
            "bdata": "Kw==",
            "dtype": "i1"
           },
           "yaxis": "y"
          }
         ],
         "name": "2019"
        },
        {
         "data": [
          {
           "hovertemplate": "attack_type=%{x}<br>year=2020<br>count=%{y}<extra></extra>",
           "legendgroup": "Phishing",
           "marker": {
            "color": "#636efa",
            "pattern": {
             "shape": ""
            }
           },
           "name": "Phishing",
           "orientation": "v",
           "showlegend": true,
           "textposition": "auto",
           "type": "bar",
           "x": [
            "Phishing"
           ],
           "xaxis": "x",
           "y": {
            "bdata": "PQ==",
            "dtype": "i1"
           },
           "yaxis": "y"
          },
          {
           "hovertemplate": "attack_type=%{x}<br>year=2020<br>count=%{y}<extra></extra>",
           "legendgroup": "Ransomware",
           "marker": {
            "color": "#EF553B",
            "pattern": {
             "shape": ""
            }
           },
           "name": "Ransomware",
           "orientation": "v",
           "showlegend": true,
           "textposition": "auto",
           "type": "bar",
           "x": [
            "Ransomware"
           ],
           "xaxis": "x",
           "y": {
            "bdata": "Ow==",
            "dtype": "i1"
           },
           "yaxis": "y"
          },
          {
           "hovertemplate": "attack_type=%{x}<br>year=2020<br>count=%{y}<extra></extra>",
           "legendgroup": "Man-in-the-Middle",
           "marker": {
            "color": "#00cc96",
            "pattern": {
             "shape": ""
            }
           },
           "name": "Man-in-the-Middle",
           "orientation": "v",
           "showlegend": true,
           "textposition": "auto",
           "type": "bar",
           "x": [
            "Man-in-the-Middle"
           ],
           "xaxis": "x",
           "y": {
            "bdata": "Lw==",
            "dtype": "i1"
           },
           "yaxis": "y"
          },
          {
           "hovertemplate": "attack_type=%{x}<br>year=2020<br>count=%{y}<extra></extra>",
           "legendgroup": "DDoS",
           "marker": {
            "color": "#ab63fa",
            "pattern": {
             "shape": ""
            }
           },
           "name": "DDoS",
           "orientation": "v",
           "showlegend": true,
           "textposition": "auto",
           "type": "bar",
           "x": [
            "DDoS"
           ],
           "xaxis": "x",
           "y": {
            "bdata": "OA==",
            "dtype": "i1"
           },
           "yaxis": "y"
          },
          {
           "hovertemplate": "attack_type=%{x}<br>year=2020<br>count=%{y}<extra></extra>",
           "legendgroup": "SQL Injection",
           "marker": {
            "color": "#FFA15A",
            "pattern": {
             "shape": ""
            }
           },
           "name": "SQL Injection",
           "orientation": "v",
           "showlegend": true,
           "textposition": "auto",
           "type": "bar",
           "x": [
            "SQL Injection"
           ],
           "xaxis": "x",
           "y": {
            "bdata": "Nw==",
            "dtype": "i1"
           },
           "yaxis": "y"
          },
          {
           "hovertemplate": "attack_type=%{x}<br>year=2020<br>count=%{y}<extra></extra>",
           "legendgroup": "Malware",
           "marker": {
            "color": "#19d3f3",
            "pattern": {
             "shape": ""
            }
           },
           "name": "Malware",
           "orientation": "v",
           "showlegend": true,
           "textposition": "auto",
           "type": "bar",
           "x": [
            "Malware"
           ],
           "xaxis": "x",
           "y": {
            "bdata": "JQ==",
            "dtype": "i1"
           },
           "yaxis": "y"
          }
         ],
         "name": "2020"
        },
        {
         "data": [
          {
           "hovertemplate": "attack_type=%{x}<br>year=2021<br>count=%{y}<extra></extra>",
           "legendgroup": "Phishing",
           "marker": {
            "color": "#636efa",
            "pattern": {
             "shape": ""
            }
           },
           "name": "Phishing",
           "orientation": "v",
           "showlegend": true,
           "textposition": "auto",
           "type": "bar",
           "x": [
            "Phishing"
           ],
           "xaxis": "x",
           "y": {
            "bdata": "KQ==",
            "dtype": "i1"
           },
           "yaxis": "y"
          },
          {
           "hovertemplate": "attack_type=%{x}<br>year=2021<br>count=%{y}<extra></extra>",
           "legendgroup": "Ransomware",
           "marker": {
            "color": "#EF553B",
            "pattern": {
             "shape": ""
            }
           },
           "name": "Ransomware",
           "orientation": "v",
           "showlegend": true,
           "textposition": "auto",
           "type": "bar",
           "x": [
            "Ransomware"
           ],
           "xaxis": "x",
           "y": {
            "bdata": "Nw==",
            "dtype": "i1"
           },
           "yaxis": "y"
          },
          {
           "hovertemplate": "attack_type=%{x}<br>year=2021<br>count=%{y}<extra></extra>",
           "legendgroup": "Man-in-the-Middle",
           "marker": {
            "color": "#00cc96",
            "pattern": {
             "shape": ""
            }
           },
           "name": "Man-in-the-Middle",
           "orientation": "v",
           "showlegend": true,
           "textposition": "auto",
           "type": "bar",
           "x": [
            "Man-in-the-Middle"
           ],
           "xaxis": "x",
           "y": {
            "bdata": "MA==",
            "dtype": "i1"
           },
           "yaxis": "y"
          },
          {
           "hovertemplate": "attack_type=%{x}<br>year=2021<br>count=%{y}<extra></extra>",
           "legendgroup": "DDoS",
           "marker": {
            "color": "#ab63fa",
            "pattern": {
             "shape": ""
            }
           },
           "name": "DDoS",
           "orientation": "v",
           "showlegend": true,
           "textposition": "auto",
           "type": "bar",
           "x": [
            "DDoS"
           ],
           "xaxis": "x",
           "y": {
            "bdata": "Lw==",
            "dtype": "i1"
           },
           "yaxis": "y"
          },
          {
           "hovertemplate": "attack_type=%{x}<br>year=2021<br>count=%{y}<extra></extra>",
           "legendgroup": "SQL Injection",
           "marker": {
            "color": "#FFA15A",
            "pattern": {
             "shape": ""
            }
           },
           "name": "SQL Injection",
           "orientation": "v",
           "showlegend": true,
           "textposition": "auto",
           "type": "bar",
           "x": [
            "SQL Injection"
           ],
           "xaxis": "x",
           "y": {
            "bdata": "Ow==",
            "dtype": "i1"
           },
           "yaxis": "y"
          },
          {
           "hovertemplate": "attack_type=%{x}<br>year=2021<br>count=%{y}<extra></extra>",
           "legendgroup": "Malware",
           "marker": {
            "color": "#19d3f3",
            "pattern": {
             "shape": ""
            }
           },
           "name": "Malware",
           "orientation": "v",
           "showlegend": true,
           "textposition": "auto",
           "type": "bar",
           "x": [
            "Malware"
           ],
           "xaxis": "x",
           "y": {
            "bdata": "MQ==",
            "dtype": "i1"
           },
           "yaxis": "y"
          }
         ],
         "name": "2021"
        },
        {
         "data": [
          {
           "hovertemplate": "attack_type=%{x}<br>year=2022<br>count=%{y}<extra></extra>",
           "legendgroup": "Phishing",
           "marker": {
            "color": "#636efa",
            "pattern": {
             "shape": ""
            }
           },
           "name": "Phishing",
           "orientation": "v",
           "showlegend": true,
           "textposition": "auto",
           "type": "bar",
           "x": [
            "Phishing"
           ],
           "xaxis": "x",
           "y": {
            "bdata": "OQ==",
            "dtype": "i1"
           },
           "yaxis": "y"
          },
          {
           "hovertemplate": "attack_type=%{x}<br>year=2022<br>count=%{y}<extra></extra>",
           "legendgroup": "Ransomware",
           "marker": {
            "color": "#EF553B",
            "pattern": {
             "shape": ""
            }
           },
           "name": "Ransomware",
           "orientation": "v",
           "showlegend": true,
           "textposition": "auto",
           "type": "bar",
           "x": [
            "Ransomware"
           ],
           "xaxis": "x",
           "y": {
            "bdata": "OA==",
            "dtype": "i1"
           },
           "yaxis": "y"
          },
          {
           "hovertemplate": "attack_type=%{x}<br>year=2022<br>count=%{y}<extra></extra>",
           "legendgroup": "Man-in-the-Middle",
           "marker": {
            "color": "#00cc96",
            "pattern": {
             "shape": ""
            }
           },
           "name": "Man-in-the-Middle",
           "orientation": "v",
           "showlegend": true,
           "textposition": "auto",
           "type": "bar",
           "x": [
            "Man-in-the-Middle"
           ],
           "xaxis": "x",
           "y": {
            "bdata": "KQ==",
            "dtype": "i1"
           },
           "yaxis": "y"
          },
          {
           "hovertemplate": "attack_type=%{x}<br>year=2022<br>count=%{y}<extra></extra>",
           "legendgroup": "DDoS",
           "marker": {
            "color": "#ab63fa",
            "pattern": {
             "shape": ""
            }
           },
           "name": "DDoS",
           "orientation": "v",
           "showlegend": true,
           "textposition": "auto",
           "type": "bar",
           "x": [
            "DDoS"
           ],
           "xaxis": "x",
           "y": {
            "bdata": "Ng==",
            "dtype": "i1"
           },
           "yaxis": "y"
          },
          {
           "hovertemplate": "attack_type=%{x}<br>year=2022<br>count=%{y}<extra></extra>",
           "legendgroup": "SQL Injection",
           "marker": {
            "color": "#FFA15A",
            "pattern": {
             "shape": ""
            }
           },
           "name": "SQL Injection",
           "orientation": "v",
           "showlegend": true,
           "textposition": "auto",
           "type": "bar",
           "x": [
            "SQL Injection"
           ],
           "xaxis": "x",
           "y": {
            "bdata": "Lg==",
            "dtype": "i1"
           },
           "yaxis": "y"
          },
          {
           "hovertemplate": "attack_type=%{x}<br>year=2022<br>count=%{y}<extra></extra>",
           "legendgroup": "Malware",
           "marker": {
            "color": "#19d3f3",
            "pattern": {
             "shape": ""
            }
           },
           "name": "Malware",
           "orientation": "v",
           "showlegend": true,
           "textposition": "auto",
           "type": "bar",
           "x": [
            "Malware"
           ],
           "xaxis": "x",
           "y": {
            "bdata": "QA==",
            "dtype": "i1"
           },
           "yaxis": "y"
          }
         ],
         "name": "2022"
        },
        {
         "data": [
          {
           "hovertemplate": "attack_type=%{x}<br>year=2023<br>count=%{y}<extra></extra>",
           "legendgroup": "Phishing",
           "marker": {
            "color": "#636efa",
            "pattern": {
             "shape": ""
            }
           },
           "name": "Phishing",
           "orientation": "v",
           "showlegend": true,
           "textposition": "auto",
           "type": "bar",
           "x": [
            "Phishing"
           ],
           "xaxis": "x",
           "y": {
            "bdata": "Lg==",
            "dtype": "i1"
           },
           "yaxis": "y"
          },
          {
           "hovertemplate": "attack_type=%{x}<br>year=2023<br>count=%{y}<extra></extra>",
           "legendgroup": "Ransomware",
           "marker": {
            "color": "#EF553B",
            "pattern": {
             "shape": ""
            }
           },
           "name": "Ransomware",
           "orientation": "v",
           "showlegend": true,
           "textposition": "auto",
           "type": "bar",
           "x": [
            "Ransomware"
           ],
           "xaxis": "x",
           "y": {
            "bdata": "Mg==",
            "dtype": "i1"
           },
           "yaxis": "y"
          },
          {
           "hovertemplate": "attack_type=%{x}<br>year=2023<br>count=%{y}<extra></extra>",
           "legendgroup": "Man-in-the-Middle",
           "marker": {
            "color": "#00cc96",
            "pattern": {
             "shape": ""
            }
           },
           "name": "Man-in-the-Middle",
           "orientation": "v",
           "showlegend": true,
           "textposition": "auto",
           "type": "bar",
           "x": [
            "Man-in-the-Middle"
           ],
           "xaxis": "x",
           "y": {
            "bdata": "Mg==",
            "dtype": "i1"
           },
           "yaxis": "y"
          },
          {
           "hovertemplate": "attack_type=%{x}<br>year=2023<br>count=%{y}<extra></extra>",
           "legendgroup": "DDoS",
           "marker": {
            "color": "#ab63fa",
            "pattern": {
             "shape": ""
            }
           },
           "name": "DDoS",
           "orientation": "v",
           "showlegend": true,
           "textposition": "auto",
           "type": "bar",
           "x": [
            "DDoS"
           ],
           "xaxis": "x",
           "y": {
            "bdata": "Mw==",
            "dtype": "i1"
           },
           "yaxis": "y"
          },
          {
           "hovertemplate": "attack_type=%{x}<br>year=2023<br>count=%{y}<extra></extra>",
           "legendgroup": "SQL Injection",
           "marker": {
            "color": "#FFA15A",
            "pattern": {
             "shape": ""
            }
           },
           "name": "SQL Injection",
           "orientation": "v",
           "showlegend": true,
           "textposition": "auto",
           "type": "bar",
           "x": [
            "SQL Injection"
           ],
           "xaxis": "x",
           "y": {
            "bdata": "Pw==",
            "dtype": "i1"
           },
           "yaxis": "y"
          },
          {
           "hovertemplate": "attack_type=%{x}<br>year=2023<br>count=%{y}<extra></extra>",
           "legendgroup": "Malware",
           "marker": {
            "color": "#19d3f3",
            "pattern": {
             "shape": ""
            }
           },
           "name": "Malware",
           "orientation": "v",
           "showlegend": true,
           "textposition": "auto",
           "type": "bar",
           "x": [
            "Malware"
           ],
           "xaxis": "x",
           "y": {
            "bdata": "Nw==",
            "dtype": "i1"
           },
           "yaxis": "y"
          }
         ],
         "name": "2023"
        },
        {
         "data": [
          {
           "hovertemplate": "attack_type=%{x}<br>year=2024<br>count=%{y}<extra></extra>",
           "legendgroup": "Phishing",
           "marker": {
            "color": "#636efa",
            "pattern": {
             "shape": ""
            }
           },
           "name": "Phishing",
           "orientation": "v",
           "showlegend": true,
           "textposition": "auto",
           "type": "bar",
           "x": [
            "Phishing"
           ],
           "xaxis": "x",
           "y": {
            "bdata": "Pg==",
            "dtype": "i1"
           },
           "yaxis": "y"
          },
          {
           "hovertemplate": "attack_type=%{x}<br>year=2024<br>count=%{y}<extra></extra>",
           "legendgroup": "Ransomware",
           "marker": {
            "color": "#EF553B",
            "pattern": {
             "shape": ""
            }
           },
           "name": "Ransomware",
           "orientation": "v",
           "showlegend": true,
           "textposition": "auto",
           "type": "bar",
           "x": [
            "Ransomware"
           ],
           "xaxis": "x",
           "y": {
            "bdata": "NQ==",
            "dtype": "i1"
           },
           "yaxis": "y"
          },
          {
           "hovertemplate": "attack_type=%{x}<br>year=2024<br>count=%{y}<extra></extra>",
           "legendgroup": "Man-in-the-Middle",
           "marker": {
            "color": "#00cc96",
            "pattern": {
             "shape": ""
            }
           },
           "name": "Man-in-the-Middle",
           "orientation": "v",
           "showlegend": true,
           "textposition": "auto",
           "type": "bar",
           "x": [
            "Man-in-the-Middle"
           ],
           "xaxis": "x",
           "y": {
            "bdata": "Lw==",
            "dtype": "i1"
           },
           "yaxis": "y"
          },
          {
           "hovertemplate": "attack_type=%{x}<br>year=2024<br>count=%{y}<extra></extra>",
           "legendgroup": "DDoS",
           "marker": {
            "color": "#ab63fa",
            "pattern": {
             "shape": ""
            }
           },
           "name": "DDoS",
           "orientation": "v",
           "showlegend": true,
           "textposition": "auto",
           "type": "bar",
           "x": [
            "DDoS"
           ],
           "xaxis": "x",
           "y": {
            "bdata": "Ng==",
            "dtype": "i1"
           },
           "yaxis": "y"
          },
          {
           "hovertemplate": "attack_type=%{x}<br>year=2024<br>count=%{y}<extra></extra>",
           "legendgroup": "SQL Injection",
           "marker": {
            "color": "#FFA15A",
            "pattern": {
             "shape": ""
            }
           },
           "name": "SQL Injection",
           "orientation": "v",
           "showlegend": true,
           "textposition": "auto",
           "type": "bar",
           "x": [
            "SQL Injection"
           ],
           "xaxis": "x",
           "y": {
            "bdata": "KA==",
            "dtype": "i1"
           },
           "yaxis": "y"
          },
          {
           "hovertemplate": "attack_type=%{x}<br>year=2024<br>count=%{y}<extra></extra>",
           "legendgroup": "Malware",
           "marker": {
            "color": "#19d3f3",
            "pattern": {
             "shape": ""
            }
           },
           "name": "Malware",
           "orientation": "v",
           "showlegend": true,
           "textposition": "auto",
           "type": "bar",
           "x": [
            "Malware"
           ],
           "xaxis": "x",
           "y": {
            "bdata": "Kw==",
            "dtype": "i1"
           },
           "yaxis": "y"
          }
         ],
         "name": "2024"
        }
       ],
       "layout": {
        "barmode": "relative",
        "legend": {
         "title": {
          "text": "attack_type"
         },
         "tracegroupgap": 0
        },
        "sliders": [
         {
          "active": 0,
          "currentvalue": {
           "prefix": "year="
          },
          "len": 0.9,
          "pad": {
           "b": 10,
           "t": 60
          },
          "steps": [
           {
            "args": [
             [
              "2015"
             ],
             {
              "frame": {
               "duration": 0,
               "redraw": true
              },
              "fromcurrent": true,
              "mode": "immediate",
              "transition": {
               "duration": 0,
               "easing": "linear"
              }
             }
            ],
            "label": "2015",
            "method": "animate"
           },
           {
            "args": [
             [
              "2016"
             ],
             {
              "frame": {
               "duration": 0,
               "redraw": true
              },
              "fromcurrent": true,
              "mode": "immediate",
              "transition": {
               "duration": 0,
               "easing": "linear"
              }
             }
            ],
            "label": "2016",
            "method": "animate"
           },
           {
            "args": [
             [
              "2017"
             ],
             {
              "frame": {
               "duration": 0,
               "redraw": true
              },
              "fromcurrent": true,
              "mode": "immediate",
              "transition": {
               "duration": 0,
               "easing": "linear"
              }
             }
            ],
            "label": "2017",
            "method": "animate"
           },
           {
            "args": [
             [
              "2018"
             ],
             {
              "frame": {
               "duration": 0,
               "redraw": true
              },
              "fromcurrent": true,
              "mode": "immediate",
              "transition": {
               "duration": 0,
               "easing": "linear"
              }
             }
            ],
            "label": "2018",
            "method": "animate"
           },
           {
            "args": [
             [
              "2019"
             ],
             {
              "frame": {
               "duration": 0,
               "redraw": true
              },
              "fromcurrent": true,
              "mode": "immediate",
              "transition": {
               "duration": 0,
               "easing": "linear"
              }
             }
            ],
            "label": "2019",
            "method": "animate"
           },
           {
            "args": [
             [
              "2020"
             ],
             {
              "frame": {
               "duration": 0,
               "redraw": true
              },
              "fromcurrent": true,
              "mode": "immediate",
              "transition": {
               "duration": 0,
               "easing": "linear"
              }
             }
            ],
            "label": "2020",
            "method": "animate"
           },
           {
            "args": [
             [
              "2021"
             ],
             {
              "frame": {
               "duration": 0,
               "redraw": true
              },
              "fromcurrent": true,
              "mode": "immediate",
              "transition": {
               "duration": 0,
               "easing": "linear"
              }
             }
            ],
            "label": "2021",
            "method": "animate"
           },
           {
            "args": [
             [
              "2022"
             ],
             {
              "frame": {
               "duration": 0,
               "redraw": true
              },
              "fromcurrent": true,
              "mode": "immediate",
              "transition": {
               "duration": 0,
               "easing": "linear"
              }
             }
            ],
            "label": "2022",
            "method": "animate"
           },
           {
            "args": [
             [
              "2023"
             ],
             {
              "frame": {
               "duration": 0,
               "redraw": true
              },
              "fromcurrent": true,
              "mode": "immediate",
              "transition": {
               "duration": 0,
               "easing": "linear"
              }
             }
            ],
            "label": "2023",
            "method": "animate"
           },
           {
            "args": [
             [
              "2024"
             ],
             {
              "frame": {
               "duration": 0,
               "redraw": true
              },
              "fromcurrent": true,
              "mode": "immediate",
              "transition": {
               "duration": 0,
               "easing": "linear"
              }
             }
            ],
            "label": "2024",
            "method": "animate"
           }
          ],
          "x": 0.1,
          "xanchor": "left",
          "y": 0,
          "yanchor": "top"
         }
        ],
        "template": {
         "data": {
          "bar": [
           {
            "error_x": {
             "color": "#f2f5fa"
            },
            "error_y": {
             "color": "#f2f5fa"
            },
            "marker": {
             "line": {
              "color": "rgb(17,17,17)",
              "width": 0.5
             },
             "pattern": {
              "fillmode": "overlay",
              "size": 10,
              "solidity": 0.2
             }
            },
            "type": "bar"
           }
          ],
          "barpolar": [
           {
            "marker": {
             "line": {
              "color": "rgb(17,17,17)",
              "width": 0.5
             },
             "pattern": {
              "fillmode": "overlay",
              "size": 10,
              "solidity": 0.2
             }
            },
            "type": "barpolar"
           }
          ],
          "carpet": [
           {
            "aaxis": {
             "endlinecolor": "#A2B1C6",
             "gridcolor": "#506784",
             "linecolor": "#506784",
             "minorgridcolor": "#506784",
             "startlinecolor": "#A2B1C6"
            },
            "baxis": {
             "endlinecolor": "#A2B1C6",
             "gridcolor": "#506784",
             "linecolor": "#506784",
             "minorgridcolor": "#506784",
             "startlinecolor": "#A2B1C6"
            },
            "type": "carpet"
           }
          ],
          "choropleth": [
           {
            "colorbar": {
             "outlinewidth": 0,
             "ticks": ""
            },
            "type": "choropleth"
           }
          ],
          "contour": [
           {
            "colorbar": {
             "outlinewidth": 0,
             "ticks": ""
            },
            "colorscale": [
             [
              0,
              "#0d0887"
             ],
             [
              0.1111111111111111,
              "#46039f"
             ],
             [
              0.2222222222222222,
              "#7201a8"
             ],
             [
              0.3333333333333333,
              "#9c179e"
             ],
             [
              0.4444444444444444,
              "#bd3786"
             ],
             [
              0.5555555555555556,
              "#d8576b"
             ],
             [
              0.6666666666666666,
              "#ed7953"
             ],
             [
              0.7777777777777778,
              "#fb9f3a"
             ],
             [
              0.8888888888888888,
              "#fdca26"
             ],
             [
              1,
              "#f0f921"
             ]
            ],
            "type": "contour"
           }
          ],
          "contourcarpet": [
           {
            "colorbar": {
             "outlinewidth": 0,
             "ticks": ""
            },
            "type": "contourcarpet"
           }
          ],
          "heatmap": [
           {
            "colorbar": {
             "outlinewidth": 0,
             "ticks": ""
            },
            "colorscale": [
             [
              0,
              "#0d0887"
             ],
             [
              0.1111111111111111,
              "#46039f"
             ],
             [
              0.2222222222222222,
              "#7201a8"
             ],
             [
              0.3333333333333333,
              "#9c179e"
             ],
             [
              0.4444444444444444,
              "#bd3786"
             ],
             [
              0.5555555555555556,
              "#d8576b"
             ],
             [
              0.6666666666666666,
              "#ed7953"
             ],
             [
              0.7777777777777778,
              "#fb9f3a"
             ],
             [
              0.8888888888888888,
              "#fdca26"
             ],
             [
              1,
              "#f0f921"
             ]
            ],
            "type": "heatmap"
           }
          ],
          "histogram": [
           {
            "marker": {
             "pattern": {
              "fillmode": "overlay",
              "size": 10,
              "solidity": 0.2
             }
            },
            "type": "histogram"
           }
          ],
          "histogram2d": [
           {
            "colorbar": {
             "outlinewidth": 0,
             "ticks": ""
            },
            "colorscale": [
             [
              0,
              "#0d0887"
             ],
             [
              0.1111111111111111,
              "#46039f"
             ],
             [
              0.2222222222222222,
              "#7201a8"
             ],
             [
              0.3333333333333333,
              "#9c179e"
             ],
             [
              0.4444444444444444,
              "#bd3786"
             ],
             [
              0.5555555555555556,
              "#d8576b"
             ],
             [
              0.6666666666666666,
              "#ed7953"
             ],
             [
              0.7777777777777778,
              "#fb9f3a"
             ],
             [
              0.8888888888888888,
              "#fdca26"
             ],
             [
              1,
              "#f0f921"
             ]
            ],
            "type": "histogram2d"
           }
          ],
          "histogram2dcontour": [
           {
            "colorbar": {
             "outlinewidth": 0,
             "ticks": ""
            },
            "colorscale": [
             [
              0,
              "#0d0887"
             ],
             [
              0.1111111111111111,
              "#46039f"
             ],
             [
              0.2222222222222222,
              "#7201a8"
             ],
             [
              0.3333333333333333,
              "#9c179e"
             ],
             [
              0.4444444444444444,
              "#bd3786"
             ],
             [
              0.5555555555555556,
              "#d8576b"
             ],
             [
              0.6666666666666666,
              "#ed7953"
             ],
             [
              0.7777777777777778,
              "#fb9f3a"
             ],
             [
              0.8888888888888888,
              "#fdca26"
             ],
             [
              1,
              "#f0f921"
             ]
            ],
            "type": "histogram2dcontour"
           }
          ],
          "mesh3d": [
           {
            "colorbar": {
             "outlinewidth": 0,
             "ticks": ""
            },
            "type": "mesh3d"
           }
          ],
          "parcoords": [
           {
            "line": {
             "colorbar": {
              "outlinewidth": 0,
              "ticks": ""
             }
            },
            "type": "parcoords"
           }
          ],
          "pie": [
           {
            "automargin": true,
            "type": "pie"
           }
          ],
          "scatter": [
           {
            "marker": {
             "line": {
              "color": "#283442"
             }
            },
            "type": "scatter"
           }
          ],
          "scatter3d": [
           {
            "line": {
             "colorbar": {
              "outlinewidth": 0,
              "ticks": ""
             }
            },
            "marker": {
             "colorbar": {
              "outlinewidth": 0,
              "ticks": ""
             }
            },
            "type": "scatter3d"
           }
          ],
          "scattercarpet": [
           {
            "marker": {
             "colorbar": {
              "outlinewidth": 0,
              "ticks": ""
             }
            },
            "type": "scattercarpet"
           }
          ],
          "scattergeo": [
           {
            "marker": {
             "colorbar": {
              "outlinewidth": 0,
              "ticks": ""
             }
            },
            "type": "scattergeo"
           }
          ],
          "scattergl": [
           {
            "marker": {
             "line": {
              "color": "#283442"
             }
            },
            "type": "scattergl"
           }
          ],
          "scattermap": [
           {
            "marker": {
             "colorbar": {
              "outlinewidth": 0,
              "ticks": ""
             }
            },
            "type": "scattermap"
           }
          ],
          "scattermapbox": [
           {
            "marker": {
             "colorbar": {
              "outlinewidth": 0,
              "ticks": ""
             }
            },
            "type": "scattermapbox"
           }
          ],
          "scatterpolar": [
           {
            "marker": {
             "colorbar": {
              "outlinewidth": 0,
              "ticks": ""
             }
            },
            "type": "scatterpolar"
           }
          ],
          "scatterpolargl": [
           {
            "marker": {
             "colorbar": {
              "outlinewidth": 0,
              "ticks": ""
             }
            },
            "type": "scatterpolargl"
           }
          ],
          "scatterternary": [
           {
            "marker": {
             "colorbar": {
              "outlinewidth": 0,
              "ticks": ""
             }
            },
            "type": "scatterternary"
           }
          ],
          "surface": [
           {
            "colorbar": {
             "outlinewidth": 0,
             "ticks": ""
            },
            "colorscale": [
             [
              0,
              "#0d0887"
             ],
             [
              0.1111111111111111,
              "#46039f"
             ],
             [
              0.2222222222222222,
              "#7201a8"
             ],
             [
              0.3333333333333333,
              "#9c179e"
             ],
             [
              0.4444444444444444,
              "#bd3786"
             ],
             [
              0.5555555555555556,
              "#d8576b"
             ],
             [
              0.6666666666666666,
              "#ed7953"
             ],
             [
              0.7777777777777778,
              "#fb9f3a"
             ],
             [
              0.8888888888888888,
              "#fdca26"
             ],
             [
              1,
              "#f0f921"
             ]
            ],
            "type": "surface"
           }
          ],
          "table": [
           {
            "cells": {
             "fill": {
              "color": "#506784"
             },
             "line": {
              "color": "rgb(17,17,17)"
             }
            },
            "header": {
             "fill": {
              "color": "#2a3f5f"
             },
             "line": {
              "color": "rgb(17,17,17)"
             }
            },
            "type": "table"
           }
          ]
         },
         "layout": {
          "annotationdefaults": {
           "arrowcolor": "#f2f5fa",
           "arrowhead": 0,
           "arrowwidth": 1
          },
          "autotypenumbers": "strict",
          "coloraxis": {
           "colorbar": {
            "outlinewidth": 0,
            "ticks": ""
           }
          },
          "colorscale": {
           "diverging": [
            [
             0,
             "#8e0152"
            ],
            [
             0.1,
             "#c51b7d"
            ],
            [
             0.2,
             "#de77ae"
            ],
            [
             0.3,
             "#f1b6da"
            ],
            [
             0.4,
             "#fde0ef"
            ],
            [
             0.5,
             "#f7f7f7"
            ],
            [
             0.6,
             "#e6f5d0"
            ],
            [
             0.7,
             "#b8e186"
            ],
            [
             0.8,
             "#7fbc41"
            ],
            [
             0.9,
             "#4d9221"
            ],
            [
             1,
             "#276419"
            ]
           ],
           "sequential": [
            [
             0,
             "#0d0887"
            ],
            [
             0.1111111111111111,
             "#46039f"
            ],
            [
             0.2222222222222222,
             "#7201a8"
            ],
            [
             0.3333333333333333,
             "#9c179e"
            ],
            [
             0.4444444444444444,
             "#bd3786"
            ],
            [
             0.5555555555555556,
             "#d8576b"
            ],
            [
             0.6666666666666666,
             "#ed7953"
            ],
            [
             0.7777777777777778,
             "#fb9f3a"
            ],
            [
             0.8888888888888888,
             "#fdca26"
            ],
            [
             1,
             "#f0f921"
            ]
           ],
           "sequentialminus": [
            [
             0,
             "#0d0887"
            ],
            [
             0.1111111111111111,
             "#46039f"
            ],
            [
             0.2222222222222222,
             "#7201a8"
            ],
            [
             0.3333333333333333,
             "#9c179e"
            ],
            [
             0.4444444444444444,
             "#bd3786"
            ],
            [
             0.5555555555555556,
             "#d8576b"
            ],
            [
             0.6666666666666666,
             "#ed7953"
            ],
            [
             0.7777777777777778,
             "#fb9f3a"
            ],
            [
             0.8888888888888888,
             "#fdca26"
            ],
            [
             1,
             "#f0f921"
            ]
           ]
          },
          "colorway": [
           "#636efa",
           "#EF553B",
           "#00cc96",
           "#ab63fa",
           "#FFA15A",
           "#19d3f3",
           "#FF6692",
           "#B6E880",
           "#FF97FF",
           "#FECB52"
          ],
          "font": {
           "color": "#f2f5fa"
          },
          "geo": {
           "bgcolor": "rgb(17,17,17)",
           "lakecolor": "rgb(17,17,17)",
           "landcolor": "rgb(17,17,17)",
           "showlakes": true,
           "showland": true,
           "subunitcolor": "#506784"
          },
          "hoverlabel": {
           "align": "left"
          },
          "hovermode": "closest",
          "mapbox": {
           "style": "dark"
          },
          "paper_bgcolor": "rgb(17,17,17)",
          "plot_bgcolor": "rgb(17,17,17)",
          "polar": {
           "angularaxis": {
            "gridcolor": "#506784",
            "linecolor": "#506784",
            "ticks": ""
           },
           "bgcolor": "rgb(17,17,17)",
           "radialaxis": {
            "gridcolor": "#506784",
            "linecolor": "#506784",
            "ticks": ""
           }
          },
          "scene": {
           "xaxis": {
            "backgroundcolor": "rgb(17,17,17)",
            "gridcolor": "#506784",
            "gridwidth": 2,
            "linecolor": "#506784",
            "showbackground": true,
            "ticks": "",
            "zerolinecolor": "#C8D4E3"
           },
           "yaxis": {
            "backgroundcolor": "rgb(17,17,17)",
            "gridcolor": "#506784",
            "gridwidth": 2,
            "linecolor": "#506784",
            "showbackground": true,
            "ticks": "",
            "zerolinecolor": "#C8D4E3"
           },
           "zaxis": {
            "backgroundcolor": "rgb(17,17,17)",
            "gridcolor": "#506784",
            "gridwidth": 2,
            "linecolor": "#506784",
            "showbackground": true,
            "ticks": "",
            "zerolinecolor": "#C8D4E3"
           }
          },
          "shapedefaults": {
           "line": {
            "color": "#f2f5fa"
           }
          },
          "sliderdefaults": {
           "bgcolor": "#C8D4E3",
           "bordercolor": "rgb(17,17,17)",
           "borderwidth": 1,
           "tickwidth": 0
          },
          "ternary": {
           "aaxis": {
            "gridcolor": "#506784",
            "linecolor": "#506784",
            "ticks": ""
           },
           "baxis": {
            "gridcolor": "#506784",
            "linecolor": "#506784",
            "ticks": ""
           },
           "bgcolor": "rgb(17,17,17)",
           "caxis": {
            "gridcolor": "#506784",
            "linecolor": "#506784",
            "ticks": ""
           }
          },
          "title": {
           "x": 0.05
          },
          "updatemenudefaults": {
           "bgcolor": "#506784",
           "borderwidth": 0
          },
          "xaxis": {
           "automargin": true,
           "gridcolor": "#283442",
           "linecolor": "#506784",
           "ticks": "",
           "title": {
            "standoff": 15
           },
           "zerolinecolor": "#283442",
           "zerolinewidth": 2
          },
          "yaxis": {
           "automargin": true,
           "gridcolor": "#283442",
           "linecolor": "#506784",
           "ticks": "",
           "title": {
            "standoff": 15
           },
           "zerolinecolor": "#283442",
           "zerolinewidth": 2
          }
         }
        },
        "title": {
         "text": "Evoluzione degli Attacchi Informatici nel Tempo"
        },
        "updatemenus": [
         {
          "buttons": [
           {
            "args": [
             null,
             {
              "frame": {
               "duration": 500,
               "redraw": true
              },
              "fromcurrent": true,
              "mode": "immediate",
              "transition": {
               "duration": 500,
               "easing": "linear"
              }
             }
            ],
            "label": "&#9654;",
            "method": "animate"
           },
           {
            "args": [
             [
              null
             ],
             {
              "frame": {
               "duration": 0,
               "redraw": true
              },
              "fromcurrent": true,
              "mode": "immediate",
              "transition": {
               "duration": 0,
               "easing": "linear"
              }
             }
            ],
            "label": "&#9724;",
            "method": "animate"
           }
          ],
          "direction": "left",
          "pad": {
           "r": 10,
           "t": 70
          },
          "showactive": false,
          "type": "buttons",
          "x": 0.1,
          "xanchor": "right",
          "y": 0,
          "yanchor": "top"
         }
        ],
        "xaxis": {
         "anchor": "y",
         "categoryarray": [
          "Phishing",
          "Ransomware",
          "Man-in-the-Middle",
          "DDoS",
          "SQL Injection",
          "Malware"
         ],
         "categoryorder": "total descending",
         "domain": [
          0,
          1
         ],
         "title": {
          "text": "attack_type"
         }
        },
        "yaxis": {
         "anchor": "x",
         "domain": [
          0,
          1
         ],
         "range": [
          0,
          84
         ],
         "title": {
          "text": "count"
         }
        }
       }
      }
     },
     "metadata": {},
     "output_type": "display_data"
    },
    {
     "name": "stderr",
     "output_type": "stream",
     "text": [
      "C:\\Users\\ab161\\AppData\\Local\\Temp\\ipykernel_1700\\103580417.py:112: FutureWarning:\n",
      "\n",
      "The default of observed=False is deprecated and will be changed to True in a future version of pandas. Pass observed=False to retain current behavior or observed=True to adopt the future default and silence this warning.\n",
      "\n"
     ]
    },
    {
     "data": {
      "application/vnd.plotly.v1+json": {
       "config": {
        "plotlyServerURL": "https://plot.ly"
       },
       "data": [
        {
         "branchvalues": "total",
         "domain": {
          "x": [
           0,
           1
          ],
          "y": [
           0,
           1
          ]
         },
         "hovertemplate": "labels=%{label}<br>financial_loss_(in_million_$)=%{value}<br>parent=%{parent}<br>id=%{id}<extra></extra>",
         "ids": [
          "Banking/Phishing",
          "Banking/Ransomware",
          "Banking/Man-in-the-Middle",
          "Banking/DDoS",
          "Banking/SQL Injection",
          "Banking/Malware",
          "Education/Phishing",
          "Education/Ransomware",
          "Education/Man-in-the-Middle",
          "Education/DDoS",
          "Education/SQL Injection",
          "Education/Malware",
          "Government/Phishing",
          "Government/Ransomware",
          "Government/Man-in-the-Middle",
          "Government/DDoS",
          "Government/SQL Injection",
          "Government/Malware",
          "Healthcare/Phishing",
          "Healthcare/Ransomware",
          "Healthcare/Man-in-the-Middle",
          "Healthcare/DDoS",
          "Healthcare/SQL Injection",
          "Healthcare/Malware",
          "IT/Phishing",
          "IT/Ransomware",
          "IT/Man-in-the-Middle",
          "IT/DDoS",
          "IT/SQL Injection",
          "IT/Malware",
          "Retail/Phishing",
          "Retail/Ransomware",
          "Retail/Man-in-the-Middle",
          "Retail/DDoS",
          "Retail/SQL Injection",
          "Retail/Malware",
          "Telecommunications/Phishing",
          "Telecommunications/Ransomware",
          "Telecommunications/Man-in-the-Middle",
          "Telecommunications/DDoS",
          "Telecommunications/SQL Injection",
          "Telecommunications/Malware",
          "Banking",
          "Education",
          "Government",
          "Healthcare",
          "IT",
          "Retail",
          "Telecommunications"
         ],
         "labels": [
          "Phishing",
          "Ransomware",
          "Man-in-the-Middle",
          "DDoS",
          "SQL Injection",
          "Malware",
          "Phishing",
          "Ransomware",
          "Man-in-the-Middle",
          "DDoS",
          "SQL Injection",
          "Malware",
          "Phishing",
          "Ransomware",
          "Man-in-the-Middle",
          "DDoS",
          "SQL Injection",
          "Malware",
          "Phishing",
          "Ransomware",
          "Man-in-the-Middle",
          "DDoS",
          "SQL Injection",
          "Malware",
          "Phishing",
          "Ransomware",
          "Man-in-the-Middle",
          "DDoS",
          "SQL Injection",
          "Malware",
          "Phishing",
          "Ransomware",
          "Man-in-the-Middle",
          "DDoS",
          "SQL Injection",
          "Malware",
          "Phishing",
          "Ransomware",
          "Man-in-the-Middle",
          "DDoS",
          "SQL Injection",
          "Malware",
          "Banking",
          "Education",
          "Government",
          "Healthcare",
          "IT",
          "Retail",
          "Telecommunications"
         ],
         "name": "",
         "parents": [
          "Banking",
          "Banking",
          "Banking",
          "Banking",
          "Banking",
          "Banking",
          "Education",
          "Education",
          "Education",
          "Education",
          "Education",
          "Education",
          "Government",
          "Government",
          "Government",
          "Government",
          "Government",
          "Government",
          "Healthcare",
          "Healthcare",
          "Healthcare",
          "Healthcare",
          "Healthcare",
          "Healthcare",
          "IT",
          "IT",
          "IT",
          "IT",
          "IT",
          "IT",
          "Retail",
          "Retail",
          "Retail",
          "Retail",
          "Retail",
          "Retail",
          "Telecommunications",
          "Telecommunications",
          "Telecommunications",
          "Telecommunications",
          "Telecommunications",
          "Telecommunications",
          "",
          "",
          "",
          "",
          "",
          "",
          ""
         ],
         "type": "treemap",
         "values": {
          "bdata": "mpmZmdkZtEBmZmZmZumqQOF6FK7H/q1A7FG4HoXRrkAUrkfh+jKtQGZmZmZmyKRAUrgehWvqqkD2KFyPQpCqQClcj8L1QaZAFK5H4XoUrkCamZmZGc+oQHE9CtejLqpAKVyPwvV4q0BmZmZm5pqsQJqZmZmZBqdAAAAAAACTr0Bcj8L1qHutQNejcD2KgalASOF6FC7ZqEApXI/C9dKrQClcj8J1Y6VAZmZmZmawrUDhehSuR3+sQGZmZmamEbBACtejcH0KsUCuR+F6lHyuQIXrUbgeRbFAexSuR+FuskBcj8L1KDOvQD0K16PwpqpA7FG4HkVNsUCkcD0K1xKsQAAAAACALKxA61G4HoVhpkC4HoXrUZ2pQHsUrkdhJqpAzczMzMxqpEAzMzMzs8emQDMzMzMznKhArkfhepQ6sUCF61G4nrurQDMzMzOz1q1AXI/C9Rg91kBSuB6F25nTQOxRuB5VtdRA9ihcj1KM1EDrUbgedTrYQDMzMzPjn9RAKVyPwsX600A=",
          "dtype": "f8"
         }
        }
       ],
       "layout": {
        "legend": {
         "tracegroupgap": 0
        },
        "template": {
         "data": {
          "bar": [
           {
            "error_x": {
             "color": "#f2f5fa"
            },
            "error_y": {
             "color": "#f2f5fa"
            },
            "marker": {
             "line": {
              "color": "rgb(17,17,17)",
              "width": 0.5
             },
             "pattern": {
              "fillmode": "overlay",
              "size": 10,
              "solidity": 0.2
             }
            },
            "type": "bar"
           }
          ],
          "barpolar": [
           {
            "marker": {
             "line": {
              "color": "rgb(17,17,17)",
              "width": 0.5
             },
             "pattern": {
              "fillmode": "overlay",
              "size": 10,
              "solidity": 0.2
             }
            },
            "type": "barpolar"
           }
          ],
          "carpet": [
           {
            "aaxis": {
             "endlinecolor": "#A2B1C6",
             "gridcolor": "#506784",
             "linecolor": "#506784",
             "minorgridcolor": "#506784",
             "startlinecolor": "#A2B1C6"
            },
            "baxis": {
             "endlinecolor": "#A2B1C6",
             "gridcolor": "#506784",
             "linecolor": "#506784",
             "minorgridcolor": "#506784",
             "startlinecolor": "#A2B1C6"
            },
            "type": "carpet"
           }
          ],
          "choropleth": [
           {
            "colorbar": {
             "outlinewidth": 0,
             "ticks": ""
            },
            "type": "choropleth"
           }
          ],
          "contour": [
           {
            "colorbar": {
             "outlinewidth": 0,
             "ticks": ""
            },
            "colorscale": [
             [
              0,
              "#0d0887"
             ],
             [
              0.1111111111111111,
              "#46039f"
             ],
             [
              0.2222222222222222,
              "#7201a8"
             ],
             [
              0.3333333333333333,
              "#9c179e"
             ],
             [
              0.4444444444444444,
              "#bd3786"
             ],
             [
              0.5555555555555556,
              "#d8576b"
             ],
             [
              0.6666666666666666,
              "#ed7953"
             ],
             [
              0.7777777777777778,
              "#fb9f3a"
             ],
             [
              0.8888888888888888,
              "#fdca26"
             ],
             [
              1,
              "#f0f921"
             ]
            ],
            "type": "contour"
           }
          ],
          "contourcarpet": [
           {
            "colorbar": {
             "outlinewidth": 0,
             "ticks": ""
            },
            "type": "contourcarpet"
           }
          ],
          "heatmap": [
           {
            "colorbar": {
             "outlinewidth": 0,
             "ticks": ""
            },
            "colorscale": [
             [
              0,
              "#0d0887"
             ],
             [
              0.1111111111111111,
              "#46039f"
             ],
             [
              0.2222222222222222,
              "#7201a8"
             ],
             [
              0.3333333333333333,
              "#9c179e"
             ],
             [
              0.4444444444444444,
              "#bd3786"
             ],
             [
              0.5555555555555556,
              "#d8576b"
             ],
             [
              0.6666666666666666,
              "#ed7953"
             ],
             [
              0.7777777777777778,
              "#fb9f3a"
             ],
             [
              0.8888888888888888,
              "#fdca26"
             ],
             [
              1,
              "#f0f921"
             ]
            ],
            "type": "heatmap"
           }
          ],
          "histogram": [
           {
            "marker": {
             "pattern": {
              "fillmode": "overlay",
              "size": 10,
              "solidity": 0.2
             }
            },
            "type": "histogram"
           }
          ],
          "histogram2d": [
           {
            "colorbar": {
             "outlinewidth": 0,
             "ticks": ""
            },
            "colorscale": [
             [
              0,
              "#0d0887"
             ],
             [
              0.1111111111111111,
              "#46039f"
             ],
             [
              0.2222222222222222,
              "#7201a8"
             ],
             [
              0.3333333333333333,
              "#9c179e"
             ],
             [
              0.4444444444444444,
              "#bd3786"
             ],
             [
              0.5555555555555556,
              "#d8576b"
             ],
             [
              0.6666666666666666,
              "#ed7953"
             ],
             [
              0.7777777777777778,
              "#fb9f3a"
             ],
             [
              0.8888888888888888,
              "#fdca26"
             ],
             [
              1,
              "#f0f921"
             ]
            ],
            "type": "histogram2d"
           }
          ],
          "histogram2dcontour": [
           {
            "colorbar": {
             "outlinewidth": 0,
             "ticks": ""
            },
            "colorscale": [
             [
              0,
              "#0d0887"
             ],
             [
              0.1111111111111111,
              "#46039f"
             ],
             [
              0.2222222222222222,
              "#7201a8"
             ],
             [
              0.3333333333333333,
              "#9c179e"
             ],
             [
              0.4444444444444444,
              "#bd3786"
             ],
             [
              0.5555555555555556,
              "#d8576b"
             ],
             [
              0.6666666666666666,
              "#ed7953"
             ],
             [
              0.7777777777777778,
              "#fb9f3a"
             ],
             [
              0.8888888888888888,
              "#fdca26"
             ],
             [
              1,
              "#f0f921"
             ]
            ],
            "type": "histogram2dcontour"
           }
          ],
          "mesh3d": [
           {
            "colorbar": {
             "outlinewidth": 0,
             "ticks": ""
            },
            "type": "mesh3d"
           }
          ],
          "parcoords": [
           {
            "line": {
             "colorbar": {
              "outlinewidth": 0,
              "ticks": ""
             }
            },
            "type": "parcoords"
           }
          ],
          "pie": [
           {
            "automargin": true,
            "type": "pie"
           }
          ],
          "scatter": [
           {
            "marker": {
             "line": {
              "color": "#283442"
             }
            },
            "type": "scatter"
           }
          ],
          "scatter3d": [
           {
            "line": {
             "colorbar": {
              "outlinewidth": 0,
              "ticks": ""
             }
            },
            "marker": {
             "colorbar": {
              "outlinewidth": 0,
              "ticks": ""
             }
            },
            "type": "scatter3d"
           }
          ],
          "scattercarpet": [
           {
            "marker": {
             "colorbar": {
              "outlinewidth": 0,
              "ticks": ""
             }
            },
            "type": "scattercarpet"
           }
          ],
          "scattergeo": [
           {
            "marker": {
             "colorbar": {
              "outlinewidth": 0,
              "ticks": ""
             }
            },
            "type": "scattergeo"
           }
          ],
          "scattergl": [
           {
            "marker": {
             "line": {
              "color": "#283442"
             }
            },
            "type": "scattergl"
           }
          ],
          "scattermap": [
           {
            "marker": {
             "colorbar": {
              "outlinewidth": 0,
              "ticks": ""
             }
            },
            "type": "scattermap"
           }
          ],
          "scattermapbox": [
           {
            "marker": {
             "colorbar": {
              "outlinewidth": 0,
              "ticks": ""
             }
            },
            "type": "scattermapbox"
           }
          ],
          "scatterpolar": [
           {
            "marker": {
             "colorbar": {
              "outlinewidth": 0,
              "ticks": ""
             }
            },
            "type": "scatterpolar"
           }
          ],
          "scatterpolargl": [
           {
            "marker": {
             "colorbar": {
              "outlinewidth": 0,
              "ticks": ""
             }
            },
            "type": "scatterpolargl"
           }
          ],
          "scatterternary": [
           {
            "marker": {
             "colorbar": {
              "outlinewidth": 0,
              "ticks": ""
             }
            },
            "type": "scatterternary"
           }
          ],
          "surface": [
           {
            "colorbar": {
             "outlinewidth": 0,
             "ticks": ""
            },
            "colorscale": [
             [
              0,
              "#0d0887"
             ],
             [
              0.1111111111111111,
              "#46039f"
             ],
             [
              0.2222222222222222,
              "#7201a8"
             ],
             [
              0.3333333333333333,
              "#9c179e"
             ],
             [
              0.4444444444444444,
              "#bd3786"
             ],
             [
              0.5555555555555556,
              "#d8576b"
             ],
             [
              0.6666666666666666,
              "#ed7953"
             ],
             [
              0.7777777777777778,
              "#fb9f3a"
             ],
             [
              0.8888888888888888,
              "#fdca26"
             ],
             [
              1,
              "#f0f921"
             ]
            ],
            "type": "surface"
           }
          ],
          "table": [
           {
            "cells": {
             "fill": {
              "color": "#506784"
             },
             "line": {
              "color": "rgb(17,17,17)"
             }
            },
            "header": {
             "fill": {
              "color": "#2a3f5f"
             },
             "line": {
              "color": "rgb(17,17,17)"
             }
            },
            "type": "table"
           }
          ]
         },
         "layout": {
          "annotationdefaults": {
           "arrowcolor": "#f2f5fa",
           "arrowhead": 0,
           "arrowwidth": 1
          },
          "autotypenumbers": "strict",
          "coloraxis": {
           "colorbar": {
            "outlinewidth": 0,
            "ticks": ""
           }
          },
          "colorscale": {
           "diverging": [
            [
             0,
             "#8e0152"
            ],
            [
             0.1,
             "#c51b7d"
            ],
            [
             0.2,
             "#de77ae"
            ],
            [
             0.3,
             "#f1b6da"
            ],
            [
             0.4,
             "#fde0ef"
            ],
            [
             0.5,
             "#f7f7f7"
            ],
            [
             0.6,
             "#e6f5d0"
            ],
            [
             0.7,
             "#b8e186"
            ],
            [
             0.8,
             "#7fbc41"
            ],
            [
             0.9,
             "#4d9221"
            ],
            [
             1,
             "#276419"
            ]
           ],
           "sequential": [
            [
             0,
             "#0d0887"
            ],
            [
             0.1111111111111111,
             "#46039f"
            ],
            [
             0.2222222222222222,
             "#7201a8"
            ],
            [
             0.3333333333333333,
             "#9c179e"
            ],
            [
             0.4444444444444444,
             "#bd3786"
            ],
            [
             0.5555555555555556,
             "#d8576b"
            ],
            [
             0.6666666666666666,
             "#ed7953"
            ],
            [
             0.7777777777777778,
             "#fb9f3a"
            ],
            [
             0.8888888888888888,
             "#fdca26"
            ],
            [
             1,
             "#f0f921"
            ]
           ],
           "sequentialminus": [
            [
             0,
             "#0d0887"
            ],
            [
             0.1111111111111111,
             "#46039f"
            ],
            [
             0.2222222222222222,
             "#7201a8"
            ],
            [
             0.3333333333333333,
             "#9c179e"
            ],
            [
             0.4444444444444444,
             "#bd3786"
            ],
            [
             0.5555555555555556,
             "#d8576b"
            ],
            [
             0.6666666666666666,
             "#ed7953"
            ],
            [
             0.7777777777777778,
             "#fb9f3a"
            ],
            [
             0.8888888888888888,
             "#fdca26"
            ],
            [
             1,
             "#f0f921"
            ]
           ]
          },
          "colorway": [
           "#636efa",
           "#EF553B",
           "#00cc96",
           "#ab63fa",
           "#FFA15A",
           "#19d3f3",
           "#FF6692",
           "#B6E880",
           "#FF97FF",
           "#FECB52"
          ],
          "font": {
           "color": "#f2f5fa"
          },
          "geo": {
           "bgcolor": "rgb(17,17,17)",
           "lakecolor": "rgb(17,17,17)",
           "landcolor": "rgb(17,17,17)",
           "showlakes": true,
           "showland": true,
           "subunitcolor": "#506784"
          },
          "hoverlabel": {
           "align": "left"
          },
          "hovermode": "closest",
          "mapbox": {
           "style": "dark"
          },
          "paper_bgcolor": "rgb(17,17,17)",
          "plot_bgcolor": "rgb(17,17,17)",
          "polar": {
           "angularaxis": {
            "gridcolor": "#506784",
            "linecolor": "#506784",
            "ticks": ""
           },
           "bgcolor": "rgb(17,17,17)",
           "radialaxis": {
            "gridcolor": "#506784",
            "linecolor": "#506784",
            "ticks": ""
           }
          },
          "scene": {
           "xaxis": {
            "backgroundcolor": "rgb(17,17,17)",
            "gridcolor": "#506784",
            "gridwidth": 2,
            "linecolor": "#506784",
            "showbackground": true,
            "ticks": "",
            "zerolinecolor": "#C8D4E3"
           },
           "yaxis": {
            "backgroundcolor": "rgb(17,17,17)",
            "gridcolor": "#506784",
            "gridwidth": 2,
            "linecolor": "#506784",
            "showbackground": true,
            "ticks": "",
            "zerolinecolor": "#C8D4E3"
           },
           "zaxis": {
            "backgroundcolor": "rgb(17,17,17)",
            "gridcolor": "#506784",
            "gridwidth": 2,
            "linecolor": "#506784",
            "showbackground": true,
            "ticks": "",
            "zerolinecolor": "#C8D4E3"
           }
          },
          "shapedefaults": {
           "line": {
            "color": "#f2f5fa"
           }
          },
          "sliderdefaults": {
           "bgcolor": "#C8D4E3",
           "bordercolor": "rgb(17,17,17)",
           "borderwidth": 1,
           "tickwidth": 0
          },
          "ternary": {
           "aaxis": {
            "gridcolor": "#506784",
            "linecolor": "#506784",
            "ticks": ""
           },
           "baxis": {
            "gridcolor": "#506784",
            "linecolor": "#506784",
            "ticks": ""
           },
           "bgcolor": "rgb(17,17,17)",
           "caxis": {
            "gridcolor": "#506784",
            "linecolor": "#506784",
            "ticks": ""
           }
          },
          "title": {
           "x": 0.05
          },
          "updatemenudefaults": {
           "bgcolor": "#506784",
           "borderwidth": 0
          },
          "xaxis": {
           "automargin": true,
           "gridcolor": "#283442",
           "linecolor": "#506784",
           "ticks": "",
           "title": {
            "standoff": 15
           },
           "zerolinecolor": "#283442",
           "zerolinewidth": 2
          },
          "yaxis": {
           "automargin": true,
           "gridcolor": "#283442",
           "linecolor": "#506784",
           "ticks": "",
           "title": {
            "standoff": 15
           },
           "zerolinecolor": "#283442",
           "zerolinewidth": 2
          }
         }
        },
        "title": {
         "text": "Treemap delle Perdite per Settore e Tipo di Attacco"
        }
       }
      }
     },
     "metadata": {},
     "output_type": "display_data"
    }
   ],
   "source": [
    "# advanced_cyber_plots.ipynb - Visualizzazioni Scientifiche Complesse\n",
    "\n",
    "import pandas as pd\n",
    "import plotly.express as px\n",
    "import plotly.graph_objects as go\n",
    "import seaborn as sns\n",
    "import matplotlib.pyplot as plt\n",
    "import plotly.io as pio\n",
    "import numpy as np\n",
    "\n",
    "# Imposta tema scuro per plotly\n",
    "pio.templates.default = \"plotly_dark\"\n",
    "\n",
    "# Carica dataset Cyber Threats\n",
    "df = pd.read_csv(\"Global_Cybersecurity_Threats_2015-2024.csv\")\n",
    "df.columns = df.columns.str.strip().str.lower().str.replace(\" \", \"_\")\n",
    "\n",
    "# === 1. GRAFICI MULTIDIMENSIONALI ===\n",
    "\n",
    "# 1.1 Scatter Plot 3D: perdita vs utenti vs tempo\n",
    "fig_3d = px.scatter_3d(df, \n",
    "    x='incident_resolution_time_(in_hours)', \n",
    "    y='financial_loss_(in_million_$)', \n",
    "    z='number_of_affected_users',\n",
    "    color='attack_type', \n",
    "    symbol='attack_source',\n",
    "    hover_name='target_industry',\n",
    "    title='Relazione tra Perdita, Tempo e Utenti colpiti')\n",
    "fig_3d.show()\n",
    "\n",
    "# 1.2 Parallel Coordinates: analisi multivariata\n",
    "from pandas.api.types import CategoricalDtype\n",
    "cat_type = CategoricalDtype(categories=df['attack_type'].unique(), ordered=True)\n",
    "df['attack_type'] = df['attack_type'].astype(cat_type)\n",
    "par_df = df[['financial_loss_(in_million_$)', 'incident_resolution_time_(in_hours)',\n",
    "             'number_of_affected_users', 'attack_type']].dropna().copy()\n",
    "fig_par = px.parallel_coordinates(par_df,\n",
    "    dimensions=['financial_loss_(in_million_$)', 'incident_resolution_time_(in_hours)', 'number_of_affected_users'],\n",
    "    color=par_df['attack_type'].cat.codes,\n",
    "    labels={'financial_loss_(in_million_$)': 'Loss ($M)',\n",
    "            'incident_resolution_time_(in_hours)': 'Resolution Time (h)',\n",
    "            'number_of_affected_users': 'Users Affected'},\n",
    "    title='Coordinated Parallel Plot per Incidente')\n",
    "fig_par.show()\n",
    "\n",
    "# 1.3 Bubble Matrix: impatto per settore\n",
    "sector_df = df.groupby('target_industry')[['financial_loss_(in_million_$)', 'number_of_affected_users']].sum().reset_index()\n",
    "fig_bubble = px.scatter(sector_df, x='financial_loss_(in_million_$)', y='number_of_affected_users',\n",
    "                        size='financial_loss_(in_million_$)', color='target_industry',\n",
    "                        hover_name='target_industry',\n",
    "                        title='Settori colpiti: Utenti vs Perdite')\n",
    "fig_bubble.show()\n",
    "\n",
    "\n",
    "# === 2. DISTRIBUZIONI & CONFRONTI ===\n",
    "\n",
    "# 2.1 Heatmap: tipo di attacco vs settore\n",
    "pivot = df.pivot_table(index='target_industry', columns='attack_type', \n",
    "                       values='financial_loss_(in_million_$)', aggfunc='sum', fill_value=0)\n",
    "plt.figure(figsize=(14, 8))\n",
    "sns.heatmap(pivot, cmap=\"viridis\", linewidths=0.5, annot=True, fmt=\".1f\")\n",
    "plt.title(\"Heatmap: Perdite per Settore e Tipo di Attacco\")\n",
    "plt.xticks(rotation=45)\n",
    "plt.tight_layout()\n",
    "plt.show()\n",
    "\n",
    "# 2.2 Ridgeline Plot: perdita per tipo (richiede seaborn + disegno multiplo)\n",
    "sns.set(style=\"whitegrid\")\n",
    "plt.figure(figsize=(12, 8))\n",
    "for i, attack in enumerate(df['attack_type'].unique()):\n",
    "    subset = df[df['attack_type'] == attack]\n",
    "    sns.kdeplot(subset['financial_loss_(in_million_$)'], fill=True, label=attack, alpha=0.5)\n",
    "plt.title(\"Distribuzione delle Perdite per Tipologia di Attacco\")\n",
    "plt.xlabel(\"Perdita in Milioni di $\")\n",
    "plt.legend()\n",
    "plt.show()\n",
    "\n",
    "# 2.3 Barplot illustrato: Top 10 incidenti per perdita\n",
    "bar_df = df.sort_values('financial_loss_(in_million_$)', ascending=False).head(10)\n",
    "fig_bar = px.bar(bar_df, \n",
    "    x='financial_loss_(in_million_$)', \n",
    "    y='target_industry',\n",
    "    color='attack_type', \n",
    "    orientation='h',\n",
    "    hover_data=['attack_source', 'number_of_affected_users'],\n",
    "    title='Top 10 Attacchi per Perdite Economiche')\n",
    "fig_bar.update_layout(yaxis={'categoryorder':'total ascending'})\n",
    "fig_bar.show()\n",
    "\n",
    "\n",
    "# === 3. GRAFICI NARRATIVI / TEMPORALI ===\n",
    "\n",
    "# 3.1 Lineplot combinato: attacchi + risposte\n",
    "count_per_year = df.groupby('year').size()\n",
    "defense_per_year = df.groupby('year')['defense_mechanism_used'].nunique()\n",
    "fig_line = go.Figure()\n",
    "fig_line.add_trace(go.Scatter(x=count_per_year.index, y=count_per_year.values, mode='lines+markers', name='Attacchi'))\n",
    "fig_line.add_trace(go.Bar(x=defense_per_year.index, y=defense_per_year.values, name='Difese diverse'))\n",
    "fig_line.update_layout(title=\"Numero di Attacchi vs Diversità di Difese Usate per Anno\",\n",
    "                       xaxis_title='Anno', yaxis_title='Volume', barmode='overlay')\n",
    "fig_line.show()\n",
    "\n",
    "# 3.2 Animated Timeline: tipo attacco nel tempo\n",
    "anim_df = df.groupby(['year', 'attack_type']).size().reset_index(name='count')\n",
    "fig_anim = px.bar(anim_df, x='attack_type', y='count', color='attack_type',\n",
    "                  animation_frame='year', range_y=[0, anim_df['count'].max()+20],\n",
    "                  title='Evoluzione degli Attacchi Informatici nel Tempo')\n",
    "fig_anim.update_layout(xaxis={'categoryorder':'total descending'})\n",
    "fig_anim.show()\n",
    "\n",
    "# 3.3 Treemap: settori più colpiti\n",
    "agg_tree = df.groupby(['target_industry', 'attack_type'])['financial_loss_(in_million_$)'].sum().reset_index()\n",
    "fig_tree = px.treemap(agg_tree, path=['target_industry', 'attack_type'], \n",
    "                      values='financial_loss_(in_million_$)',\n",
    "                      title='Treemap delle Perdite per Settore e Tipo di Attacco')\n",
    "fig_tree.show()\n"
   ]
  },
  {
   "cell_type": "code",
   "execution_count": 1,
   "metadata": {},
   "outputs": [
    {
     "data": {
      "application/vnd.plotly.v1+json": {
       "config": {
        "plotlyServerURL": "https://plot.ly"
       },
       "data": [
        {
         "hovertemplate": "Attack Type=DDoS<br>Year=%{x}<br>Count=%{y}<extra></extra>",
         "legendgroup": "DDoS",
         "line": {
          "color": "#636efa",
          "dash": "solid"
         },
         "marker": {
          "symbol": "circle"
         },
         "mode": "lines",
         "name": "DDoS",
         "orientation": "v",
         "showlegend": true,
         "type": "scatter",
         "x": {
          "bdata": "3wfgB+EH4gfjB+QH5QfmB+cH6Ac=",
          "dtype": "i2"
         },
         "xaxis": "x",
         "y": {
          "bdata": "MjU6PDA4LzYzNg==",
          "dtype": "i1"
         },
         "yaxis": "y"
        },
        {
         "hovertemplate": "Attack Type=Malware<br>Year=%{x}<br>Count=%{y}<extra></extra>",
         "legendgroup": "Malware",
         "line": {
          "color": "#EF553B",
          "dash": "solid"
         },
         "marker": {
          "symbol": "circle"
         },
         "mode": "lines",
         "name": "Malware",
         "orientation": "v",
         "showlegend": true,
         "type": "scatter",
         "x": {
          "bdata": "3wfgB+EH4gfjB+QH5QfmB+cH6Ac=",
          "dtype": "i2"
         },
         "xaxis": "x",
         "y": {
          "bdata": "MykuOCslMUA3Kw==",
          "dtype": "i1"
         },
         "yaxis": "y"
        },
        {
         "hovertemplate": "Attack Type=Man-in-the-Middle<br>Year=%{x}<br>Count=%{y}<extra></extra>",
         "legendgroup": "Man-in-the-Middle",
         "line": {
          "color": "#00cc96",
          "dash": "solid"
         },
         "marker": {
          "symbol": "circle"
         },
         "mode": "lines",
         "name": "Man-in-the-Middle",
         "orientation": "v",
         "showlegend": true,
         "type": "scatter",
         "x": {
          "bdata": "3wfgB+EH4gfjB+QH5QfmB+cH6Ac=",
          "dtype": "i2"
         },
         "xaxis": "x",
         "y": {
          "bdata": "KS86JCwvMCkyLw==",
          "dtype": "i1"
         },
         "yaxis": "y"
        },
        {
         "hovertemplate": "Attack Type=Phishing<br>Year=%{x}<br>Count=%{y}<extra></extra>",
         "legendgroup": "Phishing",
         "line": {
          "color": "#ab63fa",
          "dash": "solid"
         },
         "marker": {
          "symbol": "circle"
         },
         "mode": "lines",
         "name": "Phishing",
         "orientation": "v",
         "showlegend": true,
         "type": "scatter",
         "x": {
          "bdata": "3wfgB+EH4gfjB+QH5QfmB+cH6Ac=",
          "dtype": "i2"
         },
         "xaxis": "x",
         "y": {
          "bdata": "LjdANC09KTkuPg==",
          "dtype": "i1"
         },
         "yaxis": "y"
        },
        {
         "hovertemplate": "Attack Type=Ransomware<br>Year=%{x}<br>Count=%{y}<extra></extra>",
         "legendgroup": "Ransomware",
         "line": {
          "color": "#FFA15A",
          "dash": "solid"
         },
         "marker": {
          "symbol": "circle"
         },
         "mode": "lines",
         "name": "Ransomware",
         "orientation": "v",
         "showlegend": true,
         "type": "scatter",
         "x": {
          "bdata": "3wfgB+EH4gfjB+QH5QfmB+cH6Ac=",
          "dtype": "i2"
         },
         "xaxis": "x",
         "y": {
          "bdata": "LyosMSY7NzgyNQ==",
          "dtype": "i1"
         },
         "yaxis": "y"
        },
        {
         "hovertemplate": "Attack Type=SQL Injection<br>Year=%{x}<br>Count=%{y}<extra></extra>",
         "legendgroup": "SQL Injection",
         "line": {
          "color": "#19d3f3",
          "dash": "solid"
         },
         "marker": {
          "symbol": "circle"
         },
         "mode": "lines",
         "name": "SQL Injection",
         "orientation": "v",
         "showlegend": true,
         "type": "scatter",
         "x": {
          "bdata": "3wfgB+EH4gfjB+QH5QfmB+cH6Ac=",
          "dtype": "i2"
         },
         "xaxis": "x",
         "y": {
          "bdata": "Ki8xOS03Oy4/KA==",
          "dtype": "i1"
         },
         "yaxis": "y"
        }
       ],
       "layout": {
        "legend": {
         "title": {
          "text": "Attack Type"
         },
         "tracegroupgap": 0
        },
        "template": {
         "data": {
          "bar": [
           {
            "error_x": {
             "color": "#2a3f5f"
            },
            "error_y": {
             "color": "#2a3f5f"
            },
            "marker": {
             "line": {
              "color": "#E5ECF6",
              "width": 0.5
             },
             "pattern": {
              "fillmode": "overlay",
              "size": 10,
              "solidity": 0.2
             }
            },
            "type": "bar"
           }
          ],
          "barpolar": [
           {
            "marker": {
             "line": {
              "color": "#E5ECF6",
              "width": 0.5
             },
             "pattern": {
              "fillmode": "overlay",
              "size": 10,
              "solidity": 0.2
             }
            },
            "type": "barpolar"
           }
          ],
          "carpet": [
           {
            "aaxis": {
             "endlinecolor": "#2a3f5f",
             "gridcolor": "white",
             "linecolor": "white",
             "minorgridcolor": "white",
             "startlinecolor": "#2a3f5f"
            },
            "baxis": {
             "endlinecolor": "#2a3f5f",
             "gridcolor": "white",
             "linecolor": "white",
             "minorgridcolor": "white",
             "startlinecolor": "#2a3f5f"
            },
            "type": "carpet"
           }
          ],
          "choropleth": [
           {
            "colorbar": {
             "outlinewidth": 0,
             "ticks": ""
            },
            "type": "choropleth"
           }
          ],
          "contour": [
           {
            "colorbar": {
             "outlinewidth": 0,
             "ticks": ""
            },
            "colorscale": [
             [
              0,
              "#0d0887"
             ],
             [
              0.1111111111111111,
              "#46039f"
             ],
             [
              0.2222222222222222,
              "#7201a8"
             ],
             [
              0.3333333333333333,
              "#9c179e"
             ],
             [
              0.4444444444444444,
              "#bd3786"
             ],
             [
              0.5555555555555556,
              "#d8576b"
             ],
             [
              0.6666666666666666,
              "#ed7953"
             ],
             [
              0.7777777777777778,
              "#fb9f3a"
             ],
             [
              0.8888888888888888,
              "#fdca26"
             ],
             [
              1,
              "#f0f921"
             ]
            ],
            "type": "contour"
           }
          ],
          "contourcarpet": [
           {
            "colorbar": {
             "outlinewidth": 0,
             "ticks": ""
            },
            "type": "contourcarpet"
           }
          ],
          "heatmap": [
           {
            "colorbar": {
             "outlinewidth": 0,
             "ticks": ""
            },
            "colorscale": [
             [
              0,
              "#0d0887"
             ],
             [
              0.1111111111111111,
              "#46039f"
             ],
             [
              0.2222222222222222,
              "#7201a8"
             ],
             [
              0.3333333333333333,
              "#9c179e"
             ],
             [
              0.4444444444444444,
              "#bd3786"
             ],
             [
              0.5555555555555556,
              "#d8576b"
             ],
             [
              0.6666666666666666,
              "#ed7953"
             ],
             [
              0.7777777777777778,
              "#fb9f3a"
             ],
             [
              0.8888888888888888,
              "#fdca26"
             ],
             [
              1,
              "#f0f921"
             ]
            ],
            "type": "heatmap"
           }
          ],
          "histogram": [
           {
            "marker": {
             "pattern": {
              "fillmode": "overlay",
              "size": 10,
              "solidity": 0.2
             }
            },
            "type": "histogram"
           }
          ],
          "histogram2d": [
           {
            "colorbar": {
             "outlinewidth": 0,
             "ticks": ""
            },
            "colorscale": [
             [
              0,
              "#0d0887"
             ],
             [
              0.1111111111111111,
              "#46039f"
             ],
             [
              0.2222222222222222,
              "#7201a8"
             ],
             [
              0.3333333333333333,
              "#9c179e"
             ],
             [
              0.4444444444444444,
              "#bd3786"
             ],
             [
              0.5555555555555556,
              "#d8576b"
             ],
             [
              0.6666666666666666,
              "#ed7953"
             ],
             [
              0.7777777777777778,
              "#fb9f3a"
             ],
             [
              0.8888888888888888,
              "#fdca26"
             ],
             [
              1,
              "#f0f921"
             ]
            ],
            "type": "histogram2d"
           }
          ],
          "histogram2dcontour": [
           {
            "colorbar": {
             "outlinewidth": 0,
             "ticks": ""
            },
            "colorscale": [
             [
              0,
              "#0d0887"
             ],
             [
              0.1111111111111111,
              "#46039f"
             ],
             [
              0.2222222222222222,
              "#7201a8"
             ],
             [
              0.3333333333333333,
              "#9c179e"
             ],
             [
              0.4444444444444444,
              "#bd3786"
             ],
             [
              0.5555555555555556,
              "#d8576b"
             ],
             [
              0.6666666666666666,
              "#ed7953"
             ],
             [
              0.7777777777777778,
              "#fb9f3a"
             ],
             [
              0.8888888888888888,
              "#fdca26"
             ],
             [
              1,
              "#f0f921"
             ]
            ],
            "type": "histogram2dcontour"
           }
          ],
          "mesh3d": [
           {
            "colorbar": {
             "outlinewidth": 0,
             "ticks": ""
            },
            "type": "mesh3d"
           }
          ],
          "parcoords": [
           {
            "line": {
             "colorbar": {
              "outlinewidth": 0,
              "ticks": ""
             }
            },
            "type": "parcoords"
           }
          ],
          "pie": [
           {
            "automargin": true,
            "type": "pie"
           }
          ],
          "scatter": [
           {
            "fillpattern": {
             "fillmode": "overlay",
             "size": 10,
             "solidity": 0.2
            },
            "type": "scatter"
           }
          ],
          "scatter3d": [
           {
            "line": {
             "colorbar": {
              "outlinewidth": 0,
              "ticks": ""
             }
            },
            "marker": {
             "colorbar": {
              "outlinewidth": 0,
              "ticks": ""
             }
            },
            "type": "scatter3d"
           }
          ],
          "scattercarpet": [
           {
            "marker": {
             "colorbar": {
              "outlinewidth": 0,
              "ticks": ""
             }
            },
            "type": "scattercarpet"
           }
          ],
          "scattergeo": [
           {
            "marker": {
             "colorbar": {
              "outlinewidth": 0,
              "ticks": ""
             }
            },
            "type": "scattergeo"
           }
          ],
          "scattergl": [
           {
            "marker": {
             "colorbar": {
              "outlinewidth": 0,
              "ticks": ""
             }
            },
            "type": "scattergl"
           }
          ],
          "scattermap": [
           {
            "marker": {
             "colorbar": {
              "outlinewidth": 0,
              "ticks": ""
             }
            },
            "type": "scattermap"
           }
          ],
          "scattermapbox": [
           {
            "marker": {
             "colorbar": {
              "outlinewidth": 0,
              "ticks": ""
             }
            },
            "type": "scattermapbox"
           }
          ],
          "scatterpolar": [
           {
            "marker": {
             "colorbar": {
              "outlinewidth": 0,
              "ticks": ""
             }
            },
            "type": "scatterpolar"
           }
          ],
          "scatterpolargl": [
           {
            "marker": {
             "colorbar": {
              "outlinewidth": 0,
              "ticks": ""
             }
            },
            "type": "scatterpolargl"
           }
          ],
          "scatterternary": [
           {
            "marker": {
             "colorbar": {
              "outlinewidth": 0,
              "ticks": ""
             }
            },
            "type": "scatterternary"
           }
          ],
          "surface": [
           {
            "colorbar": {
             "outlinewidth": 0,
             "ticks": ""
            },
            "colorscale": [
             [
              0,
              "#0d0887"
             ],
             [
              0.1111111111111111,
              "#46039f"
             ],
             [
              0.2222222222222222,
              "#7201a8"
             ],
             [
              0.3333333333333333,
              "#9c179e"
             ],
             [
              0.4444444444444444,
              "#bd3786"
             ],
             [
              0.5555555555555556,
              "#d8576b"
             ],
             [
              0.6666666666666666,
              "#ed7953"
             ],
             [
              0.7777777777777778,
              "#fb9f3a"
             ],
             [
              0.8888888888888888,
              "#fdca26"
             ],
             [
              1,
              "#f0f921"
             ]
            ],
            "type": "surface"
           }
          ],
          "table": [
           {
            "cells": {
             "fill": {
              "color": "#EBF0F8"
             },
             "line": {
              "color": "white"
             }
            },
            "header": {
             "fill": {
              "color": "#C8D4E3"
             },
             "line": {
              "color": "white"
             }
            },
            "type": "table"
           }
          ]
         },
         "layout": {
          "annotationdefaults": {
           "arrowcolor": "#2a3f5f",
           "arrowhead": 0,
           "arrowwidth": 1
          },
          "autotypenumbers": "strict",
          "coloraxis": {
           "colorbar": {
            "outlinewidth": 0,
            "ticks": ""
           }
          },
          "colorscale": {
           "diverging": [
            [
             0,
             "#8e0152"
            ],
            [
             0.1,
             "#c51b7d"
            ],
            [
             0.2,
             "#de77ae"
            ],
            [
             0.3,
             "#f1b6da"
            ],
            [
             0.4,
             "#fde0ef"
            ],
            [
             0.5,
             "#f7f7f7"
            ],
            [
             0.6,
             "#e6f5d0"
            ],
            [
             0.7,
             "#b8e186"
            ],
            [
             0.8,
             "#7fbc41"
            ],
            [
             0.9,
             "#4d9221"
            ],
            [
             1,
             "#276419"
            ]
           ],
           "sequential": [
            [
             0,
             "#0d0887"
            ],
            [
             0.1111111111111111,
             "#46039f"
            ],
            [
             0.2222222222222222,
             "#7201a8"
            ],
            [
             0.3333333333333333,
             "#9c179e"
            ],
            [
             0.4444444444444444,
             "#bd3786"
            ],
            [
             0.5555555555555556,
             "#d8576b"
            ],
            [
             0.6666666666666666,
             "#ed7953"
            ],
            [
             0.7777777777777778,
             "#fb9f3a"
            ],
            [
             0.8888888888888888,
             "#fdca26"
            ],
            [
             1,
             "#f0f921"
            ]
           ],
           "sequentialminus": [
            [
             0,
             "#0d0887"
            ],
            [
             0.1111111111111111,
             "#46039f"
            ],
            [
             0.2222222222222222,
             "#7201a8"
            ],
            [
             0.3333333333333333,
             "#9c179e"
            ],
            [
             0.4444444444444444,
             "#bd3786"
            ],
            [
             0.5555555555555556,
             "#d8576b"
            ],
            [
             0.6666666666666666,
             "#ed7953"
            ],
            [
             0.7777777777777778,
             "#fb9f3a"
            ],
            [
             0.8888888888888888,
             "#fdca26"
            ],
            [
             1,
             "#f0f921"
            ]
           ]
          },
          "colorway": [
           "#636efa",
           "#EF553B",
           "#00cc96",
           "#ab63fa",
           "#FFA15A",
           "#19d3f3",
           "#FF6692",
           "#B6E880",
           "#FF97FF",
           "#FECB52"
          ],
          "font": {
           "color": "#2a3f5f"
          },
          "geo": {
           "bgcolor": "white",
           "lakecolor": "white",
           "landcolor": "#E5ECF6",
           "showlakes": true,
           "showland": true,
           "subunitcolor": "white"
          },
          "hoverlabel": {
           "align": "left"
          },
          "hovermode": "closest",
          "mapbox": {
           "style": "light"
          },
          "paper_bgcolor": "white",
          "plot_bgcolor": "#E5ECF6",
          "polar": {
           "angularaxis": {
            "gridcolor": "white",
            "linecolor": "white",
            "ticks": ""
           },
           "bgcolor": "#E5ECF6",
           "radialaxis": {
            "gridcolor": "white",
            "linecolor": "white",
            "ticks": ""
           }
          },
          "scene": {
           "xaxis": {
            "backgroundcolor": "#E5ECF6",
            "gridcolor": "white",
            "gridwidth": 2,
            "linecolor": "white",
            "showbackground": true,
            "ticks": "",
            "zerolinecolor": "white"
           },
           "yaxis": {
            "backgroundcolor": "#E5ECF6",
            "gridcolor": "white",
            "gridwidth": 2,
            "linecolor": "white",
            "showbackground": true,
            "ticks": "",
            "zerolinecolor": "white"
           },
           "zaxis": {
            "backgroundcolor": "#E5ECF6",
            "gridcolor": "white",
            "gridwidth": 2,
            "linecolor": "white",
            "showbackground": true,
            "ticks": "",
            "zerolinecolor": "white"
           }
          },
          "shapedefaults": {
           "line": {
            "color": "#2a3f5f"
           }
          },
          "ternary": {
           "aaxis": {
            "gridcolor": "white",
            "linecolor": "white",
            "ticks": ""
           },
           "baxis": {
            "gridcolor": "white",
            "linecolor": "white",
            "ticks": ""
           },
           "bgcolor": "#E5ECF6",
           "caxis": {
            "gridcolor": "white",
            "linecolor": "white",
            "ticks": ""
           }
          },
          "title": {
           "x": 0.05
          },
          "xaxis": {
           "automargin": true,
           "gridcolor": "white",
           "linecolor": "white",
           "ticks": "",
           "title": {
            "standoff": 15
           },
           "zerolinecolor": "white",
           "zerolinewidth": 2
          },
          "yaxis": {
           "automargin": true,
           "gridcolor": "white",
           "linecolor": "white",
           "ticks": "",
           "title": {
            "standoff": 15
           },
           "zerolinecolor": "white",
           "zerolinewidth": 2
          }
         }
        },
        "title": {
         "text": "Andamento delle Minacce Cyber per Tipo (2015–2024)"
        },
        "xaxis": {
         "anchor": "y",
         "domain": [
          0,
          1
         ],
         "title": {
          "text": "Year"
         }
        },
        "yaxis": {
         "anchor": "x",
         "domain": [
          0,
          1
         ],
         "title": {
          "text": "Count"
         }
        }
       }
      }
     },
     "metadata": {},
     "output_type": "display_data"
    },
    {
     "data": {
      "application/vnd.plotly.v1+json": {
       "config": {
        "plotlyServerURL": "https://plot.ly"
       },
       "data": [
        {
         "coloraxis": "coloraxis",
         "geo": "geo",
         "hovertemplate": "Country=%{location}<br>Count=%{z}<extra></extra>",
         "locationmode": "country names",
         "locations": [
          "UK",
          "Brazil",
          "India",
          "Japan",
          "France",
          "Australia",
          "Russia",
          "Germany",
          "USA",
          "China"
         ],
         "name": "",
         "type": "choropleth",
         "z": {
          "bdata": "QQE2ATQBMQExASkBJwEjAR8BGQE=",
          "dtype": "i2"
         }
        }
       ],
       "layout": {
        "coloraxis": {
         "colorbar": {
          "title": {
           "text": "Count"
          }
         },
         "colorscale": [
          [
           0,
           "#0d0887"
          ],
          [
           0.1111111111111111,
           "#46039f"
          ],
          [
           0.2222222222222222,
           "#7201a8"
          ],
          [
           0.3333333333333333,
           "#9c179e"
          ],
          [
           0.4444444444444444,
           "#bd3786"
          ],
          [
           0.5555555555555556,
           "#d8576b"
          ],
          [
           0.6666666666666666,
           "#ed7953"
          ],
          [
           0.7777777777777778,
           "#fb9f3a"
          ],
          [
           0.8888888888888888,
           "#fdca26"
          ],
          [
           1,
           "#f0f921"
          ]
         ]
        },
        "geo": {
         "center": {},
         "domain": {
          "x": [
           0,
           1
          ],
          "y": [
           0,
           1
          ]
         }
        },
        "legend": {
         "tracegroupgap": 0
        },
        "template": {
         "data": {
          "bar": [
           {
            "error_x": {
             "color": "#2a3f5f"
            },
            "error_y": {
             "color": "#2a3f5f"
            },
            "marker": {
             "line": {
              "color": "#E5ECF6",
              "width": 0.5
             },
             "pattern": {
              "fillmode": "overlay",
              "size": 10,
              "solidity": 0.2
             }
            },
            "type": "bar"
           }
          ],
          "barpolar": [
           {
            "marker": {
             "line": {
              "color": "#E5ECF6",
              "width": 0.5
             },
             "pattern": {
              "fillmode": "overlay",
              "size": 10,
              "solidity": 0.2
             }
            },
            "type": "barpolar"
           }
          ],
          "carpet": [
           {
            "aaxis": {
             "endlinecolor": "#2a3f5f",
             "gridcolor": "white",
             "linecolor": "white",
             "minorgridcolor": "white",
             "startlinecolor": "#2a3f5f"
            },
            "baxis": {
             "endlinecolor": "#2a3f5f",
             "gridcolor": "white",
             "linecolor": "white",
             "minorgridcolor": "white",
             "startlinecolor": "#2a3f5f"
            },
            "type": "carpet"
           }
          ],
          "choropleth": [
           {
            "colorbar": {
             "outlinewidth": 0,
             "ticks": ""
            },
            "type": "choropleth"
           }
          ],
          "contour": [
           {
            "colorbar": {
             "outlinewidth": 0,
             "ticks": ""
            },
            "colorscale": [
             [
              0,
              "#0d0887"
             ],
             [
              0.1111111111111111,
              "#46039f"
             ],
             [
              0.2222222222222222,
              "#7201a8"
             ],
             [
              0.3333333333333333,
              "#9c179e"
             ],
             [
              0.4444444444444444,
              "#bd3786"
             ],
             [
              0.5555555555555556,
              "#d8576b"
             ],
             [
              0.6666666666666666,
              "#ed7953"
             ],
             [
              0.7777777777777778,
              "#fb9f3a"
             ],
             [
              0.8888888888888888,
              "#fdca26"
             ],
             [
              1,
              "#f0f921"
             ]
            ],
            "type": "contour"
           }
          ],
          "contourcarpet": [
           {
            "colorbar": {
             "outlinewidth": 0,
             "ticks": ""
            },
            "type": "contourcarpet"
           }
          ],
          "heatmap": [
           {
            "colorbar": {
             "outlinewidth": 0,
             "ticks": ""
            },
            "colorscale": [
             [
              0,
              "#0d0887"
             ],
             [
              0.1111111111111111,
              "#46039f"
             ],
             [
              0.2222222222222222,
              "#7201a8"
             ],
             [
              0.3333333333333333,
              "#9c179e"
             ],
             [
              0.4444444444444444,
              "#bd3786"
             ],
             [
              0.5555555555555556,
              "#d8576b"
             ],
             [
              0.6666666666666666,
              "#ed7953"
             ],
             [
              0.7777777777777778,
              "#fb9f3a"
             ],
             [
              0.8888888888888888,
              "#fdca26"
             ],
             [
              1,
              "#f0f921"
             ]
            ],
            "type": "heatmap"
           }
          ],
          "histogram": [
           {
            "marker": {
             "pattern": {
              "fillmode": "overlay",
              "size": 10,
              "solidity": 0.2
             }
            },
            "type": "histogram"
           }
          ],
          "histogram2d": [
           {
            "colorbar": {
             "outlinewidth": 0,
             "ticks": ""
            },
            "colorscale": [
             [
              0,
              "#0d0887"
             ],
             [
              0.1111111111111111,
              "#46039f"
             ],
             [
              0.2222222222222222,
              "#7201a8"
             ],
             [
              0.3333333333333333,
              "#9c179e"
             ],
             [
              0.4444444444444444,
              "#bd3786"
             ],
             [
              0.5555555555555556,
              "#d8576b"
             ],
             [
              0.6666666666666666,
              "#ed7953"
             ],
             [
              0.7777777777777778,
              "#fb9f3a"
             ],
             [
              0.8888888888888888,
              "#fdca26"
             ],
             [
              1,
              "#f0f921"
             ]
            ],
            "type": "histogram2d"
           }
          ],
          "histogram2dcontour": [
           {
            "colorbar": {
             "outlinewidth": 0,
             "ticks": ""
            },
            "colorscale": [
             [
              0,
              "#0d0887"
             ],
             [
              0.1111111111111111,
              "#46039f"
             ],
             [
              0.2222222222222222,
              "#7201a8"
             ],
             [
              0.3333333333333333,
              "#9c179e"
             ],
             [
              0.4444444444444444,
              "#bd3786"
             ],
             [
              0.5555555555555556,
              "#d8576b"
             ],
             [
              0.6666666666666666,
              "#ed7953"
             ],
             [
              0.7777777777777778,
              "#fb9f3a"
             ],
             [
              0.8888888888888888,
              "#fdca26"
             ],
             [
              1,
              "#f0f921"
             ]
            ],
            "type": "histogram2dcontour"
           }
          ],
          "mesh3d": [
           {
            "colorbar": {
             "outlinewidth": 0,
             "ticks": ""
            },
            "type": "mesh3d"
           }
          ],
          "parcoords": [
           {
            "line": {
             "colorbar": {
              "outlinewidth": 0,
              "ticks": ""
             }
            },
            "type": "parcoords"
           }
          ],
          "pie": [
           {
            "automargin": true,
            "type": "pie"
           }
          ],
          "scatter": [
           {
            "fillpattern": {
             "fillmode": "overlay",
             "size": 10,
             "solidity": 0.2
            },
            "type": "scatter"
           }
          ],
          "scatter3d": [
           {
            "line": {
             "colorbar": {
              "outlinewidth": 0,
              "ticks": ""
             }
            },
            "marker": {
             "colorbar": {
              "outlinewidth": 0,
              "ticks": ""
             }
            },
            "type": "scatter3d"
           }
          ],
          "scattercarpet": [
           {
            "marker": {
             "colorbar": {
              "outlinewidth": 0,
              "ticks": ""
             }
            },
            "type": "scattercarpet"
           }
          ],
          "scattergeo": [
           {
            "marker": {
             "colorbar": {
              "outlinewidth": 0,
              "ticks": ""
             }
            },
            "type": "scattergeo"
           }
          ],
          "scattergl": [
           {
            "marker": {
             "colorbar": {
              "outlinewidth": 0,
              "ticks": ""
             }
            },
            "type": "scattergl"
           }
          ],
          "scattermap": [
           {
            "marker": {
             "colorbar": {
              "outlinewidth": 0,
              "ticks": ""
             }
            },
            "type": "scattermap"
           }
          ],
          "scattermapbox": [
           {
            "marker": {
             "colorbar": {
              "outlinewidth": 0,
              "ticks": ""
             }
            },
            "type": "scattermapbox"
           }
          ],
          "scatterpolar": [
           {
            "marker": {
             "colorbar": {
              "outlinewidth": 0,
              "ticks": ""
             }
            },
            "type": "scatterpolar"
           }
          ],
          "scatterpolargl": [
           {
            "marker": {
             "colorbar": {
              "outlinewidth": 0,
              "ticks": ""
             }
            },
            "type": "scatterpolargl"
           }
          ],
          "scatterternary": [
           {
            "marker": {
             "colorbar": {
              "outlinewidth": 0,
              "ticks": ""
             }
            },
            "type": "scatterternary"
           }
          ],
          "surface": [
           {
            "colorbar": {
             "outlinewidth": 0,
             "ticks": ""
            },
            "colorscale": [
             [
              0,
              "#0d0887"
             ],
             [
              0.1111111111111111,
              "#46039f"
             ],
             [
              0.2222222222222222,
              "#7201a8"
             ],
             [
              0.3333333333333333,
              "#9c179e"
             ],
             [
              0.4444444444444444,
              "#bd3786"
             ],
             [
              0.5555555555555556,
              "#d8576b"
             ],
             [
              0.6666666666666666,
              "#ed7953"
             ],
             [
              0.7777777777777778,
              "#fb9f3a"
             ],
             [
              0.8888888888888888,
              "#fdca26"
             ],
             [
              1,
              "#f0f921"
             ]
            ],
            "type": "surface"
           }
          ],
          "table": [
           {
            "cells": {
             "fill": {
              "color": "#EBF0F8"
             },
             "line": {
              "color": "white"
             }
            },
            "header": {
             "fill": {
              "color": "#C8D4E3"
             },
             "line": {
              "color": "white"
             }
            },
            "type": "table"
           }
          ]
         },
         "layout": {
          "annotationdefaults": {
           "arrowcolor": "#2a3f5f",
           "arrowhead": 0,
           "arrowwidth": 1
          },
          "autotypenumbers": "strict",
          "coloraxis": {
           "colorbar": {
            "outlinewidth": 0,
            "ticks": ""
           }
          },
          "colorscale": {
           "diverging": [
            [
             0,
             "#8e0152"
            ],
            [
             0.1,
             "#c51b7d"
            ],
            [
             0.2,
             "#de77ae"
            ],
            [
             0.3,
             "#f1b6da"
            ],
            [
             0.4,
             "#fde0ef"
            ],
            [
             0.5,
             "#f7f7f7"
            ],
            [
             0.6,
             "#e6f5d0"
            ],
            [
             0.7,
             "#b8e186"
            ],
            [
             0.8,
             "#7fbc41"
            ],
            [
             0.9,
             "#4d9221"
            ],
            [
             1,
             "#276419"
            ]
           ],
           "sequential": [
            [
             0,
             "#0d0887"
            ],
            [
             0.1111111111111111,
             "#46039f"
            ],
            [
             0.2222222222222222,
             "#7201a8"
            ],
            [
             0.3333333333333333,
             "#9c179e"
            ],
            [
             0.4444444444444444,
             "#bd3786"
            ],
            [
             0.5555555555555556,
             "#d8576b"
            ],
            [
             0.6666666666666666,
             "#ed7953"
            ],
            [
             0.7777777777777778,
             "#fb9f3a"
            ],
            [
             0.8888888888888888,
             "#fdca26"
            ],
            [
             1,
             "#f0f921"
            ]
           ],
           "sequentialminus": [
            [
             0,
             "#0d0887"
            ],
            [
             0.1111111111111111,
             "#46039f"
            ],
            [
             0.2222222222222222,
             "#7201a8"
            ],
            [
             0.3333333333333333,
             "#9c179e"
            ],
            [
             0.4444444444444444,
             "#bd3786"
            ],
            [
             0.5555555555555556,
             "#d8576b"
            ],
            [
             0.6666666666666666,
             "#ed7953"
            ],
            [
             0.7777777777777778,
             "#fb9f3a"
            ],
            [
             0.8888888888888888,
             "#fdca26"
            ],
            [
             1,
             "#f0f921"
            ]
           ]
          },
          "colorway": [
           "#636efa",
           "#EF553B",
           "#00cc96",
           "#ab63fa",
           "#FFA15A",
           "#19d3f3",
           "#FF6692",
           "#B6E880",
           "#FF97FF",
           "#FECB52"
          ],
          "font": {
           "color": "#2a3f5f"
          },
          "geo": {
           "bgcolor": "white",
           "lakecolor": "white",
           "landcolor": "#E5ECF6",
           "showlakes": true,
           "showland": true,
           "subunitcolor": "white"
          },
          "hoverlabel": {
           "align": "left"
          },
          "hovermode": "closest",
          "mapbox": {
           "style": "light"
          },
          "paper_bgcolor": "white",
          "plot_bgcolor": "#E5ECF6",
          "polar": {
           "angularaxis": {
            "gridcolor": "white",
            "linecolor": "white",
            "ticks": ""
           },
           "bgcolor": "#E5ECF6",
           "radialaxis": {
            "gridcolor": "white",
            "linecolor": "white",
            "ticks": ""
           }
          },
          "scene": {
           "xaxis": {
            "backgroundcolor": "#E5ECF6",
            "gridcolor": "white",
            "gridwidth": 2,
            "linecolor": "white",
            "showbackground": true,
            "ticks": "",
            "zerolinecolor": "white"
           },
           "yaxis": {
            "backgroundcolor": "#E5ECF6",
            "gridcolor": "white",
            "gridwidth": 2,
            "linecolor": "white",
            "showbackground": true,
            "ticks": "",
            "zerolinecolor": "white"
           },
           "zaxis": {
            "backgroundcolor": "#E5ECF6",
            "gridcolor": "white",
            "gridwidth": 2,
            "linecolor": "white",
            "showbackground": true,
            "ticks": "",
            "zerolinecolor": "white"
           }
          },
          "shapedefaults": {
           "line": {
            "color": "#2a3f5f"
           }
          },
          "ternary": {
           "aaxis": {
            "gridcolor": "white",
            "linecolor": "white",
            "ticks": ""
           },
           "baxis": {
            "gridcolor": "white",
            "linecolor": "white",
            "ticks": ""
           },
           "bgcolor": "#E5ECF6",
           "caxis": {
            "gridcolor": "white",
            "linecolor": "white",
            "ticks": ""
           }
          },
          "title": {
           "x": 0.05
          },
          "xaxis": {
           "automargin": true,
           "gridcolor": "white",
           "linecolor": "white",
           "ticks": "",
           "title": {
            "standoff": 15
           },
           "zerolinecolor": "white",
           "zerolinewidth": 2
          },
          "yaxis": {
           "automargin": true,
           "gridcolor": "white",
           "linecolor": "white",
           "ticks": "",
           "title": {
            "standoff": 15
           },
           "zerolinecolor": "white",
           "zerolinewidth": 2
          }
         }
        },
        "title": {
         "text": "Distribuzione Geografica delle Cyber Threats"
        }
       }
      }
     },
     "metadata": {},
     "output_type": "display_data"
    },
    {
     "data": {
      "application/vnd.plotly.v1+json": {
       "config": {
        "plotlyServerURL": "https://plot.ly"
       },
       "data": [
        {
         "hovertemplate": "Target Industry=%{x}<br>Numero di Attacchi=%{y}<extra></extra>",
         "legendgroup": "",
         "marker": {
          "color": "#636efa",
          "pattern": {
           "shape": ""
          }
         },
         "name": "",
         "orientation": "v",
         "showlegend": false,
         "textposition": "auto",
         "type": "bar",
         "x": [
          "IT",
          "Banking",
          "Healthcare",
          "Retail",
          "Education",
          "Government",
          "Telecommunications"
         ],
         "xaxis": "x",
         "y": {
          "bdata": "3gG9Aa0BpwGjAZMBkwE=",
          "dtype": "i2"
         },
         "yaxis": "y"
        }
       ],
       "layout": {
        "barmode": "relative",
        "legend": {
         "tracegroupgap": 0
        },
        "template": {
         "data": {
          "bar": [
           {
            "error_x": {
             "color": "#2a3f5f"
            },
            "error_y": {
             "color": "#2a3f5f"
            },
            "marker": {
             "line": {
              "color": "#E5ECF6",
              "width": 0.5
             },
             "pattern": {
              "fillmode": "overlay",
              "size": 10,
              "solidity": 0.2
             }
            },
            "type": "bar"
           }
          ],
          "barpolar": [
           {
            "marker": {
             "line": {
              "color": "#E5ECF6",
              "width": 0.5
             },
             "pattern": {
              "fillmode": "overlay",
              "size": 10,
              "solidity": 0.2
             }
            },
            "type": "barpolar"
           }
          ],
          "carpet": [
           {
            "aaxis": {
             "endlinecolor": "#2a3f5f",
             "gridcolor": "white",
             "linecolor": "white",
             "minorgridcolor": "white",
             "startlinecolor": "#2a3f5f"
            },
            "baxis": {
             "endlinecolor": "#2a3f5f",
             "gridcolor": "white",
             "linecolor": "white",
             "minorgridcolor": "white",
             "startlinecolor": "#2a3f5f"
            },
            "type": "carpet"
           }
          ],
          "choropleth": [
           {
            "colorbar": {
             "outlinewidth": 0,
             "ticks": ""
            },
            "type": "choropleth"
           }
          ],
          "contour": [
           {
            "colorbar": {
             "outlinewidth": 0,
             "ticks": ""
            },
            "colorscale": [
             [
              0,
              "#0d0887"
             ],
             [
              0.1111111111111111,
              "#46039f"
             ],
             [
              0.2222222222222222,
              "#7201a8"
             ],
             [
              0.3333333333333333,
              "#9c179e"
             ],
             [
              0.4444444444444444,
              "#bd3786"
             ],
             [
              0.5555555555555556,
              "#d8576b"
             ],
             [
              0.6666666666666666,
              "#ed7953"
             ],
             [
              0.7777777777777778,
              "#fb9f3a"
             ],
             [
              0.8888888888888888,
              "#fdca26"
             ],
             [
              1,
              "#f0f921"
             ]
            ],
            "type": "contour"
           }
          ],
          "contourcarpet": [
           {
            "colorbar": {
             "outlinewidth": 0,
             "ticks": ""
            },
            "type": "contourcarpet"
           }
          ],
          "heatmap": [
           {
            "colorbar": {
             "outlinewidth": 0,
             "ticks": ""
            },
            "colorscale": [
             [
              0,
              "#0d0887"
             ],
             [
              0.1111111111111111,
              "#46039f"
             ],
             [
              0.2222222222222222,
              "#7201a8"
             ],
             [
              0.3333333333333333,
              "#9c179e"
             ],
             [
              0.4444444444444444,
              "#bd3786"
             ],
             [
              0.5555555555555556,
              "#d8576b"
             ],
             [
              0.6666666666666666,
              "#ed7953"
             ],
             [
              0.7777777777777778,
              "#fb9f3a"
             ],
             [
              0.8888888888888888,
              "#fdca26"
             ],
             [
              1,
              "#f0f921"
             ]
            ],
            "type": "heatmap"
           }
          ],
          "histogram": [
           {
            "marker": {
             "pattern": {
              "fillmode": "overlay",
              "size": 10,
              "solidity": 0.2
             }
            },
            "type": "histogram"
           }
          ],
          "histogram2d": [
           {
            "colorbar": {
             "outlinewidth": 0,
             "ticks": ""
            },
            "colorscale": [
             [
              0,
              "#0d0887"
             ],
             [
              0.1111111111111111,
              "#46039f"
             ],
             [
              0.2222222222222222,
              "#7201a8"
             ],
             [
              0.3333333333333333,
              "#9c179e"
             ],
             [
              0.4444444444444444,
              "#bd3786"
             ],
             [
              0.5555555555555556,
              "#d8576b"
             ],
             [
              0.6666666666666666,
              "#ed7953"
             ],
             [
              0.7777777777777778,
              "#fb9f3a"
             ],
             [
              0.8888888888888888,
              "#fdca26"
             ],
             [
              1,
              "#f0f921"
             ]
            ],
            "type": "histogram2d"
           }
          ],
          "histogram2dcontour": [
           {
            "colorbar": {
             "outlinewidth": 0,
             "ticks": ""
            },
            "colorscale": [
             [
              0,
              "#0d0887"
             ],
             [
              0.1111111111111111,
              "#46039f"
             ],
             [
              0.2222222222222222,
              "#7201a8"
             ],
             [
              0.3333333333333333,
              "#9c179e"
             ],
             [
              0.4444444444444444,
              "#bd3786"
             ],
             [
              0.5555555555555556,
              "#d8576b"
             ],
             [
              0.6666666666666666,
              "#ed7953"
             ],
             [
              0.7777777777777778,
              "#fb9f3a"
             ],
             [
              0.8888888888888888,
              "#fdca26"
             ],
             [
              1,
              "#f0f921"
             ]
            ],
            "type": "histogram2dcontour"
           }
          ],
          "mesh3d": [
           {
            "colorbar": {
             "outlinewidth": 0,
             "ticks": ""
            },
            "type": "mesh3d"
           }
          ],
          "parcoords": [
           {
            "line": {
             "colorbar": {
              "outlinewidth": 0,
              "ticks": ""
             }
            },
            "type": "parcoords"
           }
          ],
          "pie": [
           {
            "automargin": true,
            "type": "pie"
           }
          ],
          "scatter": [
           {
            "fillpattern": {
             "fillmode": "overlay",
             "size": 10,
             "solidity": 0.2
            },
            "type": "scatter"
           }
          ],
          "scatter3d": [
           {
            "line": {
             "colorbar": {
              "outlinewidth": 0,
              "ticks": ""
             }
            },
            "marker": {
             "colorbar": {
              "outlinewidth": 0,
              "ticks": ""
             }
            },
            "type": "scatter3d"
           }
          ],
          "scattercarpet": [
           {
            "marker": {
             "colorbar": {
              "outlinewidth": 0,
              "ticks": ""
             }
            },
            "type": "scattercarpet"
           }
          ],
          "scattergeo": [
           {
            "marker": {
             "colorbar": {
              "outlinewidth": 0,
              "ticks": ""
             }
            },
            "type": "scattergeo"
           }
          ],
          "scattergl": [
           {
            "marker": {
             "colorbar": {
              "outlinewidth": 0,
              "ticks": ""
             }
            },
            "type": "scattergl"
           }
          ],
          "scattermap": [
           {
            "marker": {
             "colorbar": {
              "outlinewidth": 0,
              "ticks": ""
             }
            },
            "type": "scattermap"
           }
          ],
          "scattermapbox": [
           {
            "marker": {
             "colorbar": {
              "outlinewidth": 0,
              "ticks": ""
             }
            },
            "type": "scattermapbox"
           }
          ],
          "scatterpolar": [
           {
            "marker": {
             "colorbar": {
              "outlinewidth": 0,
              "ticks": ""
             }
            },
            "type": "scatterpolar"
           }
          ],
          "scatterpolargl": [
           {
            "marker": {
             "colorbar": {
              "outlinewidth": 0,
              "ticks": ""
             }
            },
            "type": "scatterpolargl"
           }
          ],
          "scatterternary": [
           {
            "marker": {
             "colorbar": {
              "outlinewidth": 0,
              "ticks": ""
             }
            },
            "type": "scatterternary"
           }
          ],
          "surface": [
           {
            "colorbar": {
             "outlinewidth": 0,
             "ticks": ""
            },
            "colorscale": [
             [
              0,
              "#0d0887"
             ],
             [
              0.1111111111111111,
              "#46039f"
             ],
             [
              0.2222222222222222,
              "#7201a8"
             ],
             [
              0.3333333333333333,
              "#9c179e"
             ],
             [
              0.4444444444444444,
              "#bd3786"
             ],
             [
              0.5555555555555556,
              "#d8576b"
             ],
             [
              0.6666666666666666,
              "#ed7953"
             ],
             [
              0.7777777777777778,
              "#fb9f3a"
             ],
             [
              0.8888888888888888,
              "#fdca26"
             ],
             [
              1,
              "#f0f921"
             ]
            ],
            "type": "surface"
           }
          ],
          "table": [
           {
            "cells": {
             "fill": {
              "color": "#EBF0F8"
             },
             "line": {
              "color": "white"
             }
            },
            "header": {
             "fill": {
              "color": "#C8D4E3"
             },
             "line": {
              "color": "white"
             }
            },
            "type": "table"
           }
          ]
         },
         "layout": {
          "annotationdefaults": {
           "arrowcolor": "#2a3f5f",
           "arrowhead": 0,
           "arrowwidth": 1
          },
          "autotypenumbers": "strict",
          "coloraxis": {
           "colorbar": {
            "outlinewidth": 0,
            "ticks": ""
           }
          },
          "colorscale": {
           "diverging": [
            [
             0,
             "#8e0152"
            ],
            [
             0.1,
             "#c51b7d"
            ],
            [
             0.2,
             "#de77ae"
            ],
            [
             0.3,
             "#f1b6da"
            ],
            [
             0.4,
             "#fde0ef"
            ],
            [
             0.5,
             "#f7f7f7"
            ],
            [
             0.6,
             "#e6f5d0"
            ],
            [
             0.7,
             "#b8e186"
            ],
            [
             0.8,
             "#7fbc41"
            ],
            [
             0.9,
             "#4d9221"
            ],
            [
             1,
             "#276419"
            ]
           ],
           "sequential": [
            [
             0,
             "#0d0887"
            ],
            [
             0.1111111111111111,
             "#46039f"
            ],
            [
             0.2222222222222222,
             "#7201a8"
            ],
            [
             0.3333333333333333,
             "#9c179e"
            ],
            [
             0.4444444444444444,
             "#bd3786"
            ],
            [
             0.5555555555555556,
             "#d8576b"
            ],
            [
             0.6666666666666666,
             "#ed7953"
            ],
            [
             0.7777777777777778,
             "#fb9f3a"
            ],
            [
             0.8888888888888888,
             "#fdca26"
            ],
            [
             1,
             "#f0f921"
            ]
           ],
           "sequentialminus": [
            [
             0,
             "#0d0887"
            ],
            [
             0.1111111111111111,
             "#46039f"
            ],
            [
             0.2222222222222222,
             "#7201a8"
            ],
            [
             0.3333333333333333,
             "#9c179e"
            ],
            [
             0.4444444444444444,
             "#bd3786"
            ],
            [
             0.5555555555555556,
             "#d8576b"
            ],
            [
             0.6666666666666666,
             "#ed7953"
            ],
            [
             0.7777777777777778,
             "#fb9f3a"
            ],
            [
             0.8888888888888888,
             "#fdca26"
            ],
            [
             1,
             "#f0f921"
            ]
           ]
          },
          "colorway": [
           "#636efa",
           "#EF553B",
           "#00cc96",
           "#ab63fa",
           "#FFA15A",
           "#19d3f3",
           "#FF6692",
           "#B6E880",
           "#FF97FF",
           "#FECB52"
          ],
          "font": {
           "color": "#2a3f5f"
          },
          "geo": {
           "bgcolor": "white",
           "lakecolor": "white",
           "landcolor": "#E5ECF6",
           "showlakes": true,
           "showland": true,
           "subunitcolor": "white"
          },
          "hoverlabel": {
           "align": "left"
          },
          "hovermode": "closest",
          "mapbox": {
           "style": "light"
          },
          "paper_bgcolor": "white",
          "plot_bgcolor": "#E5ECF6",
          "polar": {
           "angularaxis": {
            "gridcolor": "white",
            "linecolor": "white",
            "ticks": ""
           },
           "bgcolor": "#E5ECF6",
           "radialaxis": {
            "gridcolor": "white",
            "linecolor": "white",
            "ticks": ""
           }
          },
          "scene": {
           "xaxis": {
            "backgroundcolor": "#E5ECF6",
            "gridcolor": "white",
            "gridwidth": 2,
            "linecolor": "white",
            "showbackground": true,
            "ticks": "",
            "zerolinecolor": "white"
           },
           "yaxis": {
            "backgroundcolor": "#E5ECF6",
            "gridcolor": "white",
            "gridwidth": 2,
            "linecolor": "white",
            "showbackground": true,
            "ticks": "",
            "zerolinecolor": "white"
           },
           "zaxis": {
            "backgroundcolor": "#E5ECF6",
            "gridcolor": "white",
            "gridwidth": 2,
            "linecolor": "white",
            "showbackground": true,
            "ticks": "",
            "zerolinecolor": "white"
           }
          },
          "shapedefaults": {
           "line": {
            "color": "#2a3f5f"
           }
          },
          "ternary": {
           "aaxis": {
            "gridcolor": "white",
            "linecolor": "white",
            "ticks": ""
           },
           "baxis": {
            "gridcolor": "white",
            "linecolor": "white",
            "ticks": ""
           },
           "bgcolor": "#E5ECF6",
           "caxis": {
            "gridcolor": "white",
            "linecolor": "white",
            "ticks": ""
           }
          },
          "title": {
           "x": 0.05
          },
          "xaxis": {
           "automargin": true,
           "gridcolor": "white",
           "linecolor": "white",
           "ticks": "",
           "title": {
            "standoff": 15
           },
           "zerolinecolor": "white",
           "zerolinewidth": 2
          },
          "yaxis": {
           "automargin": true,
           "gridcolor": "white",
           "linecolor": "white",
           "ticks": "",
           "title": {
            "standoff": 15
           },
           "zerolinecolor": "white",
           "zerolinewidth": 2
          }
         }
        },
        "title": {
         "text": "Top 10 Settori Colpiti"
        },
        "xaxis": {
         "anchor": "y",
         "domain": [
          0,
          1
         ],
         "title": {
          "text": "Target Industry"
         }
        },
        "yaxis": {
         "anchor": "x",
         "domain": [
          0,
          1
         ],
         "title": {
          "text": "Numero di Attacchi"
         }
        }
       }
      }
     },
     "metadata": {},
     "output_type": "display_data"
    },
    {
     "name": "stderr",
     "output_type": "stream",
     "text": [
      "C:\\Users\\ab161\\AppData\\Local\\Temp\\ipykernel_2736\\3918245278.py:39: FutureWarning:\n",
      "\n",
      "\n",
      "\n",
      "Passing `palette` without assigning `hue` is deprecated and will be removed in v0.14.0. Assign the `y` variable to `hue` and set `legend=False` for the same effect.\n",
      "\n",
      "\n"
     ]
    },
    {
     "data": {
      "image/png": "[encoded data removed]",
      "text/plain": [
       "<Figure size 1000x500 with 1 Axes>"
      ]
     },
     "metadata": {},
     "output_type": "display_data"
    },
    {
     "name": "stderr",
     "output_type": "stream",
     "text": [
      "C:\\Users\\ab161\\AppData\\Local\\Temp\\ipykernel_2736\\3918245278.py:48: FutureWarning:\n",
      "\n",
      "\n",
      "\n",
      "Passing `palette` without assigning `hue` is deprecated and will be removed in v0.14.0. Assign the `x` variable to `hue` and set `legend=False` for the same effect.\n",
      "\n",
      "\n"
     ]
    },
    {
     "data": {
      "image/png": "[encoded data removed]",
      "text/plain": [
       "<Figure size 1000x500 with 1 Axes>"
      ]
     },
     "metadata": {},
     "output_type": "display_data"
    },
    {
     "name": "stderr",
     "output_type": "stream",
     "text": [
      "C:\\Users\\ab161\\AppData\\Local\\Temp\\ipykernel_2736\\3918245278.py:57: FutureWarning:\n",
      "\n",
      "\n",
      "\n",
      "Passing `palette` without assigning `hue` is deprecated and will be removed in v0.14.0. Assign the `y` variable to `hue` and set `legend=False` for the same effect.\n",
      "\n",
      "\n"
     ]
    },
    {
     "data": {
      "image/png": "[encoded data removed]",
      "text/plain": [
       "<Figure size 800x500 with 1 Axes>"
      ]
     },
     "metadata": {},
     "output_type": "display_data"
    },
    {
     "data": {
      "application/vnd.plotly.v1+json": {
       "config": {
        "plotlyServerURL": "https://plot.ly"
       },
       "data": [
        {
         "branchvalues": "total",
         "domain": {
          "x": [
           0,
           1
          ],
          "y": [
           0,
           1
          ]
         },
         "hovertemplate": "labels=%{label}<br>Count=%{value}<br>parent=%{parent}<br>id=%{id}<extra></extra>",
         "ids": [
          "Hacker Group/Social Engineering",
          "Hacker Group/Unpatched Software",
          "Hacker Group/Weak Passwords",
          "Hacker Group/Zero-day",
          "Insider/Social Engineering",
          "Insider/Unpatched Software",
          "Insider/Weak Passwords",
          "Insider/Zero-day",
          "Nation-state/Social Engineering",
          "Nation-state/Unpatched Software",
          "Nation-state/Weak Passwords",
          "Nation-state/Zero-day",
          "Unknown/Social Engineering",
          "Unknown/Unpatched Software",
          "Unknown/Weak Passwords",
          "Unknown/Zero-day",
          "Hacker Group",
          "Insider",
          "Nation-state",
          "Unknown"
         ],
         "labels": [
          "Social Engineering",
          "Unpatched Software",
          "Weak Passwords",
          "Zero-day",
          "Social Engineering",
          "Unpatched Software",
          "Weak Passwords",
          "Zero-day",
          "Social Engineering",
          "Unpatched Software",
          "Weak Passwords",
          "Zero-day",
          "Social Engineering",
          "Unpatched Software",
          "Weak Passwords",
          "Zero-day",
          "Hacker Group",
          "Insider",
          "Nation-state",
          "Unknown"
         ],
         "name": "",
         "parents": [
          "Hacker Group",
          "Hacker Group",
          "Hacker Group",
          "Hacker Group",
          "Insider",
          "Insider",
          "Insider",
          "Insider",
          "Nation-state",
          "Nation-state",
          "Nation-state",
          "Nation-state",
          "Unknown",
          "Unknown",
          "Unknown",
          "Unknown",
          "",
          "",
          "",
          ""
         ],
         "type": "sunburst",
         "values": {
          "bdata": "AAAAAADAZ0AAAAAAAOBjQAAAAAAAgGRAAAAAAACgZUAAAAAAAEBnQAAAAAAAQGlAAAAAAADgZkAAAAAAAKBmQAAAAAAAwGdAAAAAAABAaEAAAAAAAEBoQAAAAAAAAGtAAAAAAACgZkAAAAAAAOBmQAAAAAAAoGdAAAAAAADgakAAAAAAAHCFQAAAAAAAgIdAAAAAAADQiEAAAAAAAACIQA==",
          "dtype": "f8"
         }
        }
       ],
       "layout": {
        "legend": {
         "tracegroupgap": 0
        },
        "template": {
         "data": {
          "bar": [
           {
            "error_x": {
             "color": "#2a3f5f"
            },
            "error_y": {
             "color": "#2a3f5f"
            },
            "marker": {
             "line": {
              "color": "#E5ECF6",
              "width": 0.5
             },
             "pattern": {
              "fillmode": "overlay",
              "size": 10,
              "solidity": 0.2
             }
            },
            "type": "bar"
           }
          ],
          "barpolar": [
           {
            "marker": {
             "line": {
              "color": "#E5ECF6",
              "width": 0.5
             },
             "pattern": {
              "fillmode": "overlay",
              "size": 10,
              "solidity": 0.2
             }
            },
            "type": "barpolar"
           }
          ],
          "carpet": [
           {
            "aaxis": {
             "endlinecolor": "#2a3f5f",
             "gridcolor": "white",
             "linecolor": "white",
             "minorgridcolor": "white",
             "startlinecolor": "#2a3f5f"
            },
            "baxis": {
             "endlinecolor": "#2a3f5f",
             "gridcolor": "white",
             "linecolor": "white",
             "minorgridcolor": "white",
             "startlinecolor": "#2a3f5f"
            },
            "type": "carpet"
           }
          ],
          "choropleth": [
           {
            "colorbar": {
             "outlinewidth": 0,
             "ticks": ""
            },
            "type": "choropleth"
           }
          ],
          "contour": [
           {
            "colorbar": {
             "outlinewidth": 0,
             "ticks": ""
            },
            "colorscale": [
             [
              0,
              "#0d0887"
             ],
             [
              0.1111111111111111,
              "#46039f"
             ],
             [
              0.2222222222222222,
              "#7201a8"
             ],
             [
              0.3333333333333333,
              "#9c179e"
             ],
             [
              0.4444444444444444,
              "#bd3786"
             ],
             [
              0.5555555555555556,
              "#d8576b"
             ],
             [
              0.6666666666666666,
              "#ed7953"
             ],
             [
              0.7777777777777778,
              "#fb9f3a"
             ],
             [
              0.8888888888888888,
              "#fdca26"
             ],
             [
              1,
              "#f0f921"
             ]
            ],
            "type": "contour"
           }
          ],
          "contourcarpet": [
           {
            "colorbar": {
             "outlinewidth": 0,
             "ticks": ""
            },
            "type": "contourcarpet"
           }
          ],
          "heatmap": [
           {
            "colorbar": {
             "outlinewidth": 0,
             "ticks": ""
            },
            "colorscale": [
             [
              0,
              "#0d0887"
             ],
             [
              0.1111111111111111,
              "#46039f"
             ],
             [
              0.2222222222222222,
              "#7201a8"
             ],
             [
              0.3333333333333333,
              "#9c179e"
             ],
             [
              0.4444444444444444,
              "#bd3786"
             ],
             [
              0.5555555555555556,
              "#d8576b"
             ],
             [
              0.6666666666666666,
              "#ed7953"
             ],
             [
              0.7777777777777778,
              "#fb9f3a"
             ],
             [
              0.8888888888888888,
              "#fdca26"
             ],
             [
              1,
              "#f0f921"
             ]
            ],
            "type": "heatmap"
           }
          ],
          "histogram": [
           {
            "marker": {
             "pattern": {
              "fillmode": "overlay",
              "size": 10,
              "solidity": 0.2
             }
            },
            "type": "histogram"
           }
          ],
          "histogram2d": [
           {
            "colorbar": {
             "outlinewidth": 0,
             "ticks": ""
            },
            "colorscale": [
             [
              0,
              "#0d0887"
             ],
             [
              0.1111111111111111,
              "#46039f"
             ],
             [
              0.2222222222222222,
              "#7201a8"
             ],
             [
              0.3333333333333333,
              "#9c179e"
             ],
             [
              0.4444444444444444,
              "#bd3786"
             ],
             [
              0.5555555555555556,
              "#d8576b"
             ],
             [
              0.6666666666666666,
              "#ed7953"
             ],
             [
              0.7777777777777778,
              "#fb9f3a"
             ],
             [
              0.8888888888888888,
              "#fdca26"
             ],
             [
              1,
              "#f0f921"
             ]
            ],
            "type": "histogram2d"
           }
          ],
          "histogram2dcontour": [
           {
            "colorbar": {
             "outlinewidth": 0,
             "ticks": ""
            },
            "colorscale": [
             [
              0,
              "#0d0887"
             ],
             [
              0.1111111111111111,
              "#46039f"
             ],
             [
              0.2222222222222222,
              "#7201a8"
             ],
             [
              0.3333333333333333,
              "#9c179e"
             ],
             [
              0.4444444444444444,
              "#bd3786"
             ],
             [
              0.5555555555555556,
              "#d8576b"
             ],
             [
              0.6666666666666666,
              "#ed7953"
             ],
             [
              0.7777777777777778,
              "#fb9f3a"
             ],
             [
              0.8888888888888888,
              "#fdca26"
             ],
             [
              1,
              "#f0f921"
             ]
            ],
            "type": "histogram2dcontour"
           }
          ],
          "mesh3d": [
           {
            "colorbar": {
             "outlinewidth": 0,
             "ticks": ""
            },
            "type": "mesh3d"
           }
          ],
          "parcoords": [
           {
            "line": {
             "colorbar": {
              "outlinewidth": 0,
              "ticks": ""
             }
            },
            "type": "parcoords"
           }
          ],
          "pie": [
           {
            "automargin": true,
            "type": "pie"
           }
          ],
          "scatter": [
           {
            "fillpattern": {
             "fillmode": "overlay",
             "size": 10,
             "solidity": 0.2
            },
            "type": "scatter"
           }
          ],
          "scatter3d": [
           {
            "line": {
             "colorbar": {
              "outlinewidth": 0,
              "ticks": ""
             }
            },
            "marker": {
             "colorbar": {
              "outlinewidth": 0,
              "ticks": ""
             }
            },
            "type": "scatter3d"
           }
          ],
          "scattercarpet": [
           {
            "marker": {
             "colorbar": {
              "outlinewidth": 0,
              "ticks": ""
             }
            },
            "type": "scattercarpet"
           }
          ],
          "scattergeo": [
           {
            "marker": {
             "colorbar": {
              "outlinewidth": 0,
              "ticks": ""
             }
            },
            "type": "scattergeo"
           }
          ],
          "scattergl": [
           {
            "marker": {
             "colorbar": {
              "outlinewidth": 0,
              "ticks": ""
             }
            },
            "type": "scattergl"
           }
          ],
          "scattermap": [
           {
            "marker": {
             "colorbar": {
              "outlinewidth": 0,
              "ticks": ""
             }
            },
            "type": "scattermap"
           }
          ],
          "scattermapbox": [
           {
            "marker": {
             "colorbar": {
              "outlinewidth": 0,
              "ticks": ""
             }
            },
            "type": "scattermapbox"
           }
          ],
          "scatterpolar": [
           {
            "marker": {
             "colorbar": {
              "outlinewidth": 0,
              "ticks": ""
             }
            },
            "type": "scatterpolar"
           }
          ],
          "scatterpolargl": [
           {
            "marker": {
             "colorbar": {
              "outlinewidth": 0,
              "ticks": ""
             }
            },
            "type": "scatterpolargl"
           }
          ],
          "scatterternary": [
           {
            "marker": {
             "colorbar": {
              "outlinewidth": 0,
              "ticks": ""
             }
            },
            "type": "scatterternary"
           }
          ],
          "surface": [
           {
            "colorbar": {
             "outlinewidth": 0,
             "ticks": ""
            },
            "colorscale": [
             [
              0,
              "#0d0887"
             ],
             [
              0.1111111111111111,
              "#46039f"
             ],
             [
              0.2222222222222222,
              "#7201a8"
             ],
             [
              0.3333333333333333,
              "#9c179e"
             ],
             [
              0.4444444444444444,
              "#bd3786"
             ],
             [
              0.5555555555555556,
              "#d8576b"
             ],
             [
              0.6666666666666666,
              "#ed7953"
             ],
             [
              0.7777777777777778,
              "#fb9f3a"
             ],
             [
              0.8888888888888888,
              "#fdca26"
             ],
             [
              1,
              "#f0f921"
             ]
            ],
            "type": "surface"
           }
          ],
          "table": [
           {
            "cells": {
             "fill": {
              "color": "#EBF0F8"
             },
             "line": {
              "color": "white"
             }
            },
            "header": {
             "fill": {
              "color": "#C8D4E3"
             },
             "line": {
              "color": "white"
             }
            },
            "type": "table"
           }
          ]
         },
         "layout": {
          "annotationdefaults": {
           "arrowcolor": "#2a3f5f",
           "arrowhead": 0,
           "arrowwidth": 1
          },
          "autotypenumbers": "strict",
          "coloraxis": {
           "colorbar": {
            "outlinewidth": 0,
            "ticks": ""
           }
          },
          "colorscale": {
           "diverging": [
            [
             0,
             "#8e0152"
            ],
            [
             0.1,
             "#c51b7d"
            ],
            [
             0.2,
             "#de77ae"
            ],
            [
             0.3,
             "#f1b6da"
            ],
            [
             0.4,
             "#fde0ef"
            ],
            [
             0.5,
             "#f7f7f7"
            ],
            [
             0.6,
             "#e6f5d0"
            ],
            [
             0.7,
             "#b8e186"
            ],
            [
             0.8,
             "#7fbc41"
            ],
            [
             0.9,
             "#4d9221"
            ],
            [
             1,
             "#276419"
            ]
           ],
           "sequential": [
            [
             0,
             "#0d0887"
            ],
            [
             0.1111111111111111,
             "#46039f"
            ],
            [
             0.2222222222222222,
             "#7201a8"
            ],
            [
             0.3333333333333333,
             "#9c179e"
            ],
            [
             0.4444444444444444,
             "#bd3786"
            ],
            [
             0.5555555555555556,
             "#d8576b"
            ],
            [
             0.6666666666666666,
             "#ed7953"
            ],
            [
             0.7777777777777778,
             "#fb9f3a"
            ],
            [
             0.8888888888888888,
             "#fdca26"
            ],
            [
             1,
             "#f0f921"
            ]
           ],
           "sequentialminus": [
            [
             0,
             "#0d0887"
            ],
            [
             0.1111111111111111,
             "#46039f"
            ],
            [
             0.2222222222222222,
             "#7201a8"
            ],
            [
             0.3333333333333333,
             "#9c179e"
            ],
            [
             0.4444444444444444,
             "#bd3786"
            ],
            [
             0.5555555555555556,
             "#d8576b"
            ],
            [
             0.6666666666666666,
             "#ed7953"
            ],
            [
             0.7777777777777778,
             "#fb9f3a"
            ],
            [
             0.8888888888888888,
             "#fdca26"
            ],
            [
             1,
             "#f0f921"
            ]
           ]
          },
          "colorway": [
           "#636efa",
           "#EF553B",
           "#00cc96",
           "#ab63fa",
           "#FFA15A",
           "#19d3f3",
           "#FF6692",
           "#B6E880",
           "#FF97FF",
           "#FECB52"
          ],
          "font": {
           "color": "#2a3f5f"
          },
          "geo": {
           "bgcolor": "white",
           "lakecolor": "white",
           "landcolor": "#E5ECF6",
           "showlakes": true,
           "showland": true,
           "subunitcolor": "white"
          },
          "hoverlabel": {
           "align": "left"
          },
          "hovermode": "closest",
          "mapbox": {
           "style": "light"
          },
          "paper_bgcolor": "white",
          "plot_bgcolor": "#E5ECF6",
          "polar": {
           "angularaxis": {
            "gridcolor": "white",
            "linecolor": "white",
            "ticks": ""
           },
           "bgcolor": "#E5ECF6",
           "radialaxis": {
            "gridcolor": "white",
            "linecolor": "white",
            "ticks": ""
           }
          },
          "scene": {
           "xaxis": {
            "backgroundcolor": "#E5ECF6",
            "gridcolor": "white",
            "gridwidth": 2,
            "linecolor": "white",
            "showbackground": true,
            "ticks": "",
            "zerolinecolor": "white"
           },
           "yaxis": {
            "backgroundcolor": "#E5ECF6",
            "gridcolor": "white",
            "gridwidth": 2,
            "linecolor": "white",
            "showbackground": true,
            "ticks": "",
            "zerolinecolor": "white"
           },
           "zaxis": {
            "backgroundcolor": "#E5ECF6",
            "gridcolor": "white",
            "gridwidth": 2,
            "linecolor": "white",
            "showbackground": true,
            "ticks": "",
            "zerolinecolor": "white"
           }
          },
          "shapedefaults": {
           "line": {
            "color": "#2a3f5f"
           }
          },
          "ternary": {
           "aaxis": {
            "gridcolor": "white",
            "linecolor": "white",
            "ticks": ""
           },
           "baxis": {
            "gridcolor": "white",
            "linecolor": "white",
            "ticks": ""
           },
           "bgcolor": "#E5ECF6",
           "caxis": {
            "gridcolor": "white",
            "linecolor": "white",
            "ticks": ""
           }
          },
          "title": {
           "x": 0.05
          },
          "xaxis": {
           "automargin": true,
           "gridcolor": "white",
           "linecolor": "white",
           "ticks": "",
           "title": {
            "standoff": 15
           },
           "zerolinecolor": "white",
           "zerolinewidth": 2
          },
          "yaxis": {
           "automargin": true,
           "gridcolor": "white",
           "linecolor": "white",
           "ticks": "",
           "title": {
            "standoff": 15
           },
           "zerolinecolor": "white",
           "zerolinewidth": 2
          }
         }
        },
        "title": {
         "text": "Origine Attacco e Vulnerabilità Sfruttata"
        }
       }
      }
     },
     "metadata": {},
     "output_type": "display_data"
    },
    {
     "data": {
      "application/vnd.plotly.v1+json": {
       "config": {
        "plotlyServerURL": "https://plot.ly"
       },
       "data": [
        {
         "hovertemplate": "Attack Type=%{x}<br>Tempo Medio (ore)=%{y}<extra></extra>",
         "legendgroup": "",
         "marker": {
          "color": "#636efa",
          "pattern": {
           "shape": ""
          }
         },
         "name": "",
         "orientation": "v",
         "showlegend": false,
         "textposition": "auto",
         "type": "bar",
         "x": [
          "DDoS",
          "Phishing",
          "Ransomware",
          "Man-in-the-Middle",
          "SQL Injection",
          "Malware"
         ],
         "xaxis": "x",
         "y": {
          "bdata": "yuqjJPzXQUBvetOb3vRBQED5oLJIREJAU+HE/YtvQkCOH84tCnRCQFYZkEOAiUJA",
          "dtype": "f8"
         },
         "yaxis": "y"
        }
       ],
       "layout": {
        "barmode": "relative",
        "legend": {
         "tracegroupgap": 0
        },
        "template": {
         "data": {
          "bar": [
           {
            "error_x": {
             "color": "#2a3f5f"
            },
            "error_y": {
             "color": "#2a3f5f"
            },
            "marker": {
             "line": {
              "color": "#E5ECF6",
              "width": 0.5
             },
             "pattern": {
              "fillmode": "overlay",
              "size": 10,
              "solidity": 0.2
             }
            },
            "type": "bar"
           }
          ],
          "barpolar": [
           {
            "marker": {
             "line": {
              "color": "#E5ECF6",
              "width": 0.5
             },
             "pattern": {
              "fillmode": "overlay",
              "size": 10,
              "solidity": 0.2
             }
            },
            "type": "barpolar"
           }
          ],
          "carpet": [
           {
            "aaxis": {
             "endlinecolor": "#2a3f5f",
             "gridcolor": "white",
             "linecolor": "white",
             "minorgridcolor": "white",
             "startlinecolor": "#2a3f5f"
            },
            "baxis": {
             "endlinecolor": "#2a3f5f",
             "gridcolor": "white",
             "linecolor": "white",
             "minorgridcolor": "white",
             "startlinecolor": "#2a3f5f"
            },
            "type": "carpet"
           }
          ],
          "choropleth": [
           {
            "colorbar": {
             "outlinewidth": 0,
             "ticks": ""
            },
            "type": "choropleth"
           }
          ],
          "contour": [
           {
            "colorbar": {
             "outlinewidth": 0,
             "ticks": ""
            },
            "colorscale": [
             [
              0,
              "#0d0887"
             ],
             [
              0.1111111111111111,
              "#46039f"
             ],
             [
              0.2222222222222222,
              "#7201a8"
             ],
             [
              0.3333333333333333,
              "#9c179e"
             ],
             [
              0.4444444444444444,
              "#bd3786"
             ],
             [
              0.5555555555555556,
              "#d8576b"
             ],
             [
              0.6666666666666666,
              "#ed7953"
             ],
             [
              0.7777777777777778,
              "#fb9f3a"
             ],
             [
              0.8888888888888888,
              "#fdca26"
             ],
             [
              1,
              "#f0f921"
             ]
            ],
            "type": "contour"
           }
          ],
          "contourcarpet": [
           {
            "colorbar": {
             "outlinewidth": 0,
             "ticks": ""
            },
            "type": "contourcarpet"
           }
          ],
          "heatmap": [
           {
            "colorbar": {
             "outlinewidth": 0,
             "ticks": ""
            },
            "colorscale": [
             [
              0,
              "#0d0887"
             ],
             [
              0.1111111111111111,
              "#46039f"
             ],
             [
              0.2222222222222222,
              "#7201a8"
             ],
             [
              0.3333333333333333,
              "#9c179e"
             ],
             [
              0.4444444444444444,
              "#bd3786"
             ],
             [
              0.5555555555555556,
              "#d8576b"
             ],
             [
              0.6666666666666666,
              "#ed7953"
             ],
             [
              0.7777777777777778,
              "#fb9f3a"
             ],
             [
              0.8888888888888888,
              "#fdca26"
             ],
             [
              1,
              "#f0f921"
             ]
            ],
            "type": "heatmap"
           }
          ],
          "histogram": [
           {
            "marker": {
             "pattern": {
              "fillmode": "overlay",
              "size": 10,
              "solidity": 0.2
             }
            },
            "type": "histogram"
           }
          ],
          "histogram2d": [
           {
            "colorbar": {
             "outlinewidth": 0,
             "ticks": ""
            },
            "colorscale": [
             [
              0,
              "#0d0887"
             ],
             [
              0.1111111111111111,
              "#46039f"
             ],
             [
              0.2222222222222222,
              "#7201a8"
             ],
             [
              0.3333333333333333,
              "#9c179e"
             ],
             [
              0.4444444444444444,
              "#bd3786"
             ],
             [
              0.5555555555555556,
              "#d8576b"
             ],
             [
              0.6666666666666666,
              "#ed7953"
             ],
             [
              0.7777777777777778,
              "#fb9f3a"
             ],
             [
              0.8888888888888888,
              "#fdca26"
             ],
             [
              1,
              "#f0f921"
             ]
            ],
            "type": "histogram2d"
           }
          ],
          "histogram2dcontour": [
           {
            "colorbar": {
             "outlinewidth": 0,
             "ticks": ""
            },
            "colorscale": [
             [
              0,
              "#0d0887"
             ],
             [
              0.1111111111111111,
              "#46039f"
             ],
             [
              0.2222222222222222,
              "#7201a8"
             ],
             [
              0.3333333333333333,
              "#9c179e"
             ],
             [
              0.4444444444444444,
              "#bd3786"
             ],
             [
              0.5555555555555556,
              "#d8576b"
             ],
             [
              0.6666666666666666,
              "#ed7953"
             ],
             [
              0.7777777777777778,
              "#fb9f3a"
             ],
             [
              0.8888888888888888,
              "#fdca26"
             ],
             [
              1,
              "#f0f921"
             ]
            ],
            "type": "histogram2dcontour"
           }
          ],
          "mesh3d": [
           {
            "colorbar": {
             "outlinewidth": 0,
             "ticks": ""
            },
            "type": "mesh3d"
           }
          ],
          "parcoords": [
           {
            "line": {
             "colorbar": {
              "outlinewidth": 0,
              "ticks": ""
             }
            },
            "type": "parcoords"
           }
          ],
          "pie": [
           {
            "automargin": true,
            "type": "pie"
           }
          ],
          "scatter": [
           {
            "fillpattern": {
             "fillmode": "overlay",
             "size": 10,
             "solidity": 0.2
            },
            "type": "scatter"
           }
          ],
          "scatter3d": [
           {
            "line": {
             "colorbar": {
              "outlinewidth": 0,
              "ticks": ""
             }
            },
            "marker": {
             "colorbar": {
              "outlinewidth": 0,
              "ticks": ""
             }
            },
            "type": "scatter3d"
           }
          ],
          "scattercarpet": [
           {
            "marker": {
             "colorbar": {
              "outlinewidth": 0,
              "ticks": ""
             }
            },
            "type": "scattercarpet"
           }
          ],
          "scattergeo": [
           {
            "marker": {
             "colorbar": {
              "outlinewidth": 0,
              "ticks": ""
             }
            },
            "type": "scattergeo"
           }
          ],
          "scattergl": [
           {
            "marker": {
             "colorbar": {
              "outlinewidth": 0,
              "ticks": ""
             }
            },
            "type": "scattergl"
           }
          ],
          "scattermap": [
           {
            "marker": {
             "colorbar": {
              "outlinewidth": 0,
              "ticks": ""
             }
            },
            "type": "scattermap"
           }
          ],
          "scattermapbox": [
           {
            "marker": {
             "colorbar": {
              "outlinewidth": 0,
              "ticks": ""
             }
            },
            "type": "scattermapbox"
           }
          ],
          "scatterpolar": [
           {
            "marker": {
             "colorbar": {
              "outlinewidth": 0,
              "ticks": ""
             }
            },
            "type": "scatterpolar"
           }
          ],
          "scatterpolargl": [
           {
            "marker": {
             "colorbar": {
              "outlinewidth": 0,
              "ticks": ""
             }
            },
            "type": "scatterpolargl"
           }
          ],
          "scatterternary": [
           {
            "marker": {
             "colorbar": {
              "outlinewidth": 0,
              "ticks": ""
             }
            },
            "type": "scatterternary"
           }
          ],
          "surface": [
           {
            "colorbar": {
             "outlinewidth": 0,
             "ticks": ""
            },
            "colorscale": [
             [
              0,
              "#0d0887"
             ],
             [
              0.1111111111111111,
              "#46039f"
             ],
             [
              0.2222222222222222,
              "#7201a8"
             ],
             [
              0.3333333333333333,
              "#9c179e"
             ],
             [
              0.4444444444444444,
              "#bd3786"
             ],
             [
              0.5555555555555556,
              "#d8576b"
             ],
             [
              0.6666666666666666,
              "#ed7953"
             ],
             [
              0.7777777777777778,
              "#fb9f3a"
             ],
             [
              0.8888888888888888,
              "#fdca26"
             ],
             [
              1,
              "#f0f921"
             ]
            ],
            "type": "surface"
           }
          ],
          "table": [
           {
            "cells": {
             "fill": {
              "color": "#EBF0F8"
             },
             "line": {
              "color": "white"
             }
            },
            "header": {
             "fill": {
              "color": "#C8D4E3"
             },
             "line": {
              "color": "white"
             }
            },
            "type": "table"
           }
          ]
         },
         "layout": {
          "annotationdefaults": {
           "arrowcolor": "#2a3f5f",
           "arrowhead": 0,
           "arrowwidth": 1
          },
          "autotypenumbers": "strict",
          "coloraxis": {
           "colorbar": {
            "outlinewidth": 0,
            "ticks": ""
           }
          },
          "colorscale": {
           "diverging": [
            [
             0,
             "#8e0152"
            ],
            [
             0.1,
             "#c51b7d"
            ],
            [
             0.2,
             "#de77ae"
            ],
            [
             0.3,
             "#f1b6da"
            ],
            [
             0.4,
             "#fde0ef"
            ],
            [
             0.5,
             "#f7f7f7"
            ],
            [
             0.6,
             "#e6f5d0"
            ],
            [
             0.7,
             "#b8e186"
            ],
            [
             0.8,
             "#7fbc41"
            ],
            [
             0.9,
             "#4d9221"
            ],
            [
             1,
             "#276419"
            ]
           ],
           "sequential": [
            [
             0,
             "#0d0887"
            ],
            [
             0.1111111111111111,
             "#46039f"
            ],
            [
             0.2222222222222222,
             "#7201a8"
            ],
            [
             0.3333333333333333,
             "#9c179e"
            ],
            [
             0.4444444444444444,
             "#bd3786"
            ],
            [
             0.5555555555555556,
             "#d8576b"
            ],
            [
             0.6666666666666666,
             "#ed7953"
            ],
            [
             0.7777777777777778,
             "#fb9f3a"
            ],
            [
             0.8888888888888888,
             "#fdca26"
            ],
            [
             1,
             "#f0f921"
            ]
           ],
           "sequentialminus": [
            [
             0,
             "#0d0887"
            ],
            [
             0.1111111111111111,
             "#46039f"
            ],
            [
             0.2222222222222222,
             "#7201a8"
            ],
            [
             0.3333333333333333,
             "#9c179e"
            ],
            [
             0.4444444444444444,
             "#bd3786"
            ],
            [
             0.5555555555555556,
             "#d8576b"
            ],
            [
             0.6666666666666666,
             "#ed7953"
            ],
            [
             0.7777777777777778,
             "#fb9f3a"
            ],
            [
             0.8888888888888888,
             "#fdca26"
            ],
            [
             1,
             "#f0f921"
            ]
           ]
          },
          "colorway": [
           "#636efa",
           "#EF553B",
           "#00cc96",
           "#ab63fa",
           "#FFA15A",
           "#19d3f3",
           "#FF6692",
           "#B6E880",
           "#FF97FF",
           "#FECB52"
          ],
          "font": {
           "color": "#2a3f5f"
          },
          "geo": {
           "bgcolor": "white",
           "lakecolor": "white",
           "landcolor": "#E5ECF6",
           "showlakes": true,
           "showland": true,
           "subunitcolor": "white"
          },
          "hoverlabel": {
           "align": "left"
          },
          "hovermode": "closest",
          "mapbox": {
           "style": "light"
          },
          "paper_bgcolor": "white",
          "plot_bgcolor": "#E5ECF6",
          "polar": {
           "angularaxis": {
            "gridcolor": "white",
            "linecolor": "white",
            "ticks": ""
           },
           "bgcolor": "#E5ECF6",
           "radialaxis": {
            "gridcolor": "white",
            "linecolor": "white",
            "ticks": ""
           }
          },
          "scene": {
           "xaxis": {
            "backgroundcolor": "#E5ECF6",
            "gridcolor": "white",
            "gridwidth": 2,
            "linecolor": "white",
            "showbackground": true,
            "ticks": "",
            "zerolinecolor": "white"
           },
           "yaxis": {
            "backgroundcolor": "#E5ECF6",
            "gridcolor": "white",
            "gridwidth": 2,
            "linecolor": "white",
            "showbackground": true,
            "ticks": "",
            "zerolinecolor": "white"
           },
           "zaxis": {
            "backgroundcolor": "#E5ECF6",
            "gridcolor": "white",
            "gridwidth": 2,
            "linecolor": "white",
            "showbackground": true,
            "ticks": "",
            "zerolinecolor": "white"
           }
          },
          "shapedefaults": {
           "line": {
            "color": "#2a3f5f"
           }
          },
          "ternary": {
           "aaxis": {
            "gridcolor": "white",
            "linecolor": "white",
            "ticks": ""
           },
           "baxis": {
            "gridcolor": "white",
            "linecolor": "white",
            "ticks": ""
           },
           "bgcolor": "#E5ECF6",
           "caxis": {
            "gridcolor": "white",
            "linecolor": "white",
            "ticks": ""
           }
          },
          "title": {
           "x": 0.05
          },
          "xaxis": {
           "automargin": true,
           "gridcolor": "white",
           "linecolor": "white",
           "ticks": "",
           "title": {
            "standoff": 15
           },
           "zerolinecolor": "white",
           "zerolinewidth": 2
          },
          "yaxis": {
           "automargin": true,
           "gridcolor": "white",
           "linecolor": "white",
           "ticks": "",
           "title": {
            "standoff": 15
           },
           "zerolinecolor": "white",
           "zerolinewidth": 2
          }
         }
        },
        "title": {
         "text": "Tempo Medio di Risoluzione per Tipo di Attacco"
        },
        "xaxis": {
         "anchor": "y",
         "domain": [
          0,
          1
         ],
         "title": {
          "text": "Attack Type"
         }
        },
        "yaxis": {
         "anchor": "x",
         "domain": [
          0,
          1
         ],
         "title": {
          "text": "Tempo Medio (ore)"
         }
        }
       }
      }
     },
     "metadata": {},
     "output_type": "display_data"
    },
    {
     "data": {
      "image/png": "[encoded data removed]",
      "text/plain": [
       "<Figure size 1200x600 with 2 Axes>"
      ]
     },
     "metadata": {},
     "output_type": "display_data"
    }
   ],
   "source": [
    "# 📊 Cybersecurity Threats – Analisi completa\n",
    "import pandas as pd\n",
    "import matplotlib.pyplot as plt\n",
    "import seaborn as sns\n",
    "import plotly.express as px\n",
    "import plotly.graph_objects as go\n",
    "\n",
    "# Caricamento dati\n",
    "df = pd.read_csv(\"Global_Cybersecurity_Threats_2015-2024.csv\")\n",
    "\n",
    "# Pulizia\n",
    "df['Year'] = df['Year'].astype(int)\n",
    "df['Financial Loss (in Million $)'] = pd.to_numeric(df['Financial Loss (in Million $)'], errors='coerce')\n",
    "df['Number of Affected Users'] = pd.to_numeric(df['Number of Affected Users'], errors='coerce')\n",
    "\n",
    "# === 1. Trend degli attacchi nel tempo ===\n",
    "attacks_by_year = df.groupby(['Year', 'Attack Type']).size().reset_index(name='Count')\n",
    "fig1 = px.line(attacks_by_year, x='Year', y='Count', color='Attack Type',\n",
    "               title='Andamento delle Minacce Cyber per Tipo (2015–2024)')\n",
    "fig1.show()\n",
    "\n",
    "# === 2. Mappa geografica degli attacchi ===\n",
    "country_count = df['Country'].value_counts().reset_index()\n",
    "country_count.columns = ['Country', 'Count']\n",
    "fig2 = px.choropleth(country_count, locations='Country', locationmode='country names',\n",
    "                     color='Count', title='Distribuzione Geografica delle Cyber Threats')\n",
    "fig2.show()\n",
    "\n",
    "# === 3. Settori più colpiti ===\n",
    "industry_count = df['Target Industry'].value_counts().head(10)\n",
    "fig3 = px.bar(industry_count, x=industry_count.index, y=industry_count.values,\n",
    "              labels={\"x\": \"Settore\", \"y\": \"Numero di Attacchi\"},\n",
    "              title=\"Top 10 Settori Colpiti\")\n",
    "fig3.show()\n",
    "\n",
    "# === 4. Perdita economica media per tipo di attacco ===\n",
    "loss_by_type = df.groupby('Attack Type')['Financial Loss (in Million $)'].mean().sort_values(ascending=False)\n",
    "plt.figure(figsize=(10,5))\n",
    "sns.barplot(x=loss_by_type.values, y=loss_by_type.index, palette=\"Reds_r\")\n",
    "plt.title(\"Perdita Economica Media per Tipo di Attacco ($ Milioni)\")\n",
    "plt.xlabel(\"Milioni di $\")\n",
    "plt.ylabel(\"Tipo di Attacco\")\n",
    "plt.tight_layout()\n",
    "plt.show()\n",
    "\n",
    "# === 5. Distribuzione utenti colpiti per attacco ===\n",
    "plt.figure(figsize=(10,5))\n",
    "sns.boxplot(data=df, x='Attack Type', y='Number of Affected Users', palette=\"coolwarm\")\n",
    "plt.yscale('log')\n",
    "plt.title(\"Distribuzione Utenti Colpiti per Tipo di Attacco (Scala Logaritmica)\")\n",
    "plt.xticks(rotation=45)\n",
    "plt.tight_layout()\n",
    "plt.show()\n",
    "\n",
    "# === 6. Tecnologie di difesa più usate ===\n",
    "plt.figure(figsize=(8,5))\n",
    "sns.countplot(data=df, y='Defense Mechanism Used', order=df['Defense Mechanism Used'].value_counts().index, palette='Blues_r')\n",
    "plt.title(\"Tecnologie di Difesa Utilizzate\")\n",
    "plt.xlabel(\"Frequenza\")\n",
    "plt.tight_layout()\n",
    "plt.show()\n",
    "\n",
    "# === 7. Fonte di attacco × vulnerabilità ===\n",
    "source_vuln = df.groupby(['Attack Source', 'Security Vulnerability Type']).size().reset_index(name='Count')\n",
    "fig4 = px.sunburst(source_vuln, path=['Attack Source', 'Security Vulnerability Type'], values='Count',\n",
    "                   title='Origine Attacco e Vulnerabilità Sfruttata')\n",
    "fig4.show()\n",
    "\n",
    "# === 8. Tempo medio di risoluzione per attacco ===\n",
    "avg_resolution = df.groupby('Attack Type')['Incident Resolution Time (in Hours)'].mean().sort_values()\n",
    "fig5 = px.bar(avg_resolution, x=avg_resolution.index, y=avg_resolution.values,\n",
    "              labels={\"x\": \"Tipo di Attacco\", \"y\": \"Tempo Medio (ore)\"},\n",
    "              title=\"Tempo Medio di Risoluzione per Tipo di Attacco\")\n",
    "fig5.show()\n",
    "\n",
    "# === 9. Heatmap Attacco × Paese ===\n",
    "heat_df = df.groupby(['Country', 'Attack Type']).size().unstack(fill_value=0)\n",
    "plt.figure(figsize=(12,6))\n",
    "sns.heatmap(heat_df, cmap=\"YlGnBu\", annot=False)\n",
    "plt.title(\"Heatmap – Frequenza degli Attacchi per Paese e Tipo\")\n",
    "plt.xlabel(\"Tipo di Attacco\")\n",
    "plt.ylabel(\"Paese\")\n",
    "plt.tight_layout()\n",
    "plt.show()\n"
   ]
  },
  {
   "cell_type": "code",
   "execution_count": null,
   "metadata": {},
   "outputs": [
    {
     "ename": "KeyError",
     "evalue": "'Breach Size'",
     "output_type": "error",
     "traceback": [
      "\u001b[31m---------------------------------------------------------------------------\u001b[39m",
      "\u001b[31mKeyError\u001b[39m                                  Traceback (most recent call last)",
      "\u001b[36mFile \u001b[39m\u001b[32m~\\AppData\\Local\\Packages\\PythonSoftwareFoundation.Python.3.12_qbz5n2kfra8p0\\LocalCache\\local-packages\\Python312\\site-packages\\pandas\\core\\indexes\\base.py:3805\u001b[39m, in \u001b[36mIndex.get_loc\u001b[39m\u001b[34m(self, key)\u001b[39m\n\u001b[32m   3804\u001b[39m \u001b[38;5;28;01mtry\u001b[39;00m:\n\u001b[32m-> \u001b[39m\u001b[32m3805\u001b[39m     \u001b[38;5;28;01mreturn\u001b[39;00m \u001b[38;5;28;43mself\u001b[39;49m\u001b[43m.\u001b[49m\u001b[43m_engine\u001b[49m\u001b[43m.\u001b[49m\u001b[43mget_loc\u001b[49m\u001b[43m(\u001b[49m\u001b[43mcasted_key\u001b[49m\u001b[43m)\u001b[49m\n\u001b[32m   3806\u001b[39m \u001b[38;5;28;01mexcept\u001b[39;00m \u001b[38;5;167;01mKeyError\u001b[39;00m \u001b[38;5;28;01mas\u001b[39;00m err:\n",
      "\u001b[36mFile \u001b[39m\u001b[32mindex.pyx:167\u001b[39m, in \u001b[36mpandas._libs.index.IndexEngine.get_loc\u001b[39m\u001b[34m()\u001b[39m\n",
      "\u001b[36mFile \u001b[39m\u001b[32mindex.pyx:196\u001b[39m, in \u001b[36mpandas._libs.index.IndexEngine.get_loc\u001b[39m\u001b[34m()\u001b[39m\n",
      "\u001b[36mFile \u001b[39m\u001b[32mpandas\\\\_libs\\\\hashtable_class_helper.pxi:7081\u001b[39m, in \u001b[36mpandas._libs.hashtable.PyObjectHashTable.get_item\u001b[39m\u001b[34m()\u001b[39m\n",
      "\u001b[36mFile \u001b[39m\u001b[32mpandas\\\\_libs\\\\hashtable_class_helper.pxi:7089\u001b[39m, in \u001b[36mpandas._libs.hashtable.PyObjectHashTable.get_item\u001b[39m\u001b[34m()\u001b[39m\n",
      "\u001b[31mKeyError\u001b[39m: 'Breach Size'",
      "\nThe above exception was the direct cause of the following exception:\n",
      "\u001b[31mKeyError\u001b[39m                                  Traceback (most recent call last)",
      "\u001b[36mCell\u001b[39m\u001b[36m \u001b[39m\u001b[32mIn[4]\u001b[39m\u001b[32m, line 14\u001b[39m\n\u001b[32m      8\u001b[39m sns.set_theme(style=\u001b[33m\"\u001b[39m\u001b[33mdarkgrid\u001b[39m\u001b[33m\"\u001b[39m)\n\u001b[32m     10\u001b[39m \u001b[38;5;66;03m# Caricamento\u001b[39;00m\n\u001b[32m     11\u001b[39m \n\u001b[32m     12\u001b[39m \n\u001b[32m     13\u001b[39m \u001b[38;5;66;03m# Conversioni e pulizia\u001b[39;00m\n\u001b[32m---> \u001b[39m\u001b[32m14\u001b[39m df[\u001b[33m'\u001b[39m\u001b[33mBreach Size\u001b[39m\u001b[33m'\u001b[39m] = pd.to_numeric(\u001b[43mdf\u001b[49m\u001b[43m[\u001b[49m\u001b[33;43m'\u001b[39;49m\u001b[33;43mBreach Size\u001b[39;49m\u001b[33;43m'\u001b[39;49m\u001b[43m]\u001b[49m, errors=\u001b[33m'\u001b[39m\u001b[33mcoerce\u001b[39m\u001b[33m'\u001b[39m)\n\u001b[32m     15\u001b[39m df[\u001b[33m'\u001b[39m\u001b[33mYear\u001b[39m\u001b[33m'\u001b[39m] = pd.to_datetime(df[\u001b[33m'\u001b[39m\u001b[33mBreach Date\u001b[39m\u001b[33m'\u001b[39m], errors=\u001b[33m'\u001b[39m\u001b[33mcoerce\u001b[39m\u001b[33m'\u001b[39m).dt.year\n\u001b[32m     16\u001b[39m df[\u001b[33m'\u001b[39m\u001b[33mEmail Compromised?\u001b[39m\u001b[33m'\u001b[39m] = df[\u001b[33m'\u001b[39m\u001b[33mEmail Compromised?\u001b[39m\u001b[33m'\u001b[39m].fillna(\u001b[33m\"\u001b[39m\u001b[33mUnknown\u001b[39m\u001b[33m\"\u001b[39m)\n",
      "\u001b[36mFile \u001b[39m\u001b[32m~\\AppData\\Local\\Packages\\PythonSoftwareFoundation.Python.3.12_qbz5n2kfra8p0\\LocalCache\\local-packages\\Python312\\site-packages\\pandas\\core\\frame.py:4102\u001b[39m, in \u001b[36mDataFrame.__getitem__\u001b[39m\u001b[34m(self, key)\u001b[39m\n\u001b[32m   4100\u001b[39m \u001b[38;5;28;01mif\u001b[39;00m \u001b[38;5;28mself\u001b[39m.columns.nlevels > \u001b[32m1\u001b[39m:\n\u001b[32m   4101\u001b[39m     \u001b[38;5;28;01mreturn\u001b[39;00m \u001b[38;5;28mself\u001b[39m._getitem_multilevel(key)\n\u001b[32m-> \u001b[39m\u001b[32m4102\u001b[39m indexer = \u001b[38;5;28;43mself\u001b[39;49m\u001b[43m.\u001b[49m\u001b[43mcolumns\u001b[49m\u001b[43m.\u001b[49m\u001b[43mget_loc\u001b[49m\u001b[43m(\u001b[49m\u001b[43mkey\u001b[49m\u001b[43m)\u001b[49m\n\u001b[32m   4103\u001b[39m \u001b[38;5;28;01mif\u001b[39;00m is_integer(indexer):\n\u001b[32m   4104\u001b[39m     indexer = [indexer]\n",
      "\u001b[36mFile \u001b[39m\u001b[32m~\\AppData\\Local\\Packages\\PythonSoftwareFoundation.Python.3.12_qbz5n2kfra8p0\\LocalCache\\local-packages\\Python312\\site-packages\\pandas\\core\\indexes\\base.py:3812\u001b[39m, in \u001b[36mIndex.get_loc\u001b[39m\u001b[34m(self, key)\u001b[39m\n\u001b[32m   3807\u001b[39m     \u001b[38;5;28;01mif\u001b[39;00m \u001b[38;5;28misinstance\u001b[39m(casted_key, \u001b[38;5;28mslice\u001b[39m) \u001b[38;5;129;01mor\u001b[39;00m (\n\u001b[32m   3808\u001b[39m         \u001b[38;5;28misinstance\u001b[39m(casted_key, abc.Iterable)\n\u001b[32m   3809\u001b[39m         \u001b[38;5;129;01mand\u001b[39;00m \u001b[38;5;28many\u001b[39m(\u001b[38;5;28misinstance\u001b[39m(x, \u001b[38;5;28mslice\u001b[39m) \u001b[38;5;28;01mfor\u001b[39;00m x \u001b[38;5;129;01min\u001b[39;00m casted_key)\n\u001b[32m   3810\u001b[39m     ):\n\u001b[32m   3811\u001b[39m         \u001b[38;5;28;01mraise\u001b[39;00m InvalidIndexError(key)\n\u001b[32m-> \u001b[39m\u001b[32m3812\u001b[39m     \u001b[38;5;28;01mraise\u001b[39;00m \u001b[38;5;167;01mKeyError\u001b[39;00m(key) \u001b[38;5;28;01mfrom\u001b[39;00m\u001b[38;5;250m \u001b[39m\u001b[34;01merr\u001b[39;00m\n\u001b[32m   3813\u001b[39m \u001b[38;5;28;01mexcept\u001b[39;00m \u001b[38;5;167;01mTypeError\u001b[39;00m:\n\u001b[32m   3814\u001b[39m     \u001b[38;5;66;03m# If we have a listlike key, _check_indexing_error will raise\u001b[39;00m\n\u001b[32m   3815\u001b[39m     \u001b[38;5;66;03m#  InvalidIndexError. Otherwise we fall through and re-raise\u001b[39;00m\n\u001b[32m   3816\u001b[39m     \u001b[38;5;66;03m#  the TypeError.\u001b[39;00m\n\u001b[32m   3817\u001b[39m     \u001b[38;5;28mself\u001b[39m._check_indexing_error(key)\n",
      "\u001b[31mKeyError\u001b[39m: 'Breach Size'"
     ]
    }
   ],
   "source": [
    "# === 10. Correlazione tra perdita economica e numero di utenti colpiti ===\n",
    "fig6 = px.scatter(df, x='Number of Affected Users', y='Financial Loss (in Million $)',\n",
    "                  color='Attack Type', size='Incident Resolution Time (in Hours)',\n",
    "                  title=\"Perdita vs Utenti Colpiti (dimensione = tempo di risoluzione)\",\n",
    "                  log_x=True, log_y=True)\n",
    "fig6.show()\n",
    "\n",
    "# === 11. Bubble chart: Attacco vs Paese con perdite medie ===\n",
    "bubble = df.groupby(['Country', 'Attack Type']).agg({\n",
    "    'Financial Loss (in Million $)': 'mean',\n",
    "    'Number of Affected Users': 'mean'\n",
    "}).reset_index()\n",
    "\n",
    "fig7 = px.scatter(bubble, x='Country', y='Attack Type', size='Financial Loss (in Million $)',\n",
    "                  color='Number of Affected Users', title=\"Perdite Economiche Medie per Attacco e Paese\",\n",
    "                  size_max=60)\n",
    "fig7.show()\n",
    "\n",
    "# === 12. Treemap: Distribuzione Attacchi per Paese e Settore ===\n",
    "fig8 = px.treemap(df, path=['Country', 'Target Industry'], title=\"Treemap - Distribuzione Attacchi per Paese e Settore\")\n",
    "fig8.show()\n",
    "\n",
    "# === 13. Istogramma logaritmico: Risoluzione degli incidenti ===\n",
    "plt.figure(figsize=(10,5))\n",
    "sns.histplot(df['Incident Resolution Time (in Hours)'], bins=40, kde=True, color='purple', log_scale=True)\n",
    "plt.title(\"Distribuzione Logaritmica del Tempo di Risoluzione\")\n",
    "plt.xlabel(\"Tempo (ore)\")\n",
    "plt.tight_layout()\n",
    "plt.show()\n",
    "\n",
    "# === 14. Boxplot: Confronto tempo risoluzione per fonte di attacco ===\n",
    "plt.figure(figsize=(8,5))\n",
    "sns.boxplot(data=df, x='Attack Source', y='Incident Resolution Time (in Hours)', palette='Set2')\n",
    "plt.title(\"Tempo di Risoluzione per Fonte di Attacco\")\n",
    "plt.tight_layout()\n",
    "plt.show()\n",
    "\n",
    "# === 15. Countplot: Tipo di vulnerabilità più comune per ogni difesa usata ===\n",
    "cross_df = df.groupby(['Defense Mechanism Used', 'Security Vulnerability Type']).size().reset_index(name='Count')\n",
    "fig9 = px.bar(cross_df, x='Defense Mechanism Used', y='Count', color='Security Vulnerability Type',\n",
    "              title=\"Vulnerabilità affrontate da ciascuna difesa\", barmode='stack')\n",
    "fig9.show()\n",
    "\n",
    "# === 16. Pairplot (matrice di relazioni quantitative) ===\n",
    "sns.pairplot(df[['Financial Loss (in Million $)', 'Number of Affected Users', 'Incident Resolution Time (in Hours)']],\n",
    "             kind=\"scatter\", diag_kind=\"kde\", corner=True)\n",
    "plt.suptitle(\"Relazioni tra Variabili Quantitative\", y=1.02)\n",
    "plt.show()\n"
   ]
  }
 ],
 "metadata": {
  "kernelspec": {
   "display_name": "Python 3",
   "language": "python",
   "name": "python3"
  },
  "language_info": {
   "codemirror_mode": {
    "name": "ipython",
    "version": 3
   },
   "file_extension": ".py",
   "mimetype": "text/x-python",
   "name": "python",
   "nbconvert_exporter": "python",
   "pygments_lexer": "ipython3",
   "version": "3.12.10"
  }
 },
 "nbformat": 4,
 "nbformat_minor": 2
}
